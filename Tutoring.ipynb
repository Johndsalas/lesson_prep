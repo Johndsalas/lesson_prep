{
 "cells": [
  {
   "cell_type": "code",
   "execution_count": 11,
   "id": "fluid-basketball",
   "metadata": {},
   "outputs": [
    {
     "name": "stdout",
     "output_type": "stream",
     "text": [
      "The number 300 is greater than two hundred\n"
     ]
    }
   ],
   "source": [
    "number = 300\n",
    "\n",
    "\n",
    "if number > 200:\n",
    "    \n",
    "    print(f\"The number is greater than two hundred\")\n"
   ]
  },
  {
   "cell_type": "code",
   "execution_count": null,
   "id": "olympic-programmer",
   "metadata": {},
   "outputs": [],
   "source": [
    "else:\n",
    "    \n",
    "    print(\"number is not greater than one\")"
   ]
  },
  {
   "cell_type": "code",
   "execution_count": 12,
   "id": "alone-calculation",
   "metadata": {},
   "outputs": [],
   "source": [
    "s = \"This is a string\"\n",
    "s1 = \" Another string, this is\""
   ]
  },
  {
   "cell_type": "code",
   "execution_count": 15,
   "id": "upper-category",
   "metadata": {},
   "outputs": [
    {
     "data": {
      "text/plain": [
       "'This is a string Anither string, this is300'"
      ]
     },
     "execution_count": 15,
     "metadata": {},
     "output_type": "execute_result"
    }
   ],
   "source": [
    "s + s1 + str(number)"
   ]
  },
  {
   "cell_type": "code",
   "execution_count": 14,
   "id": "driving-montana",
   "metadata": {},
   "outputs": [
    {
     "data": {
      "text/plain": [
       "'300'"
      ]
     },
     "execution_count": 14,
     "metadata": {},
     "output_type": "execute_result"
    }
   ],
   "source": [
    "str(number)"
   ]
  },
  {
   "cell_type": "code",
   "execution_count": null,
   "id": "committed-benjamin",
   "metadata": {},
   "outputs": [],
   "source": [
    "int() "
   ]
  },
  {
   "cell_type": "code",
   "execution_count": 21,
   "id": "greater-terry",
   "metadata": {},
   "outputs": [],
   "source": [
    "li = [1,2,3,4]"
   ]
  },
  {
   "cell_type": "code",
   "execution_count": 22,
   "id": "accomplished-accountability",
   "metadata": {},
   "outputs": [],
   "source": [
    "li = [number**3 for number in li]"
   ]
  },
  {
   "cell_type": "code",
   "execution_count": 23,
   "id": "criminal-bronze",
   "metadata": {},
   "outputs": [
    {
     "data": {
      "text/plain": [
       "[1, 8, 27, 64]"
      ]
     },
     "execution_count": 23,
     "metadata": {},
     "output_type": "execute_result"
    }
   ],
   "source": []
  },
  {
   "cell_type": "code",
   "execution_count": 31,
   "id": "photographic-piece",
   "metadata": {},
   "outputs": [],
   "source": [
    "def my_func(li):\n",
    "    \n",
    "    li = [number**3 for number in li]\n",
    "    \n",
    "    li = [number+1 for number in li]\n",
    "    \n",
    "    return li"
   ]
  },
  {
   "cell_type": "code",
   "execution_count": 30,
   "id": "waiting-thinking",
   "metadata": {},
   "outputs": [
    {
     "data": {
      "text/plain": [
       "[2, 9, 28, 65]"
      ]
     },
     "execution_count": 30,
     "metadata": {},
     "output_type": "execute_result"
    }
   ],
   "source": [
    "my_func([1,2,3,4,5,5,6,7,5,4,3,7])"
   ]
  },
  {
   "cell_type": "code",
   "execution_count": 27,
   "id": "reliable-fellowship",
   "metadata": {},
   "outputs": [
    {
     "data": {
      "text/plain": [
       "[125, 216, 343, 512]"
      ]
     },
     "execution_count": 27,
     "metadata": {},
     "output_type": "execute_result"
    }
   ],
   "source": [
    "my_func([5,6,7,8])"
   ]
  },
  {
   "cell_type": "code",
   "execution_count": null,
   "id": "atlantic-preliminary",
   "metadata": {},
   "outputs": [],
   "source": [
    "my_func(li)"
   ]
  }
 ],
 "metadata": {
  "kernelspec": {
   "display_name": "Python 3",
   "language": "python",
   "name": "python3"
  },
  "language_info": {
   "codemirror_mode": {
    "name": "ipython",
    "version": 3
   },
   "file_extension": ".py",
   "mimetype": "text/x-python",
   "name": "python",
   "nbconvert_exporter": "python",
   "pygments_lexer": "ipython3",
   "version": "3.7.4"
  }
 },
 "nbformat": 4,
 "nbformat_minor": 5
}
