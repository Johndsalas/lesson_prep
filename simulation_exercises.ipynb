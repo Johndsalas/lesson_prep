{
 "cells": [
  {
   "cell_type": "markdown",
   "id": "japanese-services",
   "metadata": {},
   "source": [
    "# Simulation Exercises"
   ]
  },
  {
   "cell_type": "code",
   "execution_count": null,
   "id": "possible-ethnic",
   "metadata": {},
   "outputs": [],
   "source": [
    "import numpy as np\n",
    "import pandas as pd\n",
    "import random"
   ]
  },
  {
   "cell_type": "markdown",
   "id": "brilliant-lighter",
   "metadata": {},
   "source": [
    "### 1) How likely is it that you roll doubles when rolling two dice?"
   ]
  },
  {
   "cell_type": "code",
   "execution_count": null,
   "id": "systematic-heading",
   "metadata": {},
   "outputs": [],
   "source": [
    "# set number of trials and events per trial\n",
    "\n",
    "nrows = 100_000 # number of trials\n",
    "\n",
    "ncols = 2       # number of random events in each trial"
   ]
  },
  {
   "cell_type": "code",
   "execution_count": null,
   "id": "geographic-signature",
   "metadata": {},
   "outputs": [],
   "source": [
    "np.random.choice([1, 2, 3, 4, 5, 6],4)"
   ]
  },
  {
   "cell_type": "code",
   "execution_count": null,
   "id": "under-zealand",
   "metadata": {},
   "outputs": [],
   "source": [
    "np.random.choice([1, 2, 3, 4, 5, 6], nrows * ncols)"
   ]
  },
  {
   "cell_type": "code",
   "execution_count": null,
   "id": "discrete-relationship",
   "metadata": {},
   "outputs": [],
   "source": [
    "rolls = np.random.choice([1, 2, 3, 4, 5, 6], nrows * ncols).reshape(nrows, ncols)\n",
    "rolls"
   ]
  },
  {
   "cell_type": "code",
   "execution_count": null,
   "id": "victorian-production",
   "metadata": {},
   "outputs": [],
   "source": [
    "# convert to data frame\n",
    "df = pd.DataFrame(rolls)\n",
    "df"
   ]
  },
  {
   "cell_type": "code",
   "execution_count": null,
   "id": "ranging-conclusion",
   "metadata": {},
   "outputs": [],
   "source": [
    "# add add calculation column \n",
    "df['doubles'] = df[0] == df[1]\n",
    "df.head(10)"
   ]
  },
  {
   "cell_type": "code",
   "execution_count": null,
   "id": "clear-present",
   "metadata": {},
   "outputs": [],
   "source": [
    "# get odds of doubles\n",
    "df.doubles.mean()"
   ]
  },
  {
   "cell_type": "code",
   "execution_count": null,
   "id": "entertaining-fellowship",
   "metadata": {},
   "outputs": [],
   "source": [
    "odds_of_doubles = int(round(df.doubles.mean(),2) * 100)\n",
    "\n",
    "print(f'The odds of rolling doubles on two fair 6 sided dice are {odds_of_doubles}%')"
   ]
  },
  {
   "cell_type": "code",
   "execution_count": null,
   "id": "answering-clear",
   "metadata": {},
   "outputs": [],
   "source": [
    "# All together\n",
    "\n",
    "nrows = 100_000 # set nrows to number of simulations\n",
    "ncols = 2       # set ncolumns to number of dice rolled in each simulation\n",
    "\n",
    "# create data frame with each row representing a simulation and each column representing a dice roll in the simulation\n",
    "rolls = np.random.choice([1, 2, 3, 4, 5, 6], nrows * ncols).reshape(nrows, ncols) \n",
    "\n",
    "df = pd.DataFrame(rolls)\n",
    "\n",
    "# add double columnn\n",
    "df['doubles'] = df[0] == df[1]\n",
    "\n",
    "# get mean of doubles column\n",
    "# format and print results\n",
    "odds_of_doubles = int(round(df.doubles.mean(),2) * 100)\n",
    "\n",
    "print(f'The odds of rolling doubles on two fair 6 sided dice are {odds_of_doubles}%')"
   ]
  },
  {
   "cell_type": "markdown",
   "id": "center-accordance",
   "metadata": {},
   "source": [
    "### 2) If you flip 8 coins, what is the probability of getting exactly 3 heads? What is the probability of getting more than 3 heads?"
   ]
  },
  {
   "cell_type": "code",
   "execution_count": null,
   "id": "thousand-cassette",
   "metadata": {},
   "outputs": [],
   "source": [
    "nrows = 100_000 # set nrows to number of simulations\n",
    "ncols = 8       # set ncols to number of random events in each simulation"
   ]
  },
  {
   "cell_type": "code",
   "execution_count": null,
   "id": "laughing-consumption",
   "metadata": {},
   "outputs": [],
   "source": [
    "# create array\n",
    "rolls = np.random.choice([True, False], nrows * ncols).reshape(nrows, ncols)\n",
    "rolls"
   ]
  },
  {
   "cell_type": "code",
   "execution_count": null,
   "id": "thermal-london",
   "metadata": {},
   "outputs": [],
   "source": [
    "# convert to data frame\n",
    "df = pd.DataFrame(rolls)\n",
    "df.head()"
   ]
  },
  {
   "cell_type": "code",
   "execution_count": null,
   "id": "bright-lincoln",
   "metadata": {},
   "outputs": [],
   "source": [
    "# add calculation columnns\n",
    "df['number_of_heads'] = df.sum(axis=1)\n",
    "df['exactly_three_heads'] = df.number_of_heads == 3\n",
    "df['three_or_more_heads'] = df.number_of_heads >= 3\n",
    "df.head()"
   ]
  },
  {
   "cell_type": "code",
   "execution_count": null,
   "id": "presidential-topic",
   "metadata": {},
   "outputs": [],
   "source": [
    "# get mean of relevant columns"
   ]
  },
  {
   "cell_type": "code",
   "execution_count": null,
   "id": "informational-robin",
   "metadata": {},
   "outputs": [],
   "source": [
    "df.exactly_three_heads.mean()"
   ]
  },
  {
   "cell_type": "code",
   "execution_count": null,
   "id": "selective-evans",
   "metadata": {},
   "outputs": [],
   "source": [
    "df.three_or_more_heads.mean()"
   ]
  },
  {
   "cell_type": "code",
   "execution_count": null,
   "id": "occupational-pocket",
   "metadata": {},
   "outputs": [],
   "source": [
    "# get mean of calculation columns\n",
    "# format and print results\n",
    "odds_of_three_heads = int(round(df.exactly_three_heads.mean(),2) * 100)\n",
    "odds_of_three_or_more_heads = int(round(df.three_or_more_heads.mean(),2) * 100)\n",
    "\n",
    "print(f'The odds of getting exactly three heads when flipping five coins is {odds_of_three_heads}%')\n",
    "print(f'The odds of gettng three or more heads in the same five flips is {odds_of_three_or_more_heads}%')"
   ]
  },
  {
   "cell_type": "code",
   "execution_count": null,
   "id": "restricted-spring",
   "metadata": {},
   "outputs": [],
   "source": [
    "# All together\n",
    "nrows = 100_000 # set rows to number of simulations\n",
    "ncols = 8       # set columns to number of random events in each simulation\n",
    "\n",
    "# create array\n",
    "rolls = np.random.choice([True, False], nrows * ncols).reshape(nrows, ncols)\n",
    "\n",
    "# create dataframe\n",
    "df = pd.DataFrame(rolls)\n",
    "\n",
    "# add calculation columnns\n",
    "df['number_of_heads'] = df.sum(axis=1)\n",
    "df['exactly_three_heads'] = df.number_of_heads == 3\n",
    "df['three_or_more_heads'] = df.number_of_heads >= 3\n",
    "\n",
    "# get mean of calculation True/False columns\n",
    "# format and print results\n",
    "odds_of_three_heads = int(round(df.exactly_three_heads.mean(),2) * 100)\n",
    "odds_of_three_or_more_heads = int(round(df.three_or_more_heads.mean(),2) * 100)\n",
    "\n",
    "print(f'The odds of getting exactly three heads when flipping five coins is {odds_of_three_heads}%')\n",
    "print(f'The odds of gettng three or more heads in the same five flips is {odds_of_three_or_more_heads}%')"
   ]
  },
  {
   "cell_type": "markdown",
   "id": "continued-speaker",
   "metadata": {},
   "source": [
    "### 3) There are approximitely 3 web development cohorts for every 1 data science cohort at Codeup. Assuming that Codeup randomly selects an alumni to put on a billboard, what are the odds that the two billboards I drive past both have data science students on them?"
   ]
  },
  {
   "cell_type": "code",
   "execution_count": null,
   "id": "graduate-indicator",
   "metadata": {},
   "outputs": [],
   "source": [
    "nrows = 100_000 # set rows to number of simulations\n",
    "ncols = 2       # set columns to number of bilboards in each simulation"
   ]
  },
  {
   "cell_type": "code",
   "execution_count": null,
   "id": "found-calendar",
   "metadata": {},
   "outputs": [],
   "source": [
    "# create data frame with each row representing a simulation and each column representing a bilboard in the simulation\n",
    "rolls = np.random.choice([\"DS\",\"WEB\",\"WEB\",\"WEB\"], nrows * ncols).reshape(nrows, ncols)\n",
    "\n",
    "# convert to data frame\n",
    "df = pd.DataFrame(rolls)\n",
    "df.head()"
   ]
  },
  {
   "cell_type": "code",
   "execution_count": null,
   "id": "naughty-forth",
   "metadata": {},
   "outputs": [],
   "source": [
    "# add calculation columnn\n",
    "df['both_ds'] = (df[0] == \"DS\") & (df[1] == \"DS\")\n",
    "df"
   ]
  },
  {
   "cell_type": "code",
   "execution_count": null,
   "id": "velvet-master",
   "metadata": {},
   "outputs": [],
   "source": [
    "df.both_ds.mean()"
   ]
  },
  {
   "cell_type": "code",
   "execution_count": null,
   "id": "coordinate-daniel",
   "metadata": {},
   "outputs": [],
   "source": [
    "# get mean of calculation True/False columns\n",
    "# format and print results\n",
    "both_ds = int(round(df.both_ds.mean(),2) * 100)\n",
    "\n",
    "\n",
    "print(f'The odds of both billboards being Data Science are {both_ds}%')"
   ]
  },
  {
   "cell_type": "code",
   "execution_count": null,
   "id": "preceding-miller",
   "metadata": {},
   "outputs": [],
   "source": [
    "# All together\n",
    "nrows = 100_000 # set rows to number of simulations\n",
    "ncols = 2       # set columns to number of bilboards in each simulation\n",
    "\n",
    "# create data frame with each row representing a simulation and each column representing a bilboard in the simulation\n",
    "rolls = np.random.choice([\"DS\",\"WEB\",\"WEB\",\"WEB\"], nrows * ncols).reshape(nrows, ncols)\n",
    "\n",
    "# convert to data frame\n",
    "df = pd.DataFrame(rolls)\n",
    "\n",
    "# add calculation columnn\n",
    "df['both_ds'] = (df[0] == \"DS\") & (df[1] == \"DS\")\n",
    "\n",
    "# get mean of calculation True/False columns\n",
    "# format and print results\n",
    "both_ds = int(round(df.both_ds.mean(),2) * 100)\n",
    "\n",
    "print(f'The odds of both billboards being Data Science are {both_ds}%')"
   ]
  },
  {
   "cell_type": "markdown",
   "id": "communist-lingerie",
   "metadata": {},
   "source": [
    "### 4) Codeup students buy, on average, 3 poptart packages (+- 1.5) a day from the snack vending machine. If on monday the machine is restocked with 17 poptart packages, how likely is it that I will be able to buy some poptarts on Friday afternoon?"
   ]
  },
  {
   "cell_type": "code",
   "execution_count": null,
   "id": "tight-confidentiality",
   "metadata": {},
   "outputs": [],
   "source": [
    "nrows = n_simulations = 100_000 # set rows to number of simulations\n",
    "ncols = n_dice_rolled = 5       # set columns to number of days in each simulation"
   ]
  },
  {
   "cell_type": "code",
   "execution_count": null,
   "id": "chinese-blend",
   "metadata": {},
   "outputs": [],
   "source": [
    "# create array with each row representing a simulation and each column representing a day in the simulation\n",
    "rolls = np.random.normal(3, 1.5, nrows * ncols).astype(int).reshape(nrows, ncols)\n",
    "\n",
    "# convert to data frame\n",
    "df = pd.DataFrame(rolls)\n",
    "df.head()"
   ]
  },
  {
   "cell_type": "code",
   "execution_count": null,
   "id": "temporal-philippines",
   "metadata": {},
   "outputs": [],
   "source": [
    "# add calculation columnns\n",
    "df['total_pop_tarts_bought'] = df.sum(axis=1)\n",
    "df['pop_tarts_remain'] = df['total_pop_tarts_bought'] < 17\n",
    "df.head()"
   ]
  },
  {
   "cell_type": "code",
   "execution_count": null,
   "id": "acquired-communication",
   "metadata": {},
   "outputs": [],
   "source": [
    "df['pop_tarts_remain'].mean()"
   ]
  },
  {
   "cell_type": "code",
   "execution_count": null,
   "id": "tamil-drink",
   "metadata": {},
   "outputs": [],
   "source": [
    "# get mean of calculation True/False columns\n",
    "# format and print results\n",
    "tarts = int(round(df['pop_tarts_remain'].mean(),2) * 100)\n",
    "\n",
    "\n",
    "print(f'The odds of being able to by a PopTart in the afternoon on friday are {tarts}%')"
   ]
  },
  {
   "cell_type": "code",
   "execution_count": null,
   "id": "velvet-disney",
   "metadata": {},
   "outputs": [],
   "source": [
    "# All together\n",
    "nrows = 100_000 # set rows to number of simulations\n",
    "ncols = 5       # set columns to number of days in each simulation\n",
    "\n",
    "# create array with each row representing a simulation and each column representing a day in the simulation\n",
    "rolls = np.random.normal(3, 1.5, nrows * ncols).astype(int).reshape(nrows, ncols)\n",
    "\n",
    "# convert to data frame\n",
    "df = pd.DataFrame(rolls)\n",
    "\n",
    "# add calculation columnns\n",
    "df['total_pop_tarts'] = df.sum(axis=1)\n",
    "df['pop_tarts_remain'] = df['total_pop_tarts'] < 17\n",
    "\n",
    "# get mean of calculation True/False columns\n",
    "# format and print results\n",
    "tarts = int(round(df['pop_tarts_remain'].mean(),2) * 100)\n",
    "\n",
    "print(f'The odds of being able to by a PopTart in the afternoon on friday are {tarts}%')"
   ]
  },
  {
   "cell_type": "markdown",
   "id": "valued-minneapolis",
   "metadata": {},
   "source": [
    "### 5) Men have an average height of 178 cm and standard deviation of 8cm. Women have a mean of 170, sd = 6cm. If a man and woman are chosen at random, P(woman taller than man)?"
   ]
  },
  {
   "cell_type": "code",
   "execution_count": null,
   "id": "narrative-formation",
   "metadata": {},
   "outputs": [],
   "source": [
    "# create arrays of veriables\n",
    "male_hights = np.random.normal(178, 8, 100_000)\n",
    "female_hights = np.random.normal(170, 6, 100_000)"
   ]
  },
  {
   "cell_type": "code",
   "execution_count": null,
   "id": "controlled-relationship",
   "metadata": {},
   "outputs": [],
   "source": [
    "male_hights"
   ]
  },
  {
   "cell_type": "code",
   "execution_count": null,
   "id": "vertical-planner",
   "metadata": {},
   "outputs": [],
   "source": [
    "female_hights"
   ]
  },
  {
   "cell_type": "code",
   "execution_count": null,
   "id": "ancient-basis",
   "metadata": {},
   "outputs": [],
   "source": [
    "# convert array to data frame\n",
    "df = pd.DataFrame({\"male_hights\" : male_hights,\n",
    "                   \"female_hights\" : female_hights})\n",
    "\n",
    "df.head()"
   ]
  },
  {
   "cell_type": "code",
   "execution_count": null,
   "id": "mobile-investigator",
   "metadata": {},
   "outputs": [],
   "source": [
    "# add calculation column\n",
    "df['female_is_taller'] = df.female_hights > df.male_hights\n",
    "df.head()"
   ]
  },
  {
   "cell_type": "code",
   "execution_count": null,
   "id": "original-blogger",
   "metadata": {},
   "outputs": [],
   "source": [
    "# get mean of female_is_taller\n",
    "df['female_is_taller'].mean()"
   ]
  },
  {
   "cell_type": "code",
   "execution_count": null,
   "id": "beautiful-switch",
   "metadata": {},
   "outputs": [],
   "source": [
    "# All together\n",
    "# create arrays of veriables\n",
    "male_hights = np.random.normal(178, 8, 100_000)\n",
    "female_hights = np.random.normal(170, 6, 100_000)\n",
    "\n",
    "# convert array to data frame\n",
    "df = pd.DataFrame({\"male_hights\" : male_hights,\n",
    "                   \"female_hights\" : female_hights})\n",
    "\n",
    "# add calculated column\n",
    "df['female_is_taller'] = df.female_hights > df.male_hights\n",
    "\n",
    "# get mean of female_is_taller\n",
    "df['female_is_taller'].mean()\n",
    "\n",
    "# get mean of calculation True/False columns\n",
    "# format and print results\n",
    "taller_female = int(round(df['female_is_taller'].mean(),2) * 100)\n",
    "\n",
    "print(f\"The probability of a woman, chosen at random, being taller than a man, chosen at random is {taller_female}%\")"
   ]
  },
  {
   "cell_type": "markdown",
   "id": "cultural-egyptian",
   "metadata": {},
   "source": [
    "### 6) When installing anaconda on a student's computer, there's a 1 in 250 chance that the download is corrupted and the installation fails.\n",
    "\n",
    "### a) What are the odds that after having 50 students download anaconda, no one has an installation issue? 100 students?"
   ]
  },
  {
   "cell_type": "code",
   "execution_count": null,
   "id": "dietary-belief",
   "metadata": {},
   "outputs": [],
   "source": [
    "nrows = 100_000 # set rows to number of simulations\n",
    "ncols = 50      # set columns to number of days in each simulation"
   ]
  },
  {
   "cell_type": "code",
   "execution_count": null,
   "id": "approximate-triangle",
   "metadata": {},
   "outputs": [],
   "source": [
    "# create array with each row representing a simulation and each column representing a student in the simulation\n",
    "\n",
    "# list with 249 falses and one true\n",
    "issue_range = [False for r in range(1,250)]\n",
    "issue_range.append(True)\n",
    "\n",
    "# create array\n",
    "installs = np.random.choice(issue_range, nrows * ncols).reshape(nrows, ncols)\n",
    "installs"
   ]
  },
  {
   "cell_type": "code",
   "execution_count": null,
   "id": "active-irish",
   "metadata": {},
   "outputs": [],
   "source": [
    "# convert to data frame\n",
    "df = pd.DataFrame(installs)\n",
    "df.head()"
   ]
  },
  {
   "cell_type": "code",
   "execution_count": null,
   "id": "immediate-registrar",
   "metadata": {},
   "outputs": [],
   "source": [
    "# add calculation columnns\n",
    "df['has_no_problem'] = df.sum(axis=1) == 0\n",
    "df.head()"
   ]
  },
  {
   "cell_type": "code",
   "execution_count": null,
   "id": "english-closing",
   "metadata": {},
   "outputs": [],
   "source": [
    "df['has_no_problem'].mean()"
   ]
  },
  {
   "cell_type": "code",
   "execution_count": null,
   "id": "lesbian-cloud",
   "metadata": {},
   "outputs": [],
   "source": [
    "# All together\n",
    "nrows = 100_000 # set rows to number of simulations\n",
    "ncols = 50      # set columns to number of students in each simulation\n",
    "\n",
    "# list with 249 falses and one true\n",
    "issue_range = [False for r in range(1,250)]\n",
    "issue_range.append(True)\n",
    "\n",
    "# create array with each row representing a simulation and each column representing a student in the simulation\n",
    "installs = np.random.choice(issue_range, nrows * ncols).reshape(nrows, ncols)\n",
    "\n",
    "# convert to data frame\n",
    "df = pd.DataFrame(installs)\n",
    "\n",
    "# add calculation columnns\n",
    "df['has_no_problem'] = df.sum(axis=1) == 0\n",
    "\n",
    "# get mean of calculation True/False columns\n",
    "# format and print results\n",
    "problems = int(round(df['has_no_problem'].mean(),2) * 100)\n",
    "\n",
    "print(f'The odds of 50 students dowloading Anaconda without a problem are {problems}%')"
   ]
  },
  {
   "cell_type": "markdown",
   "id": "stopped-myanmar",
   "metadata": {},
   "source": [
    "### b) What is the probability that we observe an installation issue within the first 150 students that download anaconda?"
   ]
  },
  {
   "cell_type": "code",
   "execution_count": null,
   "id": "modern-syria",
   "metadata": {},
   "outputs": [],
   "source": [
    "# All together\n",
    "nrows = 100_000 # set rows to number of simulations\n",
    "ncols = 150      # set columns to number of students in each simulation\n",
    "\n",
    "# list with 249 falses and one true\n",
    "issue_range = [False for r in range(1,250)]\n",
    "issue_range.append(True)\n",
    "\n",
    "# create array with each row representing a simulation and each column representing a student in the simulation\n",
    "installs = np.random.choice(issue_range, nrows * ncols).reshape(nrows, ncols)\n",
    "\n",
    "# convert to data frame\n",
    "df = pd.DataFrame(installs)\n",
    "\n",
    "# add calculation columnns\n",
    "df['has_a_problem'] = df.sum(axis=1) > 0\n",
    "\n",
    "# get mean of calculation True/False columns\n",
    "# format and print results\n",
    "problems = int(round(df['has_a_problem'].mean(),2) * 100)\n",
    "\n",
    "print(f'The odds of a problem occuring in the first 150 instllations is {problems}%')"
   ]
  },
  {
   "cell_type": "markdown",
   "id": "distinct-reform",
   "metadata": {},
   "source": [
    "### 5) How likely is it that 450 students all download anaconda without an issue?"
   ]
  },
  {
   "cell_type": "code",
   "execution_count": null,
   "id": "assisted-marks",
   "metadata": {},
   "outputs": [],
   "source": [
    "# All together\n",
    "nrows = 100_000 # set rows to number of simulations\n",
    "ncols = 450      # set columns to number of students in each simulation\n",
    "\n",
    "# list with 249 falses and one true\n",
    "issue_range = [False for r in range(1,250)]\n",
    "issue_range.append(True)\n",
    "\n",
    "# create array with each row representing a simulation and each column representing a student in the simulation\n",
    "installs = np.random.choice(issue_range, nrows * ncols).reshape(nrows, ncols)\n",
    "\n",
    "# convert to data frame\n",
    "df = pd.DataFrame(installs)\n",
    "\n",
    "# add calculation columnns\n",
    "df['has_no_problem'] = df.sum(axis=1) == 0\n",
    "\n",
    "# get mean of calculation True/False columns\n",
    "# format and print results\n",
    "problems = int(round(df['has_no_problem'].mean(),2) * 100)\n",
    "\n",
    "print(f'The odds of 450 instllations occuring without an issue is {problems}%')"
   ]
  },
  {
   "cell_type": "markdown",
   "id": "orange-baltimore",
   "metadata": {},
   "source": [
    "### 6) There's a 70% chance on any given day that there will be at least one food truck at Travis Park. However, you haven't seen a food truck there in 3 days. How unlikely is this?"
   ]
  },
  {
   "cell_type": "code",
   "execution_count": null,
   "id": "controlled-senator",
   "metadata": {},
   "outputs": [],
   "source": [
    "nrows = 100_000 # set rows to number of simulations\n",
    "ncols = 3      # set columns to number of days in each simulation"
   ]
  },
  {
   "cell_type": "code",
   "execution_count": null,
   "id": "verbal-lying",
   "metadata": {},
   "outputs": [],
   "source": [
    "# create array with each row representing a simulation and each column representing a student in the simulation\n",
    "sightings = np.random.choice([True, False], nrows * ncols, p=[.7,.3]).reshape(nrows, ncols)\n",
    "sightings"
   ]
  },
  {
   "cell_type": "code",
   "execution_count": null,
   "id": "lyric-alaska",
   "metadata": {},
   "outputs": [],
   "source": [
    "# convert to data frame\n",
    "df = pd.DataFrame(sightings)\n",
    "df.head()"
   ]
  },
  {
   "cell_type": "code",
   "execution_count": null,
   "id": "unnecessary-wednesday",
   "metadata": {},
   "outputs": [],
   "source": [
    "# add calculation columnns\n",
    "df['times_sighted'] = df.sum(axis=1)\n",
    "df['not_sighted_three_days'] = df.times_sighted == 0\n",
    "df.head()"
   ]
  },
  {
   "cell_type": "code",
   "execution_count": null,
   "id": "identified-sculpture",
   "metadata": {},
   "outputs": [],
   "source": [
    "df['not_sighted_three_days'].mean()"
   ]
  },
  {
   "cell_type": "code",
   "execution_count": null,
   "id": "stainless-trinidad",
   "metadata": {},
   "outputs": [],
   "source": [
    "# get mean of calculation True/False columns\n",
    "# format and print results\n",
    "trucks = int(round(df['not_sighted_three_days'].mean(),2) * 100)\n",
    "\n",
    "print(f'The odds of not seeing a food truck in Travis Park for three days is {trucks}%')"
   ]
  },
  {
   "cell_type": "markdown",
   "id": "bacterial-mortality",
   "metadata": {},
   "source": [
    "### 7) How likely is it that a food truck will show up sometime this week?"
   ]
  },
  {
   "cell_type": "code",
   "execution_count": null,
   "id": "critical-wonder",
   "metadata": {},
   "outputs": [],
   "source": [
    "# Remaining week days\n",
    "nrows = 100_000 # set rows to number of simulations\n",
    "ncols = 2      # set columns to number of students in each simulation\n",
    "\n",
    "# create array with each row representing a simulation and each column representing a student in the simulation\n",
    "sightings = np.random.choice([True, False], nrows * ncols, p=[.7,.3]).reshape(nrows, ncols)\n",
    "\n",
    "# convert to data frame\n",
    "df = pd.DataFrame(sightings)\n",
    "\n",
    "# add calculation columnns\n",
    "df['not_sighted_two_days'] = df.sum(axis=1) == 0\n",
    "\n",
    "# get mean of calculation True/False columns\n",
    "# format and print results\n",
    "trucks = int(round(df['not_sighted_two_days'].mean(),4) * 100)\n",
    "\n",
    "print(f'The odds of not seeing a food truck in Travis Park for {ncols} days is {trucks}%')"
   ]
  },
  {
   "cell_type": "markdown",
   "id": "chief-agriculture",
   "metadata": {},
   "source": [
    "### 8) If 23 people are in the same room, what are the odds that two of them share a birthday? What if it's 20 people? 40?"
   ]
  },
  {
   "cell_type": "code",
   "execution_count": null,
   "id": "recreational-academy",
   "metadata": {},
   "outputs": [],
   "source": [
    "nrows = 100_000 # set rows to number of simulations\n",
    "ncols = 23       # set columns to number of people in each simulation"
   ]
  },
  {
   "cell_type": "code",
   "execution_count": null,
   "id": "younger-discrimination",
   "metadata": {},
   "outputs": [],
   "source": [
    "# create array with each row representing a simulation and each column representing the birthdate of a person in the simulation\n",
    "birth_days = np.random.choice([r for r in range(366)], nrows * ncols).reshape(nrows, ncols)\n",
    "birth_days"
   ]
  },
  {
   "cell_type": "code",
   "execution_count": null,
   "id": "temporal-formation",
   "metadata": {},
   "outputs": [],
   "source": [
    "# convert to data frame\n",
    "df = pd.DataFrame(birth_days)\n",
    "df.head()"
   ]
  },
  {
   "cell_type": "code",
   "execution_count": null,
   "id": "worst-myrtle",
   "metadata": {},
   "outputs": [],
   "source": [
    "# add calculation columnns\n",
    "df['at_least_two_matching_birthdays'] = df.nunique(axis=1) < ncols\n",
    "df['exactly_two_matching_birthdays'] = df.nunique(axis=1) == ncols-1\n",
    "df.head()"
   ]
  },
  {
   "cell_type": "code",
   "execution_count": null,
   "id": "positive-memorabilia",
   "metadata": {},
   "outputs": [],
   "source": [
    "# get mean of calculation True/False columns\n",
    "# format and print results\n",
    "at_least_two_matching_birthdays = int(round(df['at_least_two_matching_birthdays'].mean(),2) * 100)\n",
    "exactly_two_matching_birthdays = int(round(df['exactly_two_matching_birthdays'].mean(),2) * 100)\n",
    "\n",
    "print(f'The odds of a room of {ncols} people having at least two people that share a birthday are {at_least_two_matching_birthdays}%')\n",
    "print(f'The odds of a room of {ncols} people having exactly two people that share a birthday are {exactly_two_matching_birthdays}%')"
   ]
  },
  {
   "cell_type": "code",
   "execution_count": null,
   "id": "sound-amendment",
   "metadata": {},
   "outputs": [],
   "source": [
    "nrows = 100_000 # set rows to number of simulations\n",
    "ncols = 23       # set columns to number of students in each simulation\n",
    "\n",
    "# create array with each row representing a simulation and each column representing a student in the simulation\n",
    "sightings = np.random.choice([r for r in range(366)], nrows * ncols).reshape(nrows, ncols)\n",
    "\n",
    "# convert to data frame\n",
    "df = pd.DataFrame(sightings)\n",
    "\n",
    "# add calculation columnns\n",
    "df['at_least_two_matching_birthdays'] = df.nunique(axis=1) < ncols\n",
    "df['exactly_two_matching_birthdays'] = df.nunique(axis=1) == ncols-1\n",
    "\n",
    "# get mean of calculation True/False columns\n",
    "# format and print results\n",
    "at_least_two_matching_birthdays = int(round(df['at_least_two_matching_birthdays'].mean(),2) * 100)\n",
    "exactly_two_matching_birthdays = int(round(df['exactly_two_matching_birthdays'].mean(),2) * 100)\n",
    "\n",
    "print(f'The odds of a room of {ncols} people having at least two people that share a birthday are {at_least_two_matching_birthdays}%')\n",
    "print(f'The odds of a room of {ncols} people having exactly least two people that share a birthday are {exactly_two_matching_birthdays}%')"
   ]
  },
  {
   "cell_type": "markdown",
   "id": "theoretical-central",
   "metadata": {},
   "source": [
    "### 20 people"
   ]
  },
  {
   "cell_type": "code",
   "execution_count": null,
   "id": "fifth-leave",
   "metadata": {},
   "outputs": [],
   "source": [
    "nrows = 100_000 # set rows to number of simulations\n",
    "ncols = 20       # set columns to number of students in each simulation\n",
    "\n",
    "# create array with each row representing a simulation and each column representing a student in the simulation\n",
    "sightings = np.random.choice([r for r in range(366)], nrows * ncols).reshape(nrows, ncols)\n",
    "\n",
    "# convert to data frame\n",
    "df = pd.DataFrame(sightings)\n",
    "\n",
    "# add calculation columnns\n",
    "df['at_least_two_matching_birthdays'] = df.nunique(axis=1) < ncols\n",
    "df['exactly_two_matching_birthdays'] = df.nunique(axis=1) == ncols-1\n",
    "\n",
    "# get mean of calculation True/False columns\n",
    "# format and print results\n",
    "at_least_two_matching_birthdays = int(round(df['at_least_two_matching_birthdays'].mean(),2) * 100)\n",
    "exactly_two_matching_birthdays = int(round(df['exactly_two_matching_birthdays'].mean(),2) * 100)\n",
    "\n",
    "print(f'The odds of a room of {ncols} people having at least two people that share a birthday are {at_least_two_matching_birthdays}%')\n",
    "print(f'The odds of a room of {ncols} people having exactly least two people that share a birthday are {exactly_two_matching_birthdays}%')"
   ]
  },
  {
   "cell_type": "markdown",
   "id": "aggressive-assurance",
   "metadata": {},
   "source": [
    "### 40 people"
   ]
  },
  {
   "cell_type": "code",
   "execution_count": null,
   "id": "severe-tyler",
   "metadata": {},
   "outputs": [],
   "source": [
    "nrows = 100_000 # set rows to number of simulations\n",
    "ncols = 40       # set columns to number of students in each simulation\n",
    "\n",
    "# create array with each row representing a simulation and each column representing a student in the simulation\n",
    "sightings = np.random.choice([r for r in range(366)], nrows * ncols).reshape(nrows, ncols)\n",
    "\n",
    "# convert to data frame\n",
    "df = pd.DataFrame(sightings)\n",
    "\n",
    "# add calculation columnns\n",
    "df['at_least_two_matching_birthdays'] = df.nunique(axis=1) < ncols\n",
    "df['exactly_two_matching_birthdays'] = df.nunique(axis=1) == ncols-1\n",
    "\n",
    "# get mean of calculation True/False columns\n",
    "# format and print results\n",
    "at_least_two_matching_birthdays = int(round(df['at_least_two_matching_birthdays'].mean(),2) * 100)\n",
    "exactly_two_matching_birthdays = int(round(df['exactly_two_matching_birthdays'].mean(),2) * 100)\n",
    "\n",
    "print(f'The odds of a room of {ncols} people having at least two people that share a birthday are {at_least_two_matching_birthdays}%')\n",
    "print(f'The odds of a room of {ncols} people having exactly two people that share a birthday are {exactly_two_matching_birthdays}%')"
   ]
  }
 ],
 "metadata": {
  "kernelspec": {
   "display_name": "Python 3",
   "language": "python",
   "name": "python3"
  },
  "language_info": {
   "codemirror_mode": {
    "name": "ipython",
    "version": 3
   },
   "file_extension": ".py",
   "mimetype": "text/x-python",
   "name": "python",
   "nbconvert_exporter": "python",
   "pygments_lexer": "ipython3",
   "version": "3.7.4"
  }
 },
 "nbformat": 4,
 "nbformat_minor": 5
}
