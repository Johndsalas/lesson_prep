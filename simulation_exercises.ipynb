{
 "cells": [
  {
   "cell_type": "code",
   "execution_count": 1,
   "id": "dutch-share",
   "metadata": {},
   "outputs": [],
   "source": [
    "import numpy as np\n",
    "import pandas as pd\n",
    "import random"
   ]
  },
  {
   "cell_type": "markdown",
   "id": "unnecessary-assumption",
   "metadata": {},
   "source": [
    "### 1) How likely is it that you roll doubles when rolling two dice?"
   ]
  },
  {
   "cell_type": "code",
   "execution_count": 3,
   "id": "norwegian-nitrogen",
   "metadata": {},
   "outputs": [],
   "source": [
    "# convert to array\n",
    "nrows = n_simulations = 100_000\n",
    "ncols = n_dice_rolled = 2"
   ]
  },
  {
   "cell_type": "code",
   "execution_count": 24,
   "id": "flexible-panama",
   "metadata": {},
   "outputs": [
    {
     "data": {
      "text/plain": [
       "array([1, 2, 4, ..., 6, 3, 3])"
      ]
     },
     "execution_count": 24,
     "metadata": {},
     "output_type": "execute_result"
    }
   ],
   "source": [
    "np.random.choice([1, 2, 3, 4, 5, 6], nrows * ncols)"
   ]
  },
  {
   "cell_type": "code",
   "execution_count": 25,
   "id": "formed-component",
   "metadata": {},
   "outputs": [
    {
     "data": {
      "text/plain": [
       "array([[6, 2],\n",
       "       [5, 1],\n",
       "       [3, 3],\n",
       "       ...,\n",
       "       [3, 5],\n",
       "       [5, 1],\n",
       "       [6, 6]])"
      ]
     },
     "execution_count": 25,
     "metadata": {},
     "output_type": "execute_result"
    }
   ],
   "source": [
    "np.random.choice([1, 2, 3, 4, 5, 6], nrows * ncols).reshape(nrows, ncols)"
   ]
  },
  {
   "cell_type": "code",
   "execution_count": 26,
   "id": "demanding-chinese",
   "metadata": {},
   "outputs": [],
   "source": [
    "rolls = np.random.choice([1, 2, 3, 4, 5, 6], nrows * ncols).reshape(nrows, ncols)"
   ]
  },
  {
   "cell_type": "code",
   "execution_count": 27,
   "id": "correct-rally",
   "metadata": {},
   "outputs": [
    {
     "data": {
      "text/html": [
       "<div>\n",
       "<style scoped>\n",
       "    .dataframe tbody tr th:only-of-type {\n",
       "        vertical-align: middle;\n",
       "    }\n",
       "\n",
       "    .dataframe tbody tr th {\n",
       "        vertical-align: top;\n",
       "    }\n",
       "\n",
       "    .dataframe thead th {\n",
       "        text-align: right;\n",
       "    }\n",
       "</style>\n",
       "<table border=\"1\" class=\"dataframe\">\n",
       "  <thead>\n",
       "    <tr style=\"text-align: right;\">\n",
       "      <th></th>\n",
       "      <th>0</th>\n",
       "      <th>1</th>\n",
       "    </tr>\n",
       "  </thead>\n",
       "  <tbody>\n",
       "    <tr>\n",
       "      <th>0</th>\n",
       "      <td>6</td>\n",
       "      <td>4</td>\n",
       "    </tr>\n",
       "    <tr>\n",
       "      <th>1</th>\n",
       "      <td>3</td>\n",
       "      <td>2</td>\n",
       "    </tr>\n",
       "    <tr>\n",
       "      <th>2</th>\n",
       "      <td>3</td>\n",
       "      <td>2</td>\n",
       "    </tr>\n",
       "    <tr>\n",
       "      <th>3</th>\n",
       "      <td>6</td>\n",
       "      <td>2</td>\n",
       "    </tr>\n",
       "    <tr>\n",
       "      <th>4</th>\n",
       "      <td>6</td>\n",
       "      <td>1</td>\n",
       "    </tr>\n",
       "    <tr>\n",
       "      <th>...</th>\n",
       "      <td>...</td>\n",
       "      <td>...</td>\n",
       "    </tr>\n",
       "    <tr>\n",
       "      <th>99995</th>\n",
       "      <td>4</td>\n",
       "      <td>5</td>\n",
       "    </tr>\n",
       "    <tr>\n",
       "      <th>99996</th>\n",
       "      <td>5</td>\n",
       "      <td>1</td>\n",
       "    </tr>\n",
       "    <tr>\n",
       "      <th>99997</th>\n",
       "      <td>2</td>\n",
       "      <td>1</td>\n",
       "    </tr>\n",
       "    <tr>\n",
       "      <th>99998</th>\n",
       "      <td>1</td>\n",
       "      <td>3</td>\n",
       "    </tr>\n",
       "    <tr>\n",
       "      <th>99999</th>\n",
       "      <td>3</td>\n",
       "      <td>4</td>\n",
       "    </tr>\n",
       "  </tbody>\n",
       "</table>\n",
       "<p>100000 rows × 2 columns</p>\n",
       "</div>"
      ],
      "text/plain": [
       "       0  1\n",
       "0      6  4\n",
       "1      3  2\n",
       "2      3  2\n",
       "3      6  2\n",
       "4      6  1\n",
       "...   .. ..\n",
       "99995  4  5\n",
       "99996  5  1\n",
       "99997  2  1\n",
       "99998  1  3\n",
       "99999  3  4\n",
       "\n",
       "[100000 rows x 2 columns]"
      ]
     },
     "execution_count": 27,
     "metadata": {},
     "output_type": "execute_result"
    }
   ],
   "source": [
    "# convert to data frame\n",
    "pd.DataFrame(rolls)"
   ]
  },
  {
   "cell_type": "code",
   "execution_count": 28,
   "id": "exciting-wyoming",
   "metadata": {},
   "outputs": [],
   "source": [
    "df = pd.DataFrame(rolls)"
   ]
  },
  {
   "cell_type": "code",
   "execution_count": 29,
   "id": "graduate-charity",
   "metadata": {},
   "outputs": [],
   "source": [
    "# add double columnn\n",
    "df['doubles'] = df[0] == df[1]"
   ]
  },
  {
   "cell_type": "code",
   "execution_count": 30,
   "id": "impaired-stationery",
   "metadata": {},
   "outputs": [
    {
     "data": {
      "text/html": [
       "<div>\n",
       "<style scoped>\n",
       "    .dataframe tbody tr th:only-of-type {\n",
       "        vertical-align: middle;\n",
       "    }\n",
       "\n",
       "    .dataframe tbody tr th {\n",
       "        vertical-align: top;\n",
       "    }\n",
       "\n",
       "    .dataframe thead th {\n",
       "        text-align: right;\n",
       "    }\n",
       "</style>\n",
       "<table border=\"1\" class=\"dataframe\">\n",
       "  <thead>\n",
       "    <tr style=\"text-align: right;\">\n",
       "      <th></th>\n",
       "      <th>0</th>\n",
       "      <th>1</th>\n",
       "      <th>doubles</th>\n",
       "    </tr>\n",
       "  </thead>\n",
       "  <tbody>\n",
       "    <tr>\n",
       "      <th>0</th>\n",
       "      <td>6</td>\n",
       "      <td>4</td>\n",
       "      <td>False</td>\n",
       "    </tr>\n",
       "    <tr>\n",
       "      <th>1</th>\n",
       "      <td>3</td>\n",
       "      <td>2</td>\n",
       "      <td>False</td>\n",
       "    </tr>\n",
       "    <tr>\n",
       "      <th>2</th>\n",
       "      <td>3</td>\n",
       "      <td>2</td>\n",
       "      <td>False</td>\n",
       "    </tr>\n",
       "    <tr>\n",
       "      <th>3</th>\n",
       "      <td>6</td>\n",
       "      <td>2</td>\n",
       "      <td>False</td>\n",
       "    </tr>\n",
       "    <tr>\n",
       "      <th>4</th>\n",
       "      <td>6</td>\n",
       "      <td>1</td>\n",
       "      <td>False</td>\n",
       "    </tr>\n",
       "  </tbody>\n",
       "</table>\n",
       "</div>"
      ],
      "text/plain": [
       "   0  1  doubles\n",
       "0  6  4    False\n",
       "1  3  2    False\n",
       "2  3  2    False\n",
       "3  6  2    False\n",
       "4  6  1    False"
      ]
     },
     "execution_count": 30,
     "metadata": {},
     "output_type": "execute_result"
    }
   ],
   "source": [
    "df.head()"
   ]
  },
  {
   "cell_type": "code",
   "execution_count": 31,
   "id": "liable-delight",
   "metadata": {},
   "outputs": [
    {
     "data": {
      "text/plain": [
       "0.16521"
      ]
     },
     "execution_count": 31,
     "metadata": {},
     "output_type": "execute_result"
    }
   ],
   "source": [
    "# get odds of doubles\n",
    "df.doubles.mean()"
   ]
  },
  {
   "cell_type": "code",
   "execution_count": 32,
   "id": "fitted-constitutional",
   "metadata": {},
   "outputs": [],
   "source": [
    "odds_of_doubles = int(round(df.doubles.mean(),2) * 100)"
   ]
  },
  {
   "cell_type": "code",
   "execution_count": 33,
   "id": "formed-imperial",
   "metadata": {},
   "outputs": [
    {
     "name": "stdout",
     "output_type": "stream",
     "text": [
      "The odds of rolling doubles on two fair 6 sided dice are 17%\n"
     ]
    }
   ],
   "source": [
    "print(f'The odds of rolling doubles on two fair 6 sided dice are {odds_of_doubles}%')"
   ]
  },
  {
   "cell_type": "code",
   "execution_count": 39,
   "id": "single-windows",
   "metadata": {},
   "outputs": [
    {
     "name": "stdout",
     "output_type": "stream",
     "text": [
      "The odds of rolling doubles on two fair 6 sided dice are 17%\n"
     ]
    }
   ],
   "source": [
    "# All together\n",
    "\n",
    "nrows = n_simulations = 100_000 # set rows to number of simulations\n",
    "ncols = n_dice_rolled = 2       # set columns to number of dice rolled in each simulation\n",
    "\n",
    "# create data frame with each row representing a simulation and each column representing a dice roll in the simulation\n",
    "rolls = np.random.choice([1, 2, 3, 4, 5, 6], nrows * ncols).reshape(nrows, ncols) \n",
    "\n",
    "# convert to data frame\n",
    "df = pd.DataFrame(rolls)\n",
    "\n",
    "# add double columnn\n",
    "df['doubles'] = df[0] == df[1]\n",
    "\n",
    "# get mean of doubles column\n",
    "# format and print results\n",
    "odds_of_doubles = int(round(df.doubles.mean(),2) * 100)\n",
    "\n",
    "print(f'The odds of rolling doubles on two fair 6 sided dice are {odds_of_doubles}%')"
   ]
  },
  {
   "cell_type": "markdown",
   "id": "extraordinary-credits",
   "metadata": {},
   "source": [
    "### 2) If you flip 8 coins, what is the probability of getting exactly 3 heads? What is the probability of getting more than 3 heads?"
   ]
  },
  {
   "cell_type": "code",
   "execution_count": 73,
   "id": "primary-idaho",
   "metadata": {},
   "outputs": [],
   "source": [
    "nrows = n_simulations = 100_000 # set rows to number of simulations\n",
    "ncols = n_dice_rolled = 8       # set columns to number of dice rolled in each simulation"
   ]
  },
  {
   "cell_type": "code",
   "execution_count": 74,
   "id": "sorted-brazil",
   "metadata": {},
   "outputs": [
    {
     "data": {
      "text/plain": [
       "array([[False,  True,  True, ...,  True,  True, False],\n",
       "       [False, False, False, ...,  True,  True, False],\n",
       "       [ True,  True,  True, ...,  True, False,  True],\n",
       "       ...,\n",
       "       [ True, False,  True, ..., False, False,  True],\n",
       "       [ True, False, False, ..., False,  True,  True],\n",
       "       [ True, False, False, ...,  True, False, False]])"
      ]
     },
     "execution_count": 74,
     "metadata": {},
     "output_type": "execute_result"
    }
   ],
   "source": [
    "# create data frame with each row representing a simulation and each column representing a dice roll in the simulation\n",
    "rolls = np.random.choice([True, False], nrows * ncols).reshape(nrows, ncols)\n",
    "rolls"
   ]
  },
  {
   "cell_type": "code",
   "execution_count": 59,
   "id": "grave-international",
   "metadata": {},
   "outputs": [
    {
     "data": {
      "text/html": [
       "<div>\n",
       "<style scoped>\n",
       "    .dataframe tbody tr th:only-of-type {\n",
       "        vertical-align: middle;\n",
       "    }\n",
       "\n",
       "    .dataframe tbody tr th {\n",
       "        vertical-align: top;\n",
       "    }\n",
       "\n",
       "    .dataframe thead th {\n",
       "        text-align: right;\n",
       "    }\n",
       "</style>\n",
       "<table border=\"1\" class=\"dataframe\">\n",
       "  <thead>\n",
       "    <tr style=\"text-align: right;\">\n",
       "      <th></th>\n",
       "      <th>0</th>\n",
       "      <th>1</th>\n",
       "      <th>2</th>\n",
       "      <th>3</th>\n",
       "      <th>4</th>\n",
       "      <th>5</th>\n",
       "      <th>6</th>\n",
       "      <th>7</th>\n",
       "    </tr>\n",
       "  </thead>\n",
       "  <tbody>\n",
       "    <tr>\n",
       "      <th>0</th>\n",
       "      <td>False</td>\n",
       "      <td>False</td>\n",
       "      <td>True</td>\n",
       "      <td>False</td>\n",
       "      <td>True</td>\n",
       "      <td>True</td>\n",
       "      <td>True</td>\n",
       "      <td>False</td>\n",
       "    </tr>\n",
       "    <tr>\n",
       "      <th>1</th>\n",
       "      <td>True</td>\n",
       "      <td>True</td>\n",
       "      <td>True</td>\n",
       "      <td>True</td>\n",
       "      <td>False</td>\n",
       "      <td>True</td>\n",
       "      <td>False</td>\n",
       "      <td>True</td>\n",
       "    </tr>\n",
       "    <tr>\n",
       "      <th>2</th>\n",
       "      <td>False</td>\n",
       "      <td>True</td>\n",
       "      <td>True</td>\n",
       "      <td>False</td>\n",
       "      <td>True</td>\n",
       "      <td>True</td>\n",
       "      <td>True</td>\n",
       "      <td>True</td>\n",
       "    </tr>\n",
       "    <tr>\n",
       "      <th>3</th>\n",
       "      <td>True</td>\n",
       "      <td>False</td>\n",
       "      <td>False</td>\n",
       "      <td>True</td>\n",
       "      <td>True</td>\n",
       "      <td>False</td>\n",
       "      <td>False</td>\n",
       "      <td>True</td>\n",
       "    </tr>\n",
       "    <tr>\n",
       "      <th>4</th>\n",
       "      <td>False</td>\n",
       "      <td>False</td>\n",
       "      <td>False</td>\n",
       "      <td>False</td>\n",
       "      <td>False</td>\n",
       "      <td>True</td>\n",
       "      <td>True</td>\n",
       "      <td>False</td>\n",
       "    </tr>\n",
       "  </tbody>\n",
       "</table>\n",
       "</div>"
      ],
      "text/plain": [
       "       0      1      2      3      4      5      6      7\n",
       "0  False  False   True  False   True   True   True  False\n",
       "1   True   True   True   True  False   True  False   True\n",
       "2  False   True   True  False   True   True   True   True\n",
       "3   True  False  False   True   True  False  False   True\n",
       "4  False  False  False  False  False   True   True  False"
      ]
     },
     "execution_count": 59,
     "metadata": {},
     "output_type": "execute_result"
    }
   ],
   "source": [
    "# convert to data frame\n",
    "df = pd.DataFrame(rolls)\n",
    "df.head()"
   ]
  },
  {
   "cell_type": "code",
   "execution_count": 60,
   "id": "dense-exclusive",
   "metadata": {},
   "outputs": [
    {
     "data": {
      "text/html": [
       "<div>\n",
       "<style scoped>\n",
       "    .dataframe tbody tr th:only-of-type {\n",
       "        vertical-align: middle;\n",
       "    }\n",
       "\n",
       "    .dataframe tbody tr th {\n",
       "        vertical-align: top;\n",
       "    }\n",
       "\n",
       "    .dataframe thead th {\n",
       "        text-align: right;\n",
       "    }\n",
       "</style>\n",
       "<table border=\"1\" class=\"dataframe\">\n",
       "  <thead>\n",
       "    <tr style=\"text-align: right;\">\n",
       "      <th></th>\n",
       "      <th>0</th>\n",
       "      <th>1</th>\n",
       "      <th>2</th>\n",
       "      <th>3</th>\n",
       "      <th>4</th>\n",
       "      <th>5</th>\n",
       "      <th>6</th>\n",
       "      <th>7</th>\n",
       "      <th>number_of_heads</th>\n",
       "      <th>exactly_three_heads</th>\n",
       "      <th>three_or_more_heads</th>\n",
       "    </tr>\n",
       "  </thead>\n",
       "  <tbody>\n",
       "    <tr>\n",
       "      <th>0</th>\n",
       "      <td>False</td>\n",
       "      <td>False</td>\n",
       "      <td>True</td>\n",
       "      <td>False</td>\n",
       "      <td>True</td>\n",
       "      <td>True</td>\n",
       "      <td>True</td>\n",
       "      <td>False</td>\n",
       "      <td>4</td>\n",
       "      <td>False</td>\n",
       "      <td>True</td>\n",
       "    </tr>\n",
       "    <tr>\n",
       "      <th>1</th>\n",
       "      <td>True</td>\n",
       "      <td>True</td>\n",
       "      <td>True</td>\n",
       "      <td>True</td>\n",
       "      <td>False</td>\n",
       "      <td>True</td>\n",
       "      <td>False</td>\n",
       "      <td>True</td>\n",
       "      <td>6</td>\n",
       "      <td>False</td>\n",
       "      <td>True</td>\n",
       "    </tr>\n",
       "    <tr>\n",
       "      <th>2</th>\n",
       "      <td>False</td>\n",
       "      <td>True</td>\n",
       "      <td>True</td>\n",
       "      <td>False</td>\n",
       "      <td>True</td>\n",
       "      <td>True</td>\n",
       "      <td>True</td>\n",
       "      <td>True</td>\n",
       "      <td>6</td>\n",
       "      <td>False</td>\n",
       "      <td>True</td>\n",
       "    </tr>\n",
       "    <tr>\n",
       "      <th>3</th>\n",
       "      <td>True</td>\n",
       "      <td>False</td>\n",
       "      <td>False</td>\n",
       "      <td>True</td>\n",
       "      <td>True</td>\n",
       "      <td>False</td>\n",
       "      <td>False</td>\n",
       "      <td>True</td>\n",
       "      <td>4</td>\n",
       "      <td>False</td>\n",
       "      <td>True</td>\n",
       "    </tr>\n",
       "    <tr>\n",
       "      <th>4</th>\n",
       "      <td>False</td>\n",
       "      <td>False</td>\n",
       "      <td>False</td>\n",
       "      <td>False</td>\n",
       "      <td>False</td>\n",
       "      <td>True</td>\n",
       "      <td>True</td>\n",
       "      <td>False</td>\n",
       "      <td>2</td>\n",
       "      <td>False</td>\n",
       "      <td>False</td>\n",
       "    </tr>\n",
       "  </tbody>\n",
       "</table>\n",
       "</div>"
      ],
      "text/plain": [
       "       0      1      2      3      4      5      6      7  number_of_heads  \\\n",
       "0  False  False   True  False   True   True   True  False                4   \n",
       "1   True   True   True   True  False   True  False   True                6   \n",
       "2  False   True   True  False   True   True   True   True                6   \n",
       "3   True  False  False   True   True  False  False   True                4   \n",
       "4  False  False  False  False  False   True   True  False                2   \n",
       "\n",
       "   exactly_three_heads  three_or_more_heads  \n",
       "0                False                 True  \n",
       "1                False                 True  \n",
       "2                False                 True  \n",
       "3                False                 True  \n",
       "4                False                False  "
      ]
     },
     "execution_count": 60,
     "metadata": {},
     "output_type": "execute_result"
    }
   ],
   "source": [
    "# add calculation columnn\n",
    "df['number_of_heads'] = df.sum(axis=1)\n",
    "df['exactly_three_heads'] = df.number_of_heads == 3\n",
    "df['three_or_more_heads'] = df.number_of_heads >= 3\n",
    "df.head()"
   ]
  },
  {
   "cell_type": "code",
   "execution_count": 66,
   "id": "becoming-boring",
   "metadata": {},
   "outputs": [],
   "source": [
    "# get mean of T/F calculation column"
   ]
  },
  {
   "cell_type": "code",
   "execution_count": 61,
   "id": "short-april",
   "metadata": {},
   "outputs": [
    {
     "data": {
      "text/plain": [
       "0.22172"
      ]
     },
     "execution_count": 61,
     "metadata": {},
     "output_type": "execute_result"
    }
   ],
   "source": [
    "df.exactly_three_heads.mean()"
   ]
  },
  {
   "cell_type": "code",
   "execution_count": 62,
   "id": "civilian-quality",
   "metadata": {},
   "outputs": [
    {
     "data": {
      "text/plain": [
       "0.85854"
      ]
     },
     "execution_count": 62,
     "metadata": {},
     "output_type": "execute_result"
    }
   ],
   "source": [
    "df.three_or_more_heads.mean()"
   ]
  },
  {
   "cell_type": "code",
   "execution_count": 65,
   "id": "hairy-gathering",
   "metadata": {},
   "outputs": [
    {
     "name": "stdout",
     "output_type": "stream",
     "text": [
      "The odds of getting exactly three heads when flipping five coins is 22%\n",
      "The odds of gettng three or more heads in the same five flips is 86%\n"
     ]
    }
   ],
   "source": [
    "# get mean of calculation columns\n",
    "# format and print results\n",
    "odds_of_three_heads = int(round(df.exactly_three_heads.mean(),2) * 100)\n",
    "odds_of_three_or_more_heads = int(round(df.three_or_more_heads.mean(),2) * 100)\n",
    "\n",
    "print(f'The odds of getting exactly three heads when flipping five coins is {odds_of_three_heads}%')\n",
    "print(f'The odds of gettng three or more heads in the same five flips is {odds_of_three_or_more_heads}%')"
   ]
  },
  {
   "cell_type": "code",
   "execution_count": 68,
   "id": "organized-appliance",
   "metadata": {},
   "outputs": [
    {
     "name": "stdout",
     "output_type": "stream",
     "text": [
      "The odds of getting exactly three heads when flipping five coins is 22%\n",
      "The odds of gettng three or more heads in the same five flips is 86%\n"
     ]
    }
   ],
   "source": [
    "# All together\n",
    "nrows = n_simulations = 100_000 # set rows to number of simulations\n",
    "ncols = n_dice_rolled = 8       # set columns to number of dice rolled in each simulation\n",
    "\n",
    "# create data frame with each row representing a simulation and each column representing a dice roll in the simulation\n",
    "rolls = np.random.choice([True, False], nrows * ncols).reshape(nrows, ncols)\n",
    "\n",
    "# convert to data frame\n",
    "df = pd.DataFrame(rolls)\n",
    "\n",
    "# add calculation columnn\n",
    "df['number_of_heads'] = df.sum(axis=1)\n",
    "df['exactly_three_heads'] = df.number_of_heads == 3\n",
    "df['three_or_more_heads'] = df.number_of_heads >= 3\n",
    "\n",
    "# get mean of calculation True/False columns\n",
    "# format and print results\n",
    "odds_of_three_heads = int(round(df.exactly_three_heads.mean(),2) * 100)\n",
    "odds_of_three_or_more_heads = int(round(df.three_or_more_heads.mean(),2) * 100)\n",
    "\n",
    "print(f'The odds of getting exactly three heads when flipping five coins is {odds_of_three_heads}%')\n",
    "print(f'The odds of gettng three or more heads in the same five flips is {odds_of_three_or_more_heads}%')"
   ]
  },
  {
   "cell_type": "markdown",
   "id": "joint-typing",
   "metadata": {},
   "source": [
    "### 3) There are approximitely 3 web development cohorts for every 1 data science cohort at Codeup. Assuming that Codeup randomly selects an alumni to put on a billboard, what are the odds that the two billboards I drive past both have data science students on them?"
   ]
  },
  {
   "cell_type": "code",
   "execution_count": 77,
   "id": "southeast-liver",
   "metadata": {},
   "outputs": [],
   "source": [
    "nrows = n_simulations = 100_000 # set rows to number of simulations\n",
    "ncols = n_dice_rolled = 2       # set columns to number of bilboards in each simulation"
   ]
  },
  {
   "cell_type": "code",
   "execution_count": 78,
   "id": "veterinary-ceramic",
   "metadata": {},
   "outputs": [
    {
     "data": {
      "text/html": [
       "<div>\n",
       "<style scoped>\n",
       "    .dataframe tbody tr th:only-of-type {\n",
       "        vertical-align: middle;\n",
       "    }\n",
       "\n",
       "    .dataframe tbody tr th {\n",
       "        vertical-align: top;\n",
       "    }\n",
       "\n",
       "    .dataframe thead th {\n",
       "        text-align: right;\n",
       "    }\n",
       "</style>\n",
       "<table border=\"1\" class=\"dataframe\">\n",
       "  <thead>\n",
       "    <tr style=\"text-align: right;\">\n",
       "      <th></th>\n",
       "      <th>0</th>\n",
       "      <th>1</th>\n",
       "    </tr>\n",
       "  </thead>\n",
       "  <tbody>\n",
       "    <tr>\n",
       "      <th>0</th>\n",
       "      <td>WEB</td>\n",
       "      <td>WEB</td>\n",
       "    </tr>\n",
       "    <tr>\n",
       "      <th>1</th>\n",
       "      <td>WEB</td>\n",
       "      <td>WEB</td>\n",
       "    </tr>\n",
       "    <tr>\n",
       "      <th>2</th>\n",
       "      <td>WEB</td>\n",
       "      <td>DS</td>\n",
       "    </tr>\n",
       "    <tr>\n",
       "      <th>3</th>\n",
       "      <td>WEB</td>\n",
       "      <td>WEB</td>\n",
       "    </tr>\n",
       "    <tr>\n",
       "      <th>4</th>\n",
       "      <td>WEB</td>\n",
       "      <td>WEB</td>\n",
       "    </tr>\n",
       "  </tbody>\n",
       "</table>\n",
       "</div>"
      ],
      "text/plain": [
       "     0    1\n",
       "0  WEB  WEB\n",
       "1  WEB  WEB\n",
       "2  WEB   DS\n",
       "3  WEB  WEB\n",
       "4  WEB  WEB"
      ]
     },
     "execution_count": 78,
     "metadata": {},
     "output_type": "execute_result"
    }
   ],
   "source": [
    "# create data frame with each row representing a simulation and each column representing a bilboard in the simulation\n",
    "rolls = np.random.choice([\"DS\",\"WEB\",\"WEB\",\"WEB\"], nrows * ncols).reshape(nrows, ncols)\n",
    "\n",
    "# convert to data frame\n",
    "df = pd.DataFrame(rolls)\n",
    "df.head()"
   ]
  },
  {
   "cell_type": "code",
   "execution_count": 79,
   "id": "legislative-outline",
   "metadata": {},
   "outputs": [
    {
     "data": {
      "text/plain": [
       "0.06151"
      ]
     },
     "execution_count": 79,
     "metadata": {},
     "output_type": "execute_result"
    }
   ],
   "source": [
    "# add calculation columnn\n",
    "df['both_ds'] = (df[0] == \"DS\") & (df[1] == \"DS\")\n",
    "\n",
    "df.both_ds.mean()"
   ]
  },
  {
   "cell_type": "code",
   "execution_count": 80,
   "id": "upper-garage",
   "metadata": {},
   "outputs": [
    {
     "name": "stdout",
     "output_type": "stream",
     "text": [
      "The odds of both billboards being Data Science are 6%\n"
     ]
    }
   ],
   "source": [
    "# get mean of calculation True/False columns\n",
    "# format and print results\n",
    "both_ds = int(round(df.both_ds.mean(),2) * 100)\n",
    "\n",
    "\n",
    "print(f'The odds of both billboards being Data Science are {both_ds}%')"
   ]
  },
  {
   "cell_type": "code",
   "execution_count": 81,
   "id": "virtual-valuable",
   "metadata": {},
   "outputs": [
    {
     "name": "stdout",
     "output_type": "stream",
     "text": [
      "The odds of both billboards being Data Science are 6%\n"
     ]
    }
   ],
   "source": [
    "# All together\n",
    "nrows = n_simulations = 100_000 # set rows to number of simulations\n",
    "ncols = n_dice_rolled = 2       # set columns to number of bilboards in each simulation\n",
    "\n",
    "# create data frame with each row representing a simulation and each column representing a bilboard in the simulation\n",
    "rolls = np.random.choice([\"DS\",\"WEB\",\"WEB\",\"WEB\"], nrows * ncols).reshape(nrows, ncols)\n",
    "\n",
    "# convert to data frame\n",
    "df = pd.DataFrame(rolls)\n",
    "\n",
    "# add calculation columnn\n",
    "df['both_ds'] = (df[0] == \"DS\") & (df[1] == \"DS\")\n",
    "\n",
    "# get mean of calculation True/False columns\n",
    "# format and print results\n",
    "both_ds = int(round(df.both_ds.mean(),2) * 100)\n",
    "\n",
    "\n",
    "print(f'The odds of both billboards being Data Science are {both_ds}%')"
   ]
  },
  {
   "cell_type": "markdown",
   "id": "shared-warner",
   "metadata": {},
   "source": [
    "### 4) Codeup students buy, on average, 3 poptart packages (+- 1.5) a day from the snack vending machine. If on monday the machine is restocked with 17 poptart packages, how likely is it that I will be able to buy some poptarts on Friday afternoon?"
   ]
  },
  {
   "cell_type": "code",
   "execution_count": 91,
   "id": "sixth-buying",
   "metadata": {},
   "outputs": [],
   "source": [
    "nrows = n_simulations = 100_000 # set rows to number of simulations\n",
    "ncols = n_dice_rolled = 5       # set columns to number of days in each simulation"
   ]
  },
  {
   "cell_type": "code",
   "execution_count": 92,
   "id": "herbal-musician",
   "metadata": {},
   "outputs": [
    {
     "data": {
      "text/plain": [
       "array([[3, 2, 2, 1, 2],\n",
       "       [3, 4, 4, 3, 3],\n",
       "       [1, 3, 4, 3, 4],\n",
       "       ...,\n",
       "       [3, 3, 1, 2, 2],\n",
       "       [3, 4, 1, 2, 2],\n",
       "       [4, 2, 1, 2, 4]])"
      ]
     },
     "execution_count": 92,
     "metadata": {},
     "output_type": "execute_result"
    }
   ],
   "source": [
    "# create array with each row representing a simulation and each column representing a day in the simulation\n",
    "rolls = np.random.uniform(1.5, 4.5, nrows * ncols).astype(int).reshape(nrows, ncols)\n",
    "rolls"
   ]
  },
  {
   "cell_type": "code",
   "execution_count": 93,
   "id": "complete-journal",
   "metadata": {},
   "outputs": [
    {
     "data": {
      "text/html": [
       "<div>\n",
       "<style scoped>\n",
       "    .dataframe tbody tr th:only-of-type {\n",
       "        vertical-align: middle;\n",
       "    }\n",
       "\n",
       "    .dataframe tbody tr th {\n",
       "        vertical-align: top;\n",
       "    }\n",
       "\n",
       "    .dataframe thead th {\n",
       "        text-align: right;\n",
       "    }\n",
       "</style>\n",
       "<table border=\"1\" class=\"dataframe\">\n",
       "  <thead>\n",
       "    <tr style=\"text-align: right;\">\n",
       "      <th></th>\n",
       "      <th>0</th>\n",
       "      <th>1</th>\n",
       "      <th>2</th>\n",
       "      <th>3</th>\n",
       "      <th>4</th>\n",
       "    </tr>\n",
       "  </thead>\n",
       "  <tbody>\n",
       "    <tr>\n",
       "      <th>0</th>\n",
       "      <td>3</td>\n",
       "      <td>2</td>\n",
       "      <td>2</td>\n",
       "      <td>1</td>\n",
       "      <td>2</td>\n",
       "    </tr>\n",
       "    <tr>\n",
       "      <th>1</th>\n",
       "      <td>3</td>\n",
       "      <td>4</td>\n",
       "      <td>4</td>\n",
       "      <td>3</td>\n",
       "      <td>3</td>\n",
       "    </tr>\n",
       "    <tr>\n",
       "      <th>2</th>\n",
       "      <td>1</td>\n",
       "      <td>3</td>\n",
       "      <td>4</td>\n",
       "      <td>3</td>\n",
       "      <td>4</td>\n",
       "    </tr>\n",
       "    <tr>\n",
       "      <th>3</th>\n",
       "      <td>4</td>\n",
       "      <td>1</td>\n",
       "      <td>3</td>\n",
       "      <td>3</td>\n",
       "      <td>2</td>\n",
       "    </tr>\n",
       "    <tr>\n",
       "      <th>4</th>\n",
       "      <td>3</td>\n",
       "      <td>4</td>\n",
       "      <td>4</td>\n",
       "      <td>3</td>\n",
       "      <td>4</td>\n",
       "    </tr>\n",
       "  </tbody>\n",
       "</table>\n",
       "</div>"
      ],
      "text/plain": [
       "   0  1  2  3  4\n",
       "0  3  2  2  1  2\n",
       "1  3  4  4  3  3\n",
       "2  1  3  4  3  4\n",
       "3  4  1  3  3  2\n",
       "4  3  4  4  3  4"
      ]
     },
     "execution_count": 93,
     "metadata": {},
     "output_type": "execute_result"
    }
   ],
   "source": [
    "# convert to data frame\n",
    "df = pd.DataFrame(rolls)\n",
    "df.head()"
   ]
  },
  {
   "cell_type": "code",
   "execution_count": 94,
   "id": "interior-helena",
   "metadata": {},
   "outputs": [
    {
     "data": {
      "text/html": [
       "<div>\n",
       "<style scoped>\n",
       "    .dataframe tbody tr th:only-of-type {\n",
       "        vertical-align: middle;\n",
       "    }\n",
       "\n",
       "    .dataframe tbody tr th {\n",
       "        vertical-align: top;\n",
       "    }\n",
       "\n",
       "    .dataframe thead th {\n",
       "        text-align: right;\n",
       "    }\n",
       "</style>\n",
       "<table border=\"1\" class=\"dataframe\">\n",
       "  <thead>\n",
       "    <tr style=\"text-align: right;\">\n",
       "      <th></th>\n",
       "      <th>0</th>\n",
       "      <th>1</th>\n",
       "      <th>2</th>\n",
       "      <th>3</th>\n",
       "      <th>4</th>\n",
       "      <th>total_pop_tarts</th>\n",
       "      <th>pop_tarts_remain</th>\n",
       "    </tr>\n",
       "  </thead>\n",
       "  <tbody>\n",
       "    <tr>\n",
       "      <th>0</th>\n",
       "      <td>3</td>\n",
       "      <td>2</td>\n",
       "      <td>2</td>\n",
       "      <td>1</td>\n",
       "      <td>2</td>\n",
       "      <td>10</td>\n",
       "      <td>True</td>\n",
       "    </tr>\n",
       "    <tr>\n",
       "      <th>1</th>\n",
       "      <td>3</td>\n",
       "      <td>4</td>\n",
       "      <td>4</td>\n",
       "      <td>3</td>\n",
       "      <td>3</td>\n",
       "      <td>17</td>\n",
       "      <td>False</td>\n",
       "    </tr>\n",
       "    <tr>\n",
       "      <th>2</th>\n",
       "      <td>1</td>\n",
       "      <td>3</td>\n",
       "      <td>4</td>\n",
       "      <td>3</td>\n",
       "      <td>4</td>\n",
       "      <td>15</td>\n",
       "      <td>True</td>\n",
       "    </tr>\n",
       "    <tr>\n",
       "      <th>3</th>\n",
       "      <td>4</td>\n",
       "      <td>1</td>\n",
       "      <td>3</td>\n",
       "      <td>3</td>\n",
       "      <td>2</td>\n",
       "      <td>13</td>\n",
       "      <td>True</td>\n",
       "    </tr>\n",
       "    <tr>\n",
       "      <th>4</th>\n",
       "      <td>3</td>\n",
       "      <td>4</td>\n",
       "      <td>4</td>\n",
       "      <td>3</td>\n",
       "      <td>4</td>\n",
       "      <td>18</td>\n",
       "      <td>False</td>\n",
       "    </tr>\n",
       "  </tbody>\n",
       "</table>\n",
       "</div>"
      ],
      "text/plain": [
       "   0  1  2  3  4  total_pop_tarts  pop_tarts_remain\n",
       "0  3  2  2  1  2               10              True\n",
       "1  3  4  4  3  3               17             False\n",
       "2  1  3  4  3  4               15              True\n",
       "3  4  1  3  3  2               13              True\n",
       "4  3  4  4  3  4               18             False"
      ]
     },
     "execution_count": 94,
     "metadata": {},
     "output_type": "execute_result"
    }
   ],
   "source": [
    "# add calculation columnns\n",
    "df['total_pop_tarts'] = df.sum(axis=1)\n",
    "df['pop_tarts_remain'] = df['total_pop_tarts'] < 17\n",
    "df.head()"
   ]
  },
  {
   "cell_type": "code",
   "execution_count": 95,
   "id": "breeding-jewelry",
   "metadata": {},
   "outputs": [
    {
     "data": {
      "text/plain": [
       "0.97061"
      ]
     },
     "execution_count": 95,
     "metadata": {},
     "output_type": "execute_result"
    }
   ],
   "source": [
    "df['pop_tarts_remain'].mean()"
   ]
  },
  {
   "cell_type": "code",
   "execution_count": 96,
   "id": "stupid-directive",
   "metadata": {},
   "outputs": [
    {
     "name": "stdout",
     "output_type": "stream",
     "text": [
      "The odds of being able to by a PopTart in the afternoon on friday are 97%\n"
     ]
    }
   ],
   "source": [
    "# get mean of calculation True/False columns\n",
    "# format and print results\n",
    "tarts = int(round(df['pop_tarts_remain'].mean(),2) * 100)\n",
    "\n",
    "\n",
    "print(f'The odds of being able to by a PopTart in the afternoon on friday are {tarts}%')"
   ]
  },
  {
   "cell_type": "code",
   "execution_count": 97,
   "id": "cheap-marathon",
   "metadata": {},
   "outputs": [
    {
     "name": "stdout",
     "output_type": "stream",
     "text": [
      "The odds of being able to by a PopTart in the afternoon on friday are 97%\n"
     ]
    }
   ],
   "source": [
    "# All together\n",
    "nrows = n_simulations = 100_000 # set rows to number of simulations\n",
    "ncols = n_dice_rolled = 5       # set columns to number of days in each simulation\n",
    "\n",
    "# create array with each row representing a simulation and each column representing a day in the simulation\n",
    "rolls = np.random.uniform(1.5, 4.5, nrows * ncols).astype(int).reshape(nrows, ncols)\n",
    "\n",
    "# convert to data frame\n",
    "df = pd.DataFrame(rolls)\n",
    "\n",
    "# add calculation columnns\n",
    "df['total_pop_tarts'] = df.sum(axis=1)\n",
    "df['pop_tarts_remain'] = df['total_pop_tarts'] < 17\n",
    "\n",
    "# get mean of calculation True/False columns\n",
    "# format and print results\n",
    "tarts = int(round(df['pop_tarts_remain'].mean(),2) * 100)\n",
    "\n",
    "\n",
    "print(f'The odds of being able to by a PopTart in the afternoon on friday are {tarts}%')"
   ]
  },
  {
   "cell_type": "markdown",
   "id": "confirmed-animation",
   "metadata": {},
   "source": [
    "### 5) Men have an average height of 178 cm and standard deviation of 8cm. Women have a mean of 170, sd = 6cm. If a man and woman are chosen at random, P(woman taller than man)?"
   ]
  },
  {
   "cell_type": "markdown",
   "id": "american-conviction",
   "metadata": {},
   "source": [
    "### 6) When installing anaconda on a student's computer, there's a 1 in 250 chance that the download is corrupted and the installation fails.\n",
    "\n",
    "### a) What are the odds that after having 50 students download anaconda, no one has an installation issue? 100 students?"
   ]
  },
  {
   "cell_type": "markdown",
   "id": "confirmed-alexander",
   "metadata": {},
   "source": [
    "### b) What is the probability that we observe an installation issue within the first 150 students that download anaconda?"
   ]
  },
  {
   "cell_type": "markdown",
   "id": "portable-working",
   "metadata": {},
   "source": [
    "### 5) How likely is it that 450 students all download anaconda without an issue?"
   ]
  },
  {
   "cell_type": "markdown",
   "id": "dying-pizza",
   "metadata": {},
   "source": [
    "### 6) There's a 70% chance on any given day that there will be at least one food truck at Travis Park. However, you haven't seen a food truck there in 3 days. How unlikely is this?"
   ]
  },
  {
   "cell_type": "markdown",
   "id": "cooked-count",
   "metadata": {},
   "source": [
    "### 7) How likely is it that a food truck will show up sometime this week?"
   ]
  },
  {
   "cell_type": "markdown",
   "id": "parental-preliminary",
   "metadata": {},
   "source": [
    "### 8) If 23 people are in the same room, what are the odds that two of them share a birthday? What if it's 20 people? 40?"
   ]
  },
  {
   "cell_type": "code",
   "execution_count": null,
   "id": "least-seating",
   "metadata": {},
   "outputs": [],
   "source": []
  }
 ],
 "metadata": {
  "kernelspec": {
   "display_name": "Python 3",
   "language": "python",
   "name": "python3"
  },
  "language_info": {
   "codemirror_mode": {
    "name": "ipython",
    "version": 3
   },
   "file_extension": ".py",
   "mimetype": "text/x-python",
   "name": "python",
   "nbconvert_exporter": "python",
   "pygments_lexer": "ipython3",
   "version": "3.7.4"
  }
 },
 "nbformat": 4,
 "nbformat_minor": 5
}
