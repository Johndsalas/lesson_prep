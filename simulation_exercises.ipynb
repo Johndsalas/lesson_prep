{
 "cells": [
  {
   "cell_type": "markdown",
   "id": "japanese-services",
   "metadata": {},
   "source": [
    "# Simulation Exercises"
   ]
  },
  {
   "cell_type": "code",
   "execution_count": 1,
   "id": "possible-ethnic",
   "metadata": {},
   "outputs": [],
   "source": [
    "import numpy as np\n",
    "import pandas as pd\n",
    "import random"
   ]
  },
  {
   "cell_type": "markdown",
   "id": "brilliant-lighter",
   "metadata": {},
   "source": [
    "### 1) How likely is it that you roll doubles when rolling two dice?"
   ]
  },
  {
   "cell_type": "code",
   "execution_count": 2,
   "id": "systematic-heading",
   "metadata": {},
   "outputs": [],
   "source": [
    "# set number of trials and events per trial\n",
    "\n",
    "nrows = 100_000 # number of trials\n",
    "\n",
    "ncols = 2       # number of random events in each trial"
   ]
  },
  {
   "cell_type": "code",
   "execution_count": 16,
   "id": "geographic-signature",
   "metadata": {},
   "outputs": [
    {
     "data": {
      "text/plain": [
       "array([5, 3, 4, 1])"
      ]
     },
     "execution_count": 16,
     "metadata": {},
     "output_type": "execute_result"
    }
   ],
   "source": [
    "np.random.choice([1, 2, 3, 4, 5, 6],4)"
   ]
  },
  {
   "cell_type": "code",
   "execution_count": 17,
   "id": "under-zealand",
   "metadata": {},
   "outputs": [
    {
     "data": {
      "text/plain": [
       "array([5, 2, 6, ..., 6, 5, 1])"
      ]
     },
     "execution_count": 17,
     "metadata": {},
     "output_type": "execute_result"
    }
   ],
   "source": [
    "np.random.choice([1, 2, 3, 4, 5, 6], nrows * ncols)"
   ]
  },
  {
   "cell_type": "code",
   "execution_count": 18,
   "id": "discrete-relationship",
   "metadata": {},
   "outputs": [
    {
     "data": {
      "text/plain": [
       "array([[4, 3],\n",
       "       [5, 1],\n",
       "       [5, 2],\n",
       "       ...,\n",
       "       [4, 1],\n",
       "       [4, 5],\n",
       "       [4, 5]])"
      ]
     },
     "execution_count": 18,
     "metadata": {},
     "output_type": "execute_result"
    }
   ],
   "source": [
    "rolls = np.random.choice([1, 2, 3, 4, 5, 6], nrows * ncols).reshape(nrows, ncols)\n",
    "rolls"
   ]
  },
  {
   "cell_type": "code",
   "execution_count": 19,
   "id": "victorian-production",
   "metadata": {},
   "outputs": [
    {
     "data": {
      "text/html": [
       "<div>\n",
       "<style scoped>\n",
       "    .dataframe tbody tr th:only-of-type {\n",
       "        vertical-align: middle;\n",
       "    }\n",
       "\n",
       "    .dataframe tbody tr th {\n",
       "        vertical-align: top;\n",
       "    }\n",
       "\n",
       "    .dataframe thead th {\n",
       "        text-align: right;\n",
       "    }\n",
       "</style>\n",
       "<table border=\"1\" class=\"dataframe\">\n",
       "  <thead>\n",
       "    <tr style=\"text-align: right;\">\n",
       "      <th></th>\n",
       "      <th>0</th>\n",
       "      <th>1</th>\n",
       "    </tr>\n",
       "  </thead>\n",
       "  <tbody>\n",
       "    <tr>\n",
       "      <th>0</th>\n",
       "      <td>4</td>\n",
       "      <td>3</td>\n",
       "    </tr>\n",
       "    <tr>\n",
       "      <th>1</th>\n",
       "      <td>5</td>\n",
       "      <td>1</td>\n",
       "    </tr>\n",
       "    <tr>\n",
       "      <th>2</th>\n",
       "      <td>5</td>\n",
       "      <td>2</td>\n",
       "    </tr>\n",
       "    <tr>\n",
       "      <th>3</th>\n",
       "      <td>1</td>\n",
       "      <td>4</td>\n",
       "    </tr>\n",
       "    <tr>\n",
       "      <th>4</th>\n",
       "      <td>4</td>\n",
       "      <td>2</td>\n",
       "    </tr>\n",
       "    <tr>\n",
       "      <th>...</th>\n",
       "      <td>...</td>\n",
       "      <td>...</td>\n",
       "    </tr>\n",
       "    <tr>\n",
       "      <th>99995</th>\n",
       "      <td>2</td>\n",
       "      <td>2</td>\n",
       "    </tr>\n",
       "    <tr>\n",
       "      <th>99996</th>\n",
       "      <td>4</td>\n",
       "      <td>5</td>\n",
       "    </tr>\n",
       "    <tr>\n",
       "      <th>99997</th>\n",
       "      <td>4</td>\n",
       "      <td>1</td>\n",
       "    </tr>\n",
       "    <tr>\n",
       "      <th>99998</th>\n",
       "      <td>4</td>\n",
       "      <td>5</td>\n",
       "    </tr>\n",
       "    <tr>\n",
       "      <th>99999</th>\n",
       "      <td>4</td>\n",
       "      <td>5</td>\n",
       "    </tr>\n",
       "  </tbody>\n",
       "</table>\n",
       "<p>100000 rows × 2 columns</p>\n",
       "</div>"
      ],
      "text/plain": [
       "       0  1\n",
       "0      4  3\n",
       "1      5  1\n",
       "2      5  2\n",
       "3      1  4\n",
       "4      4  2\n",
       "...   .. ..\n",
       "99995  2  2\n",
       "99996  4  5\n",
       "99997  4  1\n",
       "99998  4  5\n",
       "99999  4  5\n",
       "\n",
       "[100000 rows x 2 columns]"
      ]
     },
     "execution_count": 19,
     "metadata": {},
     "output_type": "execute_result"
    }
   ],
   "source": [
    "# convert to data frame\n",
    "df = pd.DataFrame(rolls)\n",
    "df"
   ]
  },
  {
   "cell_type": "code",
   "execution_count": 20,
   "id": "ranging-conclusion",
   "metadata": {},
   "outputs": [
    {
     "data": {
      "text/html": [
       "<div>\n",
       "<style scoped>\n",
       "    .dataframe tbody tr th:only-of-type {\n",
       "        vertical-align: middle;\n",
       "    }\n",
       "\n",
       "    .dataframe tbody tr th {\n",
       "        vertical-align: top;\n",
       "    }\n",
       "\n",
       "    .dataframe thead th {\n",
       "        text-align: right;\n",
       "    }\n",
       "</style>\n",
       "<table border=\"1\" class=\"dataframe\">\n",
       "  <thead>\n",
       "    <tr style=\"text-align: right;\">\n",
       "      <th></th>\n",
       "      <th>0</th>\n",
       "      <th>1</th>\n",
       "      <th>doubles</th>\n",
       "    </tr>\n",
       "  </thead>\n",
       "  <tbody>\n",
       "    <tr>\n",
       "      <th>0</th>\n",
       "      <td>4</td>\n",
       "      <td>3</td>\n",
       "      <td>False</td>\n",
       "    </tr>\n",
       "    <tr>\n",
       "      <th>1</th>\n",
       "      <td>5</td>\n",
       "      <td>1</td>\n",
       "      <td>False</td>\n",
       "    </tr>\n",
       "    <tr>\n",
       "      <th>2</th>\n",
       "      <td>5</td>\n",
       "      <td>2</td>\n",
       "      <td>False</td>\n",
       "    </tr>\n",
       "    <tr>\n",
       "      <th>3</th>\n",
       "      <td>1</td>\n",
       "      <td>4</td>\n",
       "      <td>False</td>\n",
       "    </tr>\n",
       "    <tr>\n",
       "      <th>4</th>\n",
       "      <td>4</td>\n",
       "      <td>2</td>\n",
       "      <td>False</td>\n",
       "    </tr>\n",
       "    <tr>\n",
       "      <th>5</th>\n",
       "      <td>3</td>\n",
       "      <td>4</td>\n",
       "      <td>False</td>\n",
       "    </tr>\n",
       "    <tr>\n",
       "      <th>6</th>\n",
       "      <td>1</td>\n",
       "      <td>2</td>\n",
       "      <td>False</td>\n",
       "    </tr>\n",
       "    <tr>\n",
       "      <th>7</th>\n",
       "      <td>1</td>\n",
       "      <td>4</td>\n",
       "      <td>False</td>\n",
       "    </tr>\n",
       "    <tr>\n",
       "      <th>8</th>\n",
       "      <td>6</td>\n",
       "      <td>3</td>\n",
       "      <td>False</td>\n",
       "    </tr>\n",
       "    <tr>\n",
       "      <th>9</th>\n",
       "      <td>5</td>\n",
       "      <td>6</td>\n",
       "      <td>False</td>\n",
       "    </tr>\n",
       "  </tbody>\n",
       "</table>\n",
       "</div>"
      ],
      "text/plain": [
       "   0  1  doubles\n",
       "0  4  3    False\n",
       "1  5  1    False\n",
       "2  5  2    False\n",
       "3  1  4    False\n",
       "4  4  2    False\n",
       "5  3  4    False\n",
       "6  1  2    False\n",
       "7  1  4    False\n",
       "8  6  3    False\n",
       "9  5  6    False"
      ]
     },
     "execution_count": 20,
     "metadata": {},
     "output_type": "execute_result"
    }
   ],
   "source": [
    "# add add calculation column \n",
    "df['doubles'] = df[0] == df[1]\n",
    "df.head(10)"
   ]
  },
  {
   "cell_type": "code",
   "execution_count": 21,
   "id": "clear-present",
   "metadata": {},
   "outputs": [
    {
     "data": {
      "text/plain": [
       "0.16651"
      ]
     },
     "execution_count": 21,
     "metadata": {},
     "output_type": "execute_result"
    }
   ],
   "source": [
    "# get odds of doubles\n",
    "df.doubles.mean()"
   ]
  },
  {
   "cell_type": "code",
   "execution_count": 22,
   "id": "entertaining-fellowship",
   "metadata": {},
   "outputs": [
    {
     "name": "stdout",
     "output_type": "stream",
     "text": [
      "The odds of rolling doubles on two fair 6 sided dice are 17%\n"
     ]
    }
   ],
   "source": [
    "odds_of_doubles = int(round(df.doubles.mean(),2) * 100)\n",
    "\n",
    "print(f'The odds of rolling doubles on two fair 6 sided dice are {odds_of_doubles}%')"
   ]
  },
  {
   "cell_type": "code",
   "execution_count": 23,
   "id": "answering-clear",
   "metadata": {},
   "outputs": [
    {
     "name": "stdout",
     "output_type": "stream",
     "text": [
      "The odds of rolling doubles on two fair 6 sided dice are 17%\n"
     ]
    }
   ],
   "source": [
    "# All together\n",
    "\n",
    "nrows = 100_000 # set nrows to number of simulations\n",
    "ncols = 2       # set ncolumns to number of dice rolled in each simulation\n",
    "\n",
    "# create data frame with each row representing a simulation and each column representing a dice roll in the simulation\n",
    "rolls = np.random.choice([1, 2, 3, 4, 5, 6], nrows * ncols).reshape(nrows, ncols) \n",
    "\n",
    "df = pd.DataFrame(rolls)\n",
    "\n",
    "# add double columnn\n",
    "df['doubles'] = df[0] == df[1]\n",
    "\n",
    "# get mean of doubles column\n",
    "# format and print results\n",
    "odds_of_doubles = int(round(df.doubles.mean(),2) * 100)\n",
    "\n",
    "print(f'The odds of rolling doubles on two fair 6 sided dice are {odds_of_doubles}%')"
   ]
  },
  {
   "cell_type": "markdown",
   "id": "center-accordance",
   "metadata": {},
   "source": [
    "### 2) If you flip 8 coins, what is the probability of getting exactly 3 heads? What is the probability of getting more than 3 heads?"
   ]
  },
  {
   "cell_type": "code",
   "execution_count": 24,
   "id": "thousand-cassette",
   "metadata": {},
   "outputs": [],
   "source": [
    "nrows = 100_000 # set nrows to number of simulations\n",
    "ncols = 8       # set ncols to number of random events in each simulation"
   ]
  },
  {
   "cell_type": "code",
   "execution_count": 25,
   "id": "laughing-consumption",
   "metadata": {},
   "outputs": [
    {
     "data": {
      "text/plain": [
       "array([[ True,  True,  True, ..., False,  True,  True],\n",
       "       [ True,  True, False, ..., False,  True, False],\n",
       "       [ True, False, False, ..., False,  True, False],\n",
       "       ...,\n",
       "       [ True,  True, False, ..., False,  True,  True],\n",
       "       [ True,  True,  True, ..., False,  True,  True],\n",
       "       [False, False,  True, ..., False,  True,  True]])"
      ]
     },
     "execution_count": 25,
     "metadata": {},
     "output_type": "execute_result"
    }
   ],
   "source": [
    "# create array\n",
    "rolls = np.random.choice([True, False], nrows * ncols).reshape(nrows, ncols)\n",
    "rolls"
   ]
  },
  {
   "cell_type": "code",
   "execution_count": 26,
   "id": "thermal-london",
   "metadata": {},
   "outputs": [
    {
     "data": {
      "text/html": [
       "<div>\n",
       "<style scoped>\n",
       "    .dataframe tbody tr th:only-of-type {\n",
       "        vertical-align: middle;\n",
       "    }\n",
       "\n",
       "    .dataframe tbody tr th {\n",
       "        vertical-align: top;\n",
       "    }\n",
       "\n",
       "    .dataframe thead th {\n",
       "        text-align: right;\n",
       "    }\n",
       "</style>\n",
       "<table border=\"1\" class=\"dataframe\">\n",
       "  <thead>\n",
       "    <tr style=\"text-align: right;\">\n",
       "      <th></th>\n",
       "      <th>0</th>\n",
       "      <th>1</th>\n",
       "      <th>2</th>\n",
       "      <th>3</th>\n",
       "      <th>4</th>\n",
       "      <th>5</th>\n",
       "      <th>6</th>\n",
       "      <th>7</th>\n",
       "    </tr>\n",
       "  </thead>\n",
       "  <tbody>\n",
       "    <tr>\n",
       "      <th>0</th>\n",
       "      <td>True</td>\n",
       "      <td>True</td>\n",
       "      <td>True</td>\n",
       "      <td>True</td>\n",
       "      <td>True</td>\n",
       "      <td>False</td>\n",
       "      <td>True</td>\n",
       "      <td>True</td>\n",
       "    </tr>\n",
       "    <tr>\n",
       "      <th>1</th>\n",
       "      <td>True</td>\n",
       "      <td>True</td>\n",
       "      <td>False</td>\n",
       "      <td>False</td>\n",
       "      <td>False</td>\n",
       "      <td>False</td>\n",
       "      <td>True</td>\n",
       "      <td>False</td>\n",
       "    </tr>\n",
       "    <tr>\n",
       "      <th>2</th>\n",
       "      <td>True</td>\n",
       "      <td>False</td>\n",
       "      <td>False</td>\n",
       "      <td>True</td>\n",
       "      <td>True</td>\n",
       "      <td>False</td>\n",
       "      <td>True</td>\n",
       "      <td>False</td>\n",
       "    </tr>\n",
       "    <tr>\n",
       "      <th>3</th>\n",
       "      <td>False</td>\n",
       "      <td>True</td>\n",
       "      <td>True</td>\n",
       "      <td>False</td>\n",
       "      <td>True</td>\n",
       "      <td>True</td>\n",
       "      <td>False</td>\n",
       "      <td>False</td>\n",
       "    </tr>\n",
       "    <tr>\n",
       "      <th>4</th>\n",
       "      <td>False</td>\n",
       "      <td>False</td>\n",
       "      <td>True</td>\n",
       "      <td>True</td>\n",
       "      <td>True</td>\n",
       "      <td>True</td>\n",
       "      <td>True</td>\n",
       "      <td>True</td>\n",
       "    </tr>\n",
       "  </tbody>\n",
       "</table>\n",
       "</div>"
      ],
      "text/plain": [
       "       0      1      2      3      4      5      6      7\n",
       "0   True   True   True   True   True  False   True   True\n",
       "1   True   True  False  False  False  False   True  False\n",
       "2   True  False  False   True   True  False   True  False\n",
       "3  False   True   True  False   True   True  False  False\n",
       "4  False  False   True   True   True   True   True   True"
      ]
     },
     "execution_count": 26,
     "metadata": {},
     "output_type": "execute_result"
    }
   ],
   "source": [
    "# convert to data frame\n",
    "df = pd.DataFrame(rolls)\n",
    "df.head()"
   ]
  },
  {
   "cell_type": "code",
   "execution_count": 27,
   "id": "bright-lincoln",
   "metadata": {},
   "outputs": [
    {
     "data": {
      "text/html": [
       "<div>\n",
       "<style scoped>\n",
       "    .dataframe tbody tr th:only-of-type {\n",
       "        vertical-align: middle;\n",
       "    }\n",
       "\n",
       "    .dataframe tbody tr th {\n",
       "        vertical-align: top;\n",
       "    }\n",
       "\n",
       "    .dataframe thead th {\n",
       "        text-align: right;\n",
       "    }\n",
       "</style>\n",
       "<table border=\"1\" class=\"dataframe\">\n",
       "  <thead>\n",
       "    <tr style=\"text-align: right;\">\n",
       "      <th></th>\n",
       "      <th>0</th>\n",
       "      <th>1</th>\n",
       "      <th>2</th>\n",
       "      <th>3</th>\n",
       "      <th>4</th>\n",
       "      <th>5</th>\n",
       "      <th>6</th>\n",
       "      <th>7</th>\n",
       "      <th>number_of_heads</th>\n",
       "      <th>exactly_three_heads</th>\n",
       "      <th>three_or_more_heads</th>\n",
       "    </tr>\n",
       "  </thead>\n",
       "  <tbody>\n",
       "    <tr>\n",
       "      <th>0</th>\n",
       "      <td>True</td>\n",
       "      <td>True</td>\n",
       "      <td>True</td>\n",
       "      <td>True</td>\n",
       "      <td>True</td>\n",
       "      <td>False</td>\n",
       "      <td>True</td>\n",
       "      <td>True</td>\n",
       "      <td>7</td>\n",
       "      <td>False</td>\n",
       "      <td>True</td>\n",
       "    </tr>\n",
       "    <tr>\n",
       "      <th>1</th>\n",
       "      <td>True</td>\n",
       "      <td>True</td>\n",
       "      <td>False</td>\n",
       "      <td>False</td>\n",
       "      <td>False</td>\n",
       "      <td>False</td>\n",
       "      <td>True</td>\n",
       "      <td>False</td>\n",
       "      <td>3</td>\n",
       "      <td>True</td>\n",
       "      <td>True</td>\n",
       "    </tr>\n",
       "    <tr>\n",
       "      <th>2</th>\n",
       "      <td>True</td>\n",
       "      <td>False</td>\n",
       "      <td>False</td>\n",
       "      <td>True</td>\n",
       "      <td>True</td>\n",
       "      <td>False</td>\n",
       "      <td>True</td>\n",
       "      <td>False</td>\n",
       "      <td>4</td>\n",
       "      <td>False</td>\n",
       "      <td>True</td>\n",
       "    </tr>\n",
       "    <tr>\n",
       "      <th>3</th>\n",
       "      <td>False</td>\n",
       "      <td>True</td>\n",
       "      <td>True</td>\n",
       "      <td>False</td>\n",
       "      <td>True</td>\n",
       "      <td>True</td>\n",
       "      <td>False</td>\n",
       "      <td>False</td>\n",
       "      <td>4</td>\n",
       "      <td>False</td>\n",
       "      <td>True</td>\n",
       "    </tr>\n",
       "    <tr>\n",
       "      <th>4</th>\n",
       "      <td>False</td>\n",
       "      <td>False</td>\n",
       "      <td>True</td>\n",
       "      <td>True</td>\n",
       "      <td>True</td>\n",
       "      <td>True</td>\n",
       "      <td>True</td>\n",
       "      <td>True</td>\n",
       "      <td>6</td>\n",
       "      <td>False</td>\n",
       "      <td>True</td>\n",
       "    </tr>\n",
       "  </tbody>\n",
       "</table>\n",
       "</div>"
      ],
      "text/plain": [
       "       0      1      2      3      4      5      6      7  number_of_heads  \\\n",
       "0   True   True   True   True   True  False   True   True                7   \n",
       "1   True   True  False  False  False  False   True  False                3   \n",
       "2   True  False  False   True   True  False   True  False                4   \n",
       "3  False   True   True  False   True   True  False  False                4   \n",
       "4  False  False   True   True   True   True   True   True                6   \n",
       "\n",
       "   exactly_three_heads  three_or_more_heads  \n",
       "0                False                 True  \n",
       "1                 True                 True  \n",
       "2                False                 True  \n",
       "3                False                 True  \n",
       "4                False                 True  "
      ]
     },
     "execution_count": 27,
     "metadata": {},
     "output_type": "execute_result"
    }
   ],
   "source": [
    "# add calculation columnns\n",
    "df['number_of_heads'] = df.sum(axis=1)\n",
    "df['exactly_three_heads'] = df.number_of_heads == 3\n",
    "df['three_or_more_heads'] = df.number_of_heads >= 3\n",
    "df.head()"
   ]
  },
  {
   "cell_type": "code",
   "execution_count": null,
   "id": "presidential-topic",
   "metadata": {},
   "outputs": [],
   "source": [
    "# get mean of relevant columns"
   ]
  },
  {
   "cell_type": "code",
   "execution_count": 28,
   "id": "informational-robin",
   "metadata": {},
   "outputs": [
    {
     "data": {
      "text/plain": [
       "0.21908"
      ]
     },
     "execution_count": 28,
     "metadata": {},
     "output_type": "execute_result"
    }
   ],
   "source": [
    "df.exactly_three_heads.mean()"
   ]
  },
  {
   "cell_type": "code",
   "execution_count": 29,
   "id": "selective-evans",
   "metadata": {},
   "outputs": [
    {
     "data": {
      "text/plain": [
       "0.85634"
      ]
     },
     "execution_count": 29,
     "metadata": {},
     "output_type": "execute_result"
    }
   ],
   "source": [
    "df.three_or_more_heads.mean()"
   ]
  },
  {
   "cell_type": "code",
   "execution_count": 30,
   "id": "occupational-pocket",
   "metadata": {},
   "outputs": [
    {
     "name": "stdout",
     "output_type": "stream",
     "text": [
      "The odds of getting exactly three heads when flipping five coins is 22%\n",
      "The odds of gettng three or more heads in the same five flips is 86%\n"
     ]
    }
   ],
   "source": [
    "# get mean of calculation columns\n",
    "# format and print results\n",
    "odds_of_three_heads = int(round(df.exactly_three_heads.mean(),2) * 100)\n",
    "odds_of_three_or_more_heads = int(round(df.three_or_more_heads.mean(),2) * 100)\n",
    "\n",
    "print(f'The odds of getting exactly three heads when flipping five coins is {odds_of_three_heads}%')\n",
    "print(f'The odds of gettng three or more heads in the same five flips is {odds_of_three_or_more_heads}%')"
   ]
  },
  {
   "cell_type": "code",
   "execution_count": 33,
   "id": "restricted-spring",
   "metadata": {},
   "outputs": [
    {
     "name": "stdout",
     "output_type": "stream",
     "text": [
      "The odds of getting exactly three heads when flipping five coins is 22%\n",
      "The odds of gettng three or more heads in the same five flips is 85%\n"
     ]
    }
   ],
   "source": [
    "# All together\n",
    "nrows = 100_000 # set rows to number of simulations\n",
    "ncols = 8       # set columns to number of random events in each simulation\n",
    "\n",
    "# create array\n",
    "rolls = np.random.choice([True, False], nrows * ncols).reshape(nrows, ncols)\n",
    "\n",
    "# create dataframe\n",
    "df = pd.DataFrame(rolls)\n",
    "\n",
    "# add calculation columnns\n",
    "df['number_of_heads'] = df.sum(axis=1)\n",
    "df['exactly_three_heads'] = df.number_of_heads == 3\n",
    "df['three_or_more_heads'] = df.number_of_heads >= 3\n",
    "\n",
    "# get mean of calculation True/False columns\n",
    "# format and print results\n",
    "odds_of_three_heads = int(round(df.exactly_three_heads.mean(),2) * 100)\n",
    "odds_of_three_or_more_heads = int(round(df.three_or_more_heads.mean(),2) * 100)\n",
    "\n",
    "print(f'The odds of getting exactly three heads when flipping five coins is {odds_of_three_heads}%')\n",
    "print(f'The odds of gettng three or more heads in the same five flips is {odds_of_three_or_more_heads}%')"
   ]
  },
  {
   "cell_type": "markdown",
   "id": "continued-speaker",
   "metadata": {},
   "source": [
    "### 3) There are approximitely 3 web development cohorts for every 1 data science cohort at Codeup. Assuming that Codeup randomly selects an alumni to put on a billboard, what are the odds that the two billboards I drive past both have data science students on them?"
   ]
  },
  {
   "cell_type": "code",
   "execution_count": 34,
   "id": "graduate-indicator",
   "metadata": {},
   "outputs": [],
   "source": [
    "nrows = n_simulations = 100_000 # set rows to number of simulations\n",
    "ncols = n_dice_rolled = 2       # set columns to number of bilboards in each simulation"
   ]
  },
  {
   "cell_type": "code",
   "execution_count": 35,
   "id": "found-calendar",
   "metadata": {},
   "outputs": [
    {
     "data": {
      "text/html": [
       "<div>\n",
       "<style scoped>\n",
       "    .dataframe tbody tr th:only-of-type {\n",
       "        vertical-align: middle;\n",
       "    }\n",
       "\n",
       "    .dataframe tbody tr th {\n",
       "        vertical-align: top;\n",
       "    }\n",
       "\n",
       "    .dataframe thead th {\n",
       "        text-align: right;\n",
       "    }\n",
       "</style>\n",
       "<table border=\"1\" class=\"dataframe\">\n",
       "  <thead>\n",
       "    <tr style=\"text-align: right;\">\n",
       "      <th></th>\n",
       "      <th>0</th>\n",
       "      <th>1</th>\n",
       "    </tr>\n",
       "  </thead>\n",
       "  <tbody>\n",
       "    <tr>\n",
       "      <th>0</th>\n",
       "      <td>WEB</td>\n",
       "      <td>WEB</td>\n",
       "    </tr>\n",
       "    <tr>\n",
       "      <th>1</th>\n",
       "      <td>WEB</td>\n",
       "      <td>DS</td>\n",
       "    </tr>\n",
       "    <tr>\n",
       "      <th>2</th>\n",
       "      <td>WEB</td>\n",
       "      <td>DS</td>\n",
       "    </tr>\n",
       "    <tr>\n",
       "      <th>3</th>\n",
       "      <td>WEB</td>\n",
       "      <td>DS</td>\n",
       "    </tr>\n",
       "    <tr>\n",
       "      <th>4</th>\n",
       "      <td>DS</td>\n",
       "      <td>WEB</td>\n",
       "    </tr>\n",
       "  </tbody>\n",
       "</table>\n",
       "</div>"
      ],
      "text/plain": [
       "     0    1\n",
       "0  WEB  WEB\n",
       "1  WEB   DS\n",
       "2  WEB   DS\n",
       "3  WEB   DS\n",
       "4   DS  WEB"
      ]
     },
     "execution_count": 35,
     "metadata": {},
     "output_type": "execute_result"
    }
   ],
   "source": [
    "# create data frame with each row representing a simulation and each column representing a bilboard in the simulation\n",
    "rolls = np.random.choice([\"DS\",\"WEB\",\"WEB\",\"WEB\"], nrows * ncols).reshape(nrows, ncols)\n",
    "\n",
    "# convert to data frame\n",
    "df = pd.DataFrame(rolls)\n",
    "df.head()"
   ]
  },
  {
   "cell_type": "code",
   "execution_count": 39,
   "id": "naughty-forth",
   "metadata": {},
   "outputs": [
    {
     "data": {
      "text/html": [
       "<div>\n",
       "<style scoped>\n",
       "    .dataframe tbody tr th:only-of-type {\n",
       "        vertical-align: middle;\n",
       "    }\n",
       "\n",
       "    .dataframe tbody tr th {\n",
       "        vertical-align: top;\n",
       "    }\n",
       "\n",
       "    .dataframe thead th {\n",
       "        text-align: right;\n",
       "    }\n",
       "</style>\n",
       "<table border=\"1\" class=\"dataframe\">\n",
       "  <thead>\n",
       "    <tr style=\"text-align: right;\">\n",
       "      <th></th>\n",
       "      <th>0</th>\n",
       "      <th>1</th>\n",
       "      <th>both_ds</th>\n",
       "    </tr>\n",
       "  </thead>\n",
       "  <tbody>\n",
       "    <tr>\n",
       "      <th>0</th>\n",
       "      <td>WEB</td>\n",
       "      <td>WEB</td>\n",
       "      <td>False</td>\n",
       "    </tr>\n",
       "    <tr>\n",
       "      <th>1</th>\n",
       "      <td>WEB</td>\n",
       "      <td>DS</td>\n",
       "      <td>False</td>\n",
       "    </tr>\n",
       "    <tr>\n",
       "      <th>2</th>\n",
       "      <td>WEB</td>\n",
       "      <td>DS</td>\n",
       "      <td>False</td>\n",
       "    </tr>\n",
       "    <tr>\n",
       "      <th>3</th>\n",
       "      <td>WEB</td>\n",
       "      <td>DS</td>\n",
       "      <td>False</td>\n",
       "    </tr>\n",
       "    <tr>\n",
       "      <th>4</th>\n",
       "      <td>DS</td>\n",
       "      <td>WEB</td>\n",
       "      <td>False</td>\n",
       "    </tr>\n",
       "    <tr>\n",
       "      <th>...</th>\n",
       "      <td>...</td>\n",
       "      <td>...</td>\n",
       "      <td>...</td>\n",
       "    </tr>\n",
       "    <tr>\n",
       "      <th>99995</th>\n",
       "      <td>DS</td>\n",
       "      <td>DS</td>\n",
       "      <td>True</td>\n",
       "    </tr>\n",
       "    <tr>\n",
       "      <th>99996</th>\n",
       "      <td>WEB</td>\n",
       "      <td>WEB</td>\n",
       "      <td>False</td>\n",
       "    </tr>\n",
       "    <tr>\n",
       "      <th>99997</th>\n",
       "      <td>WEB</td>\n",
       "      <td>WEB</td>\n",
       "      <td>False</td>\n",
       "    </tr>\n",
       "    <tr>\n",
       "      <th>99998</th>\n",
       "      <td>DS</td>\n",
       "      <td>WEB</td>\n",
       "      <td>False</td>\n",
       "    </tr>\n",
       "    <tr>\n",
       "      <th>99999</th>\n",
       "      <td>WEB</td>\n",
       "      <td>WEB</td>\n",
       "      <td>False</td>\n",
       "    </tr>\n",
       "  </tbody>\n",
       "</table>\n",
       "<p>100000 rows × 3 columns</p>\n",
       "</div>"
      ],
      "text/plain": [
       "         0    1  both_ds\n",
       "0      WEB  WEB    False\n",
       "1      WEB   DS    False\n",
       "2      WEB   DS    False\n",
       "3      WEB   DS    False\n",
       "4       DS  WEB    False\n",
       "...    ...  ...      ...\n",
       "99995   DS   DS     True\n",
       "99996  WEB  WEB    False\n",
       "99997  WEB  WEB    False\n",
       "99998   DS  WEB    False\n",
       "99999  WEB  WEB    False\n",
       "\n",
       "[100000 rows x 3 columns]"
      ]
     },
     "execution_count": 39,
     "metadata": {},
     "output_type": "execute_result"
    }
   ],
   "source": [
    "# add calculation columnn\n",
    "df['both_ds'] = (df[0] == \"DS\") & (df[1] == \"DS\")\n",
    "df"
   ]
  },
  {
   "cell_type": "code",
   "execution_count": 40,
   "id": "velvet-master",
   "metadata": {},
   "outputs": [
    {
     "data": {
      "text/plain": [
       "0.06317"
      ]
     },
     "execution_count": 40,
     "metadata": {},
     "output_type": "execute_result"
    }
   ],
   "source": [
    "df.both_ds.mean()"
   ]
  },
  {
   "cell_type": "code",
   "execution_count": 41,
   "id": "coordinate-daniel",
   "metadata": {},
   "outputs": [
    {
     "name": "stdout",
     "output_type": "stream",
     "text": [
      "The odds of both billboards being Data Science are 6%\n"
     ]
    }
   ],
   "source": [
    "# get mean of calculation True/False columns\n",
    "# format and print results\n",
    "both_ds = int(round(df.both_ds.mean(),2) * 100)\n",
    "\n",
    "\n",
    "print(f'The odds of both billboards being Data Science are {both_ds}%')"
   ]
  },
  {
   "cell_type": "code",
   "execution_count": 43,
   "id": "preceding-miller",
   "metadata": {},
   "outputs": [
    {
     "name": "stdout",
     "output_type": "stream",
     "text": [
      "The odds of both billboards being Data Science are 6%\n"
     ]
    }
   ],
   "source": [
    "# All together\n",
    "nrows = n_simulations = 100_000 # set rows to number of simulations\n",
    "ncols = n_dice_rolled = 2       # set columns to number of bilboards in each simulation\n",
    "\n",
    "# create data frame with each row representing a simulation and each column representing a bilboard in the simulation\n",
    "rolls = np.random.choice([\"DS\",\"WEB\",\"WEB\",\"WEB\"], nrows * ncols).reshape(nrows, ncols)\n",
    "\n",
    "# convert to data frame\n",
    "df = pd.DataFrame(rolls)\n",
    "\n",
    "# add calculation columnn\n",
    "df['both_ds'] = (df[0] == \"DS\") & (df[1] == \"DS\")\n",
    "\n",
    "# get mean of calculation True/False columns\n",
    "# format and print results\n",
    "both_ds = int(round(df.both_ds.mean(),2) * 100)\n",
    "\n",
    "print(f'The odds of both billboards being Data Science are {both_ds}%')"
   ]
  },
  {
   "cell_type": "markdown",
   "id": "communist-lingerie",
   "metadata": {},
   "source": [
    "### 4) Codeup students buy, on average, 3 poptart packages (+- 1.5) a day from the snack vending machine. If on monday the machine is restocked with 17 poptart packages, how likely is it that I will be able to buy some poptarts on Friday afternoon?"
   ]
  },
  {
   "cell_type": "code",
   "execution_count": 44,
   "id": "tight-confidentiality",
   "metadata": {},
   "outputs": [],
   "source": [
    "nrows = n_simulations = 100_000 # set rows to number of simulations\n",
    "ncols = n_dice_rolled = 5       # set columns to number of days in each simulation"
   ]
  },
  {
   "cell_type": "code",
   "execution_count": 46,
   "id": "chinese-blend",
   "metadata": {},
   "outputs": [
    {
     "data": {
      "text/html": [
       "<div>\n",
       "<style scoped>\n",
       "    .dataframe tbody tr th:only-of-type {\n",
       "        vertical-align: middle;\n",
       "    }\n",
       "\n",
       "    .dataframe tbody tr th {\n",
       "        vertical-align: top;\n",
       "    }\n",
       "\n",
       "    .dataframe thead th {\n",
       "        text-align: right;\n",
       "    }\n",
       "</style>\n",
       "<table border=\"1\" class=\"dataframe\">\n",
       "  <thead>\n",
       "    <tr style=\"text-align: right;\">\n",
       "      <th></th>\n",
       "      <th>0</th>\n",
       "      <th>1</th>\n",
       "      <th>2</th>\n",
       "      <th>3</th>\n",
       "      <th>4</th>\n",
       "    </tr>\n",
       "  </thead>\n",
       "  <tbody>\n",
       "    <tr>\n",
       "      <th>0</th>\n",
       "      <td>1</td>\n",
       "      <td>3</td>\n",
       "      <td>2</td>\n",
       "      <td>2</td>\n",
       "      <td>1</td>\n",
       "    </tr>\n",
       "    <tr>\n",
       "      <th>1</th>\n",
       "      <td>1</td>\n",
       "      <td>3</td>\n",
       "      <td>2</td>\n",
       "      <td>2</td>\n",
       "      <td>2</td>\n",
       "    </tr>\n",
       "    <tr>\n",
       "      <th>2</th>\n",
       "      <td>1</td>\n",
       "      <td>3</td>\n",
       "      <td>1</td>\n",
       "      <td>3</td>\n",
       "      <td>3</td>\n",
       "    </tr>\n",
       "    <tr>\n",
       "      <th>3</th>\n",
       "      <td>3</td>\n",
       "      <td>2</td>\n",
       "      <td>1</td>\n",
       "      <td>3</td>\n",
       "      <td>1</td>\n",
       "    </tr>\n",
       "    <tr>\n",
       "      <th>4</th>\n",
       "      <td>2</td>\n",
       "      <td>2</td>\n",
       "      <td>4</td>\n",
       "      <td>1</td>\n",
       "      <td>1</td>\n",
       "    </tr>\n",
       "  </tbody>\n",
       "</table>\n",
       "</div>"
      ],
      "text/plain": [
       "   0  1  2  3  4\n",
       "0  1  3  2  2  1\n",
       "1  1  3  2  2  2\n",
       "2  1  3  1  3  3\n",
       "3  3  2  1  3  1\n",
       "4  2  2  4  1  1"
      ]
     },
     "execution_count": 46,
     "metadata": {},
     "output_type": "execute_result"
    }
   ],
   "source": [
    "# create array with each row representing a simulation and each column representing a day in the simulation\n",
    "rolls = np.random.uniform(1.5, 4.5, nrows * ncols).astype(int).reshape(nrows, ncols)\n",
    "\n",
    "# convert to data frame\n",
    "df = pd.DataFrame(rolls)\n",
    "df.head()"
   ]
  },
  {
   "cell_type": "code",
   "execution_count": 47,
   "id": "temporal-philippines",
   "metadata": {},
   "outputs": [
    {
     "data": {
      "text/html": [
       "<div>\n",
       "<style scoped>\n",
       "    .dataframe tbody tr th:only-of-type {\n",
       "        vertical-align: middle;\n",
       "    }\n",
       "\n",
       "    .dataframe tbody tr th {\n",
       "        vertical-align: top;\n",
       "    }\n",
       "\n",
       "    .dataframe thead th {\n",
       "        text-align: right;\n",
       "    }\n",
       "</style>\n",
       "<table border=\"1\" class=\"dataframe\">\n",
       "  <thead>\n",
       "    <tr style=\"text-align: right;\">\n",
       "      <th></th>\n",
       "      <th>0</th>\n",
       "      <th>1</th>\n",
       "      <th>2</th>\n",
       "      <th>3</th>\n",
       "      <th>4</th>\n",
       "      <th>total_pop_tarts_bought</th>\n",
       "      <th>pop_tarts_remain</th>\n",
       "    </tr>\n",
       "  </thead>\n",
       "  <tbody>\n",
       "    <tr>\n",
       "      <th>0</th>\n",
       "      <td>1</td>\n",
       "      <td>3</td>\n",
       "      <td>2</td>\n",
       "      <td>2</td>\n",
       "      <td>1</td>\n",
       "      <td>9</td>\n",
       "      <td>True</td>\n",
       "    </tr>\n",
       "    <tr>\n",
       "      <th>1</th>\n",
       "      <td>1</td>\n",
       "      <td>3</td>\n",
       "      <td>2</td>\n",
       "      <td>2</td>\n",
       "      <td>2</td>\n",
       "      <td>10</td>\n",
       "      <td>True</td>\n",
       "    </tr>\n",
       "    <tr>\n",
       "      <th>2</th>\n",
       "      <td>1</td>\n",
       "      <td>3</td>\n",
       "      <td>1</td>\n",
       "      <td>3</td>\n",
       "      <td>3</td>\n",
       "      <td>11</td>\n",
       "      <td>True</td>\n",
       "    </tr>\n",
       "    <tr>\n",
       "      <th>3</th>\n",
       "      <td>3</td>\n",
       "      <td>2</td>\n",
       "      <td>1</td>\n",
       "      <td>3</td>\n",
       "      <td>1</td>\n",
       "      <td>10</td>\n",
       "      <td>True</td>\n",
       "    </tr>\n",
       "    <tr>\n",
       "      <th>4</th>\n",
       "      <td>2</td>\n",
       "      <td>2</td>\n",
       "      <td>4</td>\n",
       "      <td>1</td>\n",
       "      <td>1</td>\n",
       "      <td>10</td>\n",
       "      <td>True</td>\n",
       "    </tr>\n",
       "  </tbody>\n",
       "</table>\n",
       "</div>"
      ],
      "text/plain": [
       "   0  1  2  3  4  total_pop_tarts_bought  pop_tarts_remain\n",
       "0  1  3  2  2  1                       9              True\n",
       "1  1  3  2  2  2                      10              True\n",
       "2  1  3  1  3  3                      11              True\n",
       "3  3  2  1  3  1                      10              True\n",
       "4  2  2  4  1  1                      10              True"
      ]
     },
     "execution_count": 47,
     "metadata": {},
     "output_type": "execute_result"
    }
   ],
   "source": [
    "# add calculation columnns\n",
    "df['total_pop_tarts_bought'] = df.sum(axis=1)\n",
    "df['pop_tarts_remain'] = df['total_pop_tarts_bought'] < 17\n",
    "df.head()"
   ]
  },
  {
   "cell_type": "code",
   "execution_count": 48,
   "id": "acquired-communication",
   "metadata": {},
   "outputs": [
    {
     "data": {
      "text/plain": [
       "0.97053"
      ]
     },
     "execution_count": 48,
     "metadata": {},
     "output_type": "execute_result"
    }
   ],
   "source": [
    "df['pop_tarts_remain'].mean()"
   ]
  },
  {
   "cell_type": "code",
   "execution_count": 49,
   "id": "tamil-drink",
   "metadata": {},
   "outputs": [
    {
     "name": "stdout",
     "output_type": "stream",
     "text": [
      "The odds of being able to by a PopTart in the afternoon on friday are 97%\n"
     ]
    }
   ],
   "source": [
    "# get mean of calculation True/False columns\n",
    "# format and print results\n",
    "tarts = int(round(df['pop_tarts_remain'].mean(),2) * 100)\n",
    "\n",
    "\n",
    "print(f'The odds of being able to by a PopTart in the afternoon on friday are {tarts}%')"
   ]
  },
  {
   "cell_type": "code",
   "execution_count": 50,
   "id": "velvet-disney",
   "metadata": {},
   "outputs": [
    {
     "name": "stdout",
     "output_type": "stream",
     "text": [
      "The odds of being able to by a PopTart in the afternoon on friday are 97%\n"
     ]
    }
   ],
   "source": [
    "# All together\n",
    "nrows = n_simulations = 100_000 # set rows to number of simulations\n",
    "ncols = n_dice_rolled = 5       # set columns to number of days in each simulation\n",
    "\n",
    "# create array with each row representing a simulation and each column representing a day in the simulation\n",
    "rolls = np.random.uniform(1.5, 4.5, nrows * ncols).astype(int).reshape(nrows, ncols)\n",
    "\n",
    "# convert to data frame\n",
    "df = pd.DataFrame(rolls)\n",
    "\n",
    "# add calculation columnns\n",
    "df['total_pop_tarts'] = df.sum(axis=1)\n",
    "df['pop_tarts_remain'] = df['total_pop_tarts'] < 17\n",
    "\n",
    "# get mean of calculation True/False columns\n",
    "# format and print results\n",
    "tarts = int(round(df['pop_tarts_remain'].mean(),2) * 100)\n",
    "\n",
    "print(f'The odds of being able to by a PopTart in the afternoon on friday are {tarts}%')"
   ]
  },
  {
   "cell_type": "markdown",
   "id": "valued-minneapolis",
   "metadata": {},
   "source": [
    "### 5) Men have an average height of 178 cm and standard deviation of 8cm. Women have a mean of 170, sd = 6cm. If a man and woman are chosen at random, P(woman taller than man)?"
   ]
  },
  {
   "cell_type": "code",
   "execution_count": 51,
   "id": "narrative-formation",
   "metadata": {},
   "outputs": [],
   "source": [
    "# create arrays of veriables\n",
    "male_hights = np.random.normal(178, 8, 100_000)\n",
    "female_hights = np.random.normal(170, 6, 100_000)"
   ]
  },
  {
   "cell_type": "code",
   "execution_count": 52,
   "id": "controlled-relationship",
   "metadata": {},
   "outputs": [
    {
     "data": {
      "text/plain": [
       "array([193.58735533, 184.46893071, 160.97155547, ..., 167.74911424,\n",
       "       185.91186578, 179.54740027])"
      ]
     },
     "execution_count": 52,
     "metadata": {},
     "output_type": "execute_result"
    }
   ],
   "source": [
    "male_hights"
   ]
  },
  {
   "cell_type": "code",
   "execution_count": 53,
   "id": "vertical-planner",
   "metadata": {},
   "outputs": [
    {
     "data": {
      "text/plain": [
       "array([175.89484191, 173.64983057, 170.43718969, ..., 171.48257548,\n",
       "       166.8124565 , 170.24463837])"
      ]
     },
     "execution_count": 53,
     "metadata": {},
     "output_type": "execute_result"
    }
   ],
   "source": [
    "female_hights"
   ]
  },
  {
   "cell_type": "code",
   "execution_count": 54,
   "id": "ancient-basis",
   "metadata": {},
   "outputs": [
    {
     "data": {
      "text/html": [
       "<div>\n",
       "<style scoped>\n",
       "    .dataframe tbody tr th:only-of-type {\n",
       "        vertical-align: middle;\n",
       "    }\n",
       "\n",
       "    .dataframe tbody tr th {\n",
       "        vertical-align: top;\n",
       "    }\n",
       "\n",
       "    .dataframe thead th {\n",
       "        text-align: right;\n",
       "    }\n",
       "</style>\n",
       "<table border=\"1\" class=\"dataframe\">\n",
       "  <thead>\n",
       "    <tr style=\"text-align: right;\">\n",
       "      <th></th>\n",
       "      <th>male_hights</th>\n",
       "      <th>female_hights</th>\n",
       "    </tr>\n",
       "  </thead>\n",
       "  <tbody>\n",
       "    <tr>\n",
       "      <th>0</th>\n",
       "      <td>193.587355</td>\n",
       "      <td>175.894842</td>\n",
       "    </tr>\n",
       "    <tr>\n",
       "      <th>1</th>\n",
       "      <td>184.468931</td>\n",
       "      <td>173.649831</td>\n",
       "    </tr>\n",
       "    <tr>\n",
       "      <th>2</th>\n",
       "      <td>160.971555</td>\n",
       "      <td>170.437190</td>\n",
       "    </tr>\n",
       "    <tr>\n",
       "      <th>3</th>\n",
       "      <td>174.606467</td>\n",
       "      <td>172.701569</td>\n",
       "    </tr>\n",
       "    <tr>\n",
       "      <th>4</th>\n",
       "      <td>193.457313</td>\n",
       "      <td>168.896346</td>\n",
       "    </tr>\n",
       "  </tbody>\n",
       "</table>\n",
       "</div>"
      ],
      "text/plain": [
       "   male_hights  female_hights\n",
       "0   193.587355     175.894842\n",
       "1   184.468931     173.649831\n",
       "2   160.971555     170.437190\n",
       "3   174.606467     172.701569\n",
       "4   193.457313     168.896346"
      ]
     },
     "execution_count": 54,
     "metadata": {},
     "output_type": "execute_result"
    }
   ],
   "source": [
    "# convert array to data frame\n",
    "df = pd.DataFrame({\"male_hights\" : male_hights,\n",
    "                   \"female_hights\" : female_hights})\n",
    "\n",
    "df.head()"
   ]
  },
  {
   "cell_type": "code",
   "execution_count": 55,
   "id": "mobile-investigator",
   "metadata": {},
   "outputs": [
    {
     "data": {
      "text/html": [
       "<div>\n",
       "<style scoped>\n",
       "    .dataframe tbody tr th:only-of-type {\n",
       "        vertical-align: middle;\n",
       "    }\n",
       "\n",
       "    .dataframe tbody tr th {\n",
       "        vertical-align: top;\n",
       "    }\n",
       "\n",
       "    .dataframe thead th {\n",
       "        text-align: right;\n",
       "    }\n",
       "</style>\n",
       "<table border=\"1\" class=\"dataframe\">\n",
       "  <thead>\n",
       "    <tr style=\"text-align: right;\">\n",
       "      <th></th>\n",
       "      <th>male_hights</th>\n",
       "      <th>female_hights</th>\n",
       "      <th>female_is_taller</th>\n",
       "    </tr>\n",
       "  </thead>\n",
       "  <tbody>\n",
       "    <tr>\n",
       "      <th>0</th>\n",
       "      <td>193.587355</td>\n",
       "      <td>175.894842</td>\n",
       "      <td>False</td>\n",
       "    </tr>\n",
       "    <tr>\n",
       "      <th>1</th>\n",
       "      <td>184.468931</td>\n",
       "      <td>173.649831</td>\n",
       "      <td>False</td>\n",
       "    </tr>\n",
       "    <tr>\n",
       "      <th>2</th>\n",
       "      <td>160.971555</td>\n",
       "      <td>170.437190</td>\n",
       "      <td>True</td>\n",
       "    </tr>\n",
       "    <tr>\n",
       "      <th>3</th>\n",
       "      <td>174.606467</td>\n",
       "      <td>172.701569</td>\n",
       "      <td>False</td>\n",
       "    </tr>\n",
       "    <tr>\n",
       "      <th>4</th>\n",
       "      <td>193.457313</td>\n",
       "      <td>168.896346</td>\n",
       "      <td>False</td>\n",
       "    </tr>\n",
       "  </tbody>\n",
       "</table>\n",
       "</div>"
      ],
      "text/plain": [
       "   male_hights  female_hights  female_is_taller\n",
       "0   193.587355     175.894842             False\n",
       "1   184.468931     173.649831             False\n",
       "2   160.971555     170.437190              True\n",
       "3   174.606467     172.701569             False\n",
       "4   193.457313     168.896346             False"
      ]
     },
     "execution_count": 55,
     "metadata": {},
     "output_type": "execute_result"
    }
   ],
   "source": [
    "# add calculation column\n",
    "df['female_is_taller'] = df.female_hights > df.male_hights\n",
    "df.head()"
   ]
  },
  {
   "cell_type": "code",
   "execution_count": 56,
   "id": "original-blogger",
   "metadata": {},
   "outputs": [
    {
     "data": {
      "text/plain": [
       "0.21251"
      ]
     },
     "execution_count": 56,
     "metadata": {},
     "output_type": "execute_result"
    }
   ],
   "source": [
    "# get mean of female_is_taller\n",
    "df['female_is_taller'].mean()"
   ]
  },
  {
   "cell_type": "code",
   "execution_count": 57,
   "id": "beautiful-switch",
   "metadata": {},
   "outputs": [
    {
     "name": "stdout",
     "output_type": "stream",
     "text": [
      "The probability of a woman, chosen at random, being taller than a man, chosen at random is 21%\n"
     ]
    }
   ],
   "source": [
    "# All together\n",
    "# create arrays of veriables\n",
    "male_hights = np.random.normal(178, 8, 100_000)\n",
    "female_hights = np.random.normal(170, 6, 100_000)\n",
    "\n",
    "# convert array to data frame\n",
    "df = pd.DataFrame({\"male_hights\" : male_hights,\n",
    "                   \"female_hights\" : female_hights})\n",
    "\n",
    "# add calculated column\n",
    "df['female_is_taller'] = df.female_hights > df.male_hights\n",
    "\n",
    "# get mean of female_is_taller\n",
    "df['female_is_taller'].mean()\n",
    "\n",
    "# get mean of calculation True/False columns\n",
    "# format and print results\n",
    "taller_female = int(round(df['female_is_taller'].mean(),2) * 100)\n",
    "\n",
    "print(f\"The probability of a woman, chosen at random, being taller than a man, chosen at random is {taller_female}%\")"
   ]
  },
  {
   "cell_type": "markdown",
   "id": "cultural-egyptian",
   "metadata": {},
   "source": [
    "### 6) When installing anaconda on a student's computer, there's a 1 in 250 chance that the download is corrupted and the installation fails.\n",
    "\n",
    "### a) What are the odds that after having 50 students download anaconda, no one has an installation issue? 100 students?"
   ]
  },
  {
   "cell_type": "code",
   "execution_count": 59,
   "id": "dietary-belief",
   "metadata": {},
   "outputs": [],
   "source": [
    "nrows = 100_000 # set rows to number of simulations\n",
    "ncols = 50      # set columns to number of days in each simulation"
   ]
  },
  {
   "cell_type": "code",
   "execution_count": 60,
   "id": "approximate-triangle",
   "metadata": {},
   "outputs": [
    {
     "data": {
      "text/plain": [
       "array([[False, False, False, ..., False, False, False],\n",
       "       [False, False, False, ..., False, False, False],\n",
       "       [False, False, False, ..., False, False, False],\n",
       "       ...,\n",
       "       [False, False, False, ..., False, False, False],\n",
       "       [False, False, False, ..., False, False, False],\n",
       "       [False, False, False, ..., False, False, False]])"
      ]
     },
     "execution_count": 60,
     "metadata": {},
     "output_type": "execute_result"
    }
   ],
   "source": [
    "# create array with each row representing a simulation and each column representing a student in the simulation\n",
    "\n",
    "# list with 249 falses and one true\n",
    "issue_range = [False for r in range(1,250)]\n",
    "issue_range.append(True)\n",
    "\n",
    "# create array\n",
    "installs = np.random.choice(issue_range, nrows * ncols).reshape(nrows, ncols)\n",
    "installs"
   ]
  },
  {
   "cell_type": "code",
   "execution_count": 61,
   "id": "active-irish",
   "metadata": {},
   "outputs": [
    {
     "data": {
      "text/html": [
       "<div>\n",
       "<style scoped>\n",
       "    .dataframe tbody tr th:only-of-type {\n",
       "        vertical-align: middle;\n",
       "    }\n",
       "\n",
       "    .dataframe tbody tr th {\n",
       "        vertical-align: top;\n",
       "    }\n",
       "\n",
       "    .dataframe thead th {\n",
       "        text-align: right;\n",
       "    }\n",
       "</style>\n",
       "<table border=\"1\" class=\"dataframe\">\n",
       "  <thead>\n",
       "    <tr style=\"text-align: right;\">\n",
       "      <th></th>\n",
       "      <th>0</th>\n",
       "      <th>1</th>\n",
       "      <th>2</th>\n",
       "      <th>3</th>\n",
       "      <th>4</th>\n",
       "      <th>5</th>\n",
       "      <th>6</th>\n",
       "      <th>7</th>\n",
       "      <th>8</th>\n",
       "      <th>9</th>\n",
       "      <th>...</th>\n",
       "      <th>40</th>\n",
       "      <th>41</th>\n",
       "      <th>42</th>\n",
       "      <th>43</th>\n",
       "      <th>44</th>\n",
       "      <th>45</th>\n",
       "      <th>46</th>\n",
       "      <th>47</th>\n",
       "      <th>48</th>\n",
       "      <th>49</th>\n",
       "    </tr>\n",
       "  </thead>\n",
       "  <tbody>\n",
       "    <tr>\n",
       "      <th>0</th>\n",
       "      <td>False</td>\n",
       "      <td>False</td>\n",
       "      <td>False</td>\n",
       "      <td>False</td>\n",
       "      <td>False</td>\n",
       "      <td>False</td>\n",
       "      <td>False</td>\n",
       "      <td>False</td>\n",
       "      <td>False</td>\n",
       "      <td>False</td>\n",
       "      <td>...</td>\n",
       "      <td>False</td>\n",
       "      <td>False</td>\n",
       "      <td>False</td>\n",
       "      <td>False</td>\n",
       "      <td>False</td>\n",
       "      <td>False</td>\n",
       "      <td>False</td>\n",
       "      <td>False</td>\n",
       "      <td>False</td>\n",
       "      <td>False</td>\n",
       "    </tr>\n",
       "    <tr>\n",
       "      <th>1</th>\n",
       "      <td>False</td>\n",
       "      <td>False</td>\n",
       "      <td>False</td>\n",
       "      <td>False</td>\n",
       "      <td>False</td>\n",
       "      <td>False</td>\n",
       "      <td>False</td>\n",
       "      <td>False</td>\n",
       "      <td>False</td>\n",
       "      <td>False</td>\n",
       "      <td>...</td>\n",
       "      <td>False</td>\n",
       "      <td>False</td>\n",
       "      <td>False</td>\n",
       "      <td>False</td>\n",
       "      <td>False</td>\n",
       "      <td>False</td>\n",
       "      <td>False</td>\n",
       "      <td>False</td>\n",
       "      <td>False</td>\n",
       "      <td>False</td>\n",
       "    </tr>\n",
       "    <tr>\n",
       "      <th>2</th>\n",
       "      <td>False</td>\n",
       "      <td>False</td>\n",
       "      <td>False</td>\n",
       "      <td>False</td>\n",
       "      <td>False</td>\n",
       "      <td>False</td>\n",
       "      <td>False</td>\n",
       "      <td>False</td>\n",
       "      <td>False</td>\n",
       "      <td>False</td>\n",
       "      <td>...</td>\n",
       "      <td>False</td>\n",
       "      <td>False</td>\n",
       "      <td>False</td>\n",
       "      <td>False</td>\n",
       "      <td>False</td>\n",
       "      <td>False</td>\n",
       "      <td>False</td>\n",
       "      <td>False</td>\n",
       "      <td>False</td>\n",
       "      <td>False</td>\n",
       "    </tr>\n",
       "    <tr>\n",
       "      <th>3</th>\n",
       "      <td>False</td>\n",
       "      <td>False</td>\n",
       "      <td>False</td>\n",
       "      <td>False</td>\n",
       "      <td>False</td>\n",
       "      <td>False</td>\n",
       "      <td>False</td>\n",
       "      <td>False</td>\n",
       "      <td>False</td>\n",
       "      <td>False</td>\n",
       "      <td>...</td>\n",
       "      <td>False</td>\n",
       "      <td>False</td>\n",
       "      <td>False</td>\n",
       "      <td>False</td>\n",
       "      <td>False</td>\n",
       "      <td>False</td>\n",
       "      <td>False</td>\n",
       "      <td>False</td>\n",
       "      <td>False</td>\n",
       "      <td>False</td>\n",
       "    </tr>\n",
       "    <tr>\n",
       "      <th>4</th>\n",
       "      <td>False</td>\n",
       "      <td>False</td>\n",
       "      <td>False</td>\n",
       "      <td>False</td>\n",
       "      <td>False</td>\n",
       "      <td>False</td>\n",
       "      <td>False</td>\n",
       "      <td>False</td>\n",
       "      <td>False</td>\n",
       "      <td>False</td>\n",
       "      <td>...</td>\n",
       "      <td>False</td>\n",
       "      <td>False</td>\n",
       "      <td>False</td>\n",
       "      <td>False</td>\n",
       "      <td>False</td>\n",
       "      <td>False</td>\n",
       "      <td>False</td>\n",
       "      <td>False</td>\n",
       "      <td>False</td>\n",
       "      <td>False</td>\n",
       "    </tr>\n",
       "  </tbody>\n",
       "</table>\n",
       "<p>5 rows × 50 columns</p>\n",
       "</div>"
      ],
      "text/plain": [
       "      0      1      2      3      4      5      6      7      8      9   ...  \\\n",
       "0  False  False  False  False  False  False  False  False  False  False  ...   \n",
       "1  False  False  False  False  False  False  False  False  False  False  ...   \n",
       "2  False  False  False  False  False  False  False  False  False  False  ...   \n",
       "3  False  False  False  False  False  False  False  False  False  False  ...   \n",
       "4  False  False  False  False  False  False  False  False  False  False  ...   \n",
       "\n",
       "      40     41     42     43     44     45     46     47     48     49  \n",
       "0  False  False  False  False  False  False  False  False  False  False  \n",
       "1  False  False  False  False  False  False  False  False  False  False  \n",
       "2  False  False  False  False  False  False  False  False  False  False  \n",
       "3  False  False  False  False  False  False  False  False  False  False  \n",
       "4  False  False  False  False  False  False  False  False  False  False  \n",
       "\n",
       "[5 rows x 50 columns]"
      ]
     },
     "execution_count": 61,
     "metadata": {},
     "output_type": "execute_result"
    }
   ],
   "source": [
    "# convert to data frame\n",
    "df = pd.DataFrame(installs)\n",
    "df.head()"
   ]
  },
  {
   "cell_type": "code",
   "execution_count": 62,
   "id": "immediate-registrar",
   "metadata": {},
   "outputs": [
    {
     "data": {
      "text/html": [
       "<div>\n",
       "<style scoped>\n",
       "    .dataframe tbody tr th:only-of-type {\n",
       "        vertical-align: middle;\n",
       "    }\n",
       "\n",
       "    .dataframe tbody tr th {\n",
       "        vertical-align: top;\n",
       "    }\n",
       "\n",
       "    .dataframe thead th {\n",
       "        text-align: right;\n",
       "    }\n",
       "</style>\n",
       "<table border=\"1\" class=\"dataframe\">\n",
       "  <thead>\n",
       "    <tr style=\"text-align: right;\">\n",
       "      <th></th>\n",
       "      <th>0</th>\n",
       "      <th>1</th>\n",
       "      <th>2</th>\n",
       "      <th>3</th>\n",
       "      <th>4</th>\n",
       "      <th>5</th>\n",
       "      <th>6</th>\n",
       "      <th>7</th>\n",
       "      <th>8</th>\n",
       "      <th>9</th>\n",
       "      <th>...</th>\n",
       "      <th>41</th>\n",
       "      <th>42</th>\n",
       "      <th>43</th>\n",
       "      <th>44</th>\n",
       "      <th>45</th>\n",
       "      <th>46</th>\n",
       "      <th>47</th>\n",
       "      <th>48</th>\n",
       "      <th>49</th>\n",
       "      <th>has_no_problem</th>\n",
       "    </tr>\n",
       "  </thead>\n",
       "  <tbody>\n",
       "    <tr>\n",
       "      <th>0</th>\n",
       "      <td>False</td>\n",
       "      <td>False</td>\n",
       "      <td>False</td>\n",
       "      <td>False</td>\n",
       "      <td>False</td>\n",
       "      <td>False</td>\n",
       "      <td>False</td>\n",
       "      <td>False</td>\n",
       "      <td>False</td>\n",
       "      <td>False</td>\n",
       "      <td>...</td>\n",
       "      <td>False</td>\n",
       "      <td>False</td>\n",
       "      <td>False</td>\n",
       "      <td>False</td>\n",
       "      <td>False</td>\n",
       "      <td>False</td>\n",
       "      <td>False</td>\n",
       "      <td>False</td>\n",
       "      <td>False</td>\n",
       "      <td>True</td>\n",
       "    </tr>\n",
       "    <tr>\n",
       "      <th>1</th>\n",
       "      <td>False</td>\n",
       "      <td>False</td>\n",
       "      <td>False</td>\n",
       "      <td>False</td>\n",
       "      <td>False</td>\n",
       "      <td>False</td>\n",
       "      <td>False</td>\n",
       "      <td>False</td>\n",
       "      <td>False</td>\n",
       "      <td>False</td>\n",
       "      <td>...</td>\n",
       "      <td>False</td>\n",
       "      <td>False</td>\n",
       "      <td>False</td>\n",
       "      <td>False</td>\n",
       "      <td>False</td>\n",
       "      <td>False</td>\n",
       "      <td>False</td>\n",
       "      <td>False</td>\n",
       "      <td>False</td>\n",
       "      <td>True</td>\n",
       "    </tr>\n",
       "    <tr>\n",
       "      <th>2</th>\n",
       "      <td>False</td>\n",
       "      <td>False</td>\n",
       "      <td>False</td>\n",
       "      <td>False</td>\n",
       "      <td>False</td>\n",
       "      <td>False</td>\n",
       "      <td>False</td>\n",
       "      <td>False</td>\n",
       "      <td>False</td>\n",
       "      <td>False</td>\n",
       "      <td>...</td>\n",
       "      <td>False</td>\n",
       "      <td>False</td>\n",
       "      <td>False</td>\n",
       "      <td>False</td>\n",
       "      <td>False</td>\n",
       "      <td>False</td>\n",
       "      <td>False</td>\n",
       "      <td>False</td>\n",
       "      <td>False</td>\n",
       "      <td>False</td>\n",
       "    </tr>\n",
       "    <tr>\n",
       "      <th>3</th>\n",
       "      <td>False</td>\n",
       "      <td>False</td>\n",
       "      <td>False</td>\n",
       "      <td>False</td>\n",
       "      <td>False</td>\n",
       "      <td>False</td>\n",
       "      <td>False</td>\n",
       "      <td>False</td>\n",
       "      <td>False</td>\n",
       "      <td>False</td>\n",
       "      <td>...</td>\n",
       "      <td>False</td>\n",
       "      <td>False</td>\n",
       "      <td>False</td>\n",
       "      <td>False</td>\n",
       "      <td>False</td>\n",
       "      <td>False</td>\n",
       "      <td>False</td>\n",
       "      <td>False</td>\n",
       "      <td>False</td>\n",
       "      <td>True</td>\n",
       "    </tr>\n",
       "    <tr>\n",
       "      <th>4</th>\n",
       "      <td>False</td>\n",
       "      <td>False</td>\n",
       "      <td>False</td>\n",
       "      <td>False</td>\n",
       "      <td>False</td>\n",
       "      <td>False</td>\n",
       "      <td>False</td>\n",
       "      <td>False</td>\n",
       "      <td>False</td>\n",
       "      <td>False</td>\n",
       "      <td>...</td>\n",
       "      <td>False</td>\n",
       "      <td>False</td>\n",
       "      <td>False</td>\n",
       "      <td>False</td>\n",
       "      <td>False</td>\n",
       "      <td>False</td>\n",
       "      <td>False</td>\n",
       "      <td>False</td>\n",
       "      <td>False</td>\n",
       "      <td>True</td>\n",
       "    </tr>\n",
       "  </tbody>\n",
       "</table>\n",
       "<p>5 rows × 51 columns</p>\n",
       "</div>"
      ],
      "text/plain": [
       "       0      1      2      3      4      5      6      7      8      9  ...  \\\n",
       "0  False  False  False  False  False  False  False  False  False  False  ...   \n",
       "1  False  False  False  False  False  False  False  False  False  False  ...   \n",
       "2  False  False  False  False  False  False  False  False  False  False  ...   \n",
       "3  False  False  False  False  False  False  False  False  False  False  ...   \n",
       "4  False  False  False  False  False  False  False  False  False  False  ...   \n",
       "\n",
       "      41     42     43     44     45     46     47     48     49  \\\n",
       "0  False  False  False  False  False  False  False  False  False   \n",
       "1  False  False  False  False  False  False  False  False  False   \n",
       "2  False  False  False  False  False  False  False  False  False   \n",
       "3  False  False  False  False  False  False  False  False  False   \n",
       "4  False  False  False  False  False  False  False  False  False   \n",
       "\n",
       "   has_no_problem  \n",
       "0            True  \n",
       "1            True  \n",
       "2           False  \n",
       "3            True  \n",
       "4            True  \n",
       "\n",
       "[5 rows x 51 columns]"
      ]
     },
     "execution_count": 62,
     "metadata": {},
     "output_type": "execute_result"
    }
   ],
   "source": [
    "# add calculation columnns\n",
    "df['has_no_problem'] = df.sum(axis=1) == 0\n",
    "df.head()"
   ]
  },
  {
   "cell_type": "code",
   "execution_count": 63,
   "id": "english-closing",
   "metadata": {},
   "outputs": [
    {
     "data": {
      "text/plain": [
       "0.81862"
      ]
     },
     "execution_count": 63,
     "metadata": {},
     "output_type": "execute_result"
    }
   ],
   "source": [
    "df['has_no_problem'].mean()"
   ]
  },
  {
   "cell_type": "code",
   "execution_count": 85,
   "id": "lesbian-cloud",
   "metadata": {},
   "outputs": [
    {
     "name": "stdout",
     "output_type": "stream",
     "text": [
      "The odds of 50 students dowloading Anaconda without a problem are 82%\n"
     ]
    }
   ],
   "source": [
    "# All together\n",
    "nrows = 100_000 # set rows to number of simulations\n",
    "ncols = 50      # set columns to number of students in each simulation\n",
    "\n",
    "# list with 249 falses and one true\n",
    "issue_range = [False for r in range(1,250)]\n",
    "issue_range.append(True)\n",
    "\n",
    "# create array with each row representing a simulation and each column representing a student in the simulation\n",
    "installs = np.random.choice(issue_range, nrows * ncols).reshape(nrows, ncols)\n",
    "\n",
    "# convert to data frame\n",
    "df = pd.DataFrame(installs)\n",
    "\n",
    "# add calculation columnns\n",
    "df['has_no_problem'] = df.sum(axis=1) == 0\n",
    "\n",
    "# get mean of calculation True/False columns\n",
    "# format and print results\n",
    "problems = int(round(df['has_no_problem'].mean(),2) * 100)\n",
    "\n",
    "print(f'The odds of 50 students dowloading Anaconda without a problem are {problems}%')"
   ]
  },
  {
   "cell_type": "markdown",
   "id": "stopped-myanmar",
   "metadata": {},
   "source": [
    "### b) What is the probability that we observe an installation issue within the first 150 students that download anaconda?"
   ]
  },
  {
   "cell_type": "code",
   "execution_count": 86,
   "id": "modern-syria",
   "metadata": {},
   "outputs": [
    {
     "name": "stdout",
     "output_type": "stream",
     "text": [
      "The odds of a problem occuring in the first 150 instllations is 45%\n"
     ]
    }
   ],
   "source": [
    "# All together\n",
    "nrows = 100_000 # set rows to number of simulations\n",
    "ncols = 150      # set columns to number of students in each simulation\n",
    "\n",
    "# list with 249 falses and one true\n",
    "issue_range = [False for r in range(1,250)]\n",
    "issue_range.append(True)\n",
    "\n",
    "# create array with each row representing a simulation and each column representing a student in the simulation\n",
    "installs = np.random.choice(issue_range, nrows * ncols).reshape(nrows, ncols)\n",
    "\n",
    "# convert to data frame\n",
    "df = pd.DataFrame(installs)\n",
    "\n",
    "# add calculation columnns\n",
    "df['has_a_problem'] = df.sum(axis=1) > 0\n",
    "\n",
    "# get mean of calculation True/False columns\n",
    "# format and print results\n",
    "problems = int(round(df['has_a_problem'].mean(),2) * 100)\n",
    "\n",
    "print(f'The odds of a problem occuring in the first 150 instllations is {problems}%')"
   ]
  },
  {
   "cell_type": "markdown",
   "id": "distinct-reform",
   "metadata": {},
   "source": [
    "### 5) How likely is it that 450 students all download anaconda without an issue?"
   ]
  },
  {
   "cell_type": "code",
   "execution_count": 87,
   "id": "assisted-marks",
   "metadata": {},
   "outputs": [
    {
     "name": "stdout",
     "output_type": "stream",
     "text": [
      "The odds of 450 instllations occuring without an issue is 16%\n"
     ]
    }
   ],
   "source": [
    "# All together\n",
    "nrows = 100_000 # set rows to number of simulations\n",
    "ncols = 450      # set columns to number of students in each simulation\n",
    "\n",
    "# list with 249 falses and one true\n",
    "issue_range = [False for r in range(1,250)]\n",
    "issue_range.append(True)\n",
    "\n",
    "# create array with each row representing a simulation and each column representing a student in the simulation\n",
    "installs = np.random.choice(issue_range, nrows * ncols).reshape(nrows, ncols)\n",
    "\n",
    "# convert to data frame\n",
    "df = pd.DataFrame(installs)\n",
    "\n",
    "# add calculation columnns\n",
    "df['has_no_problem'] = df.sum(axis=1) == 0\n",
    "\n",
    "# get mean of calculation True/False columns\n",
    "# format and print results\n",
    "problems = int(round(df['has_no_problem'].mean(),2) * 100)\n",
    "\n",
    "print(f'The odds of 450 instllations occuring without an issue is {problems}%')"
   ]
  },
  {
   "cell_type": "markdown",
   "id": "orange-baltimore",
   "metadata": {},
   "source": [
    "### 6) There's a 70% chance on any given day that there will be at least one food truck at Travis Park. However, you haven't seen a food truck there in 3 days. How unlikely is this?"
   ]
  },
  {
   "cell_type": "code",
   "execution_count": 88,
   "id": "controlled-senator",
   "metadata": {},
   "outputs": [],
   "source": [
    "nrows = 100_000 # set rows to number of simulations\n",
    "ncols = 3      # set columns to number of days in each simulation"
   ]
  },
  {
   "cell_type": "code",
   "execution_count": 89,
   "id": "verbal-lying",
   "metadata": {},
   "outputs": [
    {
     "data": {
      "text/plain": [
       "array([[ True,  True,  True],\n",
       "       [False,  True, False],\n",
       "       [ True, False,  True],\n",
       "       ...,\n",
       "       [False,  True,  True],\n",
       "       [ True,  True, False],\n",
       "       [ True, False,  True]])"
      ]
     },
     "execution_count": 89,
     "metadata": {},
     "output_type": "execute_result"
    }
   ],
   "source": [
    "# create array with each row representing a simulation and each column representing a student in the simulation\n",
    "sightings = np.random.choice([True, False], nrows * ncols, p=[.7,.3]).reshape(nrows, ncols)\n",
    "sightings"
   ]
  },
  {
   "cell_type": "code",
   "execution_count": 90,
   "id": "lyric-alaska",
   "metadata": {},
   "outputs": [
    {
     "data": {
      "text/html": [
       "<div>\n",
       "<style scoped>\n",
       "    .dataframe tbody tr th:only-of-type {\n",
       "        vertical-align: middle;\n",
       "    }\n",
       "\n",
       "    .dataframe tbody tr th {\n",
       "        vertical-align: top;\n",
       "    }\n",
       "\n",
       "    .dataframe thead th {\n",
       "        text-align: right;\n",
       "    }\n",
       "</style>\n",
       "<table border=\"1\" class=\"dataframe\">\n",
       "  <thead>\n",
       "    <tr style=\"text-align: right;\">\n",
       "      <th></th>\n",
       "      <th>0</th>\n",
       "      <th>1</th>\n",
       "      <th>2</th>\n",
       "    </tr>\n",
       "  </thead>\n",
       "  <tbody>\n",
       "    <tr>\n",
       "      <th>0</th>\n",
       "      <td>True</td>\n",
       "      <td>True</td>\n",
       "      <td>True</td>\n",
       "    </tr>\n",
       "    <tr>\n",
       "      <th>1</th>\n",
       "      <td>False</td>\n",
       "      <td>True</td>\n",
       "      <td>False</td>\n",
       "    </tr>\n",
       "    <tr>\n",
       "      <th>2</th>\n",
       "      <td>True</td>\n",
       "      <td>False</td>\n",
       "      <td>True</td>\n",
       "    </tr>\n",
       "    <tr>\n",
       "      <th>3</th>\n",
       "      <td>True</td>\n",
       "      <td>False</td>\n",
       "      <td>True</td>\n",
       "    </tr>\n",
       "    <tr>\n",
       "      <th>4</th>\n",
       "      <td>True</td>\n",
       "      <td>False</td>\n",
       "      <td>True</td>\n",
       "    </tr>\n",
       "  </tbody>\n",
       "</table>\n",
       "</div>"
      ],
      "text/plain": [
       "       0      1      2\n",
       "0   True   True   True\n",
       "1  False   True  False\n",
       "2   True  False   True\n",
       "3   True  False   True\n",
       "4   True  False   True"
      ]
     },
     "execution_count": 90,
     "metadata": {},
     "output_type": "execute_result"
    }
   ],
   "source": [
    "# convert to data frame\n",
    "df = pd.DataFrame(sightings)\n",
    "df.head()"
   ]
  },
  {
   "cell_type": "code",
   "execution_count": 91,
   "id": "unnecessary-wednesday",
   "metadata": {},
   "outputs": [
    {
     "data": {
      "text/html": [
       "<div>\n",
       "<style scoped>\n",
       "    .dataframe tbody tr th:only-of-type {\n",
       "        vertical-align: middle;\n",
       "    }\n",
       "\n",
       "    .dataframe tbody tr th {\n",
       "        vertical-align: top;\n",
       "    }\n",
       "\n",
       "    .dataframe thead th {\n",
       "        text-align: right;\n",
       "    }\n",
       "</style>\n",
       "<table border=\"1\" class=\"dataframe\">\n",
       "  <thead>\n",
       "    <tr style=\"text-align: right;\">\n",
       "      <th></th>\n",
       "      <th>0</th>\n",
       "      <th>1</th>\n",
       "      <th>2</th>\n",
       "      <th>times_sighted</th>\n",
       "      <th>not_sighted_three_days</th>\n",
       "    </tr>\n",
       "  </thead>\n",
       "  <tbody>\n",
       "    <tr>\n",
       "      <th>0</th>\n",
       "      <td>True</td>\n",
       "      <td>True</td>\n",
       "      <td>True</td>\n",
       "      <td>3</td>\n",
       "      <td>False</td>\n",
       "    </tr>\n",
       "    <tr>\n",
       "      <th>1</th>\n",
       "      <td>False</td>\n",
       "      <td>True</td>\n",
       "      <td>False</td>\n",
       "      <td>1</td>\n",
       "      <td>False</td>\n",
       "    </tr>\n",
       "    <tr>\n",
       "      <th>2</th>\n",
       "      <td>True</td>\n",
       "      <td>False</td>\n",
       "      <td>True</td>\n",
       "      <td>2</td>\n",
       "      <td>False</td>\n",
       "    </tr>\n",
       "    <tr>\n",
       "      <th>3</th>\n",
       "      <td>True</td>\n",
       "      <td>False</td>\n",
       "      <td>True</td>\n",
       "      <td>2</td>\n",
       "      <td>False</td>\n",
       "    </tr>\n",
       "    <tr>\n",
       "      <th>4</th>\n",
       "      <td>True</td>\n",
       "      <td>False</td>\n",
       "      <td>True</td>\n",
       "      <td>2</td>\n",
       "      <td>False</td>\n",
       "    </tr>\n",
       "  </tbody>\n",
       "</table>\n",
       "</div>"
      ],
      "text/plain": [
       "       0      1      2  times_sighted  not_sighted_three_days\n",
       "0   True   True   True              3                   False\n",
       "1  False   True  False              1                   False\n",
       "2   True  False   True              2                   False\n",
       "3   True  False   True              2                   False\n",
       "4   True  False   True              2                   False"
      ]
     },
     "execution_count": 91,
     "metadata": {},
     "output_type": "execute_result"
    }
   ],
   "source": [
    "# add calculation columnns\n",
    "df['times_sighted'] = df.sum(axis=1)\n",
    "df['not_sighted_three_days'] = df.times_sighted == 0\n",
    "df.head()"
   ]
  },
  {
   "cell_type": "code",
   "execution_count": 92,
   "id": "identified-sculpture",
   "metadata": {},
   "outputs": [
    {
     "data": {
      "text/plain": [
       "0.02739"
      ]
     },
     "execution_count": 92,
     "metadata": {},
     "output_type": "execute_result"
    }
   ],
   "source": [
    "df['not_sighted_three_days'].mean()"
   ]
  },
  {
   "cell_type": "code",
   "execution_count": 93,
   "id": "stainless-trinidad",
   "metadata": {},
   "outputs": [
    {
     "name": "stdout",
     "output_type": "stream",
     "text": [
      "The odds of not seeing a food truck in Travis Park for three days is 3%\n"
     ]
    }
   ],
   "source": [
    "# get mean of calculation True/False columns\n",
    "# format and print results\n",
    "trucks = int(round(df['not_sighted_three_days'].mean(),2) * 100)\n",
    "\n",
    "print(f'The odds of not seeing a food truck in Travis Park for three days is {trucks}%')"
   ]
  },
  {
   "cell_type": "markdown",
   "id": "bacterial-mortality",
   "metadata": {},
   "source": [
    "### 7) How likely is it that a food truck will show up sometime this week?"
   ]
  },
  {
   "cell_type": "code",
   "execution_count": 99,
   "id": "critical-wonder",
   "metadata": {},
   "outputs": [
    {
     "name": "stdout",
     "output_type": "stream",
     "text": [
      "The odds of not seeing a food truck in Travis Park for 2 days is 9%\n"
     ]
    }
   ],
   "source": [
    "# Remaining week days\n",
    "nrows = 100_000 # set rows to number of simulations\n",
    "ncols = 2      # set columns to number of students in each simulation\n",
    "\n",
    "# create array with each row representing a simulation and each column representing a student in the simulation\n",
    "sightings = np.random.choice([True, False], nrows * ncols, p=[.7,.3]).reshape(nrows, ncols)\n",
    "\n",
    "# convert to data frame\n",
    "df = pd.DataFrame(sightings)\n",
    "\n",
    "# add calculation columnns\n",
    "df['not_sighted_two_days'] = df.sum(axis=1) == 0\n",
    "\n",
    "# get mean of calculation True/False columns\n",
    "# format and print results\n",
    "trucks = int(round(df['not_sighted_two_days'].mean(),4) * 100)\n",
    "\n",
    "print(f'The odds of not seeing a food truck in Travis Park for {ncols} days is {trucks}%')"
   ]
  },
  {
   "cell_type": "markdown",
   "id": "chief-agriculture",
   "metadata": {},
   "source": [
    "### 8) If 23 people are in the same room, what are the odds that two of them share a birthday? What if it's 20 people? 40?"
   ]
  },
  {
   "cell_type": "code",
   "execution_count": 100,
   "id": "recreational-academy",
   "metadata": {},
   "outputs": [],
   "source": [
    "nrows = 100_000 # set rows to number of simulations\n",
    "ncols = 23       # set columns to number of people in each simulation"
   ]
  },
  {
   "cell_type": "code",
   "execution_count": 104,
   "id": "younger-discrimination",
   "metadata": {},
   "outputs": [
    {
     "data": {
      "text/plain": [
       "array([[273, 152, 333, ...,  50,  71, 322],\n",
       "       [119, 137,  37, ..., 279,  70,  67],\n",
       "       [359, 128, 319, ..., 227, 170,  61],\n",
       "       ...,\n",
       "       [245, 135, 157, ..., 298,  14, 115],\n",
       "       [ 75,  78, 310, ..., 255, 149, 304],\n",
       "       [248, 197,  31, ..., 333,   0, 210]])"
      ]
     },
     "execution_count": 104,
     "metadata": {},
     "output_type": "execute_result"
    }
   ],
   "source": [
    "# create array with each row representing a simulation and each column representing the birthdate of a person in the simulation\n",
    "birth_days = np.random.choice([r for r in range(366)], nrows * ncols).reshape(nrows, ncols)\n",
    "birth_days"
   ]
  },
  {
   "cell_type": "code",
   "execution_count": 105,
   "id": "temporal-formation",
   "metadata": {},
   "outputs": [
    {
     "data": {
      "text/html": [
       "<div>\n",
       "<style scoped>\n",
       "    .dataframe tbody tr th:only-of-type {\n",
       "        vertical-align: middle;\n",
       "    }\n",
       "\n",
       "    .dataframe tbody tr th {\n",
       "        vertical-align: top;\n",
       "    }\n",
       "\n",
       "    .dataframe thead th {\n",
       "        text-align: right;\n",
       "    }\n",
       "</style>\n",
       "<table border=\"1\" class=\"dataframe\">\n",
       "  <thead>\n",
       "    <tr style=\"text-align: right;\">\n",
       "      <th></th>\n",
       "      <th>0</th>\n",
       "      <th>1</th>\n",
       "      <th>2</th>\n",
       "      <th>3</th>\n",
       "      <th>4</th>\n",
       "      <th>5</th>\n",
       "      <th>6</th>\n",
       "      <th>7</th>\n",
       "      <th>8</th>\n",
       "      <th>9</th>\n",
       "      <th>...</th>\n",
       "      <th>13</th>\n",
       "      <th>14</th>\n",
       "      <th>15</th>\n",
       "      <th>16</th>\n",
       "      <th>17</th>\n",
       "      <th>18</th>\n",
       "      <th>19</th>\n",
       "      <th>20</th>\n",
       "      <th>21</th>\n",
       "      <th>22</th>\n",
       "    </tr>\n",
       "  </thead>\n",
       "  <tbody>\n",
       "    <tr>\n",
       "      <th>0</th>\n",
       "      <td>273</td>\n",
       "      <td>152</td>\n",
       "      <td>333</td>\n",
       "      <td>320</td>\n",
       "      <td>49</td>\n",
       "      <td>238</td>\n",
       "      <td>230</td>\n",
       "      <td>225</td>\n",
       "      <td>146</td>\n",
       "      <td>249</td>\n",
       "      <td>...</td>\n",
       "      <td>268</td>\n",
       "      <td>209</td>\n",
       "      <td>88</td>\n",
       "      <td>90</td>\n",
       "      <td>149</td>\n",
       "      <td>193</td>\n",
       "      <td>288</td>\n",
       "      <td>50</td>\n",
       "      <td>71</td>\n",
       "      <td>322</td>\n",
       "    </tr>\n",
       "    <tr>\n",
       "      <th>1</th>\n",
       "      <td>119</td>\n",
       "      <td>137</td>\n",
       "      <td>37</td>\n",
       "      <td>333</td>\n",
       "      <td>331</td>\n",
       "      <td>63</td>\n",
       "      <td>149</td>\n",
       "      <td>258</td>\n",
       "      <td>47</td>\n",
       "      <td>81</td>\n",
       "      <td>...</td>\n",
       "      <td>88</td>\n",
       "      <td>264</td>\n",
       "      <td>197</td>\n",
       "      <td>331</td>\n",
       "      <td>130</td>\n",
       "      <td>46</td>\n",
       "      <td>212</td>\n",
       "      <td>279</td>\n",
       "      <td>70</td>\n",
       "      <td>67</td>\n",
       "    </tr>\n",
       "    <tr>\n",
       "      <th>2</th>\n",
       "      <td>359</td>\n",
       "      <td>128</td>\n",
       "      <td>319</td>\n",
       "      <td>171</td>\n",
       "      <td>267</td>\n",
       "      <td>77</td>\n",
       "      <td>16</td>\n",
       "      <td>218</td>\n",
       "      <td>249</td>\n",
       "      <td>6</td>\n",
       "      <td>...</td>\n",
       "      <td>71</td>\n",
       "      <td>47</td>\n",
       "      <td>100</td>\n",
       "      <td>228</td>\n",
       "      <td>264</td>\n",
       "      <td>348</td>\n",
       "      <td>74</td>\n",
       "      <td>227</td>\n",
       "      <td>170</td>\n",
       "      <td>61</td>\n",
       "    </tr>\n",
       "    <tr>\n",
       "      <th>3</th>\n",
       "      <td>204</td>\n",
       "      <td>364</td>\n",
       "      <td>175</td>\n",
       "      <td>260</td>\n",
       "      <td>190</td>\n",
       "      <td>206</td>\n",
       "      <td>226</td>\n",
       "      <td>148</td>\n",
       "      <td>26</td>\n",
       "      <td>231</td>\n",
       "      <td>...</td>\n",
       "      <td>225</td>\n",
       "      <td>20</td>\n",
       "      <td>153</td>\n",
       "      <td>57</td>\n",
       "      <td>154</td>\n",
       "      <td>340</td>\n",
       "      <td>171</td>\n",
       "      <td>161</td>\n",
       "      <td>270</td>\n",
       "      <td>298</td>\n",
       "    </tr>\n",
       "    <tr>\n",
       "      <th>4</th>\n",
       "      <td>136</td>\n",
       "      <td>83</td>\n",
       "      <td>151</td>\n",
       "      <td>68</td>\n",
       "      <td>89</td>\n",
       "      <td>353</td>\n",
       "      <td>110</td>\n",
       "      <td>239</td>\n",
       "      <td>115</td>\n",
       "      <td>71</td>\n",
       "      <td>...</td>\n",
       "      <td>9</td>\n",
       "      <td>44</td>\n",
       "      <td>343</td>\n",
       "      <td>32</td>\n",
       "      <td>87</td>\n",
       "      <td>197</td>\n",
       "      <td>115</td>\n",
       "      <td>267</td>\n",
       "      <td>283</td>\n",
       "      <td>57</td>\n",
       "    </tr>\n",
       "  </tbody>\n",
       "</table>\n",
       "<p>5 rows × 23 columns</p>\n",
       "</div>"
      ],
      "text/plain": [
       "    0    1    2    3    4    5    6    7    8    9   ...   13   14   15   16  \\\n",
       "0  273  152  333  320   49  238  230  225  146  249  ...  268  209   88   90   \n",
       "1  119  137   37  333  331   63  149  258   47   81  ...   88  264  197  331   \n",
       "2  359  128  319  171  267   77   16  218  249    6  ...   71   47  100  228   \n",
       "3  204  364  175  260  190  206  226  148   26  231  ...  225   20  153   57   \n",
       "4  136   83  151   68   89  353  110  239  115   71  ...    9   44  343   32   \n",
       "\n",
       "    17   18   19   20   21   22  \n",
       "0  149  193  288   50   71  322  \n",
       "1  130   46  212  279   70   67  \n",
       "2  264  348   74  227  170   61  \n",
       "3  154  340  171  161  270  298  \n",
       "4   87  197  115  267  283   57  \n",
       "\n",
       "[5 rows x 23 columns]"
      ]
     },
     "execution_count": 105,
     "metadata": {},
     "output_type": "execute_result"
    }
   ],
   "source": [
    "# convert to data frame\n",
    "df = pd.DataFrame(birth_days)\n",
    "df.head()"
   ]
  },
  {
   "cell_type": "code",
   "execution_count": 106,
   "id": "worst-myrtle",
   "metadata": {},
   "outputs": [
    {
     "data": {
      "text/html": [
       "<div>\n",
       "<style scoped>\n",
       "    .dataframe tbody tr th:only-of-type {\n",
       "        vertical-align: middle;\n",
       "    }\n",
       "\n",
       "    .dataframe tbody tr th {\n",
       "        vertical-align: top;\n",
       "    }\n",
       "\n",
       "    .dataframe thead th {\n",
       "        text-align: right;\n",
       "    }\n",
       "</style>\n",
       "<table border=\"1\" class=\"dataframe\">\n",
       "  <thead>\n",
       "    <tr style=\"text-align: right;\">\n",
       "      <th></th>\n",
       "      <th>0</th>\n",
       "      <th>1</th>\n",
       "      <th>2</th>\n",
       "      <th>3</th>\n",
       "      <th>4</th>\n",
       "      <th>5</th>\n",
       "      <th>6</th>\n",
       "      <th>7</th>\n",
       "      <th>8</th>\n",
       "      <th>9</th>\n",
       "      <th>...</th>\n",
       "      <th>15</th>\n",
       "      <th>16</th>\n",
       "      <th>17</th>\n",
       "      <th>18</th>\n",
       "      <th>19</th>\n",
       "      <th>20</th>\n",
       "      <th>21</th>\n",
       "      <th>22</th>\n",
       "      <th>at_least_two_matching_birthdays</th>\n",
       "      <th>exactly_two_matching_birthdays</th>\n",
       "    </tr>\n",
       "  </thead>\n",
       "  <tbody>\n",
       "    <tr>\n",
       "      <th>0</th>\n",
       "      <td>273</td>\n",
       "      <td>152</td>\n",
       "      <td>333</td>\n",
       "      <td>320</td>\n",
       "      <td>49</td>\n",
       "      <td>238</td>\n",
       "      <td>230</td>\n",
       "      <td>225</td>\n",
       "      <td>146</td>\n",
       "      <td>249</td>\n",
       "      <td>...</td>\n",
       "      <td>88</td>\n",
       "      <td>90</td>\n",
       "      <td>149</td>\n",
       "      <td>193</td>\n",
       "      <td>288</td>\n",
       "      <td>50</td>\n",
       "      <td>71</td>\n",
       "      <td>322</td>\n",
       "      <td>False</td>\n",
       "      <td>False</td>\n",
       "    </tr>\n",
       "    <tr>\n",
       "      <th>1</th>\n",
       "      <td>119</td>\n",
       "      <td>137</td>\n",
       "      <td>37</td>\n",
       "      <td>333</td>\n",
       "      <td>331</td>\n",
       "      <td>63</td>\n",
       "      <td>149</td>\n",
       "      <td>258</td>\n",
       "      <td>47</td>\n",
       "      <td>81</td>\n",
       "      <td>...</td>\n",
       "      <td>197</td>\n",
       "      <td>331</td>\n",
       "      <td>130</td>\n",
       "      <td>46</td>\n",
       "      <td>212</td>\n",
       "      <td>279</td>\n",
       "      <td>70</td>\n",
       "      <td>67</td>\n",
       "      <td>True</td>\n",
       "      <td>False</td>\n",
       "    </tr>\n",
       "    <tr>\n",
       "      <th>2</th>\n",
       "      <td>359</td>\n",
       "      <td>128</td>\n",
       "      <td>319</td>\n",
       "      <td>171</td>\n",
       "      <td>267</td>\n",
       "      <td>77</td>\n",
       "      <td>16</td>\n",
       "      <td>218</td>\n",
       "      <td>249</td>\n",
       "      <td>6</td>\n",
       "      <td>...</td>\n",
       "      <td>100</td>\n",
       "      <td>228</td>\n",
       "      <td>264</td>\n",
       "      <td>348</td>\n",
       "      <td>74</td>\n",
       "      <td>227</td>\n",
       "      <td>170</td>\n",
       "      <td>61</td>\n",
       "      <td>True</td>\n",
       "      <td>False</td>\n",
       "    </tr>\n",
       "    <tr>\n",
       "      <th>3</th>\n",
       "      <td>204</td>\n",
       "      <td>364</td>\n",
       "      <td>175</td>\n",
       "      <td>260</td>\n",
       "      <td>190</td>\n",
       "      <td>206</td>\n",
       "      <td>226</td>\n",
       "      <td>148</td>\n",
       "      <td>26</td>\n",
       "      <td>231</td>\n",
       "      <td>...</td>\n",
       "      <td>153</td>\n",
       "      <td>57</td>\n",
       "      <td>154</td>\n",
       "      <td>340</td>\n",
       "      <td>171</td>\n",
       "      <td>161</td>\n",
       "      <td>270</td>\n",
       "      <td>298</td>\n",
       "      <td>False</td>\n",
       "      <td>False</td>\n",
       "    </tr>\n",
       "    <tr>\n",
       "      <th>4</th>\n",
       "      <td>136</td>\n",
       "      <td>83</td>\n",
       "      <td>151</td>\n",
       "      <td>68</td>\n",
       "      <td>89</td>\n",
       "      <td>353</td>\n",
       "      <td>110</td>\n",
       "      <td>239</td>\n",
       "      <td>115</td>\n",
       "      <td>71</td>\n",
       "      <td>...</td>\n",
       "      <td>343</td>\n",
       "      <td>32</td>\n",
       "      <td>87</td>\n",
       "      <td>197</td>\n",
       "      <td>115</td>\n",
       "      <td>267</td>\n",
       "      <td>283</td>\n",
       "      <td>57</td>\n",
       "      <td>True</td>\n",
       "      <td>False</td>\n",
       "    </tr>\n",
       "  </tbody>\n",
       "</table>\n",
       "<p>5 rows × 25 columns</p>\n",
       "</div>"
      ],
      "text/plain": [
       "     0    1    2    3    4    5    6    7    8    9  ...   15   16   17   18  \\\n",
       "0  273  152  333  320   49  238  230  225  146  249  ...   88   90  149  193   \n",
       "1  119  137   37  333  331   63  149  258   47   81  ...  197  331  130   46   \n",
       "2  359  128  319  171  267   77   16  218  249    6  ...  100  228  264  348   \n",
       "3  204  364  175  260  190  206  226  148   26  231  ...  153   57  154  340   \n",
       "4  136   83  151   68   89  353  110  239  115   71  ...  343   32   87  197   \n",
       "\n",
       "    19   20   21   22  at_least_two_matching_birthdays  \\\n",
       "0  288   50   71  322                            False   \n",
       "1  212  279   70   67                             True   \n",
       "2   74  227  170   61                             True   \n",
       "3  171  161  270  298                            False   \n",
       "4  115  267  283   57                             True   \n",
       "\n",
       "   exactly_two_matching_birthdays  \n",
       "0                           False  \n",
       "1                           False  \n",
       "2                           False  \n",
       "3                           False  \n",
       "4                           False  \n",
       "\n",
       "[5 rows x 25 columns]"
      ]
     },
     "execution_count": 106,
     "metadata": {},
     "output_type": "execute_result"
    }
   ],
   "source": [
    "# add calculation columnns\n",
    "df['at_least_two_matching_birthdays'] = df.nunique(axis=1) < ncols\n",
    "df['exactly_two_matching_birthdays'] = df.nunique(axis=1) == ncols-1\n",
    "df.head()"
   ]
  },
  {
   "cell_type": "code",
   "execution_count": 107,
   "id": "positive-memorabilia",
   "metadata": {},
   "outputs": [
    {
     "name": "stdout",
     "output_type": "stream",
     "text": [
      "The odds of a room of 23 people having at least two people that share a birthday are 51%\n",
      "The odds of a room of 23 people having exactly two people that share a birthday are 13%\n"
     ]
    }
   ],
   "source": [
    "# get mean of calculation True/False columns\n",
    "# format and print results\n",
    "at_least_two_matching_birthdays = int(round(df['at_least_two_matching_birthdays'].mean(),2) * 100)\n",
    "exactly_two_matching_birthdays = int(round(df['exactly_two_matching_birthdays'].mean(),2) * 100)\n",
    "\n",
    "print(f'The odds of a room of {ncols} people having at least two people that share a birthday are {at_least_two_matching_birthdays}%')\n",
    "print(f'The odds of a room of {ncols} people having exactly two people that share a birthday are {exactly_two_matching_birthdays}%')"
   ]
  },
  {
   "cell_type": "code",
   "execution_count": 108,
   "id": "sound-amendment",
   "metadata": {},
   "outputs": [
    {
     "name": "stdout",
     "output_type": "stream",
     "text": [
      "The odds of a room of 23 people having at least two people that share a birthday are 50%\n",
      "The odds of a room of 23 people having exactly least two people that share a birthday are 13%\n"
     ]
    }
   ],
   "source": [
    "nrows = 100_000 # set rows to number of simulations\n",
    "ncols = 23       # set columns to number of students in each simulation\n",
    "\n",
    "# create array with each row representing a simulation and each column representing a student in the simulation\n",
    "sightings = np.random.choice([r for r in range(366)], nrows * ncols).reshape(nrows, ncols)\n",
    "\n",
    "# convert to data frame\n",
    "df = pd.DataFrame(sightings)\n",
    "\n",
    "# add calculation columnns\n",
    "df['at_least_two_matching_birthdays'] = df.nunique(axis=1) < ncols\n",
    "df['exactly_two_matching_birthdays'] = df.nunique(axis=1) == ncols-1\n",
    "\n",
    "# get mean of calculation True/False columns\n",
    "# format and print results\n",
    "at_least_two_matching_birthdays = int(round(df['at_least_two_matching_birthdays'].mean(),2) * 100)\n",
    "exactly_two_matching_birthdays = int(round(df['exactly_two_matching_birthdays'].mean(),2) * 100)\n",
    "\n",
    "print(f'The odds of a room of {ncols} people having at least two people that share a birthday are {at_least_two_matching_birthdays}%')\n",
    "print(f'The odds of a room of {ncols} people having exactly least two people that share a birthday are {exactly_two_matching_birthdays}%')"
   ]
  },
  {
   "cell_type": "markdown",
   "id": "theoretical-central",
   "metadata": {},
   "source": [
    "### 20 people"
   ]
  },
  {
   "cell_type": "code",
   "execution_count": 109,
   "id": "fifth-leave",
   "metadata": {},
   "outputs": [
    {
     "name": "stdout",
     "output_type": "stream",
     "text": [
      "The odds of a room of 20 people having at least two people that share a birthday are 41%\n",
      "The odds of a room of 20 people having exactly least two people that share a birthday are 9%\n"
     ]
    }
   ],
   "source": [
    "nrows = 100_000 # set rows to number of simulations\n",
    "ncols = 20       # set columns to number of students in each simulation\n",
    "\n",
    "# create array with each row representing a simulation and each column representing a student in the simulation\n",
    "sightings = np.random.choice([r for r in range(366)], nrows * ncols).reshape(nrows, ncols)\n",
    "\n",
    "# convert to data frame\n",
    "df = pd.DataFrame(sightings)\n",
    "\n",
    "# add calculation columnns\n",
    "df['at_least_two_matching_birthdays'] = df.nunique(axis=1) < ncols\n",
    "df['exactly_two_matching_birthdays'] = df.nunique(axis=1) == ncols-1\n",
    "\n",
    "# get mean of calculation True/False columns\n",
    "# format and print results\n",
    "at_least_two_matching_birthdays = int(round(df['at_least_two_matching_birthdays'].mean(),2) * 100)\n",
    "exactly_two_matching_birthdays = int(round(df['exactly_two_matching_birthdays'].mean(),2) * 100)\n",
    "\n",
    "print(f'The odds of a room of {ncols} people having at least two people that share a birthday are {at_least_two_matching_birthdays}%')\n",
    "print(f'The odds of a room of {ncols} people having exactly least two people that share a birthday are {exactly_two_matching_birthdays}%')"
   ]
  },
  {
   "cell_type": "markdown",
   "id": "aggressive-assurance",
   "metadata": {},
   "source": [
    "### 40 people"
   ]
  },
  {
   "cell_type": "code",
   "execution_count": 110,
   "id": "severe-tyler",
   "metadata": {},
   "outputs": [
    {
     "name": "stdout",
     "output_type": "stream",
     "text": [
      "The odds of a room of 40 people having at least two people that share a birthday are 89%\n",
      "The odds of a room of 40 people having exactly two people that share a birthday are 28%\n"
     ]
    }
   ],
   "source": [
    "nrows = 100_000 # set rows to number of simulations\n",
    "ncols = 40       # set columns to number of students in each simulation\n",
    "\n",
    "# create array with each row representing a simulation and each column representing a student in the simulation\n",
    "sightings = np.random.choice([r for r in range(366)], nrows * ncols).reshape(nrows, ncols)\n",
    "\n",
    "# convert to data frame\n",
    "df = pd.DataFrame(sightings)\n",
    "\n",
    "# add calculation columnns\n",
    "df['at_least_two_matching_birthdays'] = df.nunique(axis=1) < ncols\n",
    "df['exactly_two_matching_birthdays'] = df.nunique(axis=1) == ncols-1\n",
    "\n",
    "# get mean of calculation True/False columns\n",
    "# format and print results\n",
    "at_least_two_matching_birthdays = int(round(df['at_least_two_matching_birthdays'].mean(),2) * 100)\n",
    "exactly_two_matching_birthdays = int(round(df['exactly_two_matching_birthdays'].mean(),2) * 100)\n",
    "\n",
    "print(f'The odds of a room of {ncols} people having at least two people that share a birthday are {at_least_two_matching_birthdays}%')\n",
    "print(f'The odds of a room of {ncols} people having exactly two people that share a birthday are {exactly_two_matching_birthdays}%')"
   ]
  }
 ],
 "metadata": {
  "kernelspec": {
   "display_name": "Python 3",
   "language": "python",
   "name": "python3"
  },
  "language_info": {
   "codemirror_mode": {
    "name": "ipython",
    "version": 3
   },
   "file_extension": ".py",
   "mimetype": "text/x-python",
   "name": "python",
   "nbconvert_exporter": "python",
   "pygments_lexer": "ipython3",
   "version": "3.7.4"
  }
 },
 "nbformat": 4,
 "nbformat_minor": 5
}
