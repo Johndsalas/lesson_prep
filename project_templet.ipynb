{
 "cells": [
  {
   "cell_type": "markdown",
   "id": "premier-milan",
   "metadata": {},
   "source": [
    "# Title and Goal of Project"
   ]
  },
  {
   "cell_type": "markdown",
   "id": "going-assembly",
   "metadata": {},
   "source": [
    "## Imports"
   ]
  },
  {
   "cell_type": "code",
   "execution_count": 2,
   "id": "divided-poster",
   "metadata": {},
   "outputs": [],
   "source": [
    "# imports used in project go here "
   ]
  },
  {
   "cell_type": "markdown",
   "id": "criminal-glory",
   "metadata": {},
   "source": [
    "## Acquire\n",
    "\n",
    "* How/where did you get your data?\n",
    "* When did you get your data?\n",
    "* What is the size of your data? (columns and rows)\n",
    "* What does each observation represent?\n",
    "* What does each column represent?"
   ]
  },
  {
   "cell_type": "code",
   "execution_count": 3,
   "id": "paperback-gather",
   "metadata": {},
   "outputs": [],
   "source": [
    "# Import acquired messy data from your acquire file here"
   ]
  },
  {
   "cell_type": "markdown",
   "id": "impossible-bible",
   "metadata": {},
   "source": [
    "## Prepare\n",
    "\n",
    "* List steps taken to clean your data here\n",
    "* In particular call out how you handle null values and outliers in detail\n",
    "* You must do this even if you do not do anything or do not encounter any\n",
    "* Any time you make changes to the data you must be upfront about the changes you make"
   ]
  },
  {
   "cell_type": "code",
   "execution_count": 4,
   "id": "flexible-irrigation",
   "metadata": {},
   "outputs": [],
   "source": [
    "# Import your prepare function and use it to clean your data here"
   ]
  },
  {
   "cell_type": "markdown",
   "id": "immediate-mirror",
   "metadata": {},
   "source": [
    "## Explore\n",
    "\n",
    "* Here you will explore your data then highlight 4 questions that you asked of the data and how those questions influanced your analysis\n",
    "* Remember to split your data before exploring how differint variables relate to one another\n",
    "* Each question should be stated directly \n",
    "* Each question should be supported by a vizualization\n",
    "* Each question should be answered in natural language\n",
    "* Two questions must be supported by a statistical test, but you may choose to support more than two\n",
    "* See the following example, and read the comments in the next cell"
   ]
  },
  {
   "cell_type": "code",
   "execution_count": 9,
   "id": "answering-snake",
   "metadata": {},
   "outputs": [],
   "source": [
    "# This empty code block is here to represent the countless questions, visualizations, and statistical tests \n",
    "# that did not make your final report. Data scientist often create a myriad of questions, vizualizations \n",
    "# and statistical tests that do not make it into the final notebook. This is okay and expected. Remember \n",
    "# that shotgun approches to your data such as using pair plots to look at the relationships of each feature \n",
    "# pair are a great way to explore your data, but they have no place in your final report. \n",
    "# Your final report is about showing your findings, not showing your work!"
   ]
  },
  {
   "cell_type": "markdown",
   "id": "incorrect-mailman",
   "metadata": {},
   "source": [
    "## You may use this as a templet for how to ask and answer each question:"
   ]
  },
  {
   "cell_type": "markdown",
   "id": "overhead-sleep",
   "metadata": {},
   "source": [
    "### 1) Question about the data\n",
    "* ask a question about the data for which you got a meaningful result.\n",
    "\n",
    "### 2) Vizualization of the data answering the question\n",
    "\n",
    "* vizualizations should be acompanied by take-aways telling the reader exaclty what you want them to get from the chart\n",
    "* Good take-aways often make for good chart titles. Try to use your chart title instead of bullet points.\n",
    "\n",
    "### 3) Statistical test\n",
    "* Be sure you are using the correct statistical test for the type of variables you are testing\n",
    "* be sure that you are not violating any of the asumptions for the statistical test you are choosing\n",
    "* your notebook should run and produce the results of the test you are using (This may be done through imports)\n",
    "* Include an introduction to the kind of test you are doing\n",
    "* Include the Ho and Ha for the test\n",
    "* Include the alpha you are using\n",
    "* Include the readout of the p-value for the test\n",
    "* Interpret the results of the test in natural language \n",
    "\n",
    "### 4) Answer to the question\n",
    "* Answer the question that you posed of the data by refering to the chart and statistical test (if you used one).\n",
    "* if question relates to drivers, explain why the feature in question would/wouldn't make a good driver."
   ]
  },
  {
   "cell_type": "markdown",
   "id": "iraqi-sellers",
   "metadata": {},
   "source": [
    "## Exploration Summery\n",
    "* after your explore section before you start modeling provide a summary of your findings in Explore\n",
    "* Include a summery of your take-aways from Explore including answers to the questions you asked\n",
    "* Include a summery of the features you examined and weather or not you will be going to Modeling with each feature and why\n",
    "* It is important to note which features will be going into your model so the reader knows what features you will be modeling on\n"
   ]
  },
  {
   "cell_type": "code",
   "execution_count": null,
   "id": "decimal-armor",
   "metadata": {},
   "outputs": [],
   "source": [
    "## Modeling"
   ]
  }
 ],
 "metadata": {
  "kernelspec": {
   "display_name": "Python 3",
   "language": "python",
   "name": "python3"
  },
  "language_info": {
   "codemirror_mode": {
    "name": "ipython",
    "version": 3
   },
   "file_extension": ".py",
   "mimetype": "text/x-python",
   "name": "python",
   "nbconvert_exporter": "python",
   "pygments_lexer": "ipython3",
   "version": "3.7.4"
  }
 },
 "nbformat": 4,
 "nbformat_minor": 5
}
