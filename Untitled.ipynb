{
 "cells": [
  {
   "cell_type": "code",
   "execution_count": 15,
   "id": "expressed-albany",
   "metadata": {},
   "outputs": [
    {
     "data": {
      "text/plain": [
       "[1, 6]"
      ]
     },
     "execution_count": 15,
     "metadata": {},
     "output_type": "execute_result"
    }
   ],
   "source": [
    "# Exercise 58\n",
    "# Write a function definition named first_and_last that takes in sequence and returns the first and last value of that sequence as a list\n",
    "\n",
    "li = [1,2,3,4,5,6]\n",
    "\n",
    "[li[0],li[-1]]"
   ]
  },
  {
   "cell_type": "code",
   "execution_count": 20,
   "id": "partial-spectacular",
   "metadata": {},
   "outputs": [],
   "source": [
    "def first_and_last(seq):\n",
    "    \n",
    "    return [seq[0],seq[-1]]"
   ]
  },
  {
   "cell_type": "code",
   "execution_count": 21,
   "id": "unauthorized-boutique",
   "metadata": {},
   "outputs": [
    {
     "data": {
      "text/plain": [
       "[1, 6]"
      ]
     },
     "execution_count": 21,
     "metadata": {},
     "output_type": "execute_result"
    }
   ],
   "source": [
    "first_and_last([1,2,3,4,5,6])"
   ]
  },
  {
   "cell_type": "code",
   "execution_count": 22,
   "id": "visible-german",
   "metadata": {},
   "outputs": [
    {
     "data": {
      "text/plain": [
       "['a', 'c']"
      ]
     },
     "execution_count": 22,
     "metadata": {},
     "output_type": "execute_result"
    }
   ],
   "source": [
    "first_and_last('abc')"
   ]
  },
  {
   "cell_type": "code",
   "execution_count": 23,
   "id": "czech-riverside",
   "metadata": {},
   "outputs": [
    {
     "data": {
      "text/plain": [
       "['a', 'a']"
      ]
     },
     "execution_count": 23,
     "metadata": {},
     "output_type": "execute_result"
    }
   ],
   "source": [
    "first_and_last('a')"
   ]
  },
  {
   "cell_type": "code",
   "execution_count": 25,
   "id": "modified-tyler",
   "metadata": {},
   "outputs": [],
   "source": [
    "def first_to_last(seq):\n",
    "    seq.append(seq[0])\n",
    "    seq.remove(seq[0])\n",
    "    return seq"
   ]
  },
  {
   "cell_type": "code",
   "execution_count": 27,
   "id": "established-organ",
   "metadata": {},
   "outputs": [],
   "source": [
    "tukey_paper = {\n",
    "    \"title\": \"The Future of Data Analysis\",\n",
    "    \"author\": \"John W. Tukey\",\n",
    "    \"link\": \"https://projecteuclid.org/euclid.aoms/1177704711\",\n",
    "    \"year_published\": 1962\n",
    "}\n",
    "\n",
    "thomas_paper = {\n",
    "    \"title\": \"A mathematical model of glutathione metabolism\",\n",
    "    \"author\": \"Rachel Thomas\",\n",
    "    \"link\": \"https://www.ncbi.nlm.nih.gov/pubmed/18442411\",\n",
    "    \"year_published\": 2008\n",
    "}"
   ]
  },
  {
   "cell_type": "code",
   "execution_count": 29,
   "id": "brutal-philadelphia",
   "metadata": {},
   "outputs": [
    {
     "data": {
      "text/plain": [
       "'https://projecteuclid.org/euclid.aoms/1177704711'"
      ]
     },
     "execution_count": 29,
     "metadata": {},
     "output_type": "execute_result"
    }
   ],
   "source": [
    "tukey_paper[\"link\"]"
   ]
  },
  {
   "cell_type": "code",
   "execution_count": 30,
   "id": "considerable-marine",
   "metadata": {},
   "outputs": [],
   "source": [
    "sc = {\n",
    "                    \"tax\": .08,\n",
    "                    \"items\": [\n",
    "                                {\n",
    "                                    \"title\": \"orange juice\",\n",
    "                                    \"price\": 3.99,\n",
    "                                    \"quantity\": 1\n",
    "                                },\n",
    "                                {\n",
    "                                    \"title\": \"rice\",\n",
    "                                    \"price\": 1.99,\n",
    "                                    \"quantity\": 3\n",
    "                                },\n",
    "                                {\n",
    "                                    \"title\": \"beans\",\n",
    "                                    \"price\": 0.99,\n",
    "                                    \"quantity\": 3\n",
    "                                },\n",
    "                                {\n",
    "                                    \"title\": \"chili sauce\",\n",
    "                                    \"price\": 2.99,\n",
    "                                    \"quantity\": 1\n",
    "                                },\n",
    "                                {\n",
    "                                    \"title\": \"chocolate\",\n",
    "                                    \"price\": 0.75,\n",
    "                                    \"quantity\": 9\n",
    "                                }\n",
    "                            ]\n",
    "                }"
   ]
  },
  {
   "cell_type": "code",
   "execution_count": 32,
   "id": "different-barrier",
   "metadata": {},
   "outputs": [],
   "source": [
    "gl = sc['items']"
   ]
  },
  {
   "cell_type": "code",
   "execution_count": 42,
   "id": "steady-province",
   "metadata": {},
   "outputs": [
    {
     "data": {
      "text/plain": [
       "10.71"
      ]
     },
     "execution_count": 42,
     "metadata": {},
     "output_type": "execute_result"
    }
   ],
   "source": [
    "total = 0\n",
    "\n",
    "for dic in gl:\n",
    "    total += dic['price']\n",
    "    \n",
    "total"
   ]
  },
  {
   "cell_type": "code",
   "execution_count": 40,
   "id": "local-richmond",
   "metadata": {},
   "outputs": [
    {
     "ename": "AttributeError",
     "evalue": "'list' object has no attribute 'sum'",
     "output_type": "error",
     "traceback": [
      "\u001b[0;31m---------------------------------------------------------------------------\u001b[0m",
      "\u001b[0;31mAttributeError\u001b[0m                            Traceback (most recent call last)",
      "\u001b[0;32m<ipython-input-40-dd8b63f694f5>\u001b[0m in \u001b[0;36m<module>\u001b[0;34m\u001b[0m\n\u001b[0;32m----> 1\u001b[0;31m \u001b[0mitems\u001b[0m\u001b[0;34m.\u001b[0m\u001b[0msum\u001b[0m\u001b[0;34m(\u001b[0m\u001b[0;34m)\u001b[0m\u001b[0;34m\u001b[0m\u001b[0;34m\u001b[0m\u001b[0m\n\u001b[0m",
      "\u001b[0;31mAttributeError\u001b[0m: 'list' object has no attribute 'sum'"
     ]
    }
   ],
   "source": []
  },
  {
   "cell_type": "code",
   "execution_count": null,
   "id": "greatest-flexibility",
   "metadata": {},
   "outputs": [],
   "source": []
  },
  {
   "cell_type": "code",
   "execution_count": null,
   "id": "offshore-guest",
   "metadata": {},
   "outputs": [],
   "source": []
  },
  {
   "cell_type": "code",
   "execution_count": null,
   "id": "czech-senate",
   "metadata": {},
   "outputs": [],
   "source": []
  }
 ],
 "metadata": {
  "kernelspec": {
   "display_name": "Python 3",
   "language": "python",
   "name": "python3"
  },
  "language_info": {
   "codemirror_mode": {
    "name": "ipython",
    "version": 3
   },
   "file_extension": ".py",
   "mimetype": "text/x-python",
   "name": "python",
   "nbconvert_exporter": "python",
   "pygments_lexer": "ipython3",
   "version": "3.7.4"
  }
 },
 "nbformat": 4,
 "nbformat_minor": 5
}
