{
 "cells": [
  {
   "cell_type": "code",
   "execution_count": 3,
   "id": "golden-garbage",
   "metadata": {},
   "outputs": [
    {
     "data": {
      "text/plain": [
       "-90817"
      ]
     },
     "execution_count": 3,
     "metadata": {},
     "output_type": "execute_result"
    }
   ],
   "source": [
    "li = [1,3,4,6,-45]\n",
    "\n",
    "li_cubed = []\n",
    "\n",
    "for number in li:\n",
    "    \n",
    "    li_cubed.append(number**3)\n",
    "    \n",
    "sum(li_cubed)"
   ]
  },
  {
   "cell_type": "code",
   "execution_count": 5,
   "id": "needed-sierra",
   "metadata": {},
   "outputs": [
    {
     "data": {
      "text/plain": [
       "-90817"
      ]
     },
     "execution_count": 5,
     "metadata": {},
     "output_type": "execute_result"
    }
   ],
   "source": [
    "total = 0\n",
    "\n",
    "for number in li_cubed:\n",
    "    \n",
    "    total += number\n",
    "    \n",
    "total"
   ]
  },
  {
   "cell_type": "code",
   "execution_count": 6,
   "id": "handmade-distribution",
   "metadata": {},
   "outputs": [],
   "source": [
    "def get_cubed_sum(li):\n",
    "    \n",
    "    li_cubed = []\n",
    "\n",
    "    for number in li:\n",
    "    \n",
    "        li_cubed.append(number**3)\n",
    "    \n",
    "    return sum(li_cubed)"
   ]
  },
  {
   "cell_type": "code",
   "execution_count": 7,
   "id": "metropolitan-gospel",
   "metadata": {},
   "outputs": [
    {
     "data": {
      "text/plain": [
       "100"
      ]
     },
     "execution_count": 7,
     "metadata": {},
     "output_type": "execute_result"
    }
   ],
   "source": [
    "get_cubed_sum([1,2,3,4])"
   ]
  },
  {
   "cell_type": "code",
   "execution_count": null,
   "id": "imposed-season",
   "metadata": {},
   "outputs": [],
   "source": []
  }
 ],
 "metadata": {
  "kernelspec": {
   "display_name": "Python 3",
   "language": "python",
   "name": "python3"
  },
  "language_info": {
   "codemirror_mode": {
    "name": "ipython",
    "version": 3
   },
   "file_extension": ".py",
   "mimetype": "text/x-python",
   "name": "python",
   "nbconvert_exporter": "python",
   "pygments_lexer": "ipython3",
   "version": "3.7.4"
  }
 },
 "nbformat": 4,
 "nbformat_minor": 5
}
