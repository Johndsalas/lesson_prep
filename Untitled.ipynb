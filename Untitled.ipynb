{
 "cells": [
  {
   "cell_type": "markdown",
   "id": "inside-blackberry",
   "metadata": {},
   "source": [
    "### Using the Iris Data:\n",
    "\n",
    "### Use the function defined in acquire.py to load the iris data."
   ]
  },
  {
   "cell_type": "code",
   "execution_count": null,
   "id": "medieval-gravity",
   "metadata": {},
   "outputs": [],
   "source": []
  },
  {
   "cell_type": "markdown",
   "id": "dated-notebook",
   "metadata": {},
   "source": [
    "### Drop the species_id and measurement_id columns."
   ]
  },
  {
   "cell_type": "markdown",
   "id": "exceptional-margin",
   "metadata": {},
   "source": [
    "### Rename the species_name column to just species."
   ]
  },
  {
   "cell_type": "markdown",
   "id": "disturbed-washer",
   "metadata": {},
   "source": [
    "### Create dummy variables of the species name."
   ]
  },
  {
   "cell_type": "markdown",
   "id": "atlantic-filling",
   "metadata": {},
   "source": [
    "### Create a function named prep_iris that accepts the untransformed iris data, and returns the data with the transformations above applied."
   ]
  },
  {
   "cell_type": "code",
   "execution_count": null,
   "id": "advance-judges",
   "metadata": {},
   "outputs": [],
   "source": []
  }
 ],
 "metadata": {
  "kernelspec": {
   "display_name": "Python 3",
   "language": "python",
   "name": "python3"
  },
  "language_info": {
   "codemirror_mode": {
    "name": "ipython",
    "version": 3
   },
   "file_extension": ".py",
   "mimetype": "text/x-python",
   "name": "python",
   "nbconvert_exporter": "python",
   "pygments_lexer": "ipython3",
   "version": "3.7.4"
  }
 },
 "nbformat": 4,
 "nbformat_minor": 5
}
