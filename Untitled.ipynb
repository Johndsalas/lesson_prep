{
 "cells": [
  {
   "cell_type": "code",
   "execution_count": 1,
   "id": "marked-pursuit",
   "metadata": {},
   "outputs": [],
   "source": [
    "def is_greater(x):\n",
    "    \n",
    "    return x > 1"
   ]
  },
  {
   "cell_type": "code",
   "execution_count": 3,
   "id": "capable-albert",
   "metadata": {},
   "outputs": [
    {
     "data": {
      "text/plain": [
       "False"
      ]
     },
     "execution_count": 3,
     "metadata": {},
     "output_type": "execute_result"
    }
   ],
   "source": [
    "is_greater(-7)"
   ]
  },
  {
   "cell_type": "code",
   "execution_count": null,
   "id": "boring-municipality",
   "metadata": {},
   "outputs": [],
   "source": []
  }
 ],
 "metadata": {
  "kernelspec": {
   "display_name": "Python 3",
   "language": "python",
   "name": "python3"
  },
  "language_info": {
   "codemirror_mode": {
    "name": "ipython",
    "version": 3
   },
   "file_extension": ".py",
   "mimetype": "text/x-python",
   "name": "python",
   "nbconvert_exporter": "python",
   "pygments_lexer": "ipython3",
   "version": "3.7.4"
  }
 },
 "nbformat": 4,
 "nbformat_minor": 5
}
