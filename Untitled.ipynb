{
 "cells": [
  {
   "cell_type": "code",
   "execution_count": 1,
   "id": "imposed-season",
   "metadata": {},
   "outputs": [],
   "source": [
    "def my_function(value):\n",
    "    \n",
    "    return value"
   ]
  },
  {
   "cell_type": "code",
   "execution_count": 3,
   "id": "objective-springer",
   "metadata": {},
   "outputs": [
    {
     "data": {
      "text/plain": [
       "9786785"
      ]
     },
     "execution_count": 3,
     "metadata": {},
     "output_type": "execute_result"
    }
   ],
   "source": [
    "my_function(9786785)"
   ]
  },
  {
   "cell_type": "code",
   "execution_count": 7,
   "id": "secret-component",
   "metadata": {},
   "outputs": [
    {
     "name": "stdout",
     "output_type": "stream",
     "text": [
      "Exercise 5 is correct\n"
     ]
    }
   ],
   "source": [
    "# Exercise 5\n",
    "# Given the following assigment of the list of fruits, add \"tomato\" to the end of the list. \n",
    "fruits = [\"mango\", \"banana\", \"guava\", \"kiwi\", \"strawberry\"]\n",
    "\n",
    "fruits.append('tomato')\n",
    "\n",
    "assert fruits == [\"mango\", \"banana\", \"guava\", \"kiwi\", \"strawberry\", \"tomato\"], \"Ensure the variable contains all the strings in the right order\"\n",
    "print(\"Exercise 5 is correct\")"
   ]
  },
  {
   "cell_type": "code",
   "execution_count": null,
   "id": "electronic-chick",
   "metadata": {},
   "outputs": [],
   "source": []
  }
 ],
 "metadata": {
  "kernelspec": {
   "display_name": "Python 3",
   "language": "python",
   "name": "python3"
  },
  "language_info": {
   "codemirror_mode": {
    "name": "ipython",
    "version": 3
   },
   "file_extension": ".py",
   "mimetype": "text/x-python",
   "name": "python",
   "nbconvert_exporter": "python",
   "pygments_lexer": "ipython3",
   "version": "3.7.4"
  }
 },
 "nbformat": 4,
 "nbformat_minor": 5
}
