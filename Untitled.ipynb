{
 "cells": [
  {
   "cell_type": "markdown",
   "id": "progressive-policy",
   "metadata": {},
   "source": [
    "# Copy the users and roles DataFrames from the examples above."
   ]
  },
  {
   "cell_type": "markdown",
   "id": "recreational-continent",
   "metadata": {},
   "source": [
    "# What is the result of using a right join on the DataFrames?"
   ]
  },
  {
   "cell_type": "markdown",
   "id": "editorial-conjunction",
   "metadata": {},
   "source": [
    "# What is the result of using an outer join on the DataFrames?"
   ]
  },
  {
   "cell_type": "markdown",
   "id": "developed-darwin",
   "metadata": {},
   "source": [
    "# What happens if you drop the foreign keys from the DataFrames and try to merge them?"
   ]
  },
  {
   "cell_type": "markdown",
   "id": "roman-bangladesh",
   "metadata": {},
   "source": [
    "# Load the mpg dataset from PyDataset."
   ]
  },
  {
   "cell_type": "markdown",
   "id": "classical-cotton",
   "metadata": {},
   "source": [
    "# Output and read the documentation for the mpg dataset."
   ]
  },
  {
   "cell_type": "markdown",
   "id": "intensive-unknown",
   "metadata": {},
   "source": [
    "# How many rows and columns are in the dataset?"
   ]
  },
  {
   "cell_type": "markdown",
   "id": "express-integral",
   "metadata": {},
   "source": [
    "# Check out your column names and perform any cleanup you may want on them."
   ]
  },
  {
   "cell_type": "markdown",
   "id": "frank-woman",
   "metadata": {},
   "source": [
    "# Display the summary statistics for the dataset."
   ]
  },
  {
   "cell_type": "markdown",
   "id": "brave-strap",
   "metadata": {},
   "source": [
    "# How many different manufacturers are there?"
   ]
  },
  {
   "cell_type": "markdown",
   "id": "piano-penalty",
   "metadata": {},
   "source": [
    "# How many different models are there?"
   ]
  },
  {
   "cell_type": "markdown",
   "id": "compact-albert",
   "metadata": {},
   "source": [
    "# Create a column named mileage_difference like you did in the DataFrames exercises; this column should contain the difference between highway and city mileage for each car."
   ]
  },
  {
   "cell_type": "markdown",
   "id": "arabic-permit",
   "metadata": {},
   "source": [
    "# Create a column named average_mileage like you did in the DataFrames exercises; this is the mean of the city and highway mileage."
   ]
  },
  {
   "cell_type": "markdown",
   "id": "assumed-central",
   "metadata": {},
   "source": [
    "# Create a new column on the mpg dataset named is_automatic that holds boolean values denoting whether the car has an automatic transmission."
   ]
  },
  {
   "cell_type": "markdown",
   "id": "chief-cocktail",
   "metadata": {},
   "source": [
    "# Using the mpg dataset, find out which which manufacturer has the best miles per gallon on average?"
   ]
  },
  {
   "cell_type": "markdown",
   "id": "changed-examination",
   "metadata": {},
   "source": [
    "# Do automatic or manual cars have better miles per gallon?"
   ]
  },
  {
   "cell_type": "code",
   "execution_count": null,
   "id": "chinese-house",
   "metadata": {},
   "outputs": [],
   "source": []
  }
 ],
 "metadata": {
  "kernelspec": {
   "display_name": "Python 3",
   "language": "python",
   "name": "python3"
  },
  "language_info": {
   "codemirror_mode": {
    "name": "ipython",
    "version": 3
   },
   "file_extension": ".py",
   "mimetype": "text/x-python",
   "name": "python",
   "nbconvert_exporter": "python",
   "pygments_lexer": "ipython3",
   "version": "3.7.4"
  }
 },
 "nbformat": 4,
 "nbformat_minor": 5
}
