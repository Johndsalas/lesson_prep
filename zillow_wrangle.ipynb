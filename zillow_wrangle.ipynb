{
 "cells": [
  {
   "cell_type": "markdown",
   "id": "accepting-example",
   "metadata": {},
   "source": [
    "# Acquire Zillow\n",
    "\n",
    "## For the following, iterate through the steps you would take to create functions: Write the code to do the following in a jupyter notebook, test it, convert to functions, then create the file to house those functions.\n",
    "\n",
    "## You will have a zillow.ipynb file and a helper file for each section in the pipeline.\n",
    "\n",
    "* Acquire data from mySQL using the python module to connect and query. You will want to end with a single dataframe.\n",
    "\n",
    "* Make sure to include: the logerror, all fields related to the properties that are available. You will end up using all the tables in the database.\n",
    "\n",
    "* Be sure to do the correct join (inner, outer, etc.). We do not want to eliminate properties purely because they may have a null value for airconditioningtypeid.\n",
    "\n",
    "* Only include properties with a transaction in 2017, and include only the last transaction for each property (so no duplicate property ID's), along with zestimate error and date of transaction.\n",
    "* Only include properties that include a latitude and longitude value."
   ]
  },
  {
   "cell_type": "code",
   "execution_count": 1,
   "id": "enhanced-swiss",
   "metadata": {
    "scrolled": true
   },
   "outputs": [],
   "source": [
    "import pandas as pd\n",
    "import matplotlib.pyplot as plt\n",
    "import os\n",
    "\n",
    "from env import user, host, password\n",
    "from sklearn.impute import SimpleImputer\n",
    "\n",
    "import warnings\n",
    "warnings.filterwarnings(\"ignore\")"
   ]
  },
  {
   "cell_type": "code",
   "execution_count": 2,
   "id": "binary-drove",
   "metadata": {
    "scrolled": true
   },
   "outputs": [],
   "source": [
    "def get_connection(database, user=user, host=host, password=password):\n",
    "    '''get URL with user, host, and password from env '''\n",
    "    \n",
    "    return f\"mysql+pymysql://{user}:{password}@{host}/{database}\""
   ]
  },
  {
   "cell_type": "code",
   "execution_count": 3,
   "id": "least-alignment",
   "metadata": {
    "scrolled": true
   },
   "outputs": [],
   "source": [
    "def get_sql_data(database,query):\n",
    "    ''' \n",
    "        Take in a database and query\n",
    "        check if csv exists for the queried database\n",
    "        if it does read from the csv\n",
    "        if it does not create the csv then read from the csv  \n",
    "    '''\n",
    "    \n",
    "    if os.path.isfile(f'{database}_query.csv') == False:   # check for the file\n",
    "        \n",
    "        df = pd.read_sql(query, get_connection(database))  # create df for query\n",
    "        \n",
    "        df.to_csv(f'{database}_query.csv',index = False)   # cache file\n",
    "        \n",
    "    return pd.read_csv(f'{database}_query.csv') # return contents of file"
   ]
  },
  {
   "cell_type": "code",
   "execution_count": 4,
   "id": "general-integral",
   "metadata": {
    "scrolled": true
   },
   "outputs": [],
   "source": [
    "query = '''\n",
    "\n",
    "select * \n",
    "from predictions_2017\n",
    "\n",
    "left join properties_2017 using(parcelid)\n",
    "left join airconditioningtype using(airconditioningtypeid)\n",
    "left join architecturalstyletype using(architecturalstyletypeid)\n",
    "left join buildingclasstype using(buildingclasstypeid)\n",
    "left join heatingorsystemtype using(heatingorsystemtypeid)\n",
    "left join propertylandusetype using(propertylandusetypeid)\n",
    "left join storytype using(storytypeid)\n",
    "left join typeconstructiontype using(typeconstructiontypeid)\n",
    "\n",
    "where latitude is not null\n",
    "\n",
    "and longitude is not null\n",
    "\n",
    "'''\n",
    "\n",
    "database = \"zillow\""
   ]
  },
  {
   "cell_type": "code",
   "execution_count": 5,
   "id": "sexual-diana",
   "metadata": {
    "scrolled": true
   },
   "outputs": [
    {
     "data": {
      "text/html": [
       "<div>\n",
       "<style scoped>\n",
       "    .dataframe tbody tr th:only-of-type {\n",
       "        vertical-align: middle;\n",
       "    }\n",
       "\n",
       "    .dataframe tbody tr th {\n",
       "        vertical-align: top;\n",
       "    }\n",
       "\n",
       "    .dataframe thead th {\n",
       "        text-align: right;\n",
       "    }\n",
       "</style>\n",
       "<table border=\"1\" class=\"dataframe\">\n",
       "  <thead>\n",
       "    <tr style=\"text-align: right;\">\n",
       "      <th></th>\n",
       "      <th>typeconstructiontypeid</th>\n",
       "      <th>storytypeid</th>\n",
       "      <th>propertylandusetypeid</th>\n",
       "      <th>heatingorsystemtypeid</th>\n",
       "      <th>buildingclasstypeid</th>\n",
       "      <th>architecturalstyletypeid</th>\n",
       "      <th>airconditioningtypeid</th>\n",
       "      <th>parcelid</th>\n",
       "      <th>id</th>\n",
       "      <th>logerror</th>\n",
       "      <th>...</th>\n",
       "      <th>taxdelinquencyflag</th>\n",
       "      <th>taxdelinquencyyear</th>\n",
       "      <th>censustractandblock</th>\n",
       "      <th>airconditioningdesc</th>\n",
       "      <th>architecturalstyledesc</th>\n",
       "      <th>buildingclassdesc</th>\n",
       "      <th>heatingorsystemdesc</th>\n",
       "      <th>propertylandusedesc</th>\n",
       "      <th>storydesc</th>\n",
       "      <th>typeconstructiondesc</th>\n",
       "    </tr>\n",
       "  </thead>\n",
       "  <tbody>\n",
       "    <tr>\n",
       "      <th>0</th>\n",
       "      <td>NaN</td>\n",
       "      <td>NaN</td>\n",
       "      <td>261.0</td>\n",
       "      <td>NaN</td>\n",
       "      <td>NaN</td>\n",
       "      <td>NaN</td>\n",
       "      <td>NaN</td>\n",
       "      <td>14297519</td>\n",
       "      <td>0</td>\n",
       "      <td>0.025595</td>\n",
       "      <td>...</td>\n",
       "      <td>NaN</td>\n",
       "      <td>NaN</td>\n",
       "      <td>6.059063e+13</td>\n",
       "      <td>NaN</td>\n",
       "      <td>NaN</td>\n",
       "      <td>NaN</td>\n",
       "      <td>NaN</td>\n",
       "      <td>Single Family Residential</td>\n",
       "      <td>NaN</td>\n",
       "      <td>NaN</td>\n",
       "    </tr>\n",
       "    <tr>\n",
       "      <th>1</th>\n",
       "      <td>NaN</td>\n",
       "      <td>NaN</td>\n",
       "      <td>261.0</td>\n",
       "      <td>NaN</td>\n",
       "      <td>NaN</td>\n",
       "      <td>NaN</td>\n",
       "      <td>NaN</td>\n",
       "      <td>17052889</td>\n",
       "      <td>1</td>\n",
       "      <td>0.055619</td>\n",
       "      <td>...</td>\n",
       "      <td>NaN</td>\n",
       "      <td>NaN</td>\n",
       "      <td>6.111001e+13</td>\n",
       "      <td>NaN</td>\n",
       "      <td>NaN</td>\n",
       "      <td>NaN</td>\n",
       "      <td>NaN</td>\n",
       "      <td>Single Family Residential</td>\n",
       "      <td>NaN</td>\n",
       "      <td>NaN</td>\n",
       "    </tr>\n",
       "    <tr>\n",
       "      <th>2</th>\n",
       "      <td>NaN</td>\n",
       "      <td>NaN</td>\n",
       "      <td>261.0</td>\n",
       "      <td>NaN</td>\n",
       "      <td>NaN</td>\n",
       "      <td>NaN</td>\n",
       "      <td>NaN</td>\n",
       "      <td>14186244</td>\n",
       "      <td>2</td>\n",
       "      <td>0.005383</td>\n",
       "      <td>...</td>\n",
       "      <td>NaN</td>\n",
       "      <td>NaN</td>\n",
       "      <td>6.059022e+13</td>\n",
       "      <td>NaN</td>\n",
       "      <td>NaN</td>\n",
       "      <td>NaN</td>\n",
       "      <td>NaN</td>\n",
       "      <td>Single Family Residential</td>\n",
       "      <td>NaN</td>\n",
       "      <td>NaN</td>\n",
       "    </tr>\n",
       "    <tr>\n",
       "      <th>3</th>\n",
       "      <td>NaN</td>\n",
       "      <td>NaN</td>\n",
       "      <td>261.0</td>\n",
       "      <td>2.0</td>\n",
       "      <td>NaN</td>\n",
       "      <td>NaN</td>\n",
       "      <td>NaN</td>\n",
       "      <td>12177905</td>\n",
       "      <td>3</td>\n",
       "      <td>-0.103410</td>\n",
       "      <td>...</td>\n",
       "      <td>NaN</td>\n",
       "      <td>NaN</td>\n",
       "      <td>6.037300e+13</td>\n",
       "      <td>NaN</td>\n",
       "      <td>NaN</td>\n",
       "      <td>NaN</td>\n",
       "      <td>Central</td>\n",
       "      <td>Single Family Residential</td>\n",
       "      <td>NaN</td>\n",
       "      <td>NaN</td>\n",
       "    </tr>\n",
       "    <tr>\n",
       "      <th>4</th>\n",
       "      <td>NaN</td>\n",
       "      <td>NaN</td>\n",
       "      <td>266.0</td>\n",
       "      <td>2.0</td>\n",
       "      <td>NaN</td>\n",
       "      <td>NaN</td>\n",
       "      <td>1.0</td>\n",
       "      <td>10887214</td>\n",
       "      <td>4</td>\n",
       "      <td>0.006940</td>\n",
       "      <td>...</td>\n",
       "      <td>NaN</td>\n",
       "      <td>NaN</td>\n",
       "      <td>6.037124e+13</td>\n",
       "      <td>Central</td>\n",
       "      <td>NaN</td>\n",
       "      <td>NaN</td>\n",
       "      <td>Central</td>\n",
       "      <td>Condominium</td>\n",
       "      <td>NaN</td>\n",
       "      <td>NaN</td>\n",
       "    </tr>\n",
       "  </tbody>\n",
       "</table>\n",
       "<p>5 rows × 69 columns</p>\n",
       "</div>"
      ],
      "text/plain": [
       "   typeconstructiontypeid  storytypeid  propertylandusetypeid  \\\n",
       "0                     NaN          NaN                  261.0   \n",
       "1                     NaN          NaN                  261.0   \n",
       "2                     NaN          NaN                  261.0   \n",
       "3                     NaN          NaN                  261.0   \n",
       "4                     NaN          NaN                  266.0   \n",
       "\n",
       "   heatingorsystemtypeid  buildingclasstypeid  architecturalstyletypeid  \\\n",
       "0                    NaN                  NaN                       NaN   \n",
       "1                    NaN                  NaN                       NaN   \n",
       "2                    NaN                  NaN                       NaN   \n",
       "3                    2.0                  NaN                       NaN   \n",
       "4                    2.0                  NaN                       NaN   \n",
       "\n",
       "   airconditioningtypeid  parcelid  id  logerror  ... taxdelinquencyflag  \\\n",
       "0                    NaN  14297519   0  0.025595  ...                NaN   \n",
       "1                    NaN  17052889   1  0.055619  ...                NaN   \n",
       "2                    NaN  14186244   2  0.005383  ...                NaN   \n",
       "3                    NaN  12177905   3 -0.103410  ...                NaN   \n",
       "4                    1.0  10887214   4  0.006940  ...                NaN   \n",
       "\n",
       "   taxdelinquencyyear  censustractandblock  airconditioningdesc  \\\n",
       "0                 NaN         6.059063e+13                  NaN   \n",
       "1                 NaN         6.111001e+13                  NaN   \n",
       "2                 NaN         6.059022e+13                  NaN   \n",
       "3                 NaN         6.037300e+13                  NaN   \n",
       "4                 NaN         6.037124e+13              Central   \n",
       "\n",
       "   architecturalstyledesc  buildingclassdesc  heatingorsystemdesc  \\\n",
       "0                     NaN                NaN                  NaN   \n",
       "1                     NaN                NaN                  NaN   \n",
       "2                     NaN                NaN                  NaN   \n",
       "3                     NaN                NaN              Central   \n",
       "4                     NaN                NaN              Central   \n",
       "\n",
       "         propertylandusedesc  storydesc  typeconstructiondesc  \n",
       "0  Single Family Residential        NaN                   NaN  \n",
       "1  Single Family Residential        NaN                   NaN  \n",
       "2  Single Family Residential        NaN                   NaN  \n",
       "3  Single Family Residential        NaN                   NaN  \n",
       "4                Condominium        NaN                   NaN  \n",
       "\n",
       "[5 rows x 69 columns]"
      ]
     },
     "execution_count": 5,
     "metadata": {},
     "output_type": "execute_result"
    }
   ],
   "source": [
    "df = get_sql_data(database,query)\n",
    "df.head()"
   ]
  },
  {
   "cell_type": "code",
   "execution_count": 6,
   "id": "generic-efficiency",
   "metadata": {
    "scrolled": true
   },
   "outputs": [
    {
     "data": {
      "text/plain": [
       "(77580, 69)"
      ]
     },
     "execution_count": 6,
     "metadata": {},
     "output_type": "execute_result"
    }
   ],
   "source": [
    "df.shape"
   ]
  },
  {
   "cell_type": "code",
   "execution_count": 7,
   "id": "severe-creativity",
   "metadata": {
    "scrolled": true
   },
   "outputs": [],
   "source": [
    "# drop duplicate parcelid keeping the latest one by transaction date\n",
    "df = df.sort_values('transactiondate').drop_duplicates('parcelid',keep='last')"
   ]
  },
  {
   "cell_type": "code",
   "execution_count": 8,
   "id": "funded-mozambique",
   "metadata": {
    "scrolled": true
   },
   "outputs": [
    {
     "data": {
      "text/plain": [
       "(77381, 69)"
      ]
     },
     "execution_count": 8,
     "metadata": {},
     "output_type": "execute_result"
    }
   ],
   "source": [
    "df.shape"
   ]
  },
  {
   "cell_type": "code",
   "execution_count": 9,
   "id": "natural-edition",
   "metadata": {
    "scrolled": true
   },
   "outputs": [
    {
     "data": {
      "text/plain": [
       "11933699    1\n",
       "11881987    1\n",
       "13063680    1\n",
       "11709951    1\n",
       "11445758    1\n",
       "           ..\n",
       "10975930    1\n",
       "11625145    1\n",
       "11365048    1\n",
       "11082422    1\n",
       "12853244    1\n",
       "Name: parcelid, Length: 77381, dtype: int64"
      ]
     },
     "execution_count": 9,
     "metadata": {},
     "output_type": "execute_result"
    }
   ],
   "source": [
    "df.parcelid.value_counts()"
   ]
  },
  {
   "cell_type": "markdown",
   "id": "pressing-knowing",
   "metadata": {},
   "source": [
    "# Summarize your data (summary stats, info, dtypes, shape, distributions, value_counts, etc.)"
   ]
  },
  {
   "cell_type": "code",
   "execution_count": 10,
   "id": "eastern-market",
   "metadata": {},
   "outputs": [
    {
     "data": {
      "text/plain": [
       "(77381, 69)"
      ]
     },
     "execution_count": 10,
     "metadata": {},
     "output_type": "execute_result"
    }
   ],
   "source": [
    "df.shape"
   ]
  },
  {
   "cell_type": "code",
   "execution_count": 11,
   "id": "latest-running",
   "metadata": {
    "scrolled": false
   },
   "outputs": [
    {
     "name": "stdout",
     "output_type": "stream",
     "text": [
      "<class 'pandas.core.frame.DataFrame'>\n",
      "Int64Index: 77381 entries, 0 to 77579\n",
      "Data columns (total 69 columns):\n",
      " #   Column                        Non-Null Count  Dtype  \n",
      "---  ------                        --------------  -----  \n",
      " 0   typeconstructiontypeid        222 non-null    float64\n",
      " 1   storytypeid                   50 non-null     float64\n",
      " 2   propertylandusetypeid         77381 non-null  float64\n",
      " 3   heatingorsystemtypeid         49440 non-null  float64\n",
      " 4   buildingclasstypeid           15 non-null     float64\n",
      " 5   architecturalstyletypeid      206 non-null    float64\n",
      " 6   airconditioningtypeid         24953 non-null  float64\n",
      " 7   parcelid                      77381 non-null  int64  \n",
      " 8   id                            77381 non-null  int64  \n",
      " 9   logerror                      77381 non-null  float64\n",
      " 10  transactiondate               77381 non-null  object \n",
      " 11  id.1                          77381 non-null  int64  \n",
      " 12  basementsqft                  50 non-null     float64\n",
      " 13  bathroomcnt                   77381 non-null  float64\n",
      " 14  bedroomcnt                    77381 non-null  float64\n",
      " 15  buildingqualitytypeid         49672 non-null  float64\n",
      " 16  calculatedbathnbr             76772 non-null  float64\n",
      " 17  decktypeid                    614 non-null    float64\n",
      " 18  finishedfloor1squarefeet      6023 non-null   float64\n",
      " 19  calculatedfinishedsquarefeet  77185 non-null  float64\n",
      " 20  finishedsquarefeet12          73749 non-null  float64\n",
      " 21  finishedsquarefeet13          41 non-null     float64\n",
      " 22  finishedsquarefeet15          3009 non-null   float64\n",
      " 23  finishedsquarefeet50          6023 non-null   float64\n",
      " 24  finishedsquarefeet6           386 non-null    float64\n",
      " 25  fips                          77381 non-null  float64\n",
      " 26  fireplacecnt                  8276 non-null   float64\n",
      " 27  fullbathcnt                   76772 non-null  float64\n",
      " 28  garagecarcnt                  25474 non-null  float64\n",
      " 29  garagetotalsqft               25474 non-null  float64\n",
      " 30  hashottuborspa                1538 non-null   float64\n",
      " 31  latitude                      77381 non-null  float64\n",
      " 32  longitude                     77381 non-null  float64\n",
      " 33  lotsizesquarefeet             69142 non-null  float64\n",
      " 34  poolcnt                       16137 non-null  float64\n",
      " 35  poolsizesum                   867 non-null    float64\n",
      " 36  pooltypeid10                  464 non-null    float64\n",
      " 37  pooltypeid2                   1074 non-null   float64\n",
      " 38  pooltypeid7                   15042 non-null  float64\n",
      " 39  propertycountylandusecode     77381 non-null  object \n",
      " 40  propertyzoningdesc            50331 non-null  object \n",
      " 41  rawcensustractandblock        77381 non-null  float64\n",
      " 42  regionidcity                  75910 non-null  float64\n",
      " 43  regionidcounty                77381 non-null  float64\n",
      " 44  regionidneighborhood          30890 non-null  float64\n",
      " 45  regionidzip                   77331 non-null  float64\n",
      " 46  roomcnt                       77381 non-null  float64\n",
      " 47  threequarterbathnbr           10096 non-null  float64\n",
      " 48  unitcnt                       50563 non-null  float64\n",
      " 49  yardbuildingsqft17            2388 non-null   float64\n",
      " 50  yardbuildingsqft26            70 non-null     float64\n",
      " 51  yearbuilt                     77118 non-null  float64\n",
      " 52  numberofstories               17560 non-null  float64\n",
      " 53  fireplaceflag                 172 non-null    float64\n",
      " 54  structuretaxvaluedollarcnt    77269 non-null  float64\n",
      " 55  taxvaluedollarcnt             77380 non-null  float64\n",
      " 56  assessmentyear                77381 non-null  float64\n",
      " 57  landtaxvaluedollarcnt         77379 non-null  float64\n",
      " 58  taxamount                     77376 non-null  float64\n",
      " 59  taxdelinquencyflag            2886 non-null   object \n",
      " 60  taxdelinquencyyear            2886 non-null   float64\n",
      " 61  censustractandblock           77137 non-null  float64\n",
      " 62  airconditioningdesc           24953 non-null  object \n",
      " 63  architecturalstyledesc        206 non-null    object \n",
      " 64  buildingclassdesc             15 non-null     object \n",
      " 65  heatingorsystemdesc           49440 non-null  object \n",
      " 66  propertylandusedesc           77381 non-null  object \n",
      " 67  storydesc                     50 non-null     object \n",
      " 68  typeconstructiondesc          222 non-null    object \n",
      "dtypes: float64(55), int64(3), object(11)\n",
      "memory usage: 41.3+ MB\n"
     ]
    }
   ],
   "source": [
    "df.info()"
   ]
  },
  {
   "cell_type": "code",
   "execution_count": 12,
   "id": "comparable-player",
   "metadata": {
    "scrolled": true
   },
   "outputs": [
    {
     "data": {
      "text/html": [
       "<div>\n",
       "<style scoped>\n",
       "    .dataframe tbody tr th:only-of-type {\n",
       "        vertical-align: middle;\n",
       "    }\n",
       "\n",
       "    .dataframe tbody tr th {\n",
       "        vertical-align: top;\n",
       "    }\n",
       "\n",
       "    .dataframe thead th {\n",
       "        text-align: right;\n",
       "    }\n",
       "</style>\n",
       "<table border=\"1\" class=\"dataframe\">\n",
       "  <thead>\n",
       "    <tr style=\"text-align: right;\">\n",
       "      <th></th>\n",
       "      <th>typeconstructiontypeid</th>\n",
       "      <th>storytypeid</th>\n",
       "      <th>propertylandusetypeid</th>\n",
       "      <th>heatingorsystemtypeid</th>\n",
       "      <th>buildingclasstypeid</th>\n",
       "      <th>architecturalstyletypeid</th>\n",
       "      <th>airconditioningtypeid</th>\n",
       "      <th>parcelid</th>\n",
       "      <th>id</th>\n",
       "      <th>logerror</th>\n",
       "      <th>...</th>\n",
       "      <th>yearbuilt</th>\n",
       "      <th>numberofstories</th>\n",
       "      <th>fireplaceflag</th>\n",
       "      <th>structuretaxvaluedollarcnt</th>\n",
       "      <th>taxvaluedollarcnt</th>\n",
       "      <th>assessmentyear</th>\n",
       "      <th>landtaxvaluedollarcnt</th>\n",
       "      <th>taxamount</th>\n",
       "      <th>taxdelinquencyyear</th>\n",
       "      <th>censustractandblock</th>\n",
       "    </tr>\n",
       "  </thead>\n",
       "  <tbody>\n",
       "    <tr>\n",
       "      <th>count</th>\n",
       "      <td>222.000000</td>\n",
       "      <td>50.0</td>\n",
       "      <td>77381.000000</td>\n",
       "      <td>49440.000000</td>\n",
       "      <td>15.000000</td>\n",
       "      <td>206.000000</td>\n",
       "      <td>24953.000000</td>\n",
       "      <td>7.738100e+04</td>\n",
       "      <td>77381.000000</td>\n",
       "      <td>77381.000000</td>\n",
       "      <td>...</td>\n",
       "      <td>77118.000000</td>\n",
       "      <td>17560.000000</td>\n",
       "      <td>172.0</td>\n",
       "      <td>7.726900e+04</td>\n",
       "      <td>7.738000e+04</td>\n",
       "      <td>77381.0</td>\n",
       "      <td>7.737900e+04</td>\n",
       "      <td>77376.000000</td>\n",
       "      <td>2886.000000</td>\n",
       "      <td>7.713700e+04</td>\n",
       "    </tr>\n",
       "    <tr>\n",
       "      <th>mean</th>\n",
       "      <td>6.040541</td>\n",
       "      <td>7.0</td>\n",
       "      <td>261.826340</td>\n",
       "      <td>3.920510</td>\n",
       "      <td>3.933333</td>\n",
       "      <td>7.388350</td>\n",
       "      <td>1.813289</td>\n",
       "      <td>1.300715e+07</td>\n",
       "      <td>38848.692754</td>\n",
       "      <td>0.016625</td>\n",
       "      <td>...</td>\n",
       "      <td>1968.635831</td>\n",
       "      <td>1.434738</td>\n",
       "      <td>1.0</td>\n",
       "      <td>1.893145e+05</td>\n",
       "      <td>4.901345e+05</td>\n",
       "      <td>2016.0</td>\n",
       "      <td>3.010954e+05</td>\n",
       "      <td>5995.532346</td>\n",
       "      <td>14.087318</td>\n",
       "      <td>6.049673e+13</td>\n",
       "    </tr>\n",
       "    <tr>\n",
       "      <th>std</th>\n",
       "      <td>0.557285</td>\n",
       "      <td>0.0</td>\n",
       "      <td>5.141199</td>\n",
       "      <td>3.592779</td>\n",
       "      <td>0.258199</td>\n",
       "      <td>2.734542</td>\n",
       "      <td>2.967894</td>\n",
       "      <td>3.481346e+06</td>\n",
       "      <td>22402.429065</td>\n",
       "      <td>0.170191</td>\n",
       "      <td>...</td>\n",
       "      <td>23.786032</td>\n",
       "      <td>0.544569</td>\n",
       "      <td>0.0</td>\n",
       "      <td>2.300874e+05</td>\n",
       "      <td>6.534440e+05</td>\n",
       "      <td>0.0</td>\n",
       "      <td>4.925960e+05</td>\n",
       "      <td>7622.844153</td>\n",
       "      <td>2.185663</td>\n",
       "      <td>1.535242e+12</td>\n",
       "    </tr>\n",
       "    <tr>\n",
       "      <th>min</th>\n",
       "      <td>4.000000</td>\n",
       "      <td>7.0</td>\n",
       "      <td>31.000000</td>\n",
       "      <td>1.000000</td>\n",
       "      <td>3.000000</td>\n",
       "      <td>2.000000</td>\n",
       "      <td>1.000000</td>\n",
       "      <td>1.071186e+07</td>\n",
       "      <td>0.000000</td>\n",
       "      <td>-4.655420</td>\n",
       "      <td>...</td>\n",
       "      <td>1824.000000</td>\n",
       "      <td>1.000000</td>\n",
       "      <td>1.0</td>\n",
       "      <td>4.400000e+01</td>\n",
       "      <td>1.000000e+03</td>\n",
       "      <td>2016.0</td>\n",
       "      <td>1.610000e+02</td>\n",
       "      <td>19.920000</td>\n",
       "      <td>3.000000</td>\n",
       "      <td>6.037101e+13</td>\n",
       "    </tr>\n",
       "    <tr>\n",
       "      <th>25%</th>\n",
       "      <td>6.000000</td>\n",
       "      <td>7.0</td>\n",
       "      <td>261.000000</td>\n",
       "      <td>2.000000</td>\n",
       "      <td>4.000000</td>\n",
       "      <td>7.000000</td>\n",
       "      <td>1.000000</td>\n",
       "      <td>1.153830e+07</td>\n",
       "      <td>19461.000000</td>\n",
       "      <td>-0.024377</td>\n",
       "      <td>...</td>\n",
       "      <td>1953.000000</td>\n",
       "      <td>1.000000</td>\n",
       "      <td>1.0</td>\n",
       "      <td>8.426500e+04</td>\n",
       "      <td>2.070000e+05</td>\n",
       "      <td>2016.0</td>\n",
       "      <td>8.550400e+04</td>\n",
       "      <td>2715.632500</td>\n",
       "      <td>14.000000</td>\n",
       "      <td>6.037311e+13</td>\n",
       "    </tr>\n",
       "    <tr>\n",
       "      <th>50%</th>\n",
       "      <td>6.000000</td>\n",
       "      <td>7.0</td>\n",
       "      <td>261.000000</td>\n",
       "      <td>2.000000</td>\n",
       "      <td>4.000000</td>\n",
       "      <td>7.000000</td>\n",
       "      <td>1.000000</td>\n",
       "      <td>1.253157e+07</td>\n",
       "      <td>38870.000000</td>\n",
       "      <td>0.006627</td>\n",
       "      <td>...</td>\n",
       "      <td>1970.000000</td>\n",
       "      <td>1.000000</td>\n",
       "      <td>1.0</td>\n",
       "      <td>1.364990e+05</td>\n",
       "      <td>3.589755e+05</td>\n",
       "      <td>2016.0</td>\n",
       "      <td>2.033720e+05</td>\n",
       "      <td>4450.695000</td>\n",
       "      <td>15.000000</td>\n",
       "      <td>6.037603e+13</td>\n",
       "    </tr>\n",
       "    <tr>\n",
       "      <th>75%</th>\n",
       "      <td>6.000000</td>\n",
       "      <td>7.0</td>\n",
       "      <td>266.000000</td>\n",
       "      <td>7.000000</td>\n",
       "      <td>4.000000</td>\n",
       "      <td>7.000000</td>\n",
       "      <td>1.000000</td>\n",
       "      <td>1.421183e+07</td>\n",
       "      <td>58253.000000</td>\n",
       "      <td>0.039203</td>\n",
       "      <td>...</td>\n",
       "      <td>1987.000000</td>\n",
       "      <td>2.000000</td>\n",
       "      <td>1.0</td>\n",
       "      <td>2.187870e+05</td>\n",
       "      <td>5.690015e+05</td>\n",
       "      <td>2016.0</td>\n",
       "      <td>3.667965e+05</td>\n",
       "      <td>6927.790000</td>\n",
       "      <td>15.000000</td>\n",
       "      <td>6.059042e+13</td>\n",
       "    </tr>\n",
       "    <tr>\n",
       "      <th>max</th>\n",
       "      <td>13.000000</td>\n",
       "      <td>7.0</td>\n",
       "      <td>275.000000</td>\n",
       "      <td>24.000000</td>\n",
       "      <td>4.000000</td>\n",
       "      <td>21.000000</td>\n",
       "      <td>13.000000</td>\n",
       "      <td>1.676893e+08</td>\n",
       "      <td>77613.000000</td>\n",
       "      <td>5.262999</td>\n",
       "      <td>...</td>\n",
       "      <td>2016.000000</td>\n",
       "      <td>6.000000</td>\n",
       "      <td>1.0</td>\n",
       "      <td>1.142179e+07</td>\n",
       "      <td>4.906124e+07</td>\n",
       "      <td>2016.0</td>\n",
       "      <td>4.895220e+07</td>\n",
       "      <td>586639.300000</td>\n",
       "      <td>99.000000</td>\n",
       "      <td>4.830301e+14</td>\n",
       "    </tr>\n",
       "  </tbody>\n",
       "</table>\n",
       "<p>8 rows × 58 columns</p>\n",
       "</div>"
      ],
      "text/plain": [
       "       typeconstructiontypeid  storytypeid  propertylandusetypeid  \\\n",
       "count              222.000000         50.0           77381.000000   \n",
       "mean                 6.040541          7.0             261.826340   \n",
       "std                  0.557285          0.0               5.141199   \n",
       "min                  4.000000          7.0              31.000000   \n",
       "25%                  6.000000          7.0             261.000000   \n",
       "50%                  6.000000          7.0             261.000000   \n",
       "75%                  6.000000          7.0             266.000000   \n",
       "max                 13.000000          7.0             275.000000   \n",
       "\n",
       "       heatingorsystemtypeid  buildingclasstypeid  architecturalstyletypeid  \\\n",
       "count           49440.000000            15.000000                206.000000   \n",
       "mean                3.920510             3.933333                  7.388350   \n",
       "std                 3.592779             0.258199                  2.734542   \n",
       "min                 1.000000             3.000000                  2.000000   \n",
       "25%                 2.000000             4.000000                  7.000000   \n",
       "50%                 2.000000             4.000000                  7.000000   \n",
       "75%                 7.000000             4.000000                  7.000000   \n",
       "max                24.000000             4.000000                 21.000000   \n",
       "\n",
       "       airconditioningtypeid      parcelid            id      logerror  ...  \\\n",
       "count           24953.000000  7.738100e+04  77381.000000  77381.000000  ...   \n",
       "mean                1.813289  1.300715e+07  38848.692754      0.016625  ...   \n",
       "std                 2.967894  3.481346e+06  22402.429065      0.170191  ...   \n",
       "min                 1.000000  1.071186e+07      0.000000     -4.655420  ...   \n",
       "25%                 1.000000  1.153830e+07  19461.000000     -0.024377  ...   \n",
       "50%                 1.000000  1.253157e+07  38870.000000      0.006627  ...   \n",
       "75%                 1.000000  1.421183e+07  58253.000000      0.039203  ...   \n",
       "max                13.000000  1.676893e+08  77613.000000      5.262999  ...   \n",
       "\n",
       "          yearbuilt  numberofstories  fireplaceflag  \\\n",
       "count  77118.000000     17560.000000          172.0   \n",
       "mean    1968.635831         1.434738            1.0   \n",
       "std       23.786032         0.544569            0.0   \n",
       "min     1824.000000         1.000000            1.0   \n",
       "25%     1953.000000         1.000000            1.0   \n",
       "50%     1970.000000         1.000000            1.0   \n",
       "75%     1987.000000         2.000000            1.0   \n",
       "max     2016.000000         6.000000            1.0   \n",
       "\n",
       "       structuretaxvaluedollarcnt  taxvaluedollarcnt  assessmentyear  \\\n",
       "count                7.726900e+04       7.738000e+04         77381.0   \n",
       "mean                 1.893145e+05       4.901345e+05          2016.0   \n",
       "std                  2.300874e+05       6.534440e+05             0.0   \n",
       "min                  4.400000e+01       1.000000e+03          2016.0   \n",
       "25%                  8.426500e+04       2.070000e+05          2016.0   \n",
       "50%                  1.364990e+05       3.589755e+05          2016.0   \n",
       "75%                  2.187870e+05       5.690015e+05          2016.0   \n",
       "max                  1.142179e+07       4.906124e+07          2016.0   \n",
       "\n",
       "       landtaxvaluedollarcnt      taxamount  taxdelinquencyyear  \\\n",
       "count           7.737900e+04   77376.000000         2886.000000   \n",
       "mean            3.010954e+05    5995.532346           14.087318   \n",
       "std             4.925960e+05    7622.844153            2.185663   \n",
       "min             1.610000e+02      19.920000            3.000000   \n",
       "25%             8.550400e+04    2715.632500           14.000000   \n",
       "50%             2.033720e+05    4450.695000           15.000000   \n",
       "75%             3.667965e+05    6927.790000           15.000000   \n",
       "max             4.895220e+07  586639.300000           99.000000   \n",
       "\n",
       "       censustractandblock  \n",
       "count         7.713700e+04  \n",
       "mean          6.049673e+13  \n",
       "std           1.535242e+12  \n",
       "min           6.037101e+13  \n",
       "25%           6.037311e+13  \n",
       "50%           6.037603e+13  \n",
       "75%           6.059042e+13  \n",
       "max           4.830301e+14  \n",
       "\n",
       "[8 rows x 58 columns]"
      ]
     },
     "execution_count": 12,
     "metadata": {},
     "output_type": "execute_result"
    }
   ],
   "source": [
    "df.describe()"
   ]
  },
  {
   "cell_type": "code",
   "execution_count": 13,
   "id": "foster-meaning",
   "metadata": {
    "scrolled": false
   },
   "outputs": [
    {
     "name": "stdout",
     "output_type": "stream",
     "text": [
      "transactiondate\n",
      "2017-06-30    1189\n",
      "2017-04-28     911\n",
      "2017-05-31     867\n",
      "2017-07-28     814\n",
      "2017-08-31     781\n",
      "              ... \n",
      "2017-06-03       1\n",
      "2017-03-12       1\n",
      "2017-09-25       1\n",
      "2017-02-18       1\n",
      "2017-07-09       1\n",
      "Name: transactiondate, Length: 265, dtype: int64\n",
      "\n",
      "propertycountylandusecode\n",
      "0100    26714\n",
      "122     13045\n",
      "010C     8813\n",
      "0101     6399\n",
      "34       4922\n",
      "        ...  \n",
      "020M        1\n",
      "1432        1\n",
      "040B        1\n",
      "010L        1\n",
      "040G        1\n",
      "Name: propertycountylandusecode, Length: 75, dtype: int64\n",
      "\n",
      "propertyzoningdesc\n",
      "LAR1          6747\n",
      "LAR3          2437\n",
      "LARS          1389\n",
      "LBR1N         1222\n",
      "LARD1.5       1127\n",
      "              ... \n",
      "PDR 1 1000       1\n",
      "WHP*             1\n",
      "WD4*             1\n",
      "LNC3*            1\n",
      "LCR2000020       1\n",
      "Name: propertyzoningdesc, Length: 1907, dtype: int64\n",
      "\n",
      "taxdelinquencyflag\n",
      "Y    2886\n",
      "Name: taxdelinquencyflag, dtype: int64\n",
      "\n",
      "airconditioningdesc\n",
      "Central          23133\n",
      "Yes               1574\n",
      "None               167\n",
      "Wall Unit           53\n",
      "Refrigeration       26\n",
      "Name: airconditioningdesc, dtype: int64\n",
      "\n",
      "architecturalstyledesc\n",
      "Contemporary     172\n",
      "Conventional      19\n",
      "Ranch/Rambler      7\n",
      "Bungalow           5\n",
      "Cape Cod           3\n",
      "Name: architecturalstyledesc, dtype: int64\n",
      "\n",
      "buildingclassdesc\n",
      "Buildings having wood or wood and steel frames                                                                                                                                                                                             14\n",
      "Buildings having exterior walls built of a non-combustible material such as brick, concrete, block or poured concrete. Interior partitions and roof structures are built of combustible materials. Floor may be concrete or wood frame.     1\n",
      "Name: buildingclassdesc, dtype: int64\n",
      "\n",
      "heatingorsystemdesc\n",
      "Central       33550\n",
      "Floor/Wall    14065\n",
      "Yes             846\n",
      "Forced air      776\n",
      "Solar           104\n",
      "None             59\n",
      "Radiant          23\n",
      "Baseboard        13\n",
      "Gravity           3\n",
      "Heat Pump         1\n",
      "Name: heatingorsystemdesc, dtype: int64\n",
      "\n",
      "propertylandusedesc\n",
      "Single Family Residential                     52320\n",
      "Condominium                                   19294\n",
      "Duplex (2 Units, Any Combination)              2009\n",
      "Planned Unit Development                       1944\n",
      "Quadruplex (4 Units, Any Combination)           727\n",
      "Triplex (3 Units, Any Combination)              535\n",
      "Cluster Home                                    333\n",
      "Mobile Home                                      74\n",
      "Manufactured, Modular, Prefabricated Homes       58\n",
      "Residential General                              37\n",
      "Cooperative                                      29\n",
      "Commercial/Office/Residential Mixed Used         15\n",
      "Townhouse                                         6\n",
      "Name: propertylandusedesc, dtype: int64\n",
      "\n",
      "storydesc\n",
      "Basement    50\n",
      "Name: storydesc, dtype: int64\n",
      "\n",
      "typeconstructiondesc\n",
      "Frame       219\n",
      "Metal         1\n",
      "Masonry       1\n",
      "Concrete      1\n",
      "Name: typeconstructiondesc, dtype: int64\n",
      "\n"
     ]
    }
   ],
   "source": [
    "# get value counts for discrete variables\n",
    "\n",
    "desc_cols = [col for col in df.columns if (df[col].dtype == \"object\")]\n",
    "\n",
    "\n",
    "for col in desc_cols:\n",
    "    \n",
    "    print(col)\n",
    "    print(df[col].value_counts())\n",
    "    print()"
   ]
  },
  {
   "cell_type": "code",
   "execution_count": 14,
   "id": "ambient-source",
   "metadata": {
    "scrolled": false
   },
   "outputs": [
    {
     "data": {
      "image/png": "[encoded data removed]",
      "text/plain": [
       "<Figure size 432x288 with 1 Axes>"
      ]
     },
     "metadata": {
      "needs_background": "light"
     },
     "output_type": "display_data"
    },
    {
     "data": {
      "image/png": "[encoded data removed]",
      "text/plain": [
       "<Figure size 432x288 with 1 Axes>"
      ]
     },
     "metadata": {
      "needs_background": "light"
     },
     "output_type": "display_data"
    },
    {
     "data": {
      "image/png": "[encoded data removed]",
      "text/plain": [
       "<Figure size 432x288 with 1 Axes>"
      ]
     },
     "metadata": {
      "needs_background": "light"
     },
     "output_type": "display_data"
    },
    {
     "data": {
      "image/png": "[encoded data removed]",
      "text/plain": [
       "<Figure size 432x288 with 1 Axes>"
      ]
     },
     "metadata": {
      "needs_background": "light"
     },
     "output_type": "display_data"
    },
    {
     "data": {
      "image/png": "[encoded data removed]",
      "text/plain": [
       "<Figure size 432x288 with 1 Axes>"
      ]
     },
     "metadata": {
      "needs_background": "light"
     },
     "output_type": "display_data"
    },
    {
     "data": {
      "image/png": "[encoded data removed]",
      "text/plain": [
       "<Figure size 432x288 with 1 Axes>"
      ]
     },
     "metadata": {
      "needs_background": "light"
     },
     "output_type": "display_data"
    },
    {
     "data": {
      "image/png": "[encoded data removed]",
      "text/plain": [
       "<Figure size 432x288 with 1 Axes>"
      ]
     },
     "metadata": {
      "needs_background": "light"
     },
     "output_type": "display_data"
    },
    {
     "data": {
      "image/png": "[encoded data removed]",
      "text/plain": [
       "<Figure size 432x288 with 1 Axes>"
      ]
     },
     "metadata": {
      "needs_background": "light"
     },
     "output_type": "display_data"
    },
    {
     "data": {
      "image/png": "[encoded data removed]",
      "text/plain": [
       "<Figure size 432x288 with 1 Axes>"
      ]
     },
     "metadata": {
      "needs_background": "light"
     },
     "output_type": "display_data"
    },
    {
     "data": {
      "image/png": "[encoded data removed]",
      "text/plain": [
       "<Figure size 432x288 with 1 Axes>"
      ]
     },
     "metadata": {
      "needs_background": "light"
     },
     "output_type": "display_data"
    },
    {
     "data": {
      "image/png": "[encoded data removed]",
      "text/plain": [
       "<Figure size 432x288 with 1 Axes>"
      ]
     },
     "metadata": {
      "needs_background": "light"
     },
     "output_type": "display_data"
    },
    {
     "data": {
      "image/png": "[encoded data removed]",
      "text/plain": [
       "<Figure size 432x288 with 1 Axes>"
      ]
     },
     "metadata": {
      "needs_background": "light"
     },
     "output_type": "display_data"
    },
    {
     "data": {
      "image/png": "[encoded data removed]",
      "text/plain": [
       "<Figure size 432x288 with 1 Axes>"
      ]
     },
     "metadata": {
      "needs_background": "light"
     },
     "output_type": "display_data"
    },
    {
     "data": {
      "image/png": "[encoded data removed]",
      "text/plain": [
       "<Figure size 432x288 with 1 Axes>"
      ]
     },
     "metadata": {
      "needs_background": "light"
     },
     "output_type": "display_data"
    },
    {
     "data": {
      "image/png": "[encoded data removed]",
      "text/plain": [
       "<Figure size 432x288 with 1 Axes>"
      ]
     },
     "metadata": {
      "needs_background": "light"
     },
     "output_type": "display_data"
    },
    {
     "data": {
      "image/png": "[encoded data removed]",
      "text/plain": [
       "<Figure size 432x288 with 1 Axes>"
      ]
     },
     "metadata": {
      "needs_background": "light"
     },
     "output_type": "display_data"
    },
    {
     "data": {
      "image/png": "[encoded data removed]",
      "text/plain": [
       "<Figure size 432x288 with 1 Axes>"
      ]
     },
     "metadata": {
      "needs_background": "light"
     },
     "output_type": "display_data"
    },
    {
     "data": {
      "image/png": "[encoded data removed]",
      "text/plain": [
       "<Figure size 432x288 with 1 Axes>"
      ]
     },
     "metadata": {
      "needs_background": "light"
     },
     "output_type": "display_data"
    },
    {
     "data": {
      "image/png": "[encoded data removed]",
      "text/plain": [
       "<Figure size 432x288 with 1 Axes>"
      ]
     },
     "metadata": {
      "needs_background": "light"
     },
     "output_type": "display_data"
    },
    {
     "data": {
      "image/png": "[encoded data removed]",
      "text/plain": [
       "<Figure size 432x288 with 1 Axes>"
      ]
     },
     "metadata": {
      "needs_background": "light"
     },
     "output_type": "display_data"
    },
    {
     "data": {
      "image/png": "[encoded data removed]",
      "text/plain": [
       "<Figure size 432x288 with 1 Axes>"
      ]
     },
     "metadata": {
      "needs_background": "light"
     },
     "output_type": "display_data"
    },
    {
     "data": {
      "image/png": "[encoded data removed]",
      "text/plain": [
       "<Figure size 432x288 with 1 Axes>"
      ]
     },
     "metadata": {
      "needs_background": "light"
     },
     "output_type": "display_data"
    },
    {
     "data": {
      "image/png": "[encoded data removed]",
      "text/plain": [
       "<Figure size 432x288 with 1 Axes>"
      ]
     },
     "metadata": {
      "needs_background": "light"
     },
     "output_type": "display_data"
    },
    {
     "data": {
      "image/png": "[encoded data removed]",
      "text/plain": [
       "<Figure size 432x288 with 1 Axes>"
      ]
     },
     "metadata": {
      "needs_background": "light"
     },
     "output_type": "display_data"
    },
    {
     "data": {
      "image/png": "[encoded data removed]",
      "text/plain": [
       "<Figure size 432x288 with 1 Axes>"
      ]
     },
     "metadata": {
      "needs_background": "light"
     },
     "output_type": "display_data"
    },
    {
     "data": {
      "image/png": "[encoded data removed]",
      "text/plain": [
       "<Figure size 432x288 with 1 Axes>"
      ]
     },
     "metadata": {
      "needs_background": "light"
     },
     "output_type": "display_data"
    },
    {
     "data": {
      "image/png": "[encoded data removed]",
      "text/plain": [
       "<Figure size 432x288 with 1 Axes>"
      ]
     },
     "metadata": {
      "needs_background": "light"
     },
     "output_type": "display_data"
    },
    {
     "data": {
      "image/png": "[encoded data removed]",
      "text/plain": [
       "<Figure size 432x288 with 1 Axes>"
      ]
     },
     "metadata": {
      "needs_background": "light"
     },
     "output_type": "display_data"
    },
    {
     "data": {
      "image/png": "[encoded data removed]",
      "text/plain": [
       "<Figure size 432x288 with 1 Axes>"
      ]
     },
     "metadata": {
      "needs_background": "light"
     },
     "output_type": "display_data"
    },
    {
     "data": {
      "image/png": "[encoded data removed]",
      "text/plain": [
       "<Figure size 432x288 with 1 Axes>"
      ]
     },
     "metadata": {
      "needs_background": "light"
     },
     "output_type": "display_data"
    },
    {
     "data": {
      "image/png": "[encoded data removed]",
      "text/plain": [
       "<Figure size 432x288 with 1 Axes>"
      ]
     },
     "metadata": {
      "needs_background": "light"
     },
     "output_type": "display_data"
    },
    {
     "data": {
      "image/png": "[encoded data removed]",
      "text/plain": [
       "<Figure size 432x288 with 1 Axes>"
      ]
     },
     "metadata": {
      "needs_background": "light"
     },
     "output_type": "display_data"
    },
    {
     "data": {
      "image/png": "[encoded data removed]",
      "text/plain": [
       "<Figure size 432x288 with 1 Axes>"
      ]
     },
     "metadata": {
      "needs_background": "light"
     },
     "output_type": "display_data"
    },
    {
     "data": {
      "image/png": "[encoded data removed]",
      "text/plain": [
       "<Figure size 432x288 with 1 Axes>"
      ]
     },
     "metadata": {
      "needs_background": "light"
     },
     "output_type": "display_data"
    },
    {
     "data": {
      "image/png": "[encoded data removed]",
      "text/plain": [
       "<Figure size 432x288 with 1 Axes>"
      ]
     },
     "metadata": {
      "needs_background": "light"
     },
     "output_type": "display_data"
    },
    {
     "data": {
      "image/png": "[encoded data removed]",
      "text/plain": [
       "<Figure size 432x288 with 1 Axes>"
      ]
     },
     "metadata": {
      "needs_background": "light"
     },
     "output_type": "display_data"
    },
    {
     "data": {
      "image/png": "[encoded data removed]",
      "text/plain": [
       "<Figure size 432x288 with 1 Axes>"
      ]
     },
     "metadata": {
      "needs_background": "light"
     },
     "output_type": "display_data"
    },
    {
     "data": {
      "image/png": "[encoded data removed]",
      "text/plain": [
       "<Figure size 432x288 with 1 Axes>"
      ]
     },
     "metadata": {
      "needs_background": "light"
     },
     "output_type": "display_data"
    },
    {
     "data": {
      "image/png": "[encoded data removed]",
      "text/plain": [
       "<Figure size 432x288 with 1 Axes>"
      ]
     },
     "metadata": {
      "needs_background": "light"
     },
     "output_type": "display_data"
    },
    {
     "data": {
      "image/png": "[encoded data removed]",
      "text/plain": [
       "<Figure size 432x288 with 1 Axes>"
      ]
     },
     "metadata": {
      "needs_background": "light"
     },
     "output_type": "display_data"
    },
    {
     "data": {
      "image/png": "[encoded data removed]",
      "text/plain": [
       "<Figure size 432x288 with 1 Axes>"
      ]
     },
     "metadata": {
      "needs_background": "light"
     },
     "output_type": "display_data"
    },
    {
     "data": {
      "image/png": "[encoded data removed]",
      "text/plain": [
       "<Figure size 432x288 with 1 Axes>"
      ]
     },
     "metadata": {
      "needs_background": "light"
     },
     "output_type": "display_data"
    },
    {
     "data": {
      "image/png": "[encoded data removed]",
      "text/plain": [
       "<Figure size 432x288 with 1 Axes>"
      ]
     },
     "metadata": {
      "needs_background": "light"
     },
     "output_type": "display_data"
    },
    {
     "data": {
      "image/png": "[encoded data removed]",
      "text/plain": [
       "<Figure size 432x288 with 1 Axes>"
      ]
     },
     "metadata": {
      "needs_background": "light"
     },
     "output_type": "display_data"
    },
    {
     "data": {
      "image/png": "[encoded data removed]",
      "text/plain": [
       "<Figure size 432x288 with 1 Axes>"
      ]
     },
     "metadata": {
      "needs_background": "light"
     },
     "output_type": "display_data"
    },
    {
     "data": {
      "image/png": "[encoded data removed]",
      "text/plain": [
       "<Figure size 432x288 with 1 Axes>"
      ]
     },
     "metadata": {
      "needs_background": "light"
     },
     "output_type": "display_data"
    },
    {
     "data": {
      "image/png": "[encoded data removed]",
      "text/plain": [
       "<Figure size 432x288 with 1 Axes>"
      ]
     },
     "metadata": {
      "needs_background": "light"
     },
     "output_type": "display_data"
    },
    {
     "data": {
      "image/png": "[encoded data removed]",
      "text/plain": [
       "<Figure size 432x288 with 1 Axes>"
      ]
     },
     "metadata": {
      "needs_background": "light"
     },
     "output_type": "display_data"
    },
    {
     "data": {
      "image/png": "[encoded data removed]",
      "text/plain": [
       "<Figure size 432x288 with 1 Axes>"
      ]
     },
     "metadata": {
      "needs_background": "light"
     },
     "output_type": "display_data"
    },
    {
     "data": {
      "image/png": "[encoded data removed]",
      "text/plain": [
       "<Figure size 432x288 with 1 Axes>"
      ]
     },
     "metadata": {
      "needs_background": "light"
     },
     "output_type": "display_data"
    },
    {
     "data": {
      "image/png": "[encoded data removed]",
      "text/plain": [
       "<Figure size 432x288 with 1 Axes>"
      ]
     },
     "metadata": {
      "needs_background": "light"
     },
     "output_type": "display_data"
    },
    {
     "data": {
      "image/png": "[encoded data removed]",
      "text/plain": [
       "<Figure size 432x288 with 1 Axes>"
      ]
     },
     "metadata": {
      "needs_background": "light"
     },
     "output_type": "display_data"
    },
    {
     "data": {
      "image/png": "[encoded data removed]",
      "text/plain": [
       "<Figure size 432x288 with 1 Axes>"
      ]
     },
     "metadata": {
      "needs_background": "light"
     },
     "output_type": "display_data"
    },
    {
     "data": {
      "image/png": "[encoded data removed]",
      "text/plain": [
       "<Figure size 432x288 with 1 Axes>"
      ]
     },
     "metadata": {
      "needs_background": "light"
     },
     "output_type": "display_data"
    },
    {
     "data": {
      "image/png": "[encoded data removed]",
      "text/plain": [
       "<Figure size 432x288 with 1 Axes>"
      ]
     },
     "metadata": {
      "needs_background": "light"
     },
     "output_type": "display_data"
    },
    {
     "data": {
      "image/png": "[encoded data removed]",
      "text/plain": [
       "<Figure size 432x288 with 1 Axes>"
      ]
     },
     "metadata": {
      "needs_background": "light"
     },
     "output_type": "display_data"
    },
    {
     "data": {
      "image/png": "[encoded data removed]",
      "text/plain": [
       "<Figure size 432x288 with 1 Axes>"
      ]
     },
     "metadata": {
      "needs_background": "light"
     },
     "output_type": "display_data"
    },
    {
     "data": {
      "image/png": "[encoded data removed]",
      "text/plain": [
       "<Figure size 432x288 with 1 Axes>"
      ]
     },
     "metadata": {
      "needs_background": "light"
     },
     "output_type": "display_data"
    }
   ],
   "source": [
    "# distribution of the data\n",
    "con_cols = [col for col in df.columns if (df[col].dtype == 'int64') | (df[col].dtype == 'float64')]\n",
    "\n",
    "for col in con_cols:\n",
    "    plt.hist(df[col])\n",
    "    plt.title(f\"{col} distribution\")\n",
    "    plt.show()"
   ]
  },
  {
   "cell_type": "markdown",
   "id": "adequate-regulation",
   "metadata": {},
   "source": [
    "# Write a function that takes in a dataframe of observations and attributes and returns a dataframe where each row is an atttribute name, the first column is the number of rows with missing values for that attribute, and the second column is percent of total rows that have missing values for that attribute. Run the function and document takeaways from this on how you want to handle missing values."
   ]
  },
  {
   "cell_type": "code",
   "execution_count": 15,
   "id": "perceived-ceremony",
   "metadata": {},
   "outputs": [
    {
     "data": {
      "text/plain": [
       "typeconstructiontypeid    77159\n",
       "storytypeid               77331\n",
       "propertylandusetypeid         0\n",
       "heatingorsystemtypeid     27941\n",
       "buildingclasstypeid       77366\n",
       "                          ...  \n",
       "buildingclassdesc         77366\n",
       "heatingorsystemdesc       27941\n",
       "propertylandusedesc           0\n",
       "storydesc                 77331\n",
       "typeconstructiondesc      77159\n",
       "Length: 69, dtype: int64"
      ]
     },
     "execution_count": 15,
     "metadata": {},
     "output_type": "execute_result"
    }
   ],
   "source": [
    "df.isnull().sum() # get columns paired with the number of nulls in that column"
   ]
  },
  {
   "cell_type": "code",
   "execution_count": 16,
   "id": "following-champagne",
   "metadata": {},
   "outputs": [
    {
     "data": {
      "text/plain": [
       "typeconstructiontypeid    0.997131\n",
       "storytypeid               0.999354\n",
       "propertylandusetypeid     0.000000\n",
       "heatingorsystemtypeid     0.361083\n",
       "buildingclasstypeid       0.999806\n",
       "                            ...   \n",
       "buildingclassdesc         0.999806\n",
       "heatingorsystemdesc       0.361083\n",
       "propertylandusedesc       0.000000\n",
       "storydesc                 0.999354\n",
       "typeconstructiondesc      0.997131\n",
       "Length: 69, dtype: float64"
      ]
     },
     "execution_count": 16,
     "metadata": {},
     "output_type": "execute_result"
    }
   ],
   "source": [
    "df.isnull().sum()/df.shape[0] # get percent of nulls in each column"
   ]
  },
  {
   "cell_type": "code",
   "execution_count": 17,
   "id": "precious-petroleum",
   "metadata": {},
   "outputs": [],
   "source": [
    "# capturing values in variables\n",
    "\n",
    "num_missing = df.isnull().sum()\n",
    "pct_missing = df.isnull().sum()/df.shape[0] "
   ]
  },
  {
   "cell_type": "code",
   "execution_count": 18,
   "id": "naked-chest",
   "metadata": {},
   "outputs": [
    {
     "data": {
      "text/html": [
       "<div>\n",
       "<style scoped>\n",
       "    .dataframe tbody tr th:only-of-type {\n",
       "        vertical-align: middle;\n",
       "    }\n",
       "\n",
       "    .dataframe tbody tr th {\n",
       "        vertical-align: top;\n",
       "    }\n",
       "\n",
       "    .dataframe thead th {\n",
       "        text-align: right;\n",
       "    }\n",
       "</style>\n",
       "<table border=\"1\" class=\"dataframe\">\n",
       "  <thead>\n",
       "    <tr style=\"text-align: right;\">\n",
       "      <th></th>\n",
       "      <th>num_rows_missing</th>\n",
       "      <th>pct_rows_missing</th>\n",
       "    </tr>\n",
       "  </thead>\n",
       "  <tbody>\n",
       "    <tr>\n",
       "      <th>typeconstructiontypeid</th>\n",
       "      <td>77159</td>\n",
       "      <td>0.997131</td>\n",
       "    </tr>\n",
       "    <tr>\n",
       "      <th>storytypeid</th>\n",
       "      <td>77331</td>\n",
       "      <td>0.999354</td>\n",
       "    </tr>\n",
       "    <tr>\n",
       "      <th>propertylandusetypeid</th>\n",
       "      <td>0</td>\n",
       "      <td>0.000000</td>\n",
       "    </tr>\n",
       "    <tr>\n",
       "      <th>heatingorsystemtypeid</th>\n",
       "      <td>27941</td>\n",
       "      <td>0.361083</td>\n",
       "    </tr>\n",
       "    <tr>\n",
       "      <th>buildingclasstypeid</th>\n",
       "      <td>77366</td>\n",
       "      <td>0.999806</td>\n",
       "    </tr>\n",
       "    <tr>\n",
       "      <th>...</th>\n",
       "      <td>...</td>\n",
       "      <td>...</td>\n",
       "    </tr>\n",
       "    <tr>\n",
       "      <th>buildingclassdesc</th>\n",
       "      <td>77366</td>\n",
       "      <td>0.999806</td>\n",
       "    </tr>\n",
       "    <tr>\n",
       "      <th>heatingorsystemdesc</th>\n",
       "      <td>27941</td>\n",
       "      <td>0.361083</td>\n",
       "    </tr>\n",
       "    <tr>\n",
       "      <th>propertylandusedesc</th>\n",
       "      <td>0</td>\n",
       "      <td>0.000000</td>\n",
       "    </tr>\n",
       "    <tr>\n",
       "      <th>storydesc</th>\n",
       "      <td>77331</td>\n",
       "      <td>0.999354</td>\n",
       "    </tr>\n",
       "    <tr>\n",
       "      <th>typeconstructiondesc</th>\n",
       "      <td>77159</td>\n",
       "      <td>0.997131</td>\n",
       "    </tr>\n",
       "  </tbody>\n",
       "</table>\n",
       "<p>69 rows × 2 columns</p>\n",
       "</div>"
      ],
      "text/plain": [
       "                        num_rows_missing  pct_rows_missing\n",
       "typeconstructiontypeid             77159          0.997131\n",
       "storytypeid                        77331          0.999354\n",
       "propertylandusetypeid                  0          0.000000\n",
       "heatingorsystemtypeid              27941          0.361083\n",
       "buildingclasstypeid                77366          0.999806\n",
       "...                                  ...               ...\n",
       "buildingclassdesc                  77366          0.999806\n",
       "heatingorsystemdesc                27941          0.361083\n",
       "propertylandusedesc                    0          0.000000\n",
       "storydesc                          77331          0.999354\n",
       "typeconstructiondesc               77159          0.997131\n",
       "\n",
       "[69 rows x 2 columns]"
      ]
     },
     "execution_count": 18,
     "metadata": {},
     "output_type": "execute_result"
    }
   ],
   "source": [
    "pd.DataFrame({'num_rows_missing': num_missing, 'pct_rows_missing': pct_missing}) # create dataframe using variables"
   ]
  },
  {
   "cell_type": "code",
   "execution_count": 19,
   "id": "checked-ethernet",
   "metadata": {},
   "outputs": [],
   "source": [
    "def nulls_by_col(df):\n",
    "    '''\n",
    "    take in a dataframe \n",
    "    return a dataframe with each cloumn name as a row \n",
    "    each row will show the number and percent of nulls in the column\n",
    "    \n",
    "    '''\n",
    "    \n",
    "    num_missing = df.isnull().sum()   # get columns paired with the number of nulls in that column\n",
    "    \n",
    "    pct_missing = df.isnull().sum()/df.shape[0] # get percent of nulls in each column\n",
    "    \n",
    "    return pd.DataFrame({'num_rows_missing': num_missing, 'pct_rows_missing': pct_missing}) # create/return dataframe"
   ]
  },
  {
   "cell_type": "code",
   "execution_count": 20,
   "id": "coordinated-necklace",
   "metadata": {},
   "outputs": [
    {
     "data": {
      "text/html": [
       "<div>\n",
       "<style scoped>\n",
       "    .dataframe tbody tr th:only-of-type {\n",
       "        vertical-align: middle;\n",
       "    }\n",
       "\n",
       "    .dataframe tbody tr th {\n",
       "        vertical-align: top;\n",
       "    }\n",
       "\n",
       "    .dataframe thead th {\n",
       "        text-align: right;\n",
       "    }\n",
       "</style>\n",
       "<table border=\"1\" class=\"dataframe\">\n",
       "  <thead>\n",
       "    <tr style=\"text-align: right;\">\n",
       "      <th></th>\n",
       "      <th>num_rows_missing</th>\n",
       "      <th>pct_rows_missing</th>\n",
       "    </tr>\n",
       "  </thead>\n",
       "  <tbody>\n",
       "    <tr>\n",
       "      <th>typeconstructiontypeid</th>\n",
       "      <td>77159</td>\n",
       "      <td>0.997131</td>\n",
       "    </tr>\n",
       "    <tr>\n",
       "      <th>storytypeid</th>\n",
       "      <td>77331</td>\n",
       "      <td>0.999354</td>\n",
       "    </tr>\n",
       "    <tr>\n",
       "      <th>propertylandusetypeid</th>\n",
       "      <td>0</td>\n",
       "      <td>0.000000</td>\n",
       "    </tr>\n",
       "    <tr>\n",
       "      <th>heatingorsystemtypeid</th>\n",
       "      <td>27941</td>\n",
       "      <td>0.361083</td>\n",
       "    </tr>\n",
       "    <tr>\n",
       "      <th>buildingclasstypeid</th>\n",
       "      <td>77366</td>\n",
       "      <td>0.999806</td>\n",
       "    </tr>\n",
       "    <tr>\n",
       "      <th>...</th>\n",
       "      <td>...</td>\n",
       "      <td>...</td>\n",
       "    </tr>\n",
       "    <tr>\n",
       "      <th>buildingclassdesc</th>\n",
       "      <td>77366</td>\n",
       "      <td>0.999806</td>\n",
       "    </tr>\n",
       "    <tr>\n",
       "      <th>heatingorsystemdesc</th>\n",
       "      <td>27941</td>\n",
       "      <td>0.361083</td>\n",
       "    </tr>\n",
       "    <tr>\n",
       "      <th>propertylandusedesc</th>\n",
       "      <td>0</td>\n",
       "      <td>0.000000</td>\n",
       "    </tr>\n",
       "    <tr>\n",
       "      <th>storydesc</th>\n",
       "      <td>77331</td>\n",
       "      <td>0.999354</td>\n",
       "    </tr>\n",
       "    <tr>\n",
       "      <th>typeconstructiondesc</th>\n",
       "      <td>77159</td>\n",
       "      <td>0.997131</td>\n",
       "    </tr>\n",
       "  </tbody>\n",
       "</table>\n",
       "<p>69 rows × 2 columns</p>\n",
       "</div>"
      ],
      "text/plain": [
       "                        num_rows_missing  pct_rows_missing\n",
       "typeconstructiontypeid             77159          0.997131\n",
       "storytypeid                        77331          0.999354\n",
       "propertylandusetypeid                  0          0.000000\n",
       "heatingorsystemtypeid              27941          0.361083\n",
       "buildingclasstypeid                77366          0.999806\n",
       "...                                  ...               ...\n",
       "buildingclassdesc                  77366          0.999806\n",
       "heatingorsystemdesc                27941          0.361083\n",
       "propertylandusedesc                    0          0.000000\n",
       "storydesc                          77331          0.999354\n",
       "typeconstructiondesc               77159          0.997131\n",
       "\n",
       "[69 rows x 2 columns]"
      ]
     },
     "execution_count": 20,
     "metadata": {},
     "output_type": "execute_result"
    }
   ],
   "source": [
    "nulls_by_col(df)"
   ]
  },
  {
   "cell_type": "markdown",
   "id": "final-piece",
   "metadata": {},
   "source": [
    "### Takeaways: \n",
    "* Columns have a largely varied number of nulls \n",
    "* Drop columns with less than half non_null values\n",
    "* Treat the rest as a case by case"
   ]
  },
  {
   "cell_type": "markdown",
   "id": "revised-north",
   "metadata": {},
   "source": [
    "# Write a function that takes in a dataframe and returns a dataframe with 3 columns: the number of columns missing, percent of columns missing, and number of rows with n columns missing. Run the function and document takeaways from this on how you want to handle missing values.\n"
   ]
  },
  {
   "cell_type": "code",
   "execution_count": 21,
   "id": "unsigned-surfing",
   "metadata": {},
   "outputs": [
    {
     "data": {
      "text/plain": [
       "0        36\n",
       "1        33\n",
       "2        34\n",
       "3        32\n",
       "4        29\n",
       "         ..\n",
       "77575    33\n",
       "77576    32\n",
       "77577    32\n",
       "77578    34\n",
       "77579    34\n",
       "Length: 77381, dtype: int64"
      ]
     },
     "execution_count": 21,
     "metadata": {},
     "output_type": "execute_result"
    }
   ],
   "source": [
    "df.isnull().sum(axis=1) # number of columns that are missing in each row"
   ]
  },
  {
   "cell_type": "code",
   "execution_count": 22,
   "id": "democratic-retirement",
   "metadata": {},
   "outputs": [
    {
     "data": {
      "text/plain": [
       "0        52.173913\n",
       "1        47.826087\n",
       "2        49.275362\n",
       "3        46.376812\n",
       "4        42.028986\n",
       "           ...    \n",
       "77575    47.826087\n",
       "77576    46.376812\n",
       "77577    46.376812\n",
       "77578    49.275362\n",
       "77579    49.275362\n",
       "Length: 77381, dtype: float64"
      ]
     },
     "execution_count": 22,
     "metadata": {},
     "output_type": "execute_result"
    }
   ],
   "source": [
    "df.isnull().sum(axis=1)/df.shape[1]*100 # percent of columns missing in each row "
   ]
  },
  {
   "cell_type": "code",
   "execution_count": 23,
   "id": "polished-yukon",
   "metadata": {},
   "outputs": [],
   "source": [
    "# capture series in veriables\n",
    "\n",
    "num_cols_missing = df.isnull().sum(axis=1)\n",
    "\n",
    "pct_cols_missing = df.isnull().sum(axis=1)/df.shape[1]*100"
   ]
  },
  {
   "cell_type": "code",
   "execution_count": 24,
   "id": "sapphire-complement",
   "metadata": {},
   "outputs": [
    {
     "data": {
      "text/html": [
       "<div>\n",
       "<style scoped>\n",
       "    .dataframe tbody tr th:only-of-type {\n",
       "        vertical-align: middle;\n",
       "    }\n",
       "\n",
       "    .dataframe tbody tr th {\n",
       "        vertical-align: top;\n",
       "    }\n",
       "\n",
       "    .dataframe thead th {\n",
       "        text-align: right;\n",
       "    }\n",
       "</style>\n",
       "<table border=\"1\" class=\"dataframe\">\n",
       "  <thead>\n",
       "    <tr style=\"text-align: right;\">\n",
       "      <th></th>\n",
       "      <th>index</th>\n",
       "      <th>num_cols_missing</th>\n",
       "      <th>pct_cols_missing</th>\n",
       "    </tr>\n",
       "  </thead>\n",
       "  <tbody>\n",
       "    <tr>\n",
       "      <th>0</th>\n",
       "      <td>0</td>\n",
       "      <td>36</td>\n",
       "      <td>52.173913</td>\n",
       "    </tr>\n",
       "    <tr>\n",
       "      <th>1</th>\n",
       "      <td>1</td>\n",
       "      <td>33</td>\n",
       "      <td>47.826087</td>\n",
       "    </tr>\n",
       "    <tr>\n",
       "      <th>2</th>\n",
       "      <td>2</td>\n",
       "      <td>34</td>\n",
       "      <td>49.275362</td>\n",
       "    </tr>\n",
       "    <tr>\n",
       "      <th>3</th>\n",
       "      <td>3</td>\n",
       "      <td>32</td>\n",
       "      <td>46.376812</td>\n",
       "    </tr>\n",
       "    <tr>\n",
       "      <th>4</th>\n",
       "      <td>4</td>\n",
       "      <td>29</td>\n",
       "      <td>42.028986</td>\n",
       "    </tr>\n",
       "    <tr>\n",
       "      <th>...</th>\n",
       "      <td>...</td>\n",
       "      <td>...</td>\n",
       "      <td>...</td>\n",
       "    </tr>\n",
       "    <tr>\n",
       "      <th>77376</th>\n",
       "      <td>77575</td>\n",
       "      <td>33</td>\n",
       "      <td>47.826087</td>\n",
       "    </tr>\n",
       "    <tr>\n",
       "      <th>77377</th>\n",
       "      <td>77576</td>\n",
       "      <td>32</td>\n",
       "      <td>46.376812</td>\n",
       "    </tr>\n",
       "    <tr>\n",
       "      <th>77378</th>\n",
       "      <td>77577</td>\n",
       "      <td>32</td>\n",
       "      <td>46.376812</td>\n",
       "    </tr>\n",
       "    <tr>\n",
       "      <th>77379</th>\n",
       "      <td>77578</td>\n",
       "      <td>34</td>\n",
       "      <td>49.275362</td>\n",
       "    </tr>\n",
       "    <tr>\n",
       "      <th>77380</th>\n",
       "      <td>77579</td>\n",
       "      <td>34</td>\n",
       "      <td>49.275362</td>\n",
       "    </tr>\n",
       "  </tbody>\n",
       "</table>\n",
       "<p>77381 rows × 3 columns</p>\n",
       "</div>"
      ],
      "text/plain": [
       "       index  num_cols_missing  pct_cols_missing\n",
       "0          0                36         52.173913\n",
       "1          1                33         47.826087\n",
       "2          2                34         49.275362\n",
       "3          3                32         46.376812\n",
       "4          4                29         42.028986\n",
       "...      ...               ...               ...\n",
       "77376  77575                33         47.826087\n",
       "77377  77576                32         46.376812\n",
       "77378  77577                32         46.376812\n",
       "77379  77578                34         49.275362\n",
       "77380  77579                34         49.275362\n",
       "\n",
       "[77381 rows x 3 columns]"
      ]
     },
     "execution_count": 24,
     "metadata": {},
     "output_type": "execute_result"
    }
   ],
   "source": [
    "# create a dataframe for the series and reset the index creating an index column\n",
    "\n",
    "df_cols = pd.DataFrame({'num_cols_missing': num_cols_missing, 'pct_cols_missing': pct_cols_missing}).reset_index()\n",
    "df_cols"
   ]
  },
  {
   "cell_type": "code",
   "execution_count": 25,
   "id": "renewable-priority",
   "metadata": {},
   "outputs": [
    {
     "data": {
      "text/html": [
       "<div>\n",
       "<style scoped>\n",
       "    .dataframe tbody tr th:only-of-type {\n",
       "        vertical-align: middle;\n",
       "    }\n",
       "\n",
       "    .dataframe tbody tr th {\n",
       "        vertical-align: top;\n",
       "    }\n",
       "\n",
       "    .dataframe thead th {\n",
       "        text-align: right;\n",
       "    }\n",
       "</style>\n",
       "<table border=\"1\" class=\"dataframe\">\n",
       "  <thead>\n",
       "    <tr style=\"text-align: right;\">\n",
       "      <th></th>\n",
       "      <th></th>\n",
       "      <th>index</th>\n",
       "    </tr>\n",
       "    <tr>\n",
       "      <th>num_cols_missing</th>\n",
       "      <th>pct_cols_missing</th>\n",
       "      <th></th>\n",
       "    </tr>\n",
       "  </thead>\n",
       "  <tbody>\n",
       "    <tr>\n",
       "      <th>23</th>\n",
       "      <th>33.333333</th>\n",
       "      <td>2</td>\n",
       "    </tr>\n",
       "    <tr>\n",
       "      <th>24</th>\n",
       "      <th>34.782609</th>\n",
       "      <td>13</td>\n",
       "    </tr>\n",
       "    <tr>\n",
       "      <th>25</th>\n",
       "      <th>36.231884</th>\n",
       "      <td>24</td>\n",
       "    </tr>\n",
       "    <tr>\n",
       "      <th>26</th>\n",
       "      <th>37.681159</th>\n",
       "      <td>65</td>\n",
       "    </tr>\n",
       "    <tr>\n",
       "      <th>27</th>\n",
       "      <th>39.130435</th>\n",
       "      <td>316</td>\n",
       "    </tr>\n",
       "  </tbody>\n",
       "</table>\n",
       "</div>"
      ],
      "text/plain": [
       "                                   index\n",
       "num_cols_missing pct_cols_missing       \n",
       "23               33.333333             2\n",
       "24               34.782609            13\n",
       "25               36.231884            24\n",
       "26               37.681159            65\n",
       "27               39.130435           316"
      ]
     },
     "execution_count": 25,
     "metadata": {},
     "output_type": "execute_result"
    }
   ],
   "source": [
    "# group by count of both columns, turns index column into a count of matching rows\n",
    "\n",
    "df_cols = df_cols.groupby(['num_cols_missing','pct_cols_missing']).count()\n",
    "df_cols.head()"
   ]
  },
  {
   "cell_type": "code",
   "execution_count": 26,
   "id": "ahead-encyclopedia",
   "metadata": {},
   "outputs": [
    {
     "data": {
      "text/html": [
       "<div>\n",
       "<style scoped>\n",
       "    .dataframe tbody tr th:only-of-type {\n",
       "        vertical-align: middle;\n",
       "    }\n",
       "\n",
       "    .dataframe tbody tr th {\n",
       "        vertical-align: top;\n",
       "    }\n",
       "\n",
       "    .dataframe thead th {\n",
       "        text-align: right;\n",
       "    }\n",
       "</style>\n",
       "<table border=\"1\" class=\"dataframe\">\n",
       "  <thead>\n",
       "    <tr style=\"text-align: right;\">\n",
       "      <th></th>\n",
       "      <th>num_cols_missing</th>\n",
       "      <th>pct_cols_missing</th>\n",
       "      <th>num_rows</th>\n",
       "    </tr>\n",
       "  </thead>\n",
       "  <tbody>\n",
       "    <tr>\n",
       "      <th>0</th>\n",
       "      <td>23</td>\n",
       "      <td>33.33333333333333</td>\n",
       "      <td>2</td>\n",
       "    </tr>\n",
       "    <tr>\n",
       "      <th>1</th>\n",
       "      <td>24</td>\n",
       "      <td>34.78260869565217</td>\n",
       "      <td>13</td>\n",
       "    </tr>\n",
       "    <tr>\n",
       "      <th>2</th>\n",
       "      <td>25</td>\n",
       "      <td>36.231884057971016</td>\n",
       "      <td>24</td>\n",
       "    </tr>\n",
       "    <tr>\n",
       "      <th>3</th>\n",
       "      <td>26</td>\n",
       "      <td>37.68115942028986</td>\n",
       "      <td>65</td>\n",
       "    </tr>\n",
       "    <tr>\n",
       "      <th>4</th>\n",
       "      <td>27</td>\n",
       "      <td>39.130434782608695</td>\n",
       "      <td>316</td>\n",
       "    </tr>\n",
       "  </tbody>\n",
       "</table>\n",
       "</div>"
      ],
      "text/plain": [
       "  num_cols_missing    pct_cols_missing  num_rows\n",
       "0               23   33.33333333333333         2\n",
       "1               24   34.78260869565217        13\n",
       "2               25  36.231884057971016        24\n",
       "3               26   37.68115942028986        65\n",
       "4               27  39.130434782608695       316"
      ]
     },
     "execution_count": 26,
     "metadata": {},
     "output_type": "execute_result"
    }
   ],
   "source": [
    "# change the index name and reset the index\n",
    "\n",
    "df_cols = df_cols.rename(index=str, columns={'index': 'num_rows'}).reset_index()\n",
    "df_cols.head()"
   ]
  },
  {
   "cell_type": "code",
   "execution_count": 27,
   "id": "difficult-bathroom",
   "metadata": {},
   "outputs": [],
   "source": [
    "def nulls_by_row(df):\n",
    "    '''take in a dataframe \n",
    "       get count of missing columns per row\n",
    "       percent of missing columns per row \n",
    "       and number of rows missing the same number of columns\n",
    "       in a dataframe'''\n",
    "    \n",
    "    num_cols_missing = df.isnull().sum(axis=1) # number of columns that are missing in each row\n",
    "    \n",
    "    pct_cols_missing = df.isnull().sum(axis=1)/df.shape[1]*100  # percent of columns missing in each row \n",
    "    \n",
    "    # create a dataframe for the series and reset the index creating an index column\n",
    "    # group by count of both columns, turns index column into a count of matching rows\n",
    "    # change the index name and reset the index\n",
    "    \n",
    "    return (pd.DataFrame({'num_cols_missing': num_cols_missing, 'pct_cols_missing': pct_cols_missing}).reset_index()\n",
    "            .groupby(['num_cols_missing','pct_cols_missing']).count()\n",
    "            .rename(index=str, columns={'index': 'num_rows'}).reset_index())"
   ]
  },
  {
   "cell_type": "code",
   "execution_count": 28,
   "id": "combined-stage",
   "metadata": {},
   "outputs": [
    {
     "data": {
      "text/html": [
       "<div>\n",
       "<style scoped>\n",
       "    .dataframe tbody tr th:only-of-type {\n",
       "        vertical-align: middle;\n",
       "    }\n",
       "\n",
       "    .dataframe tbody tr th {\n",
       "        vertical-align: top;\n",
       "    }\n",
       "\n",
       "    .dataframe thead th {\n",
       "        text-align: right;\n",
       "    }\n",
       "</style>\n",
       "<table border=\"1\" class=\"dataframe\">\n",
       "  <thead>\n",
       "    <tr style=\"text-align: right;\">\n",
       "      <th></th>\n",
       "      <th>num_cols_missing</th>\n",
       "      <th>pct_cols_missing</th>\n",
       "      <th>num_rows</th>\n",
       "    </tr>\n",
       "  </thead>\n",
       "  <tbody>\n",
       "    <tr>\n",
       "      <th>0</th>\n",
       "      <td>23</td>\n",
       "      <td>33.33333333333333</td>\n",
       "      <td>2</td>\n",
       "    </tr>\n",
       "    <tr>\n",
       "      <th>1</th>\n",
       "      <td>24</td>\n",
       "      <td>34.78260869565217</td>\n",
       "      <td>13</td>\n",
       "    </tr>\n",
       "    <tr>\n",
       "      <th>2</th>\n",
       "      <td>25</td>\n",
       "      <td>36.231884057971016</td>\n",
       "      <td>24</td>\n",
       "    </tr>\n",
       "    <tr>\n",
       "      <th>3</th>\n",
       "      <td>26</td>\n",
       "      <td>37.68115942028986</td>\n",
       "      <td>65</td>\n",
       "    </tr>\n",
       "    <tr>\n",
       "      <th>4</th>\n",
       "      <td>27</td>\n",
       "      <td>39.130434782608695</td>\n",
       "      <td>316</td>\n",
       "    </tr>\n",
       "    <tr>\n",
       "      <th>5</th>\n",
       "      <td>28</td>\n",
       "      <td>40.57971014492754</td>\n",
       "      <td>455</td>\n",
       "    </tr>\n",
       "    <tr>\n",
       "      <th>6</th>\n",
       "      <td>29</td>\n",
       "      <td>42.028985507246375</td>\n",
       "      <td>5270</td>\n",
       "    </tr>\n",
       "    <tr>\n",
       "      <th>7</th>\n",
       "      <td>30</td>\n",
       "      <td>43.47826086956522</td>\n",
       "      <td>3455</td>\n",
       "    </tr>\n",
       "    <tr>\n",
       "      <th>8</th>\n",
       "      <td>31</td>\n",
       "      <td>44.927536231884055</td>\n",
       "      <td>9891</td>\n",
       "    </tr>\n",
       "    <tr>\n",
       "      <th>9</th>\n",
       "      <td>32</td>\n",
       "      <td>46.3768115942029</td>\n",
       "      <td>12579</td>\n",
       "    </tr>\n",
       "    <tr>\n",
       "      <th>10</th>\n",
       "      <td>33</td>\n",
       "      <td>47.82608695652174</td>\n",
       "      <td>14782</td>\n",
       "    </tr>\n",
       "    <tr>\n",
       "      <th>11</th>\n",
       "      <td>34</td>\n",
       "      <td>49.275362318840585</td>\n",
       "      <td>13327</td>\n",
       "    </tr>\n",
       "    <tr>\n",
       "      <th>12</th>\n",
       "      <td>35</td>\n",
       "      <td>50.72463768115942</td>\n",
       "      <td>5148</td>\n",
       "    </tr>\n",
       "    <tr>\n",
       "      <th>13</th>\n",
       "      <td>36</td>\n",
       "      <td>52.17391304347826</td>\n",
       "      <td>5775</td>\n",
       "    </tr>\n",
       "    <tr>\n",
       "      <th>14</th>\n",
       "      <td>37</td>\n",
       "      <td>53.62318840579711</td>\n",
       "      <td>3620</td>\n",
       "    </tr>\n",
       "    <tr>\n",
       "      <th>15</th>\n",
       "      <td>38</td>\n",
       "      <td>55.072463768115945</td>\n",
       "      <td>1925</td>\n",
       "    </tr>\n",
       "    <tr>\n",
       "      <th>16</th>\n",
       "      <td>39</td>\n",
       "      <td>56.52173913043478</td>\n",
       "      <td>285</td>\n",
       "    </tr>\n",
       "    <tr>\n",
       "      <th>17</th>\n",
       "      <td>40</td>\n",
       "      <td>57.971014492753625</td>\n",
       "      <td>230</td>\n",
       "    </tr>\n",
       "    <tr>\n",
       "      <th>18</th>\n",
       "      <td>41</td>\n",
       "      <td>59.42028985507246</td>\n",
       "      <td>29</td>\n",
       "    </tr>\n",
       "    <tr>\n",
       "      <th>19</th>\n",
       "      <td>42</td>\n",
       "      <td>60.86956521739131</td>\n",
       "      <td>23</td>\n",
       "    </tr>\n",
       "    <tr>\n",
       "      <th>20</th>\n",
       "      <td>43</td>\n",
       "      <td>62.31884057971014</td>\n",
       "      <td>28</td>\n",
       "    </tr>\n",
       "    <tr>\n",
       "      <th>21</th>\n",
       "      <td>44</td>\n",
       "      <td>63.76811594202898</td>\n",
       "      <td>78</td>\n",
       "    </tr>\n",
       "    <tr>\n",
       "      <th>22</th>\n",
       "      <td>45</td>\n",
       "      <td>65.21739130434783</td>\n",
       "      <td>50</td>\n",
       "    </tr>\n",
       "    <tr>\n",
       "      <th>23</th>\n",
       "      <td>46</td>\n",
       "      <td>66.66666666666666</td>\n",
       "      <td>5</td>\n",
       "    </tr>\n",
       "    <tr>\n",
       "      <th>24</th>\n",
       "      <td>47</td>\n",
       "      <td>68.11594202898551</td>\n",
       "      <td>3</td>\n",
       "    </tr>\n",
       "    <tr>\n",
       "      <th>25</th>\n",
       "      <td>48</td>\n",
       "      <td>69.56521739130434</td>\n",
       "      <td>3</td>\n",
       "    </tr>\n",
       "  </tbody>\n",
       "</table>\n",
       "</div>"
      ],
      "text/plain": [
       "   num_cols_missing    pct_cols_missing  num_rows\n",
       "0                23   33.33333333333333         2\n",
       "1                24   34.78260869565217        13\n",
       "2                25  36.231884057971016        24\n",
       "3                26   37.68115942028986        65\n",
       "4                27  39.130434782608695       316\n",
       "5                28   40.57971014492754       455\n",
       "6                29  42.028985507246375      5270\n",
       "7                30   43.47826086956522      3455\n",
       "8                31  44.927536231884055      9891\n",
       "9                32    46.3768115942029     12579\n",
       "10               33   47.82608695652174     14782\n",
       "11               34  49.275362318840585     13327\n",
       "12               35   50.72463768115942      5148\n",
       "13               36   52.17391304347826      5775\n",
       "14               37   53.62318840579711      3620\n",
       "15               38  55.072463768115945      1925\n",
       "16               39   56.52173913043478       285\n",
       "17               40  57.971014492753625       230\n",
       "18               41   59.42028985507246        29\n",
       "19               42   60.86956521739131        23\n",
       "20               43   62.31884057971014        28\n",
       "21               44   63.76811594202898        78\n",
       "22               45   65.21739130434783        50\n",
       "23               46   66.66666666666666         5\n",
       "24               47   68.11594202898551         3\n",
       "25               48   69.56521739130434         3"
      ]
     },
     "execution_count": 28,
     "metadata": {},
     "output_type": "execute_result"
    }
   ],
   "source": [
    "nulls_by_row(df)"
   ]
  },
  {
   "cell_type": "markdown",
   "id": "suspected-sample",
   "metadata": {},
   "source": [
    "### Takeaways: \n",
    "* Rows missing between 33.33 and 70 percent of cols\n",
    "* Drop rows with less than half non_null cols\n",
    "* Treat the rest as a case by case"
   ]
  },
  {
   "cell_type": "markdown",
   "id": "cathedral-poster",
   "metadata": {},
   "source": [
    "# Prepare\n",
    "\n",
    "## Remove any properties that are likely to be something other than single unit properties. (e.g. no duplexes, no land/lot, ...). There are multiple ways to estimate that a property is a single unit, and there is not a single \"right\" answer. But for this exercise, do not purely filter by unitcnt as we did previously. Add some new logic that will reduce the number of properties that are falsely removed. You might want to use # bedrooms, square feet, unit type or the like to then identify those with unitcnt not defined."
   ]
  },
  {
   "cell_type": "code",
   "execution_count": 29,
   "id": "basic-contrast",
   "metadata": {},
   "outputs": [
    {
     "data": {
      "text/plain": [
       "Single Family Residential                     52320\n",
       "Condominium                                   19294\n",
       "Duplex (2 Units, Any Combination)              2009\n",
       "Planned Unit Development                       1944\n",
       "Quadruplex (4 Units, Any Combination)           727\n",
       "Triplex (3 Units, Any Combination)              535\n",
       "Cluster Home                                    333\n",
       "Mobile Home                                      74\n",
       "Manufactured, Modular, Prefabricated Homes       58\n",
       "Residential General                              37\n",
       "Cooperative                                      29\n",
       "Commercial/Office/Residential Mixed Used         15\n",
       "Townhouse                                         6\n",
       "Name: propertylandusedesc, dtype: int64"
      ]
     },
     "execution_count": 29,
     "metadata": {},
     "output_type": "execute_result"
    }
   ],
   "source": [
    "df.propertylandusedesc.value_counts()"
   ]
  },
  {
   "cell_type": "code",
   "execution_count": 30,
   "id": "constant-distance",
   "metadata": {},
   "outputs": [],
   "source": [
    "# remove rows based on propertylanduse\n",
    "df = df[(df.propertylandusedesc == 'Single Family Residential') |\n",
    "          (df.propertylandusedesc == 'Mobile Home') |\n",
    "          (df.propertylandusedesc == 'Manufactured, Modular, Prefabricated Homes') |\n",
    "          (df.propertylandusedesc == 'Townhouse')]"
   ]
  },
  {
   "cell_type": "code",
   "execution_count": 31,
   "id": "protective-hundred",
   "metadata": {},
   "outputs": [
    {
     "data": {
      "text/plain": [
       "(52458, 69)"
      ]
     },
     "execution_count": 31,
     "metadata": {},
     "output_type": "execute_result"
    }
   ],
   "source": [
    "df.shape"
   ]
  },
  {
   "cell_type": "code",
   "execution_count": 32,
   "id": "eastern-touch",
   "metadata": {},
   "outputs": [
    {
     "data": {
      "text/plain": [
       "<AxesSubplot:>"
      ]
     },
     "execution_count": 32,
     "metadata": {},
     "output_type": "execute_result"
    },
    {
     "data": {
      "image/png": "[encoded data removed]",
      "text/plain": [
       "<Figure size 432x288 with 1 Axes>"
      ]
     },
     "metadata": {
      "needs_background": "light"
     },
     "output_type": "display_data"
    }
   ],
   "source": [
    "# median area 2017: 2,400\n",
    "\n",
    "df.boxplot(column='calculatedfinishedsquarefeet')"
   ]
  },
  {
   "cell_type": "code",
   "execution_count": 33,
   "id": "blessed-wells",
   "metadata": {},
   "outputs": [
    {
     "data": {
      "text/plain": [
       "<AxesSubplot:>"
      ]
     },
     "execution_count": 33,
     "metadata": {},
     "output_type": "execute_result"
    },
    {
     "data": {
      "image/png": "[encoded data removed]",
      "text/plain": [
       "<Figure size 432x288 with 1 Axes>"
      ]
     },
     "metadata": {
      "needs_background": "light"
     },
     "output_type": "display_data"
    }
   ],
   "source": [
    "df.boxplot(column='bedroomcnt')"
   ]
  },
  {
   "cell_type": "code",
   "execution_count": 34,
   "id": "literary-cuisine",
   "metadata": {},
   "outputs": [
    {
     "data": {
      "text/plain": [
       "<AxesSubplot:>"
      ]
     },
     "execution_count": 34,
     "metadata": {},
     "output_type": "execute_result"
    },
    {
     "data": {
      "image/png": "[encoded data removed]",
      "text/plain": [
       "<Figure size 432x288 with 1 Axes>"
      ]
     },
     "metadata": {
      "needs_background": "light"
     },
     "output_type": "display_data"
    }
   ],
   "source": [
    "df.boxplot(column='bathroomcnt')"
   ]
  },
  {
   "cell_type": "code",
   "execution_count": 35,
   "id": "collective-citation",
   "metadata": {},
   "outputs": [],
   "source": [
    "def remove_outliers(df, k, col_list):\n",
    "    ''' remove outliers from a list of columns in a dataframe \n",
    "        and return that dataframe\n",
    "    '''\n",
    "    \n",
    "    for col in col_list:\n",
    "\n",
    "        q1, q3 = df[f'{col}'].quantile([.25, .75])  # get quartiles\n",
    "        \n",
    "        iqr = q3 - q1   # calculate interquartile range\n",
    "        \n",
    "        upper_bound = q3 + k * iqr   # get upper bound\n",
    "        lower_bound = q1 - k * iqr   # get lower bound\n",
    "\n",
    "        # return dataframe without outliers\n",
    "        \n",
    "        df = df[(df[f'{col}'] > lower_bound) & (df[f'{col}'] < upper_bound)]\n",
    "        \n",
    "    return df"
   ]
  },
  {
   "cell_type": "code",
   "execution_count": 36,
   "id": "stuffed-satin",
   "metadata": {},
   "outputs": [],
   "source": [
    "df = remove_outliers(df, 1.5, ['calculatedfinishedsquarefeet', 'bedroomcnt', 'bathroomcnt'])"
   ]
  },
  {
   "cell_type": "code",
   "execution_count": 37,
   "id": "lyric-baptist",
   "metadata": {},
   "outputs": [
    {
     "data": {
      "text/plain": [
       "(48330, 69)"
      ]
     },
     "execution_count": 37,
     "metadata": {},
     "output_type": "execute_result"
    }
   ],
   "source": [
    "df.shape"
   ]
  },
  {
   "cell_type": "markdown",
   "id": "geographic-paris",
   "metadata": {},
   "source": [
    "# Create a function that will drop rows or columns based on the percent of values that are missing: handle_missing_values(df, prop_required_column, prop_required_row).\n",
    "\n",
    "## The input:\n",
    "* A dataframe\n",
    "* A number between 0 and 1 that represents the proportion, for each column, of rows with non-missing values required to keep the column. i.e. if prop_required_column = .6, then you are requiring a column to have at least 60% of values not-NA (no more than 40% missing).\n",
    "* A number between 0 and 1 that represents the proportion, for each row, of columns/variables with non-missing values required to keep the row. For example, if prop_required_row = .75, then you are requiring a row to have at least 75% of variables with a non-missing value (no more that 25% missing).\n",
    "\n",
    "## The output:\n",
    "* The dataframe with the columns and rows dropped as indicated. Be sure to drop the columns prior to the rows in your function."
   ]
  },
  {
   "cell_type": "code",
   "execution_count": 38,
   "id": "continued-provincial",
   "metadata": {},
   "outputs": [],
   "source": [
    "# set test proportions\n",
    "prop_required_column = .5\n",
    "prop_required_row = .5"
   ]
  },
  {
   "cell_type": "code",
   "execution_count": 39,
   "id": "aboriginal-official",
   "metadata": {},
   "outputs": [
    {
     "data": {
      "text/plain": [
       "24165"
      ]
     },
     "execution_count": 39,
     "metadata": {},
     "output_type": "execute_result"
    }
   ],
   "source": [
    "int(round(prop_required_column*df.shape[0],0)) # get minimum acceptable nulls in each column"
   ]
  },
  {
   "cell_type": "code",
   "execution_count": 40,
   "id": "affected-talent",
   "metadata": {},
   "outputs": [],
   "source": [
    "# set as thresh\n",
    "\n",
    "col_thresh = int(round(prop_required_column*df.shape[0],0))"
   ]
  },
  {
   "cell_type": "code",
   "execution_count": 41,
   "id": "sharp-asbestos",
   "metadata": {},
   "outputs": [],
   "source": [
    "# drop columns based on threshold number\n",
    "df.dropna(axis=1, thresh=col_thresh, inplace=True)"
   ]
  },
  {
   "cell_type": "code",
   "execution_count": 42,
   "id": "transparent-campaign",
   "metadata": {},
   "outputs": [],
   "source": [
    "# same for rows \n",
    "\n",
    "row_thresh = int(round(prop_required_row*df.shape[1],0))"
   ]
  },
  {
   "cell_type": "code",
   "execution_count": 43,
   "id": "pressed-relationship",
   "metadata": {},
   "outputs": [],
   "source": [
    "df.dropna(axis=0, thresh=row_thresh, inplace=True)"
   ]
  },
  {
   "cell_type": "code",
   "execution_count": 44,
   "id": "nuclear-north",
   "metadata": {},
   "outputs": [
    {
     "data": {
      "text/plain": [
       "(48330, 35)"
      ]
     },
     "execution_count": 44,
     "metadata": {},
     "output_type": "execute_result"
    }
   ],
   "source": [
    "df.shape"
   ]
  },
  {
   "cell_type": "code",
   "execution_count": 45,
   "id": "proprietary-effects",
   "metadata": {},
   "outputs": [],
   "source": [
    "def handle_missing_values(df, prop_required_column = .5, prop_required_row = .5):\n",
    "    ''' \n",
    "        take in a dataframe and a proportion for columns and rows\n",
    "        return dataframe with columns and rows not meeting proportions dropped\n",
    "    '''\n",
    "    col_thresh = int(round(prop_required_column*df.shape[0],0)) # calc column threshold\n",
    "    \n",
    "    df.dropna(axis=1, thresh=col_thresh, inplace=True) # drop columns with non-nulls less than threshold\n",
    "    \n",
    "    row_thresh = int(round(prop_required_row*df.shape[1],0))  # calc row threshhold\n",
    "    \n",
    "    df.dropna(axis=0, thresh=row_thresh, inplace=True) # drop columns with non-nulls less than threshold\n",
    "    \n",
    "    return df"
   ]
  },
  {
   "cell_type": "markdown",
   "id": "polar-cattle",
   "metadata": {},
   "source": [
    "# Decide how to handle the remaining missing values:\n",
    "\n",
    "* Fill with constant value.\n",
    "* Impute with mean, median, mode.\n",
    "* Drop row/column"
   ]
  },
  {
   "cell_type": "code",
   "execution_count": 46,
   "id": "hundred-blowing",
   "metadata": {},
   "outputs": [
    {
     "data": {
      "text/plain": [
       "heatingorsystemtypeid         16769\n",
       "buildingqualitytypeid         16850\n",
       "calculatedbathnbr                14\n",
       "finishedsquarefeet12            154\n",
       "fullbathcnt                      14\n",
       "lotsizesquarefeet               257\n",
       "propertyzoningdesc            16861\n",
       "regionidcity                    901\n",
       "regionidzip                      18\n",
       "unitcnt                       16842\n",
       "yearbuilt                        24\n",
       "structuretaxvaluedollarcnt       61\n",
       "taxvaluedollarcnt                 1\n",
       "landtaxvaluedollarcnt             1\n",
       "taxamount                         4\n",
       "censustractandblock              82\n",
       "heatingorsystemdesc           16769\n",
       "dtype: int64"
      ]
     },
     "execution_count": 46,
     "metadata": {},
     "output_type": "execute_result"
    }
   ],
   "source": [
    "df.isnull().sum()[df.isnull().sum()>0] # look at cols with nulls"
   ]
  },
  {
   "cell_type": "code",
   "execution_count": 47,
   "id": "incoming-emergency",
   "metadata": {},
   "outputs": [
    {
     "data": {
      "text/plain": [
       "heatingorsystemtypeid    16769\n",
       "buildingqualitytypeid    16850\n",
       "propertyzoningdesc       16861\n",
       "unitcnt                  16842\n",
       "heatingorsystemdesc      16769\n",
       "dtype: int64"
      ]
     },
     "execution_count": 47,
     "metadata": {},
     "output_type": "execute_result"
    }
   ],
   "source": [
    "df.isnull().sum()[df.isnull().sum()>16000] # look at cols with large amounts of nulls"
   ]
  },
  {
   "cell_type": "code",
   "execution_count": 48,
   "id": "cooked-browser",
   "metadata": {},
   "outputs": [
    {
     "name": "stdout",
     "output_type": "stream",
     "text": [
      "heatingorsystemtypeid\n",
      "2.0     18900\n",
      "7.0     12078\n",
      "6.0       483\n",
      "20.0       68\n",
      "13.0       16\n",
      "1.0         7\n",
      "18.0        6\n",
      "10.0        2\n",
      "24.0        1\n",
      "Name: heatingorsystemtypeid, dtype: int64\n",
      "buildingqualitytypeid\n",
      "6.0     10156\n",
      "8.0      8078\n",
      "4.0      7958\n",
      "7.0      3009\n",
      "5.0      1286\n",
      "9.0       669\n",
      "11.0      152\n",
      "3.0       113\n",
      "10.0       45\n",
      "12.0        9\n",
      "1.0         4\n",
      "2.0         1\n",
      "Name: buildingqualitytypeid, dtype: int64\n",
      "propertyzoningdesc\n",
      "LAR1         6111\n",
      "LARS         1349\n",
      "LBR1N        1082\n",
      "SCUR2         699\n",
      "TORR-LO       529\n",
      "             ... \n",
      "SLR1A*          1\n",
      "SGCR*           1\n",
      "LNC4YY          1\n",
      "WHR175          1\n",
      "IRA15000*       1\n",
      "Name: propertyzoningdesc, Length: 1229, dtype: int64\n",
      "unitcnt\n",
      "1.0    31469\n",
      "2.0       18\n",
      "3.0        1\n",
      "Name: unitcnt, dtype: int64\n",
      "heatingorsystemdesc\n",
      "Central       18900\n",
      "Floor/Wall    12078\n",
      "Forced air      483\n",
      "Solar            68\n",
      "None             16\n",
      "Baseboard         7\n",
      "Radiant           6\n",
      "Gravity           2\n",
      "Yes               1\n",
      "Name: heatingorsystemdesc, dtype: int64\n"
     ]
    }
   ],
   "source": [
    "# value counts for cals with large amounts of nulls\n",
    "for col in ['heatingorsystemtypeid', 'buildingqualitytypeid', 'propertyzoningdesc', 'unitcnt', 'heatingorsystemdesc']:\n",
    "    \n",
    "    print(col)\n",
    "    print(df[col].value_counts())"
   ]
  },
  {
   "cell_type": "code",
   "execution_count": 49,
   "id": "drawn-portal",
   "metadata": {},
   "outputs": [],
   "source": [
    "# dropping the columns with 16K missing values too much to fill/impute/drop rows\n",
    "\n",
    "df = df.drop(columns=['heatingorsystemtypeid', 'buildingqualitytypeid', 'propertyzoningdesc', 'unitcnt', 'heatingorsystemdesc'])"
   ]
  },
  {
   "cell_type": "code",
   "execution_count": 50,
   "id": "social-factor",
   "metadata": {},
   "outputs": [
    {
     "data": {
      "text/plain": [
       "(48330, 30)"
      ]
     },
     "execution_count": 50,
     "metadata": {},
     "output_type": "execute_result"
    }
   ],
   "source": [
    "df.shape"
   ]
  },
  {
   "cell_type": "code",
   "execution_count": 51,
   "id": "united-campus",
   "metadata": {},
   "outputs": [
    {
     "data": {
      "text/plain": [
       "calculatedbathnbr              14\n",
       "finishedsquarefeet12          154\n",
       "fullbathcnt                    14\n",
       "lotsizesquarefeet             257\n",
       "regionidcity                  901\n",
       "regionidzip                    18\n",
       "yearbuilt                      24\n",
       "structuretaxvaluedollarcnt     61\n",
       "taxvaluedollarcnt               1\n",
       "landtaxvaluedollarcnt           1\n",
       "taxamount                       4\n",
       "censustractandblock            82\n",
       "dtype: int64"
      ]
     },
     "execution_count": 51,
     "metadata": {},
     "output_type": "execute_result"
    }
   ],
   "source": [
    "df.isnull().sum()[df.isnull().sum()>0] # look at remaining nulls"
   ]
  },
  {
   "cell_type": "code",
   "execution_count": 52,
   "id": "hairy-publication",
   "metadata": {},
   "outputs": [
    {
     "name": "stdout",
     "output_type": "stream",
     "text": [
      "calculatedbathnbr\n",
      "2.0    21800\n",
      "3.0    10356\n",
      "1.0     8979\n",
      "2.5     3900\n",
      "4.0     1689\n",
      "1.5      831\n",
      "3.5      761\n",
      "Name: calculatedbathnbr, dtype: int64\n",
      "\n",
      "fullbathcnt\n",
      "2.0    25711\n",
      "3.0    11118\n",
      "1.0     9810\n",
      "4.0     1677\n",
      "Name: fullbathcnt, dtype: int64\n",
      "\n",
      "regionidcity\n",
      "12447.0    10369\n",
      "5534.0      1743\n",
      "40227.0     1460\n",
      "46298.0     1362\n",
      "16764.0     1037\n",
      "           ...  \n",
      "31134.0        2\n",
      "53162.0        1\n",
      "10815.0        1\n",
      "21395.0        1\n",
      "36078.0        1\n",
      "Name: regionidcity, Length: 175, dtype: int64\n",
      "\n",
      "regionidzip\n",
      "97319.0    742\n",
      "97318.0    663\n",
      "97329.0    542\n",
      "97328.0    515\n",
      "97118.0    460\n",
      "          ... \n",
      "96434.0      2\n",
      "96148.0      1\n",
      "97092.0      1\n",
      "96038.0      1\n",
      "96467.0      1\n",
      "Name: regionidzip, Length: 378, dtype: int64\n",
      "\n",
      "yearbuilt\n",
      "1955.0    1856\n",
      "1950.0    1554\n",
      "1954.0    1476\n",
      "1953.0    1451\n",
      "1956.0    1356\n",
      "          ... \n",
      "1897.0       1\n",
      "1878.0       1\n",
      "1889.0       1\n",
      "1880.0       1\n",
      "1882.0       1\n",
      "Name: yearbuilt, Length: 132, dtype: int64\n",
      "\n",
      "censustractandblock\n",
      "6.037920e+13    32\n",
      "6.059032e+13    21\n",
      "6.037901e+13    20\n",
      "6.037920e+13    20\n",
      "6.059032e+13    20\n",
      "                ..\n",
      "6.059042e+13     1\n",
      "6.037464e+13     1\n",
      "6.037552e+13     1\n",
      "6.037602e+13     1\n",
      "6.037297e+13     1\n",
      "Name: censustractandblock, Length: 29909, dtype: int64\n",
      "\n"
     ]
    }
   ],
   "source": [
    "# value counts for remaining cols that are descreet\n",
    "\n",
    "for col in ['calculatedbathnbr', 'fullbathcnt', 'regionidcity', 'regionidzip', 'yearbuilt', 'censustractandblock']:\n",
    "    \n",
    "    print(col)\n",
    "    print(df[col].value_counts())\n",
    "    print()"
   ]
  },
  {
   "cell_type": "code",
   "execution_count": 53,
   "id": "comfortable-sleeping",
   "metadata": {},
   "outputs": [],
   "source": [
    "# impute columns *do this after you split*\n",
    "\n",
    "def impute(df, my_strategy, column_list):\n",
    "    ''' take in a df, strategy, and cloumn list\n",
    "        return df with listed columns imputed using input stratagy\n",
    "    '''\n",
    "        \n",
    "    imputer = SimpleImputer(strategy=my_strategy)  # build imputer\n",
    "\n",
    "    df[column_list] = imputer.fit_transform(df[column_list]) # fit/transform selected columns\n",
    "\n",
    "    return df"
   ]
  },
  {
   "cell_type": "code",
   "execution_count": 54,
   "id": "understanding-announcement",
   "metadata": {},
   "outputs": [],
   "source": [
    "df = impute(df, 'most_frequent', ['calculatedbathnbr', 'fullbathcnt', 'regionidcity', 'regionidzip', 'yearbuilt', 'censustractandblock'])"
   ]
  },
  {
   "cell_type": "code",
   "execution_count": 55,
   "id": "muslim-general",
   "metadata": {},
   "outputs": [
    {
     "data": {
      "text/plain": [
       "finishedsquarefeet12          154\n",
       "lotsizesquarefeet             257\n",
       "structuretaxvaluedollarcnt     61\n",
       "taxvaluedollarcnt               1\n",
       "landtaxvaluedollarcnt           1\n",
       "taxamount                       4\n",
       "dtype: int64"
      ]
     },
     "execution_count": 55,
     "metadata": {},
     "output_type": "execute_result"
    }
   ],
   "source": [
    "df.isnull().sum()[df.isnull().sum()>0] # look at remaining nulls"
   ]
  },
  {
   "cell_type": "code",
   "execution_count": 56,
   "id": "injured-insurance",
   "metadata": {},
   "outputs": [],
   "source": [
    "df = impute(df, 'median', ['finishedsquarefeet12', 'lotsizesquarefeet', 'structuretaxvaluedollarcnt', 'taxvaluedollarcnt', 'landtaxvaluedollarcnt', 'taxamount'])"
   ]
  },
  {
   "cell_type": "code",
   "execution_count": 57,
   "id": "scheduled-viewer",
   "metadata": {},
   "outputs": [
    {
     "data": {
      "text/plain": [
       "propertylandusetypeid           0\n",
       "parcelid                        0\n",
       "id                              0\n",
       "logerror                        0\n",
       "transactiondate                 0\n",
       "id.1                            0\n",
       "bathroomcnt                     0\n",
       "bedroomcnt                      0\n",
       "calculatedbathnbr               0\n",
       "calculatedfinishedsquarefeet    0\n",
       "finishedsquarefeet12            0\n",
       "fips                            0\n",
       "fullbathcnt                     0\n",
       "latitude                        0\n",
       "longitude                       0\n",
       "lotsizesquarefeet               0\n",
       "propertycountylandusecode       0\n",
       "rawcensustractandblock          0\n",
       "regionidcity                    0\n",
       "regionidcounty                  0\n",
       "regionidzip                     0\n",
       "roomcnt                         0\n",
       "yearbuilt                       0\n",
       "structuretaxvaluedollarcnt      0\n",
       "taxvaluedollarcnt               0\n",
       "assessmentyear                  0\n",
       "landtaxvaluedollarcnt           0\n",
       "taxamount                       0\n",
       "censustractandblock             0\n",
       "propertylandusedesc             0\n",
       "dtype: int64"
      ]
     },
     "execution_count": 57,
     "metadata": {},
     "output_type": "execute_result"
    }
   ],
   "source": [
    "df.isnull().sum()"
   ]
  },
  {
   "cell_type": "markdown",
   "id": "third-parking",
   "metadata": {},
   "source": [
    "# wrangle_zillow"
   ]
  },
  {
   "cell_type": "code",
   "execution_count": 58,
   "id": "surprised-research",
   "metadata": {},
   "outputs": [],
   "source": [
    "###############acquire#################\n",
    "\n",
    "\n",
    "def get_connection(database, user=user, host=host, password=password):\n",
    "    '''get URL with user, host, and password from env '''\n",
    "    \n",
    "    return f\"mysql+pymysql://{user}:{password}@{host}/{database}\"\n",
    "    \n",
    "    \n",
    "def cache_sql_data(df, database):\n",
    "    '''write dataframe to csv with title database_query.csv'''\n",
    "    \n",
    "    df.to_csv(f'{database}_query.csv',index = False)\n",
    "        \n",
    "\n",
    "def get_sql_data(database,query):\n",
    "    ''' check if csv exists for the queried database\n",
    "        if it does read from the csv\n",
    "        if it does not create the csv then read from the csv  \n",
    "    '''\n",
    "    \n",
    "    if os.path.isfile(f'{database}_query.csv') == False:   # check for the file\n",
    "        \n",
    "        df = pd.read_sql(query, get_connection(database))  # create file \n",
    "        \n",
    "        cache_sql_data(df, database) # cache file\n",
    "        \n",
    "    return pd.read_csv(f'{database}_query.csv') # return contents of file\n",
    "\n",
    "\n",
    "def get_zillow_data():\n",
    "    ''' acquire zillow data'''\n",
    "    \n",
    "    query = '''\n",
    "\n",
    "    select * \n",
    "    from predictions_2017\n",
    "\n",
    "    left join properties_2017 using(parcelid)\n",
    "    left join airconditioningtype using(airconditioningtypeid)\n",
    "    left join architecturalstyletype using(architecturalstyletypeid)\n",
    "    left join buildingclasstype using(buildingclasstypeid)\n",
    "    left join heatingorsystemtype using(heatingorsystemtypeid)\n",
    "    left join propertylandusetype using(propertylandusetypeid)\n",
    "    left join storytype using(storytypeid)\n",
    "    left join typeconstructiontype using(typeconstructiontypeid)\n",
    "\n",
    "    where latitude is not null\n",
    "\n",
    "    and longitude is not null\n",
    "\n",
    "    '''\n",
    "\n",
    "    database = \"zillow\"\n",
    "    \n",
    "    df = get_sql_data(database,query) # create/read csv for query\n",
    "    \n",
    "    df = df.sort_values('transactiondate').drop_duplicates('parcelid',keep='last') # drop duplicate parcelids keeping the latest\n",
    "    \n",
    "    return df \n",
    "\n",
    "#################################prepare###############################\n",
    "\n",
    "def remove_outliers(df, k, col_list):\n",
    "    ''' remove outliers from a list of columns in a dataframe \n",
    "        and return that dataframe\n",
    "    '''\n",
    "    \n",
    "    for col in col_list:\n",
    "\n",
    "        q1, q3 = df[f'{col}'].quantile([.25, .75])  # get quartiles\n",
    "        \n",
    "        iqr = q3 - q1   # calculate interquartile range\n",
    "        \n",
    "        upper_bound = q3 + k * iqr   # get upper bound\n",
    "        lower_bound = q1 - k * iqr   # get lower bound\n",
    "\n",
    "        # return dataframe without outliers\n",
    "        \n",
    "        return df[(df[f'{col}'] > lower_bound) & (df[f'{col}'] < upper_bound)]  \n",
    "    \n",
    "\n",
    "def handle_missing_values(df, prop_required_column = .5, prop_required_row = .5):\n",
    "    ''' \n",
    "        take in a dataframe and a proportion for columns and rows\n",
    "        return dataframe with columns and rows not meeting proportions dropped\n",
    "    '''\n",
    "    col_thresh = int(round(prop_required_column*df.shape[0],0)) # calc column threshold\n",
    "    \n",
    "    df.dropna(axis=1, thresh=col_thresh, inplace=True) # drop columns with non-nulls less than threshold\n",
    "    \n",
    "    row_thresh = int(round(prop_required_row*df.shape[1],0))  # calc row threshhold\n",
    "    \n",
    "    df.dropna(axis=0, thresh=row_thresh, inplace=True) # drop columns with non-nulls less than threshold\n",
    "    \n",
    "    return df    \n",
    "    \n",
    "    \n",
    "def impute(df, my_strategy, column_list):\n",
    "    ''' take in a df strategy and cloumn list\n",
    "        return df with listed columns imputed using input stratagy\n",
    "    '''\n",
    "        \n",
    "    imputer = SimpleImputer(strategy=my_strategy)  # build imputer\n",
    "\n",
    "    df[column_list] = imputer.fit_transform(df[column_list]) # fit/transform selected columns\n",
    "\n",
    "    return df\n",
    "\n",
    "def prepare_zillow(df):\n",
    "    ''' Prepare Zillow Data'''\n",
    "    \n",
    "    # Restrict propertylandusedesc to those of single unit\n",
    "    df = df[(df.propertylandusedesc == 'Single Family Residential') |\n",
    "          (df.propertylandusedesc == 'Mobile Home') |\n",
    "          (df.propertylandusedesc == 'Manufactured, Modular, Prefabricated Homes') |\n",
    "          (df.propertylandusedesc == 'Townhouse')]\n",
    "    \n",
    "    # remove outliers in bed count, bath count, and area to better target single unit properties\n",
    "    df = remove_outliers(df, 1.5, ['calculatedfinishedsquarefeet', 'bedroomcnt', 'bathroomcnt'])\n",
    "    \n",
    "    # dropping cols/rows where more than half of the values are null\n",
    "    df = handle_missing_values(df, prop_required_column = .5, prop_required_row = .5)\n",
    "    \n",
    "    # dropping the columns with 17K missing values too much to fill/impute/drop rows\n",
    "    df = df.drop(columns=['heatingorsystemtypeid', 'buildingqualitytypeid', 'propertyzoningdesc', 'unitcnt', 'heatingorsystemdesc'])\n",
    "    \n",
    "    # imputing descreet columns with most frequent value\n",
    "    df = impute(df, 'most_frequent', ['calculatedbathnbr', 'fullbathcnt', 'regionidcity', 'regionidzip', 'yearbuilt', 'censustractandblock'])\n",
    "    \n",
    "    # imputing continuous columns with median value\n",
    "    df = impute(df, 'median', ['finishedsquarefeet12', 'lotsizesquarefeet', 'structuretaxvaluedollarcnt', 'taxvaluedollarcnt', 'landtaxvaluedollarcnt', 'taxamount'])\n",
    "    \n",
    "    return df"
   ]
  },
  {
   "cell_type": "code",
   "execution_count": 59,
   "id": "received-stylus",
   "metadata": {},
   "outputs": [
    {
     "data": {
      "text/html": [
       "<div>\n",
       "<style scoped>\n",
       "    .dataframe tbody tr th:only-of-type {\n",
       "        vertical-align: middle;\n",
       "    }\n",
       "\n",
       "    .dataframe tbody tr th {\n",
       "        vertical-align: top;\n",
       "    }\n",
       "\n",
       "    .dataframe thead th {\n",
       "        text-align: right;\n",
       "    }\n",
       "</style>\n",
       "<table border=\"1\" class=\"dataframe\">\n",
       "  <thead>\n",
       "    <tr style=\"text-align: right;\">\n",
       "      <th></th>\n",
       "      <th>propertylandusetypeid</th>\n",
       "      <th>parcelid</th>\n",
       "      <th>id</th>\n",
       "      <th>logerror</th>\n",
       "      <th>transactiondate</th>\n",
       "      <th>id.1</th>\n",
       "      <th>bathroomcnt</th>\n",
       "      <th>bedroomcnt</th>\n",
       "      <th>calculatedbathnbr</th>\n",
       "      <th>calculatedfinishedsquarefeet</th>\n",
       "      <th>...</th>\n",
       "      <th>regionidzip</th>\n",
       "      <th>roomcnt</th>\n",
       "      <th>yearbuilt</th>\n",
       "      <th>structuretaxvaluedollarcnt</th>\n",
       "      <th>taxvaluedollarcnt</th>\n",
       "      <th>assessmentyear</th>\n",
       "      <th>landtaxvaluedollarcnt</th>\n",
       "      <th>taxamount</th>\n",
       "      <th>censustractandblock</th>\n",
       "      <th>propertylandusedesc</th>\n",
       "    </tr>\n",
       "  </thead>\n",
       "  <tbody>\n",
       "    <tr>\n",
       "      <th>0</th>\n",
       "      <td>261.0</td>\n",
       "      <td>14297519</td>\n",
       "      <td>0</td>\n",
       "      <td>0.025595</td>\n",
       "      <td>2017-01-01</td>\n",
       "      <td>1727539</td>\n",
       "      <td>3.5</td>\n",
       "      <td>4.0</td>\n",
       "      <td>3.5</td>\n",
       "      <td>3100.0</td>\n",
       "      <td>...</td>\n",
       "      <td>96978.0</td>\n",
       "      <td>0.0</td>\n",
       "      <td>1998.0</td>\n",
       "      <td>485713.0</td>\n",
       "      <td>1023282.0</td>\n",
       "      <td>2016.0</td>\n",
       "      <td>537569.0</td>\n",
       "      <td>11013.72</td>\n",
       "      <td>6.059063e+13</td>\n",
       "      <td>Single Family Residential</td>\n",
       "    </tr>\n",
       "    <tr>\n",
       "      <th>1</th>\n",
       "      <td>261.0</td>\n",
       "      <td>17052889</td>\n",
       "      <td>1</td>\n",
       "      <td>0.055619</td>\n",
       "      <td>2017-01-01</td>\n",
       "      <td>1387261</td>\n",
       "      <td>1.0</td>\n",
       "      <td>2.0</td>\n",
       "      <td>1.0</td>\n",
       "      <td>1465.0</td>\n",
       "      <td>...</td>\n",
       "      <td>97099.0</td>\n",
       "      <td>5.0</td>\n",
       "      <td>1967.0</td>\n",
       "      <td>88000.0</td>\n",
       "      <td>464000.0</td>\n",
       "      <td>2016.0</td>\n",
       "      <td>376000.0</td>\n",
       "      <td>5672.48</td>\n",
       "      <td>6.111001e+13</td>\n",
       "      <td>Single Family Residential</td>\n",
       "    </tr>\n",
       "    <tr>\n",
       "      <th>2</th>\n",
       "      <td>261.0</td>\n",
       "      <td>14186244</td>\n",
       "      <td>2</td>\n",
       "      <td>0.005383</td>\n",
       "      <td>2017-01-01</td>\n",
       "      <td>11677</td>\n",
       "      <td>2.0</td>\n",
       "      <td>3.0</td>\n",
       "      <td>2.0</td>\n",
       "      <td>1243.0</td>\n",
       "      <td>...</td>\n",
       "      <td>97078.0</td>\n",
       "      <td>6.0</td>\n",
       "      <td>1962.0</td>\n",
       "      <td>85289.0</td>\n",
       "      <td>564778.0</td>\n",
       "      <td>2016.0</td>\n",
       "      <td>479489.0</td>\n",
       "      <td>6488.30</td>\n",
       "      <td>6.059022e+13</td>\n",
       "      <td>Single Family Residential</td>\n",
       "    </tr>\n",
       "    <tr>\n",
       "      <th>3</th>\n",
       "      <td>261.0</td>\n",
       "      <td>12177905</td>\n",
       "      <td>3</td>\n",
       "      <td>-0.103410</td>\n",
       "      <td>2017-01-01</td>\n",
       "      <td>2288172</td>\n",
       "      <td>3.0</td>\n",
       "      <td>4.0</td>\n",
       "      <td>3.0</td>\n",
       "      <td>2376.0</td>\n",
       "      <td>...</td>\n",
       "      <td>96330.0</td>\n",
       "      <td>0.0</td>\n",
       "      <td>1970.0</td>\n",
       "      <td>108918.0</td>\n",
       "      <td>145143.0</td>\n",
       "      <td>2016.0</td>\n",
       "      <td>36225.0</td>\n",
       "      <td>1777.51</td>\n",
       "      <td>6.037300e+13</td>\n",
       "      <td>Single Family Residential</td>\n",
       "    </tr>\n",
       "    <tr>\n",
       "      <th>6</th>\n",
       "      <td>261.0</td>\n",
       "      <td>12095076</td>\n",
       "      <td>6</td>\n",
       "      <td>-0.001011</td>\n",
       "      <td>2017-01-01</td>\n",
       "      <td>781532</td>\n",
       "      <td>3.0</td>\n",
       "      <td>4.0</td>\n",
       "      <td>3.0</td>\n",
       "      <td>2962.0</td>\n",
       "      <td>...</td>\n",
       "      <td>96293.0</td>\n",
       "      <td>0.0</td>\n",
       "      <td>1950.0</td>\n",
       "      <td>276684.0</td>\n",
       "      <td>773303.0</td>\n",
       "      <td>2016.0</td>\n",
       "      <td>496619.0</td>\n",
       "      <td>9516.26</td>\n",
       "      <td>6.037461e+13</td>\n",
       "      <td>Single Family Residential</td>\n",
       "    </tr>\n",
       "  </tbody>\n",
       "</table>\n",
       "<p>5 rows × 30 columns</p>\n",
       "</div>"
      ],
      "text/plain": [
       "   propertylandusetypeid  parcelid  id  logerror transactiondate     id.1  \\\n",
       "0                  261.0  14297519   0  0.025595      2017-01-01  1727539   \n",
       "1                  261.0  17052889   1  0.055619      2017-01-01  1387261   \n",
       "2                  261.0  14186244   2  0.005383      2017-01-01    11677   \n",
       "3                  261.0  12177905   3 -0.103410      2017-01-01  2288172   \n",
       "6                  261.0  12095076   6 -0.001011      2017-01-01   781532   \n",
       "\n",
       "   bathroomcnt  bedroomcnt  calculatedbathnbr  calculatedfinishedsquarefeet  \\\n",
       "0          3.5         4.0                3.5                        3100.0   \n",
       "1          1.0         2.0                1.0                        1465.0   \n",
       "2          2.0         3.0                2.0                        1243.0   \n",
       "3          3.0         4.0                3.0                        2376.0   \n",
       "6          3.0         4.0                3.0                        2962.0   \n",
       "\n",
       "   ...  regionidzip  roomcnt  yearbuilt  structuretaxvaluedollarcnt  \\\n",
       "0  ...      96978.0      0.0     1998.0                    485713.0   \n",
       "1  ...      97099.0      5.0     1967.0                     88000.0   \n",
       "2  ...      97078.0      6.0     1962.0                     85289.0   \n",
       "3  ...      96330.0      0.0     1970.0                    108918.0   \n",
       "6  ...      96293.0      0.0     1950.0                    276684.0   \n",
       "\n",
       "   taxvaluedollarcnt  assessmentyear landtaxvaluedollarcnt  taxamount  \\\n",
       "0          1023282.0          2016.0              537569.0   11013.72   \n",
       "1           464000.0          2016.0              376000.0    5672.48   \n",
       "2           564778.0          2016.0              479489.0    6488.30   \n",
       "3           145143.0          2016.0               36225.0    1777.51   \n",
       "6           773303.0          2016.0              496619.0    9516.26   \n",
       "\n",
       "   censustractandblock        propertylandusedesc  \n",
       "0         6.059063e+13  Single Family Residential  \n",
       "1         6.111001e+13  Single Family Residential  \n",
       "2         6.059022e+13  Single Family Residential  \n",
       "3         6.037300e+13  Single Family Residential  \n",
       "6         6.037461e+13  Single Family Residential  \n",
       "\n",
       "[5 rows x 30 columns]"
      ]
     },
     "execution_count": 59,
     "metadata": {},
     "output_type": "execute_result"
    }
   ],
   "source": [
    "df = prepare_zillow(get_zillow_data())\n",
    "df.head()"
   ]
  },
  {
   "cell_type": "code",
   "execution_count": null,
   "id": "major-toner",
   "metadata": {},
   "outputs": [],
   "source": []
  }
 ],
 "metadata": {
  "kernelspec": {
   "display_name": "Python 3",
   "language": "python",
   "name": "python3"
  },
  "language_info": {
   "codemirror_mode": {
    "name": "ipython",
    "version": 3
   },
   "file_extension": ".py",
   "mimetype": "text/x-python",
   "name": "python",
   "nbconvert_exporter": "python",
   "pygments_lexer": "ipython3",
   "version": "3.7.4"
  }
 },
 "nbformat": 4,
 "nbformat_minor": 5
}
