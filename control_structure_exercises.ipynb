{
 "cells": [
  {
   "cell_type": "markdown",
   "id": "designing-cabin",
   "metadata": {},
   "source": [
    "# Task 1 Control Basics\n",
    "\n",
    "### A) prompt the user for a day of the week, print out whether the day is Monday or not"
   ]
  },
  {
   "cell_type": "code",
   "execution_count": null,
   "id": "honey-arrow",
   "metadata": {},
   "outputs": [],
   "source": [
    "day = input(\"What day of the week is it?   \")"
   ]
  },
  {
   "cell_type": "code",
   "execution_count": null,
   "id": "linear-theater",
   "metadata": {},
   "outputs": [],
   "source": [
    "if day.lower() == \"monday\":\n",
    "    \n",
    "    print(\"Today is monday\")\n",
    "    \n",
    "else:\n",
    "    \n",
    "    print(\"Today is not monday\")"
   ]
  },
  {
   "cell_type": "markdown",
   "id": "enhanced-novel",
   "metadata": {},
   "source": [
    "### B) Prompt the user for a day of the week, print out whether the day is a weekday or a weekend"
   ]
  },
  {
   "cell_type": "code",
   "execution_count": null,
   "id": "second-surfing",
   "metadata": {},
   "outputs": [],
   "source": [
    "print(\"What day of the week is it?\")\n",
    "day = input()\n",
    "\n",
    "if day.lower() in (\"monday\", \"tuseday\", \"wednesday\", \"thursday\", \"friday\"):\n",
    "    \n",
    "    print(\"Today is a weekday!\")\n",
    "    \n",
    "elif day.lower() in (\"saturday\", \"sunday\"):\n",
    "    \n",
    "    print(\"Today is a weekend!\")\n",
    "    \n",
    "else:\n",
    "    \n",
    "    print()\n",
    "    print(f\"{day} is not a day of the week!\")"
   ]
  },
  {
   "cell_type": "markdown",
   "id": "hispanic-coast",
   "metadata": {},
   "source": [
    "### C) create variables and make up values for\n",
    "\n",
    "* the number of hours worked in one week\n",
    "* the hourly rate\n",
    "* how much the week's paycheck will be\n",
    "* write the python code that calculates the weekly paycheck. You get paid time and a half if you work more than 40 hours"
   ]
  },
  {
   "cell_type": "code",
   "execution_count": null,
   "id": "veterinary-manner",
   "metadata": {},
   "outputs": [],
   "source": [
    "hours_this_week = 50\n",
    "hourly_rate = 10\n",
    "\n",
    "# if no overtime, pay = hours_this_week * hourly_rate\n",
    "# if overtime, pay = (40 * hourly_rate) + overtime\n",
    "\n",
    "# overtime = (hours_this_week - 40) * (hourly_rate + (hourly_rate * 1.5))\n",
    "\n",
    "if hours_this_week <= 40:\n",
    "    \n",
    "    pay = hours_this_week * hourly_rate \n",
    "\n",
    "if hours_this_week > 40:\n",
    "    \n",
    "    overtime = (hours_this_week - 40) * (hourly_rate * 1.5)\n",
    "    \n",
    "    pay = (40 * hourly_rate) + overtime\n",
    "\n",
    "print(f\"Total Wages: {pay}\")"
   ]
  },
  {
   "cell_type": "markdown",
   "id": "involved-saying",
   "metadata": {},
   "source": [
    "# Task 2 Loop Basics\n",
    "\n",
    "### A) While\n",
    "\n",
    "* Create an integer variable i with a value of 5.\n",
    "* Create a while loop that runs so long as i is less than or equal to 15\n",
    "* Each loop iteration, output the current value of i, then increment i by one."
   ]
  },
  {
   "cell_type": "code",
   "execution_count": null,
   "id": "public-handle",
   "metadata": {},
   "outputs": [],
   "source": [
    "i = 5\n",
    "\n",
    "while i <= 15:\n",
    "    \n",
    "    print(i)\n",
    "    \n",
    "    i += 1"
   ]
  },
  {
   "cell_type": "markdown",
   "id": "parliamentary-senator",
   "metadata": {},
   "source": [
    "* Create a while loop that will count by 2's starting with 0 and ending at 100. Follow each number with a new line."
   ]
  },
  {
   "cell_type": "code",
   "execution_count": null,
   "id": "restricted-intention",
   "metadata": {},
   "outputs": [],
   "source": [
    "i = 0\n",
    "\n",
    "while i < 100:\n",
    "    \n",
    "    i += 2\n",
    "    \n",
    "    print(i)"
   ]
  },
  {
   "cell_type": "markdown",
   "id": "brown-central",
   "metadata": {},
   "source": [
    "* Alter your loop to count backwards by 5's from 100 to -10."
   ]
  },
  {
   "cell_type": "code",
   "execution_count": null,
   "id": "perfect-hepatitis",
   "metadata": {},
   "outputs": [],
   "source": [
    "i = 100\n",
    "\n",
    "while True:\n",
    "    \n",
    "    print(i)\n",
    "    \n",
    "    i -= 5\n",
    "    \n",
    "    if i == -10:\n",
    "        \n",
    "        print(i)\n",
    "        \n",
    "        break"
   ]
  },
  {
   "cell_type": "markdown",
   "id": "wicked-direction",
   "metadata": {},
   "source": [
    "* Create a while loop that starts at 2, and displays the number squared on each line while the number is less than 1,000,000. Output should equal:"
   ]
  },
  {
   "cell_type": "code",
   "execution_count": null,
   "id": "cutting-washer",
   "metadata": {},
   "outputs": [],
   "source": [
    "i = 2\n",
    "\n",
    "while i < 1000000:\n",
    "    \n",
    "    print(i)\n",
    "    \n",
    "    i *= i"
   ]
  },
  {
   "cell_type": "markdown",
   "id": "fifteen-driving",
   "metadata": {},
   "source": [
    "* Write a loop that uses print to create the output shown below.\n",
    "\n",
    "* begin at 500 \n",
    "* count down by 5's \n",
    "* end at 5"
   ]
  },
  {
   "cell_type": "code",
   "execution_count": null,
   "id": "collected-gateway",
   "metadata": {},
   "outputs": [],
   "source": [
    "i = 100\n",
    "\n",
    "while True:\n",
    "    \n",
    "    print(i)\n",
    "    \n",
    "    if i > 5:\n",
    "        \n",
    "        i -= 5\n",
    "        \n",
    "    else:\n",
    "        \n",
    "        break"
   ]
  },
  {
   "cell_type": "markdown",
   "id": "efficient-quick",
   "metadata": {},
   "source": [
    "### B) For Loops\n",
    "\n",
    "* Write some code that prompts the user for a number, then shows a multiplication table up through 10 for that number."
   ]
  },
  {
   "cell_type": "code",
   "execution_count": null,
   "id": "mental-parliament",
   "metadata": {},
   "outputs": [],
   "source": [
    "# prompt user for a number\n",
    "# loop through the list of table numbers\n",
    "# for each generate a table equation and print results"
   ]
  },
  {
   "cell_type": "code",
   "execution_count": null,
   "id": "expensive-importance",
   "metadata": {},
   "outputs": [],
   "source": [
    "# prompt user for a number\n",
    "print(\"Give me a number!\")\n",
    "\n",
    "input_number = input()"
   ]
  },
  {
   "cell_type": "code",
   "execution_count": null,
   "id": "floating-observer",
   "metadata": {},
   "outputs": [],
   "source": [
    "# loop through the list of table numbers\n",
    "# for each generate a table equation and print results\n",
    "\n",
    "for tab_num in range(1,11):\n",
    "    \n",
    "    print(f\"{input_number} X {tab_num} = {input_number * tab_num}\") # input numbers are interpreted as strings"
   ]
  },
  {
   "cell_type": "code",
   "execution_count": null,
   "id": "vertical-partition",
   "metadata": {},
   "outputs": [],
   "source": [
    "# loop through the list of table numbers\n",
    "# for each generate a table equation and print results\n",
    "\n",
    "for tab_num in range(1,11):\n",
    "    \n",
    "    print(f\"{input_number} X {tab_num} = {int(input_number) * tab_num}\") # Fix data types by wrapping in desired type"
   ]
  },
  {
   "cell_type": "code",
   "execution_count": null,
   "id": "liberal-slovakia",
   "metadata": {},
   "outputs": [],
   "source": [
    "print(\"Give me a number!\")\n",
    "\n",
    "input_number = input()\n",
    "\n",
    "print() # adds a new line\n",
    "\n",
    "for tab_num in range(1,11):\n",
    "    \n",
    "    print(f\"{input_number} X {tab_num} = {int(input_number) * tab_num}\")"
   ]
  },
  {
   "cell_type": "markdown",
   "id": "meaning-stewart",
   "metadata": {},
   "source": [
    "* Create a for loop that uses print to create A repeating number pyramid though the number 9"
   ]
  },
  {
   "cell_type": "code",
   "execution_count": null,
   "id": "trying-description",
   "metadata": {},
   "outputs": [],
   "source": [
    "# loop through 1-9\n",
    "# for each print the number that number of times\n",
    "\n",
    "for r in range(1,10):\n",
    "    \n",
    "    print(str(r) * r) "
   ]
  },
  {
   "cell_type": "markdown",
   "id": "social-block",
   "metadata": {},
   "source": [
    "* Prompt the user for an odd number between 1 and 50. Use a loop and a break statement to continue prompting the user if they enter invalid input. (Hint: use the isdigit method on strings to determine this). Use a loop and the continue statement to output all the odd numbers between 1 and 50, except for the number the user entered."
   ]
  },
  {
   "cell_type": "code",
   "execution_count": null,
   "id": "plastic-anger",
   "metadata": {},
   "outputs": [],
   "source": [
    "# begin while loop\n",
    "# propt user for number\n",
    "# if number is valid break the loop\n",
    "# if not display error and restart loop\n",
    "# valid means numeric, odd, and between 1 and 50\n",
    "\n",
    "# loop through odd number between 1 and 50\n",
    "# print each non-selected number with message \n",
    "# selected number should read yikes skipping"
   ]
  },
  {
   "cell_type": "code",
   "execution_count": null,
   "id": "completed-library",
   "metadata": {},
   "outputs": [],
   "source": [
    "while True:\n",
    "    \n",
    "    # prompt user for a number\n",
    "    print(\"Enter a whole odd number between 1 and 50\")\n",
    "    pick = input()\n",
    "    \n",
    "    # check is a whole positive number\n",
    "    if pick.isnumeric() == False:        \n",
    "        \n",
    "        print()\n",
    "        print(\"Please enter a WHOLE NUMBER!\")\n",
    "        print()\n",
    "        \n",
    "        continue\n",
    "        \n",
    "    else:\n",
    "        \n",
    "        pick = int(pick) # make ready to evaluate as a number\n",
    "    \n",
    "    \n",
    "    # check is an appropriate number\n",
    "    if (pick < 51) and (pick % 2 != 0):\n",
    "        \n",
    "        print()\n",
    "        print(f\"Thank you! Your number is: {pick}\")\n",
    "        print()\n",
    "        \n",
    "        break\n",
    "        \n",
    "    else:\n",
    "        \n",
    "        print()\n",
    "        print(\"This number is invalid!\")\n",
    "        print()"
   ]
  },
  {
   "cell_type": "code",
   "execution_count": null,
   "id": "frequent-murray",
   "metadata": {},
   "outputs": [],
   "source": [
    "# get odd numbers using continue\n",
    "\n",
    "for number in range(1,50):\n",
    "    \n",
    "    if number % 2 == 0:\n",
    "        \n",
    "        continue\n",
    "        \n",
    "    print(\"Here is an odd number:\", number)"
   ]
  },
  {
   "cell_type": "code",
   "execution_count": null,
   "id": "annual-outreach",
   "metadata": {},
   "outputs": [],
   "source": [
    "# Add Yikes!\n",
    "pick = 25\n",
    "\n",
    "for number in range(1,50):\n",
    "    \n",
    "    if number %2 == 0:\n",
    "        \n",
    "        continue\n",
    "        \n",
    "    if number == pick:\n",
    "        \n",
    "        print(\"Yikes! Skipping number:\", number)\n",
    "        \n",
    "        continue\n",
    "        \n",
    "    print(\"Here is an odd number:\", number)"
   ]
  },
  {
   "cell_type": "code",
   "execution_count": null,
   "id": "regulation-thickness",
   "metadata": {},
   "outputs": [],
   "source": [
    "# all together\n",
    "\n",
    "while True:\n",
    "    \n",
    "    # prompt user for a number\n",
    "    print(\"Enter a whole odd number between 1 and 50\")\n",
    "    pick = input()\n",
    "    \n",
    "    # check is a number\n",
    "    if pick.isnumeric() == False:        \n",
    "        \n",
    "        print()\n",
    "        print(\"Please enter a WHOLE NUMBER!\")\n",
    "        print()\n",
    "        \n",
    "        continue\n",
    "        \n",
    "    else:\n",
    "        \n",
    "        pick = int(pick) # make ready to evaluate as a number\n",
    "    \n",
    "    \n",
    "    # check is an appropriate number\n",
    "    if (pick > 0) and (pick <51) and (pick %2 != 0):\n",
    "        \n",
    "        print()\n",
    "        print(f\"Thank you! Your number is: {pick}\")\n",
    "        print()\n",
    "        \n",
    "        break\n",
    "        \n",
    "    else:\n",
    "        \n",
    "        print()\n",
    "        print(\"This number is invalid!\")\n",
    "        print()\n",
    "        \n",
    "# print odd number message and yikes message for numbers 1 to 50    \n",
    "for number in range(1,50):\n",
    "    \n",
    "    if number %2 == 0:\n",
    "        \n",
    "        continue\n",
    "        \n",
    "    if number == pick:\n",
    "        \n",
    "        print(\"Yikes! Skipping number:\", number)\n",
    "        \n",
    "        continue\n",
    "        \n",
    "    print(\"Here is an odd number:\", number)\n"
   ]
  },
  {
   "cell_type": "markdown",
   "id": "central-bachelor",
   "metadata": {},
   "source": [
    "* Prompt the user to enter a positive number and write a loop that counts from 0 to that number.\n",
    "* First make sure that the value the user entered is a valid number"
   ]
  },
  {
   "cell_type": "code",
   "execution_count": null,
   "id": "living-smart",
   "metadata": {},
   "outputs": [],
   "source": [
    "# get valid input\n",
    "\n",
    "while True:\n",
    "    \n",
    "    # prompt user for a number\n",
    "    print(\"Enter a positive whole number!\")\n",
    "    pick = input()\n",
    "    \n",
    "    # check is a number\n",
    "    if pick.isnumeric() == False:        \n",
    "        \n",
    "        print()\n",
    "        print(\"Please enter a POSITIVE WHOLE NUMBER!\")\n",
    "        print()\n",
    "        \n",
    "    else:\n",
    "        \n",
    "        pick = int(pick) # make ready to evaluate as a number\n",
    "\n",
    "        print()\n",
    "        print(f\"Thank you! Your number is: {pick}\")\n",
    "        print()\n",
    "        \n",
    "        break"
   ]
  },
  {
   "cell_type": "code",
   "execution_count": null,
   "id": "juvenile-growth",
   "metadata": {},
   "outputs": [],
   "source": [
    "# count from 0 to input\n",
    "pick = 12\n",
    "\n",
    "for r in range(0,pick+1):\n",
    "    \n",
    "    print(r)    "
   ]
  },
  {
   "cell_type": "code",
   "execution_count": null,
   "id": "chief-austin",
   "metadata": {},
   "outputs": [],
   "source": [
    "# all together\n",
    "\n",
    "\n",
    "# get valid input\n",
    "while True:\n",
    "    \n",
    "    # prompt user for a number\n",
    "    print(\"Enter a positive whole number!\")\n",
    "    pick = input()\n",
    "    \n",
    "    # check is a number\n",
    "    if pick.isnumeric() == False:        \n",
    "        \n",
    "        print()\n",
    "        print(\"Please enter a POSITIVE WHOLE NUMBER!\")\n",
    "        print()\n",
    "        \n",
    "    else:\n",
    "        \n",
    "        pick = int(pick) # make ready to evaluate as a number\n",
    "\n",
    "        print()\n",
    "        print(f\"Thank you! Your number is: {pick}\")\n",
    "        print()\n",
    "        \n",
    "        break\n",
    "\n",
    "# count from 0 to input\n",
    "for r in range(0,pick+1):\n",
    "    \n",
    "    print(r)   "
   ]
  },
  {
   "cell_type": "markdown",
   "id": "encouraging-forty",
   "metadata": {},
   "source": [
    "* Write a program that prompts the user for a positive integer. Next write a loop that prints out the numbers from the number the user entered down to 1"
   ]
  },
  {
   "cell_type": "code",
   "execution_count": null,
   "id": "fatty-japanese",
   "metadata": {},
   "outputs": [],
   "source": [
    "# get valid input\n",
    "while True:\n",
    "    \n",
    "    # prompt user for a number\n",
    "    print(\"Enter a positive whole number!\")\n",
    "    pick = input()\n",
    "    \n",
    "    # check is a number\n",
    "    if pick.isnumeric() == False:        \n",
    "        \n",
    "        print()\n",
    "        print(\"Please enter a POSITIVE WHOLE NUMBER!\")\n",
    "        print()\n",
    "        \n",
    "    else:\n",
    "        \n",
    "        pick = int(pick) # make ready to evaluate as a number\n",
    "\n",
    "        print()\n",
    "        print(f\"Thank you! Your number is: {pick}\")\n",
    "        print()\n",
    "        \n",
    "        break\n",
    "\n",
    "for r in range(pick,0,-1):\n",
    "    \n",
    "    print(r)"
   ]
  },
  {
   "cell_type": "markdown",
   "id": "framed-naples",
   "metadata": {},
   "source": [
    "# Task 3 Fiz Buzz\n",
    "\n",
    "* Write a program that prints the numbers from 1 to 100.\n",
    "* For multiples of three print \"Fizz\" instead of the number\n",
    "* For the multiples of five print \"Buzz\".\n",
    "* For numbers which are multiples of both three and five print \"FizzBuzz\".\n",
    "\n",
    "**Take Aways**\n",
    "* Using if/elif/else will insure one print per number\n",
    "* the order in which you do your checks matter"
   ]
  },
  {
   "cell_type": "code",
   "execution_count": null,
   "id": "surprised-myrtle",
   "metadata": {},
   "outputs": [],
   "source": [
    "# keys:\n",
    "\n",
    "for r in range(1,101):\n",
    "    \n",
    "    if r % 15 == 0:\n",
    "        \n",
    "        print(\"FizzBuzz\")\n",
    "        \n",
    "    elif r % 3 == 0:\n",
    "            \n",
    "        print(\"Fizz\")\n",
    "        \n",
    "    elif r % 5 == 0:\n",
    "        \n",
    "        print(\"Buzz\")\n",
    "        \n",
    "    else:\n",
    "        \n",
    "        print(r)"
   ]
  },
  {
   "cell_type": "markdown",
   "id": "useful-boston",
   "metadata": {},
   "source": [
    "# Task 4 Display a table of powers.\n",
    "\n",
    "* Prompt the user to enter an integer.\n",
    "* Display a table of squares and cubes from 1 to the value entered.\n",
    "* Ask if the user wants to continue.\n",
    "* Assume that the user will enter valid data.\n",
    "* Only continue if the user agrees to."
   ]
  },
  {
   "cell_type": "code",
   "execution_count": null,
   "id": "minimal-scotland",
   "metadata": {},
   "outputs": [],
   "source": [
    "# create continue loop\n",
    "# create display table loop \n",
    "# place the display table loop inside the continue loop"
   ]
  },
  {
   "cell_type": "code",
   "execution_count": null,
   "id": "sustainable-consensus",
   "metadata": {},
   "outputs": [],
   "source": [
    "# create continue loop\n",
    "while True:\n",
    "      \n",
    "    print(\"Do you wish to continue? (y/n)\")\n",
    "    persist = input()\n",
    "    \n",
    "    if persist.lower() == 'y':\n",
    "        \n",
    "        print(\"This will be the display table loop\")\n",
    "        \n",
    "    elif persist.lower() == 'n':\n",
    "        \n",
    "        break\n",
    "        \n",
    "    else:\n",
    "        \n",
    "        continue "
   ]
  },
  {
   "cell_type": "code",
   "execution_count": null,
   "id": "banner-cartridge",
   "metadata": {},
   "outputs": [],
   "source": [
    "# remove prompt for first itteration \n",
    "\n",
    "first = True\n",
    "\n",
    "while True:\n",
    "    \n",
    "    # if this is the first time through the loop go right to table prompt\n",
    "    if first == True:\n",
    "        \n",
    "        first = False\n",
    "        \n",
    "        persist = 'y'\n",
    "        \n",
    "    else:\n",
    "      \n",
    "        print(\"Do you wish to continue? (y/n)\")\n",
    "        persist = input()\n",
    "        print()\n",
    "\n",
    "        \n",
    "    # Display table prompt / Quit / Re-prompt\n",
    "    if persist.lower() == 'y':\n",
    "\n",
    "        print(\"This will be the display table loop\")\n",
    "\n",
    "    elif persist.lower() == 'n':\n",
    "\n",
    "        break\n",
    "\n",
    "    else:\n",
    "\n",
    "        continue "
   ]
  },
  {
   "cell_type": "code",
   "execution_count": null,
   "id": "controlling-defensive",
   "metadata": {},
   "outputs": [],
   "source": [
    "# prompt user for a number\n",
    "\n",
    "# create the table\n",
    "# print titels and dividers\n",
    "# loop through 1-user's pick\n",
    "# print the number / square / cube and dividers"
   ]
  },
  {
   "cell_type": "code",
   "execution_count": null,
   "id": "intense-modeling",
   "metadata": {},
   "outputs": [],
   "source": [
    "while True:\n",
    "    \n",
    "    # prompt user for a number\n",
    "    print(\"Enter a positive whole number!\")\n",
    "    pick = input()\n",
    "    \n",
    "    # check is a number\n",
    "    if pick.isnumeric() == False:        \n",
    "        \n",
    "        print()\n",
    "        print(\"Please enter a POSITIVE WHOLE NUMBER!\")\n",
    "        print()\n",
    "        \n",
    "    else:\n",
    "        \n",
    "        pick = int(pick) # make ready to evaluate as a number\n",
    "\n",
    "        break"
   ]
  },
  {
   "cell_type": "code",
   "execution_count": null,
   "id": "offshore-modern",
   "metadata": {},
   "outputs": [],
   "source": [
    "# create the table\n",
    "# print titels and dividers\n",
    "# loop through 1 to user's pick\n",
    "# print the number / square / cube and dividers\n",
    "\n",
    "pick = 7\n",
    "\n",
    "# print titles \n",
    "print(\" Number |Squared |Cubed  \")\n",
    "print(\"|-------|--------|-----|\")\n",
    "\n",
    "# print body\n",
    "for r in range(1,pick+1):\n",
    "    \n",
    "    print(\"|{:<7}|{:<8}|{:<5}|\".format(r,r**2,r**3))\n",
    "    "
   ]
  },
  {
   "cell_type": "code",
   "execution_count": null,
   "id": "automated-rates",
   "metadata": {},
   "outputs": [],
   "source": [
    "# all together now\n",
    "\n",
    "first = True\n",
    "\n",
    "while True:\n",
    "    \n",
    "    # if this is the first time through the loop go right to table prompt\n",
    "    if first == True:\n",
    "        \n",
    "        first = False\n",
    "        \n",
    "        persist = 'y'\n",
    "        \n",
    "    # if this is not the first time through the loop prompt user to continue\n",
    "    else:\n",
    "      \n",
    "        print(\"Do you wish to continue? (y/n)\")\n",
    "        persist = input()\n",
    "        print()\n",
    "\n",
    "        \n",
    "    # Display table prompt / Quit / Re-prompt\n",
    "    if persist.lower() == 'y':\n",
    "\n",
    "        # prompt user for positive whole number\n",
    "        while True:\n",
    "    \n",
    "            # prompt user for a number\n",
    "            print(\"Enter a positive whole number!\")\n",
    "            pick = input()\n",
    "\n",
    "            # check is a number\n",
    "            if pick.isnumeric() == False:        \n",
    "\n",
    "                print()\n",
    "                print(\"Please enter a POSITIVE WHOLE NUMBER!\")\n",
    "                print()\n",
    "                \n",
    "            else:\n",
    "        \n",
    "                pick = int(pick) \n",
    "            \n",
    "                break\n",
    "                \n",
    "                \n",
    "        # print titles \n",
    "        print(\" Number |Squared |Cubed  \")\n",
    "        print(\"|-------|--------|-----|\")\n",
    "\n",
    "        # print body of chart\n",
    "        for r in range(1,pick+1):\n",
    "\n",
    "            print(\"|{:<7}|{:<8}|{:<5}|\".format(r,r**2,r**3))\n",
    "\n",
    "    elif persist.lower() == 'n':\n",
    "\n",
    "        break\n",
    "\n",
    "    else:\n",
    "\n",
    "        continue "
   ]
  },
  {
   "cell_type": "code",
   "execution_count": null,
   "id": "arctic-bottom",
   "metadata": {},
   "outputs": [],
   "source": []
  }
 ],
 "metadata": {
  "kernelspec": {
   "display_name": "Python 3",
   "language": "python",
   "name": "python3"
  },
  "language_info": {
   "codemirror_mode": {
    "name": "ipython",
    "version": 3
   },
   "file_extension": ".py",
   "mimetype": "text/x-python",
   "name": "python",
   "nbconvert_exporter": "python",
   "pygments_lexer": "ipython3",
   "version": "3.7.4"
  }
 },
 "nbformat": 4,
 "nbformat_minor": 5
}
