{
 "cells": [
  {
   "cell_type": "markdown",
   "id": "distinct-extension",
   "metadata": {},
   "source": [
    "# Task 1 Control Basics\n",
    "\n",
    "### A) prompt the user for a day of the week, print out whether the day is Monday or not"
   ]
  },
  {
   "cell_type": "code",
   "execution_count": 4,
   "id": "numerous-terminal",
   "metadata": {},
   "outputs": [
    {
     "name": "stdout",
     "output_type": "stream",
     "text": [
      "What day of the week is it?   monday\n"
     ]
    }
   ],
   "source": [
    "day = input(\"What day of the week is it?   \")"
   ]
  },
  {
   "cell_type": "code",
   "execution_count": 5,
   "id": "electric-acceptance",
   "metadata": {},
   "outputs": [
    {
     "name": "stdout",
     "output_type": "stream",
     "text": [
      "Today is monday\n"
     ]
    }
   ],
   "source": [
    "if day.lower() == \"monday\":\n",
    "    \n",
    "    print(\"Today is monday\")\n",
    "    \n",
    "else:\n",
    "    \n",
    "    print(\"Today is not monday\")"
   ]
  },
  {
   "cell_type": "markdown",
   "id": "resistant-convertible",
   "metadata": {},
   "source": [
    "### B) Prompt the user for a day of the week, print out whether the day is a weekday or a weekend"
   ]
  },
  {
   "cell_type": "code",
   "execution_count": 9,
   "id": "adjacent-lying",
   "metadata": {},
   "outputs": [
    {
     "name": "stdout",
     "output_type": "stream",
     "text": [
      "What day of the week is it?\n",
      "blarg\n",
      "\n",
      "blarg is not a day of the week!\n"
     ]
    }
   ],
   "source": [
    "print(\"What day of the week is it?\")\n",
    "day = input()\n",
    "\n",
    "if day.lower() in (\"monday\", \"tuseday\", \"wednesday\", \"thursday\", \"friday\"):\n",
    "    \n",
    "    print(\"Today is a weekday!\")\n",
    "    \n",
    "elif day.lower() in (\"saturday\", \"sunday\"):\n",
    "    \n",
    "    print(\"Today is a weekend!\")\n",
    "    \n",
    "else:\n",
    "    \n",
    "    print()\n",
    "    print(f\"{day} is not a day of the week!\")"
   ]
  },
  {
   "cell_type": "markdown",
   "id": "human-praise",
   "metadata": {},
   "source": [
    "### C) create variables and make up values for\n",
    "\n",
    "* the number of hours worked in one week\n",
    "* the hourly rate\n",
    "* how much the week's paycheck will be\n",
    "* write the python code that calculates the weekly paycheck. You get paid time and a half if you work more than 40 hours"
   ]
  },
  {
   "cell_type": "code",
   "execution_count": 14,
   "id": "mighty-portuguese",
   "metadata": {},
   "outputs": [
    {
     "name": "stdout",
     "output_type": "stream",
     "text": [
      "Total Wages: 200\n"
     ]
    }
   ],
   "source": [
    "hours_this_week = 50\n",
    "hourly_rate = 10\n",
    "\n",
    "# if no overtime, pay = hours_this_week * hourly_rate\n",
    "# if overtime, pay = (40 * hourly_rate) + overtime\n",
    "\n",
    "# overtime = (hours_this_week - 40) * (hourly_rate + (hourly_rate * 1.5))\n",
    "\n",
    "if hours_this_week <= 40:\n",
    "    \n",
    "    pay = hours_this_week * hourly_rate \n",
    "\n",
    "if hours_this_week > 40:\n",
    "    \n",
    "    overtime = (hours_this_week - 40) * (hourly_rate * 1.5)\n",
    "    \n",
    "    pay = (40 * hourly_rate) + overtime\n",
    "\n",
    "print(f\"Total Wages: {pay}\")"
   ]
  },
  {
   "cell_type": "markdown",
   "id": "heavy-cholesterol",
   "metadata": {},
   "source": [
    "# Task 2 Loop Basics\n",
    "\n",
    "### A) While\n",
    "\n",
    "* Create an integer variable i with a value of 5.\n",
    "* Create a while loop that runs so long as i is less than or equal to 15\n",
    "* Each loop iteration, output the current value of i, then increment i by one."
   ]
  },
  {
   "cell_type": "code",
   "execution_count": 15,
   "id": "collaborative-chrome",
   "metadata": {},
   "outputs": [
    {
     "name": "stdout",
     "output_type": "stream",
     "text": [
      "5\n",
      "6\n",
      "7\n",
      "8\n",
      "9\n",
      "10\n",
      "11\n",
      "12\n",
      "13\n",
      "14\n",
      "15\n"
     ]
    }
   ],
   "source": [
    "i = 5\n",
    "\n",
    "while i <= 15:\n",
    "    \n",
    "    print(i)\n",
    "    \n",
    "    i += 1"
   ]
  },
  {
   "cell_type": "markdown",
   "id": "transsexual-riverside",
   "metadata": {},
   "source": [
    "* Create a while loop that will count by 2's starting with 0 and ending at 100. Follow each number with a new line."
   ]
  },
  {
   "cell_type": "code",
   "execution_count": 19,
   "id": "genetic-alarm",
   "metadata": {},
   "outputs": [
    {
     "name": "stdout",
     "output_type": "stream",
     "text": [
      "2\n",
      "4\n",
      "6\n",
      "8\n",
      "10\n",
      "12\n",
      "14\n",
      "16\n",
      "18\n",
      "20\n",
      "22\n",
      "24\n",
      "26\n",
      "28\n",
      "30\n",
      "32\n",
      "34\n",
      "36\n",
      "38\n",
      "40\n",
      "42\n",
      "44\n",
      "46\n",
      "48\n",
      "50\n",
      "52\n",
      "54\n",
      "56\n",
      "58\n",
      "60\n",
      "62\n",
      "64\n",
      "66\n",
      "68\n",
      "70\n",
      "72\n",
      "74\n",
      "76\n",
      "78\n",
      "80\n",
      "82\n",
      "84\n",
      "86\n",
      "88\n",
      "90\n",
      "92\n",
      "94\n",
      "96\n",
      "98\n",
      "100\n"
     ]
    }
   ],
   "source": [
    "i = 0\n",
    "\n",
    "while i < 100:\n",
    "    \n",
    "    i += 2\n",
    "    \n",
    "    print(i)"
   ]
  },
  {
   "cell_type": "markdown",
   "id": "floral-hypothetical",
   "metadata": {},
   "source": [
    "* Alter your loop to count backwards by 5's from 100 to -10."
   ]
  },
  {
   "cell_type": "code",
   "execution_count": 18,
   "id": "beginning-eating",
   "metadata": {},
   "outputs": [
    {
     "name": "stdout",
     "output_type": "stream",
     "text": [
      "100\n",
      "95\n",
      "90\n",
      "85\n",
      "80\n",
      "75\n",
      "70\n",
      "65\n",
      "60\n",
      "55\n",
      "50\n",
      "45\n",
      "40\n",
      "35\n",
      "30\n",
      "25\n",
      "20\n",
      "15\n",
      "10\n",
      "5\n",
      "0\n",
      "-5\n",
      "-10\n"
     ]
    }
   ],
   "source": [
    "i = 100\n",
    "\n",
    "while True:\n",
    "    \n",
    "    print(i)\n",
    "    \n",
    "    i -= 5\n",
    "    \n",
    "    if i == -10:\n",
    "        \n",
    "        print(i)\n",
    "        \n",
    "        break"
   ]
  },
  {
   "cell_type": "markdown",
   "id": "corrected-large",
   "metadata": {},
   "source": [
    "* Create a while loop that starts at 2, and displays the number squared on each line while the number is less than 1,000,000. Output should equal:"
   ]
  },
  {
   "cell_type": "code",
   "execution_count": 20,
   "id": "jewish-principal",
   "metadata": {},
   "outputs": [
    {
     "name": "stdout",
     "output_type": "stream",
     "text": [
      "2\n",
      "4\n",
      "16\n",
      "256\n",
      "65536\n"
     ]
    }
   ],
   "source": [
    "i = 2\n",
    "\n",
    "while i < 1000000:\n",
    "    \n",
    "    print(i)\n",
    "    \n",
    "    i *= i"
   ]
  },
  {
   "cell_type": "markdown",
   "id": "honest-length",
   "metadata": {},
   "source": [
    "* Write a loop that uses print to create the output shown below.\n",
    "\n",
    "* begin at 500 \n",
    "* count down by 5's \n",
    "* end at 5"
   ]
  },
  {
   "cell_type": "code",
   "execution_count": 22,
   "id": "existing-christian",
   "metadata": {},
   "outputs": [
    {
     "name": "stdout",
     "output_type": "stream",
     "text": [
      "100\n",
      "95\n",
      "90\n",
      "85\n",
      "80\n",
      "75\n",
      "70\n",
      "65\n",
      "60\n",
      "55\n",
      "50\n",
      "45\n",
      "40\n",
      "35\n",
      "30\n",
      "25\n",
      "20\n",
      "15\n",
      "10\n",
      "5\n"
     ]
    }
   ],
   "source": [
    "i = 100\n",
    "\n",
    "while True:\n",
    "    \n",
    "    print(i)\n",
    "    \n",
    "    if i > 5:\n",
    "        \n",
    "        i -= 5\n",
    "        \n",
    "    else:\n",
    "        \n",
    "        break"
   ]
  },
  {
   "cell_type": "markdown",
   "id": "tamil-ministry",
   "metadata": {},
   "source": [
    "### B) For Loops\n",
    "\n",
    "* Write some code that prompts the user for a number, then shows a multiplication table up through 10 for that number."
   ]
  },
  {
   "cell_type": "code",
   "execution_count": null,
   "id": "amateur-plaintiff",
   "metadata": {},
   "outputs": [],
   "source": [
    "# prompt user for a number\n",
    "# loop through the list of table numbers\n",
    "# for each generate a table equation and print results"
   ]
  },
  {
   "cell_type": "code",
   "execution_count": 27,
   "id": "employed-principal",
   "metadata": {},
   "outputs": [
    {
     "name": "stdout",
     "output_type": "stream",
     "text": [
      "Give me a number!\n",
      "5\n"
     ]
    }
   ],
   "source": [
    "# prompt user for a number\n",
    "print(\"Give me a number!\")\n",
    "\n",
    "input_number = input()"
   ]
  },
  {
   "cell_type": "code",
   "execution_count": 31,
   "id": "genuine-shadow",
   "metadata": {},
   "outputs": [
    {
     "name": "stdout",
     "output_type": "stream",
     "text": [
      "5 X 1 = 5\n",
      "5 X 2 = 55\n",
      "5 X 3 = 555\n",
      "5 X 4 = 5555\n",
      "5 X 5 = 55555\n",
      "5 X 6 = 555555\n",
      "5 X 7 = 5555555\n",
      "5 X 8 = 55555555\n",
      "5 X 9 = 555555555\n",
      "5 X 10 = 5555555555\n"
     ]
    }
   ],
   "source": [
    "# loop through the list of table numbers\n",
    "# for each generate a table equation and print results\n",
    "\n",
    "for tab_num in range(1,11):\n",
    "    \n",
    "    print(f\"{input_number} X {tab_num} = {input_number * tab_num}\") # input numbers are interpreted as strings"
   ]
  },
  {
   "cell_type": "code",
   "execution_count": 32,
   "id": "catholic-adelaide",
   "metadata": {},
   "outputs": [
    {
     "name": "stdout",
     "output_type": "stream",
     "text": [
      "5 X 1 = 5\n",
      "5 X 2 = 10\n",
      "5 X 3 = 15\n",
      "5 X 4 = 20\n",
      "5 X 5 = 25\n",
      "5 X 6 = 30\n",
      "5 X 7 = 35\n",
      "5 X 8 = 40\n",
      "5 X 9 = 45\n",
      "5 X 10 = 50\n"
     ]
    }
   ],
   "source": [
    "# loop through the list of table numbers\n",
    "# for each generate a table equation and print results\n",
    "\n",
    "for tab_num in range(1,11):\n",
    "    \n",
    "    print(f\"{input_number} X {tab_num} = {int(input_number) * tab_num}\") # Fix data types by wrapping in desired type"
   ]
  },
  {
   "cell_type": "code",
   "execution_count": 34,
   "id": "molecular-committee",
   "metadata": {},
   "outputs": [
    {
     "name": "stdout",
     "output_type": "stream",
     "text": [
      "Give me a number!\n",
      "77\n",
      "\n",
      "77 X 1 = 77\n",
      "77 X 2 = 154\n",
      "77 X 3 = 231\n",
      "77 X 4 = 308\n",
      "77 X 5 = 385\n",
      "77 X 6 = 462\n",
      "77 X 7 = 539\n",
      "77 X 8 = 616\n",
      "77 X 9 = 693\n",
      "77 X 10 = 770\n"
     ]
    }
   ],
   "source": [
    "print(\"Give me a number!\")\n",
    "\n",
    "input_number = input()\n",
    "\n",
    "print() # adds a new line\n",
    "\n",
    "for tab_num in range(1,11):\n",
    "    \n",
    "    print(f\"{input_number} X {tab_num} = {int(input_number) * tab_num}\")"
   ]
  },
  {
   "cell_type": "markdown",
   "id": "broken-female",
   "metadata": {},
   "source": [
    "* Create a for loop that uses print to create A repeating number pyramid though the number 9"
   ]
  },
  {
   "cell_type": "code",
   "execution_count": 35,
   "id": "convinced-kelly",
   "metadata": {},
   "outputs": [
    {
     "name": "stdout",
     "output_type": "stream",
     "text": [
      "1\n",
      "22\n",
      "333\n",
      "4444\n",
      "55555\n",
      "666666\n",
      "7777777\n",
      "88888888\n",
      "999999999\n"
     ]
    }
   ],
   "source": [
    "# loop through 1-9\n",
    "# for each print the number that number of times\n",
    "\n",
    "for r in range(1,10):\n",
    "    \n",
    "    print(str(r) * r) "
   ]
  },
  {
   "cell_type": "markdown",
   "id": "differential-croatia",
   "metadata": {},
   "source": [
    "* Prompt the user for an odd number between 1 and 50. Use a loop and a break statement to continue prompting the user if they enter invalid input. (Hint: use the isdigit method on strings to determine this). Use a loop and the continue statement to output all the odd numbers between 1 and 50, except for the number the user entered."
   ]
  },
  {
   "cell_type": "code",
   "execution_count": null,
   "id": "persistent-clause",
   "metadata": {},
   "outputs": [],
   "source": [
    "# begin while loop\n",
    "# propt user for number\n",
    "# if number is valid break the loop\n",
    "# if not display error and restart loop\n",
    "# valid means numeric, odd, and between 1 and 50\n",
    "\n",
    "# loop through odd number between 1 and 50\n",
    "# print each non-selected number with message \n",
    "# selected number should read yikes skipping"
   ]
  },
  {
   "cell_type": "code",
   "execution_count": 46,
   "id": "ultimate-skill",
   "metadata": {},
   "outputs": [
    {
     "name": "stdout",
     "output_type": "stream",
     "text": [
      "Enter a whole odd number between 1 and 50\n",
      "1/2\n",
      "\n",
      "Please enter a WHOLE NUMBER!\n",
      "\n",
      "Enter a whole odd number between 1 and 50\n",
      "them\n",
      "\n",
      "Please enter a WHOLE NUMBER!\n",
      "\n",
      "Enter a whole odd number between 1 and 50\n",
      "8\n",
      "\n",
      "This number is invalid!\n",
      "\n",
      "Enter a whole odd number between 1 and 50\n",
      "15\n",
      "\n",
      "Thank you, your number is: 15\n",
      "\n"
     ]
    }
   ],
   "source": [
    "while True:\n",
    "    \n",
    "    # prompt user for a number\n",
    "    print(\"Enter a whole odd number between 1 and 50\")\n",
    "    pick = input()\n",
    "    \n",
    "    # check is a number\n",
    "    if pick.isnumeric() == False:        \n",
    "        \n",
    "        print()\n",
    "        print(\"Please enter a WHOLE NUMBER!\")\n",
    "        print()\n",
    "        \n",
    "        continue\n",
    "        \n",
    "    else:\n",
    "        \n",
    "        pick = int(pick) # make ready to evaluate as a number\n",
    "    \n",
    "    \n",
    "    # check is an appropriate number\n",
    "    if (pick > 0) and (pick <51) and (pick %2 != 0):\n",
    "        \n",
    "        print()\n",
    "        print(f\"Thank you! Your number is: {pick}\")\n",
    "        print()\n",
    "        \n",
    "        break\n",
    "        \n",
    "    else:\n",
    "        \n",
    "        print()\n",
    "        print(\"This number is invalid!\")\n",
    "        print()"
   ]
  },
  {
   "cell_type": "code",
   "execution_count": 49,
   "id": "productive-height",
   "metadata": {},
   "outputs": [
    {
     "name": "stdout",
     "output_type": "stream",
     "text": [
      "Here is an odd number: 1\n",
      "Here is an odd number: 3\n",
      "Here is an odd number: 5\n",
      "Here is an odd number: 7\n",
      "Here is an odd number: 9\n",
      "Here is an odd number: 11\n",
      "Here is an odd number: 13\n",
      "Here is an odd number: 15\n",
      "Here is an odd number: 17\n",
      "Here is an odd number: 19\n",
      "Here is an odd number: 21\n",
      "Here is an odd number: 23\n",
      "Here is an odd number: 25\n",
      "Here is an odd number: 27\n",
      "Here is an odd number: 29\n",
      "Here is an odd number: 31\n",
      "Here is an odd number: 33\n",
      "Here is an odd number: 35\n",
      "Here is an odd number: 37\n",
      "Here is an odd number: 39\n",
      "Here is an odd number: 41\n",
      "Here is an odd number: 43\n",
      "Here is an odd number: 45\n",
      "Here is an odd number: 47\n",
      "Here is an odd number: 49\n"
     ]
    }
   ],
   "source": [
    "# get odd numbers using continue\n",
    "\n",
    "for number in range(1,50):\n",
    "    \n",
    "    if number %2 == 0:\n",
    "        \n",
    "        continue\n",
    "        \n",
    "    print(\"Here is an odd number:\", number)"
   ]
  },
  {
   "cell_type": "code",
   "execution_count": 51,
   "id": "differential-calibration",
   "metadata": {},
   "outputs": [
    {
     "name": "stdout",
     "output_type": "stream",
     "text": [
      "Here is an odd number: 1\n",
      "Here is an odd number: 3\n",
      "Here is an odd number: 5\n",
      "Here is an odd number: 7\n",
      "Here is an odd number: 9\n",
      "Here is an odd number: 11\n",
      "Here is an odd number: 13\n",
      "Here is an odd number: 15\n",
      "Here is an odd number: 17\n",
      "Here is an odd number: 19\n",
      "Here is an odd number: 21\n",
      "Here is an odd number: 23\n",
      "Yikes! Skipping number: 25\n",
      "Here is an odd number: 27\n",
      "Here is an odd number: 29\n",
      "Here is an odd number: 31\n",
      "Here is an odd number: 33\n",
      "Here is an odd number: 35\n",
      "Here is an odd number: 37\n",
      "Here is an odd number: 39\n",
      "Here is an odd number: 41\n",
      "Here is an odd number: 43\n",
      "Here is an odd number: 45\n",
      "Here is an odd number: 47\n",
      "Here is an odd number: 49\n"
     ]
    }
   ],
   "source": [
    "# get odd numbers using continue\n",
    "pick = 25\n",
    "\n",
    "for number in range(1,50):\n",
    "    \n",
    "    if number %2 == 0:\n",
    "        \n",
    "        continue\n",
    "        \n",
    "    if number == pick:\n",
    "        \n",
    "        print(\"Yikes! Skipping number:\", number)\n",
    "        \n",
    "        continue\n",
    "        \n",
    "    print(\"Here is an odd number:\", number)"
   ]
  },
  {
   "cell_type": "code",
   "execution_count": 52,
   "id": "enabling-fight",
   "metadata": {},
   "outputs": [
    {
     "name": "stdout",
     "output_type": "stream",
     "text": [
      "Enter a whole odd number between 1 and 50\n",
      "23\n",
      "\n",
      "Thank you! Your number is: 23\n",
      "\n",
      "Here is an odd number: 1\n",
      "Here is an odd number: 3\n",
      "Here is an odd number: 5\n",
      "Here is an odd number: 7\n",
      "Here is an odd number: 9\n",
      "Here is an odd number: 11\n",
      "Here is an odd number: 13\n",
      "Here is an odd number: 15\n",
      "Here is an odd number: 17\n",
      "Here is an odd number: 19\n",
      "Here is an odd number: 21\n",
      "Yikes! Skipping number: 23\n",
      "Here is an odd number: 25\n",
      "Here is an odd number: 27\n",
      "Here is an odd number: 29\n",
      "Here is an odd number: 31\n",
      "Here is an odd number: 33\n",
      "Here is an odd number: 35\n",
      "Here is an odd number: 37\n",
      "Here is an odd number: 39\n",
      "Here is an odd number: 41\n",
      "Here is an odd number: 43\n",
      "Here is an odd number: 45\n",
      "Here is an odd number: 47\n",
      "Here is an odd number: 49\n"
     ]
    }
   ],
   "source": [
    "# all together\n",
    "\n",
    "while True:\n",
    "    \n",
    "    # prompt user for a number\n",
    "    print(\"Enter a whole odd number between 1 and 50\")\n",
    "    pick = input()\n",
    "    \n",
    "    # check is a number\n",
    "    if pick.isnumeric() == False:        \n",
    "        \n",
    "        print()\n",
    "        print(\"Please enter a WHOLE NUMBER!\")\n",
    "        print()\n",
    "        \n",
    "        continue\n",
    "        \n",
    "    else:\n",
    "        \n",
    "        pick = int(pick) # make ready to evaluate as a number\n",
    "    \n",
    "    \n",
    "    # check is an appropriate number\n",
    "    if (pick > 0) and (pick <51) and (pick %2 != 0):\n",
    "        \n",
    "        print()\n",
    "        print(f\"Thank you! Your number is: {pick}\")\n",
    "        print()\n",
    "        \n",
    "        break\n",
    "        \n",
    "    else:\n",
    "        \n",
    "        print()\n",
    "        print(\"This number is invalid!\")\n",
    "        print()\n",
    "        \n",
    "        \n",
    "for number in range(1,50):\n",
    "    \n",
    "    if number %2 == 0:\n",
    "        \n",
    "        continue\n",
    "        \n",
    "    if number == pick:\n",
    "        \n",
    "        print(\"Yikes! Skipping number:\", number)\n",
    "        \n",
    "        continue\n",
    "        \n",
    "    print(\"Here is an odd number:\", number)\n"
   ]
  },
  {
   "cell_type": "code",
   "execution_count": null,
   "id": "dependent-tiffany",
   "metadata": {},
   "outputs": [],
   "source": []
  }
 ],
 "metadata": {
  "kernelspec": {
   "display_name": "Python 3",
   "language": "python",
   "name": "python3"
  },
  "language_info": {
   "codemirror_mode": {
    "name": "ipython",
    "version": 3
   },
   "file_extension": ".py",
   "mimetype": "text/x-python",
   "name": "python",
   "nbconvert_exporter": "python",
   "pygments_lexer": "ipython3",
   "version": "3.7.4"
  }
 },
 "nbformat": 4,
 "nbformat_minor": 5
}
