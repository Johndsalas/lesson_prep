{
 "cells": [
  {
   "cell_type": "markdown",
   "id": "certified-absorption",
   "metadata": {},
   "source": [
    "# Task 1 Control Basics\n",
    "\n",
    "### A) prompt the user for a day of the week, print out whether the day is Monday or not"
   ]
  },
  {
   "cell_type": "code",
   "execution_count": null,
   "id": "grave-process",
   "metadata": {},
   "outputs": [],
   "source": [
    "day = input(\"What day of the week is it?   \")"
   ]
  },
  {
   "cell_type": "code",
   "execution_count": null,
   "id": "polyphonic-outside",
   "metadata": {},
   "outputs": [],
   "source": [
    "if day.lower() == \"monday\":\n",
    "    \n",
    "    print(\"Today is monday\")\n",
    "    \n",
    "else:\n",
    "    \n",
    "    print(\"Today is not monday\")"
   ]
  },
  {
   "cell_type": "markdown",
   "id": "olympic-retention",
   "metadata": {},
   "source": [
    "### B) Prompt the user for a day of the week, print out whether the day is a weekday or a weekend"
   ]
  },
  {
   "cell_type": "code",
   "execution_count": null,
   "id": "concerned-quantity",
   "metadata": {},
   "outputs": [],
   "source": [
    "print(\"What day of the week is it?\")\n",
    "day = input()\n",
    "\n",
    "if day.lower() in (\"monday\", \"tuseday\", \"wednesday\", \"thursday\", \"friday\"):\n",
    "    \n",
    "    print()\n",
    "    print(\"Today is a weekday!\")\n",
    "    \n",
    "elif day.lower() in (\"saturday\", \"sunday\"):\n",
    "    \n",
    "    \n",
    "    print()\n",
    "    print(\"Today is a weekend!\")\n",
    "    \n",
    "else:\n",
    "    \n",
    "    print()\n",
    "    print(f\"{day} is not a day of the week!\")"
   ]
  },
  {
   "cell_type": "markdown",
   "id": "comic-stage",
   "metadata": {},
   "source": [
    "### C) create variables and make up values for\n",
    "\n",
    "* the number of hours worked in one week\n",
    "* the hourly rate\n",
    "* how much the week's paycheck will be\n",
    "* write the python code that calculates the weekly paycheck. You get paid time and a half if you work more than 40 hours"
   ]
  },
  {
   "cell_type": "code",
   "execution_count": null,
   "id": "stretch-supply",
   "metadata": {},
   "outputs": [],
   "source": [
    "hours_this_week = 50\n",
    "hourly_rate = 20\n",
    "\n",
    "# if no overtime, pay = hours_this_week * hourly_rate\n",
    "\n",
    "# if overtime, pay = (40 * hourly_rate) + overtime\n",
    "\n",
    "# overtime = (hours_this_week - 40) * (hourly_rate * 1.5)\n",
    "\n",
    "if hours_this_week <= 40:\n",
    "    \n",
    "    pay = hours_this_week * hourly_rate \n",
    "\n",
    "if hours_this_week > 40:\n",
    "    \n",
    "    overtime = (hours_this_week - 40) * (hourly_rate * 1.5)\n",
    "    \n",
    "    pay = (40 * hourly_rate) + overtime\n",
    "\n",
    "print(f\"Total Wages: {pay}\")"
   ]
  },
  {
   "cell_type": "markdown",
   "id": "improved-buffer",
   "metadata": {},
   "source": [
    "# Task 2 Loop Basics\n",
    "\n",
    "### A) While\n",
    "\n",
    "* Create an integer variable i with a value of 5.\n",
    "* Create a while loop that runs so long as i is less than or equal to 15\n",
    "* Each loop iteration, output the current value of i, then increment i by one."
   ]
  },
  {
   "cell_type": "code",
   "execution_count": null,
   "id": "finished-legislation",
   "metadata": {},
   "outputs": [],
   "source": [
    "i = 5\n",
    "\n",
    "while i <= 15:\n",
    "    \n",
    "    print(i)\n",
    "    \n",
    "    i += 1"
   ]
  },
  {
   "cell_type": "markdown",
   "id": "allied-melissa",
   "metadata": {},
   "source": [
    "* Create a while loop that will count by 2's starting with 0 and ending at 100. Follow each number with a new line."
   ]
  },
  {
   "cell_type": "code",
   "execution_count": null,
   "id": "novel-arthur",
   "metadata": {},
   "outputs": [],
   "source": [
    "i = 0\n",
    "\n",
    "while i <= 100:\n",
    "    \n",
    "    print(i)\n",
    "    \n",
    "    i += 2\n",
    "    \n",
    "    "
   ]
  },
  {
   "cell_type": "markdown",
   "id": "collective-ultimate",
   "metadata": {},
   "source": [
    "* Alter your loop to count backwards by 5's from 100 to -10."
   ]
  },
  {
   "cell_type": "code",
   "execution_count": null,
   "id": "incoming-barrier",
   "metadata": {},
   "outputs": [],
   "source": [
    "i = 100\n",
    "\n",
    "while True:\n",
    "    \n",
    "    print(i)\n",
    "    \n",
    "    i -= 5\n",
    "    \n",
    "    if i == -10:\n",
    "        \n",
    "        print(i)\n",
    "        \n",
    "        break"
   ]
  },
  {
   "cell_type": "markdown",
   "id": "sacred-variation",
   "metadata": {},
   "source": [
    "* Create a while loop that starts at 2, and displays the number squared on each line while the number is less than 1,000,000. Output should equal:"
   ]
  },
  {
   "cell_type": "code",
   "execution_count": null,
   "id": "latter-three",
   "metadata": {},
   "outputs": [],
   "source": [
    "i = 2\n",
    "\n",
    "while i < 1000000:\n",
    "    \n",
    "    print(i)\n",
    "    \n",
    "    i *= i"
   ]
  },
  {
   "cell_type": "markdown",
   "id": "baking-tissue",
   "metadata": {},
   "source": [
    "* Write a loop that uses print to create the output shown below.\n",
    "\n",
    "* begin at 100 \n",
    "* count down by 5's \n",
    "* end at 5"
   ]
  },
  {
   "cell_type": "code",
   "execution_count": 1,
   "id": "south-coordinator",
   "metadata": {},
   "outputs": [
    {
     "name": "stdout",
     "output_type": "stream",
     "text": [
      "100\n",
      "95\n",
      "90\n",
      "85\n",
      "80\n",
      "75\n",
      "70\n",
      "65\n",
      "60\n",
      "55\n",
      "50\n",
      "45\n",
      "40\n",
      "35\n",
      "30\n",
      "25\n",
      "20\n",
      "15\n",
      "10\n",
      "5\n"
     ]
    }
   ],
   "source": [
    "i = 100\n",
    "\n",
    "flag = True\n",
    "\n",
    "while flag:\n",
    "    \n",
    "    print(i)\n",
    "    \n",
    "    if i > 5:\n",
    "        \n",
    "        i -= 5\n",
    "        \n",
    "    else:\n",
    "        \n",
    "        flag = False\n",
    "        "
   ]
  },
  {
   "cell_type": "markdown",
   "id": "stone-behavior",
   "metadata": {},
   "source": [
    "### B) For Loops\n",
    "\n",
    "* Write some code that prompts the user for a number, then shows a multiplication table up through 10 for that number."
   ]
  },
  {
   "cell_type": "code",
   "execution_count": null,
   "id": "banned-candidate",
   "metadata": {},
   "outputs": [],
   "source": [
    "# prompt user for a number\n",
    "# loop through numbers 1-10\n",
    "# for each number generate a table equation and print results"
   ]
  },
  {
   "cell_type": "code",
   "execution_count": 2,
   "id": "vertical-bridges",
   "metadata": {},
   "outputs": [
    {
     "name": "stdout",
     "output_type": "stream",
     "text": [
      "Give me a number!\n",
      "6\n"
     ]
    }
   ],
   "source": [
    "# prompt user for a number\n",
    "print(\"Give me a number!\")\n",
    "input_number = input()"
   ]
  },
  {
   "cell_type": "code",
   "execution_count": 3,
   "id": "representative-rating",
   "metadata": {},
   "outputs": [
    {
     "name": "stdout",
     "output_type": "stream",
     "text": [
      "6 X 1 = 6\n",
      "6 X 2 = 66\n",
      "6 X 3 = 666\n",
      "6 X 4 = 6666\n",
      "6 X 5 = 66666\n",
      "6 X 6 = 666666\n",
      "6 X 7 = 6666666\n",
      "6 X 8 = 66666666\n",
      "6 X 9 = 666666666\n",
      "6 X 10 = 6666666666\n"
     ]
    }
   ],
   "source": [
    "# loop through the list of table numbers\n",
    "# for each generate a table equation and print results\n",
    "\n",
    "for tab_num in range(1,11):\n",
    "    \n",
    "    print(f\"{input_number} X {tab_num} = {input_number * tab_num}\") # input numbers are interpreted as strings"
   ]
  },
  {
   "cell_type": "code",
   "execution_count": 4,
   "id": "union-powder",
   "metadata": {},
   "outputs": [
    {
     "name": "stdout",
     "output_type": "stream",
     "text": [
      "6 X 1 = 6\n",
      "6 X 2 = 12\n",
      "6 X 3 = 18\n",
      "6 X 4 = 24\n",
      "6 X 5 = 30\n",
      "6 X 6 = 36\n",
      "6 X 7 = 42\n",
      "6 X 8 = 48\n",
      "6 X 9 = 54\n",
      "6 X 10 = 60\n"
     ]
    }
   ],
   "source": [
    "# loop through the list of table numbers\n",
    "# for each generate a table equation and print results\n",
    "\n",
    "for tab_num in range(1,11):\n",
    "    \n",
    "    print(f\"{input_number} X {tab_num} = {int(input_number) * tab_num}\") # Fix data types by wrapping in desired type"
   ]
  },
  {
   "cell_type": "code",
   "execution_count": 5,
   "id": "superb-chocolate",
   "metadata": {},
   "outputs": [
    {
     "name": "stdout",
     "output_type": "stream",
     "text": [
      "Give me a number!\n",
      "6\n",
      "\n",
      "6 X 1 = 6\n",
      "6 X 2 = 12\n",
      "6 X 3 = 18\n",
      "6 X 4 = 24\n",
      "6 X 5 = 30\n",
      "6 X 6 = 36\n",
      "6 X 7 = 42\n",
      "6 X 8 = 48\n",
      "6 X 9 = 54\n",
      "6 X 10 = 60\n"
     ]
    }
   ],
   "source": [
    "print(\"Give me a number!\")\n",
    "\n",
    "input_number = input()\n",
    "\n",
    "print() # adds a new line\n",
    "\n",
    "for tab_num in range(1,11):\n",
    "    \n",
    "    print(f\"{input_number} X {tab_num} = {int(input_number) * tab_num}\")"
   ]
  },
  {
   "cell_type": "markdown",
   "id": "buried-denial",
   "metadata": {},
   "source": [
    "* Create a for loop that uses print to create A repeating number pyramid though the number 9"
   ]
  },
  {
   "cell_type": "code",
   "execution_count": 6,
   "id": "latest-hamburg",
   "metadata": {},
   "outputs": [
    {
     "name": "stdout",
     "output_type": "stream",
     "text": [
      "1\n",
      "22\n",
      "333\n",
      "4444\n",
      "55555\n",
      "666666\n",
      "7777777\n",
      "88888888\n",
      "999999999\n"
     ]
    }
   ],
   "source": [
    "# loop through 1-9\n",
    "# for each print the number that number of times\n",
    "\n",
    "for r in range(1,10):\n",
    "    \n",
    "    print(str(r) * r) "
   ]
  },
  {
   "cell_type": "markdown",
   "id": "bacterial-superior",
   "metadata": {},
   "source": [
    "* Prompt the user for an odd number between 1 and 50. Use a loop and a break statement to continue prompting the user if they enter invalid input. (Hint: use the isdigit method on strings to determine this). Use a loop and the continue statement to output all the odd numbers between 1 and 50, except for the number the user entered."
   ]
  },
  {
   "cell_type": "code",
   "execution_count": null,
   "id": "designed-shore",
   "metadata": {},
   "outputs": [],
   "source": [
    "# begin while loop\n",
    "# propt user for number\n",
    "# if number is valid break the loop\n",
    "# if not display error and restart loop\n",
    "# valid means numeric, odd, and between 1 and 50\n",
    "\n",
    "# loop through odd number between 1 and 50\n",
    "# print each non-selected number with message \n",
    "# selected number should read yikes skipping"
   ]
  },
  {
   "cell_type": "code",
   "execution_count": 7,
   "id": "characteristic-crown",
   "metadata": {},
   "outputs": [
    {
     "name": "stdout",
     "output_type": "stream",
     "text": [
      "Enter a whole odd number between 1 and 50\n",
      "4\n",
      "\n",
      "Please Enter a number less than 50 and odd!\n",
      "\n",
      "Enter a whole odd number between 1 and 50\n",
      "5\n",
      "\n",
      "Thank you! Your number is: 5\n",
      "\n"
     ]
    }
   ],
   "source": [
    "while True:\n",
    "    \n",
    "    # prompt user for a number\n",
    "    print(\"Enter a whole odd number between 1 and 50\")\n",
    "    pick = input()\n",
    "    \n",
    "    # check is a whole positive number\n",
    "    if pick.isnumeric() == False:        \n",
    "        \n",
    "        print()\n",
    "        print(\"Please enter a WHOLE NUMBER!\")\n",
    "        print()\n",
    "        \n",
    "        continue\n",
    "        \n",
    "    else:\n",
    "        \n",
    "        pick = int(pick) # make ready to evaluate as a number\n",
    "    \n",
    "    \n",
    "    # check is an appropriate number\n",
    "    if (pick < 51) and (pick % 2 != 0):\n",
    "        \n",
    "        print()\n",
    "        print(f\"Thank you! Your number is: {pick}\")\n",
    "        print()\n",
    "        \n",
    "        break\n",
    "        \n",
    "    else:\n",
    "        \n",
    "        print()\n",
    "        print(\"Please Enter a number less than 50 and odd!\")\n",
    "        print()"
   ]
  },
  {
   "cell_type": "code",
   "execution_count": 8,
   "id": "interested-suspect",
   "metadata": {},
   "outputs": [
    {
     "name": "stdout",
     "output_type": "stream",
     "text": [
      "Here is an odd number: 1\n",
      "Here is an odd number: 3\n",
      "Here is an odd number: 5\n",
      "Here is an odd number: 7\n",
      "Here is an odd number: 9\n",
      "Here is an odd number: 11\n",
      "Here is an odd number: 13\n",
      "Here is an odd number: 15\n",
      "Here is an odd number: 17\n",
      "Here is an odd number: 19\n",
      "Here is an odd number: 21\n",
      "Here is an odd number: 23\n",
      "Here is an odd number: 25\n",
      "Here is an odd number: 27\n",
      "Here is an odd number: 29\n",
      "Here is an odd number: 31\n",
      "Here is an odd number: 33\n",
      "Here is an odd number: 35\n",
      "Here is an odd number: 37\n",
      "Here is an odd number: 39\n",
      "Here is an odd number: 41\n",
      "Here is an odd number: 43\n",
      "Here is an odd number: 45\n",
      "Here is an odd number: 47\n",
      "Here is an odd number: 49\n"
     ]
    }
   ],
   "source": [
    "# get odd numbers using continue\n",
    "\n",
    "for number in range(1,50):\n",
    "    \n",
    "    if number % 2 == 0:\n",
    "        \n",
    "        continue\n",
    "        \n",
    "    print(\"Here is an odd number:\", number)"
   ]
  },
  {
   "cell_type": "code",
   "execution_count": 9,
   "id": "cosmetic-beaver",
   "metadata": {},
   "outputs": [
    {
     "name": "stdout",
     "output_type": "stream",
     "text": [
      "Here is an odd number: 1\n",
      "Here is an odd number: 3\n",
      "Yikes! Skipping number: 5\n",
      "Here is an odd number: 7\n",
      "Here is an odd number: 9\n",
      "Here is an odd number: 11\n",
      "Here is an odd number: 13\n",
      "Here is an odd number: 15\n",
      "Here is an odd number: 17\n",
      "Here is an odd number: 19\n",
      "Here is an odd number: 21\n",
      "Here is an odd number: 23\n",
      "Here is an odd number: 25\n",
      "Here is an odd number: 27\n",
      "Here is an odd number: 29\n",
      "Here is an odd number: 31\n",
      "Here is an odd number: 33\n",
      "Here is an odd number: 35\n",
      "Here is an odd number: 37\n",
      "Here is an odd number: 39\n",
      "Here is an odd number: 41\n",
      "Here is an odd number: 43\n",
      "Here is an odd number: 45\n",
      "Here is an odd number: 47\n",
      "Here is an odd number: 49\n"
     ]
    }
   ],
   "source": [
    "# Add Yikes!\n",
    "pick = 5\n",
    "\n",
    "for number in range(1,50):\n",
    "    \n",
    "    if number %2 == 0:\n",
    "        \n",
    "        continue\n",
    "        \n",
    "    if number == pick:\n",
    "        \n",
    "        print(\"Yikes! Skipping number:\", number)\n",
    "        \n",
    "        continue\n",
    "        \n",
    "    print(\"Here is an odd number:\", number)"
   ]
  },
  {
   "cell_type": "code",
   "execution_count": 11,
   "id": "restricted-comedy",
   "metadata": {},
   "outputs": [
    {
     "name": "stdout",
     "output_type": "stream",
     "text": [
      "Enter a whole odd number between 1 and 50\n",
      "three\n",
      "\n",
      "Please enter a WHOLE NUMBER!\n",
      "\n",
      "Enter a whole odd number between 1 and 50\n",
      "7\n",
      "\n",
      "Thank you! Your number is: 7\n",
      "\n",
      "Here is an odd number: 1\n",
      "Here is an odd number: 3\n",
      "Here is an odd number: 5\n",
      "Yikes! Skipping number: 7\n",
      "Here is an odd number: 9\n",
      "Here is an odd number: 11\n",
      "Here is an odd number: 13\n",
      "Here is an odd number: 15\n",
      "Here is an odd number: 17\n",
      "Here is an odd number: 19\n",
      "Here is an odd number: 21\n",
      "Here is an odd number: 23\n",
      "Here is an odd number: 25\n",
      "Here is an odd number: 27\n",
      "Here is an odd number: 29\n",
      "Here is an odd number: 31\n",
      "Here is an odd number: 33\n",
      "Here is an odd number: 35\n",
      "Here is an odd number: 37\n",
      "Here is an odd number: 39\n",
      "Here is an odd number: 41\n",
      "Here is an odd number: 43\n",
      "Here is an odd number: 45\n",
      "Here is an odd number: 47\n",
      "Here is an odd number: 49\n"
     ]
    }
   ],
   "source": [
    "# all together\n",
    "\n",
    "while True:\n",
    "    \n",
    "    # prompt user for a number\n",
    "    print(\"Enter a whole odd number between 1 and 50\")\n",
    "    pick = input()\n",
    "    \n",
    "    # check is a number\n",
    "    if pick.isnumeric() == False:        \n",
    "        \n",
    "        print()\n",
    "        print(\"Please enter a WHOLE NUMBER!\")\n",
    "        print()\n",
    "        \n",
    "        continue\n",
    "        \n",
    "    else:\n",
    "        \n",
    "        pick = int(pick) # make ready to evaluate as a number\n",
    "    \n",
    "    \n",
    "    # check is an appropriate number\n",
    "    if (pick > 0) and (pick <51) and (pick %2 != 0):\n",
    "        \n",
    "        print()\n",
    "        print(f\"Thank you! Your number is: {pick}\")\n",
    "        print()\n",
    "        \n",
    "        break\n",
    "        \n",
    "    else:\n",
    "        \n",
    "        print()\n",
    "        print(\"This number is invalid!\")\n",
    "        print()\n",
    "        \n",
    "# print odd number message and yikes message for numbers 1 to 50    \n",
    "for number in range(1,50):\n",
    "    \n",
    "    if number %2 == 0:\n",
    "        \n",
    "        continue\n",
    "        \n",
    "    if number == pick:\n",
    "        \n",
    "        print(\"Yikes! Skipping number:\", number)\n",
    "        \n",
    "        continue\n",
    "        \n",
    "    print(\"Here is an odd number:\", number)\n"
   ]
  },
  {
   "cell_type": "markdown",
   "id": "designed-startup",
   "metadata": {},
   "source": [
    "* Prompt the user to enter a positive number and write a loop that counts from 0 to that number.\n",
    "* First make sure that the value the user entered is a valid number"
   ]
  },
  {
   "cell_type": "code",
   "execution_count": 13,
   "id": "lucky-cooking",
   "metadata": {},
   "outputs": [
    {
     "name": "stdout",
     "output_type": "stream",
     "text": [
      "Enter a positive whole number!\n",
      "-09\n",
      "\n",
      "Please enter a POSITIVE WHOLE NUMBER!\n",
      "\n",
      "Enter a positive whole number!\n",
      "8\n",
      "\n",
      "Thank you! Your number is: 8\n",
      "\n"
     ]
    }
   ],
   "source": [
    "# get valid input\n",
    "\n",
    "while True:\n",
    "    \n",
    "    # prompt user for a number\n",
    "    print(\"Enter a positive whole number!\")\n",
    "    pick = input()\n",
    "    \n",
    "    # check is a number\n",
    "    if pick.isnumeric() == False:        \n",
    "        \n",
    "        print()\n",
    "        print(\"Please enter a POSITIVE WHOLE NUMBER!\")\n",
    "        print()\n",
    "        \n",
    "    else:\n",
    "        \n",
    "        pick = int(pick) # make ready to evaluate as a number\n",
    "\n",
    "        print()\n",
    "        print(f\"Thank you! Your number is: {pick}\")\n",
    "        print()\n",
    "        \n",
    "        break"
   ]
  },
  {
   "cell_type": "code",
   "execution_count": 14,
   "id": "mobile-vulnerability",
   "metadata": {},
   "outputs": [
    {
     "name": "stdout",
     "output_type": "stream",
     "text": [
      "0\n",
      "1\n",
      "2\n",
      "3\n",
      "4\n",
      "5\n",
      "6\n",
      "7\n",
      "8\n",
      "9\n",
      "10\n",
      "11\n",
      "12\n"
     ]
    }
   ],
   "source": [
    "# count from 0 to input\n",
    "pick = 12\n",
    "\n",
    "for r in range(0,pick+1):\n",
    "    \n",
    "    print(r)    "
   ]
  },
  {
   "cell_type": "code",
   "execution_count": 16,
   "id": "chief-general",
   "metadata": {},
   "outputs": [
    {
     "name": "stdout",
     "output_type": "stream",
     "text": [
      "Enter a positive whole number!\n",
      "34\n",
      "\n",
      "Thank you! Your number is: 34\n",
      "\n",
      "0\n",
      "1\n",
      "2\n",
      "3\n",
      "4\n",
      "5\n",
      "6\n",
      "7\n",
      "8\n",
      "9\n",
      "10\n",
      "11\n",
      "12\n",
      "13\n",
      "14\n",
      "15\n",
      "16\n",
      "17\n",
      "18\n",
      "19\n",
      "20\n",
      "21\n",
      "22\n",
      "23\n",
      "24\n",
      "25\n",
      "26\n",
      "27\n",
      "28\n",
      "29\n",
      "30\n",
      "31\n",
      "32\n",
      "33\n",
      "34\n"
     ]
    }
   ],
   "source": [
    "# all together\n",
    "\n",
    "# get valid input\n",
    "while True:\n",
    "    \n",
    "    # prompt user for a number\n",
    "    print(\"Enter a positive whole number!\")\n",
    "    pick = input()\n",
    "    \n",
    "    # check is a number\n",
    "    if pick.isnumeric() == False:        \n",
    "        \n",
    "        print()\n",
    "        print(\"Please enter a POSITIVE WHOLE NUMBER!\")\n",
    "        print()\n",
    "        \n",
    "    else:\n",
    "        \n",
    "        pick = int(pick) # make ready to evaluate as a number\n",
    "\n",
    "        print()\n",
    "        print(f\"Thank you! Your number is: {pick}\")\n",
    "        print()\n",
    "        \n",
    "        break\n",
    "\n",
    "# count from 0 to input\n",
    "for r in range(0,pick+1):\n",
    "    \n",
    "    print(r)   "
   ]
  },
  {
   "cell_type": "markdown",
   "id": "facial-tours",
   "metadata": {},
   "source": [
    "* Write a program that prompts the user for a positive integer. Next write a loop that prints out the numbers from the number the user entered down to 1"
   ]
  },
  {
   "cell_type": "code",
   "execution_count": 19,
   "id": "tracked-vietnam",
   "metadata": {},
   "outputs": [
    {
     "name": "stdout",
     "output_type": "stream",
     "text": [
      "Enter a positive whole number!\n",
      "0\n",
      "\n",
      "Thank you! Your number is: 0\n",
      "\n"
     ]
    }
   ],
   "source": [
    "# get valid input\n",
    "while True:\n",
    "    \n",
    "    # prompt user for a number\n",
    "    print(\"Enter a positive whole number!\")\n",
    "    pick = input()\n",
    "    \n",
    "    # check is a number\n",
    "    if (pick.isnumeric() == False) and (pick != '0'):        \n",
    "        \n",
    "        print()\n",
    "        print(\"Please enter a POSITIVE WHOLE NUMBER!\")\n",
    "        print()\n",
    "        \n",
    "    else:\n",
    "        \n",
    "        pick = int(pick) # make ready to evaluate as a number\n",
    "\n",
    "        print()\n",
    "        print(f\"Thank you! Your number is: {pick}\")\n",
    "        print()\n",
    "        \n",
    "        break\n",
    "\n",
    "for r in range(pick,0,-1):\n",
    "    \n",
    "    print(r)"
   ]
  },
  {
   "cell_type": "markdown",
   "id": "deadly-citizenship",
   "metadata": {},
   "source": [
    "# Task 3 Fiz Buzz\n",
    "\n",
    "* Write a program that prints the numbers from 1 to 100.\n",
    "* For multiples of three print \"Fizz\" instead of the number\n",
    "* For the multiples of five print \"Buzz\".\n",
    "* For numbers which are multiples of both three and five print \"FizzBuzz\".\n",
    "\n",
    "**Take Aways**\n",
    "* Using if/elif/else will insure one print per number\n",
    "* the order in which you do your checks matter"
   ]
  },
  {
   "cell_type": "code",
   "execution_count": 20,
   "id": "random-midwest",
   "metadata": {},
   "outputs": [
    {
     "name": "stdout",
     "output_type": "stream",
     "text": [
      "1\n",
      "2\n",
      "Fizz\n",
      "4\n",
      "Buzz\n",
      "Fizz\n",
      "7\n",
      "8\n",
      "Fizz\n",
      "Buzz\n",
      "11\n",
      "Fizz\n",
      "13\n",
      "14\n",
      "FizzBuzz\n",
      "16\n",
      "17\n",
      "Fizz\n",
      "19\n",
      "Buzz\n",
      "Fizz\n",
      "22\n",
      "23\n",
      "Fizz\n",
      "Buzz\n",
      "26\n",
      "Fizz\n",
      "28\n",
      "29\n",
      "FizzBuzz\n",
      "31\n",
      "32\n",
      "Fizz\n",
      "34\n",
      "Buzz\n",
      "Fizz\n",
      "37\n",
      "38\n",
      "Fizz\n",
      "Buzz\n",
      "41\n",
      "Fizz\n",
      "43\n",
      "44\n",
      "FizzBuzz\n",
      "46\n",
      "47\n",
      "Fizz\n",
      "49\n",
      "Buzz\n",
      "Fizz\n",
      "52\n",
      "53\n",
      "Fizz\n",
      "Buzz\n",
      "56\n",
      "Fizz\n",
      "58\n",
      "59\n",
      "FizzBuzz\n",
      "61\n",
      "62\n",
      "Fizz\n",
      "64\n",
      "Buzz\n",
      "Fizz\n",
      "67\n",
      "68\n",
      "Fizz\n",
      "Buzz\n",
      "71\n",
      "Fizz\n",
      "73\n",
      "74\n",
      "FizzBuzz\n",
      "76\n",
      "77\n",
      "Fizz\n",
      "79\n",
      "Buzz\n",
      "Fizz\n",
      "82\n",
      "83\n",
      "Fizz\n",
      "Buzz\n",
      "86\n",
      "Fizz\n",
      "88\n",
      "89\n",
      "FizzBuzz\n",
      "91\n",
      "92\n",
      "Fizz\n",
      "94\n",
      "Buzz\n",
      "Fizz\n",
      "97\n",
      "98\n",
      "Fizz\n",
      "Buzz\n"
     ]
    }
   ],
   "source": [
    "# keys:\n",
    "\n",
    "for r in range(1,101):\n",
    "    \n",
    "    if r % 15 == 0:\n",
    "        \n",
    "        print(\"FizzBuzz\")\n",
    "        \n",
    "    elif r % 3 == 0:\n",
    "            \n",
    "        print(\"Fizz\")\n",
    "        \n",
    "    elif r % 5 == 0:\n",
    "        \n",
    "        print(\"Buzz\")\n",
    "        \n",
    "    else:\n",
    "        \n",
    "        print(r)"
   ]
  },
  {
   "cell_type": "markdown",
   "id": "written-rhythm",
   "metadata": {},
   "source": [
    "# Task 4 Display a table of powers.\n",
    "\n",
    "* Prompt the user to enter an integer.\n",
    "* Display a table of squares and cubes from 1 to the value entered.\n",
    "* Ask if the user wants to continue.\n",
    "* Assume that the user will enter valid data.\n",
    "* Only continue if the user agrees to."
   ]
  },
  {
   "cell_type": "code",
   "execution_count": null,
   "id": "patent-austin",
   "metadata": {},
   "outputs": [],
   "source": [
    "# create continue loop\n",
    "# create display table loop \n",
    "# place the display table loop inside the continue loop"
   ]
  },
  {
   "cell_type": "code",
   "execution_count": 21,
   "id": "choice-discharge",
   "metadata": {},
   "outputs": [
    {
     "name": "stdout",
     "output_type": "stream",
     "text": [
      "Do you wish to continue? (y/n)\n",
      "y\n",
      "This will be the display table loop\n",
      "Do you wish to continue? (y/n)\n",
      "blarg\n",
      "Do you wish to continue? (y/n)\n",
      "n\n"
     ]
    }
   ],
   "source": [
    "# create continue loop\n",
    "while True:\n",
    "      \n",
    "    print(\"Do you wish to continue? (y/n)\")\n",
    "    persist = input()\n",
    "    \n",
    "    if persist.lower() == 'y':\n",
    "        \n",
    "        print(\"This will be the display table loop\")\n",
    "        \n",
    "    elif persist.lower() == 'n':\n",
    "        \n",
    "        break\n",
    "        \n",
    "    else:\n",
    "        \n",
    "        continue "
   ]
  },
  {
   "cell_type": "code",
   "execution_count": 22,
   "id": "about-clock",
   "metadata": {},
   "outputs": [
    {
     "name": "stdout",
     "output_type": "stream",
     "text": [
      "This will be the display table loop\n",
      "Do you wish to continue? (y/n)\n",
      "y\n",
      "\n",
      "This will be the display table loop\n",
      "Do you wish to continue? (y/n)\n",
      "n\n",
      "\n"
     ]
    }
   ],
   "source": [
    "# remove prompt for first itteration \n",
    "\n",
    "first = True\n",
    "\n",
    "while True:\n",
    "    \n",
    "    # if this is the first time through the loop go right to table prompt\n",
    "    if first == True:\n",
    "        \n",
    "        first = False\n",
    "        \n",
    "        persist = 'y'\n",
    "        \n",
    "    else:\n",
    "      \n",
    "        print(\"Do you wish to continue? (y/n)\")\n",
    "        persist = input()\n",
    "        print()\n",
    "\n",
    "        \n",
    "    # Display table prompt / Quit / Re-prompt\n",
    "    if persist.lower() == 'y':\n",
    "\n",
    "        print(\"This will be the display table loop\")\n",
    "\n",
    "    elif persist.lower() == 'n':\n",
    "\n",
    "        break\n",
    "\n",
    "    else:\n",
    "\n",
    "        continue "
   ]
  },
  {
   "cell_type": "code",
   "execution_count": null,
   "id": "furnished-father",
   "metadata": {},
   "outputs": [],
   "source": [
    "# prompt user for a number\n",
    "\n",
    "# create the table\n",
    "# print titels and dividers\n",
    "# loop through 1-user's pick\n",
    "# print the number / square / cube and dividers"
   ]
  },
  {
   "cell_type": "code",
   "execution_count": 23,
   "id": "lyric-steam",
   "metadata": {},
   "outputs": [
    {
     "name": "stdout",
     "output_type": "stream",
     "text": [
      "Enter a positive whole number!\n",
      "8\n"
     ]
    }
   ],
   "source": [
    "while True:\n",
    "    \n",
    "    # prompt user for a number\n",
    "    print(\"Enter a positive whole number!\")\n",
    "    pick = input()\n",
    "    \n",
    "    # check is a number\n",
    "    if pick.isnumeric() == False:        \n",
    "        \n",
    "        print()\n",
    "        print(\"Please enter a POSITIVE WHOLE NUMBER!\")\n",
    "        print()\n",
    "        \n",
    "    else:\n",
    "        \n",
    "        pick = int(pick) # make ready to evaluate as a number\n",
    "\n",
    "        break"
   ]
  },
  {
   "cell_type": "code",
   "execution_count": 24,
   "id": "entitled-conspiracy",
   "metadata": {},
   "outputs": [
    {
     "name": "stdout",
     "output_type": "stream",
     "text": [
      " Number |Squared |Cubed  \n",
      "|-------|--------|-----|\n",
      "|1      |1       |1    |\n",
      "|2      |4       |8    |\n",
      "|3      |9       |27   |\n",
      "|4      |16      |64   |\n",
      "|5      |25      |125  |\n",
      "|6      |36      |216  |\n",
      "|7      |49      |343  |\n"
     ]
    }
   ],
   "source": [
    "# create the table\n",
    "# print titels and dividers\n",
    "# loop through 1 to user's pick\n",
    "# print the number / square / cube and dividers\n",
    "\n",
    "pick = 7\n",
    "\n",
    "# print titles \n",
    "print(\" Number |Squared |Cubed  \")\n",
    "print(\"|-------|--------|-----|\")\n",
    "\n",
    "# print body\n",
    "for r in range(1,pick+1):\n",
    "    \n",
    "    print(\"|{:<7}|{:<8}|{:<5}|\".format(r,r**2,r**3))\n",
    "    "
   ]
  },
  {
   "cell_type": "code",
   "execution_count": 25,
   "id": "defined-championship",
   "metadata": {},
   "outputs": [
    {
     "name": "stdout",
     "output_type": "stream",
     "text": [
      "Enter a positive whole number!\n",
      "7\n",
      "\n",
      " Number |Squared |Cubed  \n",
      "|-------|--------|-----|\n",
      "|1      |1       |1    |\n",
      "|2      |4       |8    |\n",
      "|3      |9       |27   |\n",
      "|4      |16      |64   |\n",
      "|5      |25      |125  |\n",
      "|6      |36      |216  |\n",
      "|7      |49      |343  |\n",
      "\n",
      "Do you wish to continue? (y/n)\n",
      "isuvgl\n",
      "\n",
      "Do you wish to continue? (y/n)\n",
      "y\n",
      "\n",
      "Enter a positive whole number!\n",
      "ilyfgli\n",
      "\n",
      "Please enter a POSITIVE WHOLE NUMBER!\n",
      "\n",
      "Enter a positive whole number!\n",
      "9\n",
      "\n",
      " Number |Squared |Cubed  \n",
      "|-------|--------|-----|\n",
      "|1      |1       |1    |\n",
      "|2      |4       |8    |\n",
      "|3      |9       |27   |\n",
      "|4      |16      |64   |\n",
      "|5      |25      |125  |\n",
      "|6      |36      |216  |\n",
      "|7      |49      |343  |\n",
      "|8      |64      |512  |\n",
      "|9      |81      |729  |\n",
      "\n",
      "Do you wish to continue? (y/n)\n",
      "n\n",
      "\n"
     ]
    }
   ],
   "source": [
    "# all together now\n",
    "\n",
    "first = True\n",
    "\n",
    "while True:\n",
    "    \n",
    "    # if this is the first time through the loop go right to table prompt\n",
    "    if first == True:\n",
    "        \n",
    "        first = False\n",
    "        \n",
    "        persist = 'y'\n",
    "        \n",
    "    # if this is not the first time through the loop prompt user to continue\n",
    "    else:\n",
    "      \n",
    "        print(\"Do you wish to continue? (y/n)\")\n",
    "        persist = input()\n",
    "        print()\n",
    "\n",
    "        \n",
    "    # Display table prompt / Quit / Re-prompt\n",
    "    if persist.lower() == 'y':\n",
    "\n",
    "        # prompt user for positive whole number\n",
    "        while True:\n",
    "    \n",
    "            # prompt user for a number\n",
    "            print(\"Enter a positive whole number!\")\n",
    "            pick = input()\n",
    "\n",
    "            # check is a number\n",
    "            if pick.isnumeric() == False:        \n",
    "\n",
    "                print()\n",
    "                print(\"Please enter a POSITIVE WHOLE NUMBER!\")\n",
    "                print()\n",
    "                \n",
    "            else:\n",
    "        \n",
    "                pick = int(pick) \n",
    "            \n",
    "                break\n",
    "                \n",
    "                \n",
    "        # print titles\n",
    "        print() # adding space\n",
    "        print(\" Number |Squared |Cubed  \")\n",
    "        print(\"|-------|--------|-----|\")\n",
    "\n",
    "        # print body of chart\n",
    "        for r in range(1,pick+1):\n",
    "\n",
    "            print(\"|{:<7}|{:<8}|{:<5}|\".format(r,r**2,r**3))\n",
    "\n",
    "        \n",
    "        print() # adding space\n",
    "        \n",
    "    elif persist.lower() == 'n':\n",
    "\n",
    "        break\n",
    "\n",
    "    else:\n",
    "\n",
    "        continue "
   ]
  },
  {
   "cell_type": "code",
   "execution_count": null,
   "id": "elder-silver",
   "metadata": {},
   "outputs": [],
   "source": []
  }
 ],
 "metadata": {
  "kernelspec": {
   "display_name": "Python 3",
   "language": "python",
   "name": "python3"
  },
  "language_info": {
   "codemirror_mode": {
    "name": "ipython",
    "version": 3
   },
   "file_extension": ".py",
   "mimetype": "text/x-python",
   "name": "python",
   "nbconvert_exporter": "python",
   "pygments_lexer": "ipython3",
   "version": "3.7.4"
  }
 },
 "nbformat": 4,
 "nbformat_minor": 5
}
