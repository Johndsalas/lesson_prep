{
 "cells": [
  {
   "cell_type": "markdown",
   "id": "bridal-canvas",
   "metadata": {},
   "source": [
    "# Task 1 Control Basics\n",
    "\n",
    "### A) prompt the user for a day of the week, print out whether the day is Monday or not"
   ]
  },
  {
   "cell_type": "code",
   "execution_count": 4,
   "id": "loved-kingdom",
   "metadata": {},
   "outputs": [
    {
     "name": "stdout",
     "output_type": "stream",
     "text": [
      "What day of the week is it?   monday\n"
     ]
    }
   ],
   "source": [
    "day = input(\"What day of the week is it?   \")"
   ]
  },
  {
   "cell_type": "code",
   "execution_count": 5,
   "id": "saved-formula",
   "metadata": {},
   "outputs": [
    {
     "name": "stdout",
     "output_type": "stream",
     "text": [
      "Today is monday\n"
     ]
    }
   ],
   "source": [
    "if day.lower() == \"monday\":\n",
    "    \n",
    "    print(\"Today is monday\")\n",
    "    \n",
    "else:\n",
    "    \n",
    "    print(\"Today is not monday\")"
   ]
  },
  {
   "cell_type": "markdown",
   "id": "impressive-hartford",
   "metadata": {},
   "source": [
    "### B) Prompt the user for a day of the week, print out whether the day is a weekday or a weekend"
   ]
  },
  {
   "cell_type": "code",
   "execution_count": 9,
   "id": "running-liberty",
   "metadata": {},
   "outputs": [
    {
     "name": "stdout",
     "output_type": "stream",
     "text": [
      "What day of the week is it?\n",
      "blarg\n",
      "\n",
      "blarg is not a day of the week!\n"
     ]
    }
   ],
   "source": [
    "print(\"What day of the week is it?\")\n",
    "day = input()\n",
    "\n",
    "if day.lower() in (\"monday\", \"tuseday\", \"wednesday\", \"thursday\", \"friday\"):\n",
    "    \n",
    "    print(\"Today is a weekday!\")\n",
    "    \n",
    "elif day.lower() in (\"saturday\", \"sunday\"):\n",
    "    \n",
    "    print(\"Today is a weekend!\")\n",
    "    \n",
    "else:\n",
    "    \n",
    "    print()\n",
    "    print(f\"{day} is not a day of the week!\")"
   ]
  },
  {
   "cell_type": "markdown",
   "id": "medieval-translation",
   "metadata": {},
   "source": [
    "### C) create variables and make up values for\n",
    "\n",
    "* the number of hours worked in one week\n",
    "* the hourly rate\n",
    "* how much the week's paycheck will be\n",
    "* write the python code that calculates the weekly paycheck. You get paid time and a half if you work more than 40 hours"
   ]
  },
  {
   "cell_type": "code",
   "execution_count": 14,
   "id": "continuing-tuning",
   "metadata": {},
   "outputs": [
    {
     "name": "stdout",
     "output_type": "stream",
     "text": [
      "Total Wages: 200\n"
     ]
    }
   ],
   "source": [
    "hours_this_week = 50\n",
    "hourly_rate = 10\n",
    "\n",
    "# if no overtime, pay = hours_this_week * hourly_rate\n",
    "# if overtime, pay = (40 * hourly_rate) + overtime\n",
    "\n",
    "# overtime = (hours_this_week - 40) * (hourly_rate + (hourly_rate * 1.5))\n",
    "\n",
    "if hours_this_week <= 40:\n",
    "    \n",
    "    pay = hours_this_week * hourly_rate \n",
    "\n",
    "if hours_this_week > 40:\n",
    "    \n",
    "    overtime = (hours_this_week - 40) * (hourly_rate * 1.5)\n",
    "    \n",
    "    pay = (40 * hourly_rate) + overtime\n",
    "\n",
    "print(f\"Total Wages: {pay}\")"
   ]
  },
  {
   "cell_type": "markdown",
   "id": "limiting-interface",
   "metadata": {},
   "source": [
    "# Task 2 Loop Basics\n",
    "\n",
    "### A) While\n",
    "\n",
    "* Create an integer variable i with a value of 5.\n",
    "* Create a while loop that runs so long as i is less than or equal to 15\n",
    "* Each loop iteration, output the current value of i, then increment i by one."
   ]
  },
  {
   "cell_type": "code",
   "execution_count": 15,
   "id": "pacific-output",
   "metadata": {},
   "outputs": [
    {
     "name": "stdout",
     "output_type": "stream",
     "text": [
      "5\n",
      "6\n",
      "7\n",
      "8\n",
      "9\n",
      "10\n",
      "11\n",
      "12\n",
      "13\n",
      "14\n",
      "15\n"
     ]
    }
   ],
   "source": [
    "i = 5\n",
    "\n",
    "while i <= 15:\n",
    "    \n",
    "    print(i)\n",
    "    \n",
    "    i += 1"
   ]
  },
  {
   "cell_type": "markdown",
   "id": "permanent-integral",
   "metadata": {},
   "source": [
    "* Create a while loop that will count by 2's starting with 0 and ending at 100. Follow each number with a new line."
   ]
  },
  {
   "cell_type": "code",
   "execution_count": 19,
   "id": "critical-salem",
   "metadata": {},
   "outputs": [
    {
     "name": "stdout",
     "output_type": "stream",
     "text": [
      "2\n",
      "4\n",
      "6\n",
      "8\n",
      "10\n",
      "12\n",
      "14\n",
      "16\n",
      "18\n",
      "20\n",
      "22\n",
      "24\n",
      "26\n",
      "28\n",
      "30\n",
      "32\n",
      "34\n",
      "36\n",
      "38\n",
      "40\n",
      "42\n",
      "44\n",
      "46\n",
      "48\n",
      "50\n",
      "52\n",
      "54\n",
      "56\n",
      "58\n",
      "60\n",
      "62\n",
      "64\n",
      "66\n",
      "68\n",
      "70\n",
      "72\n",
      "74\n",
      "76\n",
      "78\n",
      "80\n",
      "82\n",
      "84\n",
      "86\n",
      "88\n",
      "90\n",
      "92\n",
      "94\n",
      "96\n",
      "98\n",
      "100\n"
     ]
    }
   ],
   "source": [
    "i = 0\n",
    "\n",
    "while i < 100:\n",
    "    \n",
    "    i += 2\n",
    "    \n",
    "    print(i)"
   ]
  },
  {
   "cell_type": "markdown",
   "id": "parallel-sustainability",
   "metadata": {},
   "source": [
    "* Alter your loop to count backwards by 5's from 100 to -10."
   ]
  },
  {
   "cell_type": "code",
   "execution_count": 18,
   "id": "completed-amateur",
   "metadata": {},
   "outputs": [
    {
     "name": "stdout",
     "output_type": "stream",
     "text": [
      "100\n",
      "95\n",
      "90\n",
      "85\n",
      "80\n",
      "75\n",
      "70\n",
      "65\n",
      "60\n",
      "55\n",
      "50\n",
      "45\n",
      "40\n",
      "35\n",
      "30\n",
      "25\n",
      "20\n",
      "15\n",
      "10\n",
      "5\n",
      "0\n",
      "-5\n",
      "-10\n"
     ]
    }
   ],
   "source": [
    "i = 100\n",
    "\n",
    "while True:\n",
    "    \n",
    "    print(i)\n",
    "    \n",
    "    i -= 5\n",
    "    \n",
    "    if i == -10:\n",
    "        \n",
    "        print(i)\n",
    "        \n",
    "        break"
   ]
  },
  {
   "cell_type": "markdown",
   "id": "korean-candle",
   "metadata": {},
   "source": [
    "* Create a while loop that starts at 2, and displays the number squared on each line while the number is less than 1,000,000. Output should equal:"
   ]
  },
  {
   "cell_type": "code",
   "execution_count": 20,
   "id": "infrared-integral",
   "metadata": {},
   "outputs": [
    {
     "name": "stdout",
     "output_type": "stream",
     "text": [
      "2\n",
      "4\n",
      "16\n",
      "256\n",
      "65536\n"
     ]
    }
   ],
   "source": [
    "i = 2\n",
    "\n",
    "while i < 1000000:\n",
    "    \n",
    "    print(i)\n",
    "    \n",
    "    i *= i"
   ]
  },
  {
   "cell_type": "markdown",
   "id": "auburn-sector",
   "metadata": {},
   "source": [
    "* Write a loop that uses print to create the output shown below.\n",
    "\n",
    "* begin at 500 \n",
    "* count down by 5's \n",
    "* end at 5"
   ]
  },
  {
   "cell_type": "code",
   "execution_count": 22,
   "id": "corresponding-cooling",
   "metadata": {},
   "outputs": [
    {
     "name": "stdout",
     "output_type": "stream",
     "text": [
      "100\n",
      "95\n",
      "90\n",
      "85\n",
      "80\n",
      "75\n",
      "70\n",
      "65\n",
      "60\n",
      "55\n",
      "50\n",
      "45\n",
      "40\n",
      "35\n",
      "30\n",
      "25\n",
      "20\n",
      "15\n",
      "10\n",
      "5\n"
     ]
    }
   ],
   "source": [
    "i = 100\n",
    "\n",
    "while True:\n",
    "    \n",
    "    print(i)\n",
    "    \n",
    "    if i > 5:\n",
    "        \n",
    "        i -= 5\n",
    "        \n",
    "    else:\n",
    "        \n",
    "        break"
   ]
  },
  {
   "cell_type": "markdown",
   "id": "continental-invite",
   "metadata": {},
   "source": [
    "### B) For Loops\n",
    "\n",
    "* Write some code that prompts the user for a number, then shows a multiplication table up through 10 for that number."
   ]
  },
  {
   "cell_type": "code",
   "execution_count": null,
   "id": "widespread-afghanistan",
   "metadata": {},
   "outputs": [],
   "source": [
    "# prompt user for a number\n",
    "# loop through the list of table numbers\n",
    "# for each generate a table equation and print results"
   ]
  },
  {
   "cell_type": "code",
   "execution_count": 27,
   "id": "rocky-yesterday",
   "metadata": {},
   "outputs": [
    {
     "name": "stdout",
     "output_type": "stream",
     "text": [
      "Give me a number!\n",
      "5\n"
     ]
    }
   ],
   "source": [
    "# prompt user for a number\n",
    "print(\"Give me a number!\")\n",
    "\n",
    "input_number = input()"
   ]
  },
  {
   "cell_type": "code",
   "execution_count": 31,
   "id": "shared-sally",
   "metadata": {},
   "outputs": [
    {
     "name": "stdout",
     "output_type": "stream",
     "text": [
      "5 X 1 = 5\n",
      "5 X 2 = 55\n",
      "5 X 3 = 555\n",
      "5 X 4 = 5555\n",
      "5 X 5 = 55555\n",
      "5 X 6 = 555555\n",
      "5 X 7 = 5555555\n",
      "5 X 8 = 55555555\n",
      "5 X 9 = 555555555\n",
      "5 X 10 = 5555555555\n"
     ]
    }
   ],
   "source": [
    "# loop through the list of table numbers\n",
    "# for each generate a table equation and print results\n",
    "\n",
    "for tab_num in range(1,11):\n",
    "    \n",
    "    print(f\"{input_number} X {tab_num} = {input_number * tab_num}\") # input numbers are interpreted as strings"
   ]
  },
  {
   "cell_type": "code",
   "execution_count": 32,
   "id": "certain-mobile",
   "metadata": {},
   "outputs": [
    {
     "name": "stdout",
     "output_type": "stream",
     "text": [
      "5 X 1 = 5\n",
      "5 X 2 = 10\n",
      "5 X 3 = 15\n",
      "5 X 4 = 20\n",
      "5 X 5 = 25\n",
      "5 X 6 = 30\n",
      "5 X 7 = 35\n",
      "5 X 8 = 40\n",
      "5 X 9 = 45\n",
      "5 X 10 = 50\n"
     ]
    }
   ],
   "source": [
    "# loop through the list of table numbers\n",
    "# for each generate a table equation and print results\n",
    "\n",
    "for tab_num in range(1,11):\n",
    "    \n",
    "    print(f\"{input_number} X {tab_num} = {int(input_number) * tab_num}\") # Fix data types by wrapping in desired type"
   ]
  },
  {
   "cell_type": "code",
   "execution_count": 34,
   "id": "japanese-hayes",
   "metadata": {},
   "outputs": [
    {
     "name": "stdout",
     "output_type": "stream",
     "text": [
      "Give me a number!\n",
      "77\n",
      "\n",
      "77 X 1 = 77\n",
      "77 X 2 = 154\n",
      "77 X 3 = 231\n",
      "77 X 4 = 308\n",
      "77 X 5 = 385\n",
      "77 X 6 = 462\n",
      "77 X 7 = 539\n",
      "77 X 8 = 616\n",
      "77 X 9 = 693\n",
      "77 X 10 = 770\n"
     ]
    }
   ],
   "source": [
    "print(\"Give me a number!\")\n",
    "\n",
    "input_number = input()\n",
    "\n",
    "print() # adds a new line\n",
    "\n",
    "for tab_num in range(1,11):\n",
    "    \n",
    "    print(f\"{input_number} X {tab_num} = {int(input_number) * tab_num}\")"
   ]
  },
  {
   "cell_type": "markdown",
   "id": "acknowledged-fever",
   "metadata": {},
   "source": [
    "* Create a for loop that uses print to create A repeating number pyramid though the number 9"
   ]
  },
  {
   "cell_type": "code",
   "execution_count": 35,
   "id": "absent-grounds",
   "metadata": {},
   "outputs": [
    {
     "name": "stdout",
     "output_type": "stream",
     "text": [
      "1\n",
      "22\n",
      "333\n",
      "4444\n",
      "55555\n",
      "666666\n",
      "7777777\n",
      "88888888\n",
      "999999999\n"
     ]
    }
   ],
   "source": [
    "# loop through 1-9\n",
    "# for each print the number that number of times\n",
    "\n",
    "for r in range(1,10):\n",
    "    \n",
    "    print(str(r) * r) "
   ]
  },
  {
   "cell_type": "markdown",
   "id": "equivalent-peripheral",
   "metadata": {},
   "source": [
    "* Prompt the user for an odd number between 1 and 50. Use a loop and a break statement to continue prompting the user if they enter invalid input. (Hint: use the isdigit method on strings to determine this). Use a loop and the continue statement to output all the odd numbers between 1 and 50, except for the number the user entered."
   ]
  },
  {
   "cell_type": "code",
   "execution_count": null,
   "id": "rental-keyboard",
   "metadata": {},
   "outputs": [],
   "source": [
    "# begin while loop\n",
    "# propt user for number\n",
    "# if number is valid break the loop\n",
    "# if not display error and restart loop\n",
    "# valid means numeric, odd, and between 1 and 50\n",
    "\n",
    "# loop through odd number between 1 and 50\n",
    "# print each non-selected number with message \n",
    "# selected number should read yikes skipping"
   ]
  },
  {
   "cell_type": "code",
   "execution_count": 46,
   "id": "checked-communication",
   "metadata": {},
   "outputs": [
    {
     "name": "stdout",
     "output_type": "stream",
     "text": [
      "Enter a whole odd number between 1 and 50\n",
      "1/2\n",
      "\n",
      "Please enter a WHOLE NUMBER!\n",
      "\n",
      "Enter a whole odd number between 1 and 50\n",
      "them\n",
      "\n",
      "Please enter a WHOLE NUMBER!\n",
      "\n",
      "Enter a whole odd number between 1 and 50\n",
      "8\n",
      "\n",
      "This number is invalid!\n",
      "\n",
      "Enter a whole odd number between 1 and 50\n",
      "15\n",
      "\n",
      "Thank you, your number is: 15\n",
      "\n"
     ]
    }
   ],
   "source": [
    "while True:\n",
    "    \n",
    "    # prompt user for a number\n",
    "    print(\"Enter a whole odd number between 1 and 50\")\n",
    "    pick = input()\n",
    "    \n",
    "    # check is a whole positive number\n",
    "    if pick.isnumeric() == False:        \n",
    "        \n",
    "        print()\n",
    "        print(\"Please enter a WHOLE NUMBER!\")\n",
    "        print()\n",
    "        \n",
    "        continue\n",
    "        \n",
    "    else:\n",
    "        \n",
    "        pick = int(pick) # make ready to evaluate as a number\n",
    "    \n",
    "    \n",
    "    # check is an appropriate number\n",
    "    if (pick < 51) and (pick % 2 != 0):\n",
    "        \n",
    "        print()\n",
    "        print(f\"Thank you! Your number is: {pick}\")\n",
    "        print()\n",
    "        \n",
    "        break\n",
    "        \n",
    "    else:\n",
    "        \n",
    "        print()\n",
    "        print(\"This number is invalid!\")\n",
    "        print()"
   ]
  },
  {
   "cell_type": "code",
   "execution_count": 49,
   "id": "heavy-circuit",
   "metadata": {},
   "outputs": [
    {
     "name": "stdout",
     "output_type": "stream",
     "text": [
      "Here is an odd number: 1\n",
      "Here is an odd number: 3\n",
      "Here is an odd number: 5\n",
      "Here is an odd number: 7\n",
      "Here is an odd number: 9\n",
      "Here is an odd number: 11\n",
      "Here is an odd number: 13\n",
      "Here is an odd number: 15\n",
      "Here is an odd number: 17\n",
      "Here is an odd number: 19\n",
      "Here is an odd number: 21\n",
      "Here is an odd number: 23\n",
      "Here is an odd number: 25\n",
      "Here is an odd number: 27\n",
      "Here is an odd number: 29\n",
      "Here is an odd number: 31\n",
      "Here is an odd number: 33\n",
      "Here is an odd number: 35\n",
      "Here is an odd number: 37\n",
      "Here is an odd number: 39\n",
      "Here is an odd number: 41\n",
      "Here is an odd number: 43\n",
      "Here is an odd number: 45\n",
      "Here is an odd number: 47\n",
      "Here is an odd number: 49\n"
     ]
    }
   ],
   "source": [
    "# get odd numbers using continue\n",
    "\n",
    "for number in range(1,50):\n",
    "    \n",
    "    if number % 2 == 0:\n",
    "        \n",
    "        continue\n",
    "        \n",
    "    print(\"Here is an odd number:\", number)"
   ]
  },
  {
   "cell_type": "code",
   "execution_count": 51,
   "id": "silent-insight",
   "metadata": {},
   "outputs": [
    {
     "name": "stdout",
     "output_type": "stream",
     "text": [
      "Here is an odd number: 1\n",
      "Here is an odd number: 3\n",
      "Here is an odd number: 5\n",
      "Here is an odd number: 7\n",
      "Here is an odd number: 9\n",
      "Here is an odd number: 11\n",
      "Here is an odd number: 13\n",
      "Here is an odd number: 15\n",
      "Here is an odd number: 17\n",
      "Here is an odd number: 19\n",
      "Here is an odd number: 21\n",
      "Here is an odd number: 23\n",
      "Yikes! Skipping number: 25\n",
      "Here is an odd number: 27\n",
      "Here is an odd number: 29\n",
      "Here is an odd number: 31\n",
      "Here is an odd number: 33\n",
      "Here is an odd number: 35\n",
      "Here is an odd number: 37\n",
      "Here is an odd number: 39\n",
      "Here is an odd number: 41\n",
      "Here is an odd number: 43\n",
      "Here is an odd number: 45\n",
      "Here is an odd number: 47\n",
      "Here is an odd number: 49\n"
     ]
    }
   ],
   "source": [
    "# Add Yikes!\n",
    "pick = 25\n",
    "\n",
    "for number in range(1,50):\n",
    "    \n",
    "    if number %2 == 0:\n",
    "        \n",
    "        continue\n",
    "        \n",
    "    if number == pick:\n",
    "        \n",
    "        print(\"Yikes! Skipping number:\", number)\n",
    "        \n",
    "        continue\n",
    "        \n",
    "    print(\"Here is an odd number:\", number)"
   ]
  },
  {
   "cell_type": "code",
   "execution_count": 91,
   "id": "annual-lender",
   "metadata": {},
   "outputs": [
    {
     "name": "stdout",
     "output_type": "stream",
     "text": [
      "Enter a whole odd number between 1 and 50\n",
      "7\n",
      "\n",
      "Thank you! Your number is: 7\n",
      "\n",
      "Here is an odd number: 1\n",
      "Here is an odd number: 3\n",
      "Here is an odd number: 5\n",
      "Yikes! Skipping number: 7\n",
      "Here is an odd number: 9\n",
      "Here is an odd number: 11\n",
      "Here is an odd number: 13\n",
      "Here is an odd number: 15\n",
      "Here is an odd number: 17\n",
      "Here is an odd number: 19\n",
      "Here is an odd number: 21\n",
      "Here is an odd number: 23\n",
      "Here is an odd number: 25\n",
      "Here is an odd number: 27\n",
      "Here is an odd number: 29\n",
      "Here is an odd number: 31\n",
      "Here is an odd number: 33\n",
      "Here is an odd number: 35\n",
      "Here is an odd number: 37\n",
      "Here is an odd number: 39\n",
      "Here is an odd number: 41\n",
      "Here is an odd number: 43\n",
      "Here is an odd number: 45\n",
      "Here is an odd number: 47\n",
      "Here is an odd number: 49\n"
     ]
    }
   ],
   "source": [
    "# all together\n",
    "\n",
    "while True:\n",
    "    \n",
    "    # prompt user for a number\n",
    "    print(\"Enter a whole odd number between 1 and 50\")\n",
    "    pick = input()\n",
    "    \n",
    "    # check is a number\n",
    "    if pick.isnumeric() == False:        \n",
    "        \n",
    "        print()\n",
    "        print(\"Please enter a WHOLE NUMBER!\")\n",
    "        print()\n",
    "        \n",
    "        continue\n",
    "        \n",
    "    else:\n",
    "        \n",
    "        pick = int(pick) # make ready to evaluate as a number\n",
    "    \n",
    "    \n",
    "    # check is an appropriate number\n",
    "    if (pick > 0) and (pick <51) and (pick %2 != 0):\n",
    "        \n",
    "        print()\n",
    "        print(f\"Thank you! Your number is: {pick}\")\n",
    "        print()\n",
    "        \n",
    "        break\n",
    "        \n",
    "    else:\n",
    "        \n",
    "        print()\n",
    "        print(\"This number is invalid!\")\n",
    "        print()\n",
    "        \n",
    "# print odd number message and yikes message for numbers 1 to 50    \n",
    "for number in range(1,50):\n",
    "    \n",
    "    if number %2 == 0:\n",
    "        \n",
    "        continue\n",
    "        \n",
    "    if number == pick:\n",
    "        \n",
    "        print(\"Yikes! Skipping number:\", number)\n",
    "        \n",
    "        continue\n",
    "        \n",
    "    print(\"Here is an odd number:\", number)\n"
   ]
  },
  {
   "cell_type": "markdown",
   "id": "seven-tomorrow",
   "metadata": {},
   "source": [
    "* Prompt the user to enter a positive number and write a loop that counts from 0 to that number.\n",
    "* First make sure that the value the user entered is a valid number"
   ]
  },
  {
   "cell_type": "code",
   "execution_count": 60,
   "id": "abstract-springfield",
   "metadata": {},
   "outputs": [
    {
     "name": "stdout",
     "output_type": "stream",
     "text": [
      "Enter a positive whole number!\n",
      "89\n",
      "\n",
      "Thank you! Your number is: 89\n",
      "\n"
     ]
    }
   ],
   "source": [
    "# get valid input\n",
    "\n",
    "while True:\n",
    "    \n",
    "    # prompt user for a number\n",
    "    print(\"Enter a positive whole number!\")\n",
    "    pick = input()\n",
    "    \n",
    "    # check is a number\n",
    "    if pick.isnumeric() == False:        \n",
    "        \n",
    "        print()\n",
    "        print(\"Please enter a POSITIVE WHOLE NUMBER!\")\n",
    "        print()\n",
    "        \n",
    "    else:\n",
    "        \n",
    "        pick = int(pick) # make ready to evaluate as a number\n",
    "\n",
    "        print()\n",
    "        print(f\"Thank you! Your number is: {pick}\")\n",
    "        print()\n",
    "        \n",
    "        break"
   ]
  },
  {
   "cell_type": "code",
   "execution_count": 61,
   "id": "sharp-recording",
   "metadata": {},
   "outputs": [
    {
     "name": "stdout",
     "output_type": "stream",
     "text": [
      "0\n",
      "1\n",
      "2\n",
      "3\n",
      "4\n",
      "5\n",
      "6\n",
      "7\n",
      "8\n",
      "9\n",
      "10\n",
      "11\n",
      "12\n"
     ]
    }
   ],
   "source": [
    "# count from 0 to input\n",
    "pick = 12\n",
    "\n",
    "for r in range(0,pick+1):\n",
    "    \n",
    "    print(r)    "
   ]
  },
  {
   "cell_type": "code",
   "execution_count": 92,
   "id": "available-contributor",
   "metadata": {},
   "outputs": [
    {
     "name": "stdout",
     "output_type": "stream",
     "text": [
      "Enter a positive whole number!\n",
      "7\n",
      "\n",
      "Thank you! Your number is: 7\n",
      "\n",
      "0\n",
      "1\n",
      "2\n",
      "3\n",
      "4\n",
      "5\n",
      "6\n",
      "7\n"
     ]
    }
   ],
   "source": [
    "# all together\n",
    "\n",
    "\n",
    "# get valid input\n",
    "while True:\n",
    "    \n",
    "    # prompt user for a number\n",
    "    print(\"Enter a positive whole number!\")\n",
    "    pick = input()\n",
    "    \n",
    "    # check is a number\n",
    "    if pick.isnumeric() == False:        \n",
    "        \n",
    "        print()\n",
    "        print(\"Please enter a POSITIVE WHOLE NUMBER!\")\n",
    "        print()\n",
    "        \n",
    "    else:\n",
    "        \n",
    "        pick = int(pick) # make ready to evaluate as a number\n",
    "\n",
    "        print()\n",
    "        print(f\"Thank you! Your number is: {pick}\")\n",
    "        print()\n",
    "        \n",
    "        break\n",
    "\n",
    "# count from 0 to input\n",
    "for r in range(0,pick+1):\n",
    "    \n",
    "    print(r)   "
   ]
  },
  {
   "cell_type": "markdown",
   "id": "coupled-plymouth",
   "metadata": {},
   "source": [
    "* Write a program that prompts the user for a positive integer. Next write a loop that prints out the numbers from the number the user entered down to 1"
   ]
  },
  {
   "cell_type": "code",
   "execution_count": 93,
   "id": "commercial-genre",
   "metadata": {},
   "outputs": [
    {
     "name": "stdout",
     "output_type": "stream",
     "text": [
      "Enter a positive whole number!\n",
      "3\n",
      "\n",
      "Thank you! Your number is: 3\n",
      "\n",
      "3\n",
      "2\n",
      "1\n"
     ]
    }
   ],
   "source": [
    "# get valid input\n",
    "while True:\n",
    "    \n",
    "    # prompt user for a number\n",
    "    print(\"Enter a positive whole number!\")\n",
    "    pick = input()\n",
    "    \n",
    "    # check is a number\n",
    "    if pick.isnumeric() == False:        \n",
    "        \n",
    "        print()\n",
    "        print(\"Please enter a POSITIVE WHOLE NUMBER!\")\n",
    "        print()\n",
    "        \n",
    "    else:\n",
    "        \n",
    "        pick = int(pick) # make ready to evaluate as a number\n",
    "\n",
    "        print()\n",
    "        print(f\"Thank you! Your number is: {pick}\")\n",
    "        print()\n",
    "        \n",
    "        break\n",
    "\n",
    "for r in range(pick,0,-1):\n",
    "    \n",
    "    print(r)"
   ]
  },
  {
   "cell_type": "markdown",
   "id": "afraid-pride",
   "metadata": {},
   "source": [
    "# Task 3 Fiz Buzz\n",
    "\n",
    "* Write a program that prints the numbers from 1 to 100.\n",
    "* For multiples of three print \"Fizz\" instead of the number\n",
    "* For the multiples of five print \"Buzz\".\n",
    "* For numbers which are multiples of both three and five print \"FizzBuzz\".\n",
    "\n",
    "**Take Aways**\n",
    "* Using if/elif/else will insure one print per number\n",
    "* the order in which you do your checks matter"
   ]
  },
  {
   "cell_type": "code",
   "execution_count": 67,
   "id": "correct-privilege",
   "metadata": {},
   "outputs": [
    {
     "name": "stdout",
     "output_type": "stream",
     "text": [
      "1\n",
      "2\n",
      "Fizz\n",
      "4\n",
      "Buzz\n",
      "Fizz\n",
      "7\n",
      "8\n",
      "Fizz\n",
      "Buzz\n",
      "11\n",
      "Fizz\n",
      "13\n",
      "14\n",
      "FizzBuzz\n",
      "16\n",
      "17\n",
      "Fizz\n",
      "19\n",
      "Buzz\n",
      "Fizz\n",
      "22\n",
      "23\n",
      "Fizz\n",
      "Buzz\n",
      "26\n",
      "Fizz\n",
      "28\n",
      "29\n",
      "FizzBuzz\n",
      "31\n",
      "32\n",
      "Fizz\n",
      "34\n",
      "Buzz\n",
      "Fizz\n",
      "37\n",
      "38\n",
      "Fizz\n",
      "Buzz\n",
      "41\n",
      "Fizz\n",
      "43\n",
      "44\n",
      "FizzBuzz\n",
      "46\n",
      "47\n",
      "Fizz\n",
      "49\n",
      "Buzz\n",
      "Fizz\n",
      "52\n",
      "53\n",
      "Fizz\n",
      "Buzz\n",
      "56\n",
      "Fizz\n",
      "58\n",
      "59\n",
      "FizzBuzz\n",
      "61\n",
      "62\n",
      "Fizz\n",
      "64\n",
      "Buzz\n",
      "Fizz\n",
      "67\n",
      "68\n",
      "Fizz\n",
      "Buzz\n",
      "71\n",
      "Fizz\n",
      "73\n",
      "74\n",
      "FizzBuzz\n",
      "76\n",
      "77\n",
      "Fizz\n",
      "79\n",
      "Buzz\n",
      "Fizz\n",
      "82\n",
      "83\n",
      "Fizz\n",
      "Buzz\n",
      "86\n",
      "Fizz\n",
      "88\n",
      "89\n",
      "FizzBuzz\n",
      "91\n",
      "92\n",
      "Fizz\n",
      "94\n",
      "Buzz\n",
      "Fizz\n",
      "97\n",
      "98\n",
      "Fizz\n",
      "Buzz\n"
     ]
    }
   ],
   "source": [
    "# keys:\n",
    "\n",
    "for r in range(1,101):\n",
    "    \n",
    "    if r % 15 == 0:\n",
    "        \n",
    "        print(\"FizzBuzz\")\n",
    "        \n",
    "    elif r % 3 == 0:\n",
    "            \n",
    "        print(\"Fizz\")\n",
    "        \n",
    "    elif r % 5 == 0:\n",
    "        \n",
    "        print(\"Buzz\")\n",
    "        \n",
    "    else:\n",
    "        \n",
    "        print(r)"
   ]
  },
  {
   "cell_type": "markdown",
   "id": "threatened-andrew",
   "metadata": {},
   "source": [
    "# Task 4 Display a table of powers.\n",
    "\n",
    "* Prompt the user to enter an integer.\n",
    "* Display a table of squares and cubes from 1 to the value entered.\n",
    "* Ask if the user wants to continue.\n",
    "* Assume that the user will enter valid data.\n",
    "* Only continue if the user agrees to."
   ]
  },
  {
   "cell_type": "code",
   "execution_count": null,
   "id": "temporal-suite",
   "metadata": {},
   "outputs": [],
   "source": [
    "# create continue loop\n",
    "# create display table loop \n",
    "# place the display table loop inside the continue loop"
   ]
  },
  {
   "cell_type": "code",
   "execution_count": 69,
   "id": "legitimate-sister",
   "metadata": {},
   "outputs": [
    {
     "name": "stdout",
     "output_type": "stream",
     "text": [
      "Do you wish to continue? (y/n)\n",
      "y\n",
      "This will be the display table loop\n",
      "Do you wish to continue? (y/n)\n",
      "y\n",
      "This will be the display table loop\n",
      "Do you wish to continue? (y/n)\n",
      "y\n",
      "This will be the display table loop\n",
      "Do you wish to continue? (y/n)\n",
      "y\n",
      "This will be the display table loop\n",
      "Do you wish to continue? (y/n)\n",
      "h\n",
      "Do you wish to continue? (y/n)\n",
      "h\n",
      "Do you wish to continue? (y/n)\n",
      "h\n",
      "Do you wish to continue? (y/n)\n",
      "h\n",
      "Do you wish to continue? (y/n)\n",
      "n\n"
     ]
    }
   ],
   "source": [
    "# create continue loop\n",
    "while True:\n",
    "      \n",
    "    print(\"Do you wish to continue? (y/n)\")\n",
    "    persist = input()\n",
    "    \n",
    "    if persist.lower() == 'y':\n",
    "        \n",
    "        print(\"This will be the display table loop\")\n",
    "        \n",
    "    elif persist.lower() == 'n':\n",
    "        \n",
    "        break\n",
    "        \n",
    "    else:\n",
    "        \n",
    "        continue "
   ]
  },
  {
   "cell_type": "code",
   "execution_count": 70,
   "id": "spare-faith",
   "metadata": {},
   "outputs": [
    {
     "name": "stdout",
     "output_type": "stream",
     "text": [
      "This will be the display table loop\n",
      "Do you wish to continue? (y/n)\n",
      "y\n",
      "\n",
      "This will be the display table loop\n",
      "Do you wish to continue? (y/n)\n",
      "slunge\n",
      "\n",
      "Do you wish to continue? (y/n)\n",
      "N\n",
      "\n"
     ]
    }
   ],
   "source": [
    "# remove prompt for first itteration \n",
    "\n",
    "first = True\n",
    "\n",
    "while True:\n",
    "    \n",
    "    # if this is the first time through the loop go right to table prompt\n",
    "    if first == True:\n",
    "        \n",
    "        first = False\n",
    "        \n",
    "        persist = 'y'\n",
    "        \n",
    "    else:\n",
    "      \n",
    "        print(\"Do you wish to continue? (y/n)\")\n",
    "        persist = input()\n",
    "        print()\n",
    "\n",
    "        \n",
    "    # Display table prompt / Quit / Re-prompt\n",
    "    if persist.lower() == 'y':\n",
    "\n",
    "        print(\"This will be the display table loop\")\n",
    "\n",
    "    elif persist.lower() == 'n':\n",
    "\n",
    "        break\n",
    "\n",
    "    else:\n",
    "\n",
    "        continue "
   ]
  },
  {
   "cell_type": "code",
   "execution_count": 71,
   "id": "objective-token",
   "metadata": {},
   "outputs": [],
   "source": [
    "# prompt user for a number\n",
    "\n",
    "# create the table\n",
    "# print titels and dividers\n",
    "# loop through 1-user's pick\n",
    "# print the number / square / cube and dividers"
   ]
  },
  {
   "cell_type": "code",
   "execution_count": 83,
   "id": "conscious-controversy",
   "metadata": {},
   "outputs": [
    {
     "name": "stdout",
     "output_type": "stream",
     "text": [
      "Enter a positive whole number!\n",
      "5\n"
     ]
    }
   ],
   "source": [
    "while True:\n",
    "    \n",
    "    # prompt user for a number\n",
    "    print(\"Enter a positive whole number!\")\n",
    "    pick = input()\n",
    "    \n",
    "    # check is a number\n",
    "    if pick.isnumeric() == False:        \n",
    "        \n",
    "        print()\n",
    "        print(\"Please enter a POSITIVE WHOLE NUMBER!\")\n",
    "        print()\n",
    "        \n",
    "    else:\n",
    "        \n",
    "        pick = int(pick) # make ready to evaluate as a number\n",
    "\n",
    "        break"
   ]
  },
  {
   "cell_type": "code",
   "execution_count": 87,
   "id": "direct-planning",
   "metadata": {},
   "outputs": [
    {
     "name": "stdout",
     "output_type": "stream",
     "text": [
      " Number |Squared |Cubed  \n",
      "|-------|--------|-----|\n",
      "|1      |1       |1    |\n",
      "|2      |4       |8    |\n",
      "|3      |9       |27   |\n",
      "|4      |16      |64   |\n",
      "|5      |25      |125  |\n",
      "|6      |36      |216  |\n",
      "|7      |49      |343  |\n"
     ]
    }
   ],
   "source": [
    "# create the table\n",
    "# print titels and dividers\n",
    "# loop through 1 to user's pick\n",
    "# print the number / square / cube and dividers\n",
    "\n",
    "pick = 7\n",
    "\n",
    "# print titles \n",
    "print(\" Number |Squared |Cubed  \")\n",
    "print(\"|-------|--------|-----|\")\n",
    "\n",
    "# print body\n",
    "for r in range(1,pick+1):\n",
    "    \n",
    "    print(\"|{:<7}|{:<8}|{:<5}|\".format(r,r**2,r**3))\n",
    "    "
   ]
  },
  {
   "cell_type": "code",
   "execution_count": 90,
   "id": "unavailable-bleeding",
   "metadata": {},
   "outputs": [
    {
     "name": "stdout",
     "output_type": "stream",
     "text": [
      "Enter a positive whole number!\n",
      "15\n",
      " Number |Squared |Cubed  \n",
      "|-------|--------|-----|\n",
      "|1      |1       |1    |\n",
      "|2      |4       |8    |\n",
      "|3      |9       |27   |\n",
      "|4      |16      |64   |\n",
      "|5      |25      |125  |\n",
      "|6      |36      |216  |\n",
      "|7      |49      |343  |\n",
      "|8      |64      |512  |\n",
      "|9      |81      |729  |\n",
      "|10     |100     |1000 |\n",
      "|11     |121     |1331 |\n",
      "|12     |144     |1728 |\n",
      "|13     |169     |2197 |\n",
      "|14     |196     |2744 |\n",
      "|15     |225     |3375 |\n",
      "Do you wish to continue? (y/n)\n",
      "y\n",
      "\n",
      "Enter a positive whole number!\n",
      "14.9\n",
      "\n",
      "Please enter a POSITIVE WHOLE NUMBER!\n",
      "\n",
      "Enter a positive whole number!\n",
      "77\n",
      " Number |Squared |Cubed  \n",
      "|-------|--------|-----|\n",
      "|1      |1       |1    |\n",
      "|2      |4       |8    |\n",
      "|3      |9       |27   |\n",
      "|4      |16      |64   |\n",
      "|5      |25      |125  |\n",
      "|6      |36      |216  |\n",
      "|7      |49      |343  |\n",
      "|8      |64      |512  |\n",
      "|9      |81      |729  |\n",
      "|10     |100     |1000 |\n",
      "|11     |121     |1331 |\n",
      "|12     |144     |1728 |\n",
      "|13     |169     |2197 |\n",
      "|14     |196     |2744 |\n",
      "|15     |225     |3375 |\n",
      "|16     |256     |4096 |\n",
      "|17     |289     |4913 |\n",
      "|18     |324     |5832 |\n",
      "|19     |361     |6859 |\n",
      "|20     |400     |8000 |\n",
      "|21     |441     |9261 |\n",
      "|22     |484     |10648|\n",
      "|23     |529     |12167|\n",
      "|24     |576     |13824|\n",
      "|25     |625     |15625|\n",
      "|26     |676     |17576|\n",
      "|27     |729     |19683|\n",
      "|28     |784     |21952|\n",
      "|29     |841     |24389|\n",
      "|30     |900     |27000|\n",
      "|31     |961     |29791|\n",
      "|32     |1024    |32768|\n",
      "|33     |1089    |35937|\n",
      "|34     |1156    |39304|\n",
      "|35     |1225    |42875|\n",
      "|36     |1296    |46656|\n",
      "|37     |1369    |50653|\n",
      "|38     |1444    |54872|\n",
      "|39     |1521    |59319|\n",
      "|40     |1600    |64000|\n",
      "|41     |1681    |68921|\n",
      "|42     |1764    |74088|\n",
      "|43     |1849    |79507|\n",
      "|44     |1936    |85184|\n",
      "|45     |2025    |91125|\n",
      "|46     |2116    |97336|\n",
      "|47     |2209    |103823|\n",
      "|48     |2304    |110592|\n",
      "|49     |2401    |117649|\n",
      "|50     |2500    |125000|\n",
      "|51     |2601    |132651|\n",
      "|52     |2704    |140608|\n",
      "|53     |2809    |148877|\n",
      "|54     |2916    |157464|\n",
      "|55     |3025    |166375|\n",
      "|56     |3136    |175616|\n",
      "|57     |3249    |185193|\n",
      "|58     |3364    |195112|\n",
      "|59     |3481    |205379|\n",
      "|60     |3600    |216000|\n",
      "|61     |3721    |226981|\n",
      "|62     |3844    |238328|\n",
      "|63     |3969    |250047|\n",
      "|64     |4096    |262144|\n",
      "|65     |4225    |274625|\n",
      "|66     |4356    |287496|\n",
      "|67     |4489    |300763|\n",
      "|68     |4624    |314432|\n",
      "|69     |4761    |328509|\n",
      "|70     |4900    |343000|\n",
      "|71     |5041    |357911|\n",
      "|72     |5184    |373248|\n",
      "|73     |5329    |389017|\n",
      "|74     |5476    |405224|\n",
      "|75     |5625    |421875|\n",
      "|76     |5776    |438976|\n",
      "|77     |5929    |456533|\n",
      "Do you wish to continue? (y/n)\n",
      "splung\n",
      "\n",
      "Do you wish to continue? (y/n)\n",
      "n\n",
      "\n"
     ]
    }
   ],
   "source": [
    "# all together now\n",
    "\n",
    "first = True\n",
    "\n",
    "while True:\n",
    "    \n",
    "    # if this is the first time through the loop go right to table prompt\n",
    "    if first == True:\n",
    "        \n",
    "        first = False\n",
    "        \n",
    "        persist = 'y'\n",
    "        \n",
    "    # if this is not the first time through the loop prompt user to continue\n",
    "    else:\n",
    "      \n",
    "        print(\"Do you wish to continue? (y/n)\")\n",
    "        persist = input()\n",
    "        print()\n",
    "\n",
    "        \n",
    "    # Display table prompt / Quit / Re-prompt\n",
    "    if persist.lower() == 'y':\n",
    "\n",
    "        # prompt user for positive whole number\n",
    "        while True:\n",
    "    \n",
    "            # prompt user for a number\n",
    "            print(\"Enter a positive whole number!\")\n",
    "            pick = input()\n",
    "\n",
    "            # check is a number\n",
    "            if pick.isnumeric() == False:        \n",
    "\n",
    "                print()\n",
    "                print(\"Please enter a POSITIVE WHOLE NUMBER!\")\n",
    "                print()\n",
    "                \n",
    "            else:\n",
    "        \n",
    "                pick = int(pick) \n",
    "            \n",
    "                break\n",
    "                \n",
    "                \n",
    "        # print titles \n",
    "        print(\" Number |Squared |Cubed  \")\n",
    "        print(\"|-------|--------|-----|\")\n",
    "\n",
    "        # print body of chart\n",
    "        for r in range(1,pick+1):\n",
    "\n",
    "            print(\"|{:<7}|{:<8}|{:<5}|\".format(r,r**2,r**3))\n",
    "\n",
    "    elif persist.lower() == 'n':\n",
    "\n",
    "        break\n",
    "\n",
    "    else:\n",
    "\n",
    "        continue "
   ]
  },
  {
   "cell_type": "code",
   "execution_count": null,
   "id": "impaired-naples",
   "metadata": {},
   "outputs": [],
   "source": []
  }
 ],
 "metadata": {
  "kernelspec": {
   "display_name": "Python 3",
   "language": "python",
   "name": "python3"
  },
  "language_info": {
   "codemirror_mode": {
    "name": "ipython",
    "version": 3
   },
   "file_extension": ".py",
   "mimetype": "text/x-python",
   "name": "python",
   "nbconvert_exporter": "python",
   "pygments_lexer": "ipython3",
   "version": "3.7.4"
  }
 },
 "nbformat": 4,
 "nbformat_minor": 5
}
