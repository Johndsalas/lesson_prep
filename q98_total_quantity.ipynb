{
 "cells": [
  {
   "cell_type": "code",
   "execution_count": 1,
   "id": "documented-repository",
   "metadata": {},
   "outputs": [],
   "source": [
    "# shopping cart is a dictionary containing two key value pairs\n",
    "# the value associated with the key items is a list of dictionaries\n",
    "shopping_cart = {\n",
    "                    \"tax\": .08,\n",
    "                    \"items\": [\n",
    "                                    {\n",
    "                                        \"title\": \"orange juice\",\n",
    "                                        \"price\": 3.99,\n",
    "                                        \"quantity\": 1\n",
    "                                    },\n",
    "                                    {\n",
    "                                        \"title\": \"rice\",\n",
    "                                        \"price\": 1.99,\n",
    "                                        \"quantity\": 3\n",
    "                                    },\n",
    "                                    {\n",
    "                                        \"title\": \"beans\",\n",
    "                                        \"price\": 0.99,\n",
    "                                        \"quantity\": 3\n",
    "                                    },\n",
    "                                    {\n",
    "                                        \"title\": \"chili sauce\",\n",
    "                                        \"price\": 2.99,\n",
    "                                        \"quantity\": 1\n",
    "                                    },\n",
    "                                    {\n",
    "                                        \"title\": \"chocolate\",\n",
    "                                        \"price\": 0.75,\n",
    "                                        \"quantity\": 9\n",
    "                                    }\n",
    "                             ]\n",
    "                }"
   ]
  },
  {
   "cell_type": "code",
   "execution_count": 2,
   "id": "current-august",
   "metadata": {},
   "outputs": [
    {
     "data": {
      "text/plain": [
       "[{'title': 'orange juice', 'price': 3.99, 'quantity': 1},\n",
       " {'title': 'rice', 'price': 1.99, 'quantity': 3},\n",
       " {'title': 'beans', 'price': 0.99, 'quantity': 3},\n",
       " {'title': 'chili sauce', 'price': 2.99, 'quantity': 1},\n",
       " {'title': 'chocolate', 'price': 0.75, 'quantity': 9}]"
      ]
     },
     "execution_count": 2,
     "metadata": {},
     "output_type": "execute_result"
    }
   ],
   "source": [
    "# the list of dictionaries can be accessed using slicing\n",
    "shopping_cart[\"items\"]"
   ]
  },
  {
   "cell_type": "code",
   "execution_count": 8,
   "id": "expensive-california",
   "metadata": {},
   "outputs": [
    {
     "name": "stdout",
     "output_type": "stream",
     "text": [
      "{'title': 'orange juice', 'price': 3.99, 'quantity': 1}\n",
      "{'title': 'rice', 'price': 1.99, 'quantity': 3}\n",
      "{'title': 'beans', 'price': 0.99, 'quantity': 3}\n",
      "{'title': 'chili sauce', 'price': 2.99, 'quantity': 1}\n",
      "{'title': 'chocolate', 'price': 0.75, 'quantity': 9}\n"
     ]
    }
   ],
   "source": [
    "# you can itterate through the list of dictionaries using a for loop\n",
    "for dictionary in shopping_cart[\"items\"]:\n",
    "    \n",
    "    print(dictionary)"
   ]
  },
  {
   "cell_type": "code",
   "execution_count": 4,
   "id": "severe-animal",
   "metadata": {},
   "outputs": [
    {
     "name": "stdout",
     "output_type": "stream",
     "text": [
      "1\n",
      "3\n",
      "3\n",
      "1\n",
      "9\n"
     ]
    }
   ],
   "source": [
    "# while in the loop you can get the quantity from each dictionary using slicing\n",
    "for dictionary in shopping_cart[\"items\"]:\n",
    "    \n",
    "    print(dictionary[\"quantity\"])"
   ]
  },
  {
   "cell_type": "code",
   "execution_count": 5,
   "id": "hydraulic-sampling",
   "metadata": {},
   "outputs": [
    {
     "data": {
      "text/plain": [
       "17"
      ]
     },
     "execution_count": 5,
     "metadata": {},
     "output_type": "execute_result"
    }
   ],
   "source": [
    "# you can add the value of each quantity to a variable defined outside the loop \n",
    "total_items = 0\n",
    "\n",
    "for dictionary in shopping_cart[\"items\"]:\n",
    "    \n",
    "    total_items += dictionary[\"quantity\"]\n",
    "    \n",
    "total_items"
   ]
  },
  {
   "cell_type": "code",
   "execution_count": 6,
   "id": "rational-hotel",
   "metadata": {},
   "outputs": [],
   "source": [
    "# a function that does this would look like this\n",
    "\n",
    "def total_number_of_items(shopping_cart):\n",
    "    \n",
    "    total_items = 0\n",
    "\n",
    "    for dictionary in shopping_cart[\"items\"]:\n",
    "\n",
    "        total_items += dictionary[\"quantity\"]\n",
    "\n",
    "    return total_items"
   ]
  },
  {
   "cell_type": "code",
   "execution_count": 7,
   "id": "dependent-business",
   "metadata": {},
   "outputs": [
    {
     "data": {
      "text/plain": [
       "17"
      ]
     },
     "execution_count": 7,
     "metadata": {},
     "output_type": "execute_result"
    }
   ],
   "source": [
    "# this is a call to the function\n",
    "total_number_of_items(shopping_cart)"
   ]
  }
 ],
 "metadata": {
  "kernelspec": {
   "display_name": "Python 3",
   "language": "python",
   "name": "python3"
  },
  "language_info": {
   "codemirror_mode": {
    "name": "ipython",
    "version": 3
   },
   "file_extension": ".py",
   "mimetype": "text/x-python",
   "name": "python",
   "nbconvert_exporter": "python",
   "pygments_lexer": "ipython3",
   "version": "3.7.4"
  }
 },
 "nbformat": 4,
 "nbformat_minor": 5
}
