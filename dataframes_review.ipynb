{
 "cells": [
  {
   "cell_type": "markdown",
   "id": "ongoing-silence",
   "metadata": {},
   "source": [
    "# Copy the code from the lesson to create a dataframe full of student grades."
   ]
  },
  {
   "cell_type": "code",
   "execution_count": null,
   "id": "designed-lightweight",
   "metadata": {},
   "outputs": [],
   "source": [
    "import pandas as pd\n",
    "import numpy as np\n",
    "\n",
    "np.random.seed(123)\n",
    "\n",
    "students = ['Sally', 'Jane', 'Suzie', 'Billy', 'Ada', 'John', 'Thomas',\n",
    "            'Marie', 'Albert', 'Richard', 'Isaac', 'Alan']\n",
    "\n",
    "# randomly generate scores for each student for each subject\n",
    "# note that all the values need to have the same length here\n",
    "math_grades = np.random.randint(low=60, high=100, size=len(students))\n",
    "english_grades = np.random.randint(low=60, high=100, size=len(students))\n",
    "reading_grades = np.random.randint(low=60, high=100, size=len(students))\n",
    "\n",
    "df = pd.DataFrame({'name': students,\n",
    "                   'math': math_grades,\n",
    "                   'english': english_grades,\n",
    "                   'reading': reading_grades})"
   ]
  },
  {
   "cell_type": "code",
   "execution_count": null,
   "id": "paperback-addition",
   "metadata": {},
   "outputs": [],
   "source": [
    "df"
   ]
  },
  {
   "cell_type": "markdown",
   "id": "israeli-assessment",
   "metadata": {},
   "source": [
    "# Create a column named passing_english that indicates whether each student has a passing grade in english."
   ]
  },
  {
   "cell_type": "code",
   "execution_count": null,
   "id": "graduate-reservoir",
   "metadata": {},
   "outputs": [],
   "source": [
    "df['passing_english'] = df.english >= 70"
   ]
  },
  {
   "cell_type": "code",
   "execution_count": null,
   "id": "competent-olive",
   "metadata": {},
   "outputs": [],
   "source": [
    "df"
   ]
  },
  {
   "cell_type": "markdown",
   "id": "atomic-cameroon",
   "metadata": {},
   "source": [
    "# Sort the english grades by the passing_english column. How are duplicates handled?"
   ]
  },
  {
   "cell_type": "code",
   "execution_count": null,
   "id": "sought-segment",
   "metadata": {},
   "outputs": [],
   "source": [
    "df = df.sort_values(by='passing_english')"
   ]
  },
  {
   "cell_type": "code",
   "execution_count": null,
   "id": "logical-phrase",
   "metadata": {},
   "outputs": [],
   "source": [
    "df"
   ]
  },
  {
   "cell_type": "markdown",
   "id": "minimal-choir",
   "metadata": {},
   "source": [
    "* **Duplicates are handeled in ascending index order**"
   ]
  },
  {
   "cell_type": "markdown",
   "id": "therapeutic-defensive",
   "metadata": {},
   "source": [
    "# Sort the english grades first by passing_english and then by student name. All the students that are failing english should be first, and within the students that are failing english they should be ordered alphabetically. The same should be true for the students passing english. (Hint: you can pass a list to the .sort_values method)"
   ]
  },
  {
   "cell_type": "code",
   "execution_count": null,
   "id": "lesser-turtle",
   "metadata": {},
   "outputs": [],
   "source": [
    "df = df.sort_values(by=['passing_english', 'name'])"
   ]
  },
  {
   "cell_type": "code",
   "execution_count": null,
   "id": "generous-convert",
   "metadata": {},
   "outputs": [],
   "source": [
    "df"
   ]
  },
  {
   "cell_type": "markdown",
   "id": "civil-fitness",
   "metadata": {},
   "source": [
    "# Sort the english grades first by passing_english, and then by the actual english grade, similar to how we did in the last step."
   ]
  },
  {
   "cell_type": "code",
   "execution_count": null,
   "id": "scheduled-danger",
   "metadata": {},
   "outputs": [],
   "source": [
    "df = df.sort_values(by=['passing_english', 'english'], ascending=[False, False])"
   ]
  },
  {
   "cell_type": "code",
   "execution_count": null,
   "id": "different-immigration",
   "metadata": {},
   "outputs": [],
   "source": [
    "df"
   ]
  },
  {
   "cell_type": "markdown",
   "id": "exact-works",
   "metadata": {},
   "source": [
    "# Calculate each students overall grade and add it as a column on the dataframe. The overall grade is the average of the math, english, and reading grades."
   ]
  },
  {
   "cell_type": "code",
   "execution_count": null,
   "id": "tired-shame",
   "metadata": {},
   "outputs": [],
   "source": [
    "df[\"overall_grade\"] = round((df.math + df.english + df.reading)/3,0)"
   ]
  },
  {
   "cell_type": "code",
   "execution_count": null,
   "id": "sunset-mozambique",
   "metadata": {},
   "outputs": [],
   "source": [
    "df"
   ]
  },
  {
   "cell_type": "markdown",
   "id": "respective-prague",
   "metadata": {},
   "source": [
    "# Load the mpg dataset. "
   ]
  },
  {
   "cell_type": "code",
   "execution_count": null,
   "id": "spectacular-happiness",
   "metadata": {},
   "outputs": [],
   "source": [
    "from pydataset import data\n",
    "\n",
    "mpg = data('mpg')"
   ]
  },
  {
   "cell_type": "code",
   "execution_count": null,
   "id": "relevant-mirror",
   "metadata": {},
   "outputs": [],
   "source": [
    "mpg.head()"
   ]
  },
  {
   "cell_type": "markdown",
   "id": "american-exploration",
   "metadata": {},
   "source": [
    "# How many rows and columns are there?"
   ]
  },
  {
   "cell_type": "code",
   "execution_count": null,
   "id": "cleared-daisy",
   "metadata": {},
   "outputs": [],
   "source": [
    "mpg.shape"
   ]
  },
  {
   "cell_type": "code",
   "execution_count": null,
   "id": "revised-argentina",
   "metadata": {},
   "outputs": [],
   "source": [
    "print(f'There are {mpg.shape[0]} Rows and {mpg.shape[1]} columns')"
   ]
  },
  {
   "cell_type": "markdown",
   "id": "shared-joining",
   "metadata": {},
   "source": [
    "# What are the data types of each column?"
   ]
  },
  {
   "cell_type": "code",
   "execution_count": null,
   "id": "distributed-scanner",
   "metadata": {},
   "outputs": [],
   "source": [
    "mpg.info()"
   ]
  },
  {
   "cell_type": "markdown",
   "id": "directed-academy",
   "metadata": {},
   "source": [
    "# Summarize the dataframe with .info and .describe"
   ]
  },
  {
   "cell_type": "code",
   "execution_count": null,
   "id": "native-miniature",
   "metadata": {},
   "outputs": [],
   "source": [
    "mpg.info()"
   ]
  },
  {
   "cell_type": "code",
   "execution_count": null,
   "id": "decimal-stanley",
   "metadata": {},
   "outputs": [],
   "source": [
    "mpg.describe()"
   ]
  },
  {
   "cell_type": "markdown",
   "id": "surprised-classroom",
   "metadata": {},
   "source": [
    "# Rename the cty column to city."
   ]
  },
  {
   "cell_type": "code",
   "execution_count": null,
   "id": "demonstrated-mixer",
   "metadata": {},
   "outputs": [],
   "source": [
    "mpg.rename(columns = {'cty' : 'city'}, inplace = True)"
   ]
  },
  {
   "cell_type": "code",
   "execution_count": null,
   "id": "quick-exposure",
   "metadata": {},
   "outputs": [],
   "source": [
    "mpg.head()"
   ]
  },
  {
   "cell_type": "markdown",
   "id": "yellow-tuition",
   "metadata": {},
   "source": [
    "# Rename the hwy column to highway."
   ]
  },
  {
   "cell_type": "code",
   "execution_count": null,
   "id": "fabulous-healthcare",
   "metadata": {},
   "outputs": [],
   "source": [
    "mpg = mpg.rename(columns = {'hwy' : 'highway'})"
   ]
  },
  {
   "cell_type": "code",
   "execution_count": null,
   "id": "negative-consolidation",
   "metadata": {},
   "outputs": [],
   "source": [
    "mpg.head()"
   ]
  },
  {
   "cell_type": "markdown",
   "id": "documented-fireplace",
   "metadata": {},
   "source": [
    "# Do any cars have better city mileage than highway mileage?"
   ]
  },
  {
   "cell_type": "code",
   "execution_count": null,
   "id": "opponent-utility",
   "metadata": {},
   "outputs": [],
   "source": [
    "[mpg.city > mpg.highway]"
   ]
  },
  {
   "cell_type": "code",
   "execution_count": null,
   "id": "proof-building",
   "metadata": {},
   "outputs": [],
   "source": [
    "mpg_higher_city = mpg[mpg.city > mpg.highway]"
   ]
  },
  {
   "cell_type": "code",
   "execution_count": null,
   "id": "mysterious-space",
   "metadata": {},
   "outputs": [],
   "source": [
    "mpg_higher_city"
   ]
  },
  {
   "cell_type": "markdown",
   "id": "cathedral-notice",
   "metadata": {},
   "source": [
    "# Create a column named mileage_difference this column should contain the difference between highway and city mileage for each car."
   ]
  },
  {
   "cell_type": "code",
   "execution_count": null,
   "id": "functioning-separation",
   "metadata": {},
   "outputs": [],
   "source": [
    "mpg['mileage_difference'] = mpg.highway - mpg.city"
   ]
  },
  {
   "cell_type": "code",
   "execution_count": null,
   "id": "sorted-edinburgh",
   "metadata": {},
   "outputs": [],
   "source": [
    "mpg"
   ]
  },
  {
   "cell_type": "markdown",
   "id": "intimate-mitchell",
   "metadata": {},
   "source": [
    "# Which car (or cars) has the highest mileage difference?"
   ]
  },
  {
   "cell_type": "code",
   "execution_count": null,
   "id": "smoking-straight",
   "metadata": {},
   "outputs": [],
   "source": [
    "[mpg.mileage_difference == mpg.mileage_difference.max()]"
   ]
  },
  {
   "cell_type": "code",
   "execution_count": null,
   "id": "enhanced-waters",
   "metadata": {},
   "outputs": [],
   "source": [
    "mpg[mpg.mileage_difference == mpg.mileage_difference.max()]"
   ]
  },
  {
   "cell_type": "markdown",
   "id": "fatal-choice",
   "metadata": {},
   "source": [
    "# Which compact class car has the lowest highway mileage? The best?"
   ]
  },
  {
   "cell_type": "code",
   "execution_count": null,
   "id": "adolescent-marine",
   "metadata": {},
   "outputs": [],
   "source": [
    "[mpg['class'] == 'compact']"
   ]
  },
  {
   "cell_type": "code",
   "execution_count": null,
   "id": "blond-combine",
   "metadata": {},
   "outputs": [],
   "source": [
    "mpg_compact = mpg[mpg['class'] == 'compact']\n",
    "mpg_compact.sample(10)"
   ]
  },
  {
   "cell_type": "code",
   "execution_count": null,
   "id": "lucky-point",
   "metadata": {
    "scrolled": true
   },
   "outputs": [],
   "source": [
    "[mpg_compact.highway == mpg_compact.highway.min()]"
   ]
  },
  {
   "cell_type": "code",
   "execution_count": null,
   "id": "excited-weekend",
   "metadata": {},
   "outputs": [],
   "source": [
    "mpg_compact[mpg_compact.highway == mpg_compact.highway.min()]"
   ]
  },
  {
   "cell_type": "code",
   "execution_count": null,
   "id": "likely-mauritius",
   "metadata": {},
   "outputs": [],
   "source": [
    "mpg_compact[mpg_compact.highway == mpg_compact.highway.max()]"
   ]
  },
  {
   "cell_type": "markdown",
   "id": "noted-shuttle",
   "metadata": {},
   "source": [
    "# Create a column named average_mileage that is the mean of the city and highway mileage."
   ]
  },
  {
   "cell_type": "code",
   "execution_count": null,
   "id": "sound-dryer",
   "metadata": {},
   "outputs": [],
   "source": [
    "mpg['average_mileage'] = (mpg.city + mpg.highway) / 2"
   ]
  },
  {
   "cell_type": "code",
   "execution_count": null,
   "id": "surprised-emperor",
   "metadata": {},
   "outputs": [],
   "source": [
    "mpg.head()"
   ]
  },
  {
   "cell_type": "markdown",
   "id": "smaller-failing",
   "metadata": {},
   "source": [
    "# Which dodge car has the best average mileage? The worst?"
   ]
  },
  {
   "cell_type": "markdown",
   "id": "unsigned-buffer",
   "metadata": {},
   "source": [
    "**Best**"
   ]
  },
  {
   "cell_type": "code",
   "execution_count": null,
   "id": "undefined-forge",
   "metadata": {},
   "outputs": [],
   "source": [
    "mpg_dodge = mpg[mpg.manufacturer == 'dodge']\n",
    "\n",
    "mpg_dodge.sample(10)"
   ]
  },
  {
   "cell_type": "code",
   "execution_count": null,
   "id": "varying-power",
   "metadata": {},
   "outputs": [],
   "source": [
    "mpg_dodge[mpg_dodge.average_mileage == mpg_dodge.average_mileage.max()]"
   ]
  },
  {
   "cell_type": "markdown",
   "id": "regional-vatican",
   "metadata": {},
   "source": [
    "**Worst**"
   ]
  },
  {
   "cell_type": "code",
   "execution_count": null,
   "id": "rural-explorer",
   "metadata": {},
   "outputs": [],
   "source": [
    "mpg_dodge[mpg_dodge.average_mileage == mpg_dodge.average_mileage.min()]"
   ]
  },
  {
   "cell_type": "markdown",
   "id": "fantastic-player",
   "metadata": {},
   "source": [
    "# Load the Mammals dataset."
   ]
  },
  {
   "cell_type": "code",
   "execution_count": 2,
   "id": "instant-kuwait",
   "metadata": {},
   "outputs": [],
   "source": [
    "from pydataset import data\n",
    "\n",
    "df = data('Mammals')"
   ]
  },
  {
   "cell_type": "markdown",
   "id": "swiss-disclaimer",
   "metadata": {},
   "source": [
    "# How many rows and columns are there?"
   ]
  },
  {
   "cell_type": "code",
   "execution_count": 3,
   "id": "departmental-aberdeen",
   "metadata": {},
   "outputs": [
    {
     "data": {
      "text/plain": [
       "(107, 4)"
      ]
     },
     "execution_count": 3,
     "metadata": {},
     "output_type": "execute_result"
    }
   ],
   "source": [
    "df.shape"
   ]
  },
  {
   "cell_type": "markdown",
   "id": "bearing-south",
   "metadata": {},
   "source": [
    "# What are the data types?"
   ]
  },
  {
   "cell_type": "code",
   "execution_count": 4,
   "id": "considered-shopping",
   "metadata": {},
   "outputs": [
    {
     "name": "stdout",
     "output_type": "stream",
     "text": [
      "<class 'pandas.core.frame.DataFrame'>\n",
      "Int64Index: 107 entries, 1 to 107\n",
      "Data columns (total 4 columns):\n",
      " #   Column    Non-Null Count  Dtype  \n",
      "---  ------    --------------  -----  \n",
      " 0   weight    107 non-null    float64\n",
      " 1   speed     107 non-null    float64\n",
      " 2   hoppers   107 non-null    bool   \n",
      " 3   specials  107 non-null    bool   \n",
      "dtypes: bool(2), float64(2)\n",
      "memory usage: 2.7 KB\n"
     ]
    }
   ],
   "source": [
    "df.info()"
   ]
  },
  {
   "cell_type": "markdown",
   "id": "weird-joshua",
   "metadata": {},
   "source": [
    "# Summarize the dataframe with .info and .describe"
   ]
  },
  {
   "cell_type": "code",
   "execution_count": 5,
   "id": "conceptual-fifteen",
   "metadata": {},
   "outputs": [
    {
     "name": "stdout",
     "output_type": "stream",
     "text": [
      "<class 'pandas.core.frame.DataFrame'>\n",
      "Int64Index: 107 entries, 1 to 107\n",
      "Data columns (total 4 columns):\n",
      " #   Column    Non-Null Count  Dtype  \n",
      "---  ------    --------------  -----  \n",
      " 0   weight    107 non-null    float64\n",
      " 1   speed     107 non-null    float64\n",
      " 2   hoppers   107 non-null    bool   \n",
      " 3   specials  107 non-null    bool   \n",
      "dtypes: bool(2), float64(2)\n",
      "memory usage: 2.7 KB\n"
     ]
    }
   ],
   "source": [
    "df.info()"
   ]
  },
  {
   "cell_type": "code",
   "execution_count": 6,
   "id": "drawn-rachel",
   "metadata": {},
   "outputs": [
    {
     "data": {
      "text/html": [
       "<div>\n",
       "<style scoped>\n",
       "    .dataframe tbody tr th:only-of-type {\n",
       "        vertical-align: middle;\n",
       "    }\n",
       "\n",
       "    .dataframe tbody tr th {\n",
       "        vertical-align: top;\n",
       "    }\n",
       "\n",
       "    .dataframe thead th {\n",
       "        text-align: right;\n",
       "    }\n",
       "</style>\n",
       "<table border=\"1\" class=\"dataframe\">\n",
       "  <thead>\n",
       "    <tr style=\"text-align: right;\">\n",
       "      <th></th>\n",
       "      <th>weight</th>\n",
       "      <th>speed</th>\n",
       "    </tr>\n",
       "  </thead>\n",
       "  <tbody>\n",
       "    <tr>\n",
       "      <th>count</th>\n",
       "      <td>107.000000</td>\n",
       "      <td>107.000000</td>\n",
       "    </tr>\n",
       "    <tr>\n",
       "      <th>mean</th>\n",
       "      <td>278.688178</td>\n",
       "      <td>46.208411</td>\n",
       "    </tr>\n",
       "    <tr>\n",
       "      <th>std</th>\n",
       "      <td>839.608269</td>\n",
       "      <td>26.716778</td>\n",
       "    </tr>\n",
       "    <tr>\n",
       "      <th>min</th>\n",
       "      <td>0.016000</td>\n",
       "      <td>1.600000</td>\n",
       "    </tr>\n",
       "    <tr>\n",
       "      <th>25%</th>\n",
       "      <td>1.700000</td>\n",
       "      <td>22.500000</td>\n",
       "    </tr>\n",
       "    <tr>\n",
       "      <th>50%</th>\n",
       "      <td>34.000000</td>\n",
       "      <td>48.000000</td>\n",
       "    </tr>\n",
       "    <tr>\n",
       "      <th>75%</th>\n",
       "      <td>142.500000</td>\n",
       "      <td>65.000000</td>\n",
       "    </tr>\n",
       "    <tr>\n",
       "      <th>max</th>\n",
       "      <td>6000.000000</td>\n",
       "      <td>110.000000</td>\n",
       "    </tr>\n",
       "  </tbody>\n",
       "</table>\n",
       "</div>"
      ],
      "text/plain": [
       "            weight       speed\n",
       "count   107.000000  107.000000\n",
       "mean    278.688178   46.208411\n",
       "std     839.608269   26.716778\n",
       "min       0.016000    1.600000\n",
       "25%       1.700000   22.500000\n",
       "50%      34.000000   48.000000\n",
       "75%     142.500000   65.000000\n",
       "max    6000.000000  110.000000"
      ]
     },
     "execution_count": 6,
     "metadata": {},
     "output_type": "execute_result"
    }
   ],
   "source": [
    "df.describe()"
   ]
  },
  {
   "cell_type": "markdown",
   "id": "detailed-riding",
   "metadata": {},
   "source": [
    "# What is the the weight of the fastest animal?"
   ]
  },
  {
   "cell_type": "code",
   "execution_count": 7,
   "id": "introductory-framing",
   "metadata": {},
   "outputs": [
    {
     "data": {
      "text/plain": [
       "[1      False\n",
       " 2      False\n",
       " 3      False\n",
       " 4      False\n",
       " 5      False\n",
       " 6      False\n",
       " 7      False\n",
       " 8      False\n",
       " 9      False\n",
       " 10     False\n",
       " 11     False\n",
       " 12     False\n",
       " 13     False\n",
       " 14     False\n",
       " 15     False\n",
       " 16     False\n",
       " 17     False\n",
       " 18     False\n",
       " 19     False\n",
       " 20     False\n",
       " 21     False\n",
       " 22     False\n",
       " 23     False\n",
       " 24     False\n",
       " 25     False\n",
       " 26     False\n",
       " 27     False\n",
       " 28     False\n",
       " 29     False\n",
       " 30     False\n",
       " 31     False\n",
       " 32     False\n",
       " 33     False\n",
       " 34     False\n",
       " 35     False\n",
       " 36     False\n",
       " 37     False\n",
       " 38     False\n",
       " 39     False\n",
       " 40     False\n",
       " 41     False\n",
       " 42     False\n",
       " 43     False\n",
       " 44     False\n",
       " 45     False\n",
       " 46     False\n",
       " 47     False\n",
       " 48     False\n",
       " 49     False\n",
       " 50     False\n",
       " 51     False\n",
       " 52     False\n",
       " 53      True\n",
       " 54     False\n",
       " 55     False\n",
       " 56     False\n",
       " 57     False\n",
       " 58     False\n",
       " 59     False\n",
       " 60     False\n",
       " 61     False\n",
       " 62     False\n",
       " 63     False\n",
       " 64     False\n",
       " 65     False\n",
       " 66     False\n",
       " 67     False\n",
       " 68     False\n",
       " 69     False\n",
       " 70     False\n",
       " 71     False\n",
       " 72     False\n",
       " 73     False\n",
       " 74     False\n",
       " 75     False\n",
       " 76     False\n",
       " 77     False\n",
       " 78     False\n",
       " 79     False\n",
       " 80     False\n",
       " 81     False\n",
       " 82     False\n",
       " 83     False\n",
       " 84     False\n",
       " 85     False\n",
       " 86     False\n",
       " 87     False\n",
       " 88     False\n",
       " 89     False\n",
       " 90     False\n",
       " 91     False\n",
       " 92     False\n",
       " 93     False\n",
       " 94     False\n",
       " 95     False\n",
       " 96     False\n",
       " 97     False\n",
       " 98     False\n",
       " 99     False\n",
       " 100    False\n",
       " 101    False\n",
       " 102    False\n",
       " 103    False\n",
       " 104    False\n",
       " 105    False\n",
       " 106    False\n",
       " 107    False\n",
       " Name: speed, dtype: bool]"
      ]
     },
     "execution_count": 7,
     "metadata": {},
     "output_type": "execute_result"
    }
   ],
   "source": [
    "[df.speed == df.speed.max()]"
   ]
  },
  {
   "cell_type": "code",
   "execution_count": 8,
   "id": "collectible-munich",
   "metadata": {},
   "outputs": [
    {
     "data": {
      "text/html": [
       "<div>\n",
       "<style scoped>\n",
       "    .dataframe tbody tr th:only-of-type {\n",
       "        vertical-align: middle;\n",
       "    }\n",
       "\n",
       "    .dataframe tbody tr th {\n",
       "        vertical-align: top;\n",
       "    }\n",
       "\n",
       "    .dataframe thead th {\n",
       "        text-align: right;\n",
       "    }\n",
       "</style>\n",
       "<table border=\"1\" class=\"dataframe\">\n",
       "  <thead>\n",
       "    <tr style=\"text-align: right;\">\n",
       "      <th></th>\n",
       "      <th>weight</th>\n",
       "      <th>speed</th>\n",
       "      <th>hoppers</th>\n",
       "      <th>specials</th>\n",
       "    </tr>\n",
       "  </thead>\n",
       "  <tbody>\n",
       "    <tr>\n",
       "      <th>53</th>\n",
       "      <td>55.0</td>\n",
       "      <td>110.0</td>\n",
       "      <td>False</td>\n",
       "      <td>False</td>\n",
       "    </tr>\n",
       "  </tbody>\n",
       "</table>\n",
       "</div>"
      ],
      "text/plain": [
       "    weight  speed  hoppers  specials\n",
       "53    55.0  110.0    False     False"
      ]
     },
     "execution_count": 8,
     "metadata": {},
     "output_type": "execute_result"
    }
   ],
   "source": [
    "df[df.speed == df.speed.max()]"
   ]
  },
  {
   "cell_type": "markdown",
   "id": "connected-hygiene",
   "metadata": {},
   "source": [
    "# What is the overal percentage of specials?"
   ]
  },
  {
   "cell_type": "code",
   "execution_count": 9,
   "id": "dense-designation",
   "metadata": {},
   "outputs": [
    {
     "data": {
      "text/html": [
       "<div>\n",
       "<style scoped>\n",
       "    .dataframe tbody tr th:only-of-type {\n",
       "        vertical-align: middle;\n",
       "    }\n",
       "\n",
       "    .dataframe tbody tr th {\n",
       "        vertical-align: top;\n",
       "    }\n",
       "\n",
       "    .dataframe thead th {\n",
       "        text-align: right;\n",
       "    }\n",
       "</style>\n",
       "<table border=\"1\" class=\"dataframe\">\n",
       "  <thead>\n",
       "    <tr style=\"text-align: right;\">\n",
       "      <th></th>\n",
       "      <th>weight</th>\n",
       "      <th>speed</th>\n",
       "      <th>hoppers</th>\n",
       "      <th>specials</th>\n",
       "    </tr>\n",
       "  </thead>\n",
       "  <tbody>\n",
       "    <tr>\n",
       "      <th>1</th>\n",
       "      <td>6000.0</td>\n",
       "      <td>35.0</td>\n",
       "      <td>False</td>\n",
       "      <td>False</td>\n",
       "    </tr>\n",
       "    <tr>\n",
       "      <th>2</th>\n",
       "      <td>4000.0</td>\n",
       "      <td>26.0</td>\n",
       "      <td>False</td>\n",
       "      <td>False</td>\n",
       "    </tr>\n",
       "    <tr>\n",
       "      <th>3</th>\n",
       "      <td>3000.0</td>\n",
       "      <td>25.0</td>\n",
       "      <td>False</td>\n",
       "      <td>False</td>\n",
       "    </tr>\n",
       "    <tr>\n",
       "      <th>4</th>\n",
       "      <td>1400.0</td>\n",
       "      <td>45.0</td>\n",
       "      <td>False</td>\n",
       "      <td>False</td>\n",
       "    </tr>\n",
       "    <tr>\n",
       "      <th>5</th>\n",
       "      <td>400.0</td>\n",
       "      <td>70.0</td>\n",
       "      <td>False</td>\n",
       "      <td>False</td>\n",
       "    </tr>\n",
       "  </tbody>\n",
       "</table>\n",
       "</div>"
      ],
      "text/plain": [
       "   weight  speed  hoppers  specials\n",
       "1  6000.0   35.0    False     False\n",
       "2  4000.0   26.0    False     False\n",
       "3  3000.0   25.0    False     False\n",
       "4  1400.0   45.0    False     False\n",
       "5   400.0   70.0    False     False"
      ]
     },
     "execution_count": 9,
     "metadata": {},
     "output_type": "execute_result"
    }
   ],
   "source": [
    "df.head()"
   ]
  },
  {
   "cell_type": "code",
   "execution_count": 10,
   "id": "industrial-money",
   "metadata": {},
   "outputs": [
    {
     "data": {
      "text/plain": [
       "10"
      ]
     },
     "execution_count": 10,
     "metadata": {},
     "output_type": "execute_result"
    }
   ],
   "source": [
    "df.specials.sum()"
   ]
  },
  {
   "cell_type": "code",
   "execution_count": 11,
   "id": "governing-amplifier",
   "metadata": {},
   "outputs": [
    {
     "data": {
      "text/plain": [
       "107"
      ]
     },
     "execution_count": 11,
     "metadata": {},
     "output_type": "execute_result"
    }
   ],
   "source": [
    "len(df)"
   ]
  },
  {
   "cell_type": "code",
   "execution_count": 12,
   "id": "ordered-illness",
   "metadata": {},
   "outputs": [
    {
     "data": {
      "text/plain": [
       "0.09345794392523364"
      ]
     },
     "execution_count": 12,
     "metadata": {},
     "output_type": "execute_result"
    }
   ],
   "source": [
    "df.specials.sum() /  len(df)"
   ]
  },
  {
   "cell_type": "markdown",
   "id": "supreme-campaign",
   "metadata": {},
   "source": [
    "# How many animals are hoppers that are above the median speed? What percentage is this?"
   ]
  },
  {
   "cell_type": "code",
   "execution_count": 13,
   "id": "noticed-tunnel",
   "metadata": {},
   "outputs": [
    {
     "data": {
      "text/plain": [
       "[1      False\n",
       " 2      False\n",
       " 3      False\n",
       " 4      False\n",
       " 5      False\n",
       " 6      False\n",
       " 7      False\n",
       " 8      False\n",
       " 9      False\n",
       " 10     False\n",
       " 11     False\n",
       " 12     False\n",
       " 13     False\n",
       " 14     False\n",
       " 15     False\n",
       " 16     False\n",
       " 17     False\n",
       " 18     False\n",
       " 19     False\n",
       " 20     False\n",
       " 21     False\n",
       " 22     False\n",
       " 23     False\n",
       " 24     False\n",
       " 25     False\n",
       " 26     False\n",
       " 27     False\n",
       " 28     False\n",
       " 29     False\n",
       " 30     False\n",
       " 31     False\n",
       " 32     False\n",
       " 33     False\n",
       " 34     False\n",
       " 35     False\n",
       " 36     False\n",
       " 37     False\n",
       " 38     False\n",
       " 39     False\n",
       " 40     False\n",
       " 41     False\n",
       " 42     False\n",
       " 43     False\n",
       " 44     False\n",
       " 45     False\n",
       " 46     False\n",
       " 47     False\n",
       " 48     False\n",
       " 49     False\n",
       " 50     False\n",
       " 51     False\n",
       " 52     False\n",
       " 53     False\n",
       " 54     False\n",
       " 55     False\n",
       " 56     False\n",
       " 57     False\n",
       " 58     False\n",
       " 59     False\n",
       " 60     False\n",
       " 61     False\n",
       " 62     False\n",
       " 63     False\n",
       " 64     False\n",
       " 65     False\n",
       " 66     False\n",
       " 67     False\n",
       " 68     False\n",
       " 69     False\n",
       " 70     False\n",
       " 71     False\n",
       " 72     False\n",
       " 73     False\n",
       " 74     False\n",
       " 75     False\n",
       " 76     False\n",
       " 77     False\n",
       " 78     False\n",
       " 79     False\n",
       " 80     False\n",
       " 81     False\n",
       " 82     False\n",
       " 83     False\n",
       " 84     False\n",
       " 85     False\n",
       " 86     False\n",
       " 87     False\n",
       " 88     False\n",
       " 89     False\n",
       " 90     False\n",
       " 91     False\n",
       " 92     False\n",
       " 93     False\n",
       " 94     False\n",
       " 95     False\n",
       " 96      True\n",
       " 97      True\n",
       " 98      True\n",
       " 99      True\n",
       " 100     True\n",
       " 101     True\n",
       " 102     True\n",
       " 103    False\n",
       " 104    False\n",
       " 105    False\n",
       " 106    False\n",
       " 107    False\n",
       " dtype: bool]"
      ]
     },
     "execution_count": 13,
     "metadata": {},
     "output_type": "execute_result"
    }
   ],
   "source": [
    "[(df.hoppers == True) & (df.speed > df.speed.median())]"
   ]
  },
  {
   "cell_type": "code",
   "execution_count": 14,
   "id": "lasting-harvard",
   "metadata": {},
   "outputs": [
    {
     "data": {
      "text/html": [
       "<div>\n",
       "<style scoped>\n",
       "    .dataframe tbody tr th:only-of-type {\n",
       "        vertical-align: middle;\n",
       "    }\n",
       "\n",
       "    .dataframe tbody tr th {\n",
       "        vertical-align: top;\n",
       "    }\n",
       "\n",
       "    .dataframe thead th {\n",
       "        text-align: right;\n",
       "    }\n",
       "</style>\n",
       "<table border=\"1\" class=\"dataframe\">\n",
       "  <thead>\n",
       "    <tr style=\"text-align: right;\">\n",
       "      <th></th>\n",
       "      <th>weight</th>\n",
       "      <th>speed</th>\n",
       "      <th>hoppers</th>\n",
       "      <th>specials</th>\n",
       "    </tr>\n",
       "  </thead>\n",
       "  <tbody>\n",
       "    <tr>\n",
       "      <th>96</th>\n",
       "      <td>4.6</td>\n",
       "      <td>64.0</td>\n",
       "      <td>True</td>\n",
       "      <td>False</td>\n",
       "    </tr>\n",
       "    <tr>\n",
       "      <th>97</th>\n",
       "      <td>4.4</td>\n",
       "      <td>72.0</td>\n",
       "      <td>True</td>\n",
       "      <td>False</td>\n",
       "    </tr>\n",
       "    <tr>\n",
       "      <th>98</th>\n",
       "      <td>4.0</td>\n",
       "      <td>72.0</td>\n",
       "      <td>True</td>\n",
       "      <td>False</td>\n",
       "    </tr>\n",
       "    <tr>\n",
       "      <th>99</th>\n",
       "      <td>3.5</td>\n",
       "      <td>56.0</td>\n",
       "      <td>True</td>\n",
       "      <td>False</td>\n",
       "    </tr>\n",
       "    <tr>\n",
       "      <th>100</th>\n",
       "      <td>2.0</td>\n",
       "      <td>64.0</td>\n",
       "      <td>True</td>\n",
       "      <td>False</td>\n",
       "    </tr>\n",
       "    <tr>\n",
       "      <th>101</th>\n",
       "      <td>1.9</td>\n",
       "      <td>56.0</td>\n",
       "      <td>True</td>\n",
       "      <td>False</td>\n",
       "    </tr>\n",
       "    <tr>\n",
       "      <th>102</th>\n",
       "      <td>1.5</td>\n",
       "      <td>50.0</td>\n",
       "      <td>True</td>\n",
       "      <td>False</td>\n",
       "    </tr>\n",
       "  </tbody>\n",
       "</table>\n",
       "</div>"
      ],
      "text/plain": [
       "     weight  speed  hoppers  specials\n",
       "96      4.6   64.0     True     False\n",
       "97      4.4   72.0     True     False\n",
       "98      4.0   72.0     True     False\n",
       "99      3.5   56.0     True     False\n",
       "100     2.0   64.0     True     False\n",
       "101     1.9   56.0     True     False\n",
       "102     1.5   50.0     True     False"
      ]
     },
     "execution_count": 14,
     "metadata": {},
     "output_type": "execute_result"
    }
   ],
   "source": [
    "df[(df.hoppers == True) & (df.speed > df.speed.median())]"
   ]
  },
  {
   "cell_type": "code",
   "execution_count": 15,
   "id": "front-continuity",
   "metadata": {},
   "outputs": [
    {
     "data": {
      "text/plain": [
       "0.06542056074766354"
      ]
     },
     "execution_count": 15,
     "metadata": {},
     "output_type": "execute_result"
    }
   ],
   "source": [
    "len(df[(df.hoppers == True) & (df.speed > df.speed.median())]) / len(df)"
   ]
  }
 ],
 "metadata": {
  "kernelspec": {
   "display_name": "Python 3",
   "language": "python",
   "name": "python3"
  },
  "language_info": {
   "codemirror_mode": {
    "name": "ipython",
    "version": 3
   },
   "file_extension": ".py",
   "mimetype": "text/x-python",
   "name": "python",
   "nbconvert_exporter": "python",
   "pygments_lexer": "ipython3",
   "version": "3.7.4"
  }
 },
 "nbformat": 4,
 "nbformat_minor": 5
}
