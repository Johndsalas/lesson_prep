{
 "cells": [
  {
   "cell_type": "markdown",
   "id": "preliminary-found",
   "metadata": {},
   "source": [
    "# Functions"
   ]
  },
  {
   "cell_type": "markdown",
   "id": "charged-andrews",
   "metadata": {},
   "source": [
    "**Create a file named function_exercises.py for this exercise. After creating each function specified below, write the necessary code in order to test your function.**"
   ]
  },
  {
   "cell_type": "markdown",
   "id": "backed-fossil",
   "metadata": {},
   "source": [
    "**Define a function named is_two. It should accept one input and return True if the passed input is either the number or the string 2, False otherwise.**"
   ]
  },
  {
   "cell_type": "code",
   "execution_count": 5,
   "id": "advisory-float",
   "metadata": {},
   "outputs": [
    {
     "data": {
      "text/plain": [
       "True"
      ]
     },
     "execution_count": 5,
     "metadata": {},
     "output_type": "execute_result"
    }
   ],
   "source": [
    "ver = '2'\n",
    "\n",
    "ver in [2,'2']"
   ]
  },
  {
   "cell_type": "code",
   "execution_count": 7,
   "id": "hundred-korea",
   "metadata": {},
   "outputs": [],
   "source": [
    "def is_two(ver):\n",
    "    \n",
    "    return ver in [2,'2']"
   ]
  },
  {
   "cell_type": "code",
   "execution_count": 8,
   "id": "periodic-montgomery",
   "metadata": {},
   "outputs": [
    {
     "data": {
      "text/plain": [
       "False"
      ]
     },
     "execution_count": 8,
     "metadata": {},
     "output_type": "execute_result"
    }
   ],
   "source": [
    "is_two(23)"
   ]
  },
  {
   "cell_type": "markdown",
   "id": "golden-aruba",
   "metadata": {},
   "source": [
    "**Define a function named is_vowel. It should return True if the passed string is a vowel, False otherwise.**"
   ]
  },
  {
   "cell_type": "code",
   "execution_count": 9,
   "id": "delayed-month",
   "metadata": {},
   "outputs": [],
   "source": [
    "def is_vowel(string):\n",
    "    \n",
    "    return string.lower() in 'aeiou'"
   ]
  },
  {
   "cell_type": "code",
   "execution_count": 10,
   "id": "bridal-alexandria",
   "metadata": {},
   "outputs": [
    {
     "data": {
      "text/plain": [
       "True"
      ]
     },
     "execution_count": 10,
     "metadata": {},
     "output_type": "execute_result"
    }
   ],
   "source": [
    "is_vowel('a')"
   ]
  },
  {
   "cell_type": "markdown",
   "id": "bronze-print",
   "metadata": {},
   "source": [
    "**Define a function named is_consonant. It should return True if the passed string is a consonant, False otherwise. Use your is_vowel function to accomplish this.**"
   ]
  },
  {
   "cell_type": "code",
   "execution_count": 13,
   "id": "standard-surge",
   "metadata": {},
   "outputs": [],
   "source": [
    "def is_consonant(string):\n",
    "    \n",
    "    return not is_vowel(string)"
   ]
  },
  {
   "cell_type": "code",
   "execution_count": 14,
   "id": "dirty-ribbon",
   "metadata": {},
   "outputs": [
    {
     "data": {
      "text/plain": [
       "True"
      ]
     },
     "execution_count": 14,
     "metadata": {},
     "output_type": "execute_result"
    }
   ],
   "source": [
    "is_consonant('c')"
   ]
  },
  {
   "cell_type": "markdown",
   "id": "medical-eight",
   "metadata": {},
   "source": [
    "**Define a function that accepts a string that is a word. The function should capitalize the first letter of the word if the word starts with a consonant.**"
   ]
  },
  {
   "cell_type": "code",
   "execution_count": 23,
   "id": "considered-repeat",
   "metadata": {},
   "outputs": [],
   "source": [
    "def capitalize_consonant(string):\n",
    "    \n",
    "    if is_consonant(string[0]):\n",
    "        \n",
    "        string = string.capitalize()\n",
    "        \n",
    "    return string"
   ]
  },
  {
   "cell_type": "code",
   "execution_count": 24,
   "id": "beginning-transparency",
   "metadata": {},
   "outputs": [
    {
     "data": {
      "text/plain": [
       "'Hand'"
      ]
     },
     "execution_count": 24,
     "metadata": {},
     "output_type": "execute_result"
    }
   ],
   "source": [
    "capitalize_consonant('hand')"
   ]
  },
  {
   "cell_type": "markdown",
   "id": "continuing-jefferson",
   "metadata": {},
   "source": [
    "**Define a function named calculate_tip. It should accept a tip percentage (a number between 0 and 1) and the bill total, and return the amount to tip.**"
   ]
  },
  {
   "cell_type": "code",
   "execution_count": 28,
   "id": "uniform-startup",
   "metadata": {},
   "outputs": [],
   "source": [
    "def calculate_tip(tip_percentage, total_bill):\n",
    "    \n",
    "    return total_bill * (tip_percentage/100)"
   ]
  },
  {
   "cell_type": "code",
   "execution_count": 29,
   "id": "similar-disposal",
   "metadata": {},
   "outputs": [
    {
     "data": {
      "text/plain": [
       "10.0"
      ]
     },
     "execution_count": 29,
     "metadata": {},
     "output_type": "execute_result"
    }
   ],
   "source": [
    "calculate_tip(10, 100)"
   ]
  },
  {
   "cell_type": "markdown",
   "id": "aging-asian",
   "metadata": {},
   "source": [
    "**Define a function named apply_discount. It should accept a original price, and a discount percentage, and return the price after the discount is applied.**"
   ]
  },
  {
   "cell_type": "code",
   "execution_count": 30,
   "id": "experienced-advantage",
   "metadata": {},
   "outputs": [],
   "source": [
    "def apply_discount(discount_percentage, original_price):\n",
    "    \n",
    "    return original_price - (original_price * (discount_percentage/100))"
   ]
  },
  {
   "cell_type": "code",
   "execution_count": 31,
   "id": "verified-murray",
   "metadata": {},
   "outputs": [
    {
     "data": {
      "text/plain": [
       "90.0"
      ]
     },
     "execution_count": 31,
     "metadata": {},
     "output_type": "execute_result"
    }
   ],
   "source": [
    "apply_discount(10, 100)"
   ]
  },
  {
   "cell_type": "markdown",
   "id": "serious-introduction",
   "metadata": {},
   "source": [
    "**Define a function named handle_commas. It should accept a string that is a number that contains commas in it as input, and return a number as output.**"
   ]
  },
  {
   "cell_type": "code",
   "execution_count": 36,
   "id": "educational-darkness",
   "metadata": {},
   "outputs": [],
   "source": [
    "def handle_commas(string):\n",
    "    \n",
    "    number = ''\n",
    "    \n",
    "    for char in string:\n",
    "        \n",
    "        if char not in ',':\n",
    "            \n",
    "            number += char\n",
    "            \n",
    "    return int(number)"
   ]
  },
  {
   "cell_type": "code",
   "execution_count": 38,
   "id": "temporal-notebook",
   "metadata": {},
   "outputs": [
    {
     "data": {
      "text/plain": [
       "245"
      ]
     },
     "execution_count": 38,
     "metadata": {},
     "output_type": "execute_result"
    }
   ],
   "source": [
    "handle_commas(',,,2,4,,,5,,,,,')"
   ]
  },
  {
   "cell_type": "markdown",
   "id": "corrected-processor",
   "metadata": {},
   "source": [
    "**Define a function named get_letter_grade. It should accept a number and return the letter grade associated with that number (A-F).**"
   ]
  },
  {
   "cell_type": "code",
   "execution_count": 39,
   "id": "greek-train",
   "metadata": {},
   "outputs": [],
   "source": [
    "def get_letter_grade(number):\n",
    "    \n",
    "    if number >= 90:\n",
    "        \n",
    "        return 'A'\n",
    "    \n",
    "    if number >= 80:\n",
    "        \n",
    "        return 'B'\n",
    "    \n",
    "    if number >= 70:\n",
    "        \n",
    "        return 'C'\n",
    "    \n",
    "    else:\n",
    "        \n",
    "        return 'F'"
   ]
  },
  {
   "cell_type": "code",
   "execution_count": 42,
   "id": "metropolitan-bennett",
   "metadata": {},
   "outputs": [
    {
     "data": {
      "text/plain": [
       "'B'"
      ]
     },
     "execution_count": 42,
     "metadata": {},
     "output_type": "execute_result"
    }
   ],
   "source": [
    "get_letter_grade(81)"
   ]
  },
  {
   "cell_type": "markdown",
   "id": "ambient-termination",
   "metadata": {},
   "source": [
    "**Define a function named remove_vowels that accepts a string and returns a string with all the vowels removed.**"
   ]
  },
  {
   "cell_type": "code",
   "execution_count": 47,
   "id": "instrumental-investment",
   "metadata": {},
   "outputs": [],
   "source": [
    "def remove_vowels(string):\n",
    "    \n",
    "    new_string = ''\n",
    "    \n",
    "    for char in string:\n",
    "        \n",
    "        if char.lower() not in 'aeiou':\n",
    "            \n",
    "            new_string += char\n",
    "            \n",
    "    return new_string"
   ]
  },
  {
   "cell_type": "code",
   "execution_count": 48,
   "id": "functioning-coach",
   "metadata": {},
   "outputs": [
    {
     "data": {
      "text/plain": [
       "'stff'"
      ]
     },
     "execution_count": 48,
     "metadata": {},
     "output_type": "execute_result"
    }
   ],
   "source": [
    "remove_vowels('AEIOUstuff')"
   ]
  },
  {
   "cell_type": "markdown",
   "id": "progressive-glucose",
   "metadata": {},
   "source": [
    "**Define a function named normalize_name. It should accept a string and return a valid python identifier, that is**\n",
    "\n",
    "1) anything that is not a valid python identifier should be removed <br>\n",
    "1a) No key words <br>\n",
    "1b) no leading numbers <br>\n",
    "1c) no special symbles <br>\n",
    "2) leading and trailing whitespace should be removed <br>\n",
    "3) everything should be lowercase <br>\n",
    "4) spaces should be replaced with underscores <br>"
   ]
  },
  {
   "cell_type": "code",
   "execution_count": 54,
   "id": "bound-drinking",
   "metadata": {},
   "outputs": [
    {
     "data": {
      "text/plain": [
       "'User name'"
      ]
     },
     "execution_count": 54,
     "metadata": {},
     "output_type": "execute_result"
    }
   ],
   "source": [
    "string = ' $  1$ 1 1 1 1 %U^s*e^r Name 3718*&%^#%^^        '\n",
    "\n",
    "# Remove leading numbers and whitespace\n",
    "while (string[0] == ' ') or (string[0].isnumeric() == True):\n",
    "        \n",
    "    string = string[1:]\n",
    "        \n",
    "# Remove trailing whitespace\n",
    "while string[-1] == ' ':\n",
    "    \n",
    "    string = string[:-2]\n",
    "      \n",
    "string"
   ]
  },
  {
   "cell_type": "code",
   "execution_count": 57,
   "id": "novel-passing",
   "metadata": {},
   "outputs": [
    {
     "data": {
      "text/plain": [
       "'user_name'"
      ]
     },
     "execution_count": 57,
     "metadata": {},
     "output_type": "execute_result"
    }
   ],
   "source": [
    "new_string = ''\n",
    "\n",
    "for char in string:\n",
    "    \n",
    "    if char.isalnum() == True:\n",
    "        \n",
    "        new_string += char\n",
    "        \n",
    "    elif char in ' ':\n",
    "        \n",
    "        new_string += '_'\n",
    "        \n",
    "new_string.lower()      "
   ]
  },
  {
   "cell_type": "code",
   "execution_count": 68,
   "id": "changing-enzyme",
   "metadata": {},
   "outputs": [],
   "source": [
    "import keyword\n",
    "keywords = keyword.kwlist\n",
    "\n",
    "def normalize_name(string):\n",
    "    '''Modify user name into a valid python identifier'''  \n",
    "    \n",
    "    # Remove leading numbers and whitespace\n",
    "    while (string[0].isalnum() == False):\n",
    "        \n",
    "        string = string[1:]\n",
    "        \n",
    "    # Remove trailing whitespace\n",
    "    while string[-1] == ' ':\n",
    "    \n",
    "        string = string[:-2]\n",
    "         \n",
    "    new_string = ''\n",
    "\n",
    "    # itterate through string replace the spaces with underscores\n",
    "    for char in string:\n",
    "    \n",
    "        if char.isalnum() == True:\n",
    "        \n",
    "            new_string += char\n",
    "        \n",
    "        elif char in ' _':\n",
    "        \n",
    "            new_string += '_'\n",
    "    \n",
    "    # check if result is a keyword\n",
    "    if new_string not in keywords:\n",
    "        \n",
    "        return new_string.lower()\n",
    "    \n",
    "    else:\n",
    "    \n",
    "        return \"Resulting User Name is a python keyword. Please try again.\""
   ]
  },
  {
   "cell_type": "code",
   "execution_count": 69,
   "id": "recorded-material",
   "metadata": {},
   "outputs": [
    {
     "data": {
      "text/plain": [
       "'user_name'"
      ]
     },
     "execution_count": 69,
     "metadata": {},
     "output_type": "execute_result"
    }
   ],
   "source": [
    "normalize_name(string)"
   ]
  },
  {
   "cell_type": "code",
   "execution_count": 79,
   "id": "english-borough",
   "metadata": {},
   "outputs": [],
   "source": [
    "def check_beginning_and_end(string):\n",
    "    ''' ensures input username begins and ends with a valid character'''\n",
    "    \n",
    "    # Remove leading numbers and whitespace\n",
    "    while (string[0].isalnum() == False):\n",
    "        \n",
    "        string = string[1:]\n",
    "        \n",
    "    # Remove trailing whitespace\n",
    "    while string[-1] == ' ':\n",
    "    \n",
    "        string = string[:-2]\n",
    "        \n",
    "    return string\n",
    "\n",
    "def handle_special_characters(string):\n",
    "    ''' Remove specialcharacters from string and swap out spaces for underscores'''\n",
    "    \n",
    "    new_string = ''\n",
    "    \n",
    "    # itterate through string replace the spaces with underscores, remove special characters, leave all else the same\n",
    "    for char in string:\n",
    "    \n",
    "        if char.isalnum() == True:\n",
    "        \n",
    "            new_string += char\n",
    "        \n",
    "        elif char in ' _':\n",
    "        \n",
    "            new_string += '_'\n",
    "            \n",
    "    return new_string\n",
    "\n",
    "def is_keyword(string):\n",
    "    ''' Return True or False of string is a keyword'''\n",
    "\n",
    "    # check if result is a keyword\n",
    "    if string in keywords:\n",
    "        \n",
    "        return True\n",
    "    \n",
    "    else:\n",
    "    \n",
    "        return False\n",
    "    \n",
    "def normalize_name_again(string):\n",
    "    \n",
    "    # ensuer username begins and ends with valid characters\n",
    "    string = check_beginning_and_end(string)\n",
    "    \n",
    "    # remove special characters\n",
    "    string = handle_special_characters(string)\n",
    "    \n",
    "    # return user name if not a keyword \n",
    "    if not is_keyword(string):\n",
    "        \n",
    "        return string.lower()\n",
    "    \n",
    "    else:\n",
    "        \n",
    "        return \"Resulting User Name is a python keyword. Please try again.\"    "
   ]
  },
  {
   "cell_type": "code",
   "execution_count": 80,
   "id": "spare-screw",
   "metadata": {},
   "outputs": [
    {
     "data": {
      "text/plain": [
       "'false_and_true'"
      ]
     },
     "execution_count": 80,
     "metadata": {},
     "output_type": "execute_result"
    }
   ],
   "source": [
    "normalize_name(\"  $$ false_and true    \")"
   ]
  },
  {
   "cell_type": "code",
   "execution_count": 81,
   "id": "designing-savings",
   "metadata": {},
   "outputs": [
    {
     "data": {
      "text/plain": [
       "'force'"
      ]
     },
     "execution_count": 81,
     "metadata": {},
     "output_type": "execute_result"
    }
   ],
   "source": [
    "normalize_name_again(\"  $$FORCE%%  \")"
   ]
  },
  {
   "cell_type": "markdown",
   "id": "muslim-armstrong",
   "metadata": {},
   "source": [
    "Once you've completed the above exercises, follow the directions from https://gist.github.com/zgulde/ec8ed80ad8216905cda83d5645c60886 in order to thouroughly comment your code to explain your code."
   ]
  },
  {
   "cell_type": "code",
   "execution_count": null,
   "id": "sized-ireland",
   "metadata": {},
   "outputs": [],
   "source": []
  }
 ],
 "metadata": {
  "kernelspec": {
   "display_name": "Python 3",
   "language": "python",
   "name": "python3"
  },
  "language_info": {
   "codemirror_mode": {
    "name": "ipython",
    "version": 3
   },
   "file_extension": ".py",
   "mimetype": "text/x-python",
   "name": "python",
   "nbconvert_exporter": "python",
   "pygments_lexer": "ipython3",
   "version": "3.7.4"
  }
 },
 "nbformat": 4,
 "nbformat_minor": 5
}
