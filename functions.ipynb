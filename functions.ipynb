{
 "cells": [
  {
   "cell_type": "markdown",
   "id": "foreign-cemetery",
   "metadata": {},
   "source": [
    "# Functions"
   ]
  },
  {
   "cell_type": "markdown",
   "id": "joint-protein",
   "metadata": {},
   "source": [
    "### 1) Define a function named is_two. It should accept one input and return True if the passed input is either the number or the string 2, False otherwise."
   ]
  },
  {
   "cell_type": "code",
   "execution_count": 9,
   "id": "baking-longer",
   "metadata": {},
   "outputs": [
    {
     "data": {
      "text/plain": [
       "True"
      ]
     },
     "execution_count": 9,
     "metadata": {},
     "output_type": "execute_result"
    }
   ],
   "source": [
    "data = '2'\n",
    "\n",
    "(data == 2) or (data == '2')"
   ]
  },
  {
   "cell_type": "code",
   "execution_count": 4,
   "id": "nervous-federation",
   "metadata": {},
   "outputs": [],
   "source": [
    "def is_two(data):\n",
    "    \n",
    "    return (data == 2) or (data == '2')"
   ]
  },
  {
   "cell_type": "code",
   "execution_count": 7,
   "id": "advised-marshall",
   "metadata": {},
   "outputs": [
    {
     "data": {
      "text/plain": [
       "True"
      ]
     },
     "execution_count": 7,
     "metadata": {},
     "output_type": "execute_result"
    }
   ],
   "source": [
    "data = '2'\n",
    "\n",
    "is_two(data)"
   ]
  },
  {
   "cell_type": "markdown",
   "id": "according-livestock",
   "metadata": {},
   "source": [
    "### 2) Define a function named is_vowel. It should return True if the passed string is a vowel, False otherwise."
   ]
  },
  {
   "cell_type": "code",
   "execution_count": 12,
   "id": "creative-wedding",
   "metadata": {},
   "outputs": [
    {
     "data": {
      "text/plain": [
       "True"
      ]
     },
     "execution_count": 12,
     "metadata": {},
     "output_type": "execute_result"
    }
   ],
   "source": [
    "string = \"u\"\n",
    "\n",
    "string.lower() in \"aeiou\""
   ]
  },
  {
   "cell_type": "code",
   "execution_count": null,
   "id": "developed-murray",
   "metadata": {},
   "outputs": [],
   "source": [
    "def is_vowel(string):\n",
    "    \n",
    "    return string.lower() in \"aeiou\""
   ]
  },
  {
   "cell_type": "code",
   "execution_count": 15,
   "id": "injured-entrepreneur",
   "metadata": {},
   "outputs": [
    {
     "data": {
      "text/plain": [
       "False"
      ]
     },
     "execution_count": 15,
     "metadata": {},
     "output_type": "execute_result"
    }
   ],
   "source": [
    "string = \"s\"\n",
    "\n",
    "is_vowel(string)"
   ]
  },
  {
   "cell_type": "markdown",
   "id": "patent-jaguar",
   "metadata": {},
   "source": [
    "### 3) Define a function named is_consonant. It should return True if the passed string is a consonant, False otherwise. Use your is_vowel function to accomplish this."
   ]
  },
  {
   "cell_type": "code",
   "execution_count": 16,
   "id": "spatial-avatar",
   "metadata": {},
   "outputs": [
    {
     "data": {
      "text/plain": [
       "True"
      ]
     },
     "execution_count": 16,
     "metadata": {},
     "output_type": "execute_result"
    }
   ],
   "source": [
    "string = \"t\"\n",
    "\n",
    "string.lower() not in \"aeiou\""
   ]
  },
  {
   "cell_type": "code",
   "execution_count": 17,
   "id": "sharing-former",
   "metadata": {},
   "outputs": [],
   "source": [
    "def is_consonant(string):\n",
    "    \n",
    "    return string.lower() not in \"aeiou\""
   ]
  },
  {
   "cell_type": "code",
   "execution_count": 20,
   "id": "blond-emerald",
   "metadata": {},
   "outputs": [
    {
     "data": {
      "text/plain": [
       "False"
      ]
     },
     "execution_count": 20,
     "metadata": {},
     "output_type": "execute_result"
    }
   ],
   "source": [
    "string = \"I\"\n",
    "\n",
    "is_consonant(string)"
   ]
  },
  {
   "cell_type": "markdown",
   "id": "broken-whale",
   "metadata": {},
   "source": [
    "### 4) Define a function that accepts a string that is a word. The function should capitalize the first letter of the word if the word starts with a consonant."
   ]
  },
  {
   "cell_type": "code",
   "execution_count": 25,
   "id": "center-ribbon",
   "metadata": {},
   "outputs": [
    {
     "data": {
      "text/plain": [
       "'Fantastic'"
      ]
     },
     "execution_count": 25,
     "metadata": {},
     "output_type": "execute_result"
    }
   ],
   "source": [
    "word = \"fantastic\"\n",
    "\n",
    "if word[0] not in 'aeiou':\n",
    "    \n",
    "    word = word.capitalize()\n",
    "    \n",
    "word"
   ]
  },
  {
   "cell_type": "code",
   "execution_count": 26,
   "id": "dated-honduras",
   "metadata": {},
   "outputs": [],
   "source": [
    "def capitalizer_9000_non_vowel_eddition(word):\n",
    "    \n",
    "    if word[0] not in 'aeiou':\n",
    "    \n",
    "        word = word.capitalize()\n",
    "    \n",
    "    return word"
   ]
  },
  {
   "cell_type": "code",
   "execution_count": 28,
   "id": "removable-intellectual",
   "metadata": {},
   "outputs": [
    {
     "data": {
      "text/plain": [
       "'antastic'"
      ]
     },
     "execution_count": 28,
     "metadata": {},
     "output_type": "execute_result"
    }
   ],
   "source": [
    "word = \"antastic\"\n",
    "\n",
    "capitalizer_9000_non_vowel_eddition(word)"
   ]
  },
  {
   "cell_type": "markdown",
   "id": "organizational-spyware",
   "metadata": {},
   "source": [
    "### 5) Define a function named calculate_tip. It should accept a tip percentage (a number between 0 and 1) and the bill total, and return the amount to tip."
   ]
  },
  {
   "cell_type": "code",
   "execution_count": 30,
   "id": "homeless-cincinnati",
   "metadata": {},
   "outputs": [
    {
     "data": {
      "text/plain": [
       "15.0"
      ]
     },
     "execution_count": 30,
     "metadata": {},
     "output_type": "execute_result"
    }
   ],
   "source": [
    "bill = 100\n",
    "tip_percent = 15\n",
    "\n",
    "bill * (tip_percent / 100)"
   ]
  },
  {
   "cell_type": "code",
   "execution_count": 31,
   "id": "immediate-better",
   "metadata": {},
   "outputs": [],
   "source": [
    "def calculate_tip(bill, tip_percent):\n",
    "    \n",
    "    return bill * (tip_percent / 100)"
   ]
  },
  {
   "cell_type": "code",
   "execution_count": 34,
   "id": "tested-decade",
   "metadata": {},
   "outputs": [
    {
     "data": {
      "text/plain": [
       "200.0"
      ]
     },
     "execution_count": 34,
     "metadata": {},
     "output_type": "execute_result"
    }
   ],
   "source": [
    "bill = 1000\n",
    "tip_percent = 20\n",
    "\n",
    "calculate_tip(bill, tip_percent)"
   ]
  },
  {
   "cell_type": "markdown",
   "id": "mineral-drilling",
   "metadata": {},
   "source": [
    "### 6) Define a function named apply_discount. It should accept a original price, and a discount percentage, and return the price after the discount is applied."
   ]
  },
  {
   "cell_type": "code",
   "execution_count": 37,
   "id": "compliant-feature",
   "metadata": {},
   "outputs": [
    {
     "data": {
      "text/plain": [
       "240.0"
      ]
     },
     "execution_count": 37,
     "metadata": {},
     "output_type": "execute_result"
    }
   ],
   "source": [
    "price = 300\n",
    "discount_percent = 20\n",
    "\n",
    "price - (price * (discount_percent / 100))"
   ]
  },
  {
   "cell_type": "code",
   "execution_count": 38,
   "id": "portable-companion",
   "metadata": {},
   "outputs": [],
   "source": [
    "def apply_discount(price, discount_percent):\n",
    "    \n",
    "    return price - (price * (discount_percent / 100))"
   ]
  },
  {
   "cell_type": "code",
   "execution_count": 42,
   "id": "hispanic-synthesis",
   "metadata": {},
   "outputs": [
    {
     "data": {
      "text/plain": [
       "2700.0"
      ]
     },
     "execution_count": 42,
     "metadata": {},
     "output_type": "execute_result"
    }
   ],
   "source": [
    "price = 3000\n",
    "discount_percent = 10\n",
    "\n",
    "apply_discount(price, discount_percent)"
   ]
  },
  {
   "cell_type": "markdown",
   "id": "broad-strategy",
   "metadata": {},
   "source": [
    "### 7) Define a function named handle_commas. It should accept a string that is a number that contains commas in it as input, and return a number as output."
   ]
  },
  {
   "cell_type": "code",
   "execution_count": 54,
   "id": "expanded-batman",
   "metadata": {},
   "outputs": [
    {
     "data": {
      "text/plain": [
       "1000.5"
      ]
     },
     "execution_count": 54,
     "metadata": {},
     "output_type": "execute_result"
    }
   ],
   "source": [
    "string = \"1,000.5000\"\n",
    "\n",
    "number = \"\"\n",
    "\n",
    "for char in string:\n",
    "    \n",
    "    if char not in \",\":\n",
    "        \n",
    "        number += char\n",
    "    \n",
    "float(number) "
   ]
  },
  {
   "cell_type": "code",
   "execution_count": 55,
   "id": "insured-reform",
   "metadata": {},
   "outputs": [],
   "source": [
    "def handle_commas(string):\n",
    "    \n",
    "    number = \"\"\n",
    "\n",
    "    for char in string:\n",
    "\n",
    "        if char not in \",\":\n",
    "\n",
    "            number += char\n",
    "    \n",
    "    return float(number) "
   ]
  },
  {
   "cell_type": "code",
   "execution_count": 56,
   "id": "cooperative-berkeley",
   "metadata": {},
   "outputs": [
    {
     "data": {
      "text/plain": [
       "2345.5"
      ]
     },
     "execution_count": 56,
     "metadata": {},
     "output_type": "execute_result"
    }
   ],
   "source": [
    "string = \"2,,,,,,,345.5,0,0,0,\"\n",
    "\n",
    "handle_commas(string)"
   ]
  },
  {
   "cell_type": "markdown",
   "id": "approved-discovery",
   "metadata": {},
   "source": [
    "### 8) Define a function named get_letter_grade. It should accept a number and return the letter grade associated with that number (A-F)."
   ]
  },
  {
   "cell_type": "code",
   "execution_count": 57,
   "id": "dramatic-price",
   "metadata": {},
   "outputs": [
    {
     "data": {
      "text/plain": [
       "'B'"
      ]
     },
     "execution_count": 57,
     "metadata": {},
     "output_type": "execute_result"
    }
   ],
   "source": [
    "number = 80\n",
    "\n",
    "if number <= 69:\n",
    "    \n",
    "    grade = \"F\"\n",
    "    \n",
    "elif number <= 79:\n",
    "\n",
    "    grade = \"C\"\n",
    "    \n",
    "elif number <= 89:\n",
    "    \n",
    "    grade = \"B\"\n",
    "    \n",
    "else:\n",
    "    \n",
    "    grade = \"A\"\n",
    "    \n",
    "grade"
   ]
  },
  {
   "cell_type": "code",
   "execution_count": null,
   "id": "accredited-horse",
   "metadata": {},
   "outputs": [],
   "source": [
    "def get_letter_grade(number):\n",
    "    \n",
    "    "
   ]
  },
  {
   "cell_type": "markdown",
   "id": "supposed-bathroom",
   "metadata": {},
   "source": [
    "### 9) Define a function named remove_vowels that accepts a string and returns a string with all the vowels removed."
   ]
  },
  {
   "cell_type": "code",
   "execution_count": null,
   "id": "mediterranean-pixel",
   "metadata": {},
   "outputs": [],
   "source": []
  }
 ],
 "metadata": {
  "kernelspec": {
   "display_name": "Python 3",
   "language": "python",
   "name": "python3"
  },
  "language_info": {
   "codemirror_mode": {
    "name": "ipython",
    "version": 3
   },
   "file_extension": ".py",
   "mimetype": "text/x-python",
   "name": "python",
   "nbconvert_exporter": "python",
   "pygments_lexer": "ipython3",
   "version": "3.7.4"
  }
 },
 "nbformat": 4,
 "nbformat_minor": 5
}
