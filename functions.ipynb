{
 "cells": [
  {
   "cell_type": "markdown",
   "id": "familiar-shopper",
   "metadata": {},
   "source": [
    "# Functions"
   ]
  },
  {
   "cell_type": "markdown",
   "id": "continent-steam",
   "metadata": {},
   "source": [
    "### 1) Define a function named is_two. It should accept one input and return True if the passed input is either the number or the string 2, False otherwise."
   ]
  },
  {
   "cell_type": "code",
   "execution_count": 2,
   "id": "sticky-modem",
   "metadata": {},
   "outputs": [
    {
     "data": {
      "text/plain": [
       "False"
      ]
     },
     "execution_count": 2,
     "metadata": {},
     "output_type": "execute_result"
    }
   ],
   "source": [
    "data = '3'\n",
    "\n",
    "(data == 2) or (data == '2')"
   ]
  },
  {
   "cell_type": "code",
   "execution_count": 3,
   "id": "polyphonic-checkout",
   "metadata": {},
   "outputs": [],
   "source": [
    "def is_two(data):\n",
    "    \n",
    "    return (data == 2) or (data == '2')"
   ]
  },
  {
   "cell_type": "code",
   "execution_count": 6,
   "id": "floating-islam",
   "metadata": {},
   "outputs": [
    {
     "data": {
      "text/plain": [
       "False"
      ]
     },
     "execution_count": 6,
     "metadata": {},
     "output_type": "execute_result"
    }
   ],
   "source": [
    "anything = 6\n",
    "\n",
    "is_two(anything)"
   ]
  },
  {
   "cell_type": "markdown",
   "id": "female-dryer",
   "metadata": {},
   "source": [
    "### 2) Define a function named is_vowel. It should return True if the passed string is a vowel, False otherwise."
   ]
  },
  {
   "cell_type": "code",
   "execution_count": 8,
   "id": "contemporary-campbell",
   "metadata": {},
   "outputs": [
    {
     "data": {
      "text/plain": [
       "False"
      ]
     },
     "execution_count": 8,
     "metadata": {},
     "output_type": "execute_result"
    }
   ],
   "source": [
    "string = \"r\"\n",
    "\n",
    "string.lower() in \"aeiou\""
   ]
  },
  {
   "cell_type": "code",
   "execution_count": 9,
   "id": "circular-atlanta",
   "metadata": {},
   "outputs": [],
   "source": [
    "def is_vowel(string):\n",
    "    \n",
    "    return string.lower() in \"aeiou\""
   ]
  },
  {
   "cell_type": "code",
   "execution_count": 11,
   "id": "paperback-jumping",
   "metadata": {},
   "outputs": [
    {
     "data": {
      "text/plain": [
       "True"
      ]
     },
     "execution_count": 11,
     "metadata": {},
     "output_type": "execute_result"
    }
   ],
   "source": [
    "string = \"U\"\n",
    "\n",
    "is_vowel(string)"
   ]
  },
  {
   "cell_type": "markdown",
   "id": "hybrid-professor",
   "metadata": {},
   "source": [
    "### 3) Define a function named is_consonant. It should return True if the passed string is a consonant, False otherwise. Use your is_vowel function to accomplish this."
   ]
  },
  {
   "cell_type": "code",
   "execution_count": 12,
   "id": "intended-strike",
   "metadata": {},
   "outputs": [
    {
     "data": {
      "text/plain": [
       "True"
      ]
     },
     "execution_count": 12,
     "metadata": {},
     "output_type": "execute_result"
    }
   ],
   "source": [
    "string = \"t\"\n",
    "\n",
    "is_vowel(string) == False"
   ]
  },
  {
   "cell_type": "code",
   "execution_count": 13,
   "id": "covered-luxembourg",
   "metadata": {},
   "outputs": [],
   "source": [
    "def is_consonant(string):\n",
    "    \n",
    "    return is_vowel(string) == False"
   ]
  },
  {
   "cell_type": "code",
   "execution_count": 15,
   "id": "impressed-athletics",
   "metadata": {},
   "outputs": [
    {
     "data": {
      "text/plain": [
       "True"
      ]
     },
     "execution_count": 15,
     "metadata": {},
     "output_type": "execute_result"
    }
   ],
   "source": [
    "string = \"F\"\n",
    "\n",
    "is_consonant(string)"
   ]
  },
  {
   "cell_type": "markdown",
   "id": "possible-alaska",
   "metadata": {},
   "source": [
    "### 4) Define a function that accepts a string that is a word. The function should capitalize the first letter of the word if the word starts with a consonant."
   ]
  },
  {
   "cell_type": "code",
   "execution_count": null,
   "id": "simplified-beginning",
   "metadata": {},
   "outputs": [],
   "source": [
    "# check if first letter is a consonant\n",
    "# if it is capitalize word \n",
    "# then get value for word"
   ]
  },
  {
   "cell_type": "code",
   "execution_count": 17,
   "id": "romance-mailing",
   "metadata": {},
   "outputs": [
    {
     "data": {
      "text/plain": [
       "'antastic'"
      ]
     },
     "execution_count": 17,
     "metadata": {},
     "output_type": "execute_result"
    }
   ],
   "source": [
    "word = \"antastic\"\n",
    "\n",
    "if word[0] not in 'aeiou':\n",
    "    \n",
    "    word = word.capitalize()\n",
    "    \n",
    "word"
   ]
  },
  {
   "cell_type": "code",
   "execution_count": 18,
   "id": "fifteen-liverpool",
   "metadata": {},
   "outputs": [],
   "source": [
    "def capitalizer_9000_non_vowel_eddition(word):\n",
    "    \n",
    "    if word[0] not in 'aeiou':\n",
    "    \n",
    "        word = word.capitalize()\n",
    "    \n",
    "    return word"
   ]
  },
  {
   "cell_type": "code",
   "execution_count": 21,
   "id": "addressed-immunology",
   "metadata": {},
   "outputs": [
    {
     "data": {
      "text/plain": [
       "'Fantastic'"
      ]
     },
     "execution_count": 21,
     "metadata": {},
     "output_type": "execute_result"
    }
   ],
   "source": [
    "word = \"fantastic\"\n",
    "\n",
    "capitalizer_9000_non_vowel_eddition(word)"
   ]
  },
  {
   "cell_type": "markdown",
   "id": "neither-narrative",
   "metadata": {},
   "source": [
    "### 5) Define a function named calculate_tip. It should accept a tip percentage (a number between 0 and 1) and the bill total, and return the amount to tip."
   ]
  },
  {
   "cell_type": "code",
   "execution_count": 22,
   "id": "crude-george",
   "metadata": {},
   "outputs": [
    {
     "data": {
      "text/plain": [
       "15.0"
      ]
     },
     "execution_count": 22,
     "metadata": {},
     "output_type": "execute_result"
    }
   ],
   "source": [
    "bill = 100\n",
    "tip_percent = .15\n",
    "\n",
    "bill * tip_percent"
   ]
  },
  {
   "cell_type": "code",
   "execution_count": 24,
   "id": "brazilian-minority",
   "metadata": {},
   "outputs": [],
   "source": [
    "def calculate_tip(bill, tip_percent):\n",
    "    \n",
    "    return bill * tip_percent"
   ]
  },
  {
   "cell_type": "code",
   "execution_count": 26,
   "id": "advanced-dylan",
   "metadata": {},
   "outputs": [
    {
     "data": {
      "text/plain": [
       "12.0"
      ]
     },
     "execution_count": 26,
     "metadata": {},
     "output_type": "execute_result"
    }
   ],
   "source": [
    "bill = 40\n",
    "tip_percent = .30\n",
    "\n",
    "calculate_tip(bill, tip_percent)"
   ]
  },
  {
   "cell_type": "markdown",
   "id": "modern-chest",
   "metadata": {},
   "source": [
    "### 6) Define a function named apply_discount. It should accept a original price, and a discount percentage, and return the price after the discount is applied."
   ]
  },
  {
   "cell_type": "code",
   "execution_count": 27,
   "id": "checked-airport",
   "metadata": {},
   "outputs": [
    {
     "data": {
      "text/plain": [
       "240.0"
      ]
     },
     "execution_count": 27,
     "metadata": {},
     "output_type": "execute_result"
    }
   ],
   "source": [
    "price = 300\n",
    "discount_percent = 20\n",
    "\n",
    "price - (price * (discount_percent / 100))"
   ]
  },
  {
   "cell_type": "code",
   "execution_count": 28,
   "id": "arabic-speed",
   "metadata": {},
   "outputs": [],
   "source": [
    "def apply_discount(price, discount_percent):\n",
    "    \n",
    "    return price - (price * (discount_percent / 100))"
   ]
  },
  {
   "cell_type": "code",
   "execution_count": 30,
   "id": "immediate-sociology",
   "metadata": {},
   "outputs": [
    {
     "data": {
      "text/plain": [
       "1200.0"
      ]
     },
     "execution_count": 30,
     "metadata": {},
     "output_type": "execute_result"
    }
   ],
   "source": [
    "price = 2000\n",
    "discount_percent = 40\n",
    "\n",
    "apply_discount(price, discount_percent)"
   ]
  },
  {
   "cell_type": "markdown",
   "id": "caroline-feeding",
   "metadata": {},
   "source": [
    "### 7) Define a function named handle_commas. It should accept a string that is a number that contains commas in it as input, and return a number as output."
   ]
  },
  {
   "cell_type": "code",
   "execution_count": null,
   "id": "ruled-evidence",
   "metadata": {},
   "outputs": [],
   "source": [
    "# itterate through characters in string\n",
    "# if character in not a comma add it to the end of the empty string\n",
    "# convert added numbers to float"
   ]
  },
  {
   "cell_type": "code",
   "execution_count": 32,
   "id": "stupid-shopper",
   "metadata": {},
   "outputs": [
    {
     "data": {
      "text/plain": [
       "1000.5"
      ]
     },
     "execution_count": 32,
     "metadata": {},
     "output_type": "execute_result"
    }
   ],
   "source": [
    "string = \"$1,0,0,0.5,0,0,0\"\n",
    "\n",
    "number = \"\"\n",
    "\n",
    "for char in string:\n",
    "    \n",
    "    if char not in \"$,\":\n",
    "        \n",
    "        number += char\n",
    "    \n",
    "float(number) "
   ]
  },
  {
   "cell_type": "code",
   "execution_count": 33,
   "id": "golden-monroe",
   "metadata": {},
   "outputs": [],
   "source": [
    "def handle_commas(string):\n",
    "    \n",
    "    number = \"\"\n",
    "\n",
    "    for char in string:\n",
    "\n",
    "        if char not in \",\":\n",
    "\n",
    "            number += char\n",
    "    \n",
    "    return float(number) "
   ]
  },
  {
   "cell_type": "code",
   "execution_count": 34,
   "id": "dynamic-pregnancy",
   "metadata": {},
   "outputs": [
    {
     "data": {
      "text/plain": [
       "2345.5"
      ]
     },
     "execution_count": 34,
     "metadata": {},
     "output_type": "execute_result"
    }
   ],
   "source": [
    "string = \"2,,,,,,,345.5,0,0,0,\"\n",
    "\n",
    "handle_commas(string)"
   ]
  },
  {
   "cell_type": "markdown",
   "id": "heated-burner",
   "metadata": {},
   "source": [
    "### 8) Define a function named get_letter_grade. It should accept a number and return the letter grade associated with that number (A-F)."
   ]
  },
  {
   "cell_type": "code",
   "execution_count": null,
   "id": "endangered-amount",
   "metadata": {},
   "outputs": [],
   "source": [
    "# check input grade against cutoff for each letter grade in order of least to greatest\n",
    "# if input grade not higher than cutoff set letter grade to  matching letter\n",
    "# if input grade higher than cut off check next highest grade\n",
    "# if input grade higher than cutoff for \"B\" set letter grade to \"A\"\n",
    "# get letter grade"
   ]
  },
  {
   "cell_type": "code",
   "execution_count": 37,
   "id": "adapted-alliance",
   "metadata": {},
   "outputs": [
    {
     "data": {
      "text/plain": [
       "'C'"
      ]
     },
     "execution_count": 37,
     "metadata": {},
     "output_type": "execute_result"
    }
   ],
   "source": [
    "number = 76\n",
    "\n",
    "if number <= 69:\n",
    "    \n",
    "    grade = \"F\"\n",
    "    \n",
    "elif number <= 79:\n",
    "\n",
    "    grade = \"C\"\n",
    "    \n",
    "elif number <= 89:\n",
    "    \n",
    "    grade = \"B\"\n",
    "    \n",
    "else:\n",
    "    \n",
    "    grade = \"A\"\n",
    "    \n",
    "grade"
   ]
  },
  {
   "cell_type": "code",
   "execution_count": 38,
   "id": "hungarian-cleaner",
   "metadata": {},
   "outputs": [],
   "source": [
    "def get_letter_grade(number):\n",
    "    \n",
    "    if number <= 69:\n",
    "    \n",
    "        grade = \"F\"\n",
    "    \n",
    "    elif number <= 79:\n",
    "\n",
    "        grade = \"C\"\n",
    "\n",
    "    elif number <= 89:\n",
    "\n",
    "        grade = \"B\"\n",
    "\n",
    "    else:\n",
    "\n",
    "        grade = \"A\"\n",
    "\n",
    "    return grade"
   ]
  },
  {
   "cell_type": "code",
   "execution_count": 40,
   "id": "liquid-helmet",
   "metadata": {},
   "outputs": [
    {
     "data": {
      "text/plain": [
       "'A'"
      ]
     },
     "execution_count": 40,
     "metadata": {},
     "output_type": "execute_result"
    }
   ],
   "source": [
    "number = 90\n",
    "\n",
    "get_letter_grade(number)"
   ]
  },
  {
   "cell_type": "markdown",
   "id": "classified-aurora",
   "metadata": {},
   "source": [
    "### 9) Define a function named remove_vowels that accepts a string and returns a string with all the vowels removed."
   ]
  },
  {
   "cell_type": "code",
   "execution_count": null,
   "id": "satellite-concord",
   "metadata": {},
   "outputs": [],
   "source": [
    "# take in a string \n",
    "# itterate through the string\n",
    "# check if char in string is a vowel\n",
    "# if char is not a vowel, append char to empty string\n",
    "# get the value of the empty string"
   ]
  },
  {
   "cell_type": "code",
   "execution_count": 41,
   "id": "lesser-blame",
   "metadata": {},
   "outputs": [
    {
     "data": {
      "text/plain": [
       "'Yb-db-d'"
      ]
     },
     "execution_count": 41,
     "metadata": {},
     "output_type": "execute_result"
    }
   ],
   "source": [
    "string = \"Yaba-daba-doo\"\n",
    "no_vowels = \"\"\n",
    "\n",
    "for char in string:\n",
    "\n",
    "    if char.lower() not in \"aeiou\":\n",
    "\n",
    "        no_vowels += char\n",
    "\n",
    "no_vowels"
   ]
  },
  {
   "cell_type": "code",
   "execution_count": 42,
   "id": "improving-tension",
   "metadata": {},
   "outputs": [],
   "source": [
    "def remove_vowels(string):\n",
    "    \n",
    "    no_vowels = \"\"\n",
    "\n",
    "    for char in string:\n",
    "\n",
    "        if char.lower() not in \"aeiou\":\n",
    "\n",
    "            no_vowels += char\n",
    "\n",
    "    return no_vowels"
   ]
  },
  {
   "cell_type": "code",
   "execution_count": 43,
   "id": "better-interest",
   "metadata": {},
   "outputs": [
    {
     "data": {
      "text/plain": [
       "'Ths strng hs n vwls n t'"
      ]
     },
     "execution_count": 43,
     "metadata": {},
     "output_type": "execute_result"
    }
   ],
   "source": [
    "string = \"This string has no vowels in it\"\n",
    "\n",
    "remove_vowels(string)"
   ]
  },
  {
   "cell_type": "markdown",
   "id": "opponent-administration",
   "metadata": {},
   "source": [
    "### 10) Define a function named normalize_name. It should accept a string and return a valid python identifier\n",
    "\n",
    "* anything that is not a valid python identifier should be removed \n",
    "<br>\n",
    "\n",
    "* valid python identifiers: any combination of letters, numbers, and underscores not beginning with a number \n",
    "<br>\n",
    "\n",
    "* leading and trailing whitespace should be removed\n",
    "* everything should be lowercase\n",
    "* spaces should be replaced with underscores"
   ]
  },
  {
   "cell_type": "code",
   "execution_count": null,
   "id": "surface-multimedia",
   "metadata": {},
   "outputs": [],
   "source": [
    "# Remove leading numbers\n",
    "\n",
    "# Remove leading and trailing white spaces \n",
    "\n",
    "# Remove non-number, non-letter, non-space characters\n",
    "\n",
    "# lowercase all letter characters"
   ]
  },
  {
   "cell_type": "code",
   "execution_count": 44,
   "id": "complimentary-briefs",
   "metadata": {},
   "outputs": [
    {
     "data": {
      "text/plain": [
       "'1 2 3  THis iS a vAlId pYThon idenTIFier  '"
      ]
     },
     "execution_count": 44,
     "metadata": {},
     "output_type": "execute_result"
    }
   ],
   "source": [
    "# Remove non-number, non_letter, non-space characters\n",
    "\n",
    "name = \"1 2 3 $()&^$( T#%^H#%^i%^s%^ i%^&S %&(*(a v$%&AlI#%^d p#%^YTh#%^on id#%^%&en$%&TI#$^%%$&^*Fi@$%^*(er  #^#^#@\"\n",
    "\n",
    "cleaned = \"\"\n",
    "\n",
    "for char in name:\n",
    "    \n",
    "    if (char.isalnum() == True) or (char == \" \"):\n",
    "        \n",
    "        cleaned += char\n",
    "        \n",
    "cleaned"
   ]
  },
  {
   "cell_type": "code",
   "execution_count": 46,
   "id": "acoustic-hanging",
   "metadata": {},
   "outputs": [],
   "source": [
    "def remove_symbols(name):\n",
    "    \n",
    "    cleaned = \"\"\n",
    "\n",
    "    for char in name:\n",
    "\n",
    "        if (char.isalnum() == True) or (char == \" \"):\n",
    "\n",
    "            cleaned += char\n",
    "        \n",
    "    return cleaned"
   ]
  },
  {
   "cell_type": "code",
   "execution_count": 47,
   "id": "adolescent-turtle",
   "metadata": {},
   "outputs": [
    {
     "data": {
      "text/plain": [
       "'1 2 3  THis iS a vAlId pYThon idenTIFier  '"
      ]
     },
     "execution_count": 47,
     "metadata": {},
     "output_type": "execute_result"
    }
   ],
   "source": [
    "name = \"1 2 3 $()&^$( T#%^H#%^i%^s%^ i%^&S %&(*(a v$%&AlI#%^d p#%^YTh#%^on id#%^%&en$%&TI#$^%%$&^*Fi@$%^*(er  #^#^#@\"\n",
    "\n",
    "name = remove_symbols(name)\n",
    "\n",
    "name"
   ]
  },
  {
   "cell_type": "code",
   "execution_count": 48,
   "id": "comic-installation",
   "metadata": {},
   "outputs": [
    {
     "data": {
      "text/plain": [
       "'THis iS a vAlId pYThon idenTIFier'"
      ]
     },
     "execution_count": 48,
     "metadata": {},
     "output_type": "execute_result"
    }
   ],
   "source": [
    "# get rid of leading numbers and white space and trailing white space\n",
    "\n",
    "name = '1 2 3  THis iS a vAlId pYThon idenTIFier  '\n",
    "\n",
    "while name[0].isalpha() == False:\n",
    "    \n",
    "    name = name[1:]\n",
    "\n",
    "name.strip()"
   ]
  },
  {
   "cell_type": "code",
   "execution_count": 49,
   "id": "functioning-football",
   "metadata": {},
   "outputs": [],
   "source": [
    "def front_and_back(name):\n",
    "    \n",
    "    while name[0].isalpha() == False:\n",
    "    \n",
    "        name = name[1:]\n",
    "\n",
    "    return name.strip()"
   ]
  },
  {
   "cell_type": "code",
   "execution_count": 50,
   "id": "resistant-combine",
   "metadata": {},
   "outputs": [
    {
     "data": {
      "text/plain": [
       "'THis iS a vAlId pYThon idenTIFier'"
      ]
     },
     "execution_count": 50,
     "metadata": {},
     "output_type": "execute_result"
    }
   ],
   "source": [
    "name = '1 2 3  THis iS a vAlId pYThon idenTIFier  '\n",
    "\n",
    "name = front_and_back(name)\n",
    "\n",
    "name"
   ]
  },
  {
   "cell_type": "code",
   "execution_count": 51,
   "id": "martial-arena",
   "metadata": {},
   "outputs": [
    {
     "data": {
      "text/plain": [
       "'this_is_a_valid_python_identifier'"
      ]
     },
     "execution_count": 51,
     "metadata": {},
     "output_type": "execute_result"
    }
   ],
   "source": [
    "# swap space for underscore and get lower case\n",
    "\n",
    "name = 'THis iS a vAlId pYThon idenTIFier'\n",
    "\n",
    "name = name.replace(\" \", \"_\")\n",
    "\n",
    "name = name.lower()\n",
    "\n",
    "name"
   ]
  },
  {
   "cell_type": "markdown",
   "id": "median-victim",
   "metadata": {},
   "source": [
    "# Bringing it all together"
   ]
  },
  {
   "cell_type": "code",
   "execution_count": 52,
   "id": "olive-carbon",
   "metadata": {},
   "outputs": [],
   "source": [
    "def remove_symbols(name):\n",
    "    '''\n",
    "    Removes symbols from a string\n",
    "    '''\n",
    "    \n",
    "    cleaned = \"\"\n",
    "\n",
    "    for char in name:\n",
    "\n",
    "        if (char.isalnum() == True) or (char == \" \"):\n",
    "\n",
    "            cleaned += char\n",
    "        \n",
    "    return cleaned"
   ]
  },
  {
   "cell_type": "code",
   "execution_count": 53,
   "id": "finite-harvard",
   "metadata": {},
   "outputs": [],
   "source": [
    "def front_and_back(name):\n",
    "    '''\n",
    "    Removes leading numbers and leading and trailing spaces from a string\n",
    "    '''\n",
    "    \n",
    "    while name[0].isalpha() == False:\n",
    "    \n",
    "        name = name[1:]\n",
    "\n",
    "    return name.strip()"
   ]
  },
  {
   "cell_type": "code",
   "execution_count": 54,
   "id": "tutorial-covering",
   "metadata": {},
   "outputs": [
    {
     "data": {
      "text/plain": [
       "'1 2 3  THis iS a vAlId pYThon idenTIFier  '"
      ]
     },
     "execution_count": 54,
     "metadata": {},
     "output_type": "execute_result"
    }
   ],
   "source": [
    "name = \"1 2 3 $()&^$( T#%^H#%^i%^s%^ i%^&S %&(*(a v$%&AlI#%^d p#%^YTh#%^on id#%^%&en$%&TI#$^%%$&^*Fi@$%^*(er  #^#^#@\"\n",
    "\n",
    "name = remove_symbols(name)\n",
    "\n",
    "name"
   ]
  },
  {
   "cell_type": "code",
   "execution_count": 55,
   "id": "weird-issue",
   "metadata": {},
   "outputs": [
    {
     "data": {
      "text/plain": [
       "'THis iS a vAlId pYThon idenTIFier'"
      ]
     },
     "execution_count": 55,
     "metadata": {},
     "output_type": "execute_result"
    }
   ],
   "source": [
    "name = front_and_back(name)\n",
    "\n",
    "name"
   ]
  },
  {
   "cell_type": "code",
   "execution_count": 56,
   "id": "incident-bonus",
   "metadata": {},
   "outputs": [
    {
     "data": {
      "text/plain": [
       "'this_is_a_valid_python_identifier'"
      ]
     },
     "execution_count": 56,
     "metadata": {},
     "output_type": "execute_result"
    }
   ],
   "source": [
    "name = name.replace(\" \", \"_\")\n",
    "\n",
    "name = name.lower()\n",
    "\n",
    "name"
   ]
  },
  {
   "cell_type": "code",
   "execution_count": 57,
   "id": "infinite-universe",
   "metadata": {},
   "outputs": [],
   "source": [
    "def normalize_name(name):\n",
    "    '''\n",
    "    Converts string to valid python identifier\n",
    "    '''\n",
    "    \n",
    "    name = remove_symbols(name)  # Removes symbols\n",
    "    \n",
    "    name = front_and_back(name)  # Removes leading numbers and leading and trailing white space\n",
    "    \n",
    "    name = name.replace(\" \", \"_\") # replace spaces with underscores\n",
    "\n",
    "    name = name.lower() # lowercase string\n",
    "\n",
    "    return name"
   ]
  },
  {
   "cell_type": "code",
   "execution_count": 58,
   "id": "acoustic-economics",
   "metadata": {},
   "outputs": [
    {
     "data": {
      "text/plain": [
       "'this_is_a_valid_python_identifier'"
      ]
     },
     "execution_count": 58,
     "metadata": {},
     "output_type": "execute_result"
    }
   ],
   "source": [
    "name = \"1 2 3 $()&^$( T#%^H#%^i%^s%^ i%^&S %&(*(a v$%&AlI#%^d p#%^YTh#%^on id#%^%&en$%&TI#$^%%$&^*Fi@$%^*(er  #^#^#@\"\n",
    "\n",
    "normalize_name(name)"
   ]
  },
  {
   "cell_type": "markdown",
   "id": "complete-inventory",
   "metadata": {},
   "source": [
    "### 11) Write a function named cumulative_sum that accepts a list of numbers and returns a list that is the cumulative sum of the numbers in the list.\n"
   ]
  },
  {
   "cell_type": "code",
   "execution_count": null,
   "id": "consolidated-plane",
   "metadata": {},
   "outputs": [],
   "source": [
    "# set total to 0\n",
    "# set sum_list to empty\n",
    "# itterate through numbers in input_list\n",
    "# for each number add it to total then append total to sum_list\n",
    "# get value for empty list"
   ]
  },
  {
   "cell_type": "code",
   "execution_count": 59,
   "id": "incomplete-education",
   "metadata": {},
   "outputs": [
    {
     "data": {
      "text/plain": [
       "[1, 3, 6, 10]"
      ]
     },
     "execution_count": 59,
     "metadata": {},
     "output_type": "execute_result"
    }
   ],
   "source": [
    "input_list = [1,2,3,4]\n",
    "\n",
    "sum_list = []\n",
    "\n",
    "total = 0\n",
    "\n",
    "for num in input_list:\n",
    "    \n",
    "    total += num\n",
    "    \n",
    "    sum_list.append(total)\n",
    "    \n",
    "sum_list"
   ]
  },
  {
   "cell_type": "code",
   "execution_count": 60,
   "id": "addressed-configuration",
   "metadata": {},
   "outputs": [],
   "source": [
    "def cumulative_sum(input_list):\n",
    "    \n",
    "    sum_list = []\n",
    "\n",
    "    total = 0\n",
    "\n",
    "    for num in input_list:\n",
    "    \n",
    "        total += num\n",
    "    \n",
    "        sum_list.append(total)\n",
    "        \n",
    "    return sum_list"
   ]
  },
  {
   "cell_type": "code",
   "execution_count": 61,
   "id": "revised-vertex",
   "metadata": {},
   "outputs": [
    {
     "data": {
      "text/plain": [
       "[1, 3, 6, 10, 15]"
      ]
     },
     "execution_count": 61,
     "metadata": {},
     "output_type": "execute_result"
    }
   ],
   "source": [
    "input_list = [1,2,3,4,5]\n",
    "\n",
    "cumulative_sum(input_list)"
   ]
  },
  {
   "cell_type": "code",
   "execution_count": null,
   "id": "educational-father",
   "metadata": {},
   "outputs": [],
   "source": []
  }
 ],
 "metadata": {
  "kernelspec": {
   "display_name": "Python 3",
   "language": "python",
   "name": "python3"
  },
  "language_info": {
   "codemirror_mode": {
    "name": "ipython",
    "version": 3
   },
   "file_extension": ".py",
   "mimetype": "text/x-python",
   "name": "python",
   "nbconvert_exporter": "python",
   "pygments_lexer": "ipython3",
   "version": "3.7.4"
  }
 },
 "nbformat": 4,
 "nbformat_minor": 5
}
