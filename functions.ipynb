{
 "cells": [
  {
   "cell_type": "markdown",
   "id": "productive-investor",
   "metadata": {},
   "source": [
    "# Functions"
   ]
  },
  {
   "cell_type": "markdown",
   "id": "ranking-knitting",
   "metadata": {},
   "source": [
    "### 1) Define a function named is_two. It should accept one input and return True if the passed input is either the number or the string 2, False otherwise."
   ]
  },
  {
   "cell_type": "code",
   "execution_count": 9,
   "id": "gentle-aruba",
   "metadata": {},
   "outputs": [
    {
     "data": {
      "text/plain": [
       "True"
      ]
     },
     "execution_count": 9,
     "metadata": {},
     "output_type": "execute_result"
    }
   ],
   "source": [
    "data = '2'\n",
    "\n",
    "(data == 2) or (data == '2')"
   ]
  },
  {
   "cell_type": "code",
   "execution_count": 4,
   "id": "ahead-conflict",
   "metadata": {},
   "outputs": [],
   "source": [
    "def is_two(data):\n",
    "    \n",
    "    return (data == 2) or (data == '2')"
   ]
  },
  {
   "cell_type": "code",
   "execution_count": 7,
   "id": "coordinated-poetry",
   "metadata": {},
   "outputs": [
    {
     "data": {
      "text/plain": [
       "True"
      ]
     },
     "execution_count": 7,
     "metadata": {},
     "output_type": "execute_result"
    }
   ],
   "source": [
    "data = '2'\n",
    "\n",
    "is_two(data)"
   ]
  },
  {
   "cell_type": "markdown",
   "id": "insured-editing",
   "metadata": {},
   "source": [
    "### 2) Define a function named is_vowel. It should return True if the passed string is a vowel, False otherwise."
   ]
  },
  {
   "cell_type": "code",
   "execution_count": 12,
   "id": "bored-framing",
   "metadata": {},
   "outputs": [
    {
     "data": {
      "text/plain": [
       "True"
      ]
     },
     "execution_count": 12,
     "metadata": {},
     "output_type": "execute_result"
    }
   ],
   "source": [
    "string = \"u\"\n",
    "\n",
    "string.lower() in \"aeiou\""
   ]
  },
  {
   "cell_type": "code",
   "execution_count": null,
   "id": "respiratory-quantum",
   "metadata": {},
   "outputs": [],
   "source": [
    "def is_vowel(string):\n",
    "    \n",
    "    return string.lower() in \"aeiou\""
   ]
  },
  {
   "cell_type": "code",
   "execution_count": 15,
   "id": "expired-acoustic",
   "metadata": {},
   "outputs": [
    {
     "data": {
      "text/plain": [
       "False"
      ]
     },
     "execution_count": 15,
     "metadata": {},
     "output_type": "execute_result"
    }
   ],
   "source": [
    "string = \"s\"\n",
    "\n",
    "is_vowel(string)"
   ]
  },
  {
   "cell_type": "markdown",
   "id": "integral-excess",
   "metadata": {},
   "source": [
    "### 3) Define a function named is_consonant. It should return True if the passed string is a consonant, False otherwise. Use your is_vowel function to accomplish this."
   ]
  },
  {
   "cell_type": "code",
   "execution_count": 16,
   "id": "administrative-infrastructure",
   "metadata": {},
   "outputs": [
    {
     "data": {
      "text/plain": [
       "True"
      ]
     },
     "execution_count": 16,
     "metadata": {},
     "output_type": "execute_result"
    }
   ],
   "source": [
    "string = \"t\"\n",
    "\n",
    "string.lower() not in \"aeiou\""
   ]
  },
  {
   "cell_type": "code",
   "execution_count": 17,
   "id": "extra-memorial",
   "metadata": {},
   "outputs": [],
   "source": [
    "def is_consonant(string):\n",
    "    \n",
    "    return string.lower() not in \"aeiou\""
   ]
  },
  {
   "cell_type": "code",
   "execution_count": 20,
   "id": "genetic-isolation",
   "metadata": {},
   "outputs": [
    {
     "data": {
      "text/plain": [
       "False"
      ]
     },
     "execution_count": 20,
     "metadata": {},
     "output_type": "execute_result"
    }
   ],
   "source": [
    "string = \"I\"\n",
    "\n",
    "is_consonant(string)"
   ]
  },
  {
   "cell_type": "markdown",
   "id": "monetary-korean",
   "metadata": {},
   "source": [
    "### 4) Define a function that accepts a string that is a word. The function should capitalize the first letter of the word if the word starts with a consonant."
   ]
  },
  {
   "cell_type": "code",
   "execution_count": 25,
   "id": "excited-event",
   "metadata": {},
   "outputs": [
    {
     "data": {
      "text/plain": [
       "'Fantastic'"
      ]
     },
     "execution_count": 25,
     "metadata": {},
     "output_type": "execute_result"
    }
   ],
   "source": [
    "word = \"fantastic\"\n",
    "\n",
    "if word[0] not in 'aeiou':\n",
    "    \n",
    "    word = word.capitalize()\n",
    "    \n",
    "word"
   ]
  },
  {
   "cell_type": "code",
   "execution_count": 26,
   "id": "wooden-pillow",
   "metadata": {},
   "outputs": [],
   "source": [
    "def capitalizer_9000_non_vowel_eddition(word):\n",
    "    \n",
    "    if word[0] not in 'aeiou':\n",
    "    \n",
    "        word = word.capitalize()\n",
    "    \n",
    "    return word"
   ]
  },
  {
   "cell_type": "code",
   "execution_count": 28,
   "id": "protected-relay",
   "metadata": {},
   "outputs": [
    {
     "data": {
      "text/plain": [
       "'antastic'"
      ]
     },
     "execution_count": 28,
     "metadata": {},
     "output_type": "execute_result"
    }
   ],
   "source": [
    "word = \"antastic\"\n",
    "\n",
    "capitalizer_9000_non_vowel_eddition(word)"
   ]
  },
  {
   "cell_type": "markdown",
   "id": "african-sight",
   "metadata": {},
   "source": [
    "### 5) Define a function named calculate_tip. It should accept a tip percentage (a number between 0 and 1) and the bill total, and return the amount to tip."
   ]
  },
  {
   "cell_type": "code",
   "execution_count": 30,
   "id": "capital-winter",
   "metadata": {},
   "outputs": [
    {
     "data": {
      "text/plain": [
       "15.0"
      ]
     },
     "execution_count": 30,
     "metadata": {},
     "output_type": "execute_result"
    }
   ],
   "source": [
    "bill = 100\n",
    "tip_percent = 15\n",
    "\n",
    "bill * (tip_percent / 100)"
   ]
  },
  {
   "cell_type": "code",
   "execution_count": 31,
   "id": "available-wonder",
   "metadata": {},
   "outputs": [],
   "source": [
    "def calculate_tip(bill, tip_percent):\n",
    "    \n",
    "    return bill * (tip_percent / 100)"
   ]
  },
  {
   "cell_type": "code",
   "execution_count": 34,
   "id": "exciting-dancing",
   "metadata": {},
   "outputs": [
    {
     "data": {
      "text/plain": [
       "200.0"
      ]
     },
     "execution_count": 34,
     "metadata": {},
     "output_type": "execute_result"
    }
   ],
   "source": [
    "bill = 1000\n",
    "tip_percent = 20\n",
    "\n",
    "calculate_tip(bill, tip_percent)"
   ]
  },
  {
   "cell_type": "markdown",
   "id": "closed-immune",
   "metadata": {},
   "source": [
    "### 6) Define a function named apply_discount. It should accept a original price, and a discount percentage, and return the price after the discount is applied."
   ]
  },
  {
   "cell_type": "code",
   "execution_count": 37,
   "id": "familiar-absence",
   "metadata": {},
   "outputs": [
    {
     "data": {
      "text/plain": [
       "240.0"
      ]
     },
     "execution_count": 37,
     "metadata": {},
     "output_type": "execute_result"
    }
   ],
   "source": [
    "price = 300\n",
    "discount_percent = 20\n",
    "\n",
    "price - (price * (discount_percent / 100))"
   ]
  },
  {
   "cell_type": "code",
   "execution_count": 38,
   "id": "satisfied-minister",
   "metadata": {},
   "outputs": [],
   "source": [
    "def apply_discount(price, discount_percent):\n",
    "    \n",
    "    return price - (price * (discount_percent / 100))"
   ]
  },
  {
   "cell_type": "code",
   "execution_count": 42,
   "id": "liked-smell",
   "metadata": {},
   "outputs": [
    {
     "data": {
      "text/plain": [
       "2700.0"
      ]
     },
     "execution_count": 42,
     "metadata": {},
     "output_type": "execute_result"
    }
   ],
   "source": [
    "price = 3000\n",
    "discount_percent = 10\n",
    "\n",
    "apply_discount(price, discount_percent)"
   ]
  },
  {
   "cell_type": "markdown",
   "id": "vulnerable-relevance",
   "metadata": {},
   "source": [
    "### 7) Define a function named handle_commas. It should accept a string that is a number that contains commas in it as input, and return a number as output."
   ]
  },
  {
   "cell_type": "code",
   "execution_count": 54,
   "id": "brave-maine",
   "metadata": {},
   "outputs": [
    {
     "data": {
      "text/plain": [
       "1000.5"
      ]
     },
     "execution_count": 54,
     "metadata": {},
     "output_type": "execute_result"
    }
   ],
   "source": [
    "string = \"1,000.5000\"\n",
    "\n",
    "number = \"\"\n",
    "\n",
    "for char in string:\n",
    "    \n",
    "    if char not in \",\":\n",
    "        \n",
    "        number += char\n",
    "    \n",
    "float(number) "
   ]
  },
  {
   "cell_type": "code",
   "execution_count": 55,
   "id": "thirty-pottery",
   "metadata": {},
   "outputs": [],
   "source": [
    "def handle_commas(string):\n",
    "    \n",
    "    number = \"\"\n",
    "\n",
    "    for char in string:\n",
    "\n",
    "        if char not in \",\":\n",
    "\n",
    "            number += char\n",
    "    \n",
    "    return float(number) "
   ]
  },
  {
   "cell_type": "code",
   "execution_count": 56,
   "id": "persistent-stability",
   "metadata": {},
   "outputs": [
    {
     "data": {
      "text/plain": [
       "2345.5"
      ]
     },
     "execution_count": 56,
     "metadata": {},
     "output_type": "execute_result"
    }
   ],
   "source": [
    "string = \"2,,,,,,,345.5,0,0,0,\"\n",
    "\n",
    "handle_commas(string)"
   ]
  },
  {
   "cell_type": "markdown",
   "id": "bigger-alloy",
   "metadata": {},
   "source": [
    "### 8) Define a function named get_letter_grade. It should accept a number and return the letter grade associated with that number (A-F)."
   ]
  },
  {
   "cell_type": "code",
   "execution_count": 57,
   "id": "speaking-investing",
   "metadata": {},
   "outputs": [
    {
     "data": {
      "text/plain": [
       "'B'"
      ]
     },
     "execution_count": 57,
     "metadata": {},
     "output_type": "execute_result"
    }
   ],
   "source": [
    "number = 80\n",
    "\n",
    "if number <= 69:\n",
    "    \n",
    "    grade = \"F\"\n",
    "    \n",
    "elif number <= 79:\n",
    "\n",
    "    grade = \"C\"\n",
    "    \n",
    "elif number <= 89:\n",
    "    \n",
    "    grade = \"B\"\n",
    "    \n",
    "else:\n",
    "    \n",
    "    grade = \"A\"\n",
    "    \n",
    "grade"
   ]
  },
  {
   "cell_type": "code",
   "execution_count": 61,
   "id": "literary-asset",
   "metadata": {},
   "outputs": [],
   "source": [
    "def get_letter_grade(number):\n",
    "    \n",
    "    if number <= 69:\n",
    "    \n",
    "        grade = \"F\"\n",
    "    \n",
    "    elif number <= 79:\n",
    "\n",
    "        grade = \"C\"\n",
    "\n",
    "    elif number <= 89:\n",
    "\n",
    "        grade = \"B\"\n",
    "\n",
    "    else:\n",
    "\n",
    "        grade = \"A\"\n",
    "\n",
    "    return grade"
   ]
  },
  {
   "cell_type": "code",
   "execution_count": 62,
   "id": "economic-cartoon",
   "metadata": {},
   "outputs": [
    {
     "data": {
      "text/plain": [
       "'B'"
      ]
     },
     "execution_count": 62,
     "metadata": {},
     "output_type": "execute_result"
    }
   ],
   "source": [
    "number = 89\n",
    "\n",
    "get_letter_grade(number)"
   ]
  },
  {
   "cell_type": "markdown",
   "id": "competent-medicare",
   "metadata": {},
   "source": [
    "### 9) Define a function named remove_vowels that accepts a string and returns a string with all the vowels removed."
   ]
  },
  {
   "cell_type": "code",
   "execution_count": 64,
   "id": "occasional-north",
   "metadata": {},
   "outputs": [
    {
     "data": {
      "text/plain": [
       "'Yb-db-d'"
      ]
     },
     "execution_count": 64,
     "metadata": {},
     "output_type": "execute_result"
    }
   ],
   "source": [
    "string = \"Yaba-daba-doo\"\n",
    "no_vowels = \"\"\n",
    "\n",
    "for char in string:\n",
    "\n",
    "    if char.lower() not in \"aeiou\":\n",
    "\n",
    "        no_vowels += char\n",
    "\n",
    "no_vowels"
   ]
  },
  {
   "cell_type": "code",
   "execution_count": null,
   "id": "quantitative-tuesday",
   "metadata": {},
   "outputs": [],
   "source": []
  }
 ],
 "metadata": {
  "kernelspec": {
   "display_name": "Python 3",
   "language": "python",
   "name": "python3"
  },
  "language_info": {
   "codemirror_mode": {
    "name": "ipython",
    "version": 3
   },
   "file_extension": ".py",
   "mimetype": "text/x-python",
   "name": "python",
   "nbconvert_exporter": "python",
   "pygments_lexer": "ipython3",
   "version": "3.7.4"
  }
 },
 "nbformat": 4,
 "nbformat_minor": 5
}
