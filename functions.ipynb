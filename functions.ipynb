{
 "cells": [
  {
   "cell_type": "markdown",
   "id": "guided-roulette",
   "metadata": {},
   "source": [
    "# Functions"
   ]
  },
  {
   "cell_type": "markdown",
   "id": "efficient-astrology",
   "metadata": {},
   "source": [
    "### 1) Define a function named is_two. It should accept one input and return True if the passed input is either the number or the string 2, False otherwise."
   ]
  },
  {
   "cell_type": "code",
   "execution_count": 9,
   "id": "rapid-blair",
   "metadata": {},
   "outputs": [
    {
     "data": {
      "text/plain": [
       "True"
      ]
     },
     "execution_count": 9,
     "metadata": {},
     "output_type": "execute_result"
    }
   ],
   "source": [
    "data = '2'\n",
    "\n",
    "(data == 2) or (data == '2')"
   ]
  },
  {
   "cell_type": "code",
   "execution_count": 4,
   "id": "chemical-female",
   "metadata": {},
   "outputs": [],
   "source": [
    "def is_two(data):\n",
    "    \n",
    "    return (data == 2) or (data == '2')"
   ]
  },
  {
   "cell_type": "code",
   "execution_count": 7,
   "id": "tribal-supplier",
   "metadata": {},
   "outputs": [
    {
     "data": {
      "text/plain": [
       "True"
      ]
     },
     "execution_count": 7,
     "metadata": {},
     "output_type": "execute_result"
    }
   ],
   "source": [
    "data = '2'\n",
    "\n",
    "is_two(data)"
   ]
  },
  {
   "cell_type": "markdown",
   "id": "seven-knitting",
   "metadata": {},
   "source": [
    "### 2) Define a function named is_vowel. It should return True if the passed string is a vowel, False otherwise."
   ]
  },
  {
   "cell_type": "code",
   "execution_count": 12,
   "id": "sweet-eugene",
   "metadata": {},
   "outputs": [
    {
     "data": {
      "text/plain": [
       "True"
      ]
     },
     "execution_count": 12,
     "metadata": {},
     "output_type": "execute_result"
    }
   ],
   "source": [
    "string = \"u\"\n",
    "\n",
    "string.lower() in \"aeiou\""
   ]
  },
  {
   "cell_type": "code",
   "execution_count": null,
   "id": "legitimate-state",
   "metadata": {},
   "outputs": [],
   "source": [
    "def is_vowel(string):\n",
    "    \n",
    "    return string.lower() in \"aeiou\""
   ]
  },
  {
   "cell_type": "code",
   "execution_count": 15,
   "id": "particular-bradford",
   "metadata": {},
   "outputs": [
    {
     "data": {
      "text/plain": [
       "False"
      ]
     },
     "execution_count": 15,
     "metadata": {},
     "output_type": "execute_result"
    }
   ],
   "source": [
    "string = \"s\"\n",
    "\n",
    "is_vowel(string)"
   ]
  },
  {
   "cell_type": "markdown",
   "id": "about-tumor",
   "metadata": {},
   "source": [
    "### 3) Define a function named is_consonant. It should return True if the passed string is a consonant, False otherwise. Use your is_vowel function to accomplish this."
   ]
  },
  {
   "cell_type": "code",
   "execution_count": 16,
   "id": "spoken-mechanism",
   "metadata": {},
   "outputs": [
    {
     "data": {
      "text/plain": [
       "True"
      ]
     },
     "execution_count": 16,
     "metadata": {},
     "output_type": "execute_result"
    }
   ],
   "source": [
    "string = \"t\"\n",
    "\n",
    "string.lower() not in \"aeiou\""
   ]
  },
  {
   "cell_type": "code",
   "execution_count": 17,
   "id": "complete-scheduling",
   "metadata": {},
   "outputs": [],
   "source": [
    "def is_consonant(string):\n",
    "    \n",
    "    return string.lower() not in \"aeiou\""
   ]
  },
  {
   "cell_type": "code",
   "execution_count": 20,
   "id": "false-surprise",
   "metadata": {},
   "outputs": [
    {
     "data": {
      "text/plain": [
       "False"
      ]
     },
     "execution_count": 20,
     "metadata": {},
     "output_type": "execute_result"
    }
   ],
   "source": [
    "string = \"I\"\n",
    "\n",
    "is_consonant(string)"
   ]
  },
  {
   "cell_type": "markdown",
   "id": "legitimate-cleaners",
   "metadata": {},
   "source": [
    "### 4) Define a function that accepts a string that is a word. The function should capitalize the first letter of the word if the word starts with a consonant."
   ]
  },
  {
   "cell_type": "code",
   "execution_count": null,
   "id": "automated-characteristic",
   "metadata": {},
   "outputs": [],
   "source": [
    "# check if first letter is a consonant\n",
    "# if it is capitalize word \n",
    "# then get value for word"
   ]
  },
  {
   "cell_type": "code",
   "execution_count": 25,
   "id": "numeric-lecture",
   "metadata": {},
   "outputs": [
    {
     "data": {
      "text/plain": [
       "'Fantastic'"
      ]
     },
     "execution_count": 25,
     "metadata": {},
     "output_type": "execute_result"
    }
   ],
   "source": [
    "word = \"fantastic\"\n",
    "\n",
    "if word[0] not in 'aeiou':\n",
    "    \n",
    "    word = word.capitalize()\n",
    "    \n",
    "word"
   ]
  },
  {
   "cell_type": "code",
   "execution_count": 26,
   "id": "animated-fabric",
   "metadata": {},
   "outputs": [],
   "source": [
    "def capitalizer_9000_non_vowel_eddition(word):\n",
    "    \n",
    "    if word[0] not in 'aeiou':\n",
    "    \n",
    "        word = word.capitalize()\n",
    "    \n",
    "    return word"
   ]
  },
  {
   "cell_type": "code",
   "execution_count": 28,
   "id": "objective-burton",
   "metadata": {},
   "outputs": [
    {
     "data": {
      "text/plain": [
       "'antastic'"
      ]
     },
     "execution_count": 28,
     "metadata": {},
     "output_type": "execute_result"
    }
   ],
   "source": [
    "word = \"antastic\"\n",
    "\n",
    "capitalizer_9000_non_vowel_eddition(word)"
   ]
  },
  {
   "cell_type": "markdown",
   "id": "first-power",
   "metadata": {},
   "source": [
    "### 5) Define a function named calculate_tip. It should accept a tip percentage (a number between 0 and 1) and the bill total, and return the amount to tip."
   ]
  },
  {
   "cell_type": "code",
   "execution_count": 30,
   "id": "dependent-compact",
   "metadata": {},
   "outputs": [
    {
     "data": {
      "text/plain": [
       "15.0"
      ]
     },
     "execution_count": 30,
     "metadata": {},
     "output_type": "execute_result"
    }
   ],
   "source": [
    "bill = 100\n",
    "tip_percent = 15\n",
    "\n",
    "bill * (tip_percent / 100)"
   ]
  },
  {
   "cell_type": "code",
   "execution_count": 31,
   "id": "gross-ribbon",
   "metadata": {},
   "outputs": [],
   "source": [
    "def calculate_tip(bill, tip_percent):\n",
    "    \n",
    "    return bill * (tip_percent / 100)"
   ]
  },
  {
   "cell_type": "code",
   "execution_count": 34,
   "id": "geological-department",
   "metadata": {},
   "outputs": [
    {
     "data": {
      "text/plain": [
       "200.0"
      ]
     },
     "execution_count": 34,
     "metadata": {},
     "output_type": "execute_result"
    }
   ],
   "source": [
    "bill = 1000\n",
    "tip_percent = 20\n",
    "\n",
    "calculate_tip(bill, tip_percent)"
   ]
  },
  {
   "cell_type": "markdown",
   "id": "tough-soundtrack",
   "metadata": {},
   "source": [
    "### 6) Define a function named apply_discount. It should accept a original price, and a discount percentage, and return the price after the discount is applied."
   ]
  },
  {
   "cell_type": "code",
   "execution_count": 67,
   "id": "billion-simple",
   "metadata": {},
   "outputs": [
    {
     "data": {
      "text/plain": [
       "240.0"
      ]
     },
     "execution_count": 67,
     "metadata": {},
     "output_type": "execute_result"
    }
   ],
   "source": [
    "price = 300\n",
    "discount_percent = 20\n",
    "\n",
    "price - (price * (discount_percent / 100))"
   ]
  },
  {
   "cell_type": "code",
   "execution_count": 38,
   "id": "boxed-angel",
   "metadata": {},
   "outputs": [],
   "source": [
    "def apply_discount(price, discount_percent):\n",
    "    \n",
    "    return price - (price * (discount_percent / 100))"
   ]
  },
  {
   "cell_type": "code",
   "execution_count": 42,
   "id": "ethical-chocolate",
   "metadata": {},
   "outputs": [
    {
     "data": {
      "text/plain": [
       "2700.0"
      ]
     },
     "execution_count": 42,
     "metadata": {},
     "output_type": "execute_result"
    }
   ],
   "source": [
    "price = 3000\n",
    "discount_percent = 10\n",
    "\n",
    "apply_discount(price, discount_percent)"
   ]
  },
  {
   "cell_type": "markdown",
   "id": "postal-florence",
   "metadata": {},
   "source": [
    "### 7) Define a function named handle_commas. It should accept a string that is a number that contains commas in it as input, and return a number as output."
   ]
  },
  {
   "cell_type": "code",
   "execution_count": null,
   "id": "legendary-jaguar",
   "metadata": {},
   "outputs": [],
   "source": [
    "# itterate through characters in string\n",
    "# if character in not a comma add it to the end of the empty string\n",
    "# convert added numbers to float"
   ]
  },
  {
   "cell_type": "code",
   "execution_count": 70,
   "id": "rising-constitutional",
   "metadata": {},
   "outputs": [
    {
     "data": {
      "text/plain": [
       "1000.5"
      ]
     },
     "execution_count": 70,
     "metadata": {},
     "output_type": "execute_result"
    }
   ],
   "source": [
    "string = \"1,0,0,0.5,0,0,0\"\n",
    "\n",
    "number = \"\"\n",
    "\n",
    "for char in string:\n",
    "    \n",
    "    if char not in \",\":\n",
    "        \n",
    "        number += char\n",
    "    \n",
    "float(number) "
   ]
  },
  {
   "cell_type": "code",
   "execution_count": 71,
   "id": "liquid-athens",
   "metadata": {},
   "outputs": [],
   "source": [
    "def handle_commas(string):\n",
    "    \n",
    "    number = \"\"\n",
    "\n",
    "    for char in string:\n",
    "\n",
    "        if char not in \",\":\n",
    "\n",
    "            number += char\n",
    "    \n",
    "    return float(number) "
   ]
  },
  {
   "cell_type": "code",
   "execution_count": 72,
   "id": "ancient-blond",
   "metadata": {},
   "outputs": [
    {
     "data": {
      "text/plain": [
       "2345.5"
      ]
     },
     "execution_count": 72,
     "metadata": {},
     "output_type": "execute_result"
    }
   ],
   "source": [
    "string = \"2,,,,,,,345.5,0,0,0,\"\n",
    "\n",
    "handle_commas(string)"
   ]
  },
  {
   "cell_type": "markdown",
   "id": "minor-battlefield",
   "metadata": {},
   "source": [
    "### 8) Define a function named get_letter_grade. It should accept a number and return the letter grade associated with that number (A-F)."
   ]
  },
  {
   "cell_type": "code",
   "execution_count": null,
   "id": "regional-oliver",
   "metadata": {},
   "outputs": [],
   "source": [
    "# check input grade against cutoff for each letter grade in order of least to greatest\n",
    "# if input grade not higher than cutoff set letter grade to  matching letter\n",
    "# if input grade higher than cut off check next highest grade\n",
    "# if input grade higher than cutoff for \"B\" set letter grade to \"A\"\n",
    "# get letter grade"
   ]
  },
  {
   "cell_type": "code",
   "execution_count": 57,
   "id": "academic-carroll",
   "metadata": {},
   "outputs": [
    {
     "data": {
      "text/plain": [
       "'B'"
      ]
     },
     "execution_count": 57,
     "metadata": {},
     "output_type": "execute_result"
    }
   ],
   "source": [
    "number = 80\n",
    "\n",
    "if number <= 69:\n",
    "    \n",
    "    grade = \"F\"\n",
    "    \n",
    "elif number <= 79:\n",
    "\n",
    "    grade = \"C\"\n",
    "    \n",
    "elif number <= 89:\n",
    "    \n",
    "    grade = \"B\"\n",
    "    \n",
    "else:\n",
    "    \n",
    "    grade = \"A\"\n",
    "    \n",
    "grade"
   ]
  },
  {
   "cell_type": "code",
   "execution_count": 61,
   "id": "aboriginal-nancy",
   "metadata": {},
   "outputs": [],
   "source": [
    "def get_letter_grade(number):\n",
    "    \n",
    "    if number <= 69:\n",
    "    \n",
    "        grade = \"F\"\n",
    "    \n",
    "    elif number <= 79:\n",
    "\n",
    "        grade = \"C\"\n",
    "\n",
    "    elif number <= 89:\n",
    "\n",
    "        grade = \"B\"\n",
    "\n",
    "    else:\n",
    "\n",
    "        grade = \"A\"\n",
    "\n",
    "    return grade"
   ]
  },
  {
   "cell_type": "code",
   "execution_count": 62,
   "id": "inside-turkish",
   "metadata": {},
   "outputs": [
    {
     "data": {
      "text/plain": [
       "'B'"
      ]
     },
     "execution_count": 62,
     "metadata": {},
     "output_type": "execute_result"
    }
   ],
   "source": [
    "number = 89\n",
    "\n",
    "get_letter_grade(number)"
   ]
  },
  {
   "cell_type": "markdown",
   "id": "placed-principle",
   "metadata": {},
   "source": [
    "### 9) Define a function named remove_vowels that accepts a string and returns a string with all the vowels removed."
   ]
  },
  {
   "cell_type": "code",
   "execution_count": null,
   "id": "continuous-factory",
   "metadata": {},
   "outputs": [],
   "source": [
    "# take in a string \n",
    "# itterate through the string\n",
    "# check if char in string is a vowel\n",
    "# if char is not a vowel, append char to empty string\n",
    "# get the value of the empty string"
   ]
  },
  {
   "cell_type": "code",
   "execution_count": 64,
   "id": "industrial-neutral",
   "metadata": {},
   "outputs": [
    {
     "data": {
      "text/plain": [
       "'Yb-db-d'"
      ]
     },
     "execution_count": 64,
     "metadata": {},
     "output_type": "execute_result"
    }
   ],
   "source": [
    "string = \"Yaba-daba-doo\"\n",
    "no_vowels = \"\"\n",
    "\n",
    "for char in string:\n",
    "\n",
    "    if char.lower() not in \"aeiou\":\n",
    "\n",
    "        no_vowels += char\n",
    "\n",
    "no_vowels"
   ]
  },
  {
   "cell_type": "code",
   "execution_count": 75,
   "id": "cosmetic-brave",
   "metadata": {},
   "outputs": [],
   "source": [
    "def remove_vowels(string):\n",
    "    \n",
    "    no_vowels = \"\"\n",
    "\n",
    "    for char in string:\n",
    "\n",
    "        if char.lower() not in \"aeiou\":\n",
    "\n",
    "            no_vowels += char\n",
    "\n",
    "    return no_vowels"
   ]
  },
  {
   "cell_type": "code",
   "execution_count": 77,
   "id": "worthy-distance",
   "metadata": {},
   "outputs": [
    {
     "data": {
      "text/plain": [
       "'Ths strng hs n vwls n t'"
      ]
     },
     "execution_count": 77,
     "metadata": {},
     "output_type": "execute_result"
    }
   ],
   "source": [
    "string = \"This string has no vowels in it\"\n",
    "\n",
    "remove_vowels(string)"
   ]
  },
  {
   "cell_type": "markdown",
   "id": "pressed-pound",
   "metadata": {},
   "source": [
    "### 10) Define a function named normalize_name. It should accept a string and return a valid python identifier\n",
    "\n",
    "* anything that is not a valid python identifier should be removed \n",
    "<br>\n",
    "\n",
    "* valid python identifiers: any combination of letters, numbers, and underscores not beginning with a number \n",
    "<br>\n",
    "\n",
    "* leading and trailing whitespace should be removed\n",
    "* everything should be lowercase\n",
    "* spaces should be replaced with underscores"
   ]
  },
  {
   "cell_type": "code",
   "execution_count": 78,
   "id": "victorian-clock",
   "metadata": {},
   "outputs": [],
   "source": [
    "# Remove leading numbers\n",
    "\n",
    "# Remove leading and trailing white spaces \n",
    "\n",
    "# Remove non-number, non_letter characters\n",
    "\n",
    "# lowercase all letter characters\n"
   ]
  },
  {
   "cell_type": "code",
   "execution_count": 81,
   "id": "lovely-input",
   "metadata": {},
   "outputs": [
    {
     "data": {
      "text/plain": [
       "'1 2 3  This is a valid python identifier 33 5 3 '"
      ]
     },
     "execution_count": 81,
     "metadata": {},
     "output_type": "execute_result"
    }
   ],
   "source": [
    "# Remove non-number, non_letter characters\n",
    "\n",
    "name = \"1 2 3 $()&^$( T#%^h#%^i%^s%^ i%^&s %&(*(a v$%&ali#%^d p#%^yth#%^on id#%^%&en$%&ti#$^%%$&^*fi@$%^*(er  #^#^#@\"\n",
    "\n",
    "cleaned = \"\"\n",
    "\n",
    "for char in name:\n",
    "    \n",
    "    if (char.isalnum() == True) or (char == \" \"):\n",
    "        \n",
    "        cleaned += char\n",
    "        \n",
    "cleaned"
   ]
  },
  {
   "cell_type": "code",
   "execution_count": 82,
   "id": "wanted-latex",
   "metadata": {},
   "outputs": [],
   "source": [
    "def remove_symbols(name):\n",
    "    \n",
    "    cleaned = \"\"\n",
    "\n",
    "    for char in name:\n",
    "\n",
    "        if (char.isalnum() == True) or (char == \" \"):\n",
    "\n",
    "            cleaned += char\n",
    "        \n",
    "    return cleaned"
   ]
  },
  {
   "cell_type": "code",
   "execution_count": 94,
   "id": "agricultural-fetish",
   "metadata": {},
   "outputs": [
    {
     "data": {
      "text/plain": [
       "'1 2 3  THis iS a vAlId pYThon idenTIFier  '"
      ]
     },
     "execution_count": 94,
     "metadata": {},
     "output_type": "execute_result"
    }
   ],
   "source": [
    "name = \"1 2 3 $()&^$( T#%^H#%^i%^s%^ i%^&S %&(*(a v$%&AlI#%^d p#%^YTh#%^on id#%^%&en$%&TI#$^%%$&^*Fi@$%^*(er  #^#^#@\"\n",
    "\n",
    "name = remove_symbols(name)\n",
    "\n",
    "name"
   ]
  },
  {
   "cell_type": "code",
   "execution_count": 91,
   "id": "guilty-heading",
   "metadata": {},
   "outputs": [
    {
     "data": {
      "text/plain": [
       "'THis iS a vAlId pYThon idenTIFier'"
      ]
     },
     "execution_count": 91,
     "metadata": {},
     "output_type": "execute_result"
    }
   ],
   "source": [
    "# get rid of leading numbers and white space and trailing white space\n",
    "\n",
    "while name[0].isalpha() == False:\n",
    "    \n",
    "    name = name[1:]\n",
    "\n",
    "name.strip()"
   ]
  },
  {
   "cell_type": "code",
   "execution_count": 92,
   "id": "lyric-airplane",
   "metadata": {},
   "outputs": [],
   "source": [
    "def front_and_back(name):\n",
    "    \n",
    "    while name[0].isalpha() == False:\n",
    "    \n",
    "        name = name[1:]\n",
    "\n",
    "    return name.strip()"
   ]
  },
  {
   "cell_type": "code",
   "execution_count": 95,
   "id": "deluxe-determination",
   "metadata": {},
   "outputs": [
    {
     "data": {
      "text/plain": [
       "'THis iS a vAlId pYThon idenTIFier'"
      ]
     },
     "execution_count": 95,
     "metadata": {},
     "output_type": "execute_result"
    }
   ],
   "source": [
    "name = '1 2 3  THis iS a vAlId pYThon idenTIFier  '\n",
    "\n",
    "name = front_and_back(name)\n",
    "\n",
    "name"
   ]
  },
  {
   "cell_type": "code",
   "execution_count": 96,
   "id": "potential-democrat",
   "metadata": {},
   "outputs": [
    {
     "data": {
      "text/plain": [
       "'this_is_a_valid_python_identifier'"
      ]
     },
     "execution_count": 96,
     "metadata": {},
     "output_type": "execute_result"
    }
   ],
   "source": [
    "# swap space for underscore and get lower case\n",
    "\n",
    "name = name.replace(\" \", \"_\")\n",
    "\n",
    "name = name.lower()\n",
    "\n",
    "name"
   ]
  },
  {
   "cell_type": "markdown",
   "id": "trained-sterling",
   "metadata": {},
   "source": [
    "# Bringing it all together"
   ]
  },
  {
   "cell_type": "code",
   "execution_count": 102,
   "id": "equivalent-crown",
   "metadata": {},
   "outputs": [],
   "source": [
    "def remove_symbols(name):\n",
    "    '''\n",
    "    Removes symbols from a string\n",
    "    '''\n",
    "    \n",
    "    cleaned = \"\"\n",
    "\n",
    "    for char in name:\n",
    "\n",
    "        if (char.isalnum() == True) or (char == \" \"):\n",
    "\n",
    "            cleaned += char\n",
    "        \n",
    "    return cleaned"
   ]
  },
  {
   "cell_type": "code",
   "execution_count": 103,
   "id": "bright-basis",
   "metadata": {},
   "outputs": [],
   "source": [
    "def front_and_back(name):\n",
    "    '''\n",
    "    Removes leading numbers and leading and trailing spaces from a string\n",
    "    '''\n",
    "    \n",
    "    while name[0].isalpha() == False:\n",
    "    \n",
    "        name = name[1:]\n",
    "\n",
    "    return name.strip()"
   ]
  },
  {
   "cell_type": "code",
   "execution_count": 107,
   "id": "economic-still",
   "metadata": {},
   "outputs": [
    {
     "data": {
      "text/plain": [
       "'1 2 3  THis iS a vAlId pYThon idenTIFier  '"
      ]
     },
     "execution_count": 107,
     "metadata": {},
     "output_type": "execute_result"
    }
   ],
   "source": [
    "name = \"1 2 3 $()&^$( T#%^H#%^i%^s%^ i%^&S %&(*(a v$%&AlI#%^d p#%^YTh#%^on id#%^%&en$%&TI#$^%%$&^*Fi@$%^*(er  #^#^#@\"\n",
    "\n",
    "name = remove_symbols(name)\n",
    "\n",
    "name"
   ]
  },
  {
   "cell_type": "code",
   "execution_count": 108,
   "id": "furnished-floating",
   "metadata": {},
   "outputs": [
    {
     "data": {
      "text/plain": [
       "'THis iS a vAlId pYThon idenTIFier'"
      ]
     },
     "execution_count": 108,
     "metadata": {},
     "output_type": "execute_result"
    }
   ],
   "source": [
    "name = front_and_back(name)\n",
    "\n",
    "name"
   ]
  },
  {
   "cell_type": "code",
   "execution_count": 109,
   "id": "pursuant-suggestion",
   "metadata": {},
   "outputs": [
    {
     "data": {
      "text/plain": [
       "'this_is_a_valid_python_identifier'"
      ]
     },
     "execution_count": 109,
     "metadata": {},
     "output_type": "execute_result"
    }
   ],
   "source": [
    "name = name.replace(\" \", \"_\")\n",
    "\n",
    "name = name.lower()\n",
    "\n",
    "name"
   ]
  },
  {
   "cell_type": "code",
   "execution_count": 112,
   "id": "changing-glasgow",
   "metadata": {},
   "outputs": [],
   "source": [
    "def normalize_name(name):\n",
    "    '''\n",
    "    Converts string to valid python identifier\n",
    "    '''\n",
    "    \n",
    "    name = remove_symbols(name)  # Removes symbols\n",
    "    \n",
    "    name = front_and_back(name)  # Removes leading numbers and leading and trailing white space\n",
    "    \n",
    "    name = name.replace(\" \", \"_\") # replace spaces with underscores\n",
    "\n",
    "    name = name.lower() # lowercase string\n",
    "\n",
    "    return name"
   ]
  },
  {
   "cell_type": "code",
   "execution_count": 113,
   "id": "fourth-intermediate",
   "metadata": {},
   "outputs": [
    {
     "data": {
      "text/plain": [
       "'this_is_a_valid_python_identifier'"
      ]
     },
     "execution_count": 113,
     "metadata": {},
     "output_type": "execute_result"
    }
   ],
   "source": [
    "name = \"1 2 3 $()&^$( T#%^H#%^i%^s%^ i%^&S %&(*(a v$%&AlI#%^d p#%^YTh#%^on id#%^%&en$%&TI#$^%%$&^*Fi@$%^*(er  #^#^#@\"\n",
    "\n",
    "normalize_name(name)"
   ]
  }
 ],
 "metadata": {
  "kernelspec": {
   "display_name": "Python 3",
   "language": "python",
   "name": "python3"
  },
  "language_info": {
   "codemirror_mode": {
    "name": "ipython",
    "version": 3
   },
   "file_extension": ".py",
   "mimetype": "text/x-python",
   "name": "python",
   "nbconvert_exporter": "python",
   "pygments_lexer": "ipython3",
   "version": "3.7.4"
  }
 },
 "nbformat": 4,
 "nbformat_minor": 5
}
