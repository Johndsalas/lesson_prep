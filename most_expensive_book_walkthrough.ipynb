{
 "cells": [
  {
   "cell_type": "markdown",
   "id": "widespread-kingdom",
   "metadata": {},
   "source": [
    "**Write a function called highest_price_book that takes in the above defined list of dictionaries \"books\" and returns \n",
    "the dictionary containing the title, price, and author of the book with the highest priced book**"
   ]
  },
  {
   "cell_type": "code",
   "execution_count": 3,
   "id": "provincial-memorabilia",
   "metadata": {},
   "outputs": [],
   "source": [
    "# this is a list of dictionaries\n",
    "books = [\n",
    "            {\n",
    "                \"title\": \"Genetic Algorithms and Machine Learning for Programmers\",\n",
    "                \"price\": 36.99,\n",
    "                \"author\": \"Frances Buontempo\"\n",
    "            },\n",
    "            {\n",
    "                \"title\": \"The Visual Display of Quantitative Information\",\n",
    "                \"price\": 38.00,\n",
    "                \"author\": \"Edward Tufte\"\n",
    "            },\n",
    "            {\n",
    "                \"title\": \"Practical Object-Oriented Design\",\n",
    "                \"author\": \"Sandi Metz\",\n",
    "                \"price\": 30.47\n",
    "            },\n",
    "            {\n",
    "                \"title\": \"Weapons of Math Destruction\",\n",
    "                \"author\": \"Cathy O'Neil\",\n",
    "                \"price\": 17.44\n",
    "            }\n",
    "     ]  "
   ]
  },
  {
   "cell_type": "code",
   "execution_count": 5,
   "id": "domestic-outreach",
   "metadata": {},
   "outputs": [
    {
     "name": "stdout",
     "output_type": "stream",
     "text": [
      "{'title': 'Genetic Algorithms and Machine Learning for Programmers', 'price': 36.99, 'author': 'Frances Buontempo'}\n",
      "{'title': 'The Visual Display of Quantitative Information', 'price': 38.0, 'author': 'Edward Tufte'}\n",
      "{'title': 'Practical Object-Oriented Design', 'author': 'Sandi Metz', 'price': 30.47}\n",
      "{'title': 'Weapons of Math Destruction', 'author': \"Cathy O'Neil\", 'price': 17.44}\n"
     ]
    }
   ],
   "source": [
    "# You can itterate through a list of dictionaries using a for loop\n",
    "for book in books:\n",
    "    \n",
    "    print(book)"
   ]
  },
  {
   "cell_type": "code",
   "execution_count": 6,
   "id": "jewish-slovak",
   "metadata": {},
   "outputs": [
    {
     "name": "stdout",
     "output_type": "stream",
     "text": [
      "36.99\n",
      "38.0\n",
      "30.47\n",
      "17.44\n"
     ]
    }
   ],
   "source": [
    "# you can slice into each dictionary using the syntax dictianary_name[\"key_name\"] \n",
    "# to get the value of the key in each dictionary\n",
    "# this code will get the value for price of each dictionary in books\n",
    "for book in books:\n",
    "    \n",
    "    print(book[\"price\"])"
   ]
  },
  {
   "cell_type": "code",
   "execution_count": 7,
   "id": "productive-funeral",
   "metadata": {},
   "outputs": [
    {
     "data": {
      "text/plain": [
       "{'title': 'The Visual Display of Quantitative Information',\n",
       " 'price': 38.0,\n",
       " 'author': 'Edward Tufte'}"
      ]
     },
     "execution_count": 7,
     "metadata": {},
     "output_type": "execute_result"
    }
   ],
   "source": [
    "#create a variable set to 0 to eventually hold the current highist price \n",
    "current_high_price = 0\n",
    "\n",
    "#create an empty dictionary to hold the current highist dictionary\n",
    "current_high_dictionary = {}\n",
    "\n",
    "#cycle through each dictionary in the list of dictionaries\n",
    "for book in books:\n",
    "    \n",
    "    #if the price of the current book in the cycle is greater than the current high price\n",
    "    if book[\"price\"] > current_high_price:\n",
    "        \n",
    "        # set the current high price equal to the price of the current book in the cycle\n",
    "        current_high_price = book[\"price\"]\n",
    "        \n",
    "        # set the current high dictionary equal to the current dictionary in the cycle\n",
    "        current_high_dictionary = book\n",
    "        \n",
    "    # if it is not do nothing \n",
    "    else:\n",
    "        \n",
    "        pass\n",
    "\n",
    "# once the loop finishes it will cave compared the prices of all of the books \n",
    "# and stored the dictionary containing the highist price in current high dictionary\n",
    "current_high_dictionary"
   ]
  },
  {
   "cell_type": "code",
   "execution_count": 10,
   "id": "representative-crowd",
   "metadata": {},
   "outputs": [],
   "source": [
    "#This can be converted into a function by defining a function that takes in the variable books\n",
    "#indenting each line to show that they are inside the function\n",
    "#and returning current high dictionary at the end\n",
    "\n",
    "def highest_price_book(books):\n",
    "    \n",
    "    #create a variable set to 0 to eventually hold the current highist price \n",
    "    current_high_price = 0\n",
    "\n",
    "    #create an empty dictionary to hold the current highist dictionary\n",
    "    current_high_dictionary = {}\n",
    "\n",
    "    #cycle through each dictionary in the list of dictionaries\n",
    "    for book in books:\n",
    "\n",
    "        #if the price of the current book in the cycle is greater than the current high price\n",
    "        if book[\"price\"] > current_high_price:\n",
    "\n",
    "            # set the current high price equal to the price of the current book in the cycle\n",
    "            current_high_price = book[\"price\"]\n",
    "\n",
    "            # set the current high dictionary equal to the current dictionary in the cycle\n",
    "            current_high_dictionary = book\n",
    "\n",
    "        # if it is not do nothing \n",
    "        else:\n",
    "\n",
    "            pass\n",
    "\n",
    "    # once the loop finishes it will cave compared the prices of all of the books \n",
    "    # and stored the dictionary containing the highist price in current high dictionary\n",
    "    return current_high_dictionary"
   ]
  },
  {
   "cell_type": "code",
   "execution_count": 11,
   "id": "limiting-petroleum",
   "metadata": {
    "scrolled": true
   },
   "outputs": [
    {
     "data": {
      "text/plain": [
       "{'title': 'The Visual Display of Quantitative Information',\n",
       " 'price': 38.0,\n",
       " 'author': 'Edward Tufte'}"
      ]
     },
     "execution_count": 11,
     "metadata": {},
     "output_type": "execute_result"
    }
   ],
   "source": [
    "#here is a call to the function\n",
    "highest_price_book(books)"
   ]
  }
 ],
 "metadata": {
  "kernelspec": {
   "display_name": "Python 3",
   "language": "python",
   "name": "python3"
  },
  "language_info": {
   "codemirror_mode": {
    "name": "ipython",
    "version": 3
   },
   "file_extension": ".py",
   "mimetype": "text/x-python",
   "name": "python",
   "nbconvert_exporter": "python",
   "pygments_lexer": "ipython3",
   "version": "3.7.4"
  }
 },
 "nbformat": 4,
 "nbformat_minor": 5
}
