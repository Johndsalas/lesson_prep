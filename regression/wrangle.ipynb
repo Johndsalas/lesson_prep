{
 "cells": [
  {
   "cell_type": "markdown",
   "id": "reduced-piano",
   "metadata": {},
   "source": [
    "# Imports"
   ]
  },
  {
   "cell_type": "code",
   "execution_count": 1,
   "id": "medieval-bradley",
   "metadata": {},
   "outputs": [],
   "source": [
    "import pandas as pd \n",
    "import numpy as np\n",
    "\n",
    "import matplotlib.pyplot as plt\n",
    "\n",
    "from env import host, user, password\n",
    "from wrangle import get_data_from_mysql, wrangle_telco"
   ]
  },
  {
   "cell_type": "markdown",
   "id": "federal-breakfast",
   "metadata": {},
   "source": [
    "## Acquire customer_id, monthly_charges, tenure, and total_charges from the telco_churn database for all customers with a 2-year contract."
   ]
  },
  {
   "cell_type": "code",
   "execution_count": 2,
   "id": "alpine-pantyhose",
   "metadata": {},
   "outputs": [
    {
     "data": {
      "text/html": [
       "<div>\n",
       "<style scoped>\n",
       "    .dataframe tbody tr th:only-of-type {\n",
       "        vertical-align: middle;\n",
       "    }\n",
       "\n",
       "    .dataframe tbody tr th {\n",
       "        vertical-align: top;\n",
       "    }\n",
       "\n",
       "    .dataframe thead th {\n",
       "        text-align: right;\n",
       "    }\n",
       "</style>\n",
       "<table border=\"1\" class=\"dataframe\">\n",
       "  <thead>\n",
       "    <tr style=\"text-align: right;\">\n",
       "      <th></th>\n",
       "      <th>customer_id</th>\n",
       "      <th>monthly_charges</th>\n",
       "      <th>tenure</th>\n",
       "      <th>total_charges</th>\n",
       "    </tr>\n",
       "  </thead>\n",
       "  <tbody>\n",
       "    <tr>\n",
       "      <th>0</th>\n",
       "      <td>0013-SMEOE</td>\n",
       "      <td>109.70</td>\n",
       "      <td>71</td>\n",
       "      <td>7904.25</td>\n",
       "    </tr>\n",
       "    <tr>\n",
       "      <th>1</th>\n",
       "      <td>0014-BMAQU</td>\n",
       "      <td>84.65</td>\n",
       "      <td>63</td>\n",
       "      <td>5377.8</td>\n",
       "    </tr>\n",
       "    <tr>\n",
       "      <th>2</th>\n",
       "      <td>0016-QLJIS</td>\n",
       "      <td>90.45</td>\n",
       "      <td>65</td>\n",
       "      <td>5957.9</td>\n",
       "    </tr>\n",
       "    <tr>\n",
       "      <th>3</th>\n",
       "      <td>0017-DINOC</td>\n",
       "      <td>45.20</td>\n",
       "      <td>54</td>\n",
       "      <td>2460.55</td>\n",
       "    </tr>\n",
       "    <tr>\n",
       "      <th>4</th>\n",
       "      <td>0017-IUDMW</td>\n",
       "      <td>116.80</td>\n",
       "      <td>72</td>\n",
       "      <td>8456.75</td>\n",
       "    </tr>\n",
       "  </tbody>\n",
       "</table>\n",
       "</div>"
      ],
      "text/plain": [
       "  customer_id  monthly_charges  tenure total_charges\n",
       "0  0013-SMEOE           109.70      71       7904.25\n",
       "1  0014-BMAQU            84.65      63        5377.8\n",
       "2  0016-QLJIS            90.45      65        5957.9\n",
       "3  0017-DINOC            45.20      54       2460.55\n",
       "4  0017-IUDMW           116.80      72       8456.75"
      ]
     },
     "execution_count": 2,
     "metadata": {},
     "output_type": "execute_result"
    }
   ],
   "source": [
    "query = \"\"\" \n",
    "\n",
    "        SELECT customer_id, monthly_charges, tenure, total_charges \n",
    "        FROM  customers \n",
    "            \n",
    "        JOIN contract_types USING(contract_type_id)\n",
    "        WHERE contract_type = 'Two Year'\n",
    "            \n",
    "        \"\"\" \n",
    "\n",
    "df = get_data_from_mysql(query, 'telco_churn')\n",
    "\n",
    "df.head()"
   ]
  },
  {
   "cell_type": "markdown",
   "id": "diagnostic-trustee",
   "metadata": {},
   "source": [
    "## Using your acquired Telco data, walk through the summarization and cleaning steps in your wrangle.ipynb file like we did above. You may handle the missing values however you feel is appropriate and meaningful; remember to document your process and decisions using markdown and code commenting where helpful."
   ]
  },
  {
   "cell_type": "markdown",
   "id": "innovative-differential",
   "metadata": {},
   "source": [
    "## Get size of the data"
   ]
  },
  {
   "cell_type": "code",
   "execution_count": 3,
   "id": "every-singles",
   "metadata": {},
   "outputs": [
    {
     "data": {
      "text/plain": [
       "(1695, 4)"
      ]
     },
     "execution_count": 3,
     "metadata": {},
     "output_type": "execute_result"
    }
   ],
   "source": [
    "df.shape"
   ]
  },
  {
   "cell_type": "markdown",
   "id": "pressed-footage",
   "metadata": {},
   "source": [
    "## Check that data types are appropriate"
   ]
  },
  {
   "cell_type": "code",
   "execution_count": 4,
   "id": "widespread-ecuador",
   "metadata": {},
   "outputs": [
    {
     "name": "stdout",
     "output_type": "stream",
     "text": [
      "<class 'pandas.core.frame.DataFrame'>\n",
      "RangeIndex: 1695 entries, 0 to 1694\n",
      "Data columns (total 4 columns):\n",
      " #   Column           Non-Null Count  Dtype  \n",
      "---  ------           --------------  -----  \n",
      " 0   customer_id      1695 non-null   object \n",
      " 1   monthly_charges  1695 non-null   float64\n",
      " 2   tenure           1695 non-null   int64  \n",
      " 3   total_charges    1695 non-null   object \n",
      "dtypes: float64(1), int64(1), object(2)\n",
      "memory usage: 53.1+ KB\n"
     ]
    }
   ],
   "source": [
    "df.info()"
   ]
  },
  {
   "cell_type": "markdown",
   "id": "coastal-canon",
   "metadata": {},
   "source": [
    "* total_charges should be recast from object to float\n",
    "* I wonder why pandas thinks its a object?\n",
    "* Check for nulls\n",
    "* Check for wierd values in total_charges"
   ]
  },
  {
   "cell_type": "code",
   "execution_count": 5,
   "id": "acceptable-minute",
   "metadata": {},
   "outputs": [
    {
     "data": {
      "text/plain": [
       "customer_id        0\n",
       "monthly_charges    0\n",
       "tenure             0\n",
       "total_charges      0\n",
       "dtype: int64"
      ]
     },
     "execution_count": 5,
     "metadata": {},
     "output_type": "execute_result"
    }
   ],
   "source": [
    "df.isnull().sum()"
   ]
  },
  {
   "cell_type": "markdown",
   "id": "interesting-services",
   "metadata": {},
   "source": [
    "No nulls"
   ]
  },
  {
   "cell_type": "code",
   "execution_count": 6,
   "id": "accurate-ceiling",
   "metadata": {},
   "outputs": [
    {
     "data": {
      "text/plain": [
       "           10\n",
       "844.45      2\n",
       "343.45      2\n",
       "5714.2      2\n",
       "1161.75     2\n",
       "           ..\n",
       "1436.95     1\n",
       "1411.2      1\n",
       "2879.9      1\n",
       "263.65      1\n",
       "8477.7      1\n",
       "Name: total_charges, Length: 1678, dtype: int64"
      ]
     },
     "execution_count": 6,
     "metadata": {},
     "output_type": "execute_result"
    }
   ],
   "source": [
    "df.total_charges.value_counts()"
   ]
  },
  {
   "cell_type": "markdown",
   "id": "alert-platinum",
   "metadata": {},
   "source": [
    "Ten of the cells contain only spaces"
   ]
  },
  {
   "cell_type": "markdown",
   "id": "terminal-irrigation",
   "metadata": {},
   "source": [
    "Because only a few would be lost I am going to drop the rows containing these values"
   ]
  },
  {
   "cell_type": "markdown",
   "id": "built-christianity",
   "metadata": {},
   "source": [
    "## Dropping rows with cells containing only spaces"
   ]
  },
  {
   "cell_type": "code",
   "execution_count": 7,
   "id": "humanitarian-christopher",
   "metadata": {},
   "outputs": [],
   "source": [
    "# replace space with nan\n",
    "df.replace(' ', np.nan, inplace=True)\n",
    "\n",
    "# drop rows containing nans in total_charges\n",
    "df.dropna(subset= ['total_charges'], inplace=True)"
   ]
  },
  {
   "cell_type": "code",
   "execution_count": 8,
   "id": "literary-segment",
   "metadata": {},
   "outputs": [
    {
     "data": {
      "text/plain": [
       "(1685, 4)"
      ]
     },
     "execution_count": 8,
     "metadata": {},
     "output_type": "execute_result"
    }
   ],
   "source": [
    "# checking shape to insure the correct number of lines are removed\n",
    "df.shape"
   ]
  },
  {
   "cell_type": "code",
   "execution_count": 9,
   "id": "brutal-solution",
   "metadata": {},
   "outputs": [
    {
     "data": {
      "text/plain": [
       "customer_id        0\n",
       "monthly_charges    0\n",
       "tenure             0\n",
       "total_charges      0\n",
       "dtype: int64"
      ]
     },
     "execution_count": 9,
     "metadata": {},
     "output_type": "execute_result"
    }
   ],
   "source": [
    "# making sure all the nulls are gone\n",
    "df.isnull().sum()"
   ]
  },
  {
   "cell_type": "markdown",
   "id": "destroyed-photography",
   "metadata": {},
   "source": [
    "## Casting total_charges as float"
   ]
  },
  {
   "cell_type": "code",
   "execution_count": 10,
   "id": "proud-romantic",
   "metadata": {},
   "outputs": [],
   "source": [
    "df.total_charges = df.total_charges.astype(float)"
   ]
  },
  {
   "cell_type": "code",
   "execution_count": 11,
   "id": "antique-frost",
   "metadata": {},
   "outputs": [
    {
     "name": "stdout",
     "output_type": "stream",
     "text": [
      "<class 'pandas.core.frame.DataFrame'>\n",
      "Int64Index: 1685 entries, 0 to 1694\n",
      "Data columns (total 4 columns):\n",
      " #   Column           Non-Null Count  Dtype  \n",
      "---  ------           --------------  -----  \n",
      " 0   customer_id      1685 non-null   object \n",
      " 1   monthly_charges  1685 non-null   float64\n",
      " 2   tenure           1685 non-null   int64  \n",
      " 3   total_charges    1685 non-null   float64\n",
      "dtypes: float64(2), int64(1), object(1)\n",
      "memory usage: 65.8+ KB\n"
     ]
    }
   ],
   "source": [
    "df.info()"
   ]
  },
  {
   "cell_type": "markdown",
   "id": "unlike-operation",
   "metadata": {},
   "source": [
    "## Checking for any other strange values "
   ]
  },
  {
   "cell_type": "code",
   "execution_count": 12,
   "id": "statistical-genetics",
   "metadata": {},
   "outputs": [
    {
     "name": "stdout",
     "output_type": "stream",
     "text": [
      "CUSTOMER_ID\n",
      "7293-LSCDV    1\n",
      "7375-WMVMT    1\n",
      "6265-FRMTQ    1\n",
      "0248-PGHBZ    1\n",
      "3642-BYHDO    1\n",
      "             ..\n",
      "8659-IOOPU    1\n",
      "6323-AYBRX    1\n",
      "3266-FTKHB    1\n",
      "9823-EALYC    1\n",
      "2091-GPPIQ    1\n",
      "Name: customer_id, Length: 1685, dtype: int64\n",
      "~~~~~~~~~~~~~~~~~~~~~~~\n",
      "\n",
      "MONTHLY_CHARGES\n",
      "19.70    21\n",
      "19.85    20\n",
      "20.05    19\n",
      "19.55    18\n",
      "19.75    17\n",
      "         ..\n",
      "39.15     1\n",
      "95.25     1\n",
      "74.85     1\n",
      "29.60     1\n",
      "88.65     1\n",
      "Name: monthly_charges, Length: 817, dtype: int64\n",
      "~~~~~~~~~~~~~~~~~~~~~~~\n",
      "\n",
      "TENURE\n",
      "72    343\n",
      "71    137\n",
      "70     88\n",
      "69     66\n",
      "68     65\n",
      "     ... \n",
      "3       3\n",
      "1       2\n",
      "5       1\n",
      "28      1\n",
      "2       1\n",
      "Name: tenure, Length: 72, dtype: int64\n",
      "~~~~~~~~~~~~~~~~~~~~~~~\n",
      "\n",
      "TOTAL_CHARGES\n",
      "1110.05    2\n",
      "844.45     2\n",
      "7334.05    2\n",
      "5682.25    2\n",
      "5714.20    2\n",
      "          ..\n",
      "7774.05    1\n",
      "1022.60    1\n",
      "4234.15    1\n",
      "1566.90    1\n",
      "6172.00    1\n",
      "Name: total_charges, Length: 1677, dtype: int64\n",
      "~~~~~~~~~~~~~~~~~~~~~~~\n",
      "\n"
     ]
    }
   ],
   "source": [
    "for column in df.columns:\n",
    "    \n",
    "    print(column.upper())\n",
    "    print(df[column].value_counts())\n",
    "    print('~~~~~~~~~~~~~~~~~~~~~~~')\n",
    "    print()"
   ]
  },
  {
   "cell_type": "markdown",
   "id": "cordless-carol",
   "metadata": {},
   "source": [
    "* Data types look good\n",
    "* customer_id contains all unique values and for this reason provides no real information"
   ]
  },
  {
   "cell_type": "markdown",
   "id": "bacterial-lodging",
   "metadata": {},
   "source": [
    "## dropping customer_id column"
   ]
  },
  {
   "cell_type": "code",
   "execution_count": 13,
   "id": "fatty-visibility",
   "metadata": {},
   "outputs": [],
   "source": [
    "df = df.drop(columns=['customer_id'])"
   ]
  },
  {
   "cell_type": "code",
   "execution_count": 14,
   "id": "sublime-dressing",
   "metadata": {},
   "outputs": [
    {
     "data": {
      "text/html": [
       "<div>\n",
       "<style scoped>\n",
       "    .dataframe tbody tr th:only-of-type {\n",
       "        vertical-align: middle;\n",
       "    }\n",
       "\n",
       "    .dataframe tbody tr th {\n",
       "        vertical-align: top;\n",
       "    }\n",
       "\n",
       "    .dataframe thead th {\n",
       "        text-align: right;\n",
       "    }\n",
       "</style>\n",
       "<table border=\"1\" class=\"dataframe\">\n",
       "  <thead>\n",
       "    <tr style=\"text-align: right;\">\n",
       "      <th></th>\n",
       "      <th>monthly_charges</th>\n",
       "      <th>tenure</th>\n",
       "      <th>total_charges</th>\n",
       "    </tr>\n",
       "  </thead>\n",
       "  <tbody>\n",
       "    <tr>\n",
       "      <th>0</th>\n",
       "      <td>109.70</td>\n",
       "      <td>71</td>\n",
       "      <td>7904.25</td>\n",
       "    </tr>\n",
       "    <tr>\n",
       "      <th>1</th>\n",
       "      <td>84.65</td>\n",
       "      <td>63</td>\n",
       "      <td>5377.80</td>\n",
       "    </tr>\n",
       "    <tr>\n",
       "      <th>2</th>\n",
       "      <td>90.45</td>\n",
       "      <td>65</td>\n",
       "      <td>5957.90</td>\n",
       "    </tr>\n",
       "    <tr>\n",
       "      <th>3</th>\n",
       "      <td>45.20</td>\n",
       "      <td>54</td>\n",
       "      <td>2460.55</td>\n",
       "    </tr>\n",
       "    <tr>\n",
       "      <th>4</th>\n",
       "      <td>116.80</td>\n",
       "      <td>72</td>\n",
       "      <td>8456.75</td>\n",
       "    </tr>\n",
       "  </tbody>\n",
       "</table>\n",
       "</div>"
      ],
      "text/plain": [
       "   monthly_charges  tenure  total_charges\n",
       "0           109.70      71        7904.25\n",
       "1            84.65      63        5377.80\n",
       "2            90.45      65        5957.90\n",
       "3            45.20      54        2460.55\n",
       "4           116.80      72        8456.75"
      ]
     },
     "execution_count": 14,
     "metadata": {},
     "output_type": "execute_result"
    }
   ],
   "source": [
    "df.head()"
   ]
  },
  {
   "cell_type": "markdown",
   "id": "surrounded-scotland",
   "metadata": {},
   "source": [
    "## look at summary stats"
   ]
  },
  {
   "cell_type": "code",
   "execution_count": 15,
   "id": "destroyed-testament",
   "metadata": {},
   "outputs": [
    {
     "data": {
      "text/html": [
       "<div>\n",
       "<style scoped>\n",
       "    .dataframe tbody tr th:only-of-type {\n",
       "        vertical-align: middle;\n",
       "    }\n",
       "\n",
       "    .dataframe tbody tr th {\n",
       "        vertical-align: top;\n",
       "    }\n",
       "\n",
       "    .dataframe thead th {\n",
       "        text-align: right;\n",
       "    }\n",
       "</style>\n",
       "<table border=\"1\" class=\"dataframe\">\n",
       "  <thead>\n",
       "    <tr style=\"text-align: right;\">\n",
       "      <th></th>\n",
       "      <th>count</th>\n",
       "      <th>mean</th>\n",
       "      <th>std</th>\n",
       "      <th>min</th>\n",
       "      <th>25%</th>\n",
       "      <th>50%</th>\n",
       "      <th>75%</th>\n",
       "      <th>max</th>\n",
       "    </tr>\n",
       "  </thead>\n",
       "  <tbody>\n",
       "    <tr>\n",
       "      <th>monthly_charges</th>\n",
       "      <td>1685.0</td>\n",
       "      <td>60.872374</td>\n",
       "      <td>34.712210</td>\n",
       "      <td>18.40</td>\n",
       "      <td>24.05</td>\n",
       "      <td>64.45</td>\n",
       "      <td>90.55</td>\n",
       "      <td>118.75</td>\n",
       "    </tr>\n",
       "    <tr>\n",
       "      <th>tenure</th>\n",
       "      <td>1685.0</td>\n",
       "      <td>57.071810</td>\n",
       "      <td>17.729130</td>\n",
       "      <td>1.00</td>\n",
       "      <td>48.00</td>\n",
       "      <td>64.00</td>\n",
       "      <td>71.00</td>\n",
       "      <td>72.00</td>\n",
       "    </tr>\n",
       "    <tr>\n",
       "      <th>total_charges</th>\n",
       "      <td>1685.0</td>\n",
       "      <td>3728.933947</td>\n",
       "      <td>2571.252806</td>\n",
       "      <td>20.35</td>\n",
       "      <td>1278.80</td>\n",
       "      <td>3623.95</td>\n",
       "      <td>5999.85</td>\n",
       "      <td>8672.45</td>\n",
       "    </tr>\n",
       "  </tbody>\n",
       "</table>\n",
       "</div>"
      ],
      "text/plain": [
       "                  count         mean          std    min      25%      50%  \\\n",
       "monthly_charges  1685.0    60.872374    34.712210  18.40    24.05    64.45   \n",
       "tenure           1685.0    57.071810    17.729130   1.00    48.00    64.00   \n",
       "total_charges    1685.0  3728.933947  2571.252806  20.35  1278.80  3623.95   \n",
       "\n",
       "                     75%      max  \n",
       "monthly_charges    90.55   118.75  \n",
       "tenure             71.00    72.00  \n",
       "total_charges    5999.85  8672.45  "
      ]
     },
     "execution_count": 15,
     "metadata": {},
     "output_type": "execute_result"
    }
   ],
   "source": [
    "df.describe().T"
   ]
  },
  {
   "cell_type": "markdown",
   "id": "billion-prevention",
   "metadata": {},
   "source": [
    "## look at distribution of variables"
   ]
  },
  {
   "cell_type": "code",
   "execution_count": 16,
   "id": "serial-demand",
   "metadata": {},
   "outputs": [
    {
     "data": {
      "image/png": "[encoded data removed]",
      "text/plain": [
       "<Figure size 432x288 with 1 Axes>"
      ]
     },
     "metadata": {
      "needs_background": "light"
     },
     "output_type": "display_data"
    },
    {
     "data": {
      "image/png": "[encoded data removed]",
      "text/plain": [
       "<Figure size 432x288 with 1 Axes>"
      ]
     },
     "metadata": {
      "needs_background": "light"
     },
     "output_type": "display_data"
    },
    {
     "data": {
      "image/png": "[encoded data removed]",
      "text/plain": [
       "<Figure size 432x288 with 1 Axes>"
      ]
     },
     "metadata": {
      "needs_background": "light"
     },
     "output_type": "display_data"
    }
   ],
   "source": [
    "for col in df.columns:\n",
    "    \n",
    "    df[col].hist()\n",
    "    plt.title(f'{col.upper()} Distribution')\n",
    "    plt.show()\n",
    "\n"
   ]
  },
  {
   "cell_type": "markdown",
   "id": "mechanical-advisory",
   "metadata": {},
   "source": [
    "* distributions are not normal\n",
    "* mode mothly payment for two-year customers is 20-30 dollors\n",
    "* mode tenure for two_year customers is +65 years\n",
    "* mode total_charges for two_year customers is between 1500 and 2000 dollors\n",
    "* total_charges for two-year customers range as high as 8500 dollors "
   ]
  },
  {
   "cell_type": "markdown",
   "id": "continental-programmer",
   "metadata": {},
   "source": [
    "## End with a wrangle.py file that contains the necessary functions to automate your process from acquiring the data to returning a cleaned dataframe with no missing values. Name your final function wrangle_telco."
   ]
  },
  {
   "cell_type": "code",
   "execution_count": 18,
   "id": "vietnamese-brazilian",
   "metadata": {},
   "outputs": [],
   "source": [
    "# inside py file \n",
    "\n",
    "from env import host, user, password\n",
    "import pandas as pd\n",
    "import numpy as np\n",
    "\n",
    "\n",
    "#***************************Get Data From SQL******************************\n",
    "def get_data_from_mysql(query, database):\n",
    "\n",
    "    # create url string from user info and desired database\n",
    "    url = f'mysql+pymysql://{user}:{password}@{host}/{database}'\n",
    "\n",
    "    # return SQL query using read_sql\n",
    "    return pd.read_sql(query, url)\n",
    "\n",
    "#****************************Wrangle Telco Data*****************************\n",
    "\n",
    "def wrangle_telco():\n",
    "\n",
    "    query = \"\"\" \n",
    "\n",
    "        SELECT customer_id, monthly_charges, tenure, total_charges \n",
    "        FROM  customers \n",
    "            \n",
    "        JOIN contract_types USING(contract_type_id)\n",
    "        WHERE contract_type = 'Two Year'\n",
    "            \n",
    "        \"\"\" \n",
    "\n",
    "    # get query results by utilizing get_data_from_mysql function\n",
    "    df = get_data_from_mysql(query, 'telco_churn')\n",
    "\n",
    "    # replace space with nan\n",
    "    df.replace(' ', np.nan, inplace=True)\n",
    "\n",
    "    # drop rows containing nans in total_charges\n",
    "    df.dropna(subset= ['total_charges'], inplace=True)\n",
    "\n",
    "    # recast total charges as float\n",
    "    df.total_charges = df.total_charges.astype(float)\n",
    "\n",
    "    # drop customer_id\n",
    "    df = df.drop(columns=['customer_id'])\n",
    "\n",
    "    return df"
   ]
  },
  {
   "cell_type": "code",
   "execution_count": 19,
   "id": "verbal-printer",
   "metadata": {},
   "outputs": [
    {
     "data": {
      "text/html": [
       "<div>\n",
       "<style scoped>\n",
       "    .dataframe tbody tr th:only-of-type {\n",
       "        vertical-align: middle;\n",
       "    }\n",
       "\n",
       "    .dataframe tbody tr th {\n",
       "        vertical-align: top;\n",
       "    }\n",
       "\n",
       "    .dataframe thead th {\n",
       "        text-align: right;\n",
       "    }\n",
       "</style>\n",
       "<table border=\"1\" class=\"dataframe\">\n",
       "  <thead>\n",
       "    <tr style=\"text-align: right;\">\n",
       "      <th></th>\n",
       "      <th>monthly_charges</th>\n",
       "      <th>tenure</th>\n",
       "      <th>total_charges</th>\n",
       "    </tr>\n",
       "  </thead>\n",
       "  <tbody>\n",
       "    <tr>\n",
       "      <th>0</th>\n",
       "      <td>109.70</td>\n",
       "      <td>71</td>\n",
       "      <td>7904.25</td>\n",
       "    </tr>\n",
       "    <tr>\n",
       "      <th>1</th>\n",
       "      <td>84.65</td>\n",
       "      <td>63</td>\n",
       "      <td>5377.80</td>\n",
       "    </tr>\n",
       "    <tr>\n",
       "      <th>2</th>\n",
       "      <td>90.45</td>\n",
       "      <td>65</td>\n",
       "      <td>5957.90</td>\n",
       "    </tr>\n",
       "    <tr>\n",
       "      <th>3</th>\n",
       "      <td>45.20</td>\n",
       "      <td>54</td>\n",
       "      <td>2460.55</td>\n",
       "    </tr>\n",
       "    <tr>\n",
       "      <th>4</th>\n",
       "      <td>116.80</td>\n",
       "      <td>72</td>\n",
       "      <td>8456.75</td>\n",
       "    </tr>\n",
       "  </tbody>\n",
       "</table>\n",
       "</div>"
      ],
      "text/plain": [
       "   monthly_charges  tenure  total_charges\n",
       "0           109.70      71        7904.25\n",
       "1            84.65      63        5377.80\n",
       "2            90.45      65        5957.90\n",
       "3            45.20      54        2460.55\n",
       "4           116.80      72        8456.75"
      ]
     },
     "execution_count": 19,
     "metadata": {},
     "output_type": "execute_result"
    }
   ],
   "source": [
    "df = wrangle_telco()\n",
    "df.head()"
   ]
  }
 ],
 "metadata": {
  "kernelspec": {
   "display_name": "Python 3",
   "language": "python",
   "name": "python3"
  },
  "language_info": {
   "codemirror_mode": {
    "name": "ipython",
    "version": 3
   },
   "file_extension": ".py",
   "mimetype": "text/x-python",
   "name": "python",
   "nbconvert_exporter": "python",
   "pygments_lexer": "ipython3",
   "version": "3.7.4"
  }
 },
 "nbformat": 4,
 "nbformat_minor": 5
}
