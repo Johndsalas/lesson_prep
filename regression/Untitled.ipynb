{
 "cells": [
  {
   "cell_type": "code",
   "execution_count": 5,
   "id": "destroyed-roberts",
   "metadata": {},
   "outputs": [
    {
     "data": {
      "text/plain": [
       "2"
      ]
     },
     "execution_count": 5,
     "metadata": {},
     "output_type": "execute_result"
    }
   ],
   "source": [
    "s = \"nEwwOrd\"\n",
    "\n",
    "count = 0\n",
    "\n",
    "for char in s:\n",
    "    \n",
    "    if char.lower() in ['a','e','i','o','u']:\n",
    "        \n",
    "        count += 1\n",
    "\n",
    "count"
   ]
  },
  {
   "cell_type": "code",
   "execution_count": 6,
   "id": "catholic-telescope",
   "metadata": {},
   "outputs": [],
   "source": [
    "def count_vow(s):\n",
    "    \n",
    "    count = 0\n",
    "\n",
    "    for char in s:\n",
    "\n",
    "        if char.lower() in ['a','e','i','o','u']:\n",
    "\n",
    "            count += 1\n",
    "\n",
    "    return count"
   ]
  },
  {
   "cell_type": "code",
   "execution_count": 7,
   "id": "single-router",
   "metadata": {},
   "outputs": [
    {
     "data": {
      "text/plain": [
       "4"
      ]
     },
     "execution_count": 7,
     "metadata": {},
     "output_type": "execute_result"
    }
   ],
   "source": [
    "count_vow(\"anystringwewant\")"
   ]
  },
  {
   "cell_type": "code",
   "execution_count": null,
   "id": "enormous-plastic",
   "metadata": {},
   "outputs": [],
   "source": []
  }
 ],
 "metadata": {
  "kernelspec": {
   "display_name": "Python 3",
   "language": "python",
   "name": "python3"
  },
  "language_info": {
   "codemirror_mode": {
    "name": "ipython",
    "version": 3
   },
   "file_extension": ".py",
   "mimetype": "text/x-python",
   "name": "python",
   "nbconvert_exporter": "python",
   "pygments_lexer": "ipython3",
   "version": "3.7.4"
  }
 },
 "nbformat": 4,
 "nbformat_minor": 5
}
