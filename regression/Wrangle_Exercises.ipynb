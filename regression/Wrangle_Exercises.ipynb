{
 "cells": [
  {
   "cell_type": "markdown",
   "id": "sensitive-warrior",
   "metadata": {},
   "source": [
    "## As a Codeup data science graduate, you want to show off your skills to the Zillow data science team in hopes of getting an interview for a position you saw pop up on LinkedIn. You thought it might look impressive to build an end-to-end project in which you use some of their Kaggle data to predict property values using some of their available features; who knows, you might even do some feature engineering to blow them away. Your goal is to predict the values of single unit properties using the obervations from 2017.\n",
    "\n",
    "## In these exercises, you will complete the first step toward the above goal: acquire and prepare the necessary Zillow data from the zillow database in the Codeup database server.\n",
    "\n",
    "## Acquire bedroomcnt, bathroomcnt, calculatedfinishedsquarefeet, taxvaluedollarcnt, yearbuilt, taxamount, and fips from the zillow database for all 'Single Family Residential' properties.\n",
    "\n",
    "## Using your acquired Zillow data, walk through the summarization and cleaning steps in your wrangle.ipynb file like we did above. You may handle the missing values however you feel is appropriate and meaninful; remember to document your process and decisions using markdown and code commenting where helpful.\n",
    "\n",
    "## Store all of the necessary functions to automate your process from acquiring the data to returning a cleaned dataframe witn no missing values in your wrangle.py file. Name your final function wrangle_zillow."
   ]
  },
  {
   "cell_type": "markdown",
   "id": "accessory-presence",
   "metadata": {},
   "source": [
    "# Imports"
   ]
  },
  {
   "cell_type": "code",
   "execution_count": 1,
   "id": "twelve-evolution",
   "metadata": {},
   "outputs": [],
   "source": [
    "import pandas as pd\n",
    "\n",
    "from env import user, password, host\n",
    "\n",
    "import matplotlib.pyplot as plt\n",
    "import seaborn as sns\n",
    "\n",
    "from sklearn.model_selection import train_test_split\n",
    "from sklearn.impute import SimpleImputer\n",
    "\n",
    "import warnings\n",
    "warnings.filterwarnings(\"ignore\")"
   ]
  },
  {
   "cell_type": "markdown",
   "id": "medical-handy",
   "metadata": {},
   "source": [
    "# Acquire"
   ]
  },
  {
   "cell_type": "code",
   "execution_count": 2,
   "id": "yellow-sarah",
   "metadata": {},
   "outputs": [
    {
     "data": {
      "text/html": [
       "<div>\n",
       "<style scoped>\n",
       "    .dataframe tbody tr th:only-of-type {\n",
       "        vertical-align: middle;\n",
       "    }\n",
       "\n",
       "    .dataframe tbody tr th {\n",
       "        vertical-align: top;\n",
       "    }\n",
       "\n",
       "    .dataframe thead th {\n",
       "        text-align: right;\n",
       "    }\n",
       "</style>\n",
       "<table border=\"1\" class=\"dataframe\">\n",
       "  <thead>\n",
       "    <tr style=\"text-align: right;\">\n",
       "      <th></th>\n",
       "      <th>bedroomcnt</th>\n",
       "      <th>bathroomcnt</th>\n",
       "      <th>calculatedfinishedsquarefeet</th>\n",
       "      <th>taxvaluedollarcnt</th>\n",
       "      <th>yearbuilt</th>\n",
       "      <th>taxamount</th>\n",
       "      <th>fips</th>\n",
       "    </tr>\n",
       "  </thead>\n",
       "  <tbody>\n",
       "    <tr>\n",
       "      <th>0</th>\n",
       "      <td>0.0</td>\n",
       "      <td>0.0</td>\n",
       "      <td>NaN</td>\n",
       "      <td>27516.0</td>\n",
       "      <td>NaN</td>\n",
       "      <td>NaN</td>\n",
       "      <td>6037.0</td>\n",
       "    </tr>\n",
       "    <tr>\n",
       "      <th>1</th>\n",
       "      <td>0.0</td>\n",
       "      <td>0.0</td>\n",
       "      <td>NaN</td>\n",
       "      <td>10.0</td>\n",
       "      <td>NaN</td>\n",
       "      <td>NaN</td>\n",
       "      <td>6037.0</td>\n",
       "    </tr>\n",
       "    <tr>\n",
       "      <th>2</th>\n",
       "      <td>0.0</td>\n",
       "      <td>0.0</td>\n",
       "      <td>NaN</td>\n",
       "      <td>10.0</td>\n",
       "      <td>NaN</td>\n",
       "      <td>NaN</td>\n",
       "      <td>6037.0</td>\n",
       "    </tr>\n",
       "    <tr>\n",
       "      <th>3</th>\n",
       "      <td>0.0</td>\n",
       "      <td>0.0</td>\n",
       "      <td>NaN</td>\n",
       "      <td>2108.0</td>\n",
       "      <td>NaN</td>\n",
       "      <td>174.21</td>\n",
       "      <td>6037.0</td>\n",
       "    </tr>\n",
       "    <tr>\n",
       "      <th>4</th>\n",
       "      <td>4.0</td>\n",
       "      <td>2.0</td>\n",
       "      <td>3633.0</td>\n",
       "      <td>296425.0</td>\n",
       "      <td>2005.0</td>\n",
       "      <td>6941.39</td>\n",
       "      <td>6037.0</td>\n",
       "    </tr>\n",
       "    <tr>\n",
       "      <th>...</th>\n",
       "      <td>...</td>\n",
       "      <td>...</td>\n",
       "      <td>...</td>\n",
       "      <td>...</td>\n",
       "      <td>...</td>\n",
       "      <td>...</td>\n",
       "      <td>...</td>\n",
       "    </tr>\n",
       "    <tr>\n",
       "      <th>2152859</th>\n",
       "      <td>4.0</td>\n",
       "      <td>3.0</td>\n",
       "      <td>2262.0</td>\n",
       "      <td>960756.0</td>\n",
       "      <td>2015.0</td>\n",
       "      <td>13494.52</td>\n",
       "      <td>6059.0</td>\n",
       "    </tr>\n",
       "    <tr>\n",
       "      <th>2152860</th>\n",
       "      <td>4.0</td>\n",
       "      <td>4.5</td>\n",
       "      <td>3127.0</td>\n",
       "      <td>536061.0</td>\n",
       "      <td>2014.0</td>\n",
       "      <td>6244.16</td>\n",
       "      <td>6059.0</td>\n",
       "    </tr>\n",
       "    <tr>\n",
       "      <th>2152861</th>\n",
       "      <td>0.0</td>\n",
       "      <td>0.0</td>\n",
       "      <td>NaN</td>\n",
       "      <td>208057.0</td>\n",
       "      <td>NaN</td>\n",
       "      <td>5783.88</td>\n",
       "      <td>6059.0</td>\n",
       "    </tr>\n",
       "    <tr>\n",
       "      <th>2152862</th>\n",
       "      <td>3.0</td>\n",
       "      <td>2.5</td>\n",
       "      <td>1974.0</td>\n",
       "      <td>424353.0</td>\n",
       "      <td>2015.0</td>\n",
       "      <td>5302.70</td>\n",
       "      <td>6059.0</td>\n",
       "    </tr>\n",
       "    <tr>\n",
       "      <th>2152863</th>\n",
       "      <td>4.0</td>\n",
       "      <td>4.0</td>\n",
       "      <td>2110.0</td>\n",
       "      <td>554009.0</td>\n",
       "      <td>2014.0</td>\n",
       "      <td>6761.20</td>\n",
       "      <td>6037.0</td>\n",
       "    </tr>\n",
       "  </tbody>\n",
       "</table>\n",
       "<p>2152864 rows × 7 columns</p>\n",
       "</div>"
      ],
      "text/plain": [
       "         bedroomcnt  bathroomcnt  calculatedfinishedsquarefeet  \\\n",
       "0               0.0          0.0                           NaN   \n",
       "1               0.0          0.0                           NaN   \n",
       "2               0.0          0.0                           NaN   \n",
       "3               0.0          0.0                           NaN   \n",
       "4               4.0          2.0                        3633.0   \n",
       "...             ...          ...                           ...   \n",
       "2152859         4.0          3.0                        2262.0   \n",
       "2152860         4.0          4.5                        3127.0   \n",
       "2152861         0.0          0.0                           NaN   \n",
       "2152862         3.0          2.5                        1974.0   \n",
       "2152863         4.0          4.0                        2110.0   \n",
       "\n",
       "         taxvaluedollarcnt  yearbuilt  taxamount    fips  \n",
       "0                  27516.0        NaN        NaN  6037.0  \n",
       "1                     10.0        NaN        NaN  6037.0  \n",
       "2                     10.0        NaN        NaN  6037.0  \n",
       "3                   2108.0        NaN     174.21  6037.0  \n",
       "4                 296425.0     2005.0    6941.39  6037.0  \n",
       "...                    ...        ...        ...     ...  \n",
       "2152859           960756.0     2015.0   13494.52  6059.0  \n",
       "2152860           536061.0     2014.0    6244.16  6059.0  \n",
       "2152861           208057.0        NaN    5783.88  6059.0  \n",
       "2152862           424353.0     2015.0    5302.70  6059.0  \n",
       "2152863           554009.0     2014.0    6761.20  6037.0  \n",
       "\n",
       "[2152864 rows x 7 columns]"
      ]
     },
     "execution_count": 2,
     "metadata": {},
     "output_type": "execute_result"
    }
   ],
   "source": [
    "url = f\"mysql+pymysql://{user}:{password}@{host}/zillow\"\n",
    "    \n",
    "query = \"\"\"\n",
    "            \n",
    "SELECT bedroomcnt, bathroomcnt, calculatedfinishedsquarefeet, taxvaluedollarcnt, yearbuilt, taxamount, fips\n",
    "FROM properties_2017\n",
    "\n",
    "LEFT JOIN propertylandusetype USING(propertylandusetypeid)\n",
    "\n",
    "WHERE propertylandusedesc IN (\"Single Family Residential\",                       \n",
    "                              \"Inferred Single Family Residential\")\"\"\"\n",
    "    \n",
    "df = pd.read_sql(query, url)\n",
    "df"
   ]
  },
  {
   "cell_type": "markdown",
   "id": "dying-pierce",
   "metadata": {},
   "source": [
    "# Prepare"
   ]
  },
  {
   "cell_type": "markdown",
   "id": "amateur-sentence",
   "metadata": {},
   "source": [
    "## Are there any Null values?"
   ]
  },
  {
   "cell_type": "code",
   "execution_count": 3,
   "id": "designed-hollywood",
   "metadata": {},
   "outputs": [
    {
     "data": {
      "text/plain": [
       "bedroomcnt                        11\n",
       "bathroomcnt                       11\n",
       "calculatedfinishedsquarefeet    8485\n",
       "taxvaluedollarcnt                493\n",
       "yearbuilt                       9338\n",
       "taxamount                       4442\n",
       "fips                               0\n",
       "dtype: int64"
      ]
     },
     "execution_count": 3,
     "metadata": {},
     "output_type": "execute_result"
    }
   ],
   "source": [
    "# get total of null values for each row\n",
    "df.isnull().sum()"
   ]
  },
  {
   "cell_type": "markdown",
   "id": "theoretical-flour",
   "metadata": {},
   "source": [
    "* dropping rows with nulls in bedroomcnt and bathroomcnt because there are very few of them\n",
    "* dropping rows with nulls in taxvaluedollorcnt, training the model to asociate data with a calculated column seems dubious"
   ]
  },
  {
   "cell_type": "code",
   "execution_count": 4,
   "id": "according-surgery",
   "metadata": {},
   "outputs": [],
   "source": [
    "# drop rows that are nulls in bedroomcnt, bathroomcnt, taxvaluedollarcnt\n",
    "df = df.dropna(subset = ['bedroomcnt','bathroomcnt', 'taxvaluedollarcnt'])"
   ]
  },
  {
   "cell_type": "code",
   "execution_count": 5,
   "id": "effective-separation",
   "metadata": {},
   "outputs": [
    {
     "data": {
      "text/plain": [
       "bedroomcnt                         0\n",
       "bathroomcnt                        0\n",
       "calculatedfinishedsquarefeet    8100\n",
       "taxvaluedollarcnt                  0\n",
       "yearbuilt                       8959\n",
       "taxamount                       3971\n",
       "fips                               0\n",
       "dtype: int64"
      ]
     },
     "execution_count": 5,
     "metadata": {},
     "output_type": "execute_result"
    }
   ],
   "source": [
    "df.isnull().sum()"
   ]
  },
  {
   "cell_type": "markdown",
   "id": "statistical-demonstration",
   "metadata": {},
   "source": [
    "* dropping column taxamount because it contains target leak"
   ]
  },
  {
   "cell_type": "code",
   "execution_count": 6,
   "id": "cultural-cancellation",
   "metadata": {},
   "outputs": [],
   "source": [
    "# drop taxamount\n",
    "df = df.drop(columns = 'taxamount')"
   ]
  },
  {
   "cell_type": "code",
   "execution_count": 7,
   "id": "exposed-flavor",
   "metadata": {
    "scrolled": true
   },
   "outputs": [
    {
     "data": {
      "text/plain": [
       "bedroomcnt                         0\n",
       "bathroomcnt                        0\n",
       "calculatedfinishedsquarefeet    8100\n",
       "taxvaluedollarcnt                  0\n",
       "yearbuilt                       8959\n",
       "fips                               0\n",
       "dtype: int64"
      ]
     },
     "execution_count": 7,
     "metadata": {},
     "output_type": "execute_result"
    }
   ],
   "source": [
    "df.isnull().sum()"
   ]
  },
  {
   "cell_type": "code",
   "execution_count": 8,
   "id": "spoken-vatican",
   "metadata": {},
   "outputs": [
    {
     "data": {
      "text/plain": [
       "1955.0    84404\n",
       "1950.0    71686\n",
       "1954.0    69161\n",
       "1953.0    62339\n",
       "1956.0    61938\n",
       "          ...  \n",
       "1879.0        1\n",
       "1877.0        1\n",
       "1855.0        1\n",
       "1874.0        1\n",
       "1823.0        1\n",
       "Name: yearbuilt, Length: 153, dtype: int64"
      ]
     },
     "execution_count": 8,
     "metadata": {},
     "output_type": "execute_result"
    }
   ],
   "source": [
    "# consider imputing year built\n",
    "df.yearbuilt.value_counts()"
   ]
  },
  {
   "cell_type": "markdown",
   "id": "caroline-sheffield",
   "metadata": {},
   "source": [
    "* because the number of rows with missing data in yearbuilt is grater than the number of rows with the most frequent value, imputing the data using any one value would significantly skew the data I will therefore drop the rows containing nulls in this column"
   ]
  },
  {
   "cell_type": "code",
   "execution_count": 9,
   "id": "vertical-yemen",
   "metadata": {},
   "outputs": [
    {
     "data": {
      "text/plain": [
       "bedroomcnt                        0\n",
       "bathroomcnt                       0\n",
       "calculatedfinishedsquarefeet    598\n",
       "taxvaluedollarcnt                 0\n",
       "yearbuilt                         0\n",
       "fips                              0\n",
       "dtype: int64"
      ]
     },
     "execution_count": 9,
     "metadata": {},
     "output_type": "execute_result"
    }
   ],
   "source": [
    "df = df.dropna(subset = ['yearbuilt'])\n",
    "\n",
    "df.isnull().sum()"
   ]
  },
  {
   "cell_type": "code",
   "execution_count": 10,
   "id": "twelve-contamination",
   "metadata": {},
   "outputs": [
    {
     "data": {
      "text/html": [
       "<div>\n",
       "<style scoped>\n",
       "    .dataframe tbody tr th:only-of-type {\n",
       "        vertical-align: middle;\n",
       "    }\n",
       "\n",
       "    .dataframe tbody tr th {\n",
       "        vertical-align: top;\n",
       "    }\n",
       "\n",
       "    .dataframe thead th {\n",
       "        text-align: right;\n",
       "    }\n",
       "</style>\n",
       "<table border=\"1\" class=\"dataframe\">\n",
       "  <thead>\n",
       "    <tr style=\"text-align: right;\">\n",
       "      <th></th>\n",
       "      <th>bedroomcnt</th>\n",
       "      <th>bathroomcnt</th>\n",
       "      <th>calculatedfinishedsquarefeet</th>\n",
       "      <th>taxvaluedollarcnt</th>\n",
       "      <th>yearbuilt</th>\n",
       "      <th>fips</th>\n",
       "    </tr>\n",
       "  </thead>\n",
       "  <tbody>\n",
       "    <tr>\n",
       "      <th>count</th>\n",
       "      <td>2143401</td>\n",
       "      <td>2143401</td>\n",
       "      <td>2142803</td>\n",
       "      <td>2143401</td>\n",
       "      <td>2143401</td>\n",
       "      <td>2143401</td>\n",
       "    </tr>\n",
       "    <tr>\n",
       "      <th>mean</th>\n",
       "      <td>3</td>\n",
       "      <td>2</td>\n",
       "      <td>1863</td>\n",
       "      <td>460662</td>\n",
       "      <td>1961</td>\n",
       "      <td>6048</td>\n",
       "    </tr>\n",
       "    <tr>\n",
       "      <th>std</th>\n",
       "      <td>1</td>\n",
       "      <td>1</td>\n",
       "      <td>1222</td>\n",
       "      <td>678990</td>\n",
       "      <td>22</td>\n",
       "      <td>20</td>\n",
       "    </tr>\n",
       "    <tr>\n",
       "      <th>min</th>\n",
       "      <td>0</td>\n",
       "      <td>0</td>\n",
       "      <td>1</td>\n",
       "      <td>1</td>\n",
       "      <td>1801</td>\n",
       "      <td>6037</td>\n",
       "    </tr>\n",
       "    <tr>\n",
       "      <th>25%</th>\n",
       "      <td>3</td>\n",
       "      <td>2</td>\n",
       "      <td>1257</td>\n",
       "      <td>188822</td>\n",
       "      <td>1949</td>\n",
       "      <td>6037</td>\n",
       "    </tr>\n",
       "    <tr>\n",
       "      <th>50%</th>\n",
       "      <td>3</td>\n",
       "      <td>2</td>\n",
       "      <td>1623</td>\n",
       "      <td>328011</td>\n",
       "      <td>1958</td>\n",
       "      <td>6037</td>\n",
       "    </tr>\n",
       "    <tr>\n",
       "      <th>75%</th>\n",
       "      <td>4</td>\n",
       "      <td>3</td>\n",
       "      <td>2208</td>\n",
       "      <td>534504</td>\n",
       "      <td>1976</td>\n",
       "      <td>6059</td>\n",
       "    </tr>\n",
       "    <tr>\n",
       "      <th>max</th>\n",
       "      <td>25</td>\n",
       "      <td>32</td>\n",
       "      <td>952576</td>\n",
       "      <td>90188462</td>\n",
       "      <td>2016</td>\n",
       "      <td>6111</td>\n",
       "    </tr>\n",
       "  </tbody>\n",
       "</table>\n",
       "</div>"
      ],
      "text/plain": [
       "       bedroomcnt  bathroomcnt  calculatedfinishedsquarefeet  \\\n",
       "count     2143401      2143401                       2142803   \n",
       "mean            3            2                          1863   \n",
       "std             1            1                          1222   \n",
       "min             0            0                             1   \n",
       "25%             3            2                          1257   \n",
       "50%             3            2                          1623   \n",
       "75%             4            3                          2208   \n",
       "max            25           32                        952576   \n",
       "\n",
       "       taxvaluedollarcnt  yearbuilt    fips  \n",
       "count            2143401    2143401 2143401  \n",
       "mean              460662       1961    6048  \n",
       "std               678990         22      20  \n",
       "min                    1       1801    6037  \n",
       "25%               188822       1949    6037  \n",
       "50%               328011       1958    6037  \n",
       "75%               534504       1976    6059  \n",
       "max             90188462       2016    6111  "
      ]
     },
     "execution_count": 10,
     "metadata": {},
     "output_type": "execute_result"
    }
   ],
   "source": [
    "pd.set_option('display.float_format', lambda x: '%.0f' % x)\n",
    "df.describe()"
   ]
  },
  {
   "cell_type": "code",
   "execution_count": 11,
   "id": "excessive-conservative",
   "metadata": {},
   "outputs": [],
   "source": [
    "pd.reset_option('display.float_format')"
   ]
  },
  {
   "cell_type": "markdown",
   "id": "divided-benjamin",
   "metadata": {},
   "source": [
    "* Given the extream outliers, I plan on imputing calculatedfinishedsquarefeet based on the median or mode once the data is split"
   ]
  },
  {
   "cell_type": "markdown",
   "id": "pending-burst",
   "metadata": {},
   "source": [
    "## Are the column data types correct?"
   ]
  },
  {
   "cell_type": "code",
   "execution_count": 12,
   "id": "hollywood-explanation",
   "metadata": {},
   "outputs": [
    {
     "name": "stdout",
     "output_type": "stream",
     "text": [
      "<class 'pandas.core.frame.DataFrame'>\n",
      "Int64Index: 2143401 entries, 4 to 2152863\n",
      "Data columns (total 6 columns):\n",
      " #   Column                        Dtype  \n",
      "---  ------                        -----  \n",
      " 0   bedroomcnt                    float64\n",
      " 1   bathroomcnt                   float64\n",
      " 2   calculatedfinishedsquarefeet  float64\n",
      " 3   taxvaluedollarcnt             float64\n",
      " 4   yearbuilt                     float64\n",
      " 5   fips                          float64\n",
      "dtypes: float64(6)\n",
      "memory usage: 114.5 MB\n"
     ]
    }
   ],
   "source": [
    "df.info()"
   ]
  },
  {
   "cell_type": "code",
   "execution_count": 13,
   "id": "wooden-retreat",
   "metadata": {
    "scrolled": false
   },
   "outputs": [
    {
     "name": "stdout",
     "output_type": "stream",
     "text": [
      "BEDROOMCNT\n",
      "3.0     963850\n",
      "4.0     633983\n",
      "2.0     335086\n",
      "5.0     150778\n",
      "6.0      25153\n",
      "1.0      23055\n",
      "0.0       5097\n",
      "7.0       4802\n",
      "8.0       1106\n",
      "9.0        290\n",
      "10.0       121\n",
      "11.0        34\n",
      "13.0        15\n",
      "12.0        12\n",
      "14.0         7\n",
      "15.0         6\n",
      "18.0         3\n",
      "16.0         2\n",
      "25.0         1\n",
      "Name: bedroomcnt, dtype: int64\n",
      "~~~~~~~~~~~~~~~~~~~~~~~~~~~~~~~~~~~~\n",
      "\n",
      "BATHROOMCNT\n",
      "2.00     943272\n",
      "3.00     422656\n",
      "1.00     413782\n",
      "2.50     142846\n",
      "4.00      82123\n",
      "1.50      31166\n",
      "3.50      28471\n",
      "5.00      28351\n",
      "4.50      19476\n",
      "6.00      10746\n",
      "5.50       6202\n",
      "0.00       4950\n",
      "7.00       4393\n",
      "8.00       1688\n",
      "6.50       1330\n",
      "9.00        712\n",
      "7.50        382\n",
      "10.00       325\n",
      "11.00       145\n",
      "8.50        108\n",
      "12.00        73\n",
      "9.50         50\n",
      "13.00        39\n",
      "14.00        25\n",
      "15.00        17\n",
      "0.50         16\n",
      "10.50        14\n",
      "16.00        12\n",
      "18.00         8\n",
      "20.00         6\n",
      "17.00         4\n",
      "1.75          3\n",
      "12.50         3\n",
      "11.50         3\n",
      "14.50         1\n",
      "32.00         1\n",
      "19.50         1\n",
      "19.00         1\n",
      "Name: bathroomcnt, dtype: int64\n",
      "~~~~~~~~~~~~~~~~~~~~~~~~~~~~~~~~~~~~\n",
      "\n",
      "CALCULATEDFINISHEDSQUAREFEET\n",
      "1200.0     5191\n",
      "1080.0     4383\n",
      "1120.0     4361\n",
      "1400.0     3833\n",
      "1440.0     3689\n",
      "           ... \n",
      "16736.0       1\n",
      "12578.0       1\n",
      "10804.0       1\n",
      "9930.0        1\n",
      "12056.0       1\n",
      "Name: calculatedfinishedsquarefeet, Length: 10571, dtype: int64\n",
      "~~~~~~~~~~~~~~~~~~~~~~~~~~~~~~~~~~~~\n",
      "\n",
      "TAXVALUEDOLLARCNT\n",
      "450000.0     820\n",
      "500000.0     776\n",
      "400000.0     725\n",
      "430000.0     690\n",
      "440000.0     684\n",
      "            ... \n",
      "745173.0       1\n",
      "32119.0        1\n",
      "1201392.0      1\n",
      "571908.0       1\n",
      "1436013.0      1\n",
      "Name: taxvaluedollarcnt, Length: 589327, dtype: int64\n",
      "~~~~~~~~~~~~~~~~~~~~~~~~~~~~~~~~~~~~\n",
      "\n",
      "YEARBUILT\n",
      "1955.0    84404\n",
      "1950.0    71686\n",
      "1954.0    69161\n",
      "1953.0    62339\n",
      "1956.0    61938\n",
      "          ...  \n",
      "1879.0        1\n",
      "1877.0        1\n",
      "1855.0        1\n",
      "1874.0        1\n",
      "1823.0        1\n",
      "Name: yearbuilt, Length: 153, dtype: int64\n",
      "~~~~~~~~~~~~~~~~~~~~~~~~~~~~~~~~~~~~\n",
      "\n",
      "FIPS\n",
      "6037.0    1427942\n",
      "6059.0     552441\n",
      "6111.0     163018\n",
      "Name: fips, dtype: int64\n",
      "~~~~~~~~~~~~~~~~~~~~~~~~~~~~~~~~~~~~\n",
      "\n"
     ]
    }
   ],
   "source": [
    "# get value counts and decide on data types\n",
    "cols = df.columns\n",
    "\n",
    "for col in cols:\n",
    "    \n",
    "    print(col.upper())\n",
    "    print(df[col].value_counts())\n",
    "    print('~~~~~~~~~~~~~~~~~~~~~~~~~~~~~~~~~~~~')\n",
    "    print()"
   ]
  },
  {
   "cell_type": "markdown",
   "id": "peaceful-protection",
   "metadata": {},
   "source": [
    "* casting fips and year built as an object because it is a numerical represintation of a catagorical value\n",
    "* leaving the rest as floats"
   ]
  },
  {
   "cell_type": "code",
   "execution_count": 14,
   "id": "incomplete-premises",
   "metadata": {},
   "outputs": [],
   "source": [
    "df.fips = df.fips.astype(object)\n",
    "df.yearbuilt = df.yearbuilt.astype(object)\n",
    "df.bedroomcnt = df.bedroomcnt.astype(int)"
   ]
  },
  {
   "cell_type": "code",
   "execution_count": 15,
   "id": "adjusted-showcase",
   "metadata": {},
   "outputs": [
    {
     "name": "stdout",
     "output_type": "stream",
     "text": [
      "<class 'pandas.core.frame.DataFrame'>\n",
      "Int64Index: 2143401 entries, 4 to 2152863\n",
      "Data columns (total 6 columns):\n",
      " #   Column                        Dtype  \n",
      "---  ------                        -----  \n",
      " 0   bedroomcnt                    int64  \n",
      " 1   bathroomcnt                   float64\n",
      " 2   calculatedfinishedsquarefeet  float64\n",
      " 3   taxvaluedollarcnt             float64\n",
      " 4   yearbuilt                     object \n",
      " 5   fips                          object \n",
      "dtypes: float64(3), int64(1), object(2)\n",
      "memory usage: 114.5+ MB\n"
     ]
    }
   ],
   "source": [
    "df.info()"
   ]
  },
  {
   "cell_type": "markdown",
   "id": "killing-source",
   "metadata": {},
   "source": [
    "## Do I like the column names?"
   ]
  },
  {
   "cell_type": "code",
   "execution_count": 16,
   "id": "frozen-packet",
   "metadata": {},
   "outputs": [
    {
     "data": {
      "text/plain": [
       "Index(['bedroomcnt', 'bathroomcnt', 'calculatedfinishedsquarefeet',\n",
       "       'taxvaluedollarcnt', 'yearbuilt', 'fips'],\n",
       "      dtype='object')"
      ]
     },
     "execution_count": 16,
     "metadata": {},
     "output_type": "execute_result"
    }
   ],
   "source": [
    "df.columns"
   ]
  },
  {
   "cell_type": "code",
   "execution_count": 17,
   "id": "successful-journalist",
   "metadata": {},
   "outputs": [
    {
     "data": {
      "text/plain": [
       "Index(['bedrooms', 'bathrooms', 'area', 'tax_value', 'year_built', 'fips'], dtype='object')"
      ]
     },
     "execution_count": 17,
     "metadata": {},
     "output_type": "execute_result"
    }
   ],
   "source": [
    "# renaming column names to one's I like better\n",
    "df = df.rename(columns = {'bedroomcnt':'bedrooms', \n",
    "                          'bathroomcnt':'bathrooms', \n",
    "                          'calculatedfinishedsquarefeet':'area',\n",
    "                          'taxvaluedollarcnt':'tax_value', \n",
    "                          'yearbuilt':'year_built'})\n",
    "\n",
    "df.columns"
   ]
  },
  {
   "cell_type": "code",
   "execution_count": 18,
   "id": "electrical-diesel",
   "metadata": {},
   "outputs": [
    {
     "data": {
      "image/png": "[encoded data removed]",
      "text/plain": [
       "<Figure size 1152x216 with 5 Axes>"
      ]
     },
     "metadata": {
      "needs_background": "light"
     },
     "output_type": "display_data"
    }
   ],
   "source": [
    "plt.figure(figsize=(16, 3))\n",
    "\n",
    "# List of columns\n",
    "cols = [col for col in df.columns if col != 'fips']\n",
    "\n",
    "for i, col in enumerate(cols):\n",
    "\n",
    "    # i starts at 0, but plot nos should start at 1\n",
    "    plot_number = i + 1 \n",
    "\n",
    "    # Create subplot.\n",
    "    plt.subplot(1, len(cols), plot_number)\n",
    "\n",
    "    # Title with column name.\n",
    "    plt.title(col)\n",
    "\n",
    "    # Display histogram for column.\n",
    "    df[col].hist(bins=5)\n",
    "\n",
    "    # Hide gridlines.\n",
    "    plt.grid(False)"
   ]
  },
  {
   "cell_type": "code",
   "execution_count": 19,
   "id": "threaded-neighborhood",
   "metadata": {},
   "outputs": [
    {
     "data": {
      "image/png": "[encoded data removed]",
      "text/plain": [
       "<Figure size 576x288 with 1 Axes>"
      ]
     },
     "metadata": {
      "needs_background": "light"
     },
     "output_type": "display_data"
    }
   ],
   "source": [
    "plt.figure(figsize=(8,4))\n",
    "\n",
    "sns.boxplot(data=df.drop(columns=['fips']))\n",
    "plt.show()"
   ]
  },
  {
   "cell_type": "markdown",
   "id": "relative-arbor",
   "metadata": {},
   "source": [
    "## Split the data"
   ]
  },
  {
   "cell_type": "code",
   "execution_count": 20,
   "id": "environmental-certification",
   "metadata": {},
   "outputs": [],
   "source": [
    "train_validate, test = train_test_split(df, test_size=.2, random_state=123)\n",
    "train, validate = train_test_split(train_validate, test_size=.3, random_state=123)"
   ]
  },
  {
   "cell_type": "markdown",
   "id": "fifth-scroll",
   "metadata": {},
   "source": [
    "## Impute the data"
   ]
  },
  {
   "cell_type": "code",
   "execution_count": 21,
   "id": "verified-fleet",
   "metadata": {},
   "outputs": [],
   "source": [
    "imputer = SimpleImputer(strategy='median')  # build imputer\n",
    "\n",
    "imputer.fit(train[['area']]) # fit to train\n",
    "\n",
    "# transform the data\n",
    "train[['area']] = imputer.transform(train[['area']])\n",
    "validate[['area']] = imputer.transform(validate[['area']])\n",
    "test[['area']] = imputer.transform(test[['area']])"
   ]
  },
  {
   "cell_type": "code",
   "execution_count": 22,
   "id": "least-county",
   "metadata": {},
   "outputs": [
    {
     "data": {
      "text/plain": [
       "bedrooms      0\n",
       "bathrooms     0\n",
       "area          0\n",
       "tax_value     0\n",
       "year_built    0\n",
       "fips          0\n",
       "dtype: int64"
      ]
     },
     "execution_count": 22,
     "metadata": {},
     "output_type": "execute_result"
    }
   ],
   "source": [
    "train.isnull().sum()"
   ]
  },
  {
   "cell_type": "code",
   "execution_count": 23,
   "id": "trying-finland",
   "metadata": {},
   "outputs": [
    {
     "data": {
      "text/plain": [
       "bedrooms      0\n",
       "bathrooms     0\n",
       "area          0\n",
       "tax_value     0\n",
       "year_built    0\n",
       "fips          0\n",
       "dtype: int64"
      ]
     },
     "execution_count": 23,
     "metadata": {},
     "output_type": "execute_result"
    }
   ],
   "source": [
    "validate.isnull().sum()"
   ]
  },
  {
   "cell_type": "code",
   "execution_count": 24,
   "id": "south-archive",
   "metadata": {},
   "outputs": [
    {
     "data": {
      "text/plain": [
       "bedrooms      0\n",
       "bathrooms     0\n",
       "area          0\n",
       "tax_value     0\n",
       "year_built    0\n",
       "fips          0\n",
       "dtype: int64"
      ]
     },
     "execution_count": 24,
     "metadata": {},
     "output_type": "execute_result"
    }
   ],
   "source": [
    "test.isnull().sum()"
   ]
  },
  {
   "cell_type": "code",
   "execution_count": 25,
   "id": "becoming-allergy",
   "metadata": {},
   "outputs": [
    {
     "data": {
      "text/html": [
       "<div>\n",
       "<style scoped>\n",
       "    .dataframe tbody tr th:only-of-type {\n",
       "        vertical-align: middle;\n",
       "    }\n",
       "\n",
       "    .dataframe tbody tr th {\n",
       "        vertical-align: top;\n",
       "    }\n",
       "\n",
       "    .dataframe thead th {\n",
       "        text-align: right;\n",
       "    }\n",
       "</style>\n",
       "<table border=\"1\" class=\"dataframe\">\n",
       "  <thead>\n",
       "    <tr style=\"text-align: right;\">\n",
       "      <th></th>\n",
       "      <th>bedrooms</th>\n",
       "      <th>bathrooms</th>\n",
       "      <th>area</th>\n",
       "      <th>tax_value</th>\n",
       "      <th>year_built</th>\n",
       "      <th>fips</th>\n",
       "    </tr>\n",
       "  </thead>\n",
       "  <tbody>\n",
       "    <tr>\n",
       "      <th>1304496</th>\n",
       "      <td>3</td>\n",
       "      <td>2.0</td>\n",
       "      <td>1242.0</td>\n",
       "      <td>60625.0</td>\n",
       "      <td>1936.0</td>\n",
       "      <td>6037.0</td>\n",
       "    </tr>\n",
       "    <tr>\n",
       "      <th>1232706</th>\n",
       "      <td>2</td>\n",
       "      <td>1.0</td>\n",
       "      <td>836.0</td>\n",
       "      <td>52965.0</td>\n",
       "      <td>1949.0</td>\n",
       "      <td>6037.0</td>\n",
       "    </tr>\n",
       "    <tr>\n",
       "      <th>1849408</th>\n",
       "      <td>3</td>\n",
       "      <td>2.0</td>\n",
       "      <td>3049.0</td>\n",
       "      <td>104973.0</td>\n",
       "      <td>1971.0</td>\n",
       "      <td>6059.0</td>\n",
       "    </tr>\n",
       "    <tr>\n",
       "      <th>1879936</th>\n",
       "      <td>4</td>\n",
       "      <td>3.0</td>\n",
       "      <td>2635.0</td>\n",
       "      <td>894657.0</td>\n",
       "      <td>1987.0</td>\n",
       "      <td>6037.0</td>\n",
       "    </tr>\n",
       "    <tr>\n",
       "      <th>50505</th>\n",
       "      <td>4</td>\n",
       "      <td>3.0</td>\n",
       "      <td>2563.0</td>\n",
       "      <td>331065.0</td>\n",
       "      <td>1982.0</td>\n",
       "      <td>6037.0</td>\n",
       "    </tr>\n",
       "    <tr>\n",
       "      <th>...</th>\n",
       "      <td>...</td>\n",
       "      <td>...</td>\n",
       "      <td>...</td>\n",
       "      <td>...</td>\n",
       "      <td>...</td>\n",
       "      <td>...</td>\n",
       "    </tr>\n",
       "    <tr>\n",
       "      <th>2091693</th>\n",
       "      <td>2</td>\n",
       "      <td>1.0</td>\n",
       "      <td>1066.0</td>\n",
       "      <td>25424.0</td>\n",
       "      <td>1921.0</td>\n",
       "      <td>6037.0</td>\n",
       "    </tr>\n",
       "    <tr>\n",
       "      <th>1561515</th>\n",
       "      <td>5</td>\n",
       "      <td>3.0</td>\n",
       "      <td>3088.0</td>\n",
       "      <td>534598.0</td>\n",
       "      <td>1998.0</td>\n",
       "      <td>6111.0</td>\n",
       "    </tr>\n",
       "    <tr>\n",
       "      <th>134013</th>\n",
       "      <td>3</td>\n",
       "      <td>1.0</td>\n",
       "      <td>1032.0</td>\n",
       "      <td>295000.0</td>\n",
       "      <td>1924.0</td>\n",
       "      <td>6037.0</td>\n",
       "    </tr>\n",
       "    <tr>\n",
       "      <th>1358019</th>\n",
       "      <td>3</td>\n",
       "      <td>2.0</td>\n",
       "      <td>1591.0</td>\n",
       "      <td>457000.0</td>\n",
       "      <td>1967.0</td>\n",
       "      <td>6037.0</td>\n",
       "    </tr>\n",
       "    <tr>\n",
       "      <th>1759876</th>\n",
       "      <td>3</td>\n",
       "      <td>1.0</td>\n",
       "      <td>1157.0</td>\n",
       "      <td>207884.0</td>\n",
       "      <td>1945.0</td>\n",
       "      <td>6037.0</td>\n",
       "    </tr>\n",
       "  </tbody>\n",
       "</table>\n",
       "<p>1200304 rows × 6 columns</p>\n",
       "</div>"
      ],
      "text/plain": [
       "         bedrooms  bathrooms    area  tax_value year_built    fips\n",
       "1304496         3        2.0  1242.0    60625.0     1936.0  6037.0\n",
       "1232706         2        1.0   836.0    52965.0     1949.0  6037.0\n",
       "1849408         3        2.0  3049.0   104973.0     1971.0  6059.0\n",
       "1879936         4        3.0  2635.0   894657.0     1987.0  6037.0\n",
       "50505           4        3.0  2563.0   331065.0     1982.0  6037.0\n",
       "...           ...        ...     ...        ...        ...     ...\n",
       "2091693         2        1.0  1066.0    25424.0     1921.0  6037.0\n",
       "1561515         5        3.0  3088.0   534598.0     1998.0  6111.0\n",
       "134013          3        1.0  1032.0   295000.0     1924.0  6037.0\n",
       "1358019         3        2.0  1591.0   457000.0     1967.0  6037.0\n",
       "1759876         3        1.0  1157.0   207884.0     1945.0  6037.0\n",
       "\n",
       "[1200304 rows x 6 columns]"
      ]
     },
     "execution_count": 25,
     "metadata": {},
     "output_type": "execute_result"
    }
   ],
   "source": [
    "train"
   ]
  },
  {
   "cell_type": "code",
   "execution_count": 26,
   "id": "ahead-contrary",
   "metadata": {
    "scrolled": true
   },
   "outputs": [
    {
     "data": {
      "text/html": [
       "<div>\n",
       "<style scoped>\n",
       "    .dataframe tbody tr th:only-of-type {\n",
       "        vertical-align: middle;\n",
       "    }\n",
       "\n",
       "    .dataframe tbody tr th {\n",
       "        vertical-align: top;\n",
       "    }\n",
       "\n",
       "    .dataframe thead th {\n",
       "        text-align: right;\n",
       "    }\n",
       "</style>\n",
       "<table border=\"1\" class=\"dataframe\">\n",
       "  <thead>\n",
       "    <tr style=\"text-align: right;\">\n",
       "      <th></th>\n",
       "      <th>bedrooms</th>\n",
       "      <th>bathrooms</th>\n",
       "      <th>area</th>\n",
       "      <th>tax_value</th>\n",
       "    </tr>\n",
       "  </thead>\n",
       "  <tbody>\n",
       "    <tr>\n",
       "      <th>count</th>\n",
       "      <td>1200304</td>\n",
       "      <td>1200304</td>\n",
       "      <td>1200304</td>\n",
       "      <td>1200304</td>\n",
       "    </tr>\n",
       "    <tr>\n",
       "      <th>mean</th>\n",
       "      <td>3</td>\n",
       "      <td>2</td>\n",
       "      <td>1863</td>\n",
       "      <td>461730</td>\n",
       "    </tr>\n",
       "    <tr>\n",
       "      <th>std</th>\n",
       "      <td>1</td>\n",
       "      <td>1</td>\n",
       "      <td>1303</td>\n",
       "      <td>696377</td>\n",
       "    </tr>\n",
       "    <tr>\n",
       "      <th>min</th>\n",
       "      <td>0</td>\n",
       "      <td>0</td>\n",
       "      <td>1</td>\n",
       "      <td>1</td>\n",
       "    </tr>\n",
       "    <tr>\n",
       "      <th>25%</th>\n",
       "      <td>3</td>\n",
       "      <td>2</td>\n",
       "      <td>1257</td>\n",
       "      <td>189150</td>\n",
       "    </tr>\n",
       "    <tr>\n",
       "      <th>50%</th>\n",
       "      <td>3</td>\n",
       "      <td>2</td>\n",
       "      <td>1623</td>\n",
       "      <td>328471</td>\n",
       "    </tr>\n",
       "    <tr>\n",
       "      <th>75%</th>\n",
       "      <td>4</td>\n",
       "      <td>3</td>\n",
       "      <td>2207</td>\n",
       "      <td>534297</td>\n",
       "    </tr>\n",
       "    <tr>\n",
       "      <th>max</th>\n",
       "      <td>18</td>\n",
       "      <td>32</td>\n",
       "      <td>952576</td>\n",
       "      <td>90188462</td>\n",
       "    </tr>\n",
       "  </tbody>\n",
       "</table>\n",
       "</div>"
      ],
      "text/plain": [
       "       bedrooms  bathrooms    area  tax_value\n",
       "count   1200304    1200304 1200304    1200304\n",
       "mean          3          2    1863     461730\n",
       "std           1          1    1303     696377\n",
       "min           0          0       1          1\n",
       "25%           3          2    1257     189150\n",
       "50%           3          2    1623     328471\n",
       "75%           4          3    2207     534297\n",
       "max          18         32  952576   90188462"
      ]
     },
     "execution_count": 26,
     "metadata": {},
     "output_type": "execute_result"
    }
   ],
   "source": [
    "pd.set_option('display.float_format', lambda x: '%.0f' % x)\n",
    "train.describe()"
   ]
  },
  {
   "cell_type": "code",
   "execution_count": 27,
   "id": "normal-disease",
   "metadata": {},
   "outputs": [],
   "source": [
    "##################################################Wrangle.py###################################################\n",
    "\n",
    "import pandas as pd\n",
    "\n",
    "import matplotlib.pyplot as plt\n",
    "import seaborn as sns\n",
    "\n",
    "from sklearn.model_selection import train_test_split\n",
    "from sklearn.impute import SimpleImputer\n",
    "\n",
    "from env import user, password, host\n",
    "\n",
    "#**************************************************Acquire*******************************************************\n",
    "\n",
    "def acquire_zillow():\n",
    "    \n",
    "    url = f\"mysql+pymysql://{user}:{password}@{host}/zillow\"\n",
    "    \n",
    "    query = \"\"\"\n",
    "            \n",
    "    SELECT bedroomcnt, bathroomcnt, calculatedfinishedsquarefeet, taxvaluedollarcnt, yearbuilt, taxamount, fips\n",
    "    FROM properties_2017\n",
    "\n",
    "    LEFT JOIN propertylandusetype USING(propertylandusetypeid)\n",
    "\n",
    "    WHERE propertylandusedesc IN (\"Single Family Residential\",                       \n",
    "                                  \"Inferred Single Family Residential\")\"\"\"\n",
    "\n",
    "    # get dataframe of data\n",
    "    df = pd.read_sql(query, url)\n",
    "    \n",
    "    \n",
    "    # renaming column names to one's I like better\n",
    "    df = df.rename(columns = {'bedroomcnt':'bedrooms', \n",
    "                              'bathroomcnt':'bathrooms', \n",
    "                              'calculatedfinishedsquarefeet':'area',\n",
    "                              'taxvaluedollarcnt':'tax_value', \n",
    "                              'yearbuilt':'year_built',\n",
    "                              'taxamount':'tax_amount'})\n",
    "    return df\n",
    "\n",
    "#**************************************************Distributions*******************************************************\n",
    "\n",
    "def get_hist(df):\n",
    "    \n",
    "    plt.figure(figsize=(16, 3))\n",
    "\n",
    "    # List of columns\n",
    "    cols = [col for col in df.columns if col not in ['fips', 'year_built']]\n",
    "\n",
    "    for i, col in enumerate(cols):\n",
    "\n",
    "        # i starts at 0, but plot nos should start at 1\n",
    "        plot_number = i + 1 \n",
    "\n",
    "        # Create subplot.\n",
    "        plt.subplot(1, len(cols), plot_number)\n",
    "\n",
    "        # Title with column name.\n",
    "        plt.title(col)\n",
    "\n",
    "        # Display histogram for column.\n",
    "        df[col].hist(bins=5)\n",
    "\n",
    "        # Hide gridlines.\n",
    "        plt.grid(False)\n",
    "        \n",
    "        \n",
    "def get_box(df):\n",
    "    \n",
    "    plt.figure(figsize=(8,4))\n",
    "\n",
    "    sns.boxplot(data=df.drop(columns=['fips', 'year_built']))\n",
    "    plt.show()\n",
    "        \n",
    "#**************************************************Prepare*******************************************************\n",
    "\n",
    "def prepare_zillow(df):\n",
    "    \n",
    "    # drop rows that are nulls \n",
    "    df = df.dropna(subset = ['bedrooms','bathrooms', 'year_built', 'tax_value'])\n",
    "    \n",
    "    # drop taxamount\n",
    "    df = df.drop(columns = 'tax_amount')\n",
    "    \n",
    "    # converting column datatypes\n",
    "    df.fips = df.fips.astype(object)\n",
    "    df.year_built = df.year_built.astype(object)\n",
    "    df.bedrooms = df.bedrooms.astype(int)\n",
    "    \n",
    "    print(df.shape)\n",
    "    \n",
    "    # train/validate/test split\n",
    "    train_validate, test = train_test_split(df, test_size=.2, random_state=123)\n",
    "    train, validate = train_test_split(train_validate, test_size=.3, random_state=123)\n",
    "    \n",
    "    # impute median value \n",
    "    imputer = SimpleImputer(strategy='median') \n",
    "\n",
    "    imputer.fit(train[['area']])\n",
    "\n",
    "    train[['area']] = imputer.transform(train[['area']])        \n",
    "    validate[['area']] = imputer.transform(validate[['area']])  \n",
    "    test[['area']] = imputer.transform(test[['area']])          \n",
    "    \n",
    "    return train, validate, test    \n",
    "\n",
    "\n",
    "#**************************************************Wrangle*******************************************************\n",
    "\n",
    "def wrangle_zillow():\n",
    "    \n",
    "    train, validate, test = prepare_zillow(acquire_zillow())\n",
    "    \n",
    "    return train, validate, test"
   ]
  },
  {
   "cell_type": "code",
   "execution_count": 28,
   "id": "political-monaco",
   "metadata": {},
   "outputs": [
    {
     "name": "stdout",
     "output_type": "stream",
     "text": [
      "(2142916, 6)\n"
     ]
    }
   ],
   "source": [
    "train, validate, test, = wrangle_zillow()"
   ]
  },
  {
   "cell_type": "code",
   "execution_count": 29,
   "id": "supported-wichita",
   "metadata": {},
   "outputs": [
    {
     "data": {
      "text/html": [
       "<div>\n",
       "<style scoped>\n",
       "    .dataframe tbody tr th:only-of-type {\n",
       "        vertical-align: middle;\n",
       "    }\n",
       "\n",
       "    .dataframe tbody tr th {\n",
       "        vertical-align: top;\n",
       "    }\n",
       "\n",
       "    .dataframe thead th {\n",
       "        text-align: right;\n",
       "    }\n",
       "</style>\n",
       "<table border=\"1\" class=\"dataframe\">\n",
       "  <thead>\n",
       "    <tr style=\"text-align: right;\">\n",
       "      <th></th>\n",
       "      <th>bedrooms</th>\n",
       "      <th>bathrooms</th>\n",
       "      <th>area</th>\n",
       "      <th>tax_value</th>\n",
       "      <th>year_built</th>\n",
       "      <th>fips</th>\n",
       "    </tr>\n",
       "  </thead>\n",
       "  <tbody>\n",
       "    <tr>\n",
       "      <th>720055</th>\n",
       "      <td>4</td>\n",
       "      <td>2</td>\n",
       "      <td>1808</td>\n",
       "      <td>644683</td>\n",
       "      <td>1956</td>\n",
       "      <td>6059</td>\n",
       "    </tr>\n",
       "    <tr>\n",
       "      <th>89347</th>\n",
       "      <td>4</td>\n",
       "      <td>5</td>\n",
       "      <td>4227</td>\n",
       "      <td>1586297</td>\n",
       "      <td>1959</td>\n",
       "      <td>6037</td>\n",
       "    </tr>\n",
       "    <tr>\n",
       "      <th>1043548</th>\n",
       "      <td>3</td>\n",
       "      <td>2</td>\n",
       "      <td>1935</td>\n",
       "      <td>669762</td>\n",
       "      <td>1987</td>\n",
       "      <td>6059</td>\n",
       "    </tr>\n",
       "    <tr>\n",
       "      <th>1025521</th>\n",
       "      <td>3</td>\n",
       "      <td>1</td>\n",
       "      <td>1038</td>\n",
       "      <td>120120</td>\n",
       "      <td>1945</td>\n",
       "      <td>6037</td>\n",
       "    </tr>\n",
       "    <tr>\n",
       "      <th>1043398</th>\n",
       "      <td>3</td>\n",
       "      <td>2</td>\n",
       "      <td>1153</td>\n",
       "      <td>479891</td>\n",
       "      <td>1956</td>\n",
       "      <td>6059</td>\n",
       "    </tr>\n",
       "    <tr>\n",
       "      <th>...</th>\n",
       "      <td>...</td>\n",
       "      <td>...</td>\n",
       "      <td>...</td>\n",
       "      <td>...</td>\n",
       "      <td>...</td>\n",
       "      <td>...</td>\n",
       "    </tr>\n",
       "    <tr>\n",
       "      <th>1187583</th>\n",
       "      <td>5</td>\n",
       "      <td>4</td>\n",
       "      <td>2843</td>\n",
       "      <td>859090</td>\n",
       "      <td>1954</td>\n",
       "      <td>6037</td>\n",
       "    </tr>\n",
       "    <tr>\n",
       "      <th>1313197</th>\n",
       "      <td>4</td>\n",
       "      <td>2</td>\n",
       "      <td>1942</td>\n",
       "      <td>574097</td>\n",
       "      <td>1999</td>\n",
       "      <td>6059</td>\n",
       "    </tr>\n",
       "    <tr>\n",
       "      <th>1301377</th>\n",
       "      <td>4</td>\n",
       "      <td>2</td>\n",
       "      <td>2217</td>\n",
       "      <td>238213</td>\n",
       "      <td>1972</td>\n",
       "      <td>6059</td>\n",
       "    </tr>\n",
       "    <tr>\n",
       "      <th>1000314</th>\n",
       "      <td>3</td>\n",
       "      <td>3</td>\n",
       "      <td>2363</td>\n",
       "      <td>119129</td>\n",
       "      <td>1993</td>\n",
       "      <td>6059</td>\n",
       "    </tr>\n",
       "    <tr>\n",
       "      <th>453672</th>\n",
       "      <td>2</td>\n",
       "      <td>1</td>\n",
       "      <td>1603</td>\n",
       "      <td>437009</td>\n",
       "      <td>1935</td>\n",
       "      <td>6037</td>\n",
       "    </tr>\n",
       "  </tbody>\n",
       "</table>\n",
       "<p>1200032 rows × 6 columns</p>\n",
       "</div>"
      ],
      "text/plain": [
       "         bedrooms  bathrooms  area  tax_value year_built fips\n",
       "720055          4          2  1808     644683       1956 6059\n",
       "89347           4          5  4227    1586297       1959 6037\n",
       "1043548         3          2  1935     669762       1987 6059\n",
       "1025521         3          1  1038     120120       1945 6037\n",
       "1043398         3          2  1153     479891       1956 6059\n",
       "...           ...        ...   ...        ...        ...  ...\n",
       "1187583         5          4  2843     859090       1954 6037\n",
       "1313197         4          2  1942     574097       1999 6059\n",
       "1301377         4          2  2217     238213       1972 6059\n",
       "1000314         3          3  2363     119129       1993 6059\n",
       "453672          2          1  1603     437009       1935 6037\n",
       "\n",
       "[1200032 rows x 6 columns]"
      ]
     },
     "execution_count": 29,
     "metadata": {},
     "output_type": "execute_result"
    }
   ],
   "source": [
    "train"
   ]
  },
  {
   "cell_type": "code",
   "execution_count": 30,
   "id": "killing-reply",
   "metadata": {},
   "outputs": [
    {
     "data": {
      "text/html": [
       "<div>\n",
       "<style scoped>\n",
       "    .dataframe tbody tr th:only-of-type {\n",
       "        vertical-align: middle;\n",
       "    }\n",
       "\n",
       "    .dataframe tbody tr th {\n",
       "        vertical-align: top;\n",
       "    }\n",
       "\n",
       "    .dataframe thead th {\n",
       "        text-align: right;\n",
       "    }\n",
       "</style>\n",
       "<table border=\"1\" class=\"dataframe\">\n",
       "  <thead>\n",
       "    <tr style=\"text-align: right;\">\n",
       "      <th></th>\n",
       "      <th>bedrooms</th>\n",
       "      <th>bathrooms</th>\n",
       "      <th>area</th>\n",
       "      <th>tax_value</th>\n",
       "      <th>year_built</th>\n",
       "      <th>fips</th>\n",
       "    </tr>\n",
       "  </thead>\n",
       "  <tbody>\n",
       "    <tr>\n",
       "      <th>2040567</th>\n",
       "      <td>3</td>\n",
       "      <td>2</td>\n",
       "      <td>1162</td>\n",
       "      <td>775000</td>\n",
       "      <td>1955</td>\n",
       "      <td>6037</td>\n",
       "    </tr>\n",
       "    <tr>\n",
       "      <th>2109921</th>\n",
       "      <td>3</td>\n",
       "      <td>2</td>\n",
       "      <td>2102</td>\n",
       "      <td>90153</td>\n",
       "      <td>1949</td>\n",
       "      <td>6111</td>\n",
       "    </tr>\n",
       "    <tr>\n",
       "      <th>479226</th>\n",
       "      <td>3</td>\n",
       "      <td>2</td>\n",
       "      <td>1474</td>\n",
       "      <td>632457</td>\n",
       "      <td>1969</td>\n",
       "      <td>6037</td>\n",
       "    </tr>\n",
       "    <tr>\n",
       "      <th>280682</th>\n",
       "      <td>3</td>\n",
       "      <td>2</td>\n",
       "      <td>1907</td>\n",
       "      <td>535698</td>\n",
       "      <td>1961</td>\n",
       "      <td>6111</td>\n",
       "    </tr>\n",
       "    <tr>\n",
       "      <th>1603669</th>\n",
       "      <td>4</td>\n",
       "      <td>3</td>\n",
       "      <td>2742</td>\n",
       "      <td>810581</td>\n",
       "      <td>1992</td>\n",
       "      <td>6059</td>\n",
       "    </tr>\n",
       "    <tr>\n",
       "      <th>...</th>\n",
       "      <td>...</td>\n",
       "      <td>...</td>\n",
       "      <td>...</td>\n",
       "      <td>...</td>\n",
       "      <td>...</td>\n",
       "      <td>...</td>\n",
       "    </tr>\n",
       "    <tr>\n",
       "      <th>1611505</th>\n",
       "      <td>3</td>\n",
       "      <td>1</td>\n",
       "      <td>1173</td>\n",
       "      <td>60017</td>\n",
       "      <td>1953</td>\n",
       "      <td>6037</td>\n",
       "    </tr>\n",
       "    <tr>\n",
       "      <th>1438364</th>\n",
       "      <td>3</td>\n",
       "      <td>2</td>\n",
       "      <td>1232</td>\n",
       "      <td>336281</td>\n",
       "      <td>1955</td>\n",
       "      <td>6037</td>\n",
       "    </tr>\n",
       "    <tr>\n",
       "      <th>1074546</th>\n",
       "      <td>2</td>\n",
       "      <td>2</td>\n",
       "      <td>1224</td>\n",
       "      <td>255587</td>\n",
       "      <td>1976</td>\n",
       "      <td>6059</td>\n",
       "    </tr>\n",
       "    <tr>\n",
       "      <th>654384</th>\n",
       "      <td>9</td>\n",
       "      <td>3</td>\n",
       "      <td>3800</td>\n",
       "      <td>1011535</td>\n",
       "      <td>1956</td>\n",
       "      <td>6059</td>\n",
       "    </tr>\n",
       "    <tr>\n",
       "      <th>202220</th>\n",
       "      <td>4</td>\n",
       "      <td>2</td>\n",
       "      <td>1606</td>\n",
       "      <td>624540</td>\n",
       "      <td>1963</td>\n",
       "      <td>6059</td>\n",
       "    </tr>\n",
       "  </tbody>\n",
       "</table>\n",
       "<p>514300 rows × 6 columns</p>\n",
       "</div>"
      ],
      "text/plain": [
       "         bedrooms  bathrooms  area  tax_value year_built fips\n",
       "2040567         3          2  1162     775000       1955 6037\n",
       "2109921         3          2  2102      90153       1949 6111\n",
       "479226          3          2  1474     632457       1969 6037\n",
       "280682          3          2  1907     535698       1961 6111\n",
       "1603669         4          3  2742     810581       1992 6059\n",
       "...           ...        ...   ...        ...        ...  ...\n",
       "1611505         3          1  1173      60017       1953 6037\n",
       "1438364         3          2  1232     336281       1955 6037\n",
       "1074546         2          2  1224     255587       1976 6059\n",
       "654384          9          3  3800    1011535       1956 6059\n",
       "202220          4          2  1606     624540       1963 6059\n",
       "\n",
       "[514300 rows x 6 columns]"
      ]
     },
     "execution_count": 30,
     "metadata": {},
     "output_type": "execute_result"
    }
   ],
   "source": [
    "validate"
   ]
  },
  {
   "cell_type": "code",
   "execution_count": 31,
   "id": "statutory-great",
   "metadata": {},
   "outputs": [
    {
     "data": {
      "text/html": [
       "<div>\n",
       "<style scoped>\n",
       "    .dataframe tbody tr th:only-of-type {\n",
       "        vertical-align: middle;\n",
       "    }\n",
       "\n",
       "    .dataframe tbody tr th {\n",
       "        vertical-align: top;\n",
       "    }\n",
       "\n",
       "    .dataframe thead th {\n",
       "        text-align: right;\n",
       "    }\n",
       "</style>\n",
       "<table border=\"1\" class=\"dataframe\">\n",
       "  <thead>\n",
       "    <tr style=\"text-align: right;\">\n",
       "      <th></th>\n",
       "      <th>bedrooms</th>\n",
       "      <th>bathrooms</th>\n",
       "      <th>area</th>\n",
       "      <th>tax_value</th>\n",
       "      <th>year_built</th>\n",
       "      <th>fips</th>\n",
       "    </tr>\n",
       "  </thead>\n",
       "  <tbody>\n",
       "    <tr>\n",
       "      <th>823653</th>\n",
       "      <td>3</td>\n",
       "      <td>1</td>\n",
       "      <td>1628</td>\n",
       "      <td>397049</td>\n",
       "      <td>195</td>\n",
       "      <td>6037</td>\n",
       "    </tr>\n",
       "    <tr>\n",
       "      <th>228989</th>\n",
       "      <td>4</td>\n",
       "      <td>3</td>\n",
       "      <td>2754</td>\n",
       "      <td>774000</td>\n",
       "      <td>199</td>\n",
       "      <td>6037</td>\n",
       "    </tr>\n",
       "    <tr>\n",
       "      <th>1529721</th>\n",
       "      <td>4</td>\n",
       "      <td>2</td>\n",
       "      <td>1320</td>\n",
       "      <td>310020</td>\n",
       "      <td>1972</td>\n",
       "      <td>6111</td>\n",
       "    </tr>\n",
       "    <tr>\n",
       "      <th>2022915</th>\n",
       "      <td>4</td>\n",
       "      <td>3</td>\n",
       "      <td>3282</td>\n",
       "      <td>741863</td>\n",
       "      <td>1977</td>\n",
       "      <td>6059</td>\n",
       "    </tr>\n",
       "    <tr>\n",
       "      <th>1544036</th>\n",
       "      <td>3</td>\n",
       "      <td>3</td>\n",
       "      <td>2012</td>\n",
       "      <td>1183029</td>\n",
       "      <td>1956</td>\n",
       "      <td>6037</td>\n",
       "    </tr>\n",
       "    <tr>\n",
       "      <th>...</th>\n",
       "      <td>...</td>\n",
       "      <td>...</td>\n",
       "      <td>...</td>\n",
       "      <td>...</td>\n",
       "      <td>...</td>\n",
       "      <td>...</td>\n",
       "    </tr>\n",
       "    <tr>\n",
       "      <th>1466984</th>\n",
       "      <td>3</td>\n",
       "      <td>2</td>\n",
       "      <td>1488</td>\n",
       "      <td>125389</td>\n",
       "      <td>1974</td>\n",
       "      <td>6037</td>\n",
       "    </tr>\n",
       "    <tr>\n",
       "      <th>1459340</th>\n",
       "      <td>4</td>\n",
       "      <td>2</td>\n",
       "      <td>1705</td>\n",
       "      <td>291943</td>\n",
       "      <td>1952</td>\n",
       "      <td>6037</td>\n",
       "    </tr>\n",
       "    <tr>\n",
       "      <th>510240</th>\n",
       "      <td>3</td>\n",
       "      <td>2</td>\n",
       "      <td>1512</td>\n",
       "      <td>1174888</td>\n",
       "      <td>1931</td>\n",
       "      <td>6037</td>\n",
       "    </tr>\n",
       "    <tr>\n",
       "      <th>200824</th>\n",
       "      <td>3</td>\n",
       "      <td>2</td>\n",
       "      <td>1260</td>\n",
       "      <td>55872</td>\n",
       "      <td>1959</td>\n",
       "      <td>6037</td>\n",
       "    </tr>\n",
       "    <tr>\n",
       "      <th>1466235</th>\n",
       "      <td>3</td>\n",
       "      <td>2</td>\n",
       "      <td>1953</td>\n",
       "      <td>490727</td>\n",
       "      <td>1964</td>\n",
       "      <td>6037</td>\n",
       "    </tr>\n",
       "  </tbody>\n",
       "</table>\n",
       "<p>428584 rows × 6 columns</p>\n",
       "</div>"
      ],
      "text/plain": [
       "         bedrooms  bathrooms  area  tax_value year_built fips\n",
       "823653          3          1  1628     397049        195 6037\n",
       "228989          4          3  2754     774000        199 6037\n",
       "1529721         4          2  1320     310020       1972 6111\n",
       "2022915         4          3  3282     741863       1977 6059\n",
       "1544036         3          3  2012    1183029       1956 6037\n",
       "...           ...        ...   ...        ...        ...  ...\n",
       "1466984         3          2  1488     125389       1974 6037\n",
       "1459340         4          2  1705     291943       1952 6037\n",
       "510240          3          2  1512    1174888       1931 6037\n",
       "200824          3          2  1260      55872       1959 6037\n",
       "1466235         3          2  1953     490727       1964 6037\n",
       "\n",
       "[428584 rows x 6 columns]"
      ]
     },
     "execution_count": 31,
     "metadata": {},
     "output_type": "execute_result"
    }
   ],
   "source": [
    "test"
   ]
  },
  {
   "cell_type": "markdown",
   "id": "oriented-killing",
   "metadata": {},
   "source": [
    "# Formal Notebook"
   ]
  },
  {
   "cell_type": "markdown",
   "id": "basic-ideal",
   "metadata": {},
   "source": [
    "# Imports"
   ]
  },
  {
   "cell_type": "code",
   "execution_count": 32,
   "id": "designing-truck",
   "metadata": {},
   "outputs": [],
   "source": [
    "import pandas as pd\n",
    "\n",
    "import matplotlib.pyplot as plt\n",
    "import seaborn as sns\n",
    "\n",
    "from sklearn.model_selection import train_test_split\n",
    "from sklearn.impute import SimpleImputer\n",
    "\n",
    "import warnings\n",
    "warnings.filterwarnings(\"ignore\")\n",
    "\n",
    "from env import user, password, host\n",
    "import wrangle_exercise as w"
   ]
  },
  {
   "cell_type": "markdown",
   "id": "existing-ivory",
   "metadata": {},
   "source": [
    "# Acquire\n",
    "\n",
    "* Data acquired from Zillow database\n",
    "* Query selected single unit properties observed in 2017\n",
    "* Dataframe contained aprox. 2 million rows and 7 columns\n",
    "* Renamed some of the columns"
   ]
  },
  {
   "cell_type": "code",
   "execution_count": 33,
   "id": "entertaining-commons",
   "metadata": {},
   "outputs": [],
   "source": [
    "df = acquire_zillow()"
   ]
  },
  {
   "cell_type": "markdown",
   "id": "criminal-phoenix",
   "metadata": {},
   "source": [
    "## Veriable Distributions"
   ]
  },
  {
   "cell_type": "code",
   "execution_count": 35,
   "id": "hearing-sampling",
   "metadata": {},
   "outputs": [
    {
     "data": {
      "image/png": "[encoded data removed]",
      "text/plain": [
       "<Figure size 1152x216 with 5 Axes>"
      ]
     },
     "metadata": {
      "needs_background": "light"
     },
     "output_type": "display_data"
    }
   ],
   "source": [
    "get_hist(df)"
   ]
  },
  {
   "cell_type": "markdown",
   "id": "prerequisite-natural",
   "metadata": {},
   "source": [
    "* Takeaways"
   ]
  },
  {
   "cell_type": "code",
   "execution_count": 36,
   "id": "genetic-kitchen",
   "metadata": {},
   "outputs": [
    {
     "data": {
      "image/png": "[encoded data removed]",
      "text/plain": [
       "<Figure size 576x288 with 1 Axes>"
      ]
     },
     "metadata": {
      "needs_background": "light"
     },
     "output_type": "display_data"
    }
   ],
   "source": [
    "get_box(df)"
   ]
  },
  {
   "cell_type": "markdown",
   "id": "failing-immune",
   "metadata": {},
   "source": [
    "* Takeaways"
   ]
  },
  {
   "cell_type": "markdown",
   "id": "aware-sally",
   "metadata": {},
   "source": [
    "# Prepare\n",
    "\n",
    "* dropped rows with nulls in bedrooms and bathrooms because very fer lines were effected\n",
    "* dropped rows with nulls in year_built because imputing could skew the data due to the large number of rows containing nulls in that column\n",
    "* dropped rows with nulls in tax_value imputing the target variable seems dubious\n",
    "* dropped tax_ammount as it likely contains target leak. You must first know the tax_value of a property before you can calculate the correct tax ammount. Because we are predicting tax_value we will not know what the tax_amount is untill after the model has made it's predictions "
   ]
  },
  {
   "cell_type": "code",
   "execution_count": null,
   "id": "searching-shelf",
   "metadata": {},
   "outputs": [],
   "source": []
  },
  {
   "cell_type": "code",
   "execution_count": 37,
   "id": "appointed-photography",
   "metadata": {},
   "outputs": [
    {
     "name": "stdout",
     "output_type": "stream",
     "text": [
      "(2142916, 6)\n"
     ]
    }
   ],
   "source": [
    "train, validate, test = prepare_zillow(df)"
   ]
  },
  {
   "cell_type": "code",
   "execution_count": 38,
   "id": "close-quebec",
   "metadata": {},
   "outputs": [
    {
     "data": {
      "text/plain": [
       "(1200032, 6)"
      ]
     },
     "execution_count": 38,
     "metadata": {},
     "output_type": "execute_result"
    }
   ],
   "source": [
    "train.shape"
   ]
  },
  {
   "cell_type": "code",
   "execution_count": 39,
   "id": "exterior-dublin",
   "metadata": {},
   "outputs": [
    {
     "data": {
      "text/plain": [
       "(514300, 6)"
      ]
     },
     "execution_count": 39,
     "metadata": {},
     "output_type": "execute_result"
    }
   ],
   "source": [
    "validate.shape"
   ]
  },
  {
   "cell_type": "code",
   "execution_count": 40,
   "id": "imperial-entrepreneur",
   "metadata": {},
   "outputs": [
    {
     "data": {
      "text/plain": [
       "(428584, 6)"
      ]
     },
     "execution_count": 40,
     "metadata": {},
     "output_type": "execute_result"
    }
   ],
   "source": [
    "test.shape"
   ]
  },
  {
   "cell_type": "code",
   "execution_count": null,
   "id": "raising-anxiety",
   "metadata": {},
   "outputs": [],
   "source": []
  }
 ],
 "metadata": {
  "kernelspec": {
   "display_name": "Python 3",
   "language": "python",
   "name": "python3"
  },
  "language_info": {
   "codemirror_mode": {
    "name": "ipython",
    "version": 3
   },
   "file_extension": ".py",
   "mimetype": "text/x-python",
   "name": "python",
   "nbconvert_exporter": "python",
   "pygments_lexer": "ipython3",
   "version": "3.7.4"
  }
 },
 "nbformat": 4,
 "nbformat_minor": 5
}
