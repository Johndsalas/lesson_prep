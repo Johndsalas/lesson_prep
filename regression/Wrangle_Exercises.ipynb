{
 "cells": [
  {
   "cell_type": "markdown",
   "id": "sensitive-warrior",
   "metadata": {},
   "source": [
    "## As a Codeup data science graduate, you want to show off your skills to the Zillow data science team in hopes of getting an interview for a position you saw pop up on LinkedIn. You thought it might look impressive to build an end-to-end project in which you use some of their Kaggle data to predict property values using some of their available features; who knows, you might even do some feature engineering to blow them away. Your goal is to predict the values of single unit properties using the obervations from 2017.\n",
    "\n",
    "## In these exercises, you will complete the first step toward the above goal: acquire and prepare the necessary Zillow data from the zillow database in the Codeup database server.\n",
    "\n",
    "## Acquire bedroomcnt, bathroomcnt, calculatedfinishedsquarefeet, taxvaluedollarcnt, yearbuilt, taxamount, and fips from the zillow database for all 'Single Family Residential' properties.\n",
    "\n",
    "## Using your acquired Zillow data, walk through the summarization and cleaning steps in your wrangle.ipynb file like we did above. You may handle the missing values however you feel is appropriate and meaninful; remember to document your process and decisions using markdown and code commenting where helpful.\n",
    "\n",
    "## Store all of the necessary functions to automate your process from acquiring the data to returning a cleaned dataframe witn no missing values in your wrangle.py file. Name your final function wrangle_zillow."
   ]
  },
  {
   "cell_type": "markdown",
   "id": "accessory-presence",
   "metadata": {},
   "source": [
    "# Imports"
   ]
  },
  {
   "cell_type": "code",
   "execution_count": 20,
   "id": "twelve-evolution",
   "metadata": {},
   "outputs": [],
   "source": [
    "from env import user, password, host\n",
    "import pandas as pd\n",
    "import matplotlib.pyplot as plt\n",
    "import seaborn as sns\n"
   ]
  },
  {
   "cell_type": "code",
   "execution_count": 2,
   "id": "yellow-sarah",
   "metadata": {},
   "outputs": [
    {
     "data": {
      "text/html": [
       "<div>\n",
       "<style scoped>\n",
       "    .dataframe tbody tr th:only-of-type {\n",
       "        vertical-align: middle;\n",
       "    }\n",
       "\n",
       "    .dataframe tbody tr th {\n",
       "        vertical-align: top;\n",
       "    }\n",
       "\n",
       "    .dataframe thead th {\n",
       "        text-align: right;\n",
       "    }\n",
       "</style>\n",
       "<table border=\"1\" class=\"dataframe\">\n",
       "  <thead>\n",
       "    <tr style=\"text-align: right;\">\n",
       "      <th></th>\n",
       "      <th>bedroomcnt</th>\n",
       "      <th>bathroomcnt</th>\n",
       "      <th>calculatedfinishedsquarefeet</th>\n",
       "      <th>taxvaluedollarcnt</th>\n",
       "      <th>yearbuilt</th>\n",
       "      <th>taxamount</th>\n",
       "      <th>fips</th>\n",
       "    </tr>\n",
       "  </thead>\n",
       "  <tbody>\n",
       "    <tr>\n",
       "      <th>0</th>\n",
       "      <td>0.0</td>\n",
       "      <td>0.0</td>\n",
       "      <td>NaN</td>\n",
       "      <td>27516.0</td>\n",
       "      <td>NaN</td>\n",
       "      <td>NaN</td>\n",
       "      <td>6037.0</td>\n",
       "    </tr>\n",
       "    <tr>\n",
       "      <th>1</th>\n",
       "      <td>0.0</td>\n",
       "      <td>0.0</td>\n",
       "      <td>NaN</td>\n",
       "      <td>10.0</td>\n",
       "      <td>NaN</td>\n",
       "      <td>NaN</td>\n",
       "      <td>6037.0</td>\n",
       "    </tr>\n",
       "    <tr>\n",
       "      <th>2</th>\n",
       "      <td>0.0</td>\n",
       "      <td>0.0</td>\n",
       "      <td>NaN</td>\n",
       "      <td>10.0</td>\n",
       "      <td>NaN</td>\n",
       "      <td>NaN</td>\n",
       "      <td>6037.0</td>\n",
       "    </tr>\n",
       "    <tr>\n",
       "      <th>3</th>\n",
       "      <td>0.0</td>\n",
       "      <td>0.0</td>\n",
       "      <td>NaN</td>\n",
       "      <td>2108.0</td>\n",
       "      <td>NaN</td>\n",
       "      <td>174.21</td>\n",
       "      <td>6037.0</td>\n",
       "    </tr>\n",
       "    <tr>\n",
       "      <th>4</th>\n",
       "      <td>4.0</td>\n",
       "      <td>2.0</td>\n",
       "      <td>3633.0</td>\n",
       "      <td>296425.0</td>\n",
       "      <td>2005.0</td>\n",
       "      <td>6941.39</td>\n",
       "      <td>6037.0</td>\n",
       "    </tr>\n",
       "    <tr>\n",
       "      <th>...</th>\n",
       "      <td>...</td>\n",
       "      <td>...</td>\n",
       "      <td>...</td>\n",
       "      <td>...</td>\n",
       "      <td>...</td>\n",
       "      <td>...</td>\n",
       "      <td>...</td>\n",
       "    </tr>\n",
       "    <tr>\n",
       "      <th>2213422</th>\n",
       "      <td>4.0</td>\n",
       "      <td>4.5</td>\n",
       "      <td>3127.0</td>\n",
       "      <td>536061.0</td>\n",
       "      <td>2014.0</td>\n",
       "      <td>6244.16</td>\n",
       "      <td>6059.0</td>\n",
       "    </tr>\n",
       "    <tr>\n",
       "      <th>2213423</th>\n",
       "      <td>0.0</td>\n",
       "      <td>0.0</td>\n",
       "      <td>NaN</td>\n",
       "      <td>208057.0</td>\n",
       "      <td>NaN</td>\n",
       "      <td>5783.88</td>\n",
       "      <td>6059.0</td>\n",
       "    </tr>\n",
       "    <tr>\n",
       "      <th>2213424</th>\n",
       "      <td>3.0</td>\n",
       "      <td>2.5</td>\n",
       "      <td>1974.0</td>\n",
       "      <td>424353.0</td>\n",
       "      <td>2015.0</td>\n",
       "      <td>5302.70</td>\n",
       "      <td>6059.0</td>\n",
       "    </tr>\n",
       "    <tr>\n",
       "      <th>2213425</th>\n",
       "      <td>2.0</td>\n",
       "      <td>1.0</td>\n",
       "      <td>798.0</td>\n",
       "      <td>469300.0</td>\n",
       "      <td>2006.0</td>\n",
       "      <td>5764.45</td>\n",
       "      <td>6037.0</td>\n",
       "    </tr>\n",
       "    <tr>\n",
       "      <th>2213426</th>\n",
       "      <td>4.0</td>\n",
       "      <td>4.0</td>\n",
       "      <td>2110.0</td>\n",
       "      <td>554009.0</td>\n",
       "      <td>2014.0</td>\n",
       "      <td>6761.20</td>\n",
       "      <td>6037.0</td>\n",
       "    </tr>\n",
       "  </tbody>\n",
       "</table>\n",
       "<p>2213427 rows × 7 columns</p>\n",
       "</div>"
      ],
      "text/plain": [
       "         bedroomcnt  bathroomcnt  calculatedfinishedsquarefeet  \\\n",
       "0               0.0          0.0                           NaN   \n",
       "1               0.0          0.0                           NaN   \n",
       "2               0.0          0.0                           NaN   \n",
       "3               0.0          0.0                           NaN   \n",
       "4               4.0          2.0                        3633.0   \n",
       "...             ...          ...                           ...   \n",
       "2213422         4.0          4.5                        3127.0   \n",
       "2213423         0.0          0.0                           NaN   \n",
       "2213424         3.0          2.5                        1974.0   \n",
       "2213425         2.0          1.0                         798.0   \n",
       "2213426         4.0          4.0                        2110.0   \n",
       "\n",
       "         taxvaluedollarcnt  yearbuilt  taxamount    fips  \n",
       "0                  27516.0        NaN        NaN  6037.0  \n",
       "1                     10.0        NaN        NaN  6037.0  \n",
       "2                     10.0        NaN        NaN  6037.0  \n",
       "3                   2108.0        NaN     174.21  6037.0  \n",
       "4                 296425.0     2005.0    6941.39  6037.0  \n",
       "...                    ...        ...        ...     ...  \n",
       "2213422           536061.0     2014.0    6244.16  6059.0  \n",
       "2213423           208057.0        NaN    5783.88  6059.0  \n",
       "2213424           424353.0     2015.0    5302.70  6059.0  \n",
       "2213425           469300.0     2006.0    5764.45  6037.0  \n",
       "2213426           554009.0     2014.0    6761.20  6037.0  \n",
       "\n",
       "[2213427 rows x 7 columns]"
      ]
     },
     "execution_count": 2,
     "metadata": {},
     "output_type": "execute_result"
    }
   ],
   "source": [
    "url = f\"mysql+pymysql://{user}:{password}@{host}/zillow\"\n",
    "    \n",
    "query = \"\"\"\n",
    "            \n",
    "SELECT bedroomcnt, bathroomcnt, calculatedfinishedsquarefeet, taxvaluedollarcnt, yearbuilt, taxamount, fips\n",
    "FROM properties_2017\n",
    "\n",
    "LEFT JOIN propertylandusetype USING(propertylandusetypeid)\n",
    "\n",
    "WHERE propertylandusedesc IN (\"Single Family Residential\", \n",
    "                              \"Mobile Home\", \n",
    "                              \"Manufactured\\, Modular\\, Prefabricated Homes\",\n",
    "                              \"Inferred Single Family Residential\",\n",
    "                              \"Patio Home\")\"\"\"\n",
    "    \n",
    "df = pd.read_sql(query, url)\n",
    "df"
   ]
  },
  {
   "cell_type": "markdown",
   "id": "amateur-sentence",
   "metadata": {},
   "source": [
    "## Are there any Null values?"
   ]
  },
  {
   "cell_type": "code",
   "execution_count": 3,
   "id": "designed-hollywood",
   "metadata": {},
   "outputs": [
    {
     "data": {
      "text/plain": [
       "bedroomcnt                         11\n",
       "bathroomcnt                        11\n",
       "calculatedfinishedsquarefeet    33034\n",
       "taxvaluedollarcnt               30986\n",
       "yearbuilt                       32982\n",
       "taxamount                       15263\n",
       "fips                                0\n",
       "dtype: int64"
      ]
     },
     "execution_count": 3,
     "metadata": {},
     "output_type": "execute_result"
    }
   ],
   "source": [
    "# get total of null values for each row\n",
    "df.isnull().sum()"
   ]
  },
  {
   "cell_type": "markdown",
   "id": "theoretical-flour",
   "metadata": {},
   "source": [
    "* dropping rows with nulls in bedroomcnt and bathroomcnt because there are very few of them\n",
    "* dropping rows with nulls in taxvalue dollor count, training the model to asociate data with a calculated column seems dubious"
   ]
  },
  {
   "cell_type": "code",
   "execution_count": 4,
   "id": "according-surgery",
   "metadata": {},
   "outputs": [],
   "source": [
    "df = df.dropna(subset = ['bedroomcnt','bathroomcnt', 'taxvaluedollarcnt'])"
   ]
  },
  {
   "cell_type": "code",
   "execution_count": 5,
   "id": "effective-separation",
   "metadata": {},
   "outputs": [
    {
     "data": {
      "text/plain": [
       "bedroomcnt                          0\n",
       "bathroomcnt                         0\n",
       "calculatedfinishedsquarefeet    31366\n",
       "taxvaluedollarcnt                   0\n",
       "yearbuilt                       31949\n",
       "taxamount                        8347\n",
       "fips                                0\n",
       "dtype: int64"
      ]
     },
     "execution_count": 5,
     "metadata": {},
     "output_type": "execute_result"
    }
   ],
   "source": [
    "df.isnull().sum()"
   ]
  },
  {
   "cell_type": "markdown",
   "id": "statistical-demonstration",
   "metadata": {},
   "source": [
    "* dropping column taxamount because it contains target leak"
   ]
  },
  {
   "cell_type": "code",
   "execution_count": 6,
   "id": "cultural-cancellation",
   "metadata": {},
   "outputs": [],
   "source": [
    "df = df.drop(columns = 'taxamount')"
   ]
  },
  {
   "cell_type": "code",
   "execution_count": 7,
   "id": "exposed-flavor",
   "metadata": {
    "scrolled": true
   },
   "outputs": [
    {
     "data": {
      "text/plain": [
       "bedroomcnt                          0\n",
       "bathroomcnt                         0\n",
       "calculatedfinishedsquarefeet    31366\n",
       "taxvaluedollarcnt                   0\n",
       "yearbuilt                       31949\n",
       "fips                                0\n",
       "dtype: int64"
      ]
     },
     "execution_count": 7,
     "metadata": {},
     "output_type": "execute_result"
    }
   ],
   "source": [
    "df.isnull().sum()"
   ]
  },
  {
   "cell_type": "code",
   "execution_count": 8,
   "id": "spoken-vatican",
   "metadata": {},
   "outputs": [
    {
     "data": {
      "text/plain": [
       "1955.0    84404\n",
       "1950.0    71687\n",
       "1954.0    69161\n",
       "1953.0    62339\n",
       "1956.0    61942\n",
       "          ...  \n",
       "1879.0        1\n",
       "1877.0        1\n",
       "1855.0        1\n",
       "1874.0        1\n",
       "1823.0        1\n",
       "Name: yearbuilt, Length: 153, dtype: int64"
      ]
     },
     "execution_count": 8,
     "metadata": {},
     "output_type": "execute_result"
    }
   ],
   "source": [
    "# consider imputing year built\n",
    "df.yearbuilt.value_counts()"
   ]
  },
  {
   "cell_type": "markdown",
   "id": "caroline-sheffield",
   "metadata": {},
   "source": [
    "* because the number of rows with missing data in yearbuilt is almost half the number of the most frequent value, imputing the data using any one value would significantly skew the data I will therefore drop the rows containing nulls in this column"
   ]
  },
  {
   "cell_type": "code",
   "execution_count": 10,
   "id": "vertical-yemen",
   "metadata": {},
   "outputs": [
    {
     "data": {
      "text/plain": [
       "bedroomcnt                        0\n",
       "bathroomcnt                       0\n",
       "calculatedfinishedsquarefeet    899\n",
       "taxvaluedollarcnt                 0\n",
       "yearbuilt                         0\n",
       "fips                              0\n",
       "dtype: int64"
      ]
     },
     "execution_count": 10,
     "metadata": {},
     "output_type": "execute_result"
    }
   ],
   "source": [
    "df = df.dropna(subset = ['yearbuilt'])\n",
    "\n",
    "df.isnull().sum()"
   ]
  },
  {
   "cell_type": "code",
   "execution_count": 11,
   "id": "twelve-contamination",
   "metadata": {},
   "outputs": [
    {
     "data": {
      "text/html": [
       "<div>\n",
       "<style scoped>\n",
       "    .dataframe tbody tr th:only-of-type {\n",
       "        vertical-align: middle;\n",
       "    }\n",
       "\n",
       "    .dataframe tbody tr th {\n",
       "        vertical-align: top;\n",
       "    }\n",
       "\n",
       "    .dataframe thead th {\n",
       "        text-align: right;\n",
       "    }\n",
       "</style>\n",
       "<table border=\"1\" class=\"dataframe\">\n",
       "  <thead>\n",
       "    <tr style=\"text-align: right;\">\n",
       "      <th></th>\n",
       "      <th>bedroomcnt</th>\n",
       "      <th>bathroomcnt</th>\n",
       "      <th>calculatedfinishedsquarefeet</th>\n",
       "      <th>taxvaluedollarcnt</th>\n",
       "      <th>yearbuilt</th>\n",
       "      <th>fips</th>\n",
       "    </tr>\n",
       "  </thead>\n",
       "  <tbody>\n",
       "    <tr>\n",
       "      <th>count</th>\n",
       "      <td>2150481</td>\n",
       "      <td>2150481</td>\n",
       "      <td>2149582</td>\n",
       "      <td>2150481</td>\n",
       "      <td>2150481</td>\n",
       "      <td>2150481</td>\n",
       "    </tr>\n",
       "    <tr>\n",
       "      <th>mean</th>\n",
       "      <td>3</td>\n",
       "      <td>2</td>\n",
       "      <td>1862</td>\n",
       "      <td>459531</td>\n",
       "      <td>1961</td>\n",
       "      <td>6048</td>\n",
       "    </tr>\n",
       "    <tr>\n",
       "      <th>std</th>\n",
       "      <td>1</td>\n",
       "      <td>1</td>\n",
       "      <td>1221</td>\n",
       "      <td>678206</td>\n",
       "      <td>22</td>\n",
       "      <td>21</td>\n",
       "    </tr>\n",
       "    <tr>\n",
       "      <th>min</th>\n",
       "      <td>0</td>\n",
       "      <td>0</td>\n",
       "      <td>1</td>\n",
       "      <td>1</td>\n",
       "      <td>1801</td>\n",
       "      <td>6037</td>\n",
       "    </tr>\n",
       "    <tr>\n",
       "      <th>25%</th>\n",
       "      <td>3</td>\n",
       "      <td>2</td>\n",
       "      <td>1257</td>\n",
       "      <td>187830</td>\n",
       "      <td>1949</td>\n",
       "      <td>6037</td>\n",
       "    </tr>\n",
       "    <tr>\n",
       "      <th>50%</th>\n",
       "      <td>3</td>\n",
       "      <td>2</td>\n",
       "      <td>1621</td>\n",
       "      <td>327117</td>\n",
       "      <td>1958</td>\n",
       "      <td>6037</td>\n",
       "    </tr>\n",
       "    <tr>\n",
       "      <th>75%</th>\n",
       "      <td>4</td>\n",
       "      <td>3</td>\n",
       "      <td>2206</td>\n",
       "      <td>533298</td>\n",
       "      <td>1976</td>\n",
       "      <td>6059</td>\n",
       "    </tr>\n",
       "    <tr>\n",
       "      <th>max</th>\n",
       "      <td>25</td>\n",
       "      <td>32</td>\n",
       "      <td>952576</td>\n",
       "      <td>90188462</td>\n",
       "      <td>2016</td>\n",
       "      <td>6111</td>\n",
       "    </tr>\n",
       "  </tbody>\n",
       "</table>\n",
       "</div>"
      ],
      "text/plain": [
       "       bedroomcnt  bathroomcnt  calculatedfinishedsquarefeet  \\\n",
       "count     2150481      2150481                       2149582   \n",
       "mean            3            2                          1862   \n",
       "std             1            1                          1221   \n",
       "min             0            0                             1   \n",
       "25%             3            2                          1257   \n",
       "50%             3            2                          1621   \n",
       "75%             4            3                          2206   \n",
       "max            25           32                        952576   \n",
       "\n",
       "       taxvaluedollarcnt  yearbuilt    fips  \n",
       "count            2150481    2150481 2150481  \n",
       "mean              459531       1961    6048  \n",
       "std               678206         22      21  \n",
       "min                    1       1801    6037  \n",
       "25%               187830       1949    6037  \n",
       "50%               327117       1958    6037  \n",
       "75%               533298       1976    6059  \n",
       "max             90188462       2016    6111  "
      ]
     },
     "execution_count": 11,
     "metadata": {},
     "output_type": "execute_result"
    }
   ],
   "source": [
    "pd.set_option('display.float_format', lambda x: '%.0f' % x)\n",
    "df.describe()"
   ]
  },
  {
   "cell_type": "code",
   "execution_count": 12,
   "id": "excessive-conservative",
   "metadata": {},
   "outputs": [],
   "source": [
    "pd.reset_option('display.float_format')"
   ]
  },
  {
   "cell_type": "markdown",
   "id": "divided-benjamin",
   "metadata": {},
   "source": [
    "* Given the extream outliers, I plan on imputing calculatedfinishedsquarefeet based on the median or mode once the data is split"
   ]
  },
  {
   "cell_type": "markdown",
   "id": "pending-burst",
   "metadata": {},
   "source": [
    "## Are the column data types correct?"
   ]
  },
  {
   "cell_type": "code",
   "execution_count": 13,
   "id": "hollywood-explanation",
   "metadata": {},
   "outputs": [
    {
     "name": "stdout",
     "output_type": "stream",
     "text": [
      "<class 'pandas.core.frame.DataFrame'>\n",
      "Int64Index: 2150481 entries, 4 to 2213426\n",
      "Data columns (total 6 columns):\n",
      " #   Column                        Dtype  \n",
      "---  ------                        -----  \n",
      " 0   bedroomcnt                    float64\n",
      " 1   bathroomcnt                   float64\n",
      " 2   calculatedfinishedsquarefeet  float64\n",
      " 3   taxvaluedollarcnt             float64\n",
      " 4   yearbuilt                     float64\n",
      " 5   fips                          float64\n",
      "dtypes: float64(6)\n",
      "memory usage: 114.8 MB\n"
     ]
    }
   ],
   "source": [
    "df.info()"
   ]
  },
  {
   "cell_type": "code",
   "execution_count": 17,
   "id": "wooden-retreat",
   "metadata": {
    "scrolled": false
   },
   "outputs": [
    {
     "name": "stdout",
     "output_type": "stream",
     "text": [
      "BEDROOMCNT\n",
      "3     965162\n",
      "4     634254\n",
      "2     336127\n",
      "5     150806\n",
      "6      25159\n",
      "1      23062\n",
      "0       9507\n",
      "7       4805\n",
      "8       1106\n",
      "9        290\n",
      "10       121\n",
      "11        34\n",
      "13        15\n",
      "12        13\n",
      "14         7\n",
      "15         6\n",
      "16         3\n",
      "18         3\n",
      "25         1\n",
      "Name: bedroomcnt, dtype: int64\n",
      "~~~~~~~~~~~~~~~~~~~~~~~~~~~~~~~~~~~~\n",
      "\n",
      "BATHROOMCNT\n",
      "2.00     945720\n",
      "3.00     422786\n",
      "1.00     413833\n",
      "2.50     142862\n",
      "4.00      82139\n",
      "1.50      31168\n",
      "3.50      28474\n",
      "5.00      28352\n",
      "4.50      19477\n",
      "6.00      10746\n",
      "0.00       9358\n",
      "5.50       6202\n",
      "7.00       4395\n",
      "8.00       1688\n",
      "6.50       1330\n",
      "9.00        712\n",
      "7.50        382\n",
      "10.00       326\n",
      "11.00       145\n",
      "8.50        108\n",
      "12.00        74\n",
      "9.50         50\n",
      "13.00        39\n",
      "14.00        25\n",
      "15.00        17\n",
      "0.50         16\n",
      "10.50        14\n",
      "16.00        12\n",
      "18.00         8\n",
      "20.00         6\n",
      "17.00         4\n",
      "1.75          3\n",
      "12.50         3\n",
      "11.50         3\n",
      "14.50         1\n",
      "32.00         1\n",
      "19.50         1\n",
      "19.00         1\n",
      "Name: bathroomcnt, dtype: int64\n",
      "~~~~~~~~~~~~~~~~~~~~~~~~~~~~~~~~~~~~\n",
      "\n",
      "CALCULATEDFINISHEDSQUAREFEET\n",
      "1200.0     5283\n",
      "1440.0     4469\n",
      "1120.0     4442\n",
      "1080.0     4420\n",
      "1344.0     3976\n",
      "           ... \n",
      "11686.0       1\n",
      "11791.0       1\n",
      "14962.0       1\n",
      "7116.0        1\n",
      "13701.0       1\n",
      "Name: calculatedfinishedsquarefeet, Length: 10573, dtype: int64\n",
      "~~~~~~~~~~~~~~~~~~~~~~~~~~~~~~~~~~~~\n",
      "\n",
      "TAXVALUEDOLLARCNT\n",
      "450000.0     821\n",
      "500000.0     776\n",
      "400000.0     725\n",
      "430000.0     690\n",
      "440000.0     684\n",
      "            ... \n",
      "369722.0       1\n",
      "490760.0       1\n",
      "222695.0       1\n",
      "441716.0       1\n",
      "1436013.0      1\n",
      "Name: taxvaluedollarcnt, Length: 590155, dtype: int64\n",
      "~~~~~~~~~~~~~~~~~~~~~~~~~~~~~~~~~~~~\n",
      "\n",
      "YEARBUILT\n",
      "1955    84404\n",
      "1950    71687\n",
      "1954    69161\n",
      "1953    62339\n",
      "1956    61942\n",
      "        ...  \n",
      "1840        1\n",
      "1833        1\n",
      "1823        1\n",
      "1879        1\n",
      "1807        1\n",
      "Name: yearbuilt, Length: 153, dtype: int64\n",
      "~~~~~~~~~~~~~~~~~~~~~~~~~~~~~~~~~~~~\n",
      "\n",
      "FIPS\n",
      "6037.0    1430069\n",
      "6059.0     552442\n",
      "6111.0     167970\n",
      "Name: fips, dtype: int64\n",
      "~~~~~~~~~~~~~~~~~~~~~~~~~~~~~~~~~~~~\n",
      "\n"
     ]
    }
   ],
   "source": [
    "# get value counts and decide on data types\n",
    "cols = df.columns\n",
    "\n",
    "for col in cols:\n",
    "    \n",
    "    print(col.upper())\n",
    "    print(df[col].value_counts())\n",
    "    print('~~~~~~~~~~~~~~~~~~~~~~~~~~~~~~~~~~~~')\n",
    "    print()"
   ]
  },
  {
   "cell_type": "markdown",
   "id": "peaceful-protection",
   "metadata": {},
   "source": [
    "* casting fips and year built as an object because it is a numerical represintation of a catagorical value\n",
    "* leaving the rest as floats"
   ]
  },
  {
   "cell_type": "code",
   "execution_count": 15,
   "id": "incomplete-premises",
   "metadata": {},
   "outputs": [
    {
     "name": "stderr",
     "output_type": "stream",
     "text": [
      "/usr/local/anaconda3/lib/python3.7/site-packages/pandas/core/generic.py:5491: SettingWithCopyWarning: \n",
      "A value is trying to be set on a copy of a slice from a DataFrame.\n",
      "Try using .loc[row_indexer,col_indexer] = value instead\n",
      "\n",
      "See the caveats in the documentation: https://pandas.pydata.org/pandas-docs/stable/user_guide/indexing.html#returning-a-view-versus-a-copy\n",
      "  self[name] = value\n"
     ]
    }
   ],
   "source": [
    "df.fips = df.fips.astype(object)\n",
    "df.yearbuilt = df.yearbuilt.astype(int)\n",
    "df.bedroomcnt = df.bedroomcnt.astype(int)"
   ]
  },
  {
   "cell_type": "code",
   "execution_count": 16,
   "id": "adjusted-showcase",
   "metadata": {},
   "outputs": [
    {
     "name": "stdout",
     "output_type": "stream",
     "text": [
      "<class 'pandas.core.frame.DataFrame'>\n",
      "Int64Index: 2150481 entries, 4 to 2213426\n",
      "Data columns (total 6 columns):\n",
      " #   Column                        Dtype  \n",
      "---  ------                        -----  \n",
      " 0   bedroomcnt                    int64  \n",
      " 1   bathroomcnt                   float64\n",
      " 2   calculatedfinishedsquarefeet  float64\n",
      " 3   taxvaluedollarcnt             float64\n",
      " 4   yearbuilt                     int64  \n",
      " 5   fips                          object \n",
      "dtypes: float64(3), int64(2), object(1)\n",
      "memory usage: 114.8+ MB\n"
     ]
    }
   ],
   "source": [
    "df.info()"
   ]
  },
  {
   "cell_type": "code",
   "execution_count": 18,
   "id": "electrical-diesel",
   "metadata": {},
   "outputs": [
    {
     "data": {
      "image/png": "[encoded data removed]",
      "text/plain": [
       "<Figure size 1152x216 with 5 Axes>"
      ]
     },
     "metadata": {
      "needs_background": "light"
     },
     "output_type": "display_data"
    }
   ],
   "source": [
    "plt.figure(figsize=(16, 3))\n",
    "\n",
    "# List of columns\n",
    "cols = [col for col in df.columns if col != 'fips']\n",
    "\n",
    "for i, col in enumerate(cols):\n",
    "\n",
    "    # i starts at 0, but plot nos should start at 1\n",
    "    plot_number = i + 1 \n",
    "\n",
    "    # Create subplot.\n",
    "    plt.subplot(1,5, plot_number)\n",
    "\n",
    "    # Title with column name.\n",
    "    plt.title(col)\n",
    "\n",
    "    # Display histogram for column.\n",
    "    df[col].hist(bins=5)\n",
    "\n",
    "    # Hide gridlines.\n",
    "    plt.grid(False)"
   ]
  },
  {
   "cell_type": "code",
   "execution_count": 23,
   "id": "threaded-neighborhood",
   "metadata": {},
   "outputs": [
    {
     "data": {
      "image/png": "[encoded data removed]",
      "text/plain": [
       "<Figure size 576x288 with 1 Axes>"
      ]
     },
     "metadata": {
      "needs_background": "light"
     },
     "output_type": "display_data"
    }
   ],
   "source": [
    "plt.figure(figsize=(8,4))\n",
    "\n",
    "\n",
    "sns.boxplot(data=df.drop(columns=['fips']))\n",
    "plt.show()"
   ]
  },
  {
   "cell_type": "code",
   "execution_count": null,
   "id": "verified-fleet",
   "metadata": {},
   "outputs": [],
   "source": []
  }
 ],
 "metadata": {
  "kernelspec": {
   "display_name": "Python 3",
   "language": "python",
   "name": "python3"
  },
  "language_info": {
   "codemirror_mode": {
    "name": "ipython",
    "version": 3
   },
   "file_extension": ".py",
   "mimetype": "text/x-python",
   "name": "python",
   "nbconvert_exporter": "python",
   "pygments_lexer": "ipython3",
   "version": "3.7.4"
  }
 },
 "nbformat": 4,
 "nbformat_minor": 5
}
