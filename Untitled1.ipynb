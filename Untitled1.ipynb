{
 "cells": [
  {
   "cell_type": "code",
   "execution_count": 2,
   "id": "other-family",
   "metadata": {},
   "outputs": [],
   "source": [
    "shopping_cart = {\n",
    "                    \"tax\": .08,\n",
    "                    \"items\": [\n",
    "                                {\n",
    "                                    \"title\": \"orange juice\",\n",
    "                                    \"price\": 3.99,\n",
    "                                    \"quantity\": 1\n",
    "                                },\n",
    "                                {\n",
    "                                    \"title\": \"rice\",\n",
    "                                    \"price\": 1.99,\n",
    "                                    \"quantity\": 3\n",
    "                                },\n",
    "                                {\n",
    "                                    \"title\": \"beans\",\n",
    "                                    \"price\": 0.99,\n",
    "                                    \"quantity\": 3\n",
    "                                },\n",
    "                                {\n",
    "                                    \"title\": \"chili sauce\",\n",
    "                                    \"price\": 2.99,\n",
    "                                    \"quantity\": 1\n",
    "                                },\n",
    "                                {\n",
    "                                    \"title\": \"chocolate\",\n",
    "                                    \"price\": 0.75,\n",
    "                                    \"quantity\": 9\n",
    "                                }\n",
    "                            ]\n",
    "}"
   ]
  },
  {
   "cell_type": "code",
   "execution_count": 3,
   "id": "threaded-coalition",
   "metadata": {},
   "outputs": [
    {
     "data": {
      "text/plain": [
       "[{'title': 'orange juice', 'price': 3.99, 'quantity': 1},\n",
       " {'title': 'rice', 'price': 1.99, 'quantity': 3},\n",
       " {'title': 'beans', 'price': 0.99, 'quantity': 3},\n",
       " {'title': 'chili sauce', 'price': 2.99, 'quantity': 1},\n",
       " {'title': 'chocolate', 'price': 0.75, 'quantity': 9}]"
      ]
     },
     "execution_count": 3,
     "metadata": {},
     "output_type": "execute_result"
    }
   ],
   "source": [
    "shopping_cart[\"items\"]"
   ]
  },
  {
   "cell_type": "code",
   "execution_count": 4,
   "id": "rental-institute",
   "metadata": {},
   "outputs": [
    {
     "data": {
      "text/plain": [
       "5"
      ]
     },
     "execution_count": 4,
     "metadata": {},
     "output_type": "execute_result"
    }
   ],
   "source": [
    "len(shopping_cart[\"items\"])"
   ]
  },
  {
   "cell_type": "code",
   "execution_count": 5,
   "id": "proved-height",
   "metadata": {},
   "outputs": [
    {
     "data": {
      "text/plain": [
       "5"
      ]
     },
     "execution_count": 5,
     "metadata": {},
     "output_type": "execute_result"
    }
   ],
   "source": [
    "count = 0\n",
    "\n",
    "for item in shopping_cart[\"items\"]:\n",
    "    count +=1\n",
    "    \n",
    "count"
   ]
  },
  {
   "cell_type": "code",
   "execution_count": 6,
   "id": "spare-disposal",
   "metadata": {},
   "outputs": [],
   "source": [
    "def unique_items(shopping_cart):\n",
    "    \n",
    "    return len(shopping_cart[\"items\"])"
   ]
  },
  {
   "cell_type": "code",
   "execution_count": 7,
   "id": "metropolitan-exploration",
   "metadata": {},
   "outputs": [
    {
     "data": {
      "text/plain": [
       "5"
      ]
     },
     "execution_count": 7,
     "metadata": {},
     "output_type": "execute_result"
    }
   ],
   "source": [
    "unique_items(shopping_cart)"
   ]
  },
  {
   "cell_type": "code",
   "execution_count": 10,
   "id": "grave-ecology",
   "metadata": {},
   "outputs": [],
   "source": [
    "def unique_items(dictionary):\n",
    "    \n",
    "    count = 0\n",
    "\n",
    "    for item in dictionary[\"items\"]:\n",
    "        count +=1\n",
    "    \n",
    "    return count"
   ]
  },
  {
   "cell_type": "code",
   "execution_count": 11,
   "id": "heavy-seattle",
   "metadata": {},
   "outputs": [
    {
     "data": {
      "text/plain": [
       "5"
      ]
     },
     "execution_count": 11,
     "metadata": {},
     "output_type": "execute_result"
    }
   ],
   "source": [
    "unique_items(shopping_cart)"
   ]
  },
  {
   "cell_type": "code",
   "execution_count": 13,
   "id": "several-baseline",
   "metadata": {},
   "outputs": [
    {
     "ename": "TypeError",
     "evalue": "unsupported operand type(s) for +=: 'int' and 'str'",
     "output_type": "error",
     "traceback": [
      "\u001b[0;31m---------------------------------------------------------------------------\u001b[0m",
      "\u001b[0;31mTypeError\u001b[0m                                 Traceback (most recent call last)",
      "\u001b[0;32m<ipython-input-13-2f9ed85d28dc>\u001b[0m in \u001b[0;36m<module>\u001b[0;34m\u001b[0m\n\u001b[1;32m      3\u001b[0m \u001b[0;32mfor\u001b[0m \u001b[0mitem\u001b[0m \u001b[0;32min\u001b[0m \u001b[0mshopping_cart\u001b[0m\u001b[0;34m[\u001b[0m\u001b[0;34m\"items\"\u001b[0m\u001b[0;34m]\u001b[0m\u001b[0;34m:\u001b[0m\u001b[0;34m\u001b[0m\u001b[0;34m\u001b[0m\u001b[0m\n\u001b[1;32m      4\u001b[0m \u001b[0;34m\u001b[0m\u001b[0m\n\u001b[0;32m----> 5\u001b[0;31m     \u001b[0mtotal_price\u001b[0m \u001b[0;34m+=\u001b[0m \u001b[0mitem\u001b[0m\u001b[0;34m[\u001b[0m\u001b[0;34m'title'\u001b[0m\u001b[0;34m]\u001b[0m\u001b[0;34m\u001b[0m\u001b[0;34m\u001b[0m\u001b[0m\n\u001b[0m\u001b[1;32m      6\u001b[0m \u001b[0;34m\u001b[0m\u001b[0m\n\u001b[1;32m      7\u001b[0m \u001b[0mtotal_price\u001b[0m\u001b[0;34m\u001b[0m\u001b[0;34m\u001b[0m\u001b[0m\n",
      "\u001b[0;31mTypeError\u001b[0m: unsupported operand type(s) for +=: 'int' and 'str'"
     ]
    }
   ],
   "source": [
    "total_price = 0\n",
    "\n",
    "for item in shopping_cart[\"items\"]:\n",
    "    \n",
    "    total_price += item['title']\n",
    "    \n",
    "total_price"
   ]
  },
  {
   "cell_type": "code",
   "execution_count": 14,
   "id": "alike-symphony",
   "metadata": {},
   "outputs": [
    {
     "data": {
      "text/plain": [
       "['orange juice', 'rice', 'beans', 'chili sauce', 'chocolate']"
      ]
     },
     "execution_count": 14,
     "metadata": {},
     "output_type": "execute_result"
    }
   ],
   "source": [
    "li = []\n",
    "\n",
    "for item in shopping_cart[\"items\"]:\n",
    "    \n",
    "    li.append(item['title'])\n",
    "    \n",
    "li"
   ]
  },
  {
   "cell_type": "code",
   "execution_count": null,
   "id": "micro-stream",
   "metadata": {},
   "outputs": [],
   "source": [
    "li = [1,2,3]\n",
    "li2 = [5,6,7]"
   ]
  },
  {
   "cell_type": "code",
   "execution_count": 15,
   "id": "incomplete-bracket",
   "metadata": {},
   "outputs": [],
   "source": [
    "def my_func(li):\n",
    "    \n",
    "    fin_list = []\n",
    "    \n",
    "    for number in li:\n",
    "        \n",
    "        fin_list.append(number+1)\n",
    "   \n",
    "    return fin_list"
   ]
  },
  {
   "cell_type": "code",
   "execution_count": 16,
   "id": "moved-homework",
   "metadata": {},
   "outputs": [
    {
     "data": {
      "text/plain": [
       "[2, 3, 4]"
      ]
     },
     "execution_count": 16,
     "metadata": {},
     "output_type": "execute_result"
    }
   ],
   "source": [
    "my_func([1,2,3])"
   ]
  },
  {
   "cell_type": "code",
   "execution_count": 17,
   "id": "varying-basin",
   "metadata": {},
   "outputs": [],
   "source": [
    "shopping_cart = {\n",
    "                    \"tax\": .08,\n",
    "                    \"items\": [\n",
    "                                {\n",
    "                                    \"title\": \"orange juice\",\n",
    "                                    \"price\": 3.99,\n",
    "                                    \"quantity\": 1\n",
    "                                },\n",
    "                                {\n",
    "                                    \"title\": \"rice\",\n",
    "                                    \"price\": 1.99,\n",
    "                                    \"quantity\": 3\n",
    "                                },\n",
    "                                {\n",
    "                                    \"title\": \"beans\",\n",
    "                                    \"price\": 0.99,\n",
    "                                    \"quantity\": 3\n",
    "                                },\n",
    "                                {\n",
    "                                    \"title\": \"chili sauce\",\n",
    "                                    \"price\": 2.99,\n",
    "                                    \"quantity\": 1\n",
    "                                },\n",
    "                                {\n",
    "                                    \"title\": \"chocolate\",\n",
    "                                    \"price\": 0.75,\n",
    "                                    \"quantity\": 9\n",
    "                                }\n",
    "                            ]\n",
    "}"
   ]
  },
  {
   "cell_type": "code",
   "execution_count": 20,
   "id": "impressed-smart",
   "metadata": {},
   "outputs": [
    {
     "data": {
      "text/plain": [
       "{'title': 'chocolate', 'price': 0.75, 'quantity': 9}"
      ]
     },
     "execution_count": 20,
     "metadata": {},
     "output_type": "execute_result"
    }
   ],
   "source": [
    "\n",
    "high_price = 0\n",
    "\n",
    "high_dict = {}\n",
    "\n",
    "for item in shopping_cart['items']:\n",
    "     \n",
    "    if (item['price'] * item['quantity']) > high_price:\n",
    "        \n",
    "        high_price = (item['price'] * item['quantity'])\n",
    "        \n",
    "        high_dict = item\n",
    "\n",
    "high_dict"
   ]
  },
  {
   "cell_type": "code",
   "execution_count": 22,
   "id": "touched-summer",
   "metadata": {},
   "outputs": [],
   "source": [
    "tukey_paper = {\n",
    "                \"title\": \"The Future of Data Analysis\",\n",
    "                \"author\": \"John W. Tukey\",\n",
    "                \"link\": \"https://projecteuclid.org/euclid.aoms/1177704711\",\n",
    "                \"year_published\": 1962\n",
    "            }\n",
    "\n",
    "thomas_paper = {\n",
    "                    \"title\": \"A mathematical model of glutathione metabolism\",\n",
    "                    \"author\": \"Rachel Thomas\",\n",
    "                    \"link\": \"https://www.ncbi.nlm.nih.gov/pubmed/18442411\",\n",
    "                    \"year_published\": 2008\n",
    "                }"
   ]
  },
  {
   "cell_type": "code",
   "execution_count": 23,
   "id": "given-trust",
   "metadata": {},
   "outputs": [
    {
     "data": {
      "text/plain": [
       "'The Future of Data Analysis'"
      ]
     },
     "execution_count": 23,
     "metadata": {},
     "output_type": "execute_result"
    }
   ],
   "source": [
    "tukey_paper[\"title\"]"
   ]
  },
  {
   "cell_type": "code",
   "execution_count": 25,
   "id": "spread-company",
   "metadata": {},
   "outputs": [],
   "source": [
    "def get_title(di):\n",
    "    \n",
    "    return di['title']"
   ]
  },
  {
   "cell_type": "code",
   "execution_count": 26,
   "id": "private-affairs",
   "metadata": {},
   "outputs": [
    {
     "data": {
      "text/plain": [
       "'A mathematical model of glutathione metabolism'"
      ]
     },
     "execution_count": 26,
     "metadata": {},
     "output_type": "execute_result"
    }
   ],
   "source": [
    "get_title(thomas_paper)"
   ]
  },
  {
   "cell_type": "code",
   "execution_count": 29,
   "id": "lucky-lightning",
   "metadata": {},
   "outputs": [
    {
     "data": {
      "text/plain": [
       "'m'"
      ]
     },
     "execution_count": 29,
     "metadata": {},
     "output_type": "execute_result"
    }
   ],
   "source": [
    "string = \"myword\"\n",
    "\n",
    "string[0]"
   ]
  },
  {
   "cell_type": "code",
   "execution_count": 30,
   "id": "intellectual-compilation",
   "metadata": {},
   "outputs": [
    {
     "data": {
      "text/plain": [
       "'yword'"
      ]
     },
     "execution_count": 30,
     "metadata": {},
     "output_type": "execute_result"
    }
   ],
   "source": [
    "string[1:]"
   ]
  },
  {
   "cell_type": "code",
   "execution_count": 31,
   "id": "endless-staff",
   "metadata": {},
   "outputs": [
    {
     "data": {
      "text/plain": [
       "'ywordm'"
      ]
     },
     "execution_count": 31,
     "metadata": {},
     "output_type": "execute_result"
    }
   ],
   "source": [
    "string[1:] + string[0]"
   ]
  },
  {
   "cell_type": "code",
   "execution_count": null,
   "id": "standard-month",
   "metadata": {},
   "outputs": [],
   "source": []
  }
 ],
 "metadata": {
  "kernelspec": {
   "display_name": "Python 3",
   "language": "python",
   "name": "python3"
  },
  "language_info": {
   "codemirror_mode": {
    "name": "ipython",
    "version": 3
   },
   "file_extension": ".py",
   "mimetype": "text/x-python",
   "name": "python",
   "nbconvert_exporter": "python",
   "pygments_lexer": "ipython3",
   "version": "3.7.4"
  }
 },
 "nbformat": 4,
 "nbformat_minor": 5
}
