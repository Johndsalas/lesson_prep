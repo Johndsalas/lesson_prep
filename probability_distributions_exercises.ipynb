{
 "cells": [
  {
   "cell_type": "code",
   "execution_count": 6,
   "id": "controlling-utility",
   "metadata": {},
   "outputs": [],
   "source": [
    "import numpy as np\n",
    "import pandas as pd\n",
    "import random\n",
    "\n",
    "from math import e, factorial\n",
    "\n",
    "import matplotlib.pyplot as plt"
   ]
  },
  {
   "cell_type": "markdown",
   "id": "simplified-moisture",
   "metadata": {},
   "source": [
    "### 1) A bank found that the average number of cars waiting during the noon hour at a drive-up window follows a Poisson distribution with a mean of 2 cars. Make a chart of this distribution."
   ]
  },
  {
   "cell_type": "code",
   "execution_count": 15,
   "id": "close-worker",
   "metadata": {},
   "outputs": [
    {
     "data": {
      "image/png": "[encoded data removed]",
      "text/plain": [
       "<Figure size 432x288 with 1 Axes>"
      ]
     },
     "metadata": {
      "needs_background": "light"
     },
     "output_type": "display_data"
    }
   ],
   "source": [
    "mean = 2\n",
    "\n",
    "X = [r for r in range(6)]\n",
    "\n",
    "y = [((e**-mean) * (mean**x)) / (factorial(x)) for x in X]\n",
    "\n",
    "plt.bar(X,y)\n",
    "plt.title(\"Distribution of the number of cars at a Bank's drive-up window at Noon\")\n",
    "plt.show()"
   ]
  },
  {
   "cell_type": "code",
   "execution_count": 12,
   "id": "british-community",
   "metadata": {},
   "outputs": [
    {
     "data": {
      "text/plain": [
       "0.1804470443154836"
      ]
     },
     "execution_count": 12,
     "metadata": {},
     "output_type": "execute_result"
    }
   ],
   "source": [
    "(e**-mean)*(mean**3)/factorial(3)"
   ]
  },
  {
   "cell_type": "markdown",
   "id": "restricted-roommate",
   "metadata": {},
   "source": [
    "### a) What is the probability that no cars drive up in the noon hour?"
   ]
  },
  {
   "cell_type": "code",
   "execution_count": null,
   "id": "sealed-partnership",
   "metadata": {},
   "outputs": [],
   "source": []
  },
  {
   "cell_type": "markdown",
   "id": "serial-convenience",
   "metadata": {},
   "source": [
    "### b) What is the probability that 3 or more cars come through the drive through?"
   ]
  },
  {
   "cell_type": "markdown",
   "id": "declared-collins",
   "metadata": {},
   "source": [
    "### c) How likely is it that the drive through gets at least 1 car?"
   ]
  },
  {
   "cell_type": "markdown",
   "id": "unauthorized-herald",
   "metadata": {},
   "source": [
    "### 2) Grades of State University graduates are normally distributed with a mean of 3.0 and a standard deviation of .3 Calculate the following:"
   ]
  },
  {
   "cell_type": "markdown",
   "id": "discrete-feature",
   "metadata": {},
   "source": [
    "### a) What grade point average is required to be in the top 5% of the graduating class?"
   ]
  },
  {
   "cell_type": "markdown",
   "id": "ambient-oxford",
   "metadata": {},
   "source": [
    "### b) What GPA constitutes the bottom 15% of the class?"
   ]
  },
  {
   "cell_type": "markdown",
   "id": "fossil-momentum",
   "metadata": {},
   "source": [
    "### c)An eccentric alumnus left scholarship money for students in the third decile from the bottom of their class. Determine the range of the third decile. "
   ]
  },
  {
   "cell_type": "markdown",
   "id": "fundamental-municipality",
   "metadata": {},
   "source": [
    "### d)Would a student with a 2.8 grade point average qualify for this scholarship?"
   ]
  },
  {
   "cell_type": "markdown",
   "id": "sustainable-rough",
   "metadata": {},
   "source": [
    "### e)If I have a GPA of 3.5, what percentile am I in?"
   ]
  },
  {
   "cell_type": "markdown",
   "id": "substantial-detector",
   "metadata": {},
   "source": [
    "### 3) A marketing website has an average click-through rate of 2%. One day they observe 4326 visitors and 97 click-throughs. How likely is it that this many people or more click through?"
   ]
  },
  {
   "cell_type": "markdown",
   "id": "immediate-oregon",
   "metadata": {},
   "source": [
    "### 4) You are working on some statistics homework consisting of 100 questions where all of the answers are a probability rounded to the hundreths place. Looking to save time, you put down random probabilities as the answer to each question.What is the probability that at least one of your first 60 answers is correct?"
   ]
  },
  {
   "cell_type": "markdown",
   "id": "incorporated-income",
   "metadata": {},
   "source": [
    "### 5) The codeup staff tends to get upset when the student break area is not cleaned up. Suppose that there's a 3% chance that any one student cleans the break area when they visit it, and, on any given day, about 90% of the 3 active cohorts of 22 students visit the break area. How likely is it that the break area gets cleaned up each day? How likely is it that it goes two days without getting cleaned up? All week?"
   ]
  },
  {
   "cell_type": "markdown",
   "id": "satellite-personality",
   "metadata": {},
   "source": [
    "### 6) You want to get lunch at La Panaderia, but notice that the line is usually very long at lunchtime. After several weeks of careful observation, you notice that the average number of people in line when your lunch break starts is normally distributed with a mean of 15 and standard deviation of 3. If it takes 2 minutes for each person to order, and 10 minutes from ordering to getting your food, what is the likelihood that you have at least 15 minutes left to eat your food before you have to go back to class? Assume you have one hour for lunch, and ignore travel time to and from La Panaderia."
   ]
  },
  {
   "cell_type": "markdown",
   "id": "internal-jimmy",
   "metadata": {},
   "source": [
    "### 7) Connect to the employees database and find the average salary of current employees, along with the standard deviation. For the following questions, calculate the answer based on modeling the employees salaries with a normal distribution defined by the calculated mean and standard deviation then compare this answer to the actual values present in the salaries dataset."
   ]
  },
  {
   "cell_type": "markdown",
   "id": "weekly-timber",
   "metadata": {},
   "source": [
    "### a) What percent of employees earn less than 60,000?"
   ]
  },
  {
   "cell_type": "markdown",
   "id": "aboriginal-cartridge",
   "metadata": {},
   "source": [
    "### b) What percent of employees earn more than 95,000?"
   ]
  },
  {
   "cell_type": "markdown",
   "id": "transsexual-machinery",
   "metadata": {},
   "source": [
    "### c) What percent of employees earn between 65,000 and 80,000?"
   ]
  },
  {
   "cell_type": "markdown",
   "id": "accredited-integration",
   "metadata": {},
   "source": [
    "### d) What do the top 5% of employees make?"
   ]
  },
  {
   "cell_type": "code",
   "execution_count": null,
   "id": "injured-camping",
   "metadata": {},
   "outputs": [],
   "source": []
  }
 ],
 "metadata": {
  "kernelspec": {
   "display_name": "Python 3",
   "language": "python",
   "name": "python3"
  },
  "language_info": {
   "codemirror_mode": {
    "name": "ipython",
    "version": 3
   },
   "file_extension": ".py",
   "mimetype": "text/x-python",
   "name": "python",
   "nbconvert_exporter": "python",
   "pygments_lexer": "ipython3",
   "version": "3.7.4"
  }
 },
 "nbformat": 4,
 "nbformat_minor": 5
}
