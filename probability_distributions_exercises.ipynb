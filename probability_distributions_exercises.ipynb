{
 "cells": [
  {
   "cell_type": "markdown",
   "id": "interracial-silver",
   "metadata": {},
   "source": [
    "# Probability Distributions Review"
   ]
  },
  {
   "cell_type": "code",
   "execution_count": 1,
   "id": "controlling-utility",
   "metadata": {},
   "outputs": [],
   "source": [
    "import numpy as np\n",
    "import pandas as pd\n",
    "import random\n",
    "\n",
    "from scipy import stats\n",
    "from math import e, factorial\n",
    "from env import user, host, password\n",
    "\n",
    "import matplotlib.pyplot as plt"
   ]
  },
  {
   "cell_type": "markdown",
   "id": "typical-tuition",
   "metadata": {},
   "source": [
    "# Distribution Characteristics\n",
    "\n",
    "### Uniform Distribution\n",
    "* Each outcome is discrete\n",
    "* Each outcome is equally likely\n",
    "* Example: Rolling a fair die\n",
    "\n",
    "### Binomial Distribution\n",
    "* Defined by a number of trials and the probability of success for each trial\n",
    "* Models the number of successes after a given number of trials\n",
    "* Each trial is assumed to be independent \n",
    "* Example: Number of heads flipped after flipping 5 fair coins\n",
    "\n",
    "### Normal Distribution\n",
    "* Defined by a mean and standard deviation\n",
    "* Models a continuous variable\n",
    "* the further away from the mean you are the less likely the outcome\n",
    "* Distribution is bell\" shaped\n",
    "* Example: Most physical measurements such as hight, speed, or strength fall on a normal distribution\n",
    "\n",
    "### Poisson Distribution\n",
    "* Defined by an average number of events occuring over a specified amount of time\n",
    "* Events are assumed to be independant\n",
    "* Number of events has no upper limit\n",
    "* This distribution can tell us the likelyhood that a given number of the specified events occur in the specified amount of time\n",
    "* Example: Number of Emails sent to a server in one day"
   ]
  },
  {
   "cell_type": "markdown",
   "id": "conservative-theology",
   "metadata": {},
   "source": [
    "# Scipy Stats Modules\n",
    "\n",
    "### Probability Mass Function (discrete) / Probability Density Function (continuous)\n",
    "* .pmf()\n",
    "* .pdf()\n",
    "* Takes in a value\n",
    "* Returns the probability of randomly choosing that value from the distribution\n",
    "\n",
    "### Cumulative Density Function\n",
    "* .cdf()\n",
    "* Takes in a value\n",
    "* Returns the probability of randomly choosing that value or lower from the distribution\n",
    "* Returns the percent of data that is equal to or below that value in the distribution\n",
    "\n",
    "### Percent Point Function\n",
    "* .ppf()\n",
    "* Takes in a percentage  \n",
    "* Returns a value at which the given percentage of data is below that value in the distribution\n",
    "\n",
    "### Survival Function \n",
    "* .sf()\n",
    "* Take in a value\n",
    "* Returns the probability of of randomly choosing a higher value from the distribution\n",
    "* Returns the percent of data that is higher than that value in the distribution\n",
    "\n",
    "### Inverse Survival Function\n",
    "* .isf()\n",
    "* Takes in a probability\n",
    "* Returns a value at which the given percentage of data is above that value in the distribution"
   ]
  },
  {
   "cell_type": "markdown",
   "id": "simplified-moisture",
   "metadata": {},
   "source": [
    "### 1) A bank found that the average number of cars waiting during the noon hour at a drive-up window follows a Poisson distribution with a mean of 2 cars. Make a chart of this distribution."
   ]
  },
  {
   "cell_type": "code",
   "execution_count": 2,
   "id": "close-worker",
   "metadata": {},
   "outputs": [
    {
     "data": {
      "image/png": "[encoded data removed]",
      "text/plain": [
       "<Figure size 432x288 with 1 Axes>"
      ]
     },
     "metadata": {
      "needs_background": "light"
     },
     "output_type": "display_data"
    }
   ],
   "source": [
    "mean = 2\n",
    "\n",
    "X = [r for r in range(7)]\n",
    "\n",
    "y = [((e**-mean) * (mean**x)) / (factorial(x)) for x in X]\n",
    "\n",
    "plt.bar(X,y)\n",
    "plt.title(\"Likelyhood of N number of cars appearing at this Bank's drive-up window at Noon\")\n",
    "plt.show()"
   ]
  },
  {
   "cell_type": "markdown",
   "id": "restricted-roommate",
   "metadata": {},
   "source": [
    "### a) What is the probability that no cars drive up in the noon hour?"
   ]
  },
  {
   "cell_type": "code",
   "execution_count": 3,
   "id": "ambient-apple",
   "metadata": {},
   "outputs": [],
   "source": [
    "mean = 2\n",
    "target = 0"
   ]
  },
  {
   "cell_type": "code",
   "execution_count": 4,
   "id": "sealed-partnership",
   "metadata": {},
   "outputs": [
    {
     "data": {
      "text/plain": [
       "0.1353352832366127"
      ]
     },
     "execution_count": 4,
     "metadata": {},
     "output_type": "execute_result"
    }
   ],
   "source": [
    "stats.poisson(mean).pmf(target)"
   ]
  },
  {
   "cell_type": "markdown",
   "id": "proved-elements",
   "metadata": {},
   "source": [
    "### Simulation"
   ]
  },
  {
   "cell_type": "code",
   "execution_count": 5,
   "id": "several-validation",
   "metadata": {},
   "outputs": [
    {
     "data": {
      "text/html": [
       "<div>\n",
       "<style scoped>\n",
       "    .dataframe tbody tr th:only-of-type {\n",
       "        vertical-align: middle;\n",
       "    }\n",
       "\n",
       "    .dataframe tbody tr th {\n",
       "        vertical-align: top;\n",
       "    }\n",
       "\n",
       "    .dataframe thead th {\n",
       "        text-align: right;\n",
       "    }\n",
       "</style>\n",
       "<table border=\"1\" class=\"dataframe\">\n",
       "  <thead>\n",
       "    <tr style=\"text-align: right;\">\n",
       "      <th></th>\n",
       "      <th>0</th>\n",
       "    </tr>\n",
       "  </thead>\n",
       "  <tbody>\n",
       "    <tr>\n",
       "      <th>0</th>\n",
       "      <td>2</td>\n",
       "    </tr>\n",
       "    <tr>\n",
       "      <th>1</th>\n",
       "      <td>1</td>\n",
       "    </tr>\n",
       "    <tr>\n",
       "      <th>2</th>\n",
       "      <td>2</td>\n",
       "    </tr>\n",
       "    <tr>\n",
       "      <th>3</th>\n",
       "      <td>3</td>\n",
       "    </tr>\n",
       "    <tr>\n",
       "      <th>4</th>\n",
       "      <td>2</td>\n",
       "    </tr>\n",
       "  </tbody>\n",
       "</table>\n",
       "</div>"
      ],
      "text/plain": [
       "   0\n",
       "0  2\n",
       "1  1\n",
       "2  2\n",
       "3  3\n",
       "4  2"
      ]
     },
     "execution_count": 5,
     "metadata": {},
     "output_type": "execute_result"
    }
   ],
   "source": [
    "nrows = 100_000 # set nrows to number of simulations\n",
    "ncols = 1       # set ncolumns to number of dice rolled in each simulation\n",
    "\n",
    "# create an nrows by ncols dataframe for the simulation\n",
    "rolls = np.random.poisson(mean, nrows * ncols).reshape(nrows, ncols) \n",
    "\n",
    "df = pd.DataFrame(rolls)\n",
    "df.head()"
   ]
  },
  {
   "cell_type": "code",
   "execution_count": 6,
   "id": "recognized-sullivan",
   "metadata": {},
   "outputs": [
    {
     "data": {
      "text/html": [
       "<div>\n",
       "<style scoped>\n",
       "    .dataframe tbody tr th:only-of-type {\n",
       "        vertical-align: middle;\n",
       "    }\n",
       "\n",
       "    .dataframe tbody tr th {\n",
       "        vertical-align: top;\n",
       "    }\n",
       "\n",
       "    .dataframe thead th {\n",
       "        text-align: right;\n",
       "    }\n",
       "</style>\n",
       "<table border=\"1\" class=\"dataframe\">\n",
       "  <thead>\n",
       "    <tr style=\"text-align: right;\">\n",
       "      <th></th>\n",
       "      <th>0</th>\n",
       "      <th>zero_cars</th>\n",
       "    </tr>\n",
       "  </thead>\n",
       "  <tbody>\n",
       "    <tr>\n",
       "      <th>0</th>\n",
       "      <td>2</td>\n",
       "      <td>False</td>\n",
       "    </tr>\n",
       "    <tr>\n",
       "      <th>1</th>\n",
       "      <td>1</td>\n",
       "      <td>False</td>\n",
       "    </tr>\n",
       "    <tr>\n",
       "      <th>2</th>\n",
       "      <td>2</td>\n",
       "      <td>False</td>\n",
       "    </tr>\n",
       "    <tr>\n",
       "      <th>3</th>\n",
       "      <td>3</td>\n",
       "      <td>False</td>\n",
       "    </tr>\n",
       "    <tr>\n",
       "      <th>4</th>\n",
       "      <td>2</td>\n",
       "      <td>False</td>\n",
       "    </tr>\n",
       "  </tbody>\n",
       "</table>\n",
       "</div>"
      ],
      "text/plain": [
       "   0  zero_cars\n",
       "0  2      False\n",
       "1  1      False\n",
       "2  2      False\n",
       "3  3      False\n",
       "4  2      False"
      ]
     },
     "execution_count": 6,
     "metadata": {},
     "output_type": "execute_result"
    }
   ],
   "source": [
    "# add calculation columns\n",
    "df['zero_cars'] = df[0] == target\n",
    "df.head()"
   ]
  },
  {
   "cell_type": "code",
   "execution_count": 7,
   "id": "optical-raising",
   "metadata": {},
   "outputs": [
    {
     "name": "stdout",
     "output_type": "stream",
     "text": [
      "the odds of seeing 0 cars at the bank at noon are 13%\n"
     ]
    }
   ],
   "source": [
    "# get mean of True / False columns \n",
    "# format and print results\n",
    "no_cars = int(round(df.zero_cars.mean(),2) * 100)\n",
    "\n",
    "print(f\"the odds of seeing {target} cars at the bank at noon are {no_cars}%\")"
   ]
  },
  {
   "cell_type": "markdown",
   "id": "serial-convenience",
   "metadata": {},
   "source": [
    "### b) What is the probability that 3 or more cars come through the drive through?"
   ]
  },
  {
   "cell_type": "code",
   "execution_count": 9,
   "id": "hollow-province",
   "metadata": {},
   "outputs": [],
   "source": [
    "mean = 2\n",
    "target = 3"
   ]
  },
  {
   "cell_type": "code",
   "execution_count": 10,
   "id": "compliant-combination",
   "metadata": {},
   "outputs": [
    {
     "data": {
      "text/plain": [
       "0.32332358381693654"
      ]
     },
     "execution_count": 10,
     "metadata": {},
     "output_type": "execute_result"
    }
   ],
   "source": [
    "stats.poisson(mean).sf(target-1)"
   ]
  },
  {
   "cell_type": "markdown",
   "id": "racial-postage",
   "metadata": {},
   "source": [
    "### Simulation"
   ]
  },
  {
   "cell_type": "code",
   "execution_count": 11,
   "id": "determined-stand",
   "metadata": {},
   "outputs": [
    {
     "data": {
      "text/html": [
       "<div>\n",
       "<style scoped>\n",
       "    .dataframe tbody tr th:only-of-type {\n",
       "        vertical-align: middle;\n",
       "    }\n",
       "\n",
       "    .dataframe tbody tr th {\n",
       "        vertical-align: top;\n",
       "    }\n",
       "\n",
       "    .dataframe thead th {\n",
       "        text-align: right;\n",
       "    }\n",
       "</style>\n",
       "<table border=\"1\" class=\"dataframe\">\n",
       "  <thead>\n",
       "    <tr style=\"text-align: right;\">\n",
       "      <th></th>\n",
       "      <th>0</th>\n",
       "      <th>zero_cars</th>\n",
       "    </tr>\n",
       "  </thead>\n",
       "  <tbody>\n",
       "    <tr>\n",
       "      <th>0</th>\n",
       "      <td>2</td>\n",
       "      <td>False</td>\n",
       "    </tr>\n",
       "    <tr>\n",
       "      <th>1</th>\n",
       "      <td>2</td>\n",
       "      <td>False</td>\n",
       "    </tr>\n",
       "    <tr>\n",
       "      <th>2</th>\n",
       "      <td>2</td>\n",
       "      <td>False</td>\n",
       "    </tr>\n",
       "    <tr>\n",
       "      <th>3</th>\n",
       "      <td>1</td>\n",
       "      <td>False</td>\n",
       "    </tr>\n",
       "    <tr>\n",
       "      <th>4</th>\n",
       "      <td>2</td>\n",
       "      <td>False</td>\n",
       "    </tr>\n",
       "  </tbody>\n",
       "</table>\n",
       "</div>"
      ],
      "text/plain": [
       "   0  zero_cars\n",
       "0  2      False\n",
       "1  2      False\n",
       "2  2      False\n",
       "3  1      False\n",
       "4  2      False"
      ]
     },
     "execution_count": 11,
     "metadata": {},
     "output_type": "execute_result"
    }
   ],
   "source": [
    "nrows = 100_000 # set nrows to number of simulations\n",
    "ncols = 1       # set ncolumns to number of dice rolled in each simulation\n",
    "\n",
    "# create an nrows by ncols dataframe for the simulation\n",
    "rolls = np.random.poisson(mean, nrows * ncols).reshape(nrows, ncols) \n",
    "\n",
    "df = pd.DataFrame(rolls)\n",
    "df.head()\n",
    "\n",
    "# add calculation columns\n",
    "df['zero_cars'] = df[0] >= target\n",
    "df.head()"
   ]
  },
  {
   "cell_type": "code",
   "execution_count": 12,
   "id": "economic-yacht",
   "metadata": {},
   "outputs": [
    {
     "name": "stdout",
     "output_type": "stream",
     "text": [
      "the odds of seeing 3 cars at the bank at noon are 32%\n"
     ]
    }
   ],
   "source": [
    "# get mean of True / False columns \n",
    "# format and print results\n",
    "no_cars = int(round(df.zero_cars.mean(),2) * 100)\n",
    "\n",
    "print(f\"the odds of seeing {target} cars at the bank at noon are {no_cars}%\")"
   ]
  },
  {
   "cell_type": "markdown",
   "id": "declared-collins",
   "metadata": {},
   "source": [
    "### c) How likely is it that the drive through gets at least 1 car?"
   ]
  },
  {
   "cell_type": "code",
   "execution_count": 13,
   "id": "seasonal-member",
   "metadata": {},
   "outputs": [],
   "source": [
    "mean = 2\n",
    "target = 1"
   ]
  },
  {
   "cell_type": "code",
   "execution_count": 14,
   "id": "polished-privilege",
   "metadata": {},
   "outputs": [
    {
     "data": {
      "text/plain": [
       "0.8646647167633873"
      ]
     },
     "execution_count": 14,
     "metadata": {},
     "output_type": "execute_result"
    }
   ],
   "source": [
    "stats.poisson(mean).sf(target-1)"
   ]
  },
  {
   "cell_type": "markdown",
   "id": "bottom-external",
   "metadata": {},
   "source": [
    "### Simulation"
   ]
  },
  {
   "cell_type": "code",
   "execution_count": 15,
   "id": "floral-condition",
   "metadata": {},
   "outputs": [
    {
     "data": {
      "text/html": [
       "<div>\n",
       "<style scoped>\n",
       "    .dataframe tbody tr th:only-of-type {\n",
       "        vertical-align: middle;\n",
       "    }\n",
       "\n",
       "    .dataframe tbody tr th {\n",
       "        vertical-align: top;\n",
       "    }\n",
       "\n",
       "    .dataframe thead th {\n",
       "        text-align: right;\n",
       "    }\n",
       "</style>\n",
       "<table border=\"1\" class=\"dataframe\">\n",
       "  <thead>\n",
       "    <tr style=\"text-align: right;\">\n",
       "      <th></th>\n",
       "      <th>0</th>\n",
       "      <th>zero_cars</th>\n",
       "    </tr>\n",
       "  </thead>\n",
       "  <tbody>\n",
       "    <tr>\n",
       "      <th>0</th>\n",
       "      <td>3</td>\n",
       "      <td>True</td>\n",
       "    </tr>\n",
       "    <tr>\n",
       "      <th>1</th>\n",
       "      <td>1</td>\n",
       "      <td>True</td>\n",
       "    </tr>\n",
       "    <tr>\n",
       "      <th>2</th>\n",
       "      <td>0</td>\n",
       "      <td>False</td>\n",
       "    </tr>\n",
       "    <tr>\n",
       "      <th>3</th>\n",
       "      <td>5</td>\n",
       "      <td>True</td>\n",
       "    </tr>\n",
       "    <tr>\n",
       "      <th>4</th>\n",
       "      <td>5</td>\n",
       "      <td>True</td>\n",
       "    </tr>\n",
       "  </tbody>\n",
       "</table>\n",
       "</div>"
      ],
      "text/plain": [
       "   0  zero_cars\n",
       "0  3       True\n",
       "1  1       True\n",
       "2  0      False\n",
       "3  5       True\n",
       "4  5       True"
      ]
     },
     "execution_count": 15,
     "metadata": {},
     "output_type": "execute_result"
    }
   ],
   "source": [
    "nrows = 100_000 # set nrows to number of simulations\n",
    "ncols = 1       # set ncolumns to number of dice rolled in each simulation\n",
    "\n",
    "# create an nrows by ncols dataframe for the simulation\n",
    "rolls = np.random.poisson(mean, nrows * ncols).reshape(nrows, ncols) \n",
    "\n",
    "df = pd.DataFrame(rolls)\n",
    "df.head()\n",
    "\n",
    "# add calculation columns\n",
    "df['zero_cars'] = df[0] >= target\n",
    "df.head()"
   ]
  },
  {
   "cell_type": "code",
   "execution_count": 16,
   "id": "direct-switzerland",
   "metadata": {},
   "outputs": [
    {
     "name": "stdout",
     "output_type": "stream",
     "text": [
      "the odds of seeing 1 cars at the bank at noon are 87%\n"
     ]
    }
   ],
   "source": [
    "# get mean of True / False columns \n",
    "# format and print results\n",
    "no_cars = int(round(df.zero_cars.mean(),2) * 100)\n",
    "\n",
    "print(f\"the odds of seeing {target} cars at the bank at noon are {no_cars}%\")"
   ]
  },
  {
   "cell_type": "markdown",
   "id": "unauthorized-herald",
   "metadata": {},
   "source": [
    "### 2) Grades of State University graduates are normally distributed with a mean of 3.0 and a standard deviation of .3 Calculate the following:"
   ]
  },
  {
   "cell_type": "code",
   "execution_count": 17,
   "id": "interpreted-trial",
   "metadata": {},
   "outputs": [],
   "source": [
    "mean = 3\n",
    "sd = .3"
   ]
  },
  {
   "cell_type": "markdown",
   "id": "discrete-feature",
   "metadata": {},
   "source": [
    "### a) What grade point average is required to be in the top 5% of the graduating class?"
   ]
  },
  {
   "cell_type": "code",
   "execution_count": 18,
   "id": "august-moderator",
   "metadata": {},
   "outputs": [
    {
     "data": {
      "text/plain": [
       "3.4934560880854417"
      ]
     },
     "execution_count": 18,
     "metadata": {},
     "output_type": "execute_result"
    }
   ],
   "source": [
    "stats.norm(mean, sd).ppf(.95)"
   ]
  },
  {
   "cell_type": "code",
   "execution_count": 19,
   "id": "valued-modification",
   "metadata": {},
   "outputs": [
    {
     "data": {
      "text/plain": [
       "3.4934560880854417"
      ]
     },
     "execution_count": 19,
     "metadata": {},
     "output_type": "execute_result"
    }
   ],
   "source": [
    "stats.norm(mean, sd).isf(.05)"
   ]
  },
  {
   "cell_type": "markdown",
   "id": "bizarre-turkey",
   "metadata": {},
   "source": [
    "### Simulation"
   ]
  },
  {
   "cell_type": "code",
   "execution_count": 20,
   "id": "parallel-spring",
   "metadata": {},
   "outputs": [
    {
     "data": {
      "text/html": [
       "<div>\n",
       "<style scoped>\n",
       "    .dataframe tbody tr th:only-of-type {\n",
       "        vertical-align: middle;\n",
       "    }\n",
       "\n",
       "    .dataframe tbody tr th {\n",
       "        vertical-align: top;\n",
       "    }\n",
       "\n",
       "    .dataframe thead th {\n",
       "        text-align: right;\n",
       "    }\n",
       "</style>\n",
       "<table border=\"1\" class=\"dataframe\">\n",
       "  <thead>\n",
       "    <tr style=\"text-align: right;\">\n",
       "      <th></th>\n",
       "      <th>0</th>\n",
       "      <th>rank</th>\n",
       "    </tr>\n",
       "  </thead>\n",
       "  <tbody>\n",
       "    <tr>\n",
       "      <th>0</th>\n",
       "      <td>2.870483</td>\n",
       "      <td>6</td>\n",
       "    </tr>\n",
       "    <tr>\n",
       "      <th>1</th>\n",
       "      <td>3.383010</td>\n",
       "      <td>17</td>\n",
       "    </tr>\n",
       "    <tr>\n",
       "      <th>2</th>\n",
       "      <td>2.435501</td>\n",
       "      <td>0</td>\n",
       "    </tr>\n",
       "    <tr>\n",
       "      <th>3</th>\n",
       "      <td>2.564841</td>\n",
       "      <td>1</td>\n",
       "    </tr>\n",
       "    <tr>\n",
       "      <th>4</th>\n",
       "      <td>3.040312</td>\n",
       "      <td>11</td>\n",
       "    </tr>\n",
       "  </tbody>\n",
       "</table>\n",
       "</div>"
      ],
      "text/plain": [
       "          0  rank\n",
       "0  2.870483     6\n",
       "1  3.383010    17\n",
       "2  2.435501     0\n",
       "3  2.564841     1\n",
       "4  3.040312    11"
      ]
     },
     "execution_count": 20,
     "metadata": {},
     "output_type": "execute_result"
    }
   ],
   "source": [
    "nrows = 100_000 # set nrows to number of simulations\n",
    "ncols = 1       # set ncolumns to number of dice rolled in each simulation\n",
    "\n",
    "# create an nrows by ncols dataframe for the simulation\n",
    "rolls = np.random.normal(mean, sd, nrows * ncols).reshape(nrows, ncols) \n",
    "\n",
    "df = pd.DataFrame(rolls)\n",
    "\n",
    "# add calculation columns\n",
    "df['rank'] = pd.qcut(df[0], q=20, labels=False)\n",
    "df.head()"
   ]
  },
  {
   "cell_type": "code",
   "execution_count": 21,
   "id": "utility-pointer",
   "metadata": {},
   "outputs": [
    {
     "data": {
      "text/html": [
       "<div>\n",
       "<style scoped>\n",
       "    .dataframe tbody tr th:only-of-type {\n",
       "        vertical-align: middle;\n",
       "    }\n",
       "\n",
       "    .dataframe tbody tr th {\n",
       "        vertical-align: top;\n",
       "    }\n",
       "\n",
       "    .dataframe thead th {\n",
       "        text-align: right;\n",
       "    }\n",
       "</style>\n",
       "<table border=\"1\" class=\"dataframe\">\n",
       "  <thead>\n",
       "    <tr style=\"text-align: right;\">\n",
       "      <th></th>\n",
       "      <th>0</th>\n",
       "      <th>rank</th>\n",
       "    </tr>\n",
       "  </thead>\n",
       "  <tbody>\n",
       "    <tr>\n",
       "      <th>10</th>\n",
       "      <td>3.601961</td>\n",
       "      <td>19</td>\n",
       "    </tr>\n",
       "    <tr>\n",
       "      <th>11</th>\n",
       "      <td>3.556556</td>\n",
       "      <td>19</td>\n",
       "    </tr>\n",
       "    <tr>\n",
       "      <th>25</th>\n",
       "      <td>3.511588</td>\n",
       "      <td>19</td>\n",
       "    </tr>\n",
       "    <tr>\n",
       "      <th>49</th>\n",
       "      <td>3.610555</td>\n",
       "      <td>19</td>\n",
       "    </tr>\n",
       "    <tr>\n",
       "      <th>66</th>\n",
       "      <td>3.625372</td>\n",
       "      <td>19</td>\n",
       "    </tr>\n",
       "  </tbody>\n",
       "</table>\n",
       "</div>"
      ],
      "text/plain": [
       "           0  rank\n",
       "10  3.601961    19\n",
       "11  3.556556    19\n",
       "25  3.511588    19\n",
       "49  3.610555    19\n",
       "66  3.625372    19"
      ]
     },
     "execution_count": 21,
     "metadata": {},
     "output_type": "execute_result"
    }
   ],
   "source": [
    "df = df[df['rank'] == 19]\n",
    "df.head()"
   ]
  },
  {
   "cell_type": "code",
   "execution_count": 22,
   "id": "legendary-entrepreneur",
   "metadata": {},
   "outputs": [
    {
     "data": {
      "text/plain": [
       "3.49380613953135"
      ]
     },
     "execution_count": 22,
     "metadata": {},
     "output_type": "execute_result"
    }
   ],
   "source": [
    "df[0].min()"
   ]
  },
  {
   "cell_type": "markdown",
   "id": "ambient-oxford",
   "metadata": {},
   "source": [
    "### b) What GPA constitutes the bottom 15% of the class?"
   ]
  },
  {
   "cell_type": "code",
   "execution_count": 23,
   "id": "recorded-pillow",
   "metadata": {},
   "outputs": [
    {
     "data": {
      "text/plain": [
       "2.689069983151863"
      ]
     },
     "execution_count": 23,
     "metadata": {},
     "output_type": "execute_result"
    }
   ],
   "source": [
    "stats.norm(mean, sd).ppf(.15)"
   ]
  },
  {
   "cell_type": "code",
   "execution_count": null,
   "id": "norman-segment",
   "metadata": {},
   "outputs": [],
   "source": [
    "nrows = 100_000 # set nrows to number of simulations\n",
    "ncols = 1       # set ncolumns to number of dice rolled in each simulation\n",
    "\n",
    "# create an nrows by ncols dataframe for the simulation\n",
    "rolls = np.random.poisson(mean, nrows * ncols).reshape(nrows, ncols) \n",
    "\n",
    "df = pd.DataFrame(rolls)\n",
    "df.head()\n",
    "\n",
    "# add calculation columns\n",
    "df['zero_cars'] = df[0] >= target\n",
    "df.head()"
   ]
  },
  {
   "cell_type": "code",
   "execution_count": null,
   "id": "committed-explorer",
   "metadata": {},
   "outputs": [],
   "source": [
    "stats.norm(mean, sd).isf(.85)"
   ]
  },
  {
   "cell_type": "markdown",
   "id": "loved-contamination",
   "metadata": {},
   "source": [
    "### Simulation"
   ]
  },
  {
   "cell_type": "code",
   "execution_count": 24,
   "id": "coordinate-enough",
   "metadata": {},
   "outputs": [
    {
     "data": {
      "text/plain": [
       "2.690728143906401"
      ]
     },
     "execution_count": 24,
     "metadata": {},
     "output_type": "execute_result"
    }
   ],
   "source": [
    "nrows = 100_000 # set nrows to number of simulations\n",
    "ncols = 1       # set ncolumns to number of dice rolled in each simulation\n",
    "\n",
    "# create an nrows by ncols dataframe for the simulation\n",
    "rolls = np.random.normal(mean, sd, nrows * ncols).reshape(nrows, ncols) \n",
    "\n",
    "df = pd.DataFrame(rolls)\n",
    "\n",
    "# add calculation columns\n",
    "df['rank'] = pd.qcut(df[0], q=20, labels=False)\n",
    "\n",
    "df = df[df['rank'] == 2]\n",
    "\n",
    "df[0].max()"
   ]
  },
  {
   "cell_type": "markdown",
   "id": "fossil-momentum",
   "metadata": {},
   "source": [
    "### c)An eccentric alumnus left scholarship money for students in the third decile from the bottom of their class. Determine the range of the third decile. "
   ]
  },
  {
   "cell_type": "code",
   "execution_count": null,
   "id": "handed-studio",
   "metadata": {},
   "outputs": [],
   "source": [
    "# .2 to .3 Third decile \n",
    "# .1 to .2\n",
    "# .0 to .1"
   ]
  },
  {
   "cell_type": "code",
   "execution_count": 25,
   "id": "colonial-legislature",
   "metadata": {},
   "outputs": [
    {
     "data": {
      "text/plain": [
       "2.7475136299281258"
      ]
     },
     "execution_count": 25,
     "metadata": {},
     "output_type": "execute_result"
    }
   ],
   "source": [
    "start = stats.norm(mean, sd).ppf(.20)\n",
    "start"
   ]
  },
  {
   "cell_type": "code",
   "execution_count": 26,
   "id": "liberal-italic",
   "metadata": {},
   "outputs": [
    {
     "data": {
      "text/plain": [
       "2.842679846187588"
      ]
     },
     "execution_count": 26,
     "metadata": {},
     "output_type": "execute_result"
    }
   ],
   "source": [
    "end = stats.norm(mean, sd).ppf(.30)\n",
    "end"
   ]
  },
  {
   "cell_type": "code",
   "execution_count": 27,
   "id": "dense-assist",
   "metadata": {},
   "outputs": [
    {
     "name": "stdout",
     "output_type": "stream",
     "text": [
      "The range of the third decile is from 2.75 to 2.84.\n"
     ]
    }
   ],
   "source": [
    "print(f\"The range of the third decile is from {round(start,2)} to {round(end,2)}.\")"
   ]
  },
  {
   "cell_type": "markdown",
   "id": "funny-occasion",
   "metadata": {},
   "source": [
    "### Simulation"
   ]
  },
  {
   "cell_type": "code",
   "execution_count": 28,
   "id": "vocal-matrix",
   "metadata": {},
   "outputs": [
    {
     "data": {
      "text/plain": [
       "2.746529847634203"
      ]
     },
     "execution_count": 28,
     "metadata": {},
     "output_type": "execute_result"
    }
   ],
   "source": [
    "nrows = 100_000 # set nrows to number of simulations\n",
    "ncols = 1       # set ncolumns to number of dice rolled in each simulation\n",
    "\n",
    "# create an nrows by ncols dataframe for the simulation\n",
    "rolls = np.random.normal(mean, sd, nrows * ncols).reshape(nrows, ncols) \n",
    "\n",
    "df = pd.DataFrame(rolls)\n",
    "\n",
    "# add calculation columns\n",
    "df['rank'] = pd.qcut(df[0], q=10, labels=False)\n",
    "\n",
    "df = df[df['rank'] == 2]\n",
    "\n",
    "df[0].min()"
   ]
  },
  {
   "cell_type": "code",
   "execution_count": 29,
   "id": "chemical-symphony",
   "metadata": {},
   "outputs": [
    {
     "data": {
      "text/plain": [
       "2.8412226171241413"
      ]
     },
     "execution_count": 29,
     "metadata": {},
     "output_type": "execute_result"
    }
   ],
   "source": [
    "df[0].max()"
   ]
  },
  {
   "cell_type": "markdown",
   "id": "fundamental-municipality",
   "metadata": {},
   "source": [
    "### d)Would a student with a 2.8 grade point average qualify for this scholarship?"
   ]
  },
  {
   "cell_type": "markdown",
   "id": "manual-laser",
   "metadata": {},
   "source": [
    "Yes"
   ]
  },
  {
   "cell_type": "markdown",
   "id": "sustainable-rough",
   "metadata": {},
   "source": [
    "### e)If I have a GPA of 3.5, what percentile am I in?"
   ]
  },
  {
   "cell_type": "code",
   "execution_count": 30,
   "id": "hairy-bacteria",
   "metadata": {},
   "outputs": [
    {
     "data": {
      "text/plain": [
       "0.9522096477271853"
      ]
     },
     "execution_count": 30,
     "metadata": {},
     "output_type": "execute_result"
    }
   ],
   "source": [
    "stats.norm(mean, sd).cdf(3.5)"
   ]
  },
  {
   "cell_type": "code",
   "execution_count": 31,
   "id": "architectural-desire",
   "metadata": {},
   "outputs": [
    {
     "name": "stdout",
     "output_type": "stream",
     "text": [
      "You are in the 95th percentile!\n"
     ]
    }
   ],
   "source": [
    "percentile = int(round(stats.norm(mean, sd).cdf(3.5),2) * 100)\n",
    "\n",
    "print(f\"You are in the {percentile}th percentile!\")"
   ]
  },
  {
   "cell_type": "markdown",
   "id": "banner-director",
   "metadata": {},
   "source": [
    "### Simulation"
   ]
  },
  {
   "cell_type": "code",
   "execution_count": 32,
   "id": "internal-framework",
   "metadata": {},
   "outputs": [
    {
     "data": {
      "text/plain": [
       "0.951"
      ]
     },
     "execution_count": 32,
     "metadata": {},
     "output_type": "execute_result"
    }
   ],
   "source": [
    "nrows = 100_000 # set nrows to number of simulations\n",
    "ncols = 1       # set ncolumns to number of dice rolled in each simulation\n",
    "\n",
    "# create an nrows by ncols dataframe for the simulation\n",
    "rolls = np.random.normal(mean, sd, nrows * ncols).reshape(nrows, ncols) \n",
    "\n",
    "df = pd.DataFrame(rolls)\n",
    "\n",
    "# amount of data over with scores > 3.5 divided by all the data \n",
    "len(df[df[0] < 3.5]) / len(df)"
   ]
  },
  {
   "cell_type": "markdown",
   "id": "substantial-detector",
   "metadata": {},
   "source": [
    "### 3) A marketing website has an average click-through rate of 2%. One day they observe 4326 visitors and 97 click-throughs. How likely is it that this many people or more click through?"
   ]
  },
  {
   "cell_type": "code",
   "execution_count": 33,
   "id": "fitted-sensitivity",
   "metadata": {},
   "outputs": [
    {
     "data": {
      "text/plain": [
       "0.1397582363130086"
      ]
     },
     "execution_count": 33,
     "metadata": {},
     "output_type": "execute_result"
    }
   ],
   "source": [
    "prob_success = .02\n",
    "n_trials = 4326\n",
    "\n",
    "target_successes = 97\n",
    "\n",
    "stats.binom(n_trials, prob_success).sf(target_successes-1)"
   ]
  },
  {
   "cell_type": "markdown",
   "id": "broke-coaching",
   "metadata": {},
   "source": [
    "### Simulation"
   ]
  },
  {
   "cell_type": "code",
   "execution_count": 34,
   "id": "broken-obligation",
   "metadata": {},
   "outputs": [
    {
     "data": {
      "text/html": [
       "<div>\n",
       "<style scoped>\n",
       "    .dataframe tbody tr th:only-of-type {\n",
       "        vertical-align: middle;\n",
       "    }\n",
       "\n",
       "    .dataframe tbody tr th {\n",
       "        vertical-align: top;\n",
       "    }\n",
       "\n",
       "    .dataframe thead th {\n",
       "        text-align: right;\n",
       "    }\n",
       "</style>\n",
       "<table border=\"1\" class=\"dataframe\">\n",
       "  <thead>\n",
       "    <tr style=\"text-align: right;\">\n",
       "      <th></th>\n",
       "      <th>0</th>\n",
       "      <th>97ish</th>\n",
       "    </tr>\n",
       "  </thead>\n",
       "  <tbody>\n",
       "    <tr>\n",
       "      <th>0</th>\n",
       "      <td>82</td>\n",
       "      <td>False</td>\n",
       "    </tr>\n",
       "    <tr>\n",
       "      <th>1</th>\n",
       "      <td>96</td>\n",
       "      <td>False</td>\n",
       "    </tr>\n",
       "    <tr>\n",
       "      <th>2</th>\n",
       "      <td>96</td>\n",
       "      <td>False</td>\n",
       "    </tr>\n",
       "    <tr>\n",
       "      <th>3</th>\n",
       "      <td>80</td>\n",
       "      <td>False</td>\n",
       "    </tr>\n",
       "    <tr>\n",
       "      <th>4</th>\n",
       "      <td>87</td>\n",
       "      <td>False</td>\n",
       "    </tr>\n",
       "  </tbody>\n",
       "</table>\n",
       "</div>"
      ],
      "text/plain": [
       "    0  97ish\n",
       "0  82  False\n",
       "1  96  False\n",
       "2  96  False\n",
       "3  80  False\n",
       "4  87  False"
      ]
     },
     "execution_count": 34,
     "metadata": {},
     "output_type": "execute_result"
    }
   ],
   "source": [
    "nrows = 100_000 # set nrows to number of simulations\n",
    "ncols = 1    # set ncolumns to number of dice rolled in each simulation\n",
    "\n",
    "# create an nrows by ncols dataframe for the simulation\n",
    "rolls = np.random.binomial(n_trials, prob_success, nrows * ncols).reshape(nrows, ncols) \n",
    "\n",
    "df = pd.DataFrame(rolls)\n",
    "\n",
    "# add calculated columns\n",
    "df['97ish'] = df[0] >= 97\n",
    "df.head()"
   ]
  },
  {
   "cell_type": "code",
   "execution_count": 35,
   "id": "characteristic-thomson",
   "metadata": {},
   "outputs": [
    {
     "data": {
      "text/plain": [
       "0.14"
      ]
     },
     "execution_count": 35,
     "metadata": {},
     "output_type": "execute_result"
    }
   ],
   "source": [
    "# get the mean of the True / False column\n",
    "df['97ish'].mean()"
   ]
  },
  {
   "cell_type": "markdown",
   "id": "immediate-oregon",
   "metadata": {},
   "source": [
    "### 4) You are working on some statistics homework consisting of 100 questions where all of the answers are a probability rounded to the hundreths place. Looking to save time, you put down random probabilities as the answer to each question.What is the probability that at least one of your first 60 answers is correct?"
   ]
  },
  {
   "cell_type": "code",
   "execution_count": 36,
   "id": "separate-market",
   "metadata": {},
   "outputs": [
    {
     "data": {
      "text/plain": [
       "0.4528433576092388"
      ]
     },
     "execution_count": 36,
     "metadata": {},
     "output_type": "execute_result"
    }
   ],
   "source": [
    "prob_success = .01\n",
    "n_trials = 60\n",
    "desired_successes = 1\n",
    "\n",
    "stats.binom(n_trials, prob_success).sf(desired_successes-1)"
   ]
  },
  {
   "cell_type": "markdown",
   "id": "spoken-involvement",
   "metadata": {},
   "source": [
    "### Simmulation"
   ]
  },
  {
   "cell_type": "code",
   "execution_count": 37,
   "id": "precious-porcelain",
   "metadata": {},
   "outputs": [
    {
     "data": {
      "text/html": [
       "<div>\n",
       "<style scoped>\n",
       "    .dataframe tbody tr th:only-of-type {\n",
       "        vertical-align: middle;\n",
       "    }\n",
       "\n",
       "    .dataframe tbody tr th {\n",
       "        vertical-align: top;\n",
       "    }\n",
       "\n",
       "    .dataframe thead th {\n",
       "        text-align: right;\n",
       "    }\n",
       "</style>\n",
       "<table border=\"1\" class=\"dataframe\">\n",
       "  <thead>\n",
       "    <tr style=\"text-align: right;\">\n",
       "      <th></th>\n",
       "      <th>0</th>\n",
       "      <th>1</th>\n",
       "      <th>2</th>\n",
       "      <th>3</th>\n",
       "      <th>4</th>\n",
       "      <th>5</th>\n",
       "      <th>6</th>\n",
       "      <th>7</th>\n",
       "      <th>8</th>\n",
       "      <th>9</th>\n",
       "      <th>...</th>\n",
       "      <th>51</th>\n",
       "      <th>52</th>\n",
       "      <th>53</th>\n",
       "      <th>54</th>\n",
       "      <th>55</th>\n",
       "      <th>56</th>\n",
       "      <th>57</th>\n",
       "      <th>58</th>\n",
       "      <th>59</th>\n",
       "      <th>correct</th>\n",
       "    </tr>\n",
       "  </thead>\n",
       "  <tbody>\n",
       "    <tr>\n",
       "      <th>0</th>\n",
       "      <td>False</td>\n",
       "      <td>False</td>\n",
       "      <td>False</td>\n",
       "      <td>False</td>\n",
       "      <td>False</td>\n",
       "      <td>False</td>\n",
       "      <td>False</td>\n",
       "      <td>False</td>\n",
       "      <td>True</td>\n",
       "      <td>False</td>\n",
       "      <td>...</td>\n",
       "      <td>False</td>\n",
       "      <td>False</td>\n",
       "      <td>False</td>\n",
       "      <td>False</td>\n",
       "      <td>False</td>\n",
       "      <td>False</td>\n",
       "      <td>False</td>\n",
       "      <td>False</td>\n",
       "      <td>False</td>\n",
       "      <td>True</td>\n",
       "    </tr>\n",
       "    <tr>\n",
       "      <th>1</th>\n",
       "      <td>False</td>\n",
       "      <td>False</td>\n",
       "      <td>False</td>\n",
       "      <td>False</td>\n",
       "      <td>False</td>\n",
       "      <td>False</td>\n",
       "      <td>False</td>\n",
       "      <td>False</td>\n",
       "      <td>False</td>\n",
       "      <td>False</td>\n",
       "      <td>...</td>\n",
       "      <td>False</td>\n",
       "      <td>False</td>\n",
       "      <td>False</td>\n",
       "      <td>False</td>\n",
       "      <td>False</td>\n",
       "      <td>False</td>\n",
       "      <td>False</td>\n",
       "      <td>False</td>\n",
       "      <td>False</td>\n",
       "      <td>False</td>\n",
       "    </tr>\n",
       "    <tr>\n",
       "      <th>2</th>\n",
       "      <td>False</td>\n",
       "      <td>False</td>\n",
       "      <td>False</td>\n",
       "      <td>False</td>\n",
       "      <td>False</td>\n",
       "      <td>False</td>\n",
       "      <td>False</td>\n",
       "      <td>False</td>\n",
       "      <td>False</td>\n",
       "      <td>False</td>\n",
       "      <td>...</td>\n",
       "      <td>False</td>\n",
       "      <td>False</td>\n",
       "      <td>False</td>\n",
       "      <td>False</td>\n",
       "      <td>False</td>\n",
       "      <td>False</td>\n",
       "      <td>False</td>\n",
       "      <td>False</td>\n",
       "      <td>False</td>\n",
       "      <td>True</td>\n",
       "    </tr>\n",
       "    <tr>\n",
       "      <th>3</th>\n",
       "      <td>False</td>\n",
       "      <td>False</td>\n",
       "      <td>True</td>\n",
       "      <td>False</td>\n",
       "      <td>False</td>\n",
       "      <td>False</td>\n",
       "      <td>False</td>\n",
       "      <td>False</td>\n",
       "      <td>False</td>\n",
       "      <td>False</td>\n",
       "      <td>...</td>\n",
       "      <td>False</td>\n",
       "      <td>False</td>\n",
       "      <td>False</td>\n",
       "      <td>False</td>\n",
       "      <td>False</td>\n",
       "      <td>False</td>\n",
       "      <td>False</td>\n",
       "      <td>False</td>\n",
       "      <td>False</td>\n",
       "      <td>True</td>\n",
       "    </tr>\n",
       "    <tr>\n",
       "      <th>4</th>\n",
       "      <td>False</td>\n",
       "      <td>False</td>\n",
       "      <td>False</td>\n",
       "      <td>False</td>\n",
       "      <td>False</td>\n",
       "      <td>False</td>\n",
       "      <td>False</td>\n",
       "      <td>False</td>\n",
       "      <td>False</td>\n",
       "      <td>False</td>\n",
       "      <td>...</td>\n",
       "      <td>False</td>\n",
       "      <td>False</td>\n",
       "      <td>False</td>\n",
       "      <td>False</td>\n",
       "      <td>False</td>\n",
       "      <td>False</td>\n",
       "      <td>False</td>\n",
       "      <td>False</td>\n",
       "      <td>False</td>\n",
       "      <td>True</td>\n",
       "    </tr>\n",
       "  </tbody>\n",
       "</table>\n",
       "<p>5 rows × 61 columns</p>\n",
       "</div>"
      ],
      "text/plain": [
       "       0      1      2      3      4      5      6      7      8      9  ...  \\\n",
       "0  False  False  False  False  False  False  False  False   True  False  ...   \n",
       "1  False  False  False  False  False  False  False  False  False  False  ...   \n",
       "2  False  False  False  False  False  False  False  False  False  False  ...   \n",
       "3  False  False   True  False  False  False  False  False  False  False  ...   \n",
       "4  False  False  False  False  False  False  False  False  False  False  ...   \n",
       "\n",
       "      51     52     53     54     55     56     57     58     59  correct  \n",
       "0  False  False  False  False  False  False  False  False  False     True  \n",
       "1  False  False  False  False  False  False  False  False  False    False  \n",
       "2  False  False  False  False  False  False  False  False  False     True  \n",
       "3  False  False  False  False  False  False  False  False  False     True  \n",
       "4  False  False  False  False  False  False  False  False  False     True  \n",
       "\n",
       "[5 rows x 61 columns]"
      ]
     },
     "execution_count": 37,
     "metadata": {},
     "output_type": "execute_result"
    }
   ],
   "source": [
    "nrows = 100_000 # set nrows to number of simulations\n",
    "ncols = 60    # set ncolumns to number of dice rolled in each simulation\n",
    "\n",
    "# create an array with nrows by ncols dataframe for the simulation\n",
    "rolls = np.random.choice([True, False], nrows * ncols, p=[.01,.99]).reshape(nrows, ncols) \n",
    "\n",
    "# convert to data frame\n",
    "df = pd.DataFrame(rolls)\n",
    "\n",
    "df[\"correct\"] = df.sum(axis=1) > 0\n",
    "df.head()"
   ]
  },
  {
   "cell_type": "code",
   "execution_count": 38,
   "id": "enhanced-steering",
   "metadata": {},
   "outputs": [
    {
     "data": {
      "text/plain": [
       "0.45389"
      ]
     },
     "execution_count": 38,
     "metadata": {},
     "output_type": "execute_result"
    }
   ],
   "source": [
    "df[\"correct\"].mean()"
   ]
  },
  {
   "cell_type": "markdown",
   "id": "incorporated-income",
   "metadata": {},
   "source": [
    "### 5) The codeup staff tends to get upset when the student break area is not cleaned up. Suppose that there's a 3% chance that any one student cleans the break area when they visit it, and, on any given day, about 90% of the 3 active cohorts of 22 students visit the break area. "
   ]
  },
  {
   "cell_type": "markdown",
   "id": "polar-customer",
   "metadata": {},
   "source": [
    "### How likely is it that the break area gets cleaned up each day? "
   ]
  },
  {
   "cell_type": "code",
   "execution_count": 39,
   "id": "alien-nursing",
   "metadata": {},
   "outputs": [
    {
     "data": {
      "text/plain": [
       "0.8342199288437355"
      ]
     },
     "execution_count": 39,
     "metadata": {},
     "output_type": "execute_result"
    }
   ],
   "source": [
    "prob_success = .03\n",
    "n_trials = (22 * 3) * .9\n",
    "\n",
    "desired_successes = 1\n",
    "\n",
    "stats.binom(n_trials, prob_success).sf(desired_successes-1)"
   ]
  },
  {
   "cell_type": "markdown",
   "id": "mysterious-language",
   "metadata": {},
   "source": [
    "### Simmulation"
   ]
  },
  {
   "cell_type": "code",
   "execution_count": 40,
   "id": "short-charm",
   "metadata": {},
   "outputs": [
    {
     "data": {
      "text/html": [
       "<div>\n",
       "<style scoped>\n",
       "    .dataframe tbody tr th:only-of-type {\n",
       "        vertical-align: middle;\n",
       "    }\n",
       "\n",
       "    .dataframe tbody tr th {\n",
       "        vertical-align: top;\n",
       "    }\n",
       "\n",
       "    .dataframe thead th {\n",
       "        text-align: right;\n",
       "    }\n",
       "</style>\n",
       "<table border=\"1\" class=\"dataframe\">\n",
       "  <thead>\n",
       "    <tr style=\"text-align: right;\">\n",
       "      <th></th>\n",
       "      <th>0</th>\n",
       "      <th>Clean</th>\n",
       "    </tr>\n",
       "  </thead>\n",
       "  <tbody>\n",
       "    <tr>\n",
       "      <th>0</th>\n",
       "      <td>1</td>\n",
       "      <td>True</td>\n",
       "    </tr>\n",
       "    <tr>\n",
       "      <th>1</th>\n",
       "      <td>1</td>\n",
       "      <td>True</td>\n",
       "    </tr>\n",
       "    <tr>\n",
       "      <th>2</th>\n",
       "      <td>3</td>\n",
       "      <td>True</td>\n",
       "    </tr>\n",
       "    <tr>\n",
       "      <th>3</th>\n",
       "      <td>1</td>\n",
       "      <td>True</td>\n",
       "    </tr>\n",
       "    <tr>\n",
       "      <th>4</th>\n",
       "      <td>1</td>\n",
       "      <td>True</td>\n",
       "    </tr>\n",
       "  </tbody>\n",
       "</table>\n",
       "</div>"
      ],
      "text/plain": [
       "   0  Clean\n",
       "0  1   True\n",
       "1  1   True\n",
       "2  3   True\n",
       "3  1   True\n",
       "4  1   True"
      ]
     },
     "execution_count": 40,
     "metadata": {},
     "output_type": "execute_result"
    }
   ],
   "source": [
    "nrows = 100_000 # set nrows to number of simulations\n",
    "ncols = 1    # set ncolumns to number of dice rolled in each simulation\n",
    "\n",
    "# create an array with nrows by ncols dataframe for the simulation\n",
    "rolls = np.random.binomial(n_trials, prob_success, nrows * ncols).reshape(nrows, ncols) \n",
    "\n",
    "# convert to data frame\n",
    "df = pd.DataFrame(rolls)\n",
    "\n",
    "df[\"Clean\"] = df.sum(axis=1) > 0\n",
    "df.head()"
   ]
  },
  {
   "cell_type": "code",
   "execution_count": 41,
   "id": "significant-visibility",
   "metadata": {},
   "outputs": [
    {
     "data": {
      "text/plain": [
       "0.83441"
      ]
     },
     "execution_count": 41,
     "metadata": {},
     "output_type": "execute_result"
    }
   ],
   "source": [
    "df[\"Clean\"].mean()"
   ]
  },
  {
   "cell_type": "markdown",
   "id": "proud-reason",
   "metadata": {},
   "source": [
    "### How likely is it that it goes two days without getting cleaned up? "
   ]
  },
  {
   "cell_type": "code",
   "execution_count": 42,
   "id": "focal-bruce",
   "metadata": {},
   "outputs": [
    {
     "data": {
      "text/plain": [
       "0.16578007115626447"
      ]
     },
     "execution_count": 42,
     "metadata": {},
     "output_type": "execute_result"
    }
   ],
   "source": [
    "# one day without cleaning\n",
    "\n",
    "1-stats.binom(n_trials, prob_success).sf(desired_successes-1)"
   ]
  },
  {
   "cell_type": "code",
   "execution_count": 43,
   "id": "married-crazy",
   "metadata": {},
   "outputs": [
    {
     "data": {
      "text/plain": [
       "0.027483031992576113"
      ]
     },
     "execution_count": 43,
     "metadata": {},
     "output_type": "execute_result"
    }
   ],
   "source": [
    "# odds of not being cleaned for two days in a row\n",
    "\n",
    "(1-stats.binom(n_trials, prob_success).sf(desired_successes-1))**2"
   ]
  },
  {
   "cell_type": "markdown",
   "id": "behavioral-toddler",
   "metadata": {},
   "source": [
    "### Simulation"
   ]
  },
  {
   "cell_type": "code",
   "execution_count": 44,
   "id": "engaged-flesh",
   "metadata": {},
   "outputs": [
    {
     "data": {
      "text/html": [
       "<div>\n",
       "<style scoped>\n",
       "    .dataframe tbody tr th:only-of-type {\n",
       "        vertical-align: middle;\n",
       "    }\n",
       "\n",
       "    .dataframe tbody tr th {\n",
       "        vertical-align: top;\n",
       "    }\n",
       "\n",
       "    .dataframe thead th {\n",
       "        text-align: right;\n",
       "    }\n",
       "</style>\n",
       "<table border=\"1\" class=\"dataframe\">\n",
       "  <thead>\n",
       "    <tr style=\"text-align: right;\">\n",
       "      <th></th>\n",
       "      <th>0</th>\n",
       "      <th>1</th>\n",
       "      <th>dirty</th>\n",
       "    </tr>\n",
       "  </thead>\n",
       "  <tbody>\n",
       "    <tr>\n",
       "      <th>0</th>\n",
       "      <td>0</td>\n",
       "      <td>1</td>\n",
       "      <td>False</td>\n",
       "    </tr>\n",
       "    <tr>\n",
       "      <th>1</th>\n",
       "      <td>1</td>\n",
       "      <td>2</td>\n",
       "      <td>False</td>\n",
       "    </tr>\n",
       "    <tr>\n",
       "      <th>2</th>\n",
       "      <td>1</td>\n",
       "      <td>3</td>\n",
       "      <td>False</td>\n",
       "    </tr>\n",
       "    <tr>\n",
       "      <th>3</th>\n",
       "      <td>0</td>\n",
       "      <td>6</td>\n",
       "      <td>False</td>\n",
       "    </tr>\n",
       "    <tr>\n",
       "      <th>4</th>\n",
       "      <td>1</td>\n",
       "      <td>1</td>\n",
       "      <td>False</td>\n",
       "    </tr>\n",
       "  </tbody>\n",
       "</table>\n",
       "</div>"
      ],
      "text/plain": [
       "   0  1  dirty\n",
       "0  0  1  False\n",
       "1  1  2  False\n",
       "2  1  3  False\n",
       "3  0  6  False\n",
       "4  1  1  False"
      ]
     },
     "execution_count": 44,
     "metadata": {},
     "output_type": "execute_result"
    }
   ],
   "source": [
    "nrows = 100_000 # set nrows to number of simulations\n",
    "ncols = 2    # set ncolumns to number of dice rolled in each simulation\n",
    "\n",
    "# create an array with nrows by ncols dataframe for the simulation\n",
    "rolls = np.random.binomial(n_trials, prob_success, nrows * ncols).reshape(nrows, ncols) \n",
    "\n",
    "# convert to data frame\n",
    "df = pd.DataFrame(rolls)\n",
    "\n",
    "df[\"dirty\"] = df.sum(axis=1) == 0\n",
    "df.head()"
   ]
  },
  {
   "cell_type": "code",
   "execution_count": 45,
   "id": "integral-calibration",
   "metadata": {},
   "outputs": [
    {
     "data": {
      "text/plain": [
       "0.02745"
      ]
     },
     "execution_count": 45,
     "metadata": {},
     "output_type": "execute_result"
    }
   ],
   "source": [
    "df[\"dirty\"].mean()"
   ]
  },
  {
   "cell_type": "markdown",
   "id": "bacterial-hello",
   "metadata": {},
   "source": [
    "### All week?"
   ]
  },
  {
   "cell_type": "code",
   "execution_count": 46,
   "id": "flying-qatar",
   "metadata": {},
   "outputs": [
    {
     "data": {
      "text/plain": [
       "0.0001252165138809122"
      ]
     },
     "execution_count": 46,
     "metadata": {},
     "output_type": "execute_result"
    }
   ],
   "source": [
    "(1-stats.binom(n_trials, prob_success).sf(desired_successes-1))**5"
   ]
  },
  {
   "cell_type": "markdown",
   "id": "spectacular-bargain",
   "metadata": {},
   "source": [
    "### Simmulation"
   ]
  },
  {
   "cell_type": "code",
   "execution_count": 47,
   "id": "under-instrument",
   "metadata": {},
   "outputs": [
    {
     "data": {
      "text/html": [
       "<div>\n",
       "<style scoped>\n",
       "    .dataframe tbody tr th:only-of-type {\n",
       "        vertical-align: middle;\n",
       "    }\n",
       "\n",
       "    .dataframe tbody tr th {\n",
       "        vertical-align: top;\n",
       "    }\n",
       "\n",
       "    .dataframe thead th {\n",
       "        text-align: right;\n",
       "    }\n",
       "</style>\n",
       "<table border=\"1\" class=\"dataframe\">\n",
       "  <thead>\n",
       "    <tr style=\"text-align: right;\">\n",
       "      <th></th>\n",
       "      <th>0</th>\n",
       "      <th>1</th>\n",
       "      <th>2</th>\n",
       "      <th>3</th>\n",
       "      <th>4</th>\n",
       "      <th>dirty</th>\n",
       "    </tr>\n",
       "  </thead>\n",
       "  <tbody>\n",
       "    <tr>\n",
       "      <th>0</th>\n",
       "      <td>1</td>\n",
       "      <td>1</td>\n",
       "      <td>1</td>\n",
       "      <td>1</td>\n",
       "      <td>1</td>\n",
       "      <td>False</td>\n",
       "    </tr>\n",
       "    <tr>\n",
       "      <th>1</th>\n",
       "      <td>3</td>\n",
       "      <td>1</td>\n",
       "      <td>0</td>\n",
       "      <td>3</td>\n",
       "      <td>0</td>\n",
       "      <td>False</td>\n",
       "    </tr>\n",
       "    <tr>\n",
       "      <th>2</th>\n",
       "      <td>1</td>\n",
       "      <td>1</td>\n",
       "      <td>2</td>\n",
       "      <td>1</td>\n",
       "      <td>3</td>\n",
       "      <td>False</td>\n",
       "    </tr>\n",
       "    <tr>\n",
       "      <th>3</th>\n",
       "      <td>3</td>\n",
       "      <td>3</td>\n",
       "      <td>1</td>\n",
       "      <td>3</td>\n",
       "      <td>1</td>\n",
       "      <td>False</td>\n",
       "    </tr>\n",
       "    <tr>\n",
       "      <th>4</th>\n",
       "      <td>1</td>\n",
       "      <td>1</td>\n",
       "      <td>1</td>\n",
       "      <td>5</td>\n",
       "      <td>6</td>\n",
       "      <td>False</td>\n",
       "    </tr>\n",
       "  </tbody>\n",
       "</table>\n",
       "</div>"
      ],
      "text/plain": [
       "   0  1  2  3  4  dirty\n",
       "0  1  1  1  1  1  False\n",
       "1  3  1  0  3  0  False\n",
       "2  1  1  2  1  3  False\n",
       "3  3  3  1  3  1  False\n",
       "4  1  1  1  5  6  False"
      ]
     },
     "execution_count": 47,
     "metadata": {},
     "output_type": "execute_result"
    }
   ],
   "source": [
    "nrows = 100_000 # set nrows to number of simulations\n",
    "ncols = 5    # set ncolumns to number of dice rolled in each simulation\n",
    "\n",
    "# create an array with nrows by ncols dataframe for the simulation\n",
    "rolls = np.random.binomial(n_trials, prob_success, nrows * ncols).reshape(nrows, ncols) \n",
    "\n",
    "# convert to data frame\n",
    "df = pd.DataFrame(rolls)\n",
    "\n",
    "df[\"dirty\"] = df.sum(axis=1) == 0\n",
    "df.head()"
   ]
  },
  {
   "cell_type": "code",
   "execution_count": 48,
   "id": "short-master",
   "metadata": {},
   "outputs": [
    {
     "data": {
      "text/plain": [
       "0.0001"
      ]
     },
     "execution_count": 48,
     "metadata": {},
     "output_type": "execute_result"
    }
   ],
   "source": [
    "df[\"dirty\"].mean()"
   ]
  },
  {
   "cell_type": "markdown",
   "id": "satellite-personality",
   "metadata": {},
   "source": [
    "### 6) You want to get lunch at La Panaderia, but notice that the line is usually very long at lunchtime. After several weeks of careful observation, you notice that the number of people in line when your lunch break starts is normally distributed with a mean of 15 and standard deviation of 3. If it takes 2 minutes for each person to order, and 10 minutes from ordering to getting your food, what is the likelihood that you have at least 15 minutes left to eat your food before you have to go back to class? Assume you have one hour for lunch, and ignore travel time to and from La Panaderia."
   ]
  },
  {
   "cell_type": "code",
   "execution_count": 49,
   "id": "small-rocket",
   "metadata": {},
   "outputs": [],
   "source": [
    "# get information from the problem\n",
    "# normal distribution\n",
    "mean_customers_in_line = 15\n",
    "sd_customers_in_line = 3\n",
    "\n",
    "time_per_order = 2\n",
    "\n",
    "time_to_get_food = 10\n",
    "time_to_eat_food = 15\n",
    "\n",
    "total_time = 60"
   ]
  },
  {
   "cell_type": "code",
   "execution_count": 50,
   "id": "digital-individual",
   "metadata": {},
   "outputs": [
    {
     "data": {
      "text/plain": [
       "35"
      ]
     },
     "execution_count": 50,
     "metadata": {},
     "output_type": "execute_result"
    }
   ],
   "source": [
    "# get time I can spend in line\n",
    "max_time_in_line = total_time - time_to_get_food - time_to_eat_food\n",
    "max_time_in_line"
   ]
  },
  {
   "cell_type": "code",
   "execution_count": 51,
   "id": "difficult-progress",
   "metadata": {},
   "outputs": [
    {
     "data": {
      "text/plain": [
       "17.5"
      ]
     },
     "execution_count": 51,
     "metadata": {},
     "output_type": "execute_result"
    }
   ],
   "source": [
    "# calculate total number of customers I can wait for in that time\n",
    "max_customers_in_line = max_time_in_line / time_per_order\n",
    "max_customers_in_line"
   ]
  },
  {
   "cell_type": "code",
   "execution_count": 52,
   "id": "wicked-immune",
   "metadata": {},
   "outputs": [
    {
     "data": {
      "text/plain": [
       "0.7976716190363569"
      ]
     },
     "execution_count": 52,
     "metadata": {},
     "output_type": "execute_result"
    }
   ],
   "source": [
    "# get odds of max_customers_in_line or less customers\n",
    "stats.norm(mean_customers_in_line, sd_customers_in_line).cdf(max_customers_in_line)"
   ]
  },
  {
   "cell_type": "markdown",
   "id": "burning-morgan",
   "metadata": {},
   "source": [
    "### Simulation"
   ]
  },
  {
   "cell_type": "code",
   "execution_count": 53,
   "id": "suspended-helena",
   "metadata": {},
   "outputs": [
    {
     "data": {
      "text/html": [
       "<div>\n",
       "<style scoped>\n",
       "    .dataframe tbody tr th:only-of-type {\n",
       "        vertical-align: middle;\n",
       "    }\n",
       "\n",
       "    .dataframe tbody tr th {\n",
       "        vertical-align: top;\n",
       "    }\n",
       "\n",
       "    .dataframe thead th {\n",
       "        text-align: right;\n",
       "    }\n",
       "</style>\n",
       "<table border=\"1\" class=\"dataframe\">\n",
       "  <thead>\n",
       "    <tr style=\"text-align: right;\">\n",
       "      <th></th>\n",
       "      <th>0</th>\n",
       "      <th>can_wait</th>\n",
       "    </tr>\n",
       "  </thead>\n",
       "  <tbody>\n",
       "    <tr>\n",
       "      <th>0</th>\n",
       "      <td>8.611871</td>\n",
       "      <td>True</td>\n",
       "    </tr>\n",
       "    <tr>\n",
       "      <th>1</th>\n",
       "      <td>13.590390</td>\n",
       "      <td>True</td>\n",
       "    </tr>\n",
       "    <tr>\n",
       "      <th>2</th>\n",
       "      <td>11.072505</td>\n",
       "      <td>True</td>\n",
       "    </tr>\n",
       "    <tr>\n",
       "      <th>3</th>\n",
       "      <td>19.270677</td>\n",
       "      <td>False</td>\n",
       "    </tr>\n",
       "    <tr>\n",
       "      <th>4</th>\n",
       "      <td>14.175508</td>\n",
       "      <td>True</td>\n",
       "    </tr>\n",
       "  </tbody>\n",
       "</table>\n",
       "</div>"
      ],
      "text/plain": [
       "           0  can_wait\n",
       "0   8.611871      True\n",
       "1  13.590390      True\n",
       "2  11.072505      True\n",
       "3  19.270677     False\n",
       "4  14.175508      True"
      ]
     },
     "execution_count": 53,
     "metadata": {},
     "output_type": "execute_result"
    }
   ],
   "source": [
    "nrows = 100_000 # set nrows to number of simulations\n",
    "ncols = 1       # set ncolumns to number of dice rolled in each simulation\n",
    "\n",
    "# create an array with nrows by ncols dataframe for the simulation\n",
    "rolls = np.random.normal(mean_customers_in_line, sd_customers_in_line, nrows * ncols).reshape(nrows, ncols) \n",
    "\n",
    "# convert to data frame\n",
    "df = pd.DataFrame(rolls)\n",
    "\n",
    "df[\"can_wait\"] = df.sum(axis=1) <= 17.5\n",
    "df.head()"
   ]
  },
  {
   "cell_type": "code",
   "execution_count": 54,
   "id": "proved-lesbian",
   "metadata": {},
   "outputs": [
    {
     "data": {
      "text/plain": [
       "0.7976"
      ]
     },
     "execution_count": 54,
     "metadata": {},
     "output_type": "execute_result"
    }
   ],
   "source": [
    "df[\"can_wait\"].mean()"
   ]
  },
  {
   "cell_type": "markdown",
   "id": "internal-jimmy",
   "metadata": {},
   "source": [
    "### 7) Connect to the employees database and find the average salary of current employees, along with the standard deviation. For the following questions, calculate the answer based on modeling the employees salaries with a normal distribution defined by the calculated mean and standard deviation then compare this answer to the actual values present in the salaries dataset."
   ]
  },
  {
   "cell_type": "code",
   "execution_count": 55,
   "id": "national-sender",
   "metadata": {},
   "outputs": [],
   "source": [
    "def get_data_from_sql(user, host, password, database, query):\n",
    "    '''\n",
    "    take in user, host, password, \n",
    "    database and query\n",
    "    Access sql database\n",
    "    return a pandas dataframe of the query results   \n",
    "    '''\n",
    "    \n",
    "    url = f'mysql+pymysql://{user}:{password}@{host}/{database}'\n",
    "        \n",
    "    return pd.read_sql(query, url)"
   ]
  },
  {
   "cell_type": "code",
   "execution_count": 56,
   "id": "innocent-oriental",
   "metadata": {},
   "outputs": [],
   "source": [
    "database = 'employees'\n",
    "\n",
    "query = \"\"\"\n",
    "\n",
    "SELECT salary\n",
    "FROM salaries\n",
    "\n",
    "where salaries.to_date = \"9999-01-01\"\n",
    "\n",
    "\"\"\"\n",
    "\n",
    "df = get_data_from_sql(user, host, password, database, query)"
   ]
  },
  {
   "cell_type": "code",
   "execution_count": 57,
   "id": "perceived-alaska",
   "metadata": {},
   "outputs": [
    {
     "data": {
      "text/html": [
       "<div>\n",
       "<style scoped>\n",
       "    .dataframe tbody tr th:only-of-type {\n",
       "        vertical-align: middle;\n",
       "    }\n",
       "\n",
       "    .dataframe tbody tr th {\n",
       "        vertical-align: top;\n",
       "    }\n",
       "\n",
       "    .dataframe thead th {\n",
       "        text-align: right;\n",
       "    }\n",
       "</style>\n",
       "<table border=\"1\" class=\"dataframe\">\n",
       "  <thead>\n",
       "    <tr style=\"text-align: right;\">\n",
       "      <th></th>\n",
       "      <th>salary</th>\n",
       "    </tr>\n",
       "  </thead>\n",
       "  <tbody>\n",
       "    <tr>\n",
       "      <th>0</th>\n",
       "      <td>88958</td>\n",
       "    </tr>\n",
       "    <tr>\n",
       "      <th>1</th>\n",
       "      <td>72527</td>\n",
       "    </tr>\n",
       "    <tr>\n",
       "      <th>2</th>\n",
       "      <td>43311</td>\n",
       "    </tr>\n",
       "    <tr>\n",
       "      <th>3</th>\n",
       "      <td>74057</td>\n",
       "    </tr>\n",
       "    <tr>\n",
       "      <th>4</th>\n",
       "      <td>94692</td>\n",
       "    </tr>\n",
       "  </tbody>\n",
       "</table>\n",
       "</div>"
      ],
      "text/plain": [
       "   salary\n",
       "0   88958\n",
       "1   72527\n",
       "2   43311\n",
       "3   74057\n",
       "4   94692"
      ]
     },
     "execution_count": 57,
     "metadata": {},
     "output_type": "execute_result"
    }
   ],
   "source": [
    "df.head()"
   ]
  },
  {
   "cell_type": "code",
   "execution_count": 58,
   "id": "directed-child",
   "metadata": {},
   "outputs": [
    {
     "data": {
      "image/png": "[encoded data removed]",
      "text/plain": [
       "<Figure size 432x288 with 1 Axes>"
      ]
     },
     "metadata": {
      "needs_background": "light"
     },
     "output_type": "display_data"
    }
   ],
   "source": [
    "df.salary.hist(bins=20)\n",
    "plt.title(\"The Distribution of Employee Salaries is Actually Pretty Normal\")\n",
    "plt.show()"
   ]
  },
  {
   "cell_type": "code",
   "execution_count": 59,
   "id": "gentle-composer",
   "metadata": {},
   "outputs": [
    {
     "data": {
      "text/html": [
       "<div>\n",
       "<style scoped>\n",
       "    .dataframe tbody tr th:only-of-type {\n",
       "        vertical-align: middle;\n",
       "    }\n",
       "\n",
       "    .dataframe tbody tr th {\n",
       "        vertical-align: top;\n",
       "    }\n",
       "\n",
       "    .dataframe thead th {\n",
       "        text-align: right;\n",
       "    }\n",
       "</style>\n",
       "<table border=\"1\" class=\"dataframe\">\n",
       "  <thead>\n",
       "    <tr style=\"text-align: right;\">\n",
       "      <th></th>\n",
       "      <th>salary</th>\n",
       "    </tr>\n",
       "  </thead>\n",
       "  <tbody>\n",
       "    <tr>\n",
       "      <th>count</th>\n",
       "      <td>240124.000000</td>\n",
       "    </tr>\n",
       "    <tr>\n",
       "      <th>mean</th>\n",
       "      <td>72012.235857</td>\n",
       "    </tr>\n",
       "    <tr>\n",
       "      <th>std</th>\n",
       "      <td>17309.995380</td>\n",
       "    </tr>\n",
       "    <tr>\n",
       "      <th>min</th>\n",
       "      <td>38623.000000</td>\n",
       "    </tr>\n",
       "    <tr>\n",
       "      <th>25%</th>\n",
       "      <td>59048.750000</td>\n",
       "    </tr>\n",
       "    <tr>\n",
       "      <th>50%</th>\n",
       "      <td>69805.000000</td>\n",
       "    </tr>\n",
       "    <tr>\n",
       "      <th>75%</th>\n",
       "      <td>82546.000000</td>\n",
       "    </tr>\n",
       "    <tr>\n",
       "      <th>max</th>\n",
       "      <td>158220.000000</td>\n",
       "    </tr>\n",
       "  </tbody>\n",
       "</table>\n",
       "</div>"
      ],
      "text/plain": [
       "              salary\n",
       "count  240124.000000\n",
       "mean    72012.235857\n",
       "std     17309.995380\n",
       "min     38623.000000\n",
       "25%     59048.750000\n",
       "50%     69805.000000\n",
       "75%     82546.000000\n",
       "max    158220.000000"
      ]
     },
     "execution_count": 59,
     "metadata": {},
     "output_type": "execute_result"
    }
   ],
   "source": [
    "df.describe()"
   ]
  },
  {
   "cell_type": "markdown",
   "id": "excessive-incident",
   "metadata": {},
   "source": [
    "### Average Salary"
   ]
  },
  {
   "cell_type": "code",
   "execution_count": 60,
   "id": "aggregate-accountability",
   "metadata": {},
   "outputs": [
    {
     "data": {
      "text/plain": [
       "72012.0"
      ]
     },
     "execution_count": 60,
     "metadata": {},
     "output_type": "execute_result"
    }
   ],
   "source": [
    "mean_salary = round(df.salary.mean(),0)\n",
    "mean_salary"
   ]
  },
  {
   "cell_type": "markdown",
   "id": "worse-sucking",
   "metadata": {},
   "source": [
    "### Standard Deviation"
   ]
  },
  {
   "cell_type": "code",
   "execution_count": 61,
   "id": "confused-substance",
   "metadata": {},
   "outputs": [
    {
     "data": {
      "text/plain": [
       "17310.0"
      ]
     },
     "execution_count": 61,
     "metadata": {},
     "output_type": "execute_result"
    }
   ],
   "source": [
    "sd_salary = round(df.salary.agg(np.std),0)\n",
    "sd_salary"
   ]
  },
  {
   "cell_type": "markdown",
   "id": "weekly-timber",
   "metadata": {},
   "source": [
    "### a) What percent of employees earn less than 60,000?"
   ]
  },
  {
   "cell_type": "code",
   "execution_count": 62,
   "id": "shaped-wayne",
   "metadata": {},
   "outputs": [
    {
     "data": {
      "text/plain": [
       "0.2438617554963023"
      ]
     },
     "execution_count": 62,
     "metadata": {},
     "output_type": "execute_result"
    }
   ],
   "source": [
    "stats.norm(mean_salary, sd_salary).cdf(60_000)"
   ]
  },
  {
   "cell_type": "code",
   "execution_count": 63,
   "id": "occasional-respondent",
   "metadata": {},
   "outputs": [
    {
     "data": {
      "text/plain": [
       "0.2705727041028802"
      ]
     },
     "execution_count": 63,
     "metadata": {},
     "output_type": "execute_result"
    }
   ],
   "source": [
    "len(df[df.salary < 60_000]) / len(df)"
   ]
  },
  {
   "cell_type": "markdown",
   "id": "aboriginal-cartridge",
   "metadata": {},
   "source": [
    "### b) What percent of employees earn more than 95,000?"
   ]
  },
  {
   "cell_type": "code",
   "execution_count": 64,
   "id": "sixth-struggle",
   "metadata": {},
   "outputs": [
    {
     "data": {
      "text/plain": [
       "0.09208599994106093"
      ]
     },
     "execution_count": 64,
     "metadata": {},
     "output_type": "execute_result"
    }
   ],
   "source": [
    "stats.norm(mean_salary, sd_salary).sf(95_000)"
   ]
  },
  {
   "cell_type": "code",
   "execution_count": 65,
   "id": "suspended-invite",
   "metadata": {},
   "outputs": [
    {
     "data": {
      "text/plain": [
       "0.1086272092752078"
      ]
     },
     "execution_count": 65,
     "metadata": {},
     "output_type": "execute_result"
    }
   ],
   "source": [
    "len(df[df.salary > 95_000]) / len(df)"
   ]
  },
  {
   "cell_type": "markdown",
   "id": "transsexual-machinery",
   "metadata": {},
   "source": [
    "### c) What percent of employees earn between 65,000 and 80,000?"
   ]
  },
  {
   "cell_type": "code",
   "execution_count": 66,
   "id": "violent-globe",
   "metadata": {},
   "outputs": [
    {
     "data": {
      "text/plain": [
       "0.34270796927478153"
      ]
     },
     "execution_count": 66,
     "metadata": {},
     "output_type": "execute_result"
    }
   ],
   "source": [
    "# percent of employees making 65,000 or more\n",
    "\n",
    "stats.norm(mean_salary, sd_salary).cdf(65_000)"
   ]
  },
  {
   "cell_type": "code",
   "execution_count": 67,
   "id": "injured-combining",
   "metadata": {},
   "outputs": [
    {
     "data": {
      "text/plain": [
       "0.6777683330941655"
      ]
     },
     "execution_count": 67,
     "metadata": {},
     "output_type": "execute_result"
    }
   ],
   "source": [
    "# percent of employees making 80,000 or less\n",
    "stats.norm(mean_salary, sd_salary).cdf(80_000)"
   ]
  },
  {
   "cell_type": "code",
   "execution_count": 72,
   "id": "given-revelation",
   "metadata": {},
   "outputs": [
    {
     "data": {
      "text/plain": [
       "0.335060363819384"
      ]
     },
     "execution_count": 72,
     "metadata": {},
     "output_type": "execute_result"
    }
   ],
   "source": [
    "# subtract the percent of employees making 65,000 from the percent of employees making 80,000 or less\n",
    "# to get the percent of people making between 65,000 and 80,000\n",
    "stats.norm(mean_salary, sd_salary).cdf(80_000) - stats.norm(mean_salary, sd_salary).cdf(65_000)"
   ]
  },
  {
   "cell_type": "markdown",
   "id": "measured-contributor",
   "metadata": {},
   "source": [
    "### Simulation"
   ]
  },
  {
   "cell_type": "code",
   "execution_count": 69,
   "id": "bibliographic-courtesy",
   "metadata": {},
   "outputs": [
    {
     "data": {
      "text/plain": [
       "0.38421815395379055"
      ]
     },
     "execution_count": 69,
     "metadata": {},
     "output_type": "execute_result"
    }
   ],
   "source": [
    "len(df[df.salary < 65_000]) / len(df)"
   ]
  },
  {
   "cell_type": "code",
   "execution_count": 70,
   "id": "bound-connection",
   "metadata": {},
   "outputs": [
    {
     "data": {
      "text/plain": [
       "0.7093626626243108"
      ]
     },
     "execution_count": 70,
     "metadata": {},
     "output_type": "execute_result"
    }
   ],
   "source": [
    "len(df[df.salary < 80_000]) / len(df)"
   ]
  },
  {
   "cell_type": "code",
   "execution_count": 71,
   "id": "comic-lucas",
   "metadata": {},
   "outputs": [
    {
     "data": {
      "text/plain": [
       "0.32514450867052025"
      ]
     },
     "execution_count": 71,
     "metadata": {},
     "output_type": "execute_result"
    }
   ],
   "source": [
    "(len(df[df.salary < 80_000]) / len(df)) - (len(df[df.salary < 65_000]) / len(df))"
   ]
  },
  {
   "cell_type": "markdown",
   "id": "accredited-integration",
   "metadata": {},
   "source": [
    "### d) What do the top 5% of employees make?"
   ]
  },
  {
   "cell_type": "code",
   "execution_count": 73,
   "id": "injured-camping",
   "metadata": {},
   "outputs": [
    {
     "data": {
      "text/plain": [
       "100484.41628253"
      ]
     },
     "execution_count": 73,
     "metadata": {},
     "output_type": "execute_result"
    }
   ],
   "source": [
    "stats.norm(mean_salary, sd_salary).isf(.05)"
   ]
  },
  {
   "cell_type": "markdown",
   "id": "banned-mandate",
   "metadata": {},
   "source": [
    "### Simulation"
   ]
  },
  {
   "cell_type": "code",
   "execution_count": 75,
   "id": "democratic-anger",
   "metadata": {},
   "outputs": [
    {
     "data": {
      "text/html": [
       "<div>\n",
       "<style scoped>\n",
       "    .dataframe tbody tr th:only-of-type {\n",
       "        vertical-align: middle;\n",
       "    }\n",
       "\n",
       "    .dataframe tbody tr th {\n",
       "        vertical-align: top;\n",
       "    }\n",
       "\n",
       "    .dataframe thead th {\n",
       "        text-align: right;\n",
       "    }\n",
       "</style>\n",
       "<table border=\"1\" class=\"dataframe\">\n",
       "  <thead>\n",
       "    <tr style=\"text-align: right;\">\n",
       "      <th></th>\n",
       "      <th>salary</th>\n",
       "      <th>rank</th>\n",
       "    </tr>\n",
       "  </thead>\n",
       "  <tbody>\n",
       "    <tr>\n",
       "      <th>55</th>\n",
       "      <td>113229</td>\n",
       "      <td>19</td>\n",
       "    </tr>\n",
       "    <tr>\n",
       "      <th>119</th>\n",
       "      <td>109501</td>\n",
       "      <td>19</td>\n",
       "    </tr>\n",
       "    <tr>\n",
       "      <th>138</th>\n",
       "      <td>109964</td>\n",
       "      <td>19</td>\n",
       "    </tr>\n",
       "    <tr>\n",
       "      <th>148</th>\n",
       "      <td>104747</td>\n",
       "      <td>19</td>\n",
       "    </tr>\n",
       "    <tr>\n",
       "      <th>187</th>\n",
       "      <td>104656</td>\n",
       "      <td>19</td>\n",
       "    </tr>\n",
       "  </tbody>\n",
       "</table>\n",
       "</div>"
      ],
      "text/plain": [
       "     salary  rank\n",
       "55   113229    19\n",
       "119  109501    19\n",
       "138  109964    19\n",
       "148  104747    19\n",
       "187  104656    19"
      ]
     },
     "execution_count": 75,
     "metadata": {},
     "output_type": "execute_result"
    }
   ],
   "source": [
    "# add calculation columns\n",
    "df['rank'] = pd.qcut(df['salary'], q=20, labels=False)\n",
    "\n",
    "df = df[df['rank'] == 19]\n",
    "df.head()"
   ]
  },
  {
   "cell_type": "code",
   "execution_count": 76,
   "id": "continuous-memorial",
   "metadata": {},
   "outputs": [
    {
     "data": {
      "text/plain": [
       "104226"
      ]
     },
     "execution_count": 76,
     "metadata": {},
     "output_type": "execute_result"
    }
   ],
   "source": [
    "df['salary'].min()"
   ]
  },
  {
   "cell_type": "code",
   "execution_count": null,
   "id": "alien-particular",
   "metadata": {},
   "outputs": [],
   "source": []
  }
 ],
 "metadata": {
  "kernelspec": {
   "display_name": "Python 3",
   "language": "python",
   "name": "python3"
  },
  "language_info": {
   "codemirror_mode": {
    "name": "ipython",
    "version": 3
   },
   "file_extension": ".py",
   "mimetype": "text/x-python",
   "name": "python",
   "nbconvert_exporter": "python",
   "pygments_lexer": "ipython3",
   "version": "3.7.4"
  }
 },
 "nbformat": 4,
 "nbformat_minor": 5
}
